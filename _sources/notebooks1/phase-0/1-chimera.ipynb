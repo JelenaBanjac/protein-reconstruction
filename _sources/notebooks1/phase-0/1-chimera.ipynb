{
 "cells": [
  {
   "cell_type": "markdown",
   "metadata": {},
   "source": [
    "## Using Chimera to Create CryoEM Data"
   ]
  },
  {
   "cell_type": "markdown",
   "metadata": {},
   "source": [
    "First, we created faithful Cryo-EM data for the neural networks training (including the imaging parameters that you can play with).\n",
    "This is done by generating these ground truths from scratch.\n",
    "\n",
    "The steps for generating simulation data with [chimera](https://www.cgl.ucsf.edu/chimera/):\n",
    "- **Chimera software:** Download chimera from this [page](https://www.cgl.ucsf.edu/chimera/download.html).\n",
    "- **Protein in PDB:** Find a protein that interests you in the [Protein Data Bank (PDB)](https://www.rcsb.org/) (let's say we take beta-galactosidase, with PDB ID [**5J0N**](https://www.rcsb.org/structure/5A1A)).\n",
    "- **PDB model:** Open chimera and import that protein: File -> Fetch By ID... -> Select PDB and type the PDB ID of the protein -> Fetch. Now you will see the 3D structure of the protein.\n",
    "- **Create reference map from PDB model:** Modify the density of the protein: Tools -> General Controls -> Command Line -> Type: `molmap #0 5` (molmap = is command that generates a density map from the specified atom; # is atom specification, i.e. number assigned to the model by default; 5 = resolution which for us does not have sense to work with resolutions above 15, we will have proteins around 2 or 3 Angstrom).\n",
    "- **Store reference map as MRC**: Save to a file: Tools -> Volume Data -> Volume Viewer -> File -> Save map as... -> Give it the `protein_PDB_ID.mrc`.\n",
    "\n",
    "References for more information:\n",
    "- [Cryo-EM: How to generate an initial reference map from PDB](http://molecularart.dk/2015/10/cryo-em-how-to-generate-an-initial-reference-map-from-pdb/)\n",
    "- [Eduardo's Guide for 3D Printing Proteins](https://munfred.com/proteins.pdf)."
   ]
  },
  {
   "cell_type": "markdown",
   "metadata": {},
   "source": [
    "We will be working mainly on this protein: **5j0n** (asymmetric)."
   ]
  },
  {
   "cell_type": "code",
   "execution_count": 1,
   "metadata": {},
   "outputs": [
    {
     "data": {
      "application/vnd.jupyter.widget-view+json": {
       "model_id": "3da9f065c4c740cda95984081bf90c4b",
       "version_major": 2,
       "version_minor": 0
      },
      "text/plain": []
     },
     "metadata": {},
     "output_type": "display_data"
    }
   ],
   "source": [
    "import nglview as nv"
   ]
  },
  {
   "cell_type": "markdown",
   "metadata": {},
   "source": [
    "### Lambda excision HJ intermediate - `5j0n` (asymmetric)"
   ]
  },
  {
   "cell_type": "markdown",
   "metadata": {},
   "source": [
    "More information on the protein can be found [here](https://www.rcsb.org/structure/5j0n). Following are the atomic model and density map of the protein respectively."
   ]
  },
  {
   "cell_type": "code",
   "execution_count": 2,
   "metadata": {},
   "outputs": [],
   "source": [
    "PROTEIN = \"5j0n\""
   ]
  },
  {
   "cell_type": "code",
   "execution_count": 5,
   "metadata": {},
   "outputs": [
    {
     "data": {
      "application/vnd.jupyter.widget-view+json": {
       "model_id": "f8fb84f36b1f43e187abaa2da63e9042",
       "version_major": 2,
       "version_minor": 0
      },
      "text/plain": [
       "NGLWidget()"
      ]
     },
     "metadata": {},
     "output_type": "display_data"
    }
   ],
   "source": [
    "view_atomic = nv.show_pdbid(PROTEIN)\n",
    "view_atomic"
   ]
  },
  {
   "cell_type": "code",
   "execution_count": 6,
   "metadata": {},
   "outputs": [
    {
     "data": {
      "application/vnd.jupyter.widget-view+json": {
       "model_id": "fea679412e9144d4b3f559b8853b11b5",
       "version_major": 2,
       "version_minor": 0
      },
      "text/plain": [
       "NGLWidget()"
      ]
     },
     "metadata": {},
     "output_type": "display_data"
    }
   ],
   "source": [
    "view_density_map = nv.show_file(f\"../data/{PROTEIN}.mrc\")\n",
    "view_density_map"
   ]
  },
  {
   "cell_type": "code",
   "execution_count": null,
   "metadata": {},
   "outputs": [],
   "source": []
  }
 ],
 "metadata": {
  "kernelspec": {
   "display_name": "Python 3",
   "language": "python",
   "name": "python3"
  },
  "language_info": {
   "codemirror_mode": {
    "name": "ipython",
    "version": 3
   },
   "file_extension": ".py",
   "mimetype": "text/x-python",
   "name": "python",
   "nbconvert_exporter": "python",
   "pygments_lexer": "ipython3",
   "version": "3.6.9"
  }
 },
 "nbformat": 4,
 "nbformat_minor": 2
}
