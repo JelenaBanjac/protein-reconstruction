{
 "cells": [
  {
   "cell_type": "markdown",
   "metadata": {},
   "source": [
    "# Creating Graph"
   ]
  },
  {
   "cell_type": "code",
   "execution_count": null,
   "metadata": {},
   "outputs": [],
   "source": [
    "import os\n",
    "import h5py\n",
    "from sklearn.neighbors import NearestNeighbors\n",
    "import numpy as np   \n",
    "import ipyvolume as ipv\n",
    "import time\n",
    "\n",
    "import sys\n",
    "sys.path.append(\"..\") \n",
    "from cryoem.plots import plot_projection, plot_projections\n",
    "from cryoem.projections import RotationMatrix"
   ]
  },
  {
   "cell_type": "markdown",
   "metadata": {},
   "source": [
    "## Read generated data"
   ]
  },
  {
   "cell_type": "markdown",
   "metadata": {},
   "source": [
    "Data was generated with:\n",
    "```\n",
    "python generator.py -mrc generated_data/bgal.mrc -num 5000\n",
    "```"
   ]
  },
  {
   "cell_type": "code",
   "execution_count": null,
   "metadata": {},
   "outputs": [],
   "source": [
    "# location of *.h5 files\n",
    "data_dir = \"../generated_data\"\n",
    "\n",
    "# half coverage (AngCoverage=0.5)\n",
    "projections_filename = \"ProjectionsAngles_ProjNber5000_AngCoverage0.5_AngShift1.57\"\n",
    "\n",
    "# load structures\n",
    "data = h5py.File(os.path.join(data_dir, f\"{projections_filename}.h5\"), 'r')"
   ]
  },
  {
   "cell_type": "markdown",
   "metadata": {},
   "source": [
    "## Add Gauss Noise to Projections"
   ]
  },
  {
   "cell_type": "markdown",
   "metadata": {},
   "source": [
    "<div class=\"alert alert-warning\" style=\"max-width: 20rem;\">\n",
    "  <h4 class=\"alert-heading\">Add Noise</h4>\n",
    "  <p class=\"mb-0\">We start by adding Gaussian noise with variance=15, mean=0 in order to simulate the input data we will get to our pipeline.</p>\n",
    "</div>"
   ]
  },
  {
   "cell_type": "code",
   "execution_count": null,
   "metadata": {},
   "outputs": [],
   "source": [
    "from cryoem.noise import gaussian_noise"
   ]
  },
  {
   "cell_type": "code",
   "execution_count": null,
   "metadata": {},
   "outputs": [],
   "source": [
    "projections = np.zeros(data[\"Projections\"].shape)"
   ]
  },
  {
   "cell_type": "code",
   "execution_count": null,
   "metadata": {},
   "outputs": [],
   "source": [
    "var = 100"
   ]
  },
  {
   "cell_type": "code",
   "execution_count": null,
   "metadata": {},
   "outputs": [],
   "source": [
    "for datapoint in range(len(data[\"Projections\"])):\n",
    "    projections[datapoint] = data[\"Projections\"][datapoint] + gaussian_noise(data[\"Projections\"][datapoint].shape, mean=0, var=var)"
   ]
  },
  {
   "cell_type": "markdown",
   "metadata": {},
   "source": [
    "## k-NN on **projections**"
   ]
  },
  {
   "cell_type": "code",
   "execution_count": null,
   "metadata": {},
   "outputs": [],
   "source": [
    "projections.shape"
   ]
  },
  {
   "cell_type": "code",
   "execution_count": null,
   "metadata": {},
   "outputs": [],
   "source": [
    "X = np.reshape(projections, (projections.shape[0], -1))\n",
    "X.shape"
   ]
  },
  {
   "cell_type": "code",
   "execution_count": null,
   "metadata": {},
   "outputs": [],
   "source": [
    "start_time = time.time()\n",
    "\n",
    "if not os.path.exists(f'data/{projections_filename}_WithGaussNoise{var}_distances.npy'):\n",
    "    nbrs = NearestNeighbors(n_neighbors=5, algorithm='ball_tree').fit(X)\n",
    "    distances, indices = nbrs.kneighbors(X)\n",
    "    connections = nbrs.kneighbors_graph(X).toarray()\n",
    "    \n",
    "    np.save(f'data/{projections_filename}_WithGaussNoise{var}_indices', indices)         # Indices of the nearest points in the population matrix\n",
    "    np.save(f'data/{projections_filename}_WithGaussNoise{var}_distances', distances)     # Array representing the lengths to points\n",
    "    np.save(f'data/{projections_filename}_WithGaussNoise{var}_connections', connections) # Sparse graph showing the connections between neighboring points\n",
    "    \n",
    "else:\n",
    "    indices     = np.load(f'data/{projections_filename}_WithGaussNoise{var}_indices.npy')     # shape: NUM_IMGS, NUM_NEIGHBOURS\n",
    "    distances   = np.load(f'data/{projections_filename}_WithGaussNoise{var}_distances.npy')   # shape: NUM_IMGS, NUM_NEIGHBOURS\n",
    "    connections = np.load(f'data/{projections_filename}_WithGaussNoise{var}_connections.npy') # shape: NUM_IMGS, NUM_IMGS\n",
    "    \n",
    "print(f\"--- {time.time() - start_time} seconds ---\")"
   ]
  },
  {
   "cell_type": "code",
   "execution_count": null,
   "metadata": {},
   "outputs": [],
   "source": [
    "connections.shape"
   ]
  },
  {
   "cell_type": "code",
   "execution_count": null,
   "metadata": {},
   "outputs": [],
   "source": [
    "indices[0]"
   ]
  },
  {
   "cell_type": "code",
   "execution_count": null,
   "metadata": {},
   "outputs": [],
   "source": [
    "distances[0]"
   ]
  },
  {
   "cell_type": "markdown",
   "metadata": {},
   "source": [
    "### Plot similar projections"
   ]
  },
  {
   "cell_type": "code",
   "execution_count": null,
   "metadata": {},
   "outputs": [],
   "source": [
    "indices1 = indices[0]\n",
    "distances1 = distances[0]\n",
    "\n",
    "nrows, ncols = 1, 5\n",
    "start_row, start_col = 0, 0\n",
    "\n",
    "images = []\n",
    "titles = []\n",
    "\n",
    "cr = [(i, j) for i in range(nrows) for j in range(ncols)]\n",
    "\n",
    "for datapoint, distance in zip(indices1, distances1):\n",
    "    image = projections[datapoint]\n",
    "    image = image #+ gaussian_noise(shape=image.shape, mean=0, var=0)\n",
    "\n",
    "    angles = [ float(f\"{x:.2f}\") for x in data[\"Angles\"][datapoint] ]\n",
    "    title = f'Projection {datapoint}\\nAngles {angles}\\nDistance {distance:.2f}'\n",
    "    \n",
    "    images.append(image)\n",
    "    titles.append(title)\n",
    "        \n",
    "plot_projections(images, titles, nrows=nrows, ncols=ncols)"
   ]
  },
  {
   "cell_type": "code",
   "execution_count": null,
   "metadata": {},
   "outputs": [],
   "source": [
    "indices1 = indices[10]\n",
    "distances1 = distances[10]\n",
    "\n",
    "nrows, ncols = 1, 5\n",
    "start_row, start_col = 0, 0\n",
    "\n",
    "images = []\n",
    "titles = []\n",
    "\n",
    "cr = [(i, j) for i in range(nrows) for j in range(ncols)]\n",
    "\n",
    "for datapoint, distance in zip(indices1, distances1):\n",
    "    image = projections[datapoint]\n",
    "    image = image #+ gaussian_noise(shape=image.shape, mean=0, var=0)\n",
    "\n",
    "    angles = [ float(f\"{x:.2f}\") for x in data[\"Angles\"][datapoint] ]\n",
    "    title = f'Projection {datapoint}\\nAngles {angles}\\nDistance {distance:.2f}'\n",
    "    \n",
    "    images.append(image)\n",
    "    titles.append(title)\n",
    "        \n",
    "plot_projections(images, titles, nrows=nrows, ncols=ncols)"
   ]
  },
  {
   "cell_type": "markdown",
   "metadata": {},
   "source": [
    "##### Debug angles"
   ]
  },
  {
   "cell_type": "code",
   "execution_count": null,
   "metadata": {},
   "outputs": [],
   "source": [
    "data[\"Angles\"][0]"
   ]
  },
  {
   "cell_type": "code",
   "execution_count": null,
   "metadata": {},
   "outputs": [],
   "source": [
    "min(data[\"Angles\"][:, 0]), max(data[\"Angles\"][:, 0]), np.pi/2, 2*np.pi - np.pi/2"
   ]
  },
  {
   "cell_type": "markdown",
   "metadata": {},
   "source": [
    "#### Without Rotation Matrix"
   ]
  },
  {
   "cell_type": "code",
   "execution_count": null,
   "metadata": {},
   "outputs": [],
   "source": [
    "indices1 = indices[1]\n",
    "\n",
    "knn_vectors = np.take(data[\"Angles\"], indices1, axis=0)\n",
    "all_vectors = np.delete(data[\"Angles\"], indices1, 0)\n",
    "\n",
    "ipv.figure(width=500, height=400)\n",
    "ipv.scatter(knn_vectors[:,0], knn_vectors[:,2], knn_vectors[:,1], marker=\"diamond\", color=\"red\", size=1.5)\n",
    "ipv.scatter(all_vectors[:,0], all_vectors[:,2], all_vectors[:,1], marker=\"sphere\", color=\"blue\", size=1)\n",
    "ipv.show()"
   ]
  },
  {
   "cell_type": "markdown",
   "metadata": {},
   "source": [
    "#### With Rotation Matrix"
   ]
  },
  {
   "cell_type": "code",
   "execution_count": null,
   "metadata": {},
   "outputs": [],
   "source": [
    "indices1 = indices[1000]\n",
    "\n",
    "knn_vectors = RotationMatrix(np.take(data[\"Angles\"], indices1, axis=0))\n",
    "all_vectors = RotationMatrix(np.delete(data[\"Angles\"], indices1, 0))\n",
    "\n",
    "print(all_vectors.shape)\n",
    "print(all_vectors[0])\n",
    "\n",
    "ipv.figure(width=500, height=400)\n",
    "ipv.scatter(knn_vectors[:,0], knn_vectors[:,2], knn_vectors[:,1], marker=\"diamond\", color=\"red\", size=1.5)\n",
    "ipv.scatter(all_vectors[:,0], all_vectors[:,2], all_vectors[:,1], marker=\"sphere\", color=\"blue\", size=1)\n",
    "ipv.show()"
   ]
  },
  {
   "cell_type": "markdown",
   "metadata": {},
   "source": [
    "---"
   ]
  },
  {
   "cell_type": "markdown",
   "metadata": {},
   "source": [
    "# Quaternions"
   ]
  },
  {
   "cell_type": "markdown",
   "metadata": {},
   "source": [
    "Visualizing **SO(3) space**. Following explaination in [wiki](https://en.wikipedia.org/wiki/3D_rotation_group#Topology)."
   ]
  },
  {
   "cell_type": "markdown",
   "metadata": {},
   "source": [
    "How to use [pyquaternions](http://kieranwynn.github.io/pyquaternion/).\n"
   ]
  },
  {
   "cell_type": "code",
   "execution_count": null,
   "metadata": {},
   "outputs": [],
   "source": [
    "from pyquaternion import Quaternion"
   ]
  },
  {
   "cell_type": "markdown",
   "metadata": {},
   "source": [
    "## One Quaternion"
   ]
  },
  {
   "cell_type": "code",
   "execution_count": null,
   "metadata": {},
   "outputs": [],
   "source": [
    "angle1 = data[\"Angles\"][0]\n",
    "angle1"
   ]
  },
  {
   "cell_type": "code",
   "execution_count": null,
   "metadata": {},
   "outputs": [],
   "source": [
    "qx = Quaternion(axis=[1, 0, 0], angle=angle1[0])\n",
    "qy = Quaternion(axis=[0, 1, 0], angle=angle1[1])\n",
    "qz = Quaternion(axis=[0, 0, 1], angle=angle1[2])"
   ]
  },
  {
   "cell_type": "code",
   "execution_count": null,
   "metadata": {},
   "outputs": [],
   "source": [
    "# compose rotations above\n",
    "q = qx*qy*qz\n",
    "q.axis, q.angle"
   ]
  },
  {
   "cell_type": "code",
   "execution_count": null,
   "metadata": {},
   "outputs": [],
   "source": [
    "point = list(map(lambda x: np.array([x * q.angle]), q.axis))\n",
    "point"
   ]
  },
  {
   "cell_type": "markdown",
   "metadata": {},
   "source": [
    "## All Quaternions"
   ]
  },
  {
   "cell_type": "code",
   "execution_count": null,
   "metadata": {},
   "outputs": [],
   "source": [
    "def quaternion(angle):\n",
    "    \"\"\"\n",
    "    Quaternion implements 3 rotations along x, y, z axis. \n",
    "    We compose them to get the final (single) rotation.\n",
    "    \"\"\"\n",
    "    qx = Quaternion(axis=[1, 0, 0], angle=angle[0])\n",
    "    qy = Quaternion(axis=[0, 1, 0], angle=angle[1])\n",
    "    qz = Quaternion(axis=[0, 0, 1], angle=angle[2])\n",
    "    \n",
    "    # compose rotations above\n",
    "    q = qx*qy*qz\n",
    "\n",
    "    return q"
   ]
  },
  {
   "cell_type": "code",
   "execution_count": null,
   "metadata": {},
   "outputs": [],
   "source": [
    "def quaternion2point(q):\n",
    "    \"\"\" Convert Quaternion to point\n",
    "    \n",
    "    We convert Qaternion to the point described with x, y, z values in the Cartesian coordinate system.\n",
    "    From the Qaternion we get axis and angle. The axis is described as unit vector (ux, uy, uz) and the angle is magnitude of vector.\n",
    "    Using this two information, we can get the x, y, z coordinates of the point described with axis and angle.\n",
    "    \"\"\"\n",
    "    point = np.array(list(map(lambda x: x * q.angle, q.axis)))\n",
    "    return point"
   ]
  },
  {
   "cell_type": "code",
   "execution_count": null,
   "metadata": {},
   "outputs": [],
   "source": [
    "points1 = np.zeros(data[\"Angles\"].shape)\n",
    "\n",
    "for idx, angles in enumerate(data[\"Angles\"]):\n",
    "    point = quaternion2point(quaternion(angles))\n",
    "    points1[idx, :] = point\n",
    "\n",
    "points1"
   ]
  },
  {
   "cell_type": "code",
   "execution_count": null,
   "metadata": {},
   "outputs": [],
   "source": [
    "ipv.figure(width=500, height=400)\n",
    "ipv.scatter(points1[:, 0], points1[:, 1], points1[:, 2], marker=\"sphere\", color=\"blue\", size=1.5)\n",
    "ipv.show()"
   ]
  },
  {
   "cell_type": "markdown",
   "metadata": {},
   "source": [
    "##### Debug the SO(3) space"
   ]
  },
  {
   "cell_type": "code",
   "execution_count": null,
   "metadata": {},
   "outputs": [],
   "source": [
    "max(points1[:,0]), min(points1[:,0])"
   ]
  },
  {
   "cell_type": "markdown",
   "metadata": {},
   "source": [
    "---"
   ]
  },
  {
   "cell_type": "markdown",
   "metadata": {},
   "source": [
    "# kNN results in the SO(3)"
   ]
  },
  {
   "cell_type": "markdown",
   "metadata": {},
   "source": [
    "## Half coverage angles"
   ]
  },
  {
   "cell_type": "markdown",
   "metadata": {},
   "source": [
    "For kNN calculated on the half coverage angles, we have the following output of the kNN that was estimated on those projections."
   ]
  },
  {
   "cell_type": "code",
   "execution_count": null,
   "metadata": {},
   "outputs": [],
   "source": [
    "indices1 = indices[10]\n",
    "\n",
    "knn_vectors = np.take(points1, indices1, axis=0)\n",
    "all_vectors = np.delete(points1, indices1, 0)\n",
    "\n",
    "ipv.figure(width=500, height=400)\n",
    "ipv.scatter(knn_vectors[:,0], knn_vectors[:,2], knn_vectors[:,1], marker=\"diamond\", color=\"red\", size=1.5)\n",
    "ipv.scatter(all_vectors[:,0], all_vectors[:,2], all_vectors[:,1], marker=\"sphere\", color=\"blue\", size=1)\n",
    "ipv.show()"
   ]
  },
  {
   "cell_type": "markdown",
   "metadata": {},
   "source": [
    "# Graph visualization"
   ]
  },
  {
   "cell_type": "markdown",
   "metadata": {},
   "source": [
    "You can use the [PyGSP](https://github.com/epfl-lts2/pygsp) (a python package developed by our lab) to\n",
    "look at it like a graph. \n",
    "\n",
    "Install with: \n",
    "```\n",
    "pip install git+https://github.com/epfl-lts2/pygsp@naspert-nn_refactor. \n",
    "```\n",
    "\n",
    "Then build the graph with graph = pygsp.graphs.Graph(adjacency, coords=embedding),\n",
    "where adjacency is the kNN matrix, i.e., adjacency[i, j] is the\n",
    "similarity between nodes i and j  \n",
    "(you can make it binary, that is **=1** if\n",
    "node j is one of the k nearest neighbors of node i, **=0** otherwise), and\n",
    "embedding[i] is the coordinate of node i in that 3D space.\n",
    "\n",
    "You can also build the kNN graph directly with the PyGSP as graph =\n",
    "pygsp.graphs.NNGraph(X), where X is the images in pixel space. That is,\n",
    "the same matrix you're passing to sklearn.neighbors.NearestNeighbors.\n",
    "Then set the 3D coordinates with graph.coords = embedding. Ideally, we\n",
    "should integrate sklearn as another backend and allow NNGraph to accept\n",
    "a custom distance function.\n",
    "\n",
    "Doing the above should give you intuitions about a graph embedded in SO(3)."
   ]
  },
  {
   "cell_type": "code",
   "execution_count": null,
   "metadata": {},
   "outputs": [],
   "source": [
    "np.fill_diagonal(connections, 0)"
   ]
  },
  {
   "cell_type": "code",
   "execution_count": null,
   "metadata": {},
   "outputs": [],
   "source": [
    "indices"
   ]
  },
  {
   "cell_type": "code",
   "execution_count": null,
   "metadata": {},
   "outputs": [],
   "source": [
    "distances"
   ]
  },
  {
   "cell_type": "code",
   "execution_count": null,
   "metadata": {},
   "outputs": [],
   "source": [
    "connections"
   ]
  },
  {
   "cell_type": "code",
   "execution_count": null,
   "metadata": {},
   "outputs": [],
   "source": [
    "import pygsp"
   ]
  },
  {
   "cell_type": "code",
   "execution_count": null,
   "metadata": {},
   "outputs": [],
   "source": [
    "adjacency = connections  # kNN matrix, 1 if nodes i and j are neighbours, 0 othervise\n",
    "embedding = points1      # SO(3) space coordinates\n",
    "\n",
    "print(f\"Adjacency shape: {adjacency.shape}\")\n",
    "print(f\"Embedding shape: {embedding.shape}\")\n",
    "\n",
    "graph = pygsp.graphs.Graph(adjacency, coords=embedding)\n",
    "fig, ax = graph.plot(edge_width=2, edge_color='black')\n",
    "fig.set_figwidth(20)\n",
    "fig.set_figheight(20)"
   ]
  },
  {
   "cell_type": "code",
   "execution_count": null,
   "metadata": {},
   "outputs": [],
   "source": [
    "adjacency = connections  # kNN matrix, 1 if nodes i and j are neighbours, 0 othervise\n",
    "embedding = RotationMatrix(data[\"Angles\"])[:,0:3] #points1 \n",
    "\n",
    "print(f\"Adjacency shape: {adjacency.shape}\")\n",
    "print(f\"Embedding shape: {embedding.shape}\")\n",
    "\n",
    "graph = pygsp.graphs.Graph(adjacency, coords=embedding)\n",
    "fig, ax = graph.plot(edge_width=20, edge_color='black')\n",
    "fig.set_figwidth(20)\n",
    "fig.set_figheight(20)"
   ]
  },
  {
   "cell_type": "markdown",
   "metadata": {},
   "source": [
    "---"
   ]
  },
  {
   "cell_type": "code",
   "execution_count": null,
   "metadata": {},
   "outputs": [],
   "source": []
  }
 ],
 "metadata": {
  "kernelspec": {
   "display_name": "Python 3",
   "language": "python",
   "name": "python3"
  },
  "language_info": {
   "codemirror_mode": {
    "name": "ipython",
    "version": 3
   },
   "file_extension": ".py",
   "mimetype": "text/x-python",
   "name": "python",
   "nbconvert_exporter": "python",
   "pygments_lexer": "ipython3",
   "version": "3.6.8"
  }
 },
 "nbformat": 4,
 "nbformat_minor": 4
}
