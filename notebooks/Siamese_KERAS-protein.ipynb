{
 "cells": [
  {
   "cell_type": "markdown",
   "metadata": {},
   "source": [
    "# Siamese"
   ]
  },
  {
   "cell_type": "markdown",
   "metadata": {},
   "source": [
    "Source: https://keras.io/examples/mnist_siamese/"
   ]
  },
  {
   "cell_type": "code",
   "execution_count": 1,
   "metadata": {},
   "outputs": [
    {
     "name": "stderr",
     "output_type": "stream",
     "text": [
      "Warning: To use the exr data format, please install the OpenEXR package following the instructions detailed in the README at github.com/tensorflow/graphics.\n",
      "Warning: To use the threejs_vizualization, please install the colabtools package following the instructions detailed in the README at github.com/tensorflow/graphics.\n"
     ]
    }
   ],
   "source": [
    "import os\n",
    "import h5py\n",
    "from time import time, strftime\n",
    "from datetime import datetime\n",
    "import matplotlib.pyplot as plt\n",
    "import numpy as np\n",
    "from sklearn.model_selection import train_test_split\n",
    "from sklearn.neighbors import NearestNeighbors\n",
    "import ipyvolume as ipv\n",
    "import pathlib\n",
    "\n",
    "import sys\n",
    "sys.path.append(\"..\") \n",
    "from cryoem.projections import RotationMatrix\n",
    "\n",
    "import random\n",
    "import tensorflow as tf\n",
    "from tensorflow.keras.datasets import mnist\n",
    "from tensorflow.keras.models import Model\n",
    "from tensorflow.keras.layers import Input, Conv2D, MaxPooling2D, AvgPool2D, Lambda\n",
    "from tensorflow.keras.optimizers import RMSprop\n",
    "from tensorflow.keras import backend as K\n",
    "from tensorflow.keras.callbacks import ModelCheckpoint\n",
    "from tensorflow.keras.callbacks import TensorBoard\n",
    "\n",
    "from tensorflow_graphics.util import shape\n",
    "from tensorflow_graphics.geometry.transformation import quaternion, euler\n",
    "from tensorflow_graphics.util import asserts\n",
    "from tensorflow_graphics.math import vector\n",
    "from tensorflow_graphics.util import safe_ops"
   ]
  },
  {
   "cell_type": "code",
   "execution_count": 2,
   "metadata": {},
   "outputs": [
    {
     "name": "stdout",
     "output_type": "stream",
     "text": [
      "[name: \"/device:CPU:0\"\n",
      "device_type: \"CPU\"\n",
      "memory_limit: 268435456\n",
      "locality {\n",
      "}\n",
      "incarnation: 4808818628617567127\n",
      ", name: \"/device:XLA_CPU:0\"\n",
      "device_type: \"XLA_CPU\"\n",
      "memory_limit: 17179869184\n",
      "locality {\n",
      "}\n",
      "incarnation: 1634796150424710868\n",
      "physical_device_desc: \"device: XLA_CPU device\"\n",
      ", name: \"/device:XLA_GPU:0\"\n",
      "device_type: \"XLA_GPU\"\n",
      "memory_limit: 17179869184\n",
      "locality {\n",
      "}\n",
      "incarnation: 10119089168266020492\n",
      "physical_device_desc: \"device: XLA_GPU device\"\n",
      ", name: \"/device:XLA_GPU:1\"\n",
      "device_type: \"XLA_GPU\"\n",
      "memory_limit: 17179869184\n",
      "locality {\n",
      "}\n",
      "incarnation: 6184511344422755413\n",
      "physical_device_desc: \"device: XLA_GPU device\"\n",
      ", name: \"/device:GPU:0\"\n",
      "device_type: \"GPU\"\n",
      "memory_limit: 11322146816\n",
      "locality {\n",
      "  bus_id: 1\n",
      "  links {\n",
      "    link {\n",
      "      device_id: 1\n",
      "      type: \"StreamExecutor\"\n",
      "      strength: 1\n",
      "    }\n",
      "  }\n",
      "}\n",
      "incarnation: 6562112205116513899\n",
      "physical_device_desc: \"device: 0, name: Tesla K40c, pci bus id: 0000:3b:00.0, compute capability: 3.5\"\n",
      ", name: \"/device:GPU:1\"\n",
      "device_type: \"GPU\"\n",
      "memory_limit: 11322146816\n",
      "locality {\n",
      "  bus_id: 2\n",
      "  numa_node: 1\n",
      "  links {\n",
      "    link {\n",
      "      type: \"StreamExecutor\"\n",
      "      strength: 1\n",
      "    }\n",
      "  }\n",
      "}\n",
      "incarnation: 1617069900640669294\n",
      "physical_device_desc: \"device: 1, name: Tesla K40c, pci bus id: 0000:86:00.0, compute capability: 3.5\"\n",
      "]\n"
     ]
    }
   ],
   "source": [
    "from tensorflow.python.client import device_lib \n",
    "print(device_lib.list_local_devices())"
   ]
  },
  {
   "cell_type": "markdown",
   "metadata": {},
   "source": [
    "## Read data "
   ]
  },
  {
   "cell_type": "code",
   "execution_count": 3,
   "metadata": {},
   "outputs": [
    {
     "name": "stdout",
     "output_type": "stream",
     "text": [
      "5000 projections of images with dimension (116, 116) pixels\n",
      "5000 sets of 3 ground truth angles of corresponding projection images\n"
     ]
    }
   ],
   "source": [
    "angle_ranges = \"2.0,0.4,2.0\"\n",
    "angle_shift = \"0.0,0.0,0.0\"\n",
    "num_projections = 5000\n",
    "dir_name = \"../data/\"\n",
    "projections_filename = f\"5j0n_ProjectionsAngles_ProjNber{num_projections}_AngCoverage{angle_ranges}_AngShift{angle_shift}\"\n",
    "\n",
    "\n",
    "# load structures\n",
    "data = h5py.File(os.path.join(dir_name, f\"{projections_filename}.h5\"), 'r')\n",
    "\n",
    "X, y = data['Projections'], data['Angles']\n",
    "print(f\"{X.shape[0]} projections of images with dimension {X.shape[1:]} pixels\")\n",
    "print(f\"{y.shape[0]} sets of {y.shape[1]} ground truth angles of corresponding projection images\")"
   ]
  },
  {
   "cell_type": "code",
   "execution_count": 4,
   "metadata": {},
   "outputs": [
    {
     "data": {
      "application/vnd.jupyter.widget-view+json": {
       "model_id": "12751d1dd9494150a8e18982fba03d89",
       "version_major": 2,
       "version_minor": 0
      },
      "text/plain": [
       "VBox(children=(Figure(camera=PerspectiveCamera(fov=46.0, position=(0.0, 0.0, 2.0), quaternion=(0.0, 0.0, 0.0, …"
      ]
     },
     "metadata": {},
     "output_type": "display_data"
    }
   ],
   "source": [
    "# plot coverage\n",
    "all_vectors = RotationMatrix(y)\n",
    "ipv.figure(width=500, height=500)\n",
    "ipv.pylab.xlim(-1, 1)\n",
    "ipv.pylab.ylim(-1, 1)\n",
    "ipv.pylab.zlim(-1, 1)\n",
    "ipv.scatter(all_vectors[:,0], all_vectors[:,2], all_vectors[:,1], marker=\"sphere\", color=\"blue\", size=1)\n",
    "ipv.pylab.save(f\"data/angle_variety/{angle_ranges}.html\")\n",
    "ipv.show()"
   ]
  },
  {
   "cell_type": "markdown",
   "metadata": {},
   "source": [
    "## Distances\n"
   ]
  },
  {
   "cell_type": "markdown",
   "metadata": {},
   "source": [
    "#### Angle Distance"
   ]
  },
  {
   "cell_type": "code",
   "execution_count": 5,
   "metadata": {},
   "outputs": [],
   "source": [
    "def euler2quaternion(angles):\n",
    "    \"\"\"\n",
    "    Quaternion implements 3 rotations along x, y, z axis. \n",
    "    We compose them to get the final (single) rotation.\n",
    "    \"\"\"\n",
    "    with tf.compat.v1.name_scope(None, \"quaternion_from_euler\", [angles]):\n",
    "        #print(angles)\n",
    "        a = [angles[i] for i in range(len(angles))]\n",
    "\n",
    "        a = tf.convert_to_tensor(value=a)\n",
    "\n",
    "        shape.check_static(tensor=a, tensor_name=\"angles\", has_dim_equals=(-1, 3))\n",
    "\n",
    "        half_angles = a / 2.0\n",
    "        cos_half_angles = tf.cos(half_angles)\n",
    "        sin_half_angles = tf.sin(half_angles)\n",
    "        c1, c2, c3 = tf.unstack(cos_half_angles, axis=-1)\n",
    "        s1, s2, s3 = tf.unstack(sin_half_angles, axis=-1)\n",
    "        # Tait-Bryan angles\n",
    "        #w = c1 * c2 * c3 + s1 * s2 * s3\n",
    "        #x = -c1 * s2 * s3 + s1 * c2 * c3\n",
    "        #y = c1 * s2 * c3 + s1 * c2 * s3\n",
    "        #z = -s1 * s2 * c3 + c1 * c2 * s3\n",
    "        \n",
    "        # Euler angles\n",
    "        w = c1*c2*c3 - s1*c2*s3\n",
    "        x = c1*s2*s3 - s1*s2*c3\n",
    "        y = c1*s2*c3 + s1*s2*s3\n",
    "        z = c1*c2*s3 + s1*c2*c3\n",
    "        return tf.stack((x, y, z, w), axis=-1)\n",
    "\n",
    "def d_q(q1, q2):\n",
    "     with (tf.compat.v1.name_scope(None, \"quaternion_relative_angle\",[q1, q2])):\n",
    "        q1 = tf.convert_to_tensor(value=q1)\n",
    "        q2 = tf.convert_to_tensor(value=q2)\n",
    "      \n",
    "        shape.check_static(\n",
    "            tensor=q1, tensor_name=\"quaternion1\", has_dim_equals=(-1, 4))\n",
    "        shape.check_static(\n",
    "            tensor=q2, tensor_name=\"quaternion2\", has_dim_equals=(-1, 4))\n",
    "\n",
    "        q1 = quaternion.normalize(q1)\n",
    "        q2 = quaternion.normalize(q2)\n",
    "        \n",
    "        dot_product = vector.dot(q1, q2, keepdims=False)\n",
    "        \n",
    "        # Ensure dot product is in range [-1. 1].\n",
    "        const = 1.8 #4.0 #.63\n",
    "        eps_dot_prod = const * asserts.select_eps_for_addition(dot_product.dtype)\n",
    "        dot_product = safe_ops.safe_shrink(\n",
    "            dot_product, -1, 1, open_bounds=False, eps=eps_dot_prod)\n",
    "\n",
    "        return 2.0 * tf.acos(tf.abs(dot_product)) "
   ]
  },
  {
   "cell_type": "code",
   "execution_count": 6,
   "metadata": {},
   "outputs": [],
   "source": [
    "assert (d_q(euler2quaternion([np.pi/2]*3), euler2quaternion([2*np.pi-np.pi/2]*3))-np.pi) < 1e-7"
   ]
  },
  {
   "cell_type": "markdown",
   "metadata": {},
   "source": [
    "#### Projection Distance"
   ]
  },
  {
   "cell_type": "code",
   "execution_count": 7,
   "metadata": {},
   "outputs": [],
   "source": [
    "def d_p(p1, p2):\n",
    "    # (learned) distance between two images.\n",
    "    # for now, Euclid dist\n",
    "    p1 = tf.convert_to_tensor(value=p1, dtype=np.float64)\n",
    "    p2 = tf.convert_to_tensor(value=p2, dtype=np.float64)\n",
    "\n",
    "    if len(p1.shape) > 1:\n",
    "        dist = tf.norm(p1-p2, ord='euclidean', axis=1, keepdims=True)\n",
    "    else:\n",
    "        dist = tf.norm(p1-p2, ord='euclidean')\n",
    "\n",
    "    return dist"
   ]
  },
  {
   "cell_type": "code",
   "execution_count": 8,
   "metadata": {},
   "outputs": [],
   "source": [
    "assert tf.reduce_mean(d_p(X[0:3], X[0:3])) < 1e-7"
   ]
  },
  {
   "cell_type": "markdown",
   "metadata": {},
   "source": [
    "---"
   ]
  },
  {
   "cell_type": "markdown",
   "metadata": {},
   "source": [
    "## kNN of the Projections"
   ]
  },
  {
   "cell_type": "code",
   "execution_count": 9,
   "metadata": {},
   "outputs": [],
   "source": [
    "k = 5"
   ]
  },
  {
   "cell_type": "code",
   "execution_count": 10,
   "metadata": {},
   "outputs": [],
   "source": [
    "def get_knn_output(k):\n",
    "    start_time = time()\n",
    "\n",
    "    _X = np.reshape(X, (X.shape[0], -1))\n",
    "    \n",
    "    name = projections_filename.split('/')[-1]\n",
    "    if not os.path.exists(f'data/knn{k}_{name}_distances.npy'):\n",
    "        nbrs = NearestNeighbors(n_neighbors=k, metric=d_p, algorithm='ball_tree', n_jobs=-1).fit(_X)\n",
    "        distances_p, indices_p = nbrs.kneighbors(_X)\n",
    "        A_p = nbrs.kneighbors_graph(_X).toarray()\n",
    "\n",
    "        try:\n",
    "            np.save(f'data/knn{k}_{name}_indices', indices_p)         # Indices of the nearest points in the population matrix\n",
    "            np.save(f'data/knn{k}_{name}_distances', distances_p)     # Array representing the lengths to points\n",
    "            np.save(f'data/knn{k}_{name}_A', A_p)                     # Sparse graph showing the connections between neighboring points\n",
    "        except:\n",
    "            pass\n",
    "        print(f\"--- {time() - start_time} seconds ---\")\n",
    "    \n",
    "    else:\n",
    "        indices_p     = np.load(f'data/knn{k}_{name}_indices.npy')     # shape: NUM_IMGS, NUM_NEIGHBOURS\n",
    "        distances_p   = np.load(f'data/knn{k}_{name}_distances.npy')   # shape: NUM_IMGS, NUM_NEIGHBOURS\n",
    "        A_p           = np.load(f'data/knn{k}_{name}_A.npy')           # shape: NUM_IMGS, NUM_IMGS\n",
    "\n",
    "    \n",
    "    return indices_p, distances_p, A_p "
   ]
  },
  {
   "cell_type": "code",
   "execution_count": 11,
   "metadata": {},
   "outputs": [],
   "source": [
    "# --- 23594.572999954224 seconds ---\n",
    "indices_p, distances_p, A_p = get_knn_output(k=k)"
   ]
  },
  {
   "cell_type": "code",
   "execution_count": 12,
   "metadata": {},
   "outputs": [
    {
     "data": {
      "text/plain": [
       "63.95002548806251"
      ]
     },
     "execution_count": 12,
     "metadata": {},
     "output_type": "execute_result"
    }
   ],
   "source": [
    "np.max(distances_p)"
   ]
  },
  {
   "cell_type": "markdown",
   "metadata": {},
   "source": [
    "---"
   ]
  },
  {
   "cell_type": "markdown",
   "metadata": {},
   "source": [
    "## Prepare for training"
   ]
  },
  {
   "cell_type": "code",
   "execution_count": 13,
   "metadata": {},
   "outputs": [],
   "source": [
    "def sample_pairs(num_projections, num_pairs, style=\"random\", k=None):\n",
    "    if not k and style != \"random\":\n",
    "        raise ValueError(\"Please specify k for kNN for sample_pairs method\")\n",
    "    \n",
    "    if style==\"random\":\n",
    "        idx1 = list(np.random.randint(0, num_projections, num_pairs))\n",
    "        idx2 = list(np.random.randint(0, num_projections, num_pairs))\n",
    "    \n",
    "    elif style==\"knn\":\n",
    "        idx1 = list(np.random.randint(0, num_projections, num_pairs))\n",
    "        indices_p, distances_p, A_p = get_knn_output(k=k)\n",
    "        idx2 = [indices_p[i][np.random.randint(1, k)] for i in idx1]\n",
    " \n",
    "    elif style==\"knn_and_random\":\n",
    "        # select random sample for the first element of pair\n",
    "        idx1 = list(np.random.randint(0, num_projections, num_pairs))\n",
    "        \n",
    "        # half from kNN\n",
    "        indices_p, distances_p, A_p = get_knn_output(k=k)\n",
    "        idx2_knn = [indices_p[i][np.random.randint(1, k)] for i in idx1[:num_pairs//2]]\n",
    "        idx2_random = list(np.random.randint(0, num_projections, num_pairs//2))\n",
    "        # half random\n",
    "        idx2 = idx2_knn + idx2_random\n",
    "        \n",
    "    return idx1, idx2"
   ]
  },
  {
   "cell_type": "code",
   "execution_count": 14,
   "metadata": {},
   "outputs": [],
   "source": [
    "def euclidean_distance(vects):\n",
    "    x, y = vects\n",
    "    sum_square = K.sum(K.square(x - y), axis=1, keepdims=True)\n",
    "    return K.sqrt(K.maximum(sum_square, K.epsilon()))\n",
    "\n",
    "\n",
    "def eucl_dist_output_shape(shapes):\n",
    "    shape1, shape2 = shapes\n",
    "    return (shape1[0], 1)\n",
    "\n",
    "def loss(y_true, y_pred):\n",
    "    '''Contrastive loss from Hadsell-et-al.'06\n",
    "    http://yann.lecun.com/exdb/publis/pdf/hadsell-chopra-lecun-06.pdf\n",
    "    '''\n",
    "    return  K.mean(K.square(y_pred - y_true))\n",
    "\n",
    "def create_pairs(x, y, num_pairs):\n",
    "    '''Positive and negative pair creation.\n",
    "    Alternates between positive and negative pairs.\n",
    "    '''\n",
    "    pairs = []\n",
    "    labels = []\n",
    "    \n",
    "    # Sample some pairs.\n",
    "    idx1, idx2 = sample_pairs(num_projections=NUM_PROJECTIONS, num_pairs=num_pairs, style=\"knn_and_random\", k=k)\n",
    "    \n",
    "    for z1, z2 in zip(idx1, idx2):\n",
    "        pairs += [[x[z1], x[z2]]]\n",
    "        labels += [d_q(euler2quaternion(y[z1]), euler2quaternion(y[z2]))]\n",
    "\n",
    "    return np.array(pairs), np.array(labels)\n",
    "\n",
    "\n",
    "def create_base_network(input_shape):\n",
    "    '''Base network to be shared (eq. to feature extraction).\n",
    "    '''\n",
    "    input_x = Input(shape=input_shape)\n",
    "\n",
    "    # add Convolution, MaxPool, Conv2D, remove Dropout and Dense\n",
    "    x = Conv2D(filters=32, kernel_size=[7, 7], activation='relu', padding='same', kernel_initializer='glorot_uniform')(input_x)\n",
    "    x = MaxPooling2D([2, 2], padding='same')(x)\n",
    "\n",
    "    x = Conv2D(64, [5, 5], activation='relu', padding='same', kernel_initializer='glorot_uniform')(x)\n",
    "    x = MaxPooling2D([2, 2], padding='same')(x)\n",
    "\n",
    "    x = Conv2D(128, [3, 3], activation='relu', padding='same', kernel_initializer='glorot_uniform')(x)\n",
    "    x = MaxPooling2D([2, 2], padding='same')(x)\n",
    "\n",
    "    x = Conv2D(256, [1, 1], activation='relu', padding='same', kernel_initializer='glorot_uniform')(x)\n",
    "    x = MaxPooling2D([2, 2], padding='same')(x)\n",
    "\n",
    "    x = AvgPool2D(pool_size=[8, 8], padding='same')(x)\n",
    "\n",
    "    x = tf.squeeze(x, axis=[1,2])\n",
    "    \n",
    "    return Model(input_x, x)\n",
    "\n",
    "\n",
    "# def accuracy(y_true, y_pred):\n",
    "#     '''Compute classification accuracy with a fixed threshold on distances.\n",
    "#     '''\n",
    "#     y_pred = K.flatten(y_pred)\n",
    "\n",
    "#     return K.mean(K.square(y_pred - y_true) < ACCURACY_THRESHOLD)"
   ]
  },
  {
   "cell_type": "markdown",
   "metadata": {},
   "source": [
    "gloabal average pooling - width and hights OR \n",
    "flatten\n",
    "\n",
    "Pooling - shrinks in space"
   ]
  },
  {
   "cell_type": "code",
   "execution_count": 15,
   "metadata": {},
   "outputs": [],
   "source": [
    "# def compute_accuracy(y_true, y_pred):\n",
    "#     '''Compute classification accuracy with a fixed threshold on distances.\n",
    "#     '''\n",
    "#     y_pred = K.flatten(y_pred)\n",
    "\n",
    "#     return K.mean(K.square(y_pred - y_true) < ACCURACY_THRESHOLD)"
   ]
  },
  {
   "cell_type": "markdown",
   "metadata": {},
   "source": [
    "## Training"
   ]
  },
  {
   "cell_type": "code",
   "execution_count": 16,
   "metadata": {},
   "outputs": [],
   "source": [
    "EPOCHS = 100\n",
    "BATCH_SIZE = 256\n",
    "NUM_PROJECTIONS = 5000\n",
    "NUM_PAIRS = 50000\n",
    "CHECKPOINT_PATH = f\"training/{strftime('%Y%m%d_%H%M%S')}\"\n",
    "pathlib.Path(CHECKPOINT_PATH).mkdir(parents=True, exist_ok=True)\n",
    "TENSORBOARD_PATH = f\"logs/fit/{datetime.now().strftime('%Y%m%d-%H%M%S')}\"\n",
    "pathlib.Path(TENSORBOARD_PATH).mkdir(parents=True, exist_ok=True)"
   ]
  },
  {
   "cell_type": "code",
   "execution_count": 17,
   "metadata": {},
   "outputs": [],
   "source": [
    "# the data, split between train and test sets\n",
    "train_idx, test_idx, _, _ = train_test_split(range(NUM_PAIRS), \n",
    "                                             range(NUM_PAIRS), \n",
    "                                             test_size=0.33, \n",
    "                                             random_state=42)\n",
    "train_idx = sorted(train_idx)\n",
    "test_idx = sorted(test_idx)"
   ]
  },
  {
   "cell_type": "code",
   "execution_count": 18,
   "metadata": {},
   "outputs": [],
   "source": [
    "X_data, y_data = create_pairs(X, y, NUM_PAIRS)\n",
    "\n",
    "tr_pairs, tr_y = X_data[train_idx], y_data[train_idx]\n",
    "tr_pairs = tr_pairs.reshape(list(tr_pairs.shape) + [-1])\n",
    "tr_y = tf.cast(tr_y, dtype=tf.float32)\n",
    "\n",
    "te_pairs, te_y = X_data[test_idx], y_data[test_idx]\n",
    "te_pairs = te_pairs.reshape(list(te_pairs.shape) + [-1])\n",
    "te_y = tf.cast(te_y, dtype=tf.float32)"
   ]
  },
  {
   "cell_type": "code",
   "execution_count": 19,
   "metadata": {},
   "outputs": [
    {
     "name": "stdout",
     "output_type": "stream",
     "text": [
      "Input images shape (116, 116, 1)\n"
     ]
    }
   ],
   "source": [
    "input_shape = te_pairs[:, 0].shape[1:]#list(te_pairs[:, 0].shape[1:])\n",
    "print(f\"Input images shape {input_shape}\")"
   ]
  },
  {
   "cell_type": "code",
   "execution_count": 20,
   "metadata": {},
   "outputs": [
    {
     "data": {
      "text/plain": [
       "(33500, 2, 116, 116, 1)"
      ]
     },
     "execution_count": 20,
     "metadata": {},
     "output_type": "execute_result"
    }
   ],
   "source": [
    "tr_pairs.shape"
   ]
  },
  {
   "cell_type": "code",
   "execution_count": 21,
   "metadata": {},
   "outputs": [
    {
     "data": {
      "text/plain": [
       "(16500, 116, 116, 1)"
      ]
     },
     "execution_count": 21,
     "metadata": {},
     "output_type": "execute_result"
    }
   ],
   "source": [
    "te_pairs[:, 0].shape"
   ]
  },
  {
   "cell_type": "code",
   "execution_count": 22,
   "metadata": {},
   "outputs": [
    {
     "data": {
      "text/plain": [
       "TensorShape([16500])"
      ]
     },
     "execution_count": 22,
     "metadata": {},
     "output_type": "execute_result"
    }
   ],
   "source": [
    "te_y.shape"
   ]
  },
  {
   "cell_type": "markdown",
   "metadata": {},
   "source": [
    "---"
   ]
  },
  {
   "cell_type": "markdown",
   "metadata": {},
   "source": [
    "0.15 loss, 0.0017 acc\n",
    "\n",
    "test set\n",
    "plot train and test losses"
   ]
  },
  {
   "cell_type": "code",
   "execution_count": 23,
   "metadata": {},
   "outputs": [],
   "source": [
    "# Load the TensorBoard notebook extension\n",
    "# %load_ext tensorboard"
   ]
  },
  {
   "cell_type": "code",
   "execution_count": 24,
   "metadata": {
    "scrolled": false
   },
   "outputs": [
    {
     "name": "stdout",
     "output_type": "stream",
     "text": [
      "Model: \"model_1\"\n",
      "__________________________________________________________________________________________________\n",
      "Layer (type)                    Output Shape         Param #     Connected to                     \n",
      "==================================================================================================\n",
      "input_2 (InputLayer)            [(None, 116, 116, 1) 0                                            \n",
      "__________________________________________________________________________________________________\n",
      "input_3 (InputLayer)            [(None, 116, 116, 1) 0                                            \n",
      "__________________________________________________________________________________________________\n",
      "model (Model)                   (None, 256)          159744      input_2[0][0]                    \n",
      "                                                                 input_3[0][0]                    \n",
      "__________________________________________________________________________________________________\n",
      "lambda (Lambda)                 (None, 1)            0           model[1][0]                      \n",
      "                                                                 model[2][0]                      \n",
      "==================================================================================================\n",
      "Total params: 159,744\n",
      "Trainable params: 159,744\n",
      "Non-trainable params: 0\n",
      "__________________________________________________________________________________________________\n",
      "Train on 33500 samples, validate on 16500 samples\n",
      "Epoch 1/100\n",
      "33280/33500 [============================>.] - ETA: 0s - loss: 0.7144\n",
      "Epoch 00001: saving model to training/20191211_151747\n",
      "33500/33500 [==============================] - 84s 3ms/sample - loss: 0.7121 - val_loss: 0.3775\n",
      "Epoch 2/100\n",
      "33280/33500 [============================>.] - ETA: 0s - loss: 0.3514\n",
      "Epoch 00002: saving model to training/20191211_151747\n",
      "33500/33500 [==============================] - 75s 2ms/sample - loss: 0.3512 - val_loss: 0.3644\n",
      "Epoch 3/100\n",
      "33280/33500 [============================>.] - ETA: 0s - loss: 0.2388\n",
      "Epoch 00003: saving model to training/20191211_151747\n",
      "33500/33500 [==============================] - 75s 2ms/sample - loss: 0.2384 - val_loss: 0.1793\n",
      "Epoch 4/100\n",
      "33280/33500 [============================>.] - ETA: 0s - loss: 0.1861\n",
      "Epoch 00004: saving model to training/20191211_151747\n",
      "33500/33500 [==============================] - 74s 2ms/sample - loss: 0.1859 - val_loss: 0.1424\n",
      "Epoch 5/100\n",
      "33280/33500 [============================>.] - ETA: 0s - loss: 0.1618\n",
      "Epoch 00005: saving model to training/20191211_151747\n",
      "33500/33500 [==============================] - 73s 2ms/sample - loss: 0.1616 - val_loss: 0.1212\n",
      "Epoch 6/100\n",
      "33280/33500 [============================>.] - ETA: 0s - loss: 0.1403\n",
      "Epoch 00006: saving model to training/20191211_151747\n",
      "33500/33500 [==============================] - 73s 2ms/sample - loss: 0.1404 - val_loss: 0.2233\n",
      "Epoch 7/100\n",
      "33280/33500 [============================>.] - ETA: 0s - loss: 0.1300\n",
      "Epoch 00007: saving model to training/20191211_151747\n",
      "33500/33500 [==============================] - 73s 2ms/sample - loss: 0.1299 - val_loss: 0.1167\n",
      "Epoch 8/100\n",
      "33280/33500 [============================>.] - ETA: 0s - loss: 0.1154\n",
      "Epoch 00008: saving model to training/20191211_151747\n",
      "33500/33500 [==============================] - 73s 2ms/sample - loss: 0.1154 - val_loss: 0.1158\n",
      "Epoch 9/100\n",
      "33280/33500 [============================>.] - ETA: 0s - loss: 0.1080\n",
      "Epoch 00009: saving model to training/20191211_151747\n",
      "33500/33500 [==============================] - 73s 2ms/sample - loss: 0.1081 - val_loss: 0.1155\n",
      "Epoch 10/100\n",
      "33280/33500 [============================>.] - ETA: 0s - loss: 0.1016\n",
      "Epoch 00010: saving model to training/20191211_151747\n",
      "33500/33500 [==============================] - 73s 2ms/sample - loss: 0.1015 - val_loss: 0.1179\n",
      "Epoch 11/100\n",
      "33280/33500 [============================>.] - ETA: 0s - loss: 0.0957\n",
      "Epoch 00011: saving model to training/20191211_151747\n",
      "33500/33500 [==============================] - 73s 2ms/sample - loss: 0.0956 - val_loss: 0.0888\n",
      "Epoch 12/100\n",
      "33280/33500 [============================>.] - ETA: 0s - loss: 0.0915\n",
      "Epoch 00012: saving model to training/20191211_151747\n",
      "33500/33500 [==============================] - 73s 2ms/sample - loss: 0.0914 - val_loss: 0.0904\n",
      "Epoch 13/100\n",
      "33280/33500 [============================>.] - ETA: 0s - loss: 0.0863\n",
      "Epoch 00013: saving model to training/20191211_151747\n",
      "33500/33500 [==============================] - 73s 2ms/sample - loss: 0.0862 - val_loss: 0.0783\n",
      "Epoch 14/100\n",
      "33280/33500 [============================>.] - ETA: 0s - loss: 0.0825\n",
      "Epoch 00014: saving model to training/20191211_151747\n",
      "33500/33500 [==============================] - 73s 2ms/sample - loss: 0.0824 - val_loss: 0.0772\n",
      "Epoch 15/100\n",
      "33280/33500 [============================>.] - ETA: 0s - loss: 0.0787\n",
      "Epoch 00015: saving model to training/20191211_151747\n",
      "33500/33500 [==============================] - 73s 2ms/sample - loss: 0.0787 - val_loss: 0.0907\n",
      "Epoch 16/100\n",
      "33280/33500 [============================>.] - ETA: 0s - loss: 0.0766\n",
      "Epoch 00016: saving model to training/20191211_151747\n",
      "33500/33500 [==============================] - 72s 2ms/sample - loss: 0.0765 - val_loss: 0.0872\n",
      "Epoch 17/100\n",
      "33280/33500 [============================>.] - ETA: 0s - loss: 0.0731\n",
      "Epoch 00017: saving model to training/20191211_151747\n",
      "33500/33500 [==============================] - 72s 2ms/sample - loss: 0.0730 - val_loss: 0.0801\n",
      "Epoch 18/100\n",
      "33280/33500 [============================>.] - ETA: 0s - loss: 0.0714\n",
      "Epoch 00018: saving model to training/20191211_151747\n",
      "33500/33500 [==============================] - 72s 2ms/sample - loss: 0.0714 - val_loss: 0.0771\n",
      "Epoch 19/100\n",
      "33280/33500 [============================>.] - ETA: 0s - loss: 0.0685\n",
      "Epoch 00019: saving model to training/20191211_151747\n",
      "33500/33500 [==============================] - 72s 2ms/sample - loss: 0.0684 - val_loss: 0.0747\n",
      "Epoch 20/100\n",
      "33280/33500 [============================>.] - ETA: 0s - loss: 0.0673\n",
      "Epoch 00020: saving model to training/20191211_151747\n",
      "33500/33500 [==============================] - 72s 2ms/sample - loss: 0.0672 - val_loss: 0.0666\n",
      "Epoch 21/100\n",
      "33280/33500 [============================>.] - ETA: 0s - loss: 0.0650\n",
      "Epoch 00021: saving model to training/20191211_151747\n",
      "33500/33500 [==============================] - 72s 2ms/sample - loss: 0.0653 - val_loss: 0.1152\n",
      "Epoch 22/100\n",
      "33280/33500 [============================>.] - ETA: 0s - loss: 0.0622\n",
      "Epoch 00022: saving model to training/20191211_151747\n",
      "33500/33500 [==============================] - 73s 2ms/sample - loss: 0.0623 - val_loss: 0.0754\n",
      "Epoch 23/100\n",
      "33280/33500 [============================>.] - ETA: 0s - loss: 0.0601\n",
      "Epoch 00023: saving model to training/20191211_151747\n",
      "33500/33500 [==============================] - 73s 2ms/sample - loss: 0.0601 - val_loss: 0.0692\n",
      "Epoch 24/100\n",
      "33280/33500 [============================>.] - ETA: 0s - loss: 0.0600\n",
      "Epoch 00024: saving model to training/20191211_151747\n",
      "33500/33500 [==============================] - 72s 2ms/sample - loss: 0.0600 - val_loss: 0.0823\n",
      "Epoch 25/100\n",
      "33280/33500 [============================>.] - ETA: 0s - loss: 0.0584\n",
      "Epoch 00025: saving model to training/20191211_151747\n",
      "33500/33500 [==============================] - 73s 2ms/sample - loss: 0.0584 - val_loss: 0.0679\n",
      "Epoch 26/100\n",
      "33280/33500 [============================>.] - ETA: 0s - loss: 0.0566\n",
      "Epoch 00026: saving model to training/20191211_151747\n",
      "33500/33500 [==============================] - 73s 2ms/sample - loss: 0.0566 - val_loss: 0.0619\n",
      "Epoch 27/100\n",
      "33280/33500 [============================>.] - ETA: 0s - loss: 0.0554\n",
      "Epoch 00027: saving model to training/20191211_151747\n",
      "33500/33500 [==============================] - 72s 2ms/sample - loss: 0.0554 - val_loss: 0.0709\n",
      "Epoch 28/100\n",
      "33280/33500 [============================>.] - ETA: 0s - loss: 0.0537\n",
      "Epoch 00028: saving model to training/20191211_151747\n",
      "33500/33500 [==============================] - 72s 2ms/sample - loss: 0.0536 - val_loss: 0.0668\n",
      "Epoch 29/100\n",
      "33280/33500 [============================>.] - ETA: 0s - loss: 0.0545\n",
      "Epoch 00029: saving model to training/20191211_151747\n",
      "33500/33500 [==============================] - 73s 2ms/sample - loss: 0.0545 - val_loss: 0.0675\n"
     ]
    },
    {
     "name": "stdout",
     "output_type": "stream",
     "text": [
      "Epoch 30/100\n",
      "33280/33500 [============================>.] - ETA: 0s - loss: 0.0529\n",
      "Epoch 00030: saving model to training/20191211_151747\n",
      "33500/33500 [==============================] - 73s 2ms/sample - loss: 0.0528 - val_loss: 0.0617\n",
      "Epoch 31/100\n",
      "33280/33500 [============================>.] - ETA: 0s - loss: 0.0526\n",
      "Epoch 00031: saving model to training/20191211_151747\n",
      "33500/33500 [==============================] - 73s 2ms/sample - loss: 0.0525 - val_loss: 0.0560\n",
      "Epoch 32/100\n",
      "33280/33500 [============================>.] - ETA: 0s - loss: 0.0511\n",
      "Epoch 00032: saving model to training/20191211_151747\n",
      "33500/33500 [==============================] - 72s 2ms/sample - loss: 0.0512 - val_loss: 0.0803\n",
      "Epoch 33/100\n",
      "33280/33500 [============================>.] - ETA: 0s - loss: 0.0508\n",
      "Epoch 00033: saving model to training/20191211_151747\n",
      "33500/33500 [==============================] - 73s 2ms/sample - loss: 0.0508 - val_loss: 0.0713\n",
      "Epoch 34/100\n",
      "33280/33500 [============================>.] - ETA: 0s - loss: 0.0506\n",
      "Epoch 00034: saving model to training/20191211_151747\n",
      "33500/33500 [==============================] - 72s 2ms/sample - loss: 0.0506 - val_loss: 0.0589\n",
      "Epoch 35/100\n",
      "33280/33500 [============================>.] - ETA: 0s - loss: 0.0493\n",
      "Epoch 00035: saving model to training/20191211_151747\n",
      "33500/33500 [==============================] - 73s 2ms/sample - loss: 0.0494 - val_loss: 0.0671\n",
      "Epoch 36/100\n",
      "33280/33500 [============================>.] - ETA: 0s - loss: 0.0484\n",
      "Epoch 00036: saving model to training/20191211_151747\n",
      "33500/33500 [==============================] - 72s 2ms/sample - loss: 0.0484 - val_loss: 0.0649\n",
      "Epoch 37/100\n",
      "33280/33500 [============================>.] - ETA: 0s - loss: 0.0488\n",
      "Epoch 00037: saving model to training/20191211_151747\n",
      "33500/33500 [==============================] - 72s 2ms/sample - loss: 0.0488 - val_loss: 0.0579\n",
      "Epoch 38/100\n",
      "33280/33500 [============================>.] - ETA: 0s - loss: 0.0472\n",
      "Epoch 00038: saving model to training/20191211_151747\n",
      "33500/33500 [==============================] - 73s 2ms/sample - loss: 0.0472 - val_loss: 0.0546\n",
      "Epoch 39/100\n",
      "33280/33500 [============================>.] - ETA: 0s - loss: 0.0466\n",
      "Epoch 00039: saving model to training/20191211_151747\n",
      "33500/33500 [==============================] - 72s 2ms/sample - loss: 0.0466 - val_loss: 0.0610\n",
      "Epoch 40/100\n",
      "33280/33500 [============================>.] - ETA: 0s - loss: 0.0475\n",
      "Epoch 00040: saving model to training/20191211_151747\n",
      "33500/33500 [==============================] - 73s 2ms/sample - loss: 0.0474 - val_loss: 0.0526\n",
      "Epoch 41/100\n",
      "33280/33500 [============================>.] - ETA: 0s - loss: 0.0458\n",
      "Epoch 00041: saving model to training/20191211_151747\n",
      "33500/33500 [==============================] - 73s 2ms/sample - loss: 0.0459 - val_loss: 0.0740\n",
      "Epoch 42/100\n",
      "33280/33500 [============================>.] - ETA: 0s - loss: 0.0460\n",
      "Epoch 00042: saving model to training/20191211_151747\n",
      "33500/33500 [==============================] - 73s 2ms/sample - loss: 0.0460 - val_loss: 0.0588\n",
      "Epoch 43/100\n",
      "33280/33500 [============================>.] - ETA: 0s - loss: 0.0449\n",
      "Epoch 00043: saving model to training/20191211_151747\n",
      "33500/33500 [==============================] - 72s 2ms/sample - loss: 0.0454 - val_loss: 0.0812\n",
      "Epoch 44/100\n",
      "33280/33500 [============================>.] - ETA: 0s - loss: 0.0454\n",
      "Epoch 00044: saving model to training/20191211_151747\n",
      "33500/33500 [==============================] - 72s 2ms/sample - loss: 0.0453 - val_loss: 0.0531\n",
      "Epoch 45/100\n",
      "33280/33500 [============================>.] - ETA: 0s - loss: 0.0451\n",
      "Epoch 00045: saving model to training/20191211_151747\n",
      "33500/33500 [==============================] - 73s 2ms/sample - loss: 0.0452 - val_loss: 0.0627\n",
      "Epoch 46/100\n",
      "33280/33500 [============================>.] - ETA: 0s - loss: 0.0448\n",
      "Epoch 00046: saving model to training/20191211_151747\n",
      "33500/33500 [==============================] - 72s 2ms/sample - loss: 0.0447 - val_loss: 0.0535\n",
      "Epoch 47/100\n",
      "33280/33500 [============================>.] - ETA: 0s - loss: 0.0440\n",
      "Epoch 00047: saving model to training/20191211_151747\n",
      "33500/33500 [==============================] - 72s 2ms/sample - loss: 0.0439 - val_loss: 0.0517\n",
      "Epoch 48/100\n",
      "33280/33500 [============================>.] - ETA: 0s - loss: 0.0435\n",
      "Epoch 00048: saving model to training/20191211_151747\n",
      "33500/33500 [==============================] - 73s 2ms/sample - loss: 0.0435 - val_loss: 0.0569\n",
      "Epoch 49/100\n",
      "33280/33500 [============================>.] - ETA: 0s - loss: 0.0423\n",
      "Epoch 00049: saving model to training/20191211_151747\n",
      "33500/33500 [==============================] - 73s 2ms/sample - loss: 0.0422 - val_loss: 0.0522\n",
      "Epoch 50/100\n",
      "33280/33500 [============================>.] - ETA: 0s - loss: 0.0435\n",
      "Epoch 00050: saving model to training/20191211_151747\n",
      "33500/33500 [==============================] - 73s 2ms/sample - loss: 0.0436 - val_loss: 0.0705\n",
      "Epoch 51/100\n",
      "33280/33500 [============================>.] - ETA: 0s - loss: 0.0421\n",
      "Epoch 00051: saving model to training/20191211_151747\n",
      "33500/33500 [==============================] - 73s 2ms/sample - loss: 0.0420 - val_loss: 0.0554\n",
      "Epoch 52/100\n",
      "33280/33500 [============================>.] - ETA: 0s - loss: 0.0420\n",
      "Epoch 00052: saving model to training/20191211_151747\n",
      "33500/33500 [==============================] - 72s 2ms/sample - loss: 0.0420 - val_loss: 0.0689\n",
      "Epoch 53/100\n",
      "33280/33500 [============================>.] - ETA: 0s - loss: 0.0419\n",
      "Epoch 00053: saving model to training/20191211_151747\n",
      "33500/33500 [==============================] - 73s 2ms/sample - loss: 0.0420 - val_loss: 0.0675\n",
      "Epoch 54/100\n",
      "33280/33500 [============================>.] - ETA: 0s - loss: 0.0409\n",
      "Epoch 00054: saving model to training/20191211_151747\n",
      "33500/33500 [==============================] - 73s 2ms/sample - loss: 0.0409 - val_loss: 0.0596\n",
      "Epoch 55/100\n",
      "33280/33500 [============================>.] - ETA: 0s - loss: 0.0409\n",
      "Epoch 00055: saving model to training/20191211_151747\n",
      "33500/33500 [==============================] - 72s 2ms/sample - loss: 0.0409 - val_loss: 0.0678\n",
      "Epoch 56/100\n",
      "33280/33500 [============================>.] - ETA: 0s - loss: 0.0412\n",
      "Epoch 00056: saving model to training/20191211_151747\n",
      "33500/33500 [==============================] - 73s 2ms/sample - loss: 0.0413 - val_loss: 0.0612\n",
      "Epoch 57/100\n",
      "33280/33500 [============================>.] - ETA: 0s - loss: 0.0403\n",
      "Epoch 00057: saving model to training/20191211_151747\n",
      "33500/33500 [==============================] - 73s 2ms/sample - loss: 0.0403 - val_loss: 0.0522\n",
      "Epoch 58/100\n",
      "33280/33500 [============================>.] - ETA: 0s - loss: 0.0400\n",
      "Epoch 00058: saving model to training/20191211_151747\n",
      "33500/33500 [==============================] - 72s 2ms/sample - loss: 0.0399 - val_loss: 0.0550\n",
      "Epoch 59/100\n",
      "33280/33500 [============================>.] - ETA: 0s - loss: 0.0405\n",
      "Epoch 00059: saving model to training/20191211_151747\n",
      "33500/33500 [==============================] - 73s 2ms/sample - loss: 0.0405 - val_loss: 0.0510\n",
      "Epoch 60/100\n",
      "33280/33500 [============================>.] - ETA: 0s - loss: 0.0394\n",
      "Epoch 00060: saving model to training/20191211_151747\n",
      "33500/33500 [==============================] - 73s 2ms/sample - loss: 0.0394 - val_loss: 0.0606\n",
      "Epoch 61/100\n",
      "33280/33500 [============================>.] - ETA: 0s - loss: 0.0388\n",
      "Epoch 00061: saving model to training/20191211_151747\n",
      "33500/33500 [==============================] - 72s 2ms/sample - loss: 0.0389 - val_loss: 0.0653\n",
      "Epoch 62/100\n",
      "33280/33500 [============================>.] - ETA: 0s - loss: 0.0393\n",
      "Epoch 00062: saving model to training/20191211_151747\n",
      "33500/33500 [==============================] - 72s 2ms/sample - loss: 0.0393 - val_loss: 0.0576\n",
      "Epoch 63/100\n",
      "33280/33500 [============================>.] - ETA: 0s - loss: 0.0395\n",
      "Epoch 00063: saving model to training/20191211_151747\n",
      "33500/33500 [==============================] - 73s 2ms/sample - loss: 0.0395 - val_loss: 0.0533\n",
      "Epoch 64/100\n",
      "33280/33500 [============================>.] - ETA: 0s - loss: 0.0379\n",
      "Epoch 00064: saving model to training/20191211_151747\n",
      "33500/33500 [==============================] - 72s 2ms/sample - loss: 0.0379 - val_loss: 0.0518\n",
      "Epoch 65/100\n"
     ]
    },
    {
     "name": "stdout",
     "output_type": "stream",
     "text": [
      "33280/33500 [============================>.] - ETA: 0s - loss: 0.0382\n",
      "Epoch 00065: saving model to training/20191211_151747\n",
      "33500/33500 [==============================] - 72s 2ms/sample - loss: 0.0382 - val_loss: 0.0557\n",
      "Epoch 66/100\n",
      "33280/33500 [============================>.] - ETA: 0s - loss: 0.0389\n",
      "Epoch 00066: saving model to training/20191211_151747\n",
      "33500/33500 [==============================] - 73s 2ms/sample - loss: 0.0389 - val_loss: 0.0602\n",
      "Epoch 67/100\n",
      "33280/33500 [============================>.] - ETA: 0s - loss: 0.0369\n",
      "Epoch 00067: saving model to training/20191211_151747\n",
      "33500/33500 [==============================] - 72s 2ms/sample - loss: 0.0369 - val_loss: 0.0534\n",
      "Epoch 68/100\n",
      "33280/33500 [============================>.] - ETA: 0s - loss: 0.0372\n",
      "Epoch 00068: saving model to training/20191211_151747\n",
      "33500/33500 [==============================] - 73s 2ms/sample - loss: 0.0373 - val_loss: 0.0894\n",
      "Epoch 69/100\n",
      "33280/33500 [============================>.] - ETA: 0s - loss: 0.0385\n",
      "Epoch 00069: saving model to training/20191211_151747\n",
      "33500/33500 [==============================] - 72s 2ms/sample - loss: 0.0385 - val_loss: 0.0552\n",
      "Epoch 70/100\n",
      "33280/33500 [============================>.] - ETA: 0s - loss: 0.0370\n",
      "Epoch 00070: saving model to training/20191211_151747\n",
      "33500/33500 [==============================] - 73s 2ms/sample - loss: 0.0370 - val_loss: 0.0562\n",
      "Epoch 71/100\n",
      "33280/33500 [============================>.] - ETA: 0s - loss: 0.0372\n",
      "Epoch 00071: saving model to training/20191211_151747\n",
      "33500/33500 [==============================] - 72s 2ms/sample - loss: 0.0373 - val_loss: 0.0586\n",
      "Epoch 72/100\n",
      "33280/33500 [============================>.] - ETA: 0s - loss: 0.0371\n",
      "Epoch 00072: saving model to training/20191211_151747\n",
      "33500/33500 [==============================] - 72s 2ms/sample - loss: 0.0371 - val_loss: 0.0551\n",
      "Epoch 73/100\n",
      "33280/33500 [============================>.] - ETA: 0s - loss: 0.0377\n",
      "Epoch 00073: saving model to training/20191211_151747\n",
      "33500/33500 [==============================] - 73s 2ms/sample - loss: 0.0376 - val_loss: 0.0511\n",
      "Epoch 74/100\n",
      "33280/33500 [============================>.] - ETA: 0s - loss: 0.0367\n",
      "Epoch 00074: saving model to training/20191211_151747\n",
      "33500/33500 [==============================] - 72s 2ms/sample - loss: 0.0368 - val_loss: 0.0897\n",
      "Epoch 75/100\n",
      "33280/33500 [============================>.] - ETA: 0s - loss: 0.0368\n",
      "Epoch 00075: saving model to training/20191211_151747\n",
      "33500/33500 [==============================] - 73s 2ms/sample - loss: 0.0368 - val_loss: 0.0498\n",
      "Epoch 76/100\n",
      "33280/33500 [============================>.] - ETA: 0s - loss: 0.0361\n",
      "Epoch 00076: saving model to training/20191211_151747\n",
      "33500/33500 [==============================] - 73s 2ms/sample - loss: 0.0361 - val_loss: 0.0495\n",
      "Epoch 77/100\n",
      "33280/33500 [============================>.] - ETA: 0s - loss: 0.0355\n",
      "Epoch 00077: saving model to training/20191211_151747\n",
      "33500/33500 [==============================] - 72s 2ms/sample - loss: 0.0355 - val_loss: 0.0574\n",
      "Epoch 78/100\n",
      "33280/33500 [============================>.] - ETA: 0s - loss: 0.0363\n",
      "Epoch 00078: saving model to training/20191211_151747\n",
      "33500/33500 [==============================] - 73s 2ms/sample - loss: 0.0363 - val_loss: 0.0539\n",
      "Epoch 79/100\n",
      "33280/33500 [============================>.] - ETA: 0s - loss: 0.0358\n",
      "Epoch 00079: saving model to training/20191211_151747\n",
      "33500/33500 [==============================] - 72s 2ms/sample - loss: 0.0358 - val_loss: 0.0517\n",
      "Epoch 80/100\n",
      "33280/33500 [============================>.] - ETA: 0s - loss: 0.0351\n",
      "Epoch 00080: saving model to training/20191211_151747\n",
      "33500/33500 [==============================] - 72s 2ms/sample - loss: 0.0351 - val_loss: 0.0519\n",
      "Epoch 81/100\n",
      "33280/33500 [============================>.] - ETA: 0s - loss: 0.0349\n",
      "Epoch 00081: saving model to training/20191211_151747\n",
      "33500/33500 [==============================] - 72s 2ms/sample - loss: 0.0349 - val_loss: 0.0530\n",
      "Epoch 82/100\n",
      "33280/33500 [============================>.] - ETA: 0s - loss: 0.0355\n",
      "Epoch 00082: saving model to training/20191211_151747\n",
      "33500/33500 [==============================] - 72s 2ms/sample - loss: 0.0354 - val_loss: 0.0511\n",
      "Epoch 83/100\n",
      "33280/33500 [============================>.] - ETA: 0s - loss: 0.0346\n",
      "Epoch 00083: saving model to training/20191211_151747\n",
      "33500/33500 [==============================] - 72s 2ms/sample - loss: 0.0347 - val_loss: 0.0644\n",
      "Epoch 84/100\n",
      "33280/33500 [============================>.] - ETA: 0s - loss: 0.0350\n",
      "Epoch 00084: saving model to training/20191211_151747\n",
      "33500/33500 [==============================] - 73s 2ms/sample - loss: 0.0351 - val_loss: 0.0595\n",
      "Epoch 85/100\n",
      "33280/33500 [============================>.] - ETA: 0s - loss: 0.0348\n",
      "Epoch 00085: saving model to training/20191211_151747\n",
      "33500/33500 [==============================] - 73s 2ms/sample - loss: 0.0347 - val_loss: 0.0508\n",
      "Epoch 86/100\n",
      "33280/33500 [============================>.] - ETA: 0s - loss: 0.0343\n",
      "Epoch 00086: saving model to training/20191211_151747\n",
      "33500/33500 [==============================] - 73s 2ms/sample - loss: 0.0344 - val_loss: 0.0661\n",
      "Epoch 87/100\n",
      "33280/33500 [============================>.] - ETA: 0s - loss: 0.0346\n",
      "Epoch 00087: saving model to training/20191211_151747\n",
      "33500/33500 [==============================] - 72s 2ms/sample - loss: 0.0346 - val_loss: 0.0667\n",
      "Epoch 88/100\n",
      "33280/33500 [============================>.] - ETA: 0s - loss: 0.0346\n",
      "Epoch 00088: saving model to training/20191211_151747\n",
      "33500/33500 [==============================] - 72s 2ms/sample - loss: 0.0348 - val_loss: 0.0658\n",
      "Epoch 89/100\n",
      "33280/33500 [============================>.] - ETA: 0s - loss: 0.0337\n",
      "Epoch 00089: saving model to training/20191211_151747\n",
      "33500/33500 [==============================] - 73s 2ms/sample - loss: 0.0336 - val_loss: 0.0494\n",
      "Epoch 90/100\n",
      "33280/33500 [============================>.] - ETA: 0s - loss: 0.0335\n",
      "Epoch 00090: saving model to training/20191211_151747\n",
      "33500/33500 [==============================] - 72s 2ms/sample - loss: 0.0336 - val_loss: 0.0588\n",
      "Epoch 91/100\n",
      "33280/33500 [============================>.] - ETA: 0s - loss: 0.0340\n",
      "Epoch 00091: saving model to training/20191211_151747\n",
      "33500/33500 [==============================] - 72s 2ms/sample - loss: 0.0340 - val_loss: 0.0554\n",
      "Epoch 92/100\n",
      "33280/33500 [============================>.] - ETA: 0s - loss: 0.0335\n",
      "Epoch 00092: saving model to training/20191211_151747\n",
      "33500/33500 [==============================] - 72s 2ms/sample - loss: 0.0335 - val_loss: 0.0503\n",
      "Epoch 93/100\n",
      "33280/33500 [============================>.] - ETA: 0s - loss: 0.0332\n",
      "Epoch 00093: saving model to training/20191211_151747\n",
      "33500/33500 [==============================] - 72s 2ms/sample - loss: 0.0332 - val_loss: 0.0580\n",
      "Epoch 94/100\n",
      "33280/33500 [============================>.] - ETA: 0s - loss: 0.0332\n",
      "Epoch 00094: saving model to training/20191211_151747\n",
      "33500/33500 [==============================] - 72s 2ms/sample - loss: 0.0332 - val_loss: 0.0534\n",
      "Epoch 95/100\n",
      "33280/33500 [============================>.] - ETA: 0s - loss: 0.0334\n",
      "Epoch 00095: saving model to training/20191211_151747\n",
      "33500/33500 [==============================] - 72s 2ms/sample - loss: 0.0334 - val_loss: 0.0585\n",
      "Epoch 96/100\n",
      "33280/33500 [============================>.] - ETA: 0s - loss: 0.0332\n",
      "Epoch 00096: saving model to training/20191211_151747\n",
      "33500/33500 [==============================] - 72s 2ms/sample - loss: 0.0334 - val_loss: 0.0786\n",
      "Epoch 97/100\n",
      "33280/33500 [============================>.] - ETA: 0s - loss: 0.0330\n",
      "Epoch 00097: saving model to training/20191211_151747\n",
      "33500/33500 [==============================] - 72s 2ms/sample - loss: 0.0332 - val_loss: 0.0586\n",
      "Epoch 98/100\n",
      "33280/33500 [============================>.] - ETA: 0s - loss: 0.0329\n",
      "Epoch 00098: saving model to training/20191211_151747\n",
      "33500/33500 [==============================] - 72s 2ms/sample - loss: 0.0329 - val_loss: 0.0586\n",
      "Epoch 99/100\n",
      "33280/33500 [============================>.] - ETA: 0s - loss: 0.0334\n",
      "Epoch 00099: saving model to training/20191211_151747\n",
      "33500/33500 [==============================] - 72s 2ms/sample - loss: 0.0333 - val_loss: 0.0493\n",
      "Epoch 100/100\n"
     ]
    },
    {
     "name": "stdout",
     "output_type": "stream",
     "text": [
      "33280/33500 [============================>.] - ETA: 0s - loss: 0.0325\n",
      "Epoch 00100: saving model to training/20191211_151747\n",
      "33500/33500 [==============================] - 72s 2ms/sample - loss: 0.0325 - val_loss: 0.0512\n"
     ]
    },
    {
     "data": {
      "image/png": "[encoded data removed]",
      "text/plain": [
       "<Figure size 432x288 with 1 Axes>"
      ]
     },
     "metadata": {
      "needs_background": "light"
     },
     "output_type": "display_data"
    }
   ],
   "source": [
    "# network definition\n",
    "base_network = create_base_network(input_shape)\n",
    "\n",
    "\n",
    "input_a = Input(shape=input_shape)\n",
    "input_b = Input(shape=input_shape)\n",
    "\n",
    "\n",
    "\n",
    "# because we re-use the same instance `base_network`,\n",
    "# the weights of the network\n",
    "# will be shared across the two branches\n",
    "processed_a = base_network(input_a)\n",
    "processed_b = base_network(input_b)\n",
    "\n",
    "\n",
    "\n",
    "distance = Lambda(euclidean_distance, output_shape=eucl_dist_output_shape)([processed_a, processed_b])\n",
    "\n",
    "\n",
    "\n",
    "model = Model([input_a, input_b], distance)\n",
    "\n",
    "\n",
    "# train\n",
    "rms = RMSprop()\n",
    "\n",
    "\n",
    "model.compile(loss=loss, optimizer=rms, metrics=None)  #[accuracy])\n",
    "\n",
    "model.summary()\n",
    "\n",
    "\n",
    "# Create a callback that saves the model's weights\n",
    "backup_callback = ModelCheckpoint(filepath=CHECKPOINT_PATH,\n",
    "                              save_weights_only=True,\n",
    "                              verbose=1)\n",
    "# Define the Keras TensorBoard callback\n",
    "tensorboard_callback = TensorBoard(log_dir=TENSORBOARD_PATH)\n",
    "\n",
    "history = model.fit([tr_pairs[:, 0], tr_pairs[:, 1]], tr_y,\n",
    "                  batch_size=BATCH_SIZE,\n",
    "                  epochs=EPOCHS,\n",
    "                  validation_data=([te_pairs[:, 0], te_pairs[:, 1]], te_y),\n",
    "                  callbacks=[backup_callback, tensorboard_callback])\n",
    "\n",
    "# %tensorboard --logdir logs\n",
    "\n",
    "# Get training and test loss histories\n",
    "training_loss = history.history['loss']\n",
    "test_loss = history.history['val_loss']\n",
    "\n",
    "# Create count of the number of epochs\n",
    "epoch_count = range(1, len(training_loss) + 1)\n",
    "\n",
    "# Visualize loss history\n",
    "plt.plot(epoch_count, training_loss, 'r--')\n",
    "plt.plot(epoch_count, test_loss, 'b-')\n",
    "plt.legend(['Training Loss', 'Test Loss'])\n",
    "plt.xlabel('Epoch')\n",
    "plt.ylabel('Loss')\n",
    "plt.show();"
   ]
  },
  {
   "cell_type": "code",
   "execution_count": 25,
   "metadata": {},
   "outputs": [],
   "source": [
    "# # compute final accuracy on training and test sets\n",
    "y_tr_pred = model.predict([tr_pairs[:, 0], tr_pairs[:, 1]])\n",
    "# tr_acc = compute_accuracy(tr_y, y_tr_pred)\n",
    "# print(f'* Accuracy on training set: {(100 * tr_acc):.2f}%')"
   ]
  },
  {
   "cell_type": "code",
   "execution_count": 26,
   "metadata": {},
   "outputs": [],
   "source": [
    "y_te_pred = model.predict([te_pairs[:, 0], te_pairs[:, 1]])\n",
    "# te_acc = compute_accuracy(te_y, y_te_pred)\n",
    "# print(f'* Accuracy on test set: {(100 * te_acc):.2f}%')"
   ]
  },
  {
   "cell_type": "code",
   "execution_count": 27,
   "metadata": {},
   "outputs": [],
   "source": [
    "te_pairs = te_pairs.reshape(list(te_pairs.shape[:-2]) +[-1])\n",
    "tr_pairs = tr_pairs.reshape(list(tr_pairs.shape[:-2]) +[-1])"
   ]
  },
  {
   "cell_type": "code",
   "execution_count": 32,
   "metadata": {},
   "outputs": [
    {
     "data": {
      "text/plain": [
       "array([2.23821], dtype=float32)"
      ]
     },
     "execution_count": 32,
     "metadata": {},
     "output_type": "execute_result"
    }
   ],
   "source": [
    "y_te_pred[0]"
   ]
  },
  {
   "cell_type": "code",
   "execution_count": 33,
   "metadata": {},
   "outputs": [
    {
     "data": {
      "text/plain": [
       "<tf.Tensor: id=4899814, shape=(), dtype=float32, numpy=2.3092513>"
      ]
     },
     "execution_count": 33,
     "metadata": {},
     "output_type": "execute_result"
    }
   ],
   "source": [
    "te_y[0]"
   ]
  },
  {
   "cell_type": "code",
   "execution_count": 31,
   "metadata": {},
   "outputs": [
    {
     "data": {
      "text/plain": [
       "<tf.Tensor: id=4899810, shape=(), dtype=float32, numpy=0.98476624>"
      ]
     },
     "execution_count": 31,
     "metadata": {},
     "output_type": "execute_result"
    }
   ],
   "source": [
    "loss(y_te_pred, te_y.numpy())"
   ]
  },
  {
   "cell_type": "code",
   "execution_count": 45,
   "metadata": {},
   "outputs": [],
   "source": [
    "def plot_results(projections, y_pred, y, strtype):\n",
    "    def _inner(i):\n",
    "        plt.imfig, (ax1, ax2) = plt.subplots(1, 2)\n",
    "        ax1.imshow(te_pairs[i, 0])\n",
    "        ax2.imshow(te_pairs[i, 1])\n",
    "\n",
    "        print(f\"--- {strtype} Set ---\")\n",
    "        print(f\"loss:      {loss(y_pred[i], y[i].numpy())}\")\n",
    "        print(f\"predicted: {y_pred[i][0]}\")\n",
    "        print(f\"true:      {y[i].numpy()}\")\n",
    "        \n",
    "    return _inner\n",
    "\n",
    "plot_train_results = plot_results(tr_pairs, y_tr_pred, tr_y, \"Train\")\n",
    "plot_test_results = plot_results(te_pairs, y_te_pred, te_y, \"Test\")"
   ]
  },
  {
   "cell_type": "code",
   "execution_count": 46,
   "metadata": {
    "scrolled": true
   },
   "outputs": [
    {
     "name": "stdout",
     "output_type": "stream",
     "text": [
      "--- Train Set ---\n",
      "loss:      0.00036054011434316635\n",
      "predicted: 1.6238853931427002\n",
      "true:      1.6048974990844727\n"
     ]
    },
    {
     "data": {
      "image/png": "[encoded data removed]",
      "text/plain": [
       "<Figure size 432x288 with 2 Axes>"
      ]
     },
     "metadata": {
      "needs_background": "light"
     },
     "output_type": "display_data"
    }
   ],
   "source": [
    "plot_train_results(1)"
   ]
  },
  {
   "cell_type": "code",
   "execution_count": 49,
   "metadata": {},
   "outputs": [
    {
     "name": "stdout",
     "output_type": "stream",
     "text": [
      "--- Test Set ---\n",
      "loss:      0.005046872887760401\n",
      "predicted: 2.2382099628448486\n",
      "true:      2.309251308441162\n"
     ]
    },
    {
     "data": {
      "image/png": "[encoded data removed]",
      "text/plain": [
       "<Figure size 432x288 with 2 Axes>"
      ]
     },
     "metadata": {
      "needs_background": "light"
     },
     "output_type": "display_data"
    }
   ],
   "source": [
    "plot_test_results(0)"
   ]
  },
  {
   "cell_type": "code",
   "execution_count": null,
   "metadata": {},
   "outputs": [],
   "source": []
  }
 ],
 "metadata": {
  "kernelspec": {
   "display_name": "Python 3",
   "language": "python",
   "name": "python3"
  },
  "language_info": {
   "codemirror_mode": {
    "name": "ipython",
    "version": 3
   },
   "file_extension": ".py",
   "mimetype": "text/x-python",
   "name": "python",
   "nbconvert_exporter": "python",
   "pygments_lexer": "ipython3",
   "version": "3.6.9"
  }
 },
 "nbformat": 4,
 "nbformat_minor": 2
}
