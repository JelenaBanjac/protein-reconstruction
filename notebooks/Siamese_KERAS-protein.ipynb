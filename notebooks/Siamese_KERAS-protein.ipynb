{
 "cells": [
  {
   "cell_type": "markdown",
   "metadata": {},
   "source": [
    "# Siamese"
   ]
  },
  {
   "cell_type": "markdown",
   "metadata": {},
   "source": [
    "Source: https://keras.io/examples/mnist_siamese/"
   ]
  },
  {
   "cell_type": "code",
   "execution_count": 1,
   "metadata": {},
   "outputs": [
    {
     "name": "stderr",
     "output_type": "stream",
     "text": [
      "Warning: To use the exr data format, please install the OpenEXR package following the instructions detailed in the README at github.com/tensorflow/graphics.\n",
      "Warning: To use the threejs_vizualization, please install the colabtools package following the instructions detailed in the README at github.com/tensorflow/graphics.\n"
     ]
    }
   ],
   "source": [
    "import os\n",
    "import h5py\n",
    "from time import time, strftime\n",
    "from datetime import datetime\n",
    "import matplotlib.pyplot as plt\n",
    "import numpy as np\n",
    "from sklearn.model_selection import train_test_split\n",
    "from sklearn.neighbors import NearestNeighbors\n",
    "import ipyvolume as ipv\n",
    "import pathlib\n",
    "\n",
    "import sys\n",
    "sys.path.append(\"..\") \n",
    "from cryoem.projections import RotationMatrix\n",
    "\n",
    "import random\n",
    "import tensorflow as tf\n",
    "from tensorflow.keras.datasets import mnist\n",
    "from tensorflow.keras.models import Model\n",
    "from tensorflow.keras.layers import Input, Conv2D, MaxPooling2D, AvgPool2D, Lambda\n",
    "from tensorflow.keras.optimizers import RMSprop, Adam\n",
    "from tensorflow.keras import backend as K\n",
    "from tensorflow.keras.callbacks import ModelCheckpoint\n",
    "from tensorflow.keras.callbacks import TensorBoard\n",
    "\n",
    "from tensorflow_graphics.util import shape\n",
    "from tensorflow_graphics.geometry.transformation import quaternion, euler\n",
    "from tensorflow_graphics.util import asserts\n",
    "from tensorflow_graphics.math import vector\n",
    "from tensorflow_graphics.util import safe_ops"
   ]
  },
  {
   "cell_type": "code",
   "execution_count": 2,
   "metadata": {},
   "outputs": [
    {
     "name": "stdout",
     "output_type": "stream",
     "text": [
      "[name: \"/device:CPU:0\"\n",
      "device_type: \"CPU\"\n",
      "memory_limit: 268435456\n",
      "locality {\n",
      "}\n",
      "incarnation: 1994673982696724115\n",
      ", name: \"/device:XLA_CPU:0\"\n",
      "device_type: \"XLA_CPU\"\n",
      "memory_limit: 17179869184\n",
      "locality {\n",
      "}\n",
      "incarnation: 10761621229377884409\n",
      "physical_device_desc: \"device: XLA_CPU device\"\n",
      ", name: \"/device:XLA_GPU:0\"\n",
      "device_type: \"XLA_GPU\"\n",
      "memory_limit: 17179869184\n",
      "locality {\n",
      "}\n",
      "incarnation: 4747071711708008764\n",
      "physical_device_desc: \"device: XLA_GPU device\"\n",
      ", name: \"/device:XLA_GPU:1\"\n",
      "device_type: \"XLA_GPU\"\n",
      "memory_limit: 17179869184\n",
      "locality {\n",
      "}\n",
      "incarnation: 16441025786747154996\n",
      "physical_device_desc: \"device: XLA_GPU device\"\n",
      ", name: \"/device:XLA_GPU:2\"\n",
      "device_type: \"XLA_GPU\"\n",
      "memory_limit: 17179869184\n",
      "locality {\n",
      "}\n",
      "incarnation: 8395547617775225199\n",
      "physical_device_desc: \"device: XLA_GPU device\"\n",
      ", name: \"/device:GPU:0\"\n",
      "device_type: \"GPU\"\n",
      "memory_limit: 11322146816\n",
      "locality {\n",
      "  bus_id: 1\n",
      "  links {\n",
      "    link {\n",
      "      device_id: 1\n",
      "      type: \"StreamExecutor\"\n",
      "      strength: 1\n",
      "    }\n",
      "    link {\n",
      "      device_id: 2\n",
      "      type: \"StreamExecutor\"\n",
      "      strength: 1\n",
      "    }\n",
      "  }\n",
      "}\n",
      "incarnation: 17662818925031338274\n",
      "physical_device_desc: \"device: 0, name: Tesla K40c, pci bus id: 0000:3b:00.0, compute capability: 3.5\"\n",
      ", name: \"/device:GPU:1\"\n",
      "device_type: \"GPU\"\n",
      "memory_limit: 11322146816\n",
      "locality {\n",
      "  bus_id: 2\n",
      "  numa_node: 1\n",
      "  links {\n",
      "    link {\n",
      "      type: \"StreamExecutor\"\n",
      "      strength: 1\n",
      "    }\n",
      "    link {\n",
      "      device_id: 2\n",
      "      type: \"StreamExecutor\"\n",
      "      strength: 1\n",
      "    }\n",
      "  }\n",
      "}\n",
      "incarnation: 5944867051748298042\n",
      "physical_device_desc: \"device: 1, name: Tesla K40c, pci bus id: 0000:86:00.0, compute capability: 3.5\"\n",
      ", name: \"/device:GPU:2\"\n",
      "device_type: \"GPU\"\n",
      "memory_limit: 11322146816\n",
      "locality {\n",
      "  bus_id: 2\n",
      "  numa_node: 1\n",
      "  links {\n",
      "    link {\n",
      "      type: \"StreamExecutor\"\n",
      "      strength: 1\n",
      "    }\n",
      "    link {\n",
      "      device_id: 1\n",
      "      type: \"StreamExecutor\"\n",
      "      strength: 1\n",
      "    }\n",
      "  }\n",
      "}\n",
      "incarnation: 7251679580631160184\n",
      "physical_device_desc: \"device: 2, name: Tesla K40c, pci bus id: 0000:da:00.0, compute capability: 3.5\"\n",
      "]\n"
     ]
    }
   ],
   "source": [
    "from tensorflow.python.client import device_lib \n",
    "print(device_lib.list_local_devices())"
   ]
  },
  {
   "cell_type": "markdown",
   "metadata": {},
   "source": [
    "## Read data "
   ]
  },
  {
   "cell_type": "code",
   "execution_count": 3,
   "metadata": {},
   "outputs": [
    {
     "name": "stdout",
     "output_type": "stream",
     "text": [
      "5000 projections of images with dimension (116, 116) pixels\n",
      "5000 sets of 3 ground truth angles of corresponding projection images\n"
     ]
    }
   ],
   "source": [
    "angle_ranges = \"2.0,0.4,2.0\"\n",
    "angle_shift = \"0.0,0.0,0.0\"\n",
    "num_projections = 5000\n",
    "dir_name = \"../data/\"\n",
    "projections_filename = f\"5j0n_ProjectionsAngles_ProjNber{num_projections}_AngCoverage{angle_ranges}_AngShift{angle_shift}\"\n",
    "\n",
    "\n",
    "# load structures\n",
    "data = h5py.File(os.path.join(dir_name, f\"{projections_filename}.h5\"), 'r')\n",
    "\n",
    "X, y = data['Projections'], data['Angles']\n",
    "print(f\"{X.shape[0]} projections of images with dimension {X.shape[1:]} pixels\")\n",
    "print(f\"{y.shape[0]} sets of {y.shape[1]} ground truth angles of corresponding projection images\")"
   ]
  },
  {
   "cell_type": "code",
   "execution_count": 4,
   "metadata": {},
   "outputs": [
    {
     "data": {
      "application/vnd.jupyter.widget-view+json": {
       "model_id": "36435c50393e49e28cfdd2cdf38f043a",
       "version_major": 2,
       "version_minor": 0
      },
      "text/plain": [
       "VBox(children=(Figure(camera=PerspectiveCamera(fov=46.0, position=(0.0, 0.0, 2.0), quaternion=(0.0, 0.0, 0.0, …"
      ]
     },
     "metadata": {},
     "output_type": "display_data"
    }
   ],
   "source": [
    "# plot coverage\n",
    "all_vectors = RotationMatrix(y)\n",
    "ipv.figure(width=500, height=500)\n",
    "ipv.pylab.xlim(-1, 1)\n",
    "ipv.pylab.ylim(-1, 1)\n",
    "ipv.pylab.zlim(-1, 1)\n",
    "ipv.scatter(all_vectors[:,0], all_vectors[:,2], all_vectors[:,1], marker=\"sphere\", color=\"blue\", size=1)\n",
    "ipv.pylab.save(f\"data/angle_variety/{angle_ranges}.html\")\n",
    "ipv.show()"
   ]
  },
  {
   "cell_type": "markdown",
   "metadata": {},
   "source": [
    "## Distances\n"
   ]
  },
  {
   "cell_type": "markdown",
   "metadata": {},
   "source": [
    "#### Angle Distance"
   ]
  },
  {
   "cell_type": "code",
   "execution_count": 5,
   "metadata": {},
   "outputs": [],
   "source": [
    "def euler2quaternion(angles):\n",
    "    \"\"\"\n",
    "    Quaternion implements 3 rotations along x, y, z axis. \n",
    "    We compose them to get the final (single) rotation.\n",
    "    \"\"\"\n",
    "    with tf.compat.v1.name_scope(None, \"quaternion_from_euler\", [angles]):\n",
    "        #print(angles)\n",
    "        a = [angles[i] for i in range(len(angles))]\n",
    "\n",
    "        a = tf.convert_to_tensor(value=a)\n",
    "\n",
    "        shape.check_static(tensor=a, tensor_name=\"angles\", has_dim_equals=(-1, 3))\n",
    "\n",
    "        half_angles = a / 2.0\n",
    "        cos_half_angles = tf.cos(half_angles)\n",
    "        sin_half_angles = tf.sin(half_angles)\n",
    "        c1, c2, c3 = tf.unstack(cos_half_angles, axis=-1)\n",
    "        s1, s2, s3 = tf.unstack(sin_half_angles, axis=-1)\n",
    "        # Tait-Bryan angles\n",
    "        #w = c1 * c2 * c3 + s1 * s2 * s3\n",
    "        #x = -c1 * s2 * s3 + s1 * c2 * c3\n",
    "        #y = c1 * s2 * c3 + s1 * c2 * s3\n",
    "        #z = -s1 * s2 * c3 + c1 * c2 * s3\n",
    "        \n",
    "        # Euler angles\n",
    "        w = c1*c2*c3 - s1*c2*s3\n",
    "        x = c1*s2*s3 - s1*s2*c3\n",
    "        y = c1*s2*c3 + s1*s2*s3\n",
    "        z = c1*c2*s3 + s1*c2*c3\n",
    "        return tf.stack((x, y, z, w), axis=-1)\n",
    "\n",
    "def d_q(q1, q2):\n",
    "     with (tf.compat.v1.name_scope(None, \"quaternion_relative_angle\",[q1, q2])):\n",
    "        q1 = tf.convert_to_tensor(value=q1)\n",
    "        q2 = tf.convert_to_tensor(value=q2)\n",
    "      \n",
    "        shape.check_static(\n",
    "            tensor=q1, tensor_name=\"quaternion1\", has_dim_equals=(-1, 4))\n",
    "        shape.check_static(\n",
    "            tensor=q2, tensor_name=\"quaternion2\", has_dim_equals=(-1, 4))\n",
    "\n",
    "        q1 = quaternion.normalize(q1)\n",
    "        q2 = quaternion.normalize(q2)\n",
    "        \n",
    "        dot_product = vector.dot(q1, q2, keepdims=False)\n",
    "        \n",
    "        # Ensure dot product is in range [-1. 1].\n",
    "        const = 1.8 #4.0 #.63\n",
    "        eps_dot_prod = const * asserts.select_eps_for_addition(dot_product.dtype)\n",
    "        dot_product = safe_ops.safe_shrink(\n",
    "            dot_product, -1, 1, open_bounds=False, eps=eps_dot_prod)\n",
    "\n",
    "        return 2.0 * tf.acos(tf.abs(dot_product)) "
   ]
  },
  {
   "cell_type": "code",
   "execution_count": 6,
   "metadata": {},
   "outputs": [],
   "source": [
    "assert (d_q(euler2quaternion([np.pi/2]*3), euler2quaternion([2*np.pi-np.pi/2]*3))-np.pi) < 1e-7"
   ]
  },
  {
   "cell_type": "markdown",
   "metadata": {},
   "source": [
    "#### Projection Distance"
   ]
  },
  {
   "cell_type": "code",
   "execution_count": 7,
   "metadata": {},
   "outputs": [],
   "source": [
    "def d_p(p1, p2):\n",
    "    # (learned) distance between two images.\n",
    "    # for now, Euclid dist\n",
    "    p1 = tf.convert_to_tensor(value=p1, dtype=np.float64)\n",
    "    p2 = tf.convert_to_tensor(value=p2, dtype=np.float64)\n",
    "\n",
    "    if len(p1.shape) > 1:\n",
    "        dist = tf.norm(p1-p2, ord='euclidean', axis=1, keepdims=True)\n",
    "    else:\n",
    "        dist = tf.norm(p1-p2, ord='euclidean')\n",
    "\n",
    "    return dist"
   ]
  },
  {
   "cell_type": "code",
   "execution_count": 8,
   "metadata": {},
   "outputs": [],
   "source": [
    "assert tf.reduce_mean(d_p(X[0:3], X[0:3])) < 1e-7"
   ]
  },
  {
   "cell_type": "markdown",
   "metadata": {},
   "source": [
    "---"
   ]
  },
  {
   "cell_type": "markdown",
   "metadata": {},
   "source": [
    "## kNN of the Projections"
   ]
  },
  {
   "cell_type": "code",
   "execution_count": 9,
   "metadata": {},
   "outputs": [],
   "source": [
    "k = 5"
   ]
  },
  {
   "cell_type": "code",
   "execution_count": 10,
   "metadata": {},
   "outputs": [],
   "source": [
    "def get_knn_output(k):\n",
    "    start_time = time()\n",
    "\n",
    "    _X = np.reshape(X, (X.shape[0], -1))\n",
    "    \n",
    "    name = projections_filename.split('/')[-1]\n",
    "    if not os.path.exists(f'data/knn{k}_{name}_distances.npy'):\n",
    "        nbrs = NearestNeighbors(n_neighbors=k, metric=d_p, algorithm='ball_tree', n_jobs=-1).fit(_X)\n",
    "        distances_p, indices_p = nbrs.kneighbors(_X)\n",
    "        A_p = nbrs.kneighbors_graph(_X).toarray()\n",
    "\n",
    "        try:\n",
    "            np.save(f'data/knn{k}_{name}_indices', indices_p)         # Indices of the nearest points in the population matrix\n",
    "            np.save(f'data/knn{k}_{name}_distances', distances_p)     # Array representing the lengths to points\n",
    "            np.save(f'data/knn{k}_{name}_A', A_p)                     # Sparse graph showing the connections between neighboring points\n",
    "        except:\n",
    "            pass\n",
    "        print(f\"--- {time() - start_time} seconds ---\")\n",
    "    \n",
    "    else:\n",
    "        indices_p     = np.load(f'data/knn{k}_{name}_indices.npy')     # shape: NUM_IMGS, NUM_NEIGHBOURS\n",
    "        distances_p   = np.load(f'data/knn{k}_{name}_distances.npy')   # shape: NUM_IMGS, NUM_NEIGHBOURS\n",
    "        A_p           = np.load(f'data/knn{k}_{name}_A.npy')           # shape: NUM_IMGS, NUM_IMGS\n",
    "\n",
    "    \n",
    "    return indices_p, distances_p, A_p "
   ]
  },
  {
   "cell_type": "code",
   "execution_count": 11,
   "metadata": {},
   "outputs": [],
   "source": [
    "# --- 23594.572999954224 seconds ---\n",
    "indices_p, distances_p, A_p = get_knn_output(k=k)"
   ]
  },
  {
   "cell_type": "code",
   "execution_count": 12,
   "metadata": {},
   "outputs": [
    {
     "data": {
      "text/plain": [
       "63.95002548806251"
      ]
     },
     "execution_count": 12,
     "metadata": {},
     "output_type": "execute_result"
    }
   ],
   "source": [
    "np.max(distances_p)"
   ]
  },
  {
   "cell_type": "markdown",
   "metadata": {},
   "source": [
    "---"
   ]
  },
  {
   "cell_type": "markdown",
   "metadata": {},
   "source": [
    "## Prepare for training"
   ]
  },
  {
   "cell_type": "code",
   "execution_count": 13,
   "metadata": {},
   "outputs": [],
   "source": [
    "def sample_pairs(num_projections, num_pairs, style=\"random\", k=None):\n",
    "    if not k and style != \"random\":\n",
    "        raise ValueError(\"Please specify k for kNN for sample_pairs method\")\n",
    "    \n",
    "    if style==\"random\":\n",
    "        idx1 = list(np.random.randint(0, num_projections, num_pairs))\n",
    "        idx2 = list(np.random.randint(0, num_projections, num_pairs))\n",
    "    \n",
    "    elif style==\"knn\":\n",
    "        idx1 = list(np.random.randint(0, num_projections, num_pairs))\n",
    "        indices_p, distances_p, A_p = get_knn_output(k=k)\n",
    "        idx2 = [indices_p[i][np.random.randint(1, k)] for i in idx1]\n",
    " \n",
    "    elif style==\"knn_and_random\":\n",
    "        # select random sample for the first element of pair\n",
    "        idx1 = list(np.random.randint(0, num_projections, num_pairs))\n",
    "        \n",
    "        # half from kNN\n",
    "        indices_p, distances_p, A_p = get_knn_output(k=k)\n",
    "        idx2_knn = [indices_p[i][np.random.randint(1, k)] for i in idx1[:num_pairs//2]]\n",
    "        idx2_random = list(np.random.randint(0, num_projections, num_pairs//2))\n",
    "        # half random\n",
    "        idx2 = idx2_knn + idx2_random\n",
    "        \n",
    "    return idx1, idx2"
   ]
  },
  {
   "cell_type": "code",
   "execution_count": 14,
   "metadata": {},
   "outputs": [],
   "source": [
    "def euclidean_distance(vects):\n",
    "    x, y = vects\n",
    "    sum_square = K.sum(K.square(x - y), axis=1, keepdims=True)\n",
    "    return K.sqrt(K.maximum(sum_square, K.epsilon()))\n",
    "\n",
    "\n",
    "def eucl_dist_output_shape(shapes):\n",
    "    shape1, shape2 = shapes\n",
    "    return (shape1[0], 1)\n",
    "\n",
    "def loss(y_true, y_pred):\n",
    "    '''Contrastive loss from Hadsell-et-al.'06\n",
    "    http://yann.lecun.com/exdb/publis/pdf/hadsell-chopra-lecun-06.pdf\n",
    "    '''\n",
    "    # MSE: K.mean(K.square(y_pred - y_true))\n",
    "    # MAE: K.mean(K.abs(y_pred - y_true))\n",
    "    return K.mean(K.abs(y_pred - y_true))\n",
    "\n",
    "def create_pairs(x, y, num_pairs):\n",
    "    '''Positive and negative pair creation.\n",
    "    Alternates between positive and negative pairs.\n",
    "    '''\n",
    "    pairs = []\n",
    "    labels = []\n",
    "    \n",
    "    # Sample some pairs.\n",
    "    idx1, idx2 = sample_pairs(num_projections=NUM_PROJECTIONS, num_pairs=num_pairs, style=\"knn_and_random\", k=k)\n",
    "    \n",
    "    for z1, z2 in zip(idx1, idx2):\n",
    "        pairs += [[x[z1], x[z2]]]\n",
    "        labels += [d_q(euler2quaternion(y[z1]), euler2quaternion(y[z2]))]\n",
    "\n",
    "    return np.array(pairs), np.array(labels)\n",
    "\n",
    "\n",
    "def create_base_network(input_shape):\n",
    "    '''Base network to be shared (eq. to feature extraction).\n",
    "    '''\n",
    "    input_x = Input(shape=input_shape)\n",
    "\n",
    "    # add Convolution, MaxPool, Conv2D, remove Dropout and Dense\n",
    "    x = Conv2D(filters=32, kernel_size=[7, 7], activation='relu', padding='same', kernel_initializer='glorot_uniform')(input_x)\n",
    "    x = MaxPooling2D([2, 2], padding='same')(x)\n",
    "\n",
    "    x = Conv2D(64, [5, 5], activation='relu', padding='same', kernel_initializer='glorot_uniform')(x)\n",
    "    x = MaxPooling2D([2, 2], padding='same')(x)\n",
    "\n",
    "    x = Conv2D(128, [3, 3], activation='relu', padding='same', kernel_initializer='glorot_uniform')(x)\n",
    "    x = MaxPooling2D([2, 2], padding='same')(x)\n",
    "\n",
    "    x = Conv2D(256, [1, 1], activation='relu', padding='same', kernel_initializer='glorot_uniform')(x)\n",
    "    x = MaxPooling2D([2, 2], padding='same')(x)\n",
    "\n",
    "    x = AvgPool2D(pool_size=[8, 8], padding='same')(x)\n",
    "\n",
    "    x = tf.squeeze(x, axis=[1,2])\n",
    "    \n",
    "    return Model(input_x, x)"
   ]
  },
  {
   "cell_type": "markdown",
   "metadata": {},
   "source": [
    "## Training"
   ]
  },
  {
   "cell_type": "code",
   "execution_count": 15,
   "metadata": {},
   "outputs": [],
   "source": [
    "EPOCHS = 100\n",
    "BATCH_SIZE = 256\n",
    "NUM_PROJECTIONS = 5000\n",
    "NUM_PAIRS = 50000\n",
    "LR = 0.001\n",
    "CHECKPOINT_PATH = f\"training/{strftime('%Y%m%d_%H%M%S')}\"\n",
    "pathlib.Path(CHECKPOINT_PATH).mkdir(parents=True, exist_ok=True)"
   ]
  },
  {
   "cell_type": "code",
   "execution_count": 16,
   "metadata": {},
   "outputs": [],
   "source": [
    "# the data, split between train and test sets\n",
    "train_idx, test_idx, _, _ = train_test_split(range(NUM_PAIRS), \n",
    "                                             range(NUM_PAIRS), \n",
    "                                             test_size=0.33, \n",
    "                                             random_state=42)\n",
    "train_idx = sorted(train_idx)\n",
    "test_idx = sorted(test_idx)"
   ]
  },
  {
   "cell_type": "code",
   "execution_count": 17,
   "metadata": {},
   "outputs": [],
   "source": [
    "X_data, y_data = create_pairs(X, y, NUM_PAIRS)\n",
    "\n",
    "tr_pairs, tr_y = X_data[train_idx], y_data[train_idx]\n",
    "tr_pairs = tr_pairs.reshape(list(tr_pairs.shape) + [-1])\n",
    "tr_y = tf.cast(tr_y, dtype=tf.float32)\n",
    "\n",
    "te_pairs, te_y = X_data[test_idx], y_data[test_idx]\n",
    "te_pairs = te_pairs.reshape(list(te_pairs.shape) + [-1])\n",
    "te_y = tf.cast(te_y, dtype=tf.float32)"
   ]
  },
  {
   "cell_type": "code",
   "execution_count": 18,
   "metadata": {},
   "outputs": [
    {
     "name": "stdout",
     "output_type": "stream",
     "text": [
      "Input images shape (116, 116, 1)\n"
     ]
    }
   ],
   "source": [
    "input_shape = te_pairs[:, 0].shape[1:]#list(te_pairs[:, 0].shape[1:])\n",
    "print(f\"Input images shape {input_shape}\")"
   ]
  },
  {
   "cell_type": "code",
   "execution_count": 19,
   "metadata": {},
   "outputs": [
    {
     "data": {
      "text/plain": [
       "(33500, 2, 116, 116, 1)"
      ]
     },
     "execution_count": 19,
     "metadata": {},
     "output_type": "execute_result"
    }
   ],
   "source": [
    "tr_pairs.shape"
   ]
  },
  {
   "cell_type": "code",
   "execution_count": 20,
   "metadata": {},
   "outputs": [
    {
     "data": {
      "text/plain": [
       "(16500, 116, 116, 1)"
      ]
     },
     "execution_count": 20,
     "metadata": {},
     "output_type": "execute_result"
    }
   ],
   "source": [
    "te_pairs[:, 0].shape"
   ]
  },
  {
   "cell_type": "code",
   "execution_count": 21,
   "metadata": {},
   "outputs": [
    {
     "data": {
      "text/plain": [
       "TensorShape([16500])"
      ]
     },
     "execution_count": 21,
     "metadata": {},
     "output_type": "execute_result"
    }
   ],
   "source": [
    "te_y.shape"
   ]
  },
  {
   "cell_type": "code",
   "execution_count": 22,
   "metadata": {},
   "outputs": [
    {
     "name": "stdout",
     "output_type": "stream",
     "text": [
      "Model: \"model_1\"\n",
      "__________________________________________________________________________________________________\n",
      "Layer (type)                    Output Shape         Param #     Connected to                     \n",
      "==================================================================================================\n",
      "input_2 (InputLayer)            [(None, 116, 116, 1) 0                                            \n",
      "__________________________________________________________________________________________________\n",
      "input_3 (InputLayer)            [(None, 116, 116, 1) 0                                            \n",
      "__________________________________________________________________________________________________\n",
      "model (Model)                   (None, 256)          159744      input_2[0][0]                    \n",
      "                                                                 input_3[0][0]                    \n",
      "__________________________________________________________________________________________________\n",
      "lambda (Lambda)                 (None, 1)            0           model[1][0]                      \n",
      "                                                                 model[2][0]                      \n",
      "==================================================================================================\n",
      "Total params: 159,744\n",
      "Trainable params: 159,744\n",
      "Non-trainable params: 0\n",
      "__________________________________________________________________________________________________\n",
      "Train on 33500 samples, validate on 16500 samples\n",
      "Epoch 1/100\n",
      "33280/33500 [============================>.] - ETA: 0s - loss: 0.6821\n",
      "Epoch 00001: saving model to training/20191211_224324\n",
      "33500/33500 [==============================] - 83s 2ms/sample - loss: 0.6807 - val_loss: 0.4965\n",
      "Epoch 2/100\n",
      "33280/33500 [============================>.] - ETA: 0s - loss: 0.4102\n",
      "Epoch 00002: saving model to training/20191211_224324\n",
      "33500/33500 [==============================] - 76s 2ms/sample - loss: 0.4098 - val_loss: 0.3528\n",
      "Epoch 3/100\n",
      "33280/33500 [============================>.] - ETA: 0s - loss: 0.3316\n",
      "Epoch 00003: saving model to training/20191211_224324\n",
      "33500/33500 [==============================] - 74s 2ms/sample - loss: 0.3314 - val_loss: 0.3209\n",
      "Epoch 4/100\n",
      "33280/33500 [============================>.] - ETA: 0s - loss: 0.2970\n",
      "Epoch 00004: saving model to training/20191211_224324\n",
      "33500/33500 [==============================] - 75s 2ms/sample - loss: 0.2969 - val_loss: 0.2816\n",
      "Epoch 5/100\n",
      "33280/33500 [============================>.] - ETA: 0s - loss: 0.2745\n",
      "Epoch 00005: saving model to training/20191211_224324\n",
      "33500/33500 [==============================] - 74s 2ms/sample - loss: 0.2746 - val_loss: 0.2784\n",
      "Epoch 6/100\n",
      "33280/33500 [============================>.] - ETA: 0s - loss: 0.2597\n",
      "Epoch 00006: saving model to training/20191211_224324\n",
      "33500/33500 [==============================] - 73s 2ms/sample - loss: 0.2596 - val_loss: 0.2529\n",
      "Epoch 7/100\n",
      "33280/33500 [============================>.] - ETA: 0s - loss: 0.2422\n",
      "Epoch 00007: saving model to training/20191211_224324\n",
      "33500/33500 [==============================] - 74s 2ms/sample - loss: 0.2422 - val_loss: 0.2457\n",
      "Epoch 8/100\n",
      "33280/33500 [============================>.] - ETA: 0s - loss: 0.2344\n",
      "Epoch 00008: saving model to training/20191211_224324\n",
      "33500/33500 [==============================] - 73s 2ms/sample - loss: 0.2346 - val_loss: 0.2453\n",
      "Epoch 9/100\n",
      "33280/33500 [============================>.] - ETA: 0s - loss: 0.2247\n",
      "Epoch 00009: saving model to training/20191211_224324\n",
      "33500/33500 [==============================] - 73s 2ms/sample - loss: 0.2248 - val_loss: 0.2319\n",
      "Epoch 10/100\n",
      "33280/33500 [============================>.] - ETA: 0s - loss: 0.2178\n",
      "Epoch 00010: saving model to training/20191211_224324\n",
      "33500/33500 [==============================] - 73s 2ms/sample - loss: 0.2178 - val_loss: 0.2209\n",
      "Epoch 11/100\n",
      "33280/33500 [============================>.] - ETA: 0s - loss: 0.2099\n",
      "Epoch 00011: saving model to training/20191211_224324\n",
      "33500/33500 [==============================] - 73s 2ms/sample - loss: 0.2100 - val_loss: 0.2199\n",
      "Epoch 12/100\n",
      "33280/33500 [============================>.] - ETA: 0s - loss: 0.2077\n",
      "Epoch 00012: saving model to training/20191211_224324\n",
      "33500/33500 [==============================] - 73s 2ms/sample - loss: 0.2077 - val_loss: 0.2176\n",
      "Epoch 13/100\n",
      "33280/33500 [============================>.] - ETA: 0s - loss: 0.2014\n",
      "Epoch 00013: saving model to training/20191211_224324\n",
      "33500/33500 [==============================] - 73s 2ms/sample - loss: 0.2015 - val_loss: 0.2135\n",
      "Epoch 14/100\n",
      "33280/33500 [============================>.] - ETA: 0s - loss: 0.1979\n",
      "Epoch 00014: saving model to training/20191211_224324\n",
      "33500/33500 [==============================] - 73s 2ms/sample - loss: 0.1979 - val_loss: 0.2140\n",
      "Epoch 15/100\n",
      "33280/33500 [============================>.] - ETA: 0s - loss: 0.1974\n",
      "Epoch 00015: saving model to training/20191211_224324\n",
      "33500/33500 [==============================] - 73s 2ms/sample - loss: 0.1973 - val_loss: 0.2255\n",
      "Epoch 16/100\n",
      "33280/33500 [============================>.] - ETA: 0s - loss: 0.1897\n",
      "Epoch 00016: saving model to training/20191211_224324\n",
      "33500/33500 [==============================] - 74s 2ms/sample - loss: 0.1897 - val_loss: 0.2028\n",
      "Epoch 17/100\n",
      "33280/33500 [============================>.] - ETA: 0s - loss: 0.1859\n",
      "Epoch 00017: saving model to training/20191211_224324\n",
      "33500/33500 [==============================] - 72s 2ms/sample - loss: 0.1859 - val_loss: 0.2025\n",
      "Epoch 18/100\n",
      "33280/33500 [============================>.] - ETA: 0s - loss: 0.1824\n",
      "Epoch 00018: saving model to training/20191211_224324\n",
      "33500/33500 [==============================] - 72s 2ms/sample - loss: 0.1824 - val_loss: 0.2028\n",
      "Epoch 19/100\n",
      "33280/33500 [============================>.] - ETA: 0s - loss: 0.1791\n",
      "Epoch 00019: saving model to training/20191211_224324\n",
      "33500/33500 [==============================] - 72s 2ms/sample - loss: 0.1792 - val_loss: 0.2090\n",
      "Epoch 20/100\n",
      "33280/33500 [============================>.] - ETA: 0s - loss: 0.1780\n",
      "Epoch 00020: saving model to training/20191211_224324\n",
      "33500/33500 [==============================] - 72s 2ms/sample - loss: 0.1781 - val_loss: 0.1956\n",
      "Epoch 21/100\n",
      "33280/33500 [============================>.] - ETA: 0s - loss: 0.1756\n",
      "Epoch 00021: saving model to training/20191211_224324\n",
      "33500/33500 [==============================] - 72s 2ms/sample - loss: 0.1756 - val_loss: 0.1966\n",
      "Epoch 22/100\n",
      "33280/33500 [============================>.] - ETA: 0s - loss: 0.1713\n",
      "Epoch 00022: saving model to training/20191211_224324\n",
      "33500/33500 [==============================] - 73s 2ms/sample - loss: 0.1713 - val_loss: 0.1938\n",
      "Epoch 23/100\n",
      "33280/33500 [============================>.] - ETA: 0s - loss: 0.1709\n",
      "Epoch 00023: saving model to training/20191211_224324\n",
      "33500/33500 [==============================] - 72s 2ms/sample - loss: 0.1710 - val_loss: 0.1943\n",
      "Epoch 24/100\n",
      "33280/33500 [============================>.] - ETA: 0s - loss: 0.1677\n",
      "Epoch 00024: saving model to training/20191211_224324\n",
      "33500/33500 [==============================] - 73s 2ms/sample - loss: 0.1678 - val_loss: 0.1890\n",
      "Epoch 25/100\n",
      "33280/33500 [============================>.] - ETA: 0s - loss: 0.1677\n",
      "Epoch 00025: saving model to training/20191211_224324\n",
      "33500/33500 [==============================] - 72s 2ms/sample - loss: 0.1678 - val_loss: 0.1920\n",
      "Epoch 26/100\n",
      "33280/33500 [============================>.] - ETA: 0s - loss: 0.1652\n",
      "Epoch 00026: saving model to training/20191211_224324\n",
      "33500/33500 [==============================] - 72s 2ms/sample - loss: 0.1652 - val_loss: 0.1901\n",
      "Epoch 27/100\n",
      "33280/33500 [============================>.] - ETA: 0s - loss: 0.1651\n",
      "Epoch 00027: saving model to training/20191211_224324\n",
      "33500/33500 [==============================] - 72s 2ms/sample - loss: 0.1650 - val_loss: 0.1881\n",
      "Epoch 28/100\n",
      "33280/33500 [============================>.] - ETA: 0s - loss: 0.1610\n",
      "Epoch 00028: saving model to training/20191211_224324\n",
      "33500/33500 [==============================] - 73s 2ms/sample - loss: 0.1610 - val_loss: 0.1899\n",
      "Epoch 29/100\n",
      "33280/33500 [============================>.] - ETA: 0s - loss: 0.1584\n",
      "Epoch 00029: saving model to training/20191211_224324\n",
      "33500/33500 [==============================] - 73s 2ms/sample - loss: 0.1585 - val_loss: 0.1960\n"
     ]
    },
    {
     "name": "stdout",
     "output_type": "stream",
     "text": [
      "Epoch 30/100\n",
      "33280/33500 [============================>.] - ETA: 0s - loss: 0.1590\n",
      "Epoch 00030: saving model to training/20191211_224324\n",
      "33500/33500 [==============================] - 72s 2ms/sample - loss: 0.1590 - val_loss: 0.1824\n",
      "Epoch 31/100\n",
      "33280/33500 [============================>.] - ETA: 0s - loss: 0.1578\n",
      "Epoch 00031: saving model to training/20191211_224324\n",
      "33500/33500 [==============================] - 72s 2ms/sample - loss: 0.1578 - val_loss: 0.1833\n",
      "Epoch 32/100\n",
      "33280/33500 [============================>.] - ETA: 0s - loss: 0.1542\n",
      "Epoch 00032: saving model to training/20191211_224324\n",
      "33500/33500 [==============================] - 73s 2ms/sample - loss: 0.1542 - val_loss: 0.1826\n",
      "Epoch 33/100\n",
      "33280/33500 [============================>.] - ETA: 0s - loss: 0.1543\n",
      "Epoch 00033: saving model to training/20191211_224324\n",
      "33500/33500 [==============================] - 72s 2ms/sample - loss: 0.1543 - val_loss: 0.1840\n",
      "Epoch 34/100\n",
      "33280/33500 [============================>.] - ETA: 0s - loss: 0.1554\n",
      "Epoch 00034: saving model to training/20191211_224324\n",
      "33500/33500 [==============================] - 72s 2ms/sample - loss: 0.1554 - val_loss: 0.1862\n",
      "Epoch 35/100\n",
      "33280/33500 [============================>.] - ETA: 0s - loss: 0.1529\n",
      "Epoch 00035: saving model to training/20191211_224324\n",
      "33500/33500 [==============================] - 72s 2ms/sample - loss: 0.1530 - val_loss: 0.1812\n",
      "Epoch 36/100\n",
      "33280/33500 [============================>.] - ETA: 0s - loss: 0.1519\n",
      "Epoch 00036: saving model to training/20191211_224324\n",
      "33500/33500 [==============================] - 72s 2ms/sample - loss: 0.1519 - val_loss: 0.1783\n",
      "Epoch 37/100\n",
      "33280/33500 [============================>.] - ETA: 0s - loss: 0.1487\n",
      "Epoch 00037: saving model to training/20191211_224324\n",
      "33500/33500 [==============================] - 72s 2ms/sample - loss: 0.1486 - val_loss: 0.1776\n",
      "Epoch 38/100\n",
      "33280/33500 [============================>.] - ETA: 0s - loss: 0.1495\n",
      "Epoch 00038: saving model to training/20191211_224324\n",
      "33500/33500 [==============================] - 72s 2ms/sample - loss: 0.1495 - val_loss: 0.1845\n",
      "Epoch 39/100\n",
      "33280/33500 [============================>.] - ETA: 0s - loss: 0.1491\n",
      "Epoch 00039: saving model to training/20191211_224324\n",
      "33500/33500 [==============================] - 72s 2ms/sample - loss: 0.1492 - val_loss: 0.1757\n",
      "Epoch 40/100\n",
      "33280/33500 [============================>.] - ETA: 0s - loss: 0.1495\n",
      "Epoch 00040: saving model to training/20191211_224324\n",
      "33500/33500 [==============================] - 72s 2ms/sample - loss: 0.1495 - val_loss: 0.1839\n",
      "Epoch 41/100\n",
      "33280/33500 [============================>.] - ETA: 0s - loss: 0.1465\n",
      "Epoch 00041: saving model to training/20191211_224324\n",
      "33500/33500 [==============================] - 72s 2ms/sample - loss: 0.1465 - val_loss: 0.1794\n",
      "Epoch 42/100\n",
      "33280/33500 [============================>.] - ETA: 0s - loss: 0.1452\n",
      "Epoch 00042: saving model to training/20191211_224324\n",
      "33500/33500 [==============================] - 72s 2ms/sample - loss: 0.1453 - val_loss: 0.1772\n",
      "Epoch 43/100\n",
      "33280/33500 [============================>.] - ETA: 0s - loss: 0.1462\n",
      "Epoch 00043: saving model to training/20191211_224324\n",
      "33500/33500 [==============================] - 71s 2ms/sample - loss: 0.1461 - val_loss: 0.1736\n",
      "Epoch 44/100\n",
      "33280/33500 [============================>.] - ETA: 0s - loss: 0.1456\n",
      "Epoch 00044: saving model to training/20191211_224324\n",
      "33500/33500 [==============================] - 72s 2ms/sample - loss: 0.1456 - val_loss: 0.1788\n",
      "Epoch 45/100\n",
      "33280/33500 [============================>.] - ETA: 0s - loss: 0.1426\n",
      "Epoch 00045: saving model to training/20191211_224324\n",
      "33500/33500 [==============================] - 72s 2ms/sample - loss: 0.1426 - val_loss: 0.1716\n",
      "Epoch 46/100\n",
      "33280/33500 [============================>.] - ETA: 0s - loss: 0.1419\n",
      "Epoch 00046: saving model to training/20191211_224324\n",
      "33500/33500 [==============================] - 72s 2ms/sample - loss: 0.1419 - val_loss: 0.1738\n",
      "Epoch 47/100\n",
      "33280/33500 [============================>.] - ETA: 0s - loss: 0.1403\n",
      "Epoch 00047: saving model to training/20191211_224324\n",
      "33500/33500 [==============================] - 72s 2ms/sample - loss: 0.1403 - val_loss: 0.1730\n",
      "Epoch 48/100\n",
      "33280/33500 [============================>.] - ETA: 0s - loss: 0.1402\n",
      "Epoch 00048: saving model to training/20191211_224324\n",
      "33500/33500 [==============================] - 73s 2ms/sample - loss: 0.1403 - val_loss: 0.1738\n",
      "Epoch 49/100\n",
      "33280/33500 [============================>.] - ETA: 0s - loss: 0.1409\n",
      "Epoch 00049: saving model to training/20191211_224324\n",
      "33500/33500 [==============================] - 72s 2ms/sample - loss: 0.1410 - val_loss: 0.1747\n",
      "Epoch 50/100\n",
      "33280/33500 [============================>.] - ETA: 0s - loss: 0.1394\n",
      "Epoch 00050: saving model to training/20191211_224324\n",
      "33500/33500 [==============================] - 72s 2ms/sample - loss: 0.1394 - val_loss: 0.1730\n",
      "Epoch 51/100\n",
      "33280/33500 [============================>.] - ETA: 0s - loss: 0.1391\n",
      "Epoch 00051: saving model to training/20191211_224324\n",
      "33500/33500 [==============================] - 72s 2ms/sample - loss: 0.1389 - val_loss: 0.1738\n",
      "Epoch 52/100\n",
      "33280/33500 [============================>.] - ETA: 0s - loss: 0.1385\n",
      "Epoch 00052: saving model to training/20191211_224324\n",
      "33500/33500 [==============================] - 72s 2ms/sample - loss: 0.1384 - val_loss: 0.1704\n",
      "Epoch 53/100\n",
      "33280/33500 [============================>.] - ETA: 0s - loss: 0.1400\n",
      "Epoch 00053: saving model to training/20191211_224324\n",
      "33500/33500 [==============================] - 72s 2ms/sample - loss: 0.1401 - val_loss: 0.1746\n",
      "Epoch 54/100\n",
      "33280/33500 [============================>.] - ETA: 0s - loss: 0.1367\n",
      "Epoch 00054: saving model to training/20191211_224324\n",
      "33500/33500 [==============================] - 72s 2ms/sample - loss: 0.1366 - val_loss: 0.1724\n",
      "Epoch 55/100\n",
      "33280/33500 [============================>.] - ETA: 0s - loss: 0.1369\n",
      "Epoch 00055: saving model to training/20191211_224324\n",
      "33500/33500 [==============================] - 72s 2ms/sample - loss: 0.1369 - val_loss: 0.1729\n",
      "Epoch 56/100\n",
      "33280/33500 [============================>.] - ETA: 0s - loss: 0.1356\n",
      "Epoch 00056: saving model to training/20191211_224324\n",
      "33500/33500 [==============================] - 72s 2ms/sample - loss: 0.1355 - val_loss: 0.1739\n",
      "Epoch 57/100\n",
      "33280/33500 [============================>.] - ETA: 0s - loss: 0.1366\n",
      "Epoch 00057: saving model to training/20191211_224324\n",
      "33500/33500 [==============================] - 72s 2ms/sample - loss: 0.1366 - val_loss: 0.1699\n",
      "Epoch 58/100\n",
      "33280/33500 [============================>.] - ETA: 0s - loss: 0.1360\n",
      "Epoch 00058: saving model to training/20191211_224324\n",
      "33500/33500 [==============================] - 71s 2ms/sample - loss: 0.1359 - val_loss: 0.1706\n",
      "Epoch 59/100\n",
      "33280/33500 [============================>.] - ETA: 0s - loss: 0.1330\n",
      "Epoch 00059: saving model to training/20191211_224324\n",
      "33500/33500 [==============================] - 72s 2ms/sample - loss: 0.1329 - val_loss: 0.1708\n",
      "Epoch 60/100\n",
      "33280/33500 [============================>.] - ETA: 0s - loss: 0.1342\n",
      "Epoch 00060: saving model to training/20191211_224324\n",
      "33500/33500 [==============================] - 72s 2ms/sample - loss: 0.1342 - val_loss: 0.1700\n",
      "Epoch 61/100\n",
      "33280/33500 [============================>.] - ETA: 0s - loss: 0.1360\n",
      "Epoch 00061: saving model to training/20191211_224324\n",
      "33500/33500 [==============================] - 72s 2ms/sample - loss: 0.1361 - val_loss: 0.1739\n",
      "Epoch 62/100\n",
      "33280/33500 [============================>.] - ETA: 0s - loss: 0.1329\n",
      "Epoch 00062: saving model to training/20191211_224324\n",
      "33500/33500 [==============================] - 72s 2ms/sample - loss: 0.1329 - val_loss: 0.1740\n",
      "Epoch 63/100\n",
      "33280/33500 [============================>.] - ETA: 0s - loss: 0.1334\n",
      "Epoch 00063: saving model to training/20191211_224324\n",
      "33500/33500 [==============================] - 73s 2ms/sample - loss: 0.1334 - val_loss: 0.1732\n",
      "Epoch 64/100\n",
      "33280/33500 [============================>.] - ETA: 0s - loss: 0.1318\n",
      "Epoch 00064: saving model to training/20191211_224324\n",
      "33500/33500 [==============================] - 72s 2ms/sample - loss: 0.1318 - val_loss: 0.1671\n",
      "Epoch 65/100\n"
     ]
    },
    {
     "name": "stdout",
     "output_type": "stream",
     "text": [
      "33280/33500 [============================>.] - ETA: 0s - loss: 0.1318\n",
      "Epoch 00065: saving model to training/20191211_224324\n",
      "33500/33500 [==============================] - 72s 2ms/sample - loss: 0.1318 - val_loss: 0.1697\n",
      "Epoch 66/100\n",
      "33280/33500 [============================>.] - ETA: 0s - loss: 0.1316\n",
      "Epoch 00066: saving model to training/20191211_224324\n",
      "33500/33500 [==============================] - 72s 2ms/sample - loss: 0.1315 - val_loss: 0.1686\n",
      "Epoch 67/100\n",
      "33280/33500 [============================>.] - ETA: 0s - loss: 0.1322\n",
      "Epoch 00067: saving model to training/20191211_224324\n",
      "33500/33500 [==============================] - 72s 2ms/sample - loss: 0.1323 - val_loss: 0.1704\n",
      "Epoch 68/100\n",
      "33280/33500 [============================>.] - ETA: 0s - loss: 0.1293\n",
      "Epoch 00068: saving model to training/20191211_224324\n",
      "33500/33500 [==============================] - 72s 2ms/sample - loss: 0.1294 - val_loss: 0.1674\n",
      "Epoch 69/100\n",
      "33280/33500 [============================>.] - ETA: 0s - loss: 0.1290\n",
      "Epoch 00069: saving model to training/20191211_224324\n",
      "33500/33500 [==============================] - 72s 2ms/sample - loss: 0.1290 - val_loss: 0.1684\n",
      "Epoch 70/100\n",
      "33280/33500 [============================>.] - ETA: 0s - loss: 0.1288\n",
      "Epoch 00070: saving model to training/20191211_224324\n",
      "33500/33500 [==============================] - 72s 2ms/sample - loss: 0.1290 - val_loss: 0.1699\n",
      "Epoch 71/100\n",
      "33280/33500 [============================>.] - ETA: 0s - loss: 0.1288\n",
      "Epoch 00071: saving model to training/20191211_224324\n",
      "33500/33500 [==============================] - 72s 2ms/sample - loss: 0.1289 - val_loss: 0.1686\n",
      "Epoch 72/100\n",
      "33280/33500 [============================>.] - ETA: 0s - loss: 0.1282\n",
      "Epoch 00072: saving model to training/20191211_224324\n",
      "33500/33500 [==============================] - 72s 2ms/sample - loss: 0.1283 - val_loss: 0.1698\n",
      "Epoch 73/100\n",
      "33280/33500 [============================>.] - ETA: 0s - loss: 0.1282\n",
      "Epoch 00073: saving model to training/20191211_224324\n",
      "33500/33500 [==============================] - 72s 2ms/sample - loss: 0.1282 - val_loss: 0.1665\n",
      "Epoch 74/100\n",
      "33280/33500 [============================>.] - ETA: 0s - loss: 0.1290\n",
      "Epoch 00074: saving model to training/20191211_224324\n",
      "33500/33500 [==============================] - 72s 2ms/sample - loss: 0.1290 - val_loss: 0.1684\n",
      "Epoch 75/100\n",
      "33280/33500 [============================>.] - ETA: 0s - loss: 0.1278\n",
      "Epoch 00075: saving model to training/20191211_224324\n",
      "33500/33500 [==============================] - 71s 2ms/sample - loss: 0.1278 - val_loss: 0.1675\n",
      "Epoch 76/100\n",
      "33280/33500 [============================>.] - ETA: 0s - loss: 0.1265\n",
      "Epoch 00076: saving model to training/20191211_224324\n",
      "33500/33500 [==============================] - 73s 2ms/sample - loss: 0.1265 - val_loss: 0.1694\n",
      "Epoch 77/100\n",
      "33280/33500 [============================>.] - ETA: 0s - loss: 0.1267\n",
      "Epoch 00077: saving model to training/20191211_224324\n",
      "33500/33500 [==============================] - 72s 2ms/sample - loss: 0.1267 - val_loss: 0.1703\n",
      "Epoch 78/100\n",
      "33280/33500 [============================>.] - ETA: 0s - loss: 0.1267\n",
      "Epoch 00078: saving model to training/20191211_224324\n",
      "33500/33500 [==============================] - 72s 2ms/sample - loss: 0.1267 - val_loss: 0.1674\n",
      "Epoch 79/100\n",
      "33280/33500 [============================>.] - ETA: 0s - loss: 0.1268\n",
      "Epoch 00079: saving model to training/20191211_224324\n",
      "33500/33500 [==============================] - 72s 2ms/sample - loss: 0.1268 - val_loss: 0.1717\n",
      "Epoch 80/100\n",
      "33280/33500 [============================>.] - ETA: 0s - loss: 0.1259\n",
      "Epoch 00080: saving model to training/20191211_224324\n",
      "33500/33500 [==============================] - 73s 2ms/sample - loss: 0.1261 - val_loss: 0.1677\n",
      "Epoch 81/100\n",
      "33280/33500 [============================>.] - ETA: 0s - loss: 0.1256\n",
      "Epoch 00081: saving model to training/20191211_224324\n",
      "33500/33500 [==============================] - 72s 2ms/sample - loss: 0.1257 - val_loss: 0.1769\n",
      "Epoch 82/100\n",
      "33280/33500 [============================>.] - ETA: 0s - loss: 0.1252\n",
      "Epoch 00082: saving model to training/20191211_224324\n",
      "33500/33500 [==============================] - 72s 2ms/sample - loss: 0.1252 - val_loss: 0.1657\n",
      "Epoch 83/100\n",
      "33280/33500 [============================>.] - ETA: 0s - loss: 0.1237\n",
      "Epoch 00083: saving model to training/20191211_224324\n",
      "33500/33500 [==============================] - 72s 2ms/sample - loss: 0.1235 - val_loss: 0.1651\n",
      "Epoch 84/100\n",
      "33280/33500 [============================>.] - ETA: 0s - loss: 0.1239\n",
      "Epoch 00084: saving model to training/20191211_224324\n",
      "33500/33500 [==============================] - 72s 2ms/sample - loss: 0.1240 - val_loss: 0.1646\n",
      "Epoch 85/100\n",
      "33280/33500 [============================>.] - ETA: 0s - loss: 0.1243\n",
      "Epoch 00085: saving model to training/20191211_224324\n",
      "33500/33500 [==============================] - 73s 2ms/sample - loss: 0.1242 - val_loss: 0.1672\n",
      "Epoch 86/100\n",
      "33280/33500 [============================>.] - ETA: 0s - loss: 0.1244\n",
      "Epoch 00086: saving model to training/20191211_224324\n",
      "33500/33500 [==============================] - 72s 2ms/sample - loss: 0.1245 - val_loss: 0.1685\n",
      "Epoch 87/100\n",
      "33280/33500 [============================>.] - ETA: 0s - loss: 0.1241\n",
      "Epoch 00087: saving model to training/20191211_224324\n",
      "33500/33500 [==============================] - 72s 2ms/sample - loss: 0.1242 - val_loss: 0.1653\n",
      "Epoch 88/100\n",
      "33280/33500 [============================>.] - ETA: 0s - loss: 0.1237\n",
      "Epoch 00088: saving model to training/20191211_224324\n",
      "33500/33500 [==============================] - 73s 2ms/sample - loss: 0.1237 - val_loss: 0.1683\n",
      "Epoch 89/100\n",
      "33280/33500 [============================>.] - ETA: 0s - loss: 0.1234\n",
      "Epoch 00089: saving model to training/20191211_224324\n",
      "33500/33500 [==============================] - 72s 2ms/sample - loss: 0.1233 - val_loss: 0.1643\n",
      "Epoch 90/100\n",
      "33280/33500 [============================>.] - ETA: 0s - loss: 0.1225\n",
      "Epoch 00090: saving model to training/20191211_224324\n",
      "33500/33500 [==============================] - 73s 2ms/sample - loss: 0.1225 - val_loss: 0.1697\n",
      "Epoch 91/100\n",
      "33280/33500 [============================>.] - ETA: 0s - loss: 0.1219\n",
      "Epoch 00091: saving model to training/20191211_224324\n",
      "33500/33500 [==============================] - 73s 2ms/sample - loss: 0.1219 - val_loss: 0.1671\n",
      "Epoch 92/100\n",
      "33280/33500 [============================>.] - ETA: 0s - loss: 0.1220\n",
      "Epoch 00092: saving model to training/20191211_224324\n",
      "33500/33500 [==============================] - 72s 2ms/sample - loss: 0.1220 - val_loss: 0.1711\n",
      "Epoch 93/100\n",
      "33280/33500 [============================>.] - ETA: 0s - loss: 0.1255\n",
      "Epoch 00093: saving model to training/20191211_224324\n",
      "33500/33500 [==============================] - 73s 2ms/sample - loss: 0.1255 - val_loss: 0.1643\n",
      "Epoch 94/100\n",
      "33280/33500 [============================>.] - ETA: 0s - loss: 0.1252\n",
      "Epoch 00094: saving model to training/20191211_224324\n",
      "33500/33500 [==============================] - 73s 2ms/sample - loss: 0.1252 - val_loss: 0.1707\n",
      "Epoch 95/100\n",
      "33280/33500 [============================>.] - ETA: 0s - loss: 0.1212\n",
      "Epoch 00095: saving model to training/20191211_224324\n",
      "33500/33500 [==============================] - 72s 2ms/sample - loss: 0.1212 - val_loss: 0.1659\n",
      "Epoch 96/100\n",
      "33280/33500 [============================>.] - ETA: 0s - loss: 0.1213\n",
      "Epoch 00096: saving model to training/20191211_224324\n",
      "33500/33500 [==============================] - 72s 2ms/sample - loss: 0.1214 - val_loss: 0.1679\n",
      "Epoch 97/100\n",
      "33280/33500 [============================>.] - ETA: 0s - loss: 0.1202\n",
      "Epoch 00097: saving model to training/20191211_224324\n",
      "33500/33500 [==============================] - 73s 2ms/sample - loss: 0.1202 - val_loss: 0.1640\n",
      "Epoch 98/100\n",
      "33280/33500 [============================>.] - ETA: 0s - loss: 0.1212\n",
      "Epoch 00098: saving model to training/20191211_224324\n",
      "33500/33500 [==============================] - 73s 2ms/sample - loss: 0.1212 - val_loss: 0.1653\n",
      "Epoch 99/100\n",
      "33280/33500 [============================>.] - ETA: 0s - loss: 0.1200\n",
      "Epoch 00099: saving model to training/20191211_224324\n",
      "33500/33500 [==============================] - 72s 2ms/sample - loss: 0.1201 - val_loss: 0.1663\n",
      "Epoch 100/100\n"
     ]
    },
    {
     "name": "stdout",
     "output_type": "stream",
     "text": [
      "33280/33500 [============================>.] - ETA: 0s - loss: 0.1205\n",
      "Epoch 00100: saving model to training/20191211_224324\n",
      "33500/33500 [==============================] - 72s 2ms/sample - loss: 0.1206 - val_loss: 0.1653\n"
     ]
    }
   ],
   "source": [
    "# network definition\n",
    "base_network = create_base_network(input_shape)\n",
    "\n",
    "\n",
    "input_a = Input(shape=input_shape)\n",
    "input_b = Input(shape=input_shape)\n",
    "\n",
    "\n",
    "\n",
    "# because we re-use the same instance `base_network`,\n",
    "# the weights of the network\n",
    "# will be shared across the two branches\n",
    "processed_a = base_network(input_a)\n",
    "processed_b = base_network(input_b)\n",
    "\n",
    "\n",
    "\n",
    "distance = Lambda(euclidean_distance, output_shape=eucl_dist_output_shape)([processed_a, processed_b])\n",
    "\n",
    "\n",
    "\n",
    "model = Model([input_a, input_b], distance)\n",
    "\n",
    "\n",
    "# train\n",
    "#optimizer = RMSprop()\n",
    "optimizer = Adam(learning_rate=LR)\n",
    "\n",
    "model.compile(loss=loss, optimizer=optimizer, metrics=None)\n",
    "\n",
    "model.summary()\n",
    "\n",
    "\n",
    "# Create a callback that saves the model's weights\n",
    "backup_callback = ModelCheckpoint(filepath=CHECKPOINT_PATH,\n",
    "                              save_weights_only=True,\n",
    "                              verbose=1)\n",
    "\n",
    "history = model.fit([tr_pairs[:, 0], tr_pairs[:, 1]], tr_y,\n",
    "                  batch_size=BATCH_SIZE,\n",
    "                  epochs=EPOCHS,\n",
    "                  validation_data=([te_pairs[:, 0], te_pairs[:, 1]], te_y),\n",
    "                  callbacks=[backup_callback])"
   ]
  },
  {
   "cell_type": "code",
   "execution_count": 23,
   "metadata": {},
   "outputs": [
    {
     "data": {
      "image/png": "[encoded data removed]",
      "text/plain": [
       "<Figure size 432x288 with 1 Axes>"
      ]
     },
     "metadata": {
      "needs_background": "light"
     },
     "output_type": "display_data"
    }
   ],
   "source": [
    "# Get training and test loss histories\n",
    "training_loss = history.history['loss']\n",
    "test_loss = history.history['val_loss']\n",
    "\n",
    "# Create count of the number of epochs\n",
    "epoch_count = range(1, len(training_loss) + 1)\n",
    "\n",
    "# Visualize loss history\n",
    "plt.plot(epoch_count, training_loss, 'r--')\n",
    "plt.plot(epoch_count, test_loss, 'b-')\n",
    "plt.legend(['Training Loss', 'Test Loss'])\n",
    "plt.xlabel('Epoch')\n",
    "plt.ylabel('Loss')\n",
    "plt.show();"
   ]
  },
  {
   "cell_type": "code",
   "execution_count": 24,
   "metadata": {},
   "outputs": [],
   "source": [
    "y_tr_pred = model.predict([tr_pairs[:, 0], tr_pairs[:, 1]])\n",
    "y_te_pred = model.predict([te_pairs[:, 0], te_pairs[:, 1]])"
   ]
  },
  {
   "cell_type": "code",
   "execution_count": 25,
   "metadata": {},
   "outputs": [],
   "source": [
    "te_pairs = te_pairs.reshape(list(te_pairs.shape[:-2]) +[-1])\n",
    "tr_pairs = tr_pairs.reshape(list(tr_pairs.shape[:-2]) +[-1])"
   ]
  },
  {
   "cell_type": "code",
   "execution_count": 26,
   "metadata": {},
   "outputs": [],
   "source": [
    "def plot_results(projections, y_pred, y, strtype):\n",
    "    def _inner(i):\n",
    "        plt.imfig, (ax1, ax2) = plt.subplots(1, 2)\n",
    "        ax1.imshow(te_pairs[i, 0])\n",
    "        ax2.imshow(te_pairs[i, 1])\n",
    "\n",
    "        print(f\"--- {strtype} Set ---\")\n",
    "        print(f\"loss:      {loss(y_pred[i], y[i].numpy())}\")\n",
    "        print(f\"predicted: {y_pred[i][0]}\")\n",
    "        print(f\"true:      {y[i].numpy()}\")\n",
    "        \n",
    "    return _inner\n",
    "\n",
    "plot_train_results = plot_results(tr_pairs, y_tr_pred, tr_y, \"Train\")\n",
    "plot_test_results = plot_results(te_pairs, y_te_pred, te_y, \"Test\")"
   ]
  },
  {
   "cell_type": "code",
   "execution_count": 27,
   "metadata": {
    "scrolled": true
   },
   "outputs": [
    {
     "name": "stdout",
     "output_type": "stream",
     "text": [
      "--- Train Set ---\n",
      "loss:      0.052927494049072266\n",
      "predicted: 2.0288186073303223\n",
      "true:      2.0817461013793945\n"
     ]
    },
    {
     "data": {
      "image/png": "[encoded data removed]",
      "text/plain": [
       "<Figure size 432x288 with 2 Axes>"
      ]
     },
     "metadata": {
      "needs_background": "light"
     },
     "output_type": "display_data"
    }
   ],
   "source": [
    "plot_train_results(1)"
   ]
  },
  {
   "cell_type": "code",
   "execution_count": 28,
   "metadata": {},
   "outputs": [
    {
     "name": "stdout",
     "output_type": "stream",
     "text": [
      "--- Test Set ---\n",
      "loss:      0.0024993419647216797\n",
      "predicted: 1.292175054550171\n",
      "true:      1.2946743965148926\n"
     ]
    },
    {
     "data": {
      "image/png": "[encoded data removed]",
      "text/plain": [
       "<Figure size 432x288 with 2 Axes>"
      ]
     },
     "metadata": {
      "needs_background": "light"
     },
     "output_type": "display_data"
    }
   ],
   "source": [
    "plot_test_results(0)"
   ]
  },
  {
   "cell_type": "markdown",
   "metadata": {},
   "source": [
    "---"
   ]
  },
  {
   "cell_type": "code",
   "execution_count": 40,
   "metadata": {},
   "outputs": [],
   "source": [
    "import pandas as pd\n",
    "import seaborn as sns; sns.set(style=\"white\", color_codes=True)"
   ]
  },
  {
   "cell_type": "code",
   "execution_count": 41,
   "metadata": {},
   "outputs": [],
   "source": [
    "# Creating the dataframe for SNS plot\n",
    "data = {\"d_Q\" : tr_y.numpy(),\n",
    "        \"d_P\" : y_tr_pred.T[0]}\n",
    "df = pd.DataFrame(data=data)"
   ]
  },
  {
   "cell_type": "code",
   "execution_count": 42,
   "metadata": {},
   "outputs": [
    {
     "data": {
      "text/plain": [
       "<seaborn.axisgrid.JointGrid at 0x7f5823581198>"
      ]
     },
     "execution_count": 42,
     "metadata": {},
     "output_type": "execute_result"
    },
    {
     "data": {
      "image/png": "[encoded data removed]",
      "text/plain": [
       "<Figure size 792x792 with 3 Axes>"
      ]
     },
     "metadata": {},
     "output_type": "display_data"
    }
   ],
   "source": [
    "sns.jointplot(x=\"d_Q\", y=\"d_P\", data=df, kind=\"kde\", color=\"g\", height=11)  # \"reg\", \"kde\""
   ]
  },
  {
   "cell_type": "code",
   "execution_count": 43,
   "metadata": {},
   "outputs": [
    {
     "data": {
      "text/plain": [
       "<seaborn.axisgrid.JointGrid at 0x7f581536a588>"
      ]
     },
     "execution_count": 43,
     "metadata": {},
     "output_type": "execute_result"
    },
    {
     "data": {
      "image/png": "[encoded data removed]",
      "text/plain": [
       "<Figure size 792x792 with 3 Axes>"
      ]
     },
     "metadata": {},
     "output_type": "display_data"
    }
   ],
   "source": [
    "sns.jointplot(x=\"d_Q\", y=\"d_P\", data=df, kind=\"reg\", color=\"g\", height=11, scatter_kws={\"s\": 1})  # \"reg\", \"kde\""
   ]
  },
  {
   "cell_type": "code",
   "execution_count": 44,
   "metadata": {},
   "outputs": [
    {
     "name": "stdout",
     "output_type": "stream",
     "text": [
      "d_P/d_Q = 0.8962915326174428, intercept = 0.18928628250682578\n"
     ]
    }
   ],
   "source": [
    "from scipy.stats import linregress\n",
    "\n",
    "lr = linregress(df.d_Q, df.d_P)\n",
    "slope, intercept = lr.slope, lr.intercept\n",
    "print(f\"d_P/d_Q = {slope}, intercept = {intercept}\")"
   ]
  },
  {
   "cell_type": "markdown",
   "metadata": {},
   "source": [
    "---"
   ]
  },
  {
   "cell_type": "markdown",
   "metadata": {},
   "source": [
    "###### Predicted Angles"
   ]
  },
  {
   "cell_type": "code",
   "execution_count": 47,
   "metadata": {
    "scrolled": true
   },
   "outputs": [
    {
     "name": "stdout",
     "output_type": "stream",
     "text": [
      "Angles predicted: (min, max) = (0.0000, 6.2828)\n"
     ]
    },
    {
     "data": {
      "text/plain": [
       "(5000,)"
      ]
     },
     "execution_count": 47,
     "metadata": {},
     "output_type": "execute_result"
    }
   ],
   "source": [
    "low_ang = [float(x)*np.pi for x in angle_shift.split(\",\")]\n",
    "high_ang = [float(x)*np.pi for x in angle_ranges.split(\",\")]\n",
    "\n",
    "euler = np.random.uniform(low=[low_ang[0], low_ang[1], low_ang[2]], \n",
    "                          high=[high_ang[0], high_ang[1], high_ang[2]],\n",
    "                          size=(NUM_PROJECTIONS, 3))\n",
    "\n",
    "angles_predicted = [tf.Variable(e) for e in euler]\n",
    "print(f\"Angles predicted: (min, max) = ({tf.reduce_min(angles_predicted):.4f}, {tf.reduce_max(angles_predicted):.4f})\")\n",
    "\n",
    "angles_predicted = np.array(angles_predicted)\n",
    "angles_predicted.shape"
   ]
  },
  {
   "cell_type": "markdown",
   "metadata": {},
   "source": [
    "## Loss and gradient"
   ]
  },
  {
   "cell_type": "markdown",
   "metadata": {},
   "source": [
    "Our goal is to then optimize\n",
    "$$ \\operatorname*{arg\\,min}_{\\{\\hat{Q}_i\\}_{i=1}^n} \\sum_{\\{i,j |d_p(p_i, p_j) < \\epsilon\\}} \\left| d_p(p_i, p_j) - d_Q(\\hat{Q}_i, \\hat{Q}_j) \\right|^2, $$\n",
    "where $p_i$ is a projected image and $d_p$ is a (learned) distance between two images."
   ]
  },
  {
   "cell_type": "code",
   "execution_count": 58,
   "metadata": {},
   "outputs": [],
   "source": [
    "def loss(a1_predicted, a2_predicted, distance_target, dt_type, space):\n",
    "    a1_predicted = list(a1_predicted)\n",
    "    a2_predicted = list(a2_predicted)\n",
    "    \n",
    "    q1 = euler2quaternion(a1_predicted)\n",
    "    q2 = euler2quaternion(a2_predicted)\n",
    "    \n",
    "    distance = d_q(q1, q2)\n",
    "    \n",
    "    if space == \"dQspace\":\n",
    "        if dt_type == \"dP\":\n",
    "            # Convert dP to dQ\n",
    "            distance_target = (distance_target-intercept)/slope\n",
    "            \n",
    "    elif space == \"dPspace\":\n",
    "        if dt_type == \"dP\":\n",
    "            # Convert dQ to dP\n",
    "            distance = tf.math.polyval(coeffs4dP, distance)\n",
    "        elif dt_type == \"dQ\":\n",
    "            distance = tf.math.polyval(coeffs4dP, distance)\n",
    "            distance_target = tf.math.polyval(coeffs4dP, distance_target)  \n",
    "\n",
    "    # The mean doesn't depend on the batch size.\n",
    "    return tf.reduce_mean((distance - distance_target)**2)"
   ]
  },
  {
   "cell_type": "code",
   "execution_count": 59,
   "metadata": {},
   "outputs": [],
   "source": [
    "def gradient(a1_predicted, a2_predicted, distance_target, dt_type, space):\n",
    "    with tf.GradientTape() as tape:\n",
    "        loss_value = loss(a1_predicted, a2_predicted, distance_target, dt_type, space)\n",
    "        gradient = tape.gradient(loss_value, a1_predicted + a2_predicted)\n",
    "        \n",
    "    return loss_value, gradient"
   ]
  },
  {
   "cell_type": "code",
   "execution_count": 60,
   "metadata": {},
   "outputs": [],
   "source": [
    "def sample_pairs(n_samples, batch_size, style=\"random\", k=None):\n",
    "    if not k and style != \"random\":\n",
    "        raise ValueError(\"Please specify k for kNN for sample_pairs method\")\n",
    "    \n",
    "    if style==\"random\":\n",
    "        idx1 = list(np.random.randint(0, NUM_PROJECTIONS, batch_size))\n",
    "        idx2 = list(np.random.randint(0, NUM_PROJECTIONS, batch_size))\n",
    "    \n",
    "    elif style==\"knn\":\n",
    "        idx1 = list(np.random.randint(0, NUM_PROJECTIONS, batch_size))\n",
    "        indices_p, distances_p, A_p = get_knn_output(k=k)\n",
    "        idx2 = [indices_p[i][np.random.randint(1, k)] for i in idx1]\n",
    " \n",
    "    elif style==\"knn_and_random\":\n",
    "        # select random sample for the first element of pair\n",
    "        idx1 = list(np.random.randint(0, NUM_PROJECTIONS, batch_size))\n",
    "        \n",
    "        # half from kNN\n",
    "        indices_p, distances_p, A_p = get_knn_output(k=k)\n",
    "        idx2_knn = [indices_p[i][np.random.randint(1, k)] for i in idx1[:batch_size//2]]\n",
    "        idx2_random = list(np.random.randint(0, NUM_PROJECTIONS, batch_size//2))\n",
    "        # half random\n",
    "        idx2 = idx2_knn + idx2_random\n",
    "        \n",
    "    return idx1, idx2"
   ]
  },
  {
   "cell_type": "code",
   "execution_count": 61,
   "metadata": {},
   "outputs": [],
   "source": [
    "def loss_predicted_vs_true_angle(steps, batch_size, optimization=False):\n",
    "    losses = np.empty(steps)\n",
    "    time_start = time()\n",
    "    optimizer = Adam(learning_rate=0.001)\n",
    "    \n",
    "    for step in range(1, steps+1):\n",
    "\n",
    "        # Sample some pairs.\n",
    "        idx1, idx2 = sample_pairs(NUM_PROJECTIONS, batch_size, style=\"random\")\n",
    "    \n",
    "        a1 = [angles_predicted[i] for i in idx1]\n",
    "        a2 = [angles_predicted[i] for i in idx2]\n",
    "\n",
    "        # Compute distances between true quaternions\n",
    "        a1_true = [y[i] for i in idx1]\n",
    "        a2_true = [y[i] for i in idx2]\n",
    "        q1_true = euler2quaternion(a1_true)\n",
    "        q2_true = euler2quaternion(a2_true)\n",
    "        \n",
    "        distance_target = d_q(q1_true, q2_true)\n",
    "\n",
    "        # Optimize by gradient descent.\n",
    "        if optimization:\n",
    "            losses[step-1], gradients = gradient(a1, a2, distance_target, dt_type=\"dQ\", space=\"dQspace\")\n",
    "            optimizer.apply_gradients(zip(gradients, a1 + a2))\n",
    "        else:\n",
    "            losses[step-1] = loss(a1, a2, distance_target, dt_type=\"dQ\", space=\"dQspace\")\n",
    "        \n",
    "        # Periodically report progress.\n",
    "        if ((step % (steps//10)) == 0) or (step == steps):\n",
    "            time_elapsed = time() - time_start\n",
    "            #loss_mean = np.mean(losses[(step-1)-(steps//10):step-1])\n",
    "            print(f'step {step}/{steps} ({time_elapsed:.0f}s): loss = {losses[step-1]:.2e}')\n",
    "\n",
    "    if optimization:\n",
    "        # Plot convergence.\n",
    "        fig, ax = plt.subplots()\n",
    "        ax.plot(np.linspace(0, time()-time_start, steps), losses)\n",
    "        ax.set_xlabel('time [s]')\n",
    "        ax.set_ylabel('loss');\n",
    "    else:\n",
    "        print(f\"Mean loss: {np.mean(losses)}\")"
   ]
  },
  {
   "cell_type": "code",
   "execution_count": null,
   "metadata": {},
   "outputs": [],
   "source": [
    "def d_p(p1, p2):\n",
    "    p1 = np.array(p1)\n",
    "    p1 = p1.reshape(list(p1.shape) + [-1])\n",
    "    p2 = np.array(p2)\n",
    "    p2 = p2.reshape(list(p2.shape) + [-1])\n",
    "    return model.predict([p1, p2])"
   ]
  },
  {
   "cell_type": "markdown",
   "metadata": {},
   "source": [
    "## Optimization loop (projection-true & angles-predict)"
   ]
  },
  {
   "cell_type": "markdown",
   "metadata": {},
   "source": [
    "### [Before] Prediction vs. True Angles"
   ]
  },
  {
   "cell_type": "code",
   "execution_count": 62,
   "metadata": {},
   "outputs": [
    {
     "data": {
      "image/png": "[encoded data removed]",
      "text/plain": [
       "<Figure size 1224x504 with 3 Axes>"
      ]
     },
     "metadata": {},
     "output_type": "display_data"
    }
   ],
   "source": [
    "angles_predicted_plot = np.array([ np.array([(y%(2*np.pi)) for y in x.numpy()]) for x in angles_predicted])\n",
    "\n",
    "\n",
    "fig, axs = plt.subplots(1, 3, figsize=(17,7))\n",
    "axs[0].set_xlim(0,2*np.pi)\n",
    "axs[1].set_xlim(0,2*np.pi)\n",
    "axs[2].set_xlim(0,2*np.pi)\n",
    "plt.suptitle(\"Predicted Angles Count\")\n",
    "\n",
    "sns.distplot(angles_predicted_plot[:,0], kde=False, bins=20, ax=axs[0], axlabel=\"Z1 axis angle rotation [rad]\", color=\"r\")\n",
    "sns.distplot(angles_predicted_plot[:,1], kde=False, bins=20, ax=axs[1], axlabel=\"Y2 axis angle rotation [rad]\", color=\"g\")\n",
    "sns.distplot(angles_predicted_plot[:,2], kde=False, bins=80, ax=axs[2], axlabel=\"Z3 axis angle rotation [rad]\", color=\"b\");"
   ]
  },
  {
   "cell_type": "code",
   "execution_count": 63,
   "metadata": {},
   "outputs": [
    {
     "name": "stdout",
     "output_type": "stream",
     "text": [
      "step 200/2000 (17s): loss = 1.02e+00\n",
      "step 400/2000 (35s): loss = 1.08e+00\n",
      "step 600/2000 (52s): loss = 1.32e+00\n",
      "step 800/2000 (70s): loss = 1.12e+00\n",
      "step 1000/2000 (87s): loss = 1.04e+00\n",
      "step 1200/2000 (105s): loss = 1.18e+00\n",
      "step 1400/2000 (122s): loss = 1.02e+00\n",
      "step 1600/2000 (140s): loss = 1.07e+00\n",
      "step 1800/2000 (157s): loss = 1.10e+00\n",
      "step 2000/2000 (174s): loss = 1.11e+00\n",
      "Mean loss: 1.0894340945497178\n"
     ]
    }
   ],
   "source": [
    "loss_predicted_vs_true_angle(steps=2000, batch_size=256)"
   ]
  },
  {
   "cell_type": "code",
   "execution_count": null,
   "metadata": {},
   "outputs": [
    {
     "name": "stdout",
     "output_type": "stream",
     "text": [
      "step 1000/10000 (863s): loss = 8.26e-01\n",
      "step 2000/10000 (1788s): loss = 8.21e-01\n"
     ]
    }
   ],
   "source": [
    "steps=1000\n",
    "batch_size=256\n",
    "\n",
    "#optimizer = tf.keras.optimizers.SGD(learning_rate=0.01)\n",
    "optimizer = Adam(learning_rate=0.01)\n",
    "\n",
    "losses = np.empty(steps)\n",
    "time_start = time()\n",
    "\n",
    "for step in range(1, steps+1):\n",
    "\n",
    "    # Sample some pairs.\n",
    "    idx1, idx2 = sample_pairs(NUM_PROJECTIONS, batch_size, style=\"knn_and_random\", k=k)\n",
    "    #X_data, y_data = create_pairs(X, y, NUM_PAIRS)\n",
    "    \n",
    "    # Compute distances between projections\n",
    "    p1 = [X[i] for i in idx1]\n",
    "    p2 = [X[i] for i in idx2]\n",
    "    \n",
    "    distance_target = d_p(p1, p2)\n",
    "\n",
    "    a1 = [angles_predicted[i] for i in idx1]\n",
    "    a2 = [angles_predicted[i] for i in idx2]\n",
    "    \n",
    "    # Optimize by gradient descent.\n",
    "    losses[step-1], gradients = gradient(a1, a2, distance_target, dt_type=\"dP\", space=\"dQspace\")\n",
    "    optimizer.apply_gradients(zip(gradients, a1 + a2))\n",
    "\n",
    "    # Periodically report progress.\n",
    "    if ((step % (steps//10)) == 0) or (step == steps):\n",
    "        time_elapsed = time() - time_start\n",
    "        print(f'step {step}/{steps} ({time_elapsed:.0f}s): loss = {losses[step-1]:.2e}')\n",
    "\n",
    "# Plot convergence.\n",
    "fig, ax = plt.subplots()\n",
    "ax.plot(np.linspace(0, time()-time_start, steps), losses)\n",
    "ax.set_xlabel('time [s]')\n",
    "ax.set_ylabel('loss');"
   ]
  },
  {
   "cell_type": "code",
   "execution_count": 3,
   "metadata": {},
   "outputs": [],
   "source": [
    "loss_predicted_vs_true_angle(steps=2000, batch_size=256)"
   ]
  },
  {
   "cell_type": "code",
   "execution_count": null,
   "metadata": {},
   "outputs": [],
   "source": [
    "angles_predicted_plot = np.array([ np.array([(y%(2*np.pi)) for y in x.numpy()]) for x in angles_predicted])\n",
    "\n",
    "\n",
    "fig, axs = plt.subplots(1, 3, figsize=(17,7))\n",
    "axs[0].set_xlim(0,2*np.pi)\n",
    "axs[1].set_xlim(0,2*np.pi)\n",
    "axs[2].set_xlim(0,2*np.pi)\n",
    "plt.suptitle(\"Predicted Angles Count\")\n",
    "\n",
    "sns.distplot(angles_predicted_plot[:,0], kde=False, bins=20, ax=axs[0], axlabel=\"Z1 axis angle rotation [rad]\", color=\"r\")\n",
    "sns.distplot(angles_predicted_plot[:,1], kde=False, bins=20, ax=axs[1], axlabel=\"Y2 axis angle rotation [rad]\", color=\"g\")\n",
    "sns.distplot(angles_predicted_plot[:,2], kde=False, bins=80, ax=axs[2], axlabel=\"Z3 axis angle rotation [rad]\", color=\"b\");"
   ]
  },
  {
   "cell_type": "code",
   "execution_count": null,
   "metadata": {},
   "outputs": [],
   "source": []
  }
 ],
 "metadata": {
  "kernelspec": {
   "display_name": "Python 3",
   "language": "python",
   "name": "python3"
  },
  "language_info": {
   "codemirror_mode": {
    "name": "ipython",
    "version": 3
   },
   "file_extension": ".py",
   "mimetype": "text/x-python",
   "name": "python",
   "nbconvert_exporter": "python",
   "pygments_lexer": "ipython3",
   "version": "3.6.9"
  }
 },
 "nbformat": 4,
 "nbformat_minor": 4
}
