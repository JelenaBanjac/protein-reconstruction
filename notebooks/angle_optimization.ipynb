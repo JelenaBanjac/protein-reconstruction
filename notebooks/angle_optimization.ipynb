{
 "cells": [
  {
   "cell_type": "markdown",
   "metadata": {},
   "source": [
    "# Finding angles with gradient descent\n",
    "\n",
    "[Michaël Defferrard](https://deff.ch), EPFL LTS2"
   ]
  },
  {
   "cell_type": "markdown",
   "metadata": {},
   "source": [
    "Notebook showing best practices in TensorFlow v2 to optimize\n",
    "$$ \\operatorname*{arg\\,min}_{\\{\\hat{Q}_i\\}_{i=1}^n} \\sum_{i,j} \\left| d_Q(Q_i, Q_j) - d_Q(\\hat{Q}_i, \\hat{Q}_j) \\right|^2, $$\n",
    "where $Q_i$ is a unit quaternion representing a 3D rotation and $d_Q$ is the distance between two rotations.\n",
    "\n",
    "Our goal is to then optimize\n",
    "$$ \\operatorname*{arg\\,min}_{\\{\\hat{Q}_i\\}_{i=1}^n} \\sum_{i,j} \\left| d_p(p_i, p_j) - d_Q(\\hat{Q}_i, \\hat{Q}_j) \\right|^2, $$\n",
    "where $p_i$ is a projected image and $d_p$ is a (learned) distance between two images."
   ]
  },
  {
   "cell_type": "markdown",
   "metadata": {},
   "source": [
    "TODO:\n",
    "* Try to use `tf.data` as input pipeline.\n",
    "  Should make shuffling, sampling, pre-fetching, caching, batching, and transformations (like computing $d_p$ and adding noise to images) easy.\n",
    "  Is there a way to make it work like PyTorch datasets?\n",
    "* Can we use `tf.keras.layers.Embedding` for `angles_predicted`?\n",
    "* Optimizations (e.g., parallel computations)."
   ]
  },
  {
   "cell_type": "code",
   "execution_count": 1,
   "metadata": {
    "scrolled": true
   },
   "outputs": [],
   "source": [
    "#!pip install --upgrade tensorflow==2.0.0\n",
    "#!pip install --upgrade tensorflow-graphics\n",
    "# !pip install tensorboard==1.12.0"
   ]
  },
  {
   "cell_type": "code",
   "execution_count": 2,
   "metadata": {},
   "outputs": [
    {
     "name": "stderr",
     "output_type": "stream",
     "text": [
      "Warning: To use the exr data format, please install the OpenEXR package following the instructions detailed in the README at github.com/tensorflow/graphics.\n",
      "Warning: To use the threejs_vizualization, please install the colabtools package following the instructions detailed in the README at github.com/tensorflow/graphics.\n"
     ]
    }
   ],
   "source": [
    "from time import time\n",
    "\n",
    "import numpy as np\n",
    "from matplotlib import pyplot as plt\n",
    "import tensorflow as tf\n",
    "from tensorflow_graphics.geometry.transformation import quaternion"
   ]
  },
  {
   "cell_type": "markdown",
   "metadata": {},
   "source": [
    "## 1 Data"
   ]
  },
  {
   "cell_type": "code",
   "execution_count": 3,
   "metadata": {},
   "outputs": [
    {
     "name": "stdout",
     "output_type": "stream",
     "text": [
      "100 tensors of shape (1, 4)\n"
     ]
    }
   ],
   "source": [
    "n_samples = 100\n",
    "#n_samples = 1000  # Takes more time.\n",
    "angles_true = [quaternion.normalized_random_uniform([1]) for _ in range(n_samples)]\n",
    "print(f'{len(angles_true)} tensors of shape {angles_true[0].shape}')\n",
    "\n",
    "# Sanity check: the quaternions represent rotations, i.e., are normalized.\n",
    "assert abs(tf.reduce_mean(tf.norm(angles_true, axis=2) - tf.ones(n_samples))) < 1e-5"
   ]
  },
  {
   "cell_type": "code",
   "execution_count": 4,
   "metadata": {},
   "outputs": [
    {
     "data": {
      "text/plain": [
       "<tf.Tensor: id=1733, shape=(), dtype=float32, numpy=0.002772792>"
      ]
     },
     "execution_count": 4,
     "metadata": {},
     "output_type": "execute_result"
    }
   ],
   "source": [
    "# TODO: why isn't this zero? Numerical errors?\n",
    "# This discrepancy is of the same order as the loss we attain.\n",
    "tf.reduce_mean(quaternion.relative_angle(angles_true, angles_true))"
   ]
  },
  {
   "cell_type": "markdown",
   "metadata": {},
   "source": [
    "## 2 Loss and gradient"
   ]
  },
  {
   "cell_type": "code",
   "execution_count": 5,
   "metadata": {},
   "outputs": [],
   "source": [
    "def loss(q1_predicted, q2_predicted, distance_target):\n",
    "    q1 = quaternion.normalize(q1_predicted)\n",
    "    q2 = quaternion.normalize(q2_predicted)\n",
    "    distance = quaternion.relative_angle(q1, q2)\n",
    "    # The mean doesn't depend on the batch size.\n",
    "    return tf.reduce_mean((distance - distance_target)**2)\n",
    "\n",
    "# Sanity check: zero loss at solution.\n",
    "distance_target = quaternion.relative_angle(angles_true[0:3], angles_true[1:4])\n",
    "assert loss(angles_true[0:3], angles_true[1:4], distance_target) < 1e-10"
   ]
  },
  {
   "cell_type": "code",
   "execution_count": 6,
   "metadata": {},
   "outputs": [],
   "source": [
    "def gradient(q1_predicted, q2_predicted, distance_target):\n",
    "    with tf.GradientTape() as tape:\n",
    "        loss_value = loss(q1_predicted, q2_predicted, distance_target)\n",
    "    return loss_value, tape.gradient(loss_value, q1_predicted + q2_predicted)\n",
    "\n",
    "# Sanity check: zero gradient at solution.\n",
    "q1 = [tf.Variable(angles_true[i]) for i in [0, 1, 2]]\n",
    "q2 = [tf.Variable(angles_true[i]) for i in [1, 2, 3]]\n",
    "distance_target = quaternion.relative_angle(q1, q2)\n",
    "loss_value, gradients = gradient(q1, q2, distance_target)\n",
    "assert abs(loss_value) < 1e-5\n",
    "assert tf.reduce_all(tf.convert_to_tensor(gradients) < 1e-5 * tf.ones([6, 1, 4]))"
   ]
  },
  {
   "cell_type": "markdown",
   "metadata": {},
   "source": [
    "## 3 Optimization loop"
   ]
  },
  {
   "cell_type": "code",
   "execution_count": 7,
   "metadata": {},
   "outputs": [
    {
     "name": "stdout",
     "output_type": "stream",
     "text": [
      "step 200/2000 (11s): loss = 1.66e-01\n",
      "step 400/2000 (21s): loss = 1.34e-01\n",
      "step 600/2000 (32s): loss = 1.28e-01\n",
      "step 800/2000 (42s): loss = 1.01e-01\n",
      "step 1000/2000 (52s): loss = 8.83e-02\n",
      "step 1200/2000 (63s): loss = 7.41e-02\n",
      "step 1400/2000 (73s): loss = 9.44e-02\n",
      "step 1600/2000 (84s): loss = 3.60e-02\n",
      "step 1800/2000 (94s): loss = 1.08e-02\n",
      "step 2000/2000 (105s): loss = 1.69e-08\n"
     ]
    },
    {
     "data": {
      "image/png": "[encoded data removed]",
      "text/plain": [
       "<Figure size 432x288 with 1 Axes>"
      ]
     },
     "metadata": {
      "needs_background": "light"
     },
     "output_type": "display_data"
    }
   ],
   "source": [
    "batch_size = 256\n",
    "steps = 2000\n",
    "\n",
    "#optimizer = tf.keras.optimizers.SGD(learning_rate=0.01)\n",
    "optimizer = tf.keras.optimizers.Adam(learning_rate=0.1)\n",
    "\n",
    "# Random initialization.\n",
    "angles_predicted = [tf.Variable(quaternion.normalized_random_uniform([1])) for _ in range(n_samples)]\n",
    "\n",
    "losses = np.empty(steps)\n",
    "time_start = time()\n",
    "\n",
    "for step in range(1, steps+1):\n",
    "\n",
    "    # Sample some pairs.\n",
    "    idx1 = list(np.random.randint(0, n_samples, batch_size))\n",
    "    idx2 = list(np.random.randint(0, n_samples, batch_size))\n",
    "    q1 = [angles_predicted[i] for i in idx1]\n",
    "    q2 = [angles_predicted[i] for i in idx2]\n",
    "\n",
    "    # Compute distances between pairs.\n",
    "    # To be replaced by distance estimation in pixel space.\n",
    "    q1_true = [angles_true[i] for i in idx1]\n",
    "    q2_true = [angles_true[i] for i in idx2]\n",
    "    distance_target = quaternion.relative_angle(q1_true, q2_true)\n",
    "\n",
    "    # Optimize by gradient descent.\n",
    "    losses[step-1], gradients = gradient(q1, q2, distance_target)\n",
    "    optimizer.apply_gradients(zip(gradients, q1 + q2))\n",
    "\n",
    "    # Periodically report progress.\n",
    "    if ((step % (steps//10)) == 0) or (step == steps):\n",
    "        time_elapsed = time() - time_start\n",
    "        print(f'step {step}/{steps} ({time_elapsed:.0f}s): loss = {losses[step-1]:.2e}')\n",
    "\n",
    "# Plot convergence.\n",
    "fig, ax = plt.subplots()\n",
    "ax.plot(np.linspace(0, time()-time_start, steps), losses)\n",
    "ax.set_xlabel('time [s]')\n",
    "ax.set_ylabel('loss');"
   ]
  },
  {
   "cell_type": "code",
   "execution_count": 8,
   "metadata": {},
   "outputs": [],
   "source": [
    "# Not a big deal if they're not normalized. Only the direction matters.\n",
    "# tf.norm(angles_predicted, axis=2)"
   ]
  }
 ],
 "metadata": {
  "kernelspec": {
   "display_name": "Python 3",
   "language": "python",
   "name": "python3"
  },
  "language_info": {
   "codemirror_mode": {
    "name": "ipython",
    "version": 3
   },
   "file_extension": ".py",
   "mimetype": "text/x-python",
   "name": "python",
   "nbconvert_exporter": "python",
   "pygments_lexer": "ipython3",
   "version": "3.6.9"
  }
 },
 "nbformat": 4,
 "nbformat_minor": 4
}
