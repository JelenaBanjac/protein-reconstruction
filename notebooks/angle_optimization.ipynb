{
 "cells": [
  {
   "cell_type": "markdown",
   "metadata": {},
   "source": [
    "# Finding angles with gradient descent\n",
    "\n",
    "[Michaël Defferrard](https://deff.ch), EPFL LTS2"
   ]
  },
  {
   "cell_type": "markdown",
   "metadata": {},
   "source": [
    "Notebook showing best practices in TensorFlow v2 to optimize\n",
    "$$ \\operatorname*{arg\\,min}_{\\{\\hat{Q}_i\\}_{i=1}^n} \\sum_{i,j} \\left| d_Q(Q_i, Q_j) - d_Q(\\hat{Q}_i, \\hat{Q}_j) \\right|^2, $$\n",
    "where $Q_i$ is a unit quaternion representing a 3D rotation and $d_Q$ is the distance between two rotations.\n",
    "\n",
    "Our goal is to then optimize\n",
    "$$ \\operatorname*{arg\\,min}_{\\{\\hat{Q}_i\\}_{i=1}^n} \\sum_{i,j} \\left| d_p(p_i, p_j) - d_Q(\\hat{Q}_i, \\hat{Q}_j) \\right|^2, $$\n",
    "where $p_i$ is a projected image and $d_p$ is a (learned) distance between two images."
   ]
  },
  {
   "cell_type": "markdown",
   "metadata": {},
   "source": [
    "TODO:\n",
    "* Try to use `tf.data` as input pipeline.\n",
    "  Should make shuffling, sampling, pre-fetching, caching, batching, and transformations (like computing $d_p$ and adding noise to images) easy.\n",
    "  Is there a way to make it work like PyTorch datasets?\n",
    "* Can we use `tf.keras.layers.Embedding` for `angles_predicted`?\n",
    "* Optimizations (e.g., parallel computations)."
   ]
  },
  {
   "cell_type": "code",
   "execution_count": 4,
   "metadata": {},
   "outputs": [],
   "source": [
    "from time import time\n",
    "import h5py\n",
    "import os\n",
    "\n",
    "import numpy as np\n",
    "from matplotlib import pyplot as plt\n",
    "import tensorflow as tf\n",
    "from tensorflow_graphics.geometry.transformation import quaternion"
   ]
  },
  {
   "cell_type": "markdown",
   "metadata": {},
   "source": [
    "## 1 Data"
   ]
  },
  {
   "cell_type": "code",
   "execution_count": 2,
   "metadata": {},
   "outputs": [],
   "source": [
    "n_samples = 5000"
   ]
  },
  {
   "cell_type": "code",
   "execution_count": 36,
   "metadata": {},
   "outputs": [
    {
     "name": "stdout",
     "output_type": "stream",
     "text": [
      "5000 projections of images with dimension (136, 136) pixels\n",
      "5000 sets of 3 ground truth angles of corresponding projection images\n"
     ]
    }
   ],
   "source": [
    "# location of *.h5 files\n",
    "data_dir = \"../data\"\n",
    "\n",
    "# half coverage (AngCoverage=0.5)\n",
    "projections_filename = \"ProjectionsAngles_ProjNber5000_AngCoverage0.5_AngShift1.57\"\n",
    "\n",
    "# load structures\n",
    "data = h5py.File(os.path.join(data_dir, f\"{projections_filename}.h5\"), 'r')\n",
    "\n",
    "print(f\"{data['Projections'].shape[0]} projections of images with dimension {data['Projections'].shape[1:]} pixels\")\n",
    "print(f\"{data['Angles'].shape[0]} sets of {data['Angles'].shape[1]} ground truth angles of corresponding projection images\")"
   ]
  },
  {
   "cell_type": "code",
   "execution_count": 37,
   "metadata": {},
   "outputs": [
    {
     "name": "stdout",
     "output_type": "stream",
     "text": [
      "5000 tensors of shape (4,)\n"
     ]
    }
   ],
   "source": [
    "angles_true = np.reshape(data[\"Angles\"], (data[\"Angles\"].shape[0], -1))\n",
    "angles_true = [quaternion.from_euler(e) for e in angles_true]\n",
    "print(f'{len(angles_true)} tensors of shape {angles_true[0].shape}')\n",
    "\n",
    "# Sanity check: the quaternions represent rotations, i.e., are normalized.\n",
    "#assert abs(tf.reduce_mean(tf.norm(angles_true, axis=2) - tf.ones(n_samples))) < 1e-5"
   ]
  },
  {
   "cell_type": "code",
   "execution_count": 38,
   "metadata": {},
   "outputs": [
    {
     "data": {
      "text/plain": [
       "<tf.Tensor: id=15943072, shape=(), dtype=float64, numpy=1.1944741945686946e-07>"
      ]
     },
     "execution_count": 38,
     "metadata": {},
     "output_type": "execute_result"
    }
   ],
   "source": [
    "# TODO: why isn't this zero? Numerical errors?\n",
    "# This discrepancy is of the same order as the loss we attain.\n",
    "tf.reduce_mean(quaternion.relative_angle(angles_true, angles_true))"
   ]
  },
  {
   "cell_type": "code",
   "execution_count": 39,
   "metadata": {},
   "outputs": [],
   "source": [
    "def normalized_random_uniform(quaternion_shape, name=None):\n",
    "    \"\"\"Random normalized quaternion following a uniform distribution law on SO(3).\n",
    "    Args:\n",
    "    quaternion_shape: A list representing the shape of the output tensor.\n",
    "    name: A name for this op that defaults to\n",
    "      \"quaternion_normalized_random_uniform\".\n",
    "    Returns:\n",
    "    A tensor of shape `[quaternion_shape[0],...,quaternion_shape[-1], 4]`\n",
    "    representing random normalized quaternions.\n",
    "    \"\"\"\n",
    "    with tf.compat.v1.name_scope(name, \"quaternion_normalized_random_uniform\",\n",
    "                               [quaternion_shape]):\n",
    "#         print(quaternion_shape)\n",
    "        quaternion_shape = tf.convert_to_tensor(value=quaternion_shape,\n",
    "                                                dtype=tf.int32)\n",
    "#         print(quaternion_shape)\n",
    "        quaternion_shape = tf.concat((quaternion_shape, tf.constant([4])), axis=0)\n",
    "#         print(quaternion_shape)\n",
    "        random_normal = tf.random.normal(quaternion_shape, dtype=np.float64)\n",
    "#         print(random_normal)\n",
    "    return quaternion.normalize(random_normal)"
   ]
  },
  {
   "cell_type": "code",
   "execution_count": 32,
   "metadata": {},
   "outputs": [
    {
     "name": "stdout",
     "output_type": "stream",
     "text": [
      "[1]\n",
      "tf.Tensor([1], shape=(1,), dtype=int32)\n",
      "tf.Tensor([1 4], shape=(2,), dtype=int32)\n",
      "tf.Tensor([[ 0.45155864  0.39558057  0.57754289 -1.06576346]], shape=(1, 4), dtype=float64)\n"
     ]
    },
    {
     "data": {
      "text/plain": [
       "<tf.Tensor: id=15538051, shape=(1, 4), dtype=float64, numpy=array([[ 0.33382029,  0.29243781,  0.4269557 , -0.78787878]])>"
      ]
     },
     "execution_count": 32,
     "metadata": {},
     "output_type": "execute_result"
    }
   ],
   "source": [
    "normalized_random_uniform([1])"
   ]
  },
  {
   "cell_type": "code",
   "execution_count": 40,
   "metadata": {},
   "outputs": [
    {
     "data": {
      "text/plain": [
       "<tf.Variable 'Variable:0' shape=(1, 4) dtype=float64, numpy=array([[ 0.30637824, -0.30848249, -0.37428336,  0.81907442]])>"
      ]
     },
     "execution_count": 40,
     "metadata": {},
     "output_type": "execute_result"
    }
   ],
   "source": [
    "# Random initialization.\n",
    "angles_predicted = [tf.Variable(normalized_random_uniform([1])) for _ in range(n_samples)]\n",
    "angles_predicted[0]"
   ]
  },
  {
   "cell_type": "markdown",
   "metadata": {},
   "source": [
    "## 2 Loss and gradient"
   ]
  },
  {
   "cell_type": "code",
   "execution_count": 41,
   "metadata": {},
   "outputs": [],
   "source": [
    "def loss(q1_predicted, q2_predicted, distance_target):\n",
    "    q1 = quaternion.normalize(q1_predicted)\n",
    "    q2 = quaternion.normalize(q2_predicted)\n",
    "    distance = quaternion.relative_angle(q1, q2)\n",
    "    # The mean doesn't depend on the batch size.\n",
    "    return tf.reduce_mean((distance - distance_target)**2)\n",
    "\n",
    "# Sanity check: zero loss at solution.\n",
    "distance_target = quaternion.relative_angle(angles_true[0:3], angles_true[1:4])\n",
    "assert loss(angles_true[0:3], angles_true[1:4], distance_target) < 1e-10"
   ]
  },
  {
   "cell_type": "code",
   "execution_count": 44,
   "metadata": {},
   "outputs": [],
   "source": [
    "def gradient(q1_predicted, q2_predicted, distance_target):\n",
    "    with tf.GradientTape() as tape:\n",
    "        loss_value = loss(q1_predicted, q2_predicted, distance_target)\n",
    "    return loss_value, tape.gradient(loss_value, q1_predicted + q2_predicted)\n",
    "\n",
    "# Sanity check: zero gradient at solution.\n",
    "q1 = [tf.Variable(angles_true[i]) for i in [0, 1, 2]]\n",
    "q2 = [tf.Variable(angles_true[i]) for i in [1, 2, 3]]\n",
    "distance_target = quaternion.relative_angle(q1, q2)\n",
    "loss_value, gradients = gradient(q1, q2, distance_target)\n",
    "assert abs(loss_value) < 1e-5\n",
    "# assert tf.reduce_all(tf.convert_to_tensor(gradients) < 1e-5 * tf.ones([6, 1, 4]))"
   ]
  },
  {
   "cell_type": "markdown",
   "metadata": {},
   "source": [
    "## 3 Optimization loop"
   ]
  },
  {
   "cell_type": "code",
   "execution_count": 43,
   "metadata": {},
   "outputs": [
    {
     "name": "stdout",
     "output_type": "stream",
     "text": [
      "step 1000/10000 (90s): loss = 1.09e+00\n",
      "step 2000/10000 (631s): loss = 1.07e+00\n",
      "step 3000/10000 (710s): loss = 1.00e+00\n",
      "step 4000/10000 (791s): loss = 9.69e-01\n",
      "step 5000/10000 (883s): loss = 9.23e-01\n",
      "step 6000/10000 (973s): loss = 1.04e+00\n",
      "step 7000/10000 (1065s): loss = 9.26e-01\n",
      "step 8000/10000 (1155s): loss = 9.69e-01\n",
      "step 9000/10000 (1244s): loss = 9.65e-01\n",
      "step 10000/10000 (1336s): loss = 1.00e+00\n"
     ]
    },
    {
     "data": {
      "image/png": "[encoded data removed]",
      "text/plain": [
       "<Figure size 432x288 with 1 Axes>"
      ]
     },
     "metadata": {
      "needs_background": "light"
     },
     "output_type": "display_data"
    }
   ],
   "source": [
    "batch_size = 256\n",
    "steps = 10000\n",
    "\n",
    "#optimizer = tf.keras.optimizers.SGD(learning_rate=0.01)\n",
    "optimizer = tf.keras.optimizers.Adam(learning_rate=0.1)\n",
    "\n",
    "\n",
    "losses = np.empty(steps)\n",
    "time_start = time()\n",
    "\n",
    "for step in range(1, steps+1):\n",
    "\n",
    "    # Sample some pairs.\n",
    "    idx1 = list(np.random.randint(0, n_samples, batch_size))\n",
    "    idx2 = list(np.random.randint(0, n_samples, batch_size))\n",
    "    q1 = [angles_predicted[i] for i in idx1]\n",
    "    q2 = [angles_predicted[i] for i in idx2]\n",
    "\n",
    "    # Compute distances between pairs.\n",
    "    # To be replaced by distance estimation in pixel space.\n",
    "    q1_true = [angles_true[i] for i in idx1]\n",
    "    q2_true = [angles_true[i] for i in idx2]\n",
    "    distance_target = quaternion.relative_angle(q1_true, q2_true)\n",
    "\n",
    "    # Optimize by gradient descent.\n",
    "    losses[step-1], gradients = gradient(q1, q2, distance_target)\n",
    "    optimizer.apply_gradients(zip(gradients, q1 + q2))\n",
    "\n",
    "    # Periodically report progress.\n",
    "    if ((step % (steps//10)) == 0) or (step == steps):\n",
    "        time_elapsed = time() - time_start\n",
    "        print(f'step {step}/{steps} ({time_elapsed:.0f}s): loss = {losses[step-1]:.2e}')\n",
    "\n",
    "# Plot convergence.\n",
    "fig, ax = plt.subplots()\n",
    "ax.plot(np.linspace(0, time()-time_start, steps), losses)\n",
    "ax.set_xlabel('time [s]')\n",
    "ax.set_ylabel('loss');"
   ]
  },
  {
   "cell_type": "code",
   "execution_count": null,
   "metadata": {},
   "outputs": [],
   "source": [
    "# Not a big deal if they're not normalized. Only the direction matters.\n",
    "# tf.norm(angles_predicted, axis=2)"
   ]
  }
 ],
 "metadata": {
  "kernelspec": {
   "display_name": "Python 3",
   "language": "python",
   "name": "python3"
  },
  "language_info": {
   "codemirror_mode": {
    "name": "ipython",
    "version": 3
   },
   "file_extension": ".py",
   "mimetype": "text/x-python",
   "name": "python",
   "nbconvert_exporter": "python",
   "pygments_lexer": "ipython3",
   "version": "3.6.9"
  }
 },
 "nbformat": 4,
 "nbformat_minor": 4
}
