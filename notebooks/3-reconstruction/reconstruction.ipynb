{
 "cells": [
  {
   "cell_type": "markdown",
   "metadata": {},
   "source": [
    "# Reconstruction"
   ]
  },
  {
   "cell_type": "markdown",
   "metadata": {},
   "source": [
    "Reference: https://tomroelandts.com/articles/astra-toolbox-tutorial-reconstruction-from-projection-images-part-2"
   ]
  },
  {
   "cell_type": "code",
   "execution_count": 1,
   "metadata": {},
   "outputs": [],
   "source": [
    "import numpy as np\n",
    "from os import mkdir\n",
    "from os.path import join, isdir\n",
    "from imageio import imread, imwrite\n",
    "import matplotlib.pyplot as plt\n",
    "import astra\n",
    "import h5py\n",
    "import os\n",
    "import mrcfile\n",
    "from tvtk.api import tvtk\n",
    "from mayavi import mlab\n",
    "\n",
    "import sys\n",
    "sys.path.append(\"../..\") \n",
    "from cryoem.projections import RotationMatrix"
   ]
  },
  {
   "cell_type": "markdown",
   "metadata": {},
   "source": [
    "# True Angles and Projections"
   ]
  },
  {
   "cell_type": "code",
   "execution_count": 2,
   "metadata": {},
   "outputs": [],
   "source": [
    "INPUT_FILE = \"5a1a_projections_and_angles\"\n",
    "OUTPUT_FILE = \"5a1a_projections_and_angles\""
   ]
  },
  {
   "cell_type": "markdown",
   "metadata": {},
   "source": [
    "## Create data for reconstruction (projections and angles pairs)"
   ]
  },
  {
   "cell_type": "code",
   "execution_count": 3,
   "metadata": {},
   "outputs": [],
   "source": [
    "PROTEIN=\"5a1a\"\n",
    "ROOT_DIR = \"../..\"\n",
    "NUM_PROJECTIONS = 5000\n",
    "\n",
    "# location of *.h5 files\n",
    "data_dir = f\"{ROOT_DIR}/data\"\n",
    "\n",
    "# full coverage (AngCoverage=0.5)\n",
    "projections_filename = f\"{PROTEIN}_ProjectionsAngles_ProjNber{NUM_PROJECTIONS}_AngCoverage2.0,1.0,2.0_AngShift0.0,0.0,0.0.h5\"\n",
    "\n",
    "# load structures\n",
    "data = h5py.File(os.path.join(data_dir, projections_filename), 'r')\n",
    "    \n",
    "np.savez(f\"data/{INPUT_FILE}\", data['Projections'], data['Angles'])"
   ]
  },
  {
   "cell_type": "markdown",
   "metadata": {},
   "source": [
    "## Reconstruction"
   ]
  },
  {
   "cell_type": "code",
   "execution_count": 4,
   "metadata": {
    "scrolled": true
   },
   "outputs": [],
   "source": [
    "data = np.load(f'data/{INPUT_FILE}.npz')\n",
    "projections, angles = data[\"arr_0\"].astype(np.float64)[:3000, :, :], data[\"arr_1\"].astype(np.float64)[:3000, :]\n",
    "\n",
    "# Generate orientation vectors based on angles\n",
    "orientation_vectors   = RotationMatrix(angles)\n",
    "\n",
    "# Reshape projections correctly \n",
    "projections1 = np.transpose(projections, (1, 0, 2))\n",
    "# Get projection dimension\n",
    "proj_size = projections1.shape[0]\n",
    "\n",
    "# Create projection 2D geometry in ASTRA\n",
    "proj_geom = astra.create_proj_geom('parallel3d_vec', proj_size, proj_size, orientation_vectors)\n",
    "projections_id = astra.data3d.create('-sino', proj_geom, projections1)\n",
    "\n",
    "# Create reconstruction.\n",
    "vol_geom = astra.creators.create_vol_geom(proj_size, proj_size, proj_size)\n",
    "reconstruction_id = astra.data3d.create('-vol', vol_geom, data=0)\n",
    "alg_cfg = astra.astra_dict('BP3D_CUDA')\n",
    "alg_cfg['ProjectionDataId'] = projections_id\n",
    "alg_cfg['ReconstructionDataId'] = reconstruction_id\n",
    "algorithm_id = astra.algorithm.create(alg_cfg)\n",
    "astra.algorithm.run(algorithm_id)\n",
    "reconstruction = astra.data3d.get(reconstruction_id)\n",
    "\n",
    "\n",
    "# Limit and scale reconstruction.\n",
    "reconstruction[reconstruction < 0] = 0\n",
    "reconstruction /= np.max(reconstruction)\n",
    "reconstruction = np.round(reconstruction * 255).astype(np.uint8)\n",
    "    \n",
    "# Cleanup.\n",
    "astra.algorithm.delete(algorithm_id)\n",
    "astra.data3d.delete(reconstruction_id)\n",
    "astra.data3d.delete(projections_id)\n",
    "\n",
    "# Save reconstruction to mrc file for chimera\n",
    "with mrcfile.new(f'data/{OUTPUT_FILE}.mrc') as mrc:\n",
    "    mrc.set_data(reconstruction)"
   ]
  },
  {
   "cell_type": "markdown",
   "metadata": {},
   "source": [
    "## Plot reconstruction result"
   ]
  },
  {
   "cell_type": "code",
   "execution_count": 5,
   "metadata": {},
   "outputs": [],
   "source": [
    "mlab.contour3d(reconstruction, transparent=True)\n",
    "mlab.colorbar(orientation='vertical')\n",
    "#mlab.savefig(\"data/5a1a_projections_and_angles.tiff\")\n",
    "mlab.show()"
   ]
  },
  {
   "cell_type": "markdown",
   "metadata": {},
   "source": [
    "![](data/5a1a_projections_and_angles.png)"
   ]
  },
  {
   "cell_type": "markdown",
   "metadata": {},
   "source": [
    "---"
   ]
  },
  {
   "cell_type": "markdown",
   "metadata": {},
   "source": [
    "# True Angles and Projections"
   ]
  },
  {
   "cell_type": "code",
   "execution_count": 6,
   "metadata": {},
   "outputs": [],
   "source": [
    "INPUT_FILE = \"5a1a_projections_and_angles_half\"\n",
    "OUTPUT_FILE = \"5a1a_projections_and_angles_half\""
   ]
  },
  {
   "cell_type": "markdown",
   "metadata": {},
   "source": [
    "## Create data for reconstruction (projections and angles pairs)"
   ]
  },
  {
   "cell_type": "code",
   "execution_count": 7,
   "metadata": {},
   "outputs": [],
   "source": [
    "PROTEIN=\"5a1a\"\n",
    "ROOT_DIR = \"../..\"\n",
    "NUM_PROJECTIONS = 5000\n",
    "\n",
    "# location of *.h5 files\n",
    "data_dir = f\"{ROOT_DIR}/data\"\n",
    "\n",
    "# half coverage (AngCoverage=0.5)\n",
    "projections_filename = f\"{PROTEIN}_ProjectionsAngles_ProjNber{NUM_PROJECTIONS}_AngCoverage2.0,0.4,2.0_AngShift0.0,0.0,0.0.h5\"\n",
    "\n",
    "# load structures\n",
    "data = h5py.File(os.path.join(data_dir, projections_filename), 'r')\n",
    "    \n",
    "np.savez(f\"data/{INPUT_FILE}\", data['Projections'], data['Angles'])"
   ]
  },
  {
   "cell_type": "markdown",
   "metadata": {},
   "source": [
    "## Reconstruction"
   ]
  },
  {
   "cell_type": "code",
   "execution_count": 8,
   "metadata": {
    "scrolled": true
   },
   "outputs": [],
   "source": [
    "data = np.load(f'data/{INPUT_FILE}.npz')\n",
    "projections, angles = data[\"arr_0\"].astype(np.float64)[:3000, :, :], data[\"arr_1\"].astype(np.float64)[:3000, :]\n",
    "\n",
    "# Generate orientation vectors based on angles\n",
    "orientation_vectors   = RotationMatrix(angles)\n",
    "\n",
    "# Reshape projections correctly \n",
    "projections1 = np.transpose(projections, (1, 0, 2))\n",
    "# Get projection dimension\n",
    "proj_size = projections1.shape[0]\n",
    "\n",
    "# Create projection 2D geometry in ASTRA\n",
    "proj_geom = astra.create_proj_geom('parallel3d_vec', proj_size, proj_size, orientation_vectors)\n",
    "projections_id = astra.data3d.create('-sino', proj_geom, projections1)\n",
    "\n",
    "# Create reconstruction.\n",
    "vol_geom = astra.creators.create_vol_geom(proj_size, proj_size, proj_size)\n",
    "reconstruction_id = astra.data3d.create('-vol', vol_geom, data=0)\n",
    "alg_cfg = astra.astra_dict('BP3D_CUDA')\n",
    "alg_cfg['ProjectionDataId'] = projections_id\n",
    "alg_cfg['ReconstructionDataId'] = reconstruction_id\n",
    "algorithm_id = astra.algorithm.create(alg_cfg)\n",
    "astra.algorithm.run(algorithm_id)\n",
    "reconstruction = astra.data3d.get(reconstruction_id)\n",
    "\n",
    "\n",
    "# Limit and scale reconstruction.\n",
    "reconstruction[reconstruction < 0] = 0\n",
    "reconstruction /= np.max(reconstruction)\n",
    "reconstruction = np.round(reconstruction * 255).astype(np.uint8)\n",
    "    \n",
    "# Cleanup.\n",
    "astra.algorithm.delete(algorithm_id)\n",
    "astra.data3d.delete(reconstruction_id)\n",
    "astra.data3d.delete(projections_id)\n",
    "\n",
    "# Save reconstruction to mrc file for chimera\n",
    "with mrcfile.new(f'data/{OUTPUT_FILE}.mrc') as mrc:\n",
    "    mrc.set_data(reconstruction)"
   ]
  },
  {
   "cell_type": "markdown",
   "metadata": {},
   "source": [
    "## Plot reconstruction result"
   ]
  },
  {
   "cell_type": "code",
   "execution_count": 9,
   "metadata": {},
   "outputs": [],
   "source": [
    "mlab.contour3d(reconstruction, transparent=True)\n",
    "mlab.colorbar(orientation='vertical')\n",
    "#mlab.savefig(\"data/5a1a_projections_and_angles.tiff\")\n",
    "mlab.show()"
   ]
  },
  {
   "cell_type": "markdown",
   "metadata": {},
   "source": [
    "![](data/5a1a_projections_and_angles.png)"
   ]
  },
  {
   "cell_type": "markdown",
   "metadata": {},
   "source": [
    "---"
   ]
  },
  {
   "cell_type": "markdown",
   "metadata": {},
   "source": [
    "# Half-cover Predicted Angles and Projections"
   ]
  },
  {
   "cell_type": "code",
   "execution_count": 10,
   "metadata": {},
   "outputs": [],
   "source": [
    "INPUT_FILE = \"5a1a_projections_and_angles_predicted\"\n",
    "OUTPUT_FILE = \"5a1a_projections_and_angles_predicted\""
   ]
  },
  {
   "cell_type": "markdown",
   "metadata": {},
   "source": [
    "## Reconstruction"
   ]
  },
  {
   "cell_type": "code",
   "execution_count": 11,
   "metadata": {
    "scrolled": true
   },
   "outputs": [],
   "source": [
    "data = np.load(f'data/{INPUT_FILE}.npz')\n",
    "projections, angles = data[\"arr_0\"].astype(np.float64)[:3000, :, :], data[\"arr_1\"].astype(np.float64)[:3000, :]\n",
    "\n",
    "# Generate orientation vectors based on angles\n",
    "orientation_vectors   = RotationMatrix(angles)\n",
    "\n",
    "# Reshape projections correctly \n",
    "projections1 = np.transpose(projections, (1, 0, 2))\n",
    "# Get projection dimension\n",
    "proj_size = projections1.shape[0]\n",
    "\n",
    "# Create projection 2D geometry in ASTRA\n",
    "proj_geom = astra.create_proj_geom('parallel3d_vec', proj_size, proj_size, orientation_vectors)\n",
    "projections_id = astra.data3d.create('-sino', proj_geom, projections1)\n",
    "\n",
    "# Create reconstruction.\n",
    "vol_geom = astra.creators.create_vol_geom(proj_size, proj_size, proj_size)\n",
    "reconstruction_id = astra.data3d.create('-vol', vol_geom, data=0)\n",
    "alg_cfg = astra.astra_dict('BP3D_CUDA')\n",
    "alg_cfg['ProjectionDataId'] = projections_id\n",
    "alg_cfg['ReconstructionDataId'] = reconstruction_id\n",
    "algorithm_id = astra.algorithm.create(alg_cfg)\n",
    "astra.algorithm.run(algorithm_id)\n",
    "reconstruction = astra.data3d.get(reconstruction_id)\n",
    "\n",
    "\n",
    "# Limit and scale reconstruction.\n",
    "reconstruction[reconstruction < 0] = 0\n",
    "reconstruction /= np.max(reconstruction)\n",
    "reconstruction = np.round(reconstruction * 255).astype(np.uint8)\n",
    "    \n",
    "# Cleanup.\n",
    "astra.algorithm.delete(algorithm_id)\n",
    "astra.data3d.delete(reconstruction_id)\n",
    "astra.data3d.delete(projections_id)\n",
    "\n",
    "# Save reconstruction to mrc file for chimera\n",
    "with mrcfile.new(f'data/{OUTPUT_FILE}.mrc') as mrc:\n",
    "    mrc.set_data(reconstruction)"
   ]
  },
  {
   "cell_type": "markdown",
   "metadata": {},
   "source": [
    "## Plot reconstruction result"
   ]
  },
  {
   "cell_type": "code",
   "execution_count": 12,
   "metadata": {},
   "outputs": [],
   "source": [
    "mlab.contour3d(reconstruction, transparent=True)\n",
    "mlab.colorbar(orientation='vertical')\n",
    "# mlab.savefig(\"data/5a1a_projections_and_angles.tiff\")\n",
    "mlab.show()"
   ]
  },
  {
   "cell_type": "markdown",
   "metadata": {},
   "source": [
    "![](data/5a1a_projections_and_angles_predicted.png)"
   ]
  }
 ],
 "metadata": {
  "kernelspec": {
   "display_name": "Python 3",
   "language": "python",
   "name": "python3"
  },
  "language_info": {
   "codemirror_mode": {
    "name": "ipython",
    "version": 3
   },
   "file_extension": ".py",
   "mimetype": "text/x-python",
   "name": "python",
   "nbconvert_exporter": "python",
   "pygments_lexer": "ipython3",
   "version": "3.6.9"
  }
 },
 "nbformat": 4,
 "nbformat_minor": 2
}
