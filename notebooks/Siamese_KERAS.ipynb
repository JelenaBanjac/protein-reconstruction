{
 "cells": [
  {
   "cell_type": "markdown",
   "metadata": {},
   "source": [
    "# Siamese"
   ]
  },
  {
   "cell_type": "markdown",
   "metadata": {},
   "source": [
    "Source: https://keras.io/examples/mnist_siamese/"
   ]
  },
  {
   "cell_type": "code",
   "execution_count": 1,
   "metadata": {},
   "outputs": [],
   "source": [
    "import numpy as np\n",
    "\n",
    "import random\n",
    "import tensorflow as tf\n",
    "from tensorflow.keras.datasets import mnist\n",
    "from tensorflow.keras.models import Model\n",
    "from tensorflow.keras.layers import Input, Flatten, Dense, Dropout, Lambda\n",
    "from tensorflow.keras.optimizers import RMSprop\n",
    "from tensorflow.keras import backend as K"
   ]
  },
  {
   "cell_type": "code",
   "execution_count": 2,
   "metadata": {},
   "outputs": [],
   "source": [
    "NUM_CLASSES = 10\n",
    "EPOCHS = 20\n",
    "BATCH_SIZE = 128"
   ]
  },
  {
   "cell_type": "code",
   "execution_count": 3,
   "metadata": {},
   "outputs": [],
   "source": [
    "def euclidean_distance(vects):\n",
    "    x, y = vects\n",
    "    sum_square = K.sum(K.square(x - y), axis=1, keepdims=True)\n",
    "    return K.sqrt(K.maximum(sum_square, K.epsilon()))\n",
    "\n",
    "\n",
    "def eucl_dist_output_shape(shapes):\n",
    "    shape1, shape2 = shapes\n",
    "    return (shape1[0], 1)\n",
    "\n",
    "\n",
    "def contrastive_loss(y_true, y_pred):\n",
    "    '''Contrastive loss from Hadsell-et-al.'06\n",
    "    http://yann.lecun.com/exdb/publis/pdf/hadsell-chopra-lecun-06.pdf\n",
    "    '''\n",
    "    margin = 1\n",
    "    square_pred = K.square(y_pred)\n",
    "    margin_square = K.square(K.maximum(margin - y_pred, 0))\n",
    "    return K.mean(y_true * square_pred + (1 - y_true) * margin_square)\n",
    "\n",
    "\n",
    "def create_pairs(x, digit_indices):\n",
    "    '''Positive and negative pair creation.\n",
    "    Alternates between positive and negative pairs.\n",
    "    '''\n",
    "    pairs = []\n",
    "    labels = []\n",
    "    n = min([len(digit_indices[d]) for d in range(NUM_CLASSES)]) - 1\n",
    "    for d in range(NUM_CLASSES):\n",
    "        for i in range(n):\n",
    "            # similar pair\n",
    "            z1, z2 = digit_indices[d][i], digit_indices[d][i + 1]\n",
    "            pairs += [[x[z1], x[z2]]]\n",
    "            inc = random.randrange(1, NUM_CLASSES)\n",
    "            # dissimilar pair\n",
    "            dn = (d + inc) % NUM_CLASSES\n",
    "            z1, z2 = digit_indices[d][i], digit_indices[dn][i]\n",
    "            pairs += [[x[z1], x[z2]]]\n",
    "            labels += [1, 0]\n",
    "    return np.array(pairs), np.array(labels)\n",
    "\n",
    "\n",
    "def create_base_network(input_shape):\n",
    "    '''Base network to be shared (eq. to feature extraction).\n",
    "    '''\n",
    "    input = Input(shape=input_shape)\n",
    "    x = Flatten()(input)\n",
    "    x = Dense(128, activation='relu')(x)\n",
    "    x = Dropout(0.1)(x)\n",
    "    x = Dense(128, activation='relu')(x)\n",
    "    x = Dropout(0.1)(x)\n",
    "    x = Dense(128, activation='relu')(x)\n",
    "    return Model(input, x)\n",
    "\n",
    "\n",
    "def compute_accuracy(y_true, y_pred):\n",
    "    '''Compute classification accuracy with a fixed threshold on distances.\n",
    "    '''\n",
    "    pred = y_pred.ravel() < 0.5\n",
    "    return np.mean(pred == y_true)\n",
    "\n",
    "\n",
    "def accuracy(y_true, y_pred):\n",
    "    '''Compute classification accuracy with a fixed threshold on distances.\n",
    "    '''\n",
    "    return K.mean(K.equal(y_true, K.cast(y_pred < 0.5, y_true.dtype)))"
   ]
  },
  {
   "cell_type": "code",
   "execution_count": 4,
   "metadata": {
    "scrolled": false
   },
   "outputs": [
    {
     "name": "stdout",
     "output_type": "stream",
     "text": [
      "Input images shape (28, 28)\n",
      "Train on 108400 samples, validate on 17820 samples\n",
      "Epoch 1/20\n",
      "108400/108400 [==============================] - 8s 71us/sample - loss: 0.0956 - accuracy: 0.8873 - val_loss: 0.0434 - val_accuracy: 0.9567\n",
      "Epoch 2/20\n",
      "108400/108400 [==============================] - 6s 60us/sample - loss: 0.0399 - accuracy: 0.9626 - val_loss: 0.0296 - val_accuracy: 0.9688\n",
      "Epoch 3/20\n",
      "108400/108400 [==============================] - 7s 61us/sample - loss: 0.0277 - accuracy: 0.9730 - val_loss: 0.0279 - val_accuracy: 0.9693\n",
      "Epoch 4/20\n",
      "108400/108400 [==============================] - 7s 62us/sample - loss: 0.0222 - accuracy: 0.9780 - val_loss: 0.0273 - val_accuracy: 0.9681\n",
      "Epoch 5/20\n",
      "108400/108400 [==============================] - 7s 60us/sample - loss: 0.0184 - accuracy: 0.9813 - val_loss: 0.0238 - val_accuracy: 0.9725\n",
      "Epoch 6/20\n",
      "108400/108400 [==============================] - 7s 61us/sample - loss: 0.0161 - accuracy: 0.9839 - val_loss: 0.0243 - val_accuracy: 0.9717\n",
      "Epoch 7/20\n",
      "108400/108400 [==============================] - 6s 60us/sample - loss: 0.0145 - accuracy: 0.9849 - val_loss: 0.0229 - val_accuracy: 0.9722\n",
      "Epoch 8/20\n",
      "108400/108400 [==============================] - 7s 61us/sample - loss: 0.0131 - accuracy: 0.9863 - val_loss: 0.0232 - val_accuracy: 0.9735\n",
      "Epoch 9/20\n",
      "108400/108400 [==============================] - 7s 60us/sample - loss: 0.0120 - accuracy: 0.9878 - val_loss: 0.0221 - val_accuracy: 0.9743\n",
      "Epoch 10/20\n",
      "108400/108400 [==============================] - 7s 61us/sample - loss: 0.0110 - accuracy: 0.9888 - val_loss: 0.0221 - val_accuracy: 0.9749\n",
      "Epoch 11/20\n",
      "108400/108400 [==============================] - 7s 60us/sample - loss: 0.0107 - accuracy: 0.9890 - val_loss: 0.0228 - val_accuracy: 0.9732\n",
      "Epoch 12/20\n",
      "108400/108400 [==============================] - 7s 60us/sample - loss: 0.0103 - accuracy: 0.9891 - val_loss: 0.0230 - val_accuracy: 0.9733\n",
      "Epoch 13/20\n",
      "108400/108400 [==============================] - 6s 60us/sample - loss: 0.0097 - accuracy: 0.9899 - val_loss: 0.0220 - val_accuracy: 0.9749\n",
      "Epoch 14/20\n",
      "108400/108400 [==============================] - 7s 60us/sample - loss: 0.0092 - accuracy: 0.9905 - val_loss: 0.0224 - val_accuracy: 0.9750\n",
      "Epoch 15/20\n",
      "108400/108400 [==============================] - 7s 61us/sample - loss: 0.0089 - accuracy: 0.9908 - val_loss: 0.0221 - val_accuracy: 0.9753\n",
      "Epoch 16/20\n",
      "108400/108400 [==============================] - 6s 60us/sample - loss: 0.0090 - accuracy: 0.9908 - val_loss: 0.0215 - val_accuracy: 0.9748\n",
      "Epoch 17/20\n",
      "108400/108400 [==============================] - 6s 59us/sample - loss: 0.0087 - accuracy: 0.9910 - val_loss: 0.0235 - val_accuracy: 0.9736\n",
      "Epoch 18/20\n",
      "108400/108400 [==============================] - 6s 60us/sample - loss: 0.0085 - accuracy: 0.9912 - val_loss: 0.0238 - val_accuracy: 0.9733\n",
      "Epoch 19/20\n",
      "108400/108400 [==============================] - 7s 60us/sample - loss: 0.0082 - accuracy: 0.9916 - val_loss: 0.0218 - val_accuracy: 0.9757\n",
      "Epoch 20/20\n",
      "108400/108400 [==============================] - 7s 60us/sample - loss: 0.0078 - accuracy: 0.9920 - val_loss: 0.0235 - val_accuracy: 0.9738\n",
      "* Accuracy on training set: 99.66\n",
      "* Accuracy on test set: 97.36\n"
     ]
    }
   ],
   "source": [
    "# the data, split between train and test sets\n",
    "(x_train, y_train), (x_test, y_test) = mnist.load_data()\n",
    "x_train = x_train.astype(np.float32)\n",
    "x_test = x_test.astype(np.float32)\n",
    "x_train /= 255\n",
    "x_test /= 255\n",
    "input_shape = x_train.shape[1:]\n",
    "print(f\"Input images shape {input_shape}\")\n",
    "\n",
    "\n",
    "# create training+test positive and negative pairs\n",
    "digit_indices = [np.where(y_train == i)[0] for i in range(NUM_CLASSES)]\n",
    "tr_pairs, tr_y = create_pairs(x_train, digit_indices)\n",
    "tr_y = tf.cast(tr_y, dtype=tf.float32)\n",
    "\n",
    "\n",
    "digit_indices = [np.where(y_test == i)[0] for i in range(NUM_CLASSES)]\n",
    "te_pairs, te_y = create_pairs(x_test, digit_indices)\n",
    "te_y = tf.cast(te_y, dtype=tf.float32)\n",
    "\n",
    "\n",
    "# network definition\n",
    "base_network = create_base_network(input_shape)\n",
    "\n",
    "\n",
    "input_a = Input(shape=input_shape)\n",
    "input_b = Input(shape=input_shape)\n",
    "\n",
    "\n",
    "\n",
    "# because we re-use the same instance `base_network`,\n",
    "# the weights of the network\n",
    "# will be shared across the two branches\n",
    "processed_a = base_network(input_a)\n",
    "processed_b = base_network(input_b)\n",
    "\n",
    "\n",
    "\n",
    "distance = Lambda(euclidean_distance,\n",
    "                  output_shape=eucl_dist_output_shape)([processed_a, processed_b])\n",
    "\n",
    "\n",
    "model = Model([input_a, input_b], distance)\n",
    "\n",
    "\n",
    "# train\n",
    "rms = RMSprop()\n",
    "\n",
    "\n",
    "model.compile(loss=contrastive_loss, optimizer=rms, metrics=[accuracy])\n",
    "\n",
    "\n",
    "model.fit([tr_pairs[:, 0], tr_pairs[:, 1]], tr_y,\n",
    "          batch_size=BATCH_SIZE,\n",
    "          epochs=EPOCHS,\n",
    "          validation_data=([te_pairs[:, 0], te_pairs[:, 1]], te_y))\n",
    "\n",
    "# compute final accuracy on training and test sets\n",
    "y_pred = model.predict([tr_pairs[:, 0], tr_pairs[:, 1]])\n",
    "tr_acc = compute_accuracy(tr_y, y_pred)\n",
    "y_pred = model.predict([te_pairs[:, 0], te_pairs[:, 1]])\n",
    "te_acc = compute_accuracy(te_y, y_pred)\n",
    "\n",
    "print(f'* Accuracy on training set: {(100 * tr_acc):.2f}')\n",
    "print(f'* Accuracy on test set: {(100 * te_acc):.2f}')"
   ]
  },
  {
   "cell_type": "code",
   "execution_count": 5,
   "metadata": {},
   "outputs": [
    {
     "data": {
      "text/plain": [
       "10839"
      ]
     },
     "execution_count": 5,
     "metadata": {},
     "output_type": "execute_result"
    }
   ],
   "source": [
    "num_images_per_class = int(tr_pairs[:, 0].shape[0]/10 - 1)\n",
    "num_images_per_class"
   ]
  },
  {
   "cell_type": "code",
   "execution_count": 6,
   "metadata": {},
   "outputs": [
    {
     "data": {
      "text/plain": [
       "<matplotlib.image.AxesImage at 0x7f7fd43b6198>"
      ]
     },
     "execution_count": 6,
     "metadata": {},
     "output_type": "execute_result"
    }
   ],
   "source": [
    "import matplotlib.pyplot as plt\n",
    "\n",
    "plt.imshow(tr_pairs[num_images_per_class-3, 0])"
   ]
  },
  {
   "cell_type": "code",
   "execution_count": 7,
   "metadata": {
    "scrolled": true
   },
   "outputs": [
    {
     "data": {
      "text/plain": [
       "<matplotlib.image.AxesImage at 0x7f7fd4340940>"
      ]
     },
     "execution_count": 7,
     "metadata": {},
     "output_type": "execute_result"
    },
    {
     "data": {
      "image/png": "[encoded data removed]",
      "text/plain": [
       "<Figure size 432x288 with 1 Axes>"
      ]
     },
     "metadata": {
      "needs_background": "light"
     },
     "output_type": "display_data"
    }
   ],
   "source": [
    "plt.imshow(tr_pairs[num_images_per_class-3, 1])"
   ]
  }
 ],
 "metadata": {
  "kernelspec": {
   "display_name": "Python 3",
   "language": "python",
   "name": "python3"
  },
  "language_info": {
   "codemirror_mode": {
    "name": "ipython",
    "version": 3
   },
   "file_extension": ".py",
   "mimetype": "text/x-python",
   "name": "python",
   "nbconvert_exporter": "python",
   "pygments_lexer": "ipython3",
   "version": "3.6.9"
  }
 },
 "nbformat": 4,
 "nbformat_minor": 2
}
