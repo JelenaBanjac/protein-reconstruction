{
 "cells": [
  {
   "cell_type": "markdown",
   "metadata": {},
   "source": [
    "The ideal metric is the mean average angle estimation error, under best alignment:\n",
    "$$\n",
    "\\min_R \\frac{1}{n} \\sum_{i=1}^n \\left| d_Q(Q_i, R \\hat{Q}_i) \\right|\n",
    "$$\n",
    "\n",
    "* $d_Q$ is the distance between two quaternions\n",
    "* $Q_i$ is the true quaternion (angles, rotation)\n",
    "* $\\hat{Q}_i$ is the estimated quaternion (angles, rotation)\n",
    "* $R$ is a quaternion representing a global rotation which best aligns the two sets of quaternions\n",
    "\n",
    "The estimated quaternions are globally rotated as $R \\hat{Q}_i$, where the multiplication (the [Hamilton product](https://en.wikipedia.org/wiki/Quaternion#Hamilton_product)) of two quaternions is the composition of the two rotations they represent."
   ]
  },
  {
   "cell_type": "markdown",
   "metadata": {},
   "source": [
    "@Jelena: you can implement it with gradient descent, in the same way we\n",
    "do angle recovery. To be sure, that is the third optimization in the\n",
    "pipeline (after angle recovery), whose sole purpose is to evaluate the\n",
    "recovery.\n",
    "\n",
    "Once aligned (i.e., the best R is found), plot both the true and aligned\n",
    "recovered (predicted) quaternions on the same sphere. Add dashed lines\n",
    "that link each true angle with the recovered one. That should make a\n",
    "great visualization.\n",
    "\n",
    "You can compute the metric and plot the visualization on the two\n",
    "recovered angles you showed today."
   ]
  },
  {
   "cell_type": "code",
   "execution_count": null,
   "metadata": {},
   "outputs": [],
   "source": []
  }
 ],
 "metadata": {
  "kernelspec": {
   "display_name": "Python 3",
   "language": "python",
   "name": "python3"
  },
  "language_info": {
   "codemirror_mode": {
    "name": "ipython",
    "version": 3
   },
   "file_extension": ".py",
   "mimetype": "text/x-python",
   "name": "python",
   "nbconvert_exporter": "python",
   "pygments_lexer": "ipython3",
   "version": "3.6.8"
  }
 },
 "nbformat": 4,
 "nbformat_minor": 4
}
