{
 "cells": [
  {
   "cell_type": "markdown",
   "metadata": {},
   "source": [
    "# Generating 2D data"
   ]
  },
  {
   "cell_type": "code",
   "execution_count": null,
   "metadata": {},
   "outputs": [],
   "source": [
    "import scipy.io\n",
    "import os\n",
    "import matplotlib.pyplot as plt\n",
    "import numpy as np\n",
    "import h5py\n",
    "\n",
    "import sys\n",
    "sys.path.append(\"..\") \n",
    "from cryoem.plots import plot_projection, plot_projections\n",
    "from cryoem.noise import gaussian_noise"
   ]
  },
  {
   "cell_type": "code",
   "execution_count": null,
   "metadata": {},
   "outputs": [],
   "source": [
    "# location of *.h5 files\n",
    "data_dir = \"../generated_data\"\n",
    "projections_filename = \"ProjectionsAngles_ProjNber5000_AngCoverage0.5_AngShift1.57.h5\"\n",
    "\n",
    "data_path = os.path.join(data_dir, projections_filename)"
   ]
  },
  {
   "cell_type": "code",
   "execution_count": null,
   "metadata": {},
   "outputs": [],
   "source": [
    "# load structures\n",
    "# data = scipy.io.loadmat(data_path)\n",
    "data = h5py.File(data_path, 'r')"
   ]
  },
  {
   "cell_type": "code",
   "execution_count": null,
   "metadata": {},
   "outputs": [],
   "source": [
    "len(data[\"Projections\"])"
   ]
  },
  {
   "cell_type": "code",
   "execution_count": null,
   "metadata": {},
   "outputs": [],
   "source": [
    "len(data[\"Angles\"])"
   ]
  },
  {
   "cell_type": "code",
   "execution_count": null,
   "metadata": {},
   "outputs": [],
   "source": [
    "data[\"Projections\"].shape"
   ]
  },
  {
   "cell_type": "code",
   "execution_count": null,
   "metadata": {},
   "outputs": [],
   "source": [
    "data[\"Projections\"][0].shape"
   ]
  },
  {
   "cell_type": "markdown",
   "metadata": {},
   "source": [
    "## Projection and Noise"
   ]
  },
  {
   "cell_type": "markdown",
   "metadata": {},
   "source": [
    "When tested, functions for plotting and noise generated are put inside the corresponding files called plots.py and noise.py. This way we can use them from different notebooks, and not repeating ourselves."
   ]
  },
  {
   "cell_type": "markdown",
   "metadata": {},
   "source": [
    "### One projection without noise"
   ]
  },
  {
   "cell_type": "code",
   "execution_count": null,
   "metadata": {},
   "outputs": [],
   "source": [
    "datapoint = 0\n",
    "image = data[\"Projections\"][datapoint]\n",
    "angles = [ float(f\"{x:.2f}\") for x in data[\"Angles\"][datapoint] ]\n",
    "title = f'Projection {datapoint}\\nAngles {angles}'\n",
    "    \n",
    "plot_projection(image, title)"
   ]
  },
  {
   "cell_type": "markdown",
   "metadata": {},
   "source": [
    "### One projection with Gaussian noise"
   ]
  },
  {
   "cell_type": "code",
   "execution_count": null,
   "metadata": {},
   "outputs": [],
   "source": [
    "datapoint = 0\n",
    "image = data[\"Projections\"][datapoint]\n",
    "image = image + gaussian_noise(image.shape, mean=0, var=15)\n",
    "angles = [ float(f\"{x:.2f}\") for x in data[\"Angles\"][datapoint] ]\n",
    "title = f'Projection {datapoint} with noise\\nAngles {angles}'\n",
    "    \n",
    "plot_projection(image, title, mean=0, var=100)"
   ]
  },
  {
   "cell_type": "markdown",
   "metadata": {},
   "source": [
    "### Several projections without noise"
   ]
  },
  {
   "cell_type": "code",
   "execution_count": null,
   "metadata": {},
   "outputs": [],
   "source": [
    "nrows, ncols = 2, 5\n",
    "start_row, start_col = 0, 0\n",
    "\n",
    "images = []\n",
    "titles = []\n",
    "\n",
    "cr = [(i, j) for i in range(nrows) for j in range(ncols)]\n",
    "\n",
    "for i, j in cr:\n",
    "    datapoint = (start_row + i)*(start_col + ncols) + j    \n",
    "\n",
    "    image = data[\"Projections\"][datapoint]\n",
    "    image = image + gaussian_noise(shape=image.shape, mean=0, var=0)\n",
    "\n",
    "    angles = [ float(f\"{x:.2f}\") for x in data[\"Angles\"][datapoint] ]\n",
    "    title = f'Projection {datapoint}\\nAngles {angles}'\n",
    "    \n",
    "    images.append(image)\n",
    "    titles.append(title)\n",
    "        \n",
    "plot_projections(images, titles, nrows=nrows, ncols=ncols)"
   ]
  },
  {
   "cell_type": "markdown",
   "metadata": {},
   "source": [
    "### Several projections with Gaussian noise"
   ]
  },
  {
   "cell_type": "code",
   "execution_count": null,
   "metadata": {},
   "outputs": [],
   "source": [
    "nrows, ncols = 2, 5\n",
    "start_row, start_col = 0, 0\n",
    "\n",
    "images = []\n",
    "titles = []\n",
    "\n",
    "cr = [(i, j) for i in range(nrows) for j in range(ncols)]\n",
    "\n",
    "for i, j in cr:\n",
    "    datapoint = (start_row + i)*(start_col + ncols) + j    \n",
    "\n",
    "    image = data[\"Projections\"][datapoint]\n",
    "    image = image + gaussian_noise(shape=image.shape, mean=0, var=10)\n",
    "\n",
    "    angles = [ float(f\"{x:.2f}\") for x in data[\"Angles\"][datapoint] ]\n",
    "    title = f'Projection {datapoint} with noise\\nAngles {angles}'\n",
    "    \n",
    "    images.append(image)\n",
    "    titles.append(title)\n",
    "        \n",
    "plot_projections(images, titles, nrows=nrows, ncols=ncols)"
   ]
  },
  {
   "cell_type": "markdown",
   "metadata": {},
   "source": [
    "---"
   ]
  },
  {
   "cell_type": "markdown",
   "metadata": {},
   "source": [
    "# Library for 3D ploting from 2D"
   ]
  },
  {
   "cell_type": "markdown",
   "metadata": {},
   "source": [
    "Package [ipyvolume](https://github.com/maartenbreddels/ipyvolume)"
   ]
  },
  {
   "cell_type": "code",
   "execution_count": null,
   "metadata": {},
   "outputs": [],
   "source": [
    "import ipyvolume as ipv\n",
    "import numpy as np"
   ]
  },
  {
   "cell_type": "markdown",
   "metadata": {},
   "source": [
    "## Angles in Euclidean coordinate system (no rotation)"
   ]
  },
  {
   "cell_type": "code",
   "execution_count": null,
   "metadata": {},
   "outputs": [],
   "source": [
    "x = np.array([ ang[0]for ang in data[\"Angles\"]  ]) #x.flatten()\n",
    "y = np.array([ ang[1]for ang in data[\"Angles\"]  ]) #y.flatten()\n",
    "z = np.array([ ang[2]for ang in data[\"Angles\"]  ]) #r.flatten()\n",
    "print(\"and flattened of shape\", x.shape)"
   ]
  },
  {
   "cell_type": "code",
   "execution_count": null,
   "metadata": {},
   "outputs": [],
   "source": [
    "max(x), max(y), max(z), 2*np.pi-np.pi/2"
   ]
  },
  {
   "cell_type": "code",
   "execution_count": null,
   "metadata": {},
   "outputs": [],
   "source": [
    "min(x), min(y), min(z), np.pi/2"
   ]
  },
  {
   "cell_type": "code",
   "execution_count": null,
   "metadata": {},
   "outputs": [],
   "source": [
    "# draw the scatter plot, and add controls with animate_glyphs\n",
    "ipv.figure(width=1000, height=700)\n",
    "s = ipv.scatter(x, z, y, marker=\"sphere\")\n",
    "#ipv.animation_control(s, interval=200)\n",
    "#ipv.ylim(-3,3)\n",
    "ipv.show()"
   ]
  },
  {
   "cell_type": "markdown",
   "metadata": {},
   "source": [
    "## Camera positions"
   ]
  },
  {
   "cell_type": "code",
   "execution_count": null,
   "metadata": {},
   "outputs": [],
   "source": [
    "from cryoem.projections import RotationMatrix\n",
    "\n",
    "vectors = RotationMatrix(data[\"Angles\"])"
   ]
  },
  {
   "cell_type": "code",
   "execution_count": null,
   "metadata": {},
   "outputs": [],
   "source": [
    "# draw the scatter plot, and add controls with animate_glyphs\n",
    "ipv.figure(width=1000, height=700)\n",
    "s = ipv.scatter(vectors[:,0], vectors[:,2], vectors[:,1], marker=\"sphere\")\n",
    "#ipv.animation_control(s, interval=200)\n",
    "#ipv.ylim(-3,3)\n",
    "ipv.show()"
   ]
  },
  {
   "cell_type": "code",
   "execution_count": null,
   "metadata": {},
   "outputs": [],
   "source": []
  }
 ],
 "metadata": {
  "kernelspec": {
   "display_name": "Python 3",
   "language": "python",
   "name": "python3"
  },
  "language_info": {
   "codemirror_mode": {
    "name": "ipython",
    "version": 3
   },
   "file_extension": ".py",
   "mimetype": "text/x-python",
   "name": "python",
   "nbconvert_exporter": "python",
   "pygments_lexer": "ipython3",
   "version": "3.6.8"
  }
 },
 "nbformat": 4,
 "nbformat_minor": 4
}
