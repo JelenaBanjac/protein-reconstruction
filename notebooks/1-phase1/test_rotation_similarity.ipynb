{
 "cells": [
  {
   "cell_type": "code",
   "execution_count": 1,
   "metadata": {},
   "outputs": [],
   "source": [
    "import numpy as np"
   ]
  },
  {
   "cell_type": "markdown",
   "metadata": {},
   "source": [
    "![](https://i.imgur.com/jabkxNt.jpg)"
   ]
  },
  {
   "cell_type": "code",
   "execution_count": 2,
   "metadata": {},
   "outputs": [],
   "source": [
    "R1 = [7.46021406, 2.58905189, 5.9320024,  3.06165002, 2.56025736, 3.82164765]\n",
    "R2 = [1.17798222, 5.7311303,  3.49258011, 6.36339684, 5.70202671, 3.82134471]\n",
    "R3 = [-1.96368164,  3.69437634,  3.492642 ,   3.22182489, -0.58032233,  3.82173555]"
   ]
  },
  {
   "cell_type": "code",
   "execution_count": 3,
   "metadata": {},
   "outputs": [],
   "source": [
    "R4 = [0, 0, 0, 0, 0, 0]\n",
    "R5 = [0, 2*np.pi, np.pi, 0, np.pi, np.pi]\n",
    "R6 = [-np.pi, -np.pi, -np.pi, 0, 0, 0]"
   ]
  },
  {
   "cell_type": "code",
   "execution_count": 4,
   "metadata": {},
   "outputs": [],
   "source": [
    "def rotations_equal(R1, R2):\n",
    "    R1 = list(map(lambda x: x%(2*np.pi), R1))\n",
    "    R2 = list(map(lambda x: x%(2*np.pi), R2))\n",
    "    \n",
    "    r = lambda i: R1[i]+R2[i]-2*(np.round(R1[i]-R2[i], 2)%np.round(np.pi, 2) == 0)*R2[i] \n",
    "    \n",
    "    rd1 = np.round(np.round(r(0)+r(5), 2)%np.round(2*np.pi, 2), 2)\n",
    "    rd2 = np.round(np.round(r(1)+r(4), 2)%np.round(2*np.pi, 2), 2)\n",
    "    rd3 = np.round(np.round(r(2)+r(3), 2)%np.round(2*np.pi, 2), 2)\n",
    "    \n",
    "    r = (rd1+rd2+rd3)%(3*np.round(np.pi,2))\n",
    "\n",
    "    return round(r, 1) == 0"
   ]
  },
  {
   "cell_type": "code",
   "execution_count": 5,
   "metadata": {},
   "outputs": [
    {
     "data": {
      "text/plain": [
       "(True, True, True)"
      ]
     },
     "execution_count": 5,
     "metadata": {},
     "output_type": "execute_result"
    }
   ],
   "source": [
    "rotations_equal(R1, R2), rotations_equal(R2, R3), rotations_equal(R1, R3)"
   ]
  },
  {
   "cell_type": "code",
   "execution_count": 6,
   "metadata": {},
   "outputs": [
    {
     "data": {
      "text/plain": [
       "(True, True, True)"
      ]
     },
     "execution_count": 6,
     "metadata": {},
     "output_type": "execute_result"
    }
   ],
   "source": [
    "rotations_equal(R4, R5), rotations_equal(R4, R6), rotations_equal(R5, R6)"
   ]
  },
  {
   "cell_type": "code",
   "execution_count": 7,
   "metadata": {},
   "outputs": [
    {
     "data": {
      "text/plain": [
       "(False, False, False)"
      ]
     },
     "execution_count": 7,
     "metadata": {},
     "output_type": "execute_result"
    }
   ],
   "source": [
    "rotations_equal(R1, R5), rotations_equal(R1, R6), rotations_equal(R2, R4)"
   ]
  },
  {
   "cell_type": "code",
   "execution_count": 8,
   "metadata": {},
   "outputs": [
    {
     "data": {
      "text/plain": [
       "(False, False, False)"
      ]
     },
     "execution_count": 8,
     "metadata": {},
     "output_type": "execute_result"
    }
   ],
   "source": [
    "rotations_equal(R1, R4), rotations_equal(R2, R4), rotations_equal(R2, R5)"
   ]
  },
  {
   "cell_type": "markdown",
   "metadata": {},
   "source": [
    "---"
   ]
  },
  {
   "cell_type": "markdown",
   "metadata": {},
   "source": [
    "## Test with Alignment methods"
   ]
  },
  {
   "cell_type": "code",
   "execution_count": 1,
   "metadata": {},
   "outputs": [
    {
     "name": "stderr",
     "output_type": "stream",
     "text": [
      "Warning: To use the exr data format, please install the OpenEXR package following the instructions detailed in the README at github.com/tensorflow/graphics.\n",
      "Warning: To use the threejs_vizualization, please install the colabtools package following the instructions detailed in the README at github.com/tensorflow/graphics.\n"
     ]
    }
   ],
   "source": [
    "import sys\n",
    "sys.path.append(\"..\") \n",
    "from oml.alignment import update_quaternion\n",
    "from oml.angles import quaternion2euler, euler2quaternion"
   ]
  },
  {
   "cell_type": "code",
   "execution_count": 10,
   "metadata": {},
   "outputs": [
    {
     "data": {
      "text/plain": [
       "array([[1., 2., 3.]])"
      ]
     },
     "execution_count": 10,
     "metadata": {},
     "output_type": "execute_result"
    }
   ],
   "source": [
    "ang = [1.0, 2.0, 3.0]\n",
    "\n",
    "rotation = [np.array([0, 2*np.pi, np.pi, 0, np.pi, np.pi], dtype=np.float64)]\n",
    "\n",
    "qp = euler2quaternion(np.array([ang], dtype=np.float64))\n",
    "\n",
    "qpa = update_quaternion(m=[1.0,1.0,1.0,1.0], \n",
    "                        a_R=rotation, \n",
    "                        q_predicted=qp)\n",
    "\n",
    "angles_predicted = quaternion2euler(qpa).numpy()\n",
    "\n",
    "angles_predicted"
   ]
  },
  {
   "cell_type": "code",
   "execution_count": 11,
   "metadata": {},
   "outputs": [
    {
     "data": {
      "text/plain": [
       "array([[1., 2., 3.]])"
      ]
     },
     "execution_count": 11,
     "metadata": {},
     "output_type": "execute_result"
    }
   ],
   "source": [
    "ang = [1.0, 2.0, 3.0]\n",
    "\n",
    "rotation = [np.array([np.pi, np.pi, np.pi, np.pi, np.pi, np.pi], dtype=np.float64)]\n",
    "\n",
    "qp = euler2quaternion(np.array([ang], dtype=np.float64))\n",
    "\n",
    "qpa = update_quaternion(m=[1.0,1.0,1.0,1.0], \n",
    "                        a_R=rotation, \n",
    "                        q_predicted=qp)\n",
    "\n",
    "angles_predicted = quaternion2euler(qpa).numpy()\n",
    "\n",
    "angles_predicted"
   ]
  },
  {
   "cell_type": "code",
   "execution_count": 12,
   "metadata": {},
   "outputs": [
    {
     "data": {
      "text/plain": [
       "array([[ 2.29822589,  2.94827061, -2.48492839]])"
      ]
     },
     "execution_count": 12,
     "metadata": {},
     "output_type": "execute_result"
    }
   ],
   "source": [
    "ang = [1.0, 2.0, 3.0]\n",
    "\n",
    "rotation = [np.array(R1, dtype=np.float64)]\n",
    "\n",
    "qp = euler2quaternion(np.array([ang], dtype=np.float64))\n",
    "\n",
    "qpa = update_quaternion(m=[1.0,1.0,1.0,1.0], \n",
    "                        a_R=rotation, \n",
    "                        q_predicted=qp)\n",
    "\n",
    "angles_predicted = quaternion2euler(qpa).numpy()\n",
    "\n",
    "angles_predicted"
   ]
  },
  {
   "cell_type": "code",
   "execution_count": 13,
   "metadata": {},
   "outputs": [
    {
     "data": {
      "text/plain": [
       "array([[ 2.29429832,  2.94822796, -2.49014507]])"
      ]
     },
     "execution_count": 13,
     "metadata": {},
     "output_type": "execute_result"
    }
   ],
   "source": [
    "ang = [1.0, 2.0, 3.0]\n",
    "\n",
    "rotation = [np.array(R2, dtype=np.float64)]\n",
    "\n",
    "qp = euler2quaternion(np.array([ang], dtype=np.float64))\n",
    "\n",
    "qpa = update_quaternion(m=[1.0,1.0,1.0,1.0], \n",
    "                        a_R=rotation, \n",
    "                        q_predicted=qp)\n",
    "\n",
    "angles_predicted = quaternion2euler(qpa).numpy()\n",
    "\n",
    "angles_predicted"
   ]
  },
  {
   "cell_type": "code",
   "execution_count": 14,
   "metadata": {},
   "outputs": [
    {
     "data": {
      "text/plain": [
       "array([[ 2.30144463,  2.94862414, -2.48245127]])"
      ]
     },
     "execution_count": 14,
     "metadata": {},
     "output_type": "execute_result"
    }
   ],
   "source": [
    "ang = [1.0, 2.0, 3.0]\n",
    "\n",
    "rotation = [np.array(R3, dtype=np.float64)]\n",
    "\n",
    "qp = euler2quaternion(np.array([ang], dtype=np.float64))\n",
    "\n",
    "qpa = update_quaternion(m=[1.0,1.0,1.0,1.0], \n",
    "                        a_R=rotation, \n",
    "                        q_predicted=qp)\n",
    "\n",
    "angles_predicted = quaternion2euler(qpa).numpy()\n",
    "\n",
    "angles_predicted"
   ]
  },
  {
   "cell_type": "code",
   "execution_count": null,
   "metadata": {},
   "outputs": [],
   "source": []
  }
 ],
 "metadata": {
  "kernelspec": {
   "display_name": "Python 3",
   "language": "python",
   "name": "python3"
  },
  "language_info": {
   "codemirror_mode": {
    "name": "ipython",
    "version": 3
   },
   "file_extension": ".py",
   "mimetype": "text/x-python",
   "name": "python",
   "nbconvert_exporter": "python",
   "pygments_lexer": "ipython3",
   "version": "3.6.8"
  }
 },
 "nbformat": 4,
 "nbformat_minor": 2
}
