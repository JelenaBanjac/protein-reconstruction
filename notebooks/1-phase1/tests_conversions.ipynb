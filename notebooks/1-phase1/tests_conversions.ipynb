{
 "cells": [
  {
   "cell_type": "markdown",
   "metadata": {},
   "source": [
    "# Test conversions\n",
    "\n",
    "- Quaternion <-> Euler angles\n",
    "- Matrix <-> Euler Angles\n",
    "- Quaternion <-> Matrix"
   ]
  },
  {
   "cell_type": "code",
   "execution_count": 14,
   "metadata": {},
   "outputs": [],
   "source": [
    "from numba import cuda\n",
    "cuda.select_device(0)\n",
    "cuda.close()"
   ]
  },
  {
   "cell_type": "code",
   "execution_count": 2,
   "metadata": {},
   "outputs": [
    {
     "name": "stderr",
     "output_type": "stream",
     "text": [
      "Warning: To use the exr data format, please install the OpenEXR package following the instructions detailed in the README at github.com/tensorflow/graphics.\n",
      "Warning: To use the threejs_vizualization, please install the colabtools package following the instructions detailed in the README at github.com/tensorflow/graphics.\n"
     ]
    }
   ],
   "source": [
    "import sys\n",
    "sys.path.append(\"../..\") \n",
    "from cryoem.conversions import *\n",
    "from scipy.spatial.transform import Rotation as R"
   ]
  },
  {
   "cell_type": "code",
   "execution_count": 3,
   "metadata": {},
   "outputs": [
    {
     "data": {
      "text/plain": [
       "array([0., 0., 0., 1.])"
      ]
     },
     "execution_count": 3,
     "metadata": {},
     "output_type": "execute_result"
    }
   ],
   "source": [
    "# Non-tf code for double-check\n",
    "r = R.from_euler('zyz', [0.0, 0.0, 0.0])\n",
    "r.as_quat()"
   ]
  },
  {
   "cell_type": "code",
   "execution_count": 4,
   "metadata": {},
   "outputs": [],
   "source": [
    "# Euler to Quaternions conversion\n",
    "assert np.all(np.isclose(euler2quaternion([[0.0, 0.0, 0.0]]).numpy(), [0.0, 0.0, 0.0, 1.0], atol=1e-5)), euler2quaternion([[0.0, 0.0, 0.0]]).numpy()\n",
    "assert np.all(np.isclose(euler2quaternion([[np.pi, 0.0, 0.0]]).numpy(), [0.0, 0.0, 1.0, 0.0], atol=1e-5)), euler2quaternion([[np.pi, 0.0, 0.0]]).numpy()\n",
    "assert np.all(np.isclose(euler2quaternion([[0.0, np.pi, 0.0]]).numpy(), [0.0, 1.0, 0.0, 0.0], atol=1e-5)), euler2quaternion([[0.0, np.pi, 0.0]]).numpy()\n",
    "assert np.all(np.isclose(euler2quaternion([[0.0, 0.0, np.pi]]).numpy(), [0.0, 0.0, 1.0, 0.0], atol=1e-5)), euler2quaternion([[0.0, 0.0, np.pi]]).numpy()\n",
    "assert np.all(np.isclose(euler2quaternion([[np.pi, 0.0, np.pi]]).numpy(), [0.0, 0.0, 0.0, 1.0], atol=1e-5)), euler2quaternion([[np.pi, 0.0, np.pi]]).numpy()\n",
    "assert np.all(np.isclose(euler2quaternion([[np.pi, np.pi, np.pi]]).numpy(), [0.0, 1.0, 0.0, 0.0], atol=1e-5)), euler2quaternion([[np.pi, np.pi, np.pi]]).numpy()"
   ]
  },
  {
   "cell_type": "code",
   "execution_count": 5,
   "metadata": {},
   "outputs": [
    {
     "name": "stderr",
     "output_type": "stream",
     "text": [
      "/home/jelena/anaconda3/envs/protein_reconstruction/lib/python3.6/site-packages/scipy/spatial/transform/rotation.py:134: UserWarning: Gimbal lock detected. Setting third angle to zero since it is not possible to uniquely determine all angles.\n",
      "  warnings.warn(\"Gimbal lock detected. Setting third angle to zero since\"\n"
     ]
    },
    {
     "data": {
      "text/plain": [
       "array([0., 0., 0.])"
      ]
     },
     "execution_count": 5,
     "metadata": {},
     "output_type": "execute_result"
    }
   ],
   "source": [
    "r = R.from_quat([0, 0, 0, 1])\n",
    "r.as_euler('zyz', degrees=True)"
   ]
  },
  {
   "cell_type": "code",
   "execution_count": 6,
   "metadata": {},
   "outputs": [],
   "source": [
    "# print(angles_true[0])\n",
    "# e = angles_true[0]\n",
    "# q = euler2quaternion([e])\n",
    "# e_new = quaternion2euler([q])\n",
    "# e_new.numpy()"
   ]
  },
  {
   "cell_type": "code",
   "execution_count": 7,
   "metadata": {},
   "outputs": [],
   "source": [
    "# d_q(q, euler2quaternion(e_new)).numpy()"
   ]
  },
  {
   "cell_type": "code",
   "execution_count": 8,
   "metadata": {},
   "outputs": [],
   "source": [
    "assert np.all(np.isclose(quaternion2euler([[0.0, 0.0, 0.0, 1.0]]).numpy(), [0.0, 0.0, 0.0], atol=1e-5)), quaternion2euler([[0.0, 0.0, 0.0, 1.0]]).numpy()\n",
    "\n",
    "\n",
    "q = [0.0, 0.0, 1.0, 0.0]\n",
    "a1 = [np.pi, 0.0, 0.0]\n",
    "a2 = [0.0, 0.0, np.pi]\n",
    "assert np.all(np.isclose(quaternion2euler([q]).numpy(), a1, atol=1e-5)) or np.all(np.isclose(quaternion2euler([q]).numpy(), a2, atol=1e-5)), quaternion2euler([q]).numpy()"
   ]
  },
  {
   "cell_type": "code",
   "execution_count": 9,
   "metadata": {},
   "outputs": [],
   "source": [
    "assert np.all(np.isclose(quaternion2euler([[0.0, 1.0, 0.0, 0.0]]).numpy(), [0.0, np.pi, 0.0], atol=1e-5)), quaternion2euler([[0.0, 1.0, 0.0, 0.0]]).numpy()\n",
    "# assert np.all(np.isclose(quaternion2euler([[0.0, 0.0, 1.0, 0.0]]).numpy(), [0.0, 0.0, np.pi], atol=1e-5)), quaternion2euler([[0.0, 0.0, 1.0, 0.0]]).numpy()\n",
    "\n",
    "q = [0.0, 0.0, 0.0, -1.0]\n",
    "a1 = [np.pi, 0.0, np.pi]\n",
    "a2 = [0.0, 0.0, 0.0]\n",
    "assert np.all(np.isclose(quaternion2euler([q]).numpy(),a1, atol=1e-5)) or np.all(np.isclose(quaternion2euler([q]).numpy(), a2, atol=1e-5)), quaternion2euler([q]).numpy()\n",
    "\n",
    "q = [0.0, 1.0, 0.0, 0.0]\n",
    "a1 = [np.pi, np.pi, np.pi]\n",
    "a2 = [0.0, np.pi, 0.0]\n",
    "assert np.all(np.isclose(quaternion2euler([q]).numpy(), a1, atol=1e-5)) or np.all(np.isclose(quaternion2euler([q]).numpy(), a2, atol=1e-5)), quaternion2euler([q]).numpy()"
   ]
  },
  {
   "cell_type": "code",
   "execution_count": 10,
   "metadata": {},
   "outputs": [
    {
     "data": {
      "text/plain": [
       "array([[[-0.       ,  3.1415927,  0.       ]]], dtype=float32)"
      ]
     },
     "execution_count": 10,
     "metadata": {},
     "output_type": "execute_result"
    }
   ],
   "source": [
    "e = [0.0, np.pi, 0.0]\n",
    "q = euler2quaternion([e])\n",
    "e_new = quaternion2euler([q])\n",
    "e_new.numpy()"
   ]
  },
  {
   "cell_type": "code",
   "execution_count": 11,
   "metadata": {},
   "outputs": [
    {
     "data": {
      "text/plain": [
       "array([7.88495335e-08])"
      ]
     },
     "execution_count": 11,
     "metadata": {},
     "output_type": "execute_result"
    }
   ],
   "source": [
    "d_q(q, q).numpy()"
   ]
  },
  {
   "cell_type": "code",
   "execution_count": 12,
   "metadata": {},
   "outputs": [],
   "source": [
    "def d_quat(quaternion1, quaternion2):\n",
    "    dot_product = tf.reduce_sum(quaternion1 * quaternion2, axis=-1)\n",
    "    # Ensure dot product is in range [-1. 1].\n",
    "    eps = 8 * np.finfo(dot_product.dtype.as_numpy_dtype).eps\n",
    "    dot_product *= (1.0 - eps)\n",
    "    return 2.0 * tf.acos(tf.abs(dot_product))"
   ]
  },
  {
   "cell_type": "code",
   "execution_count": 13,
   "metadata": {},
   "outputs": [
    {
     "data": {
      "text/plain": [
       "array([0.00276214], dtype=float32)"
      ]
     },
     "execution_count": 13,
     "metadata": {},
     "output_type": "execute_result"
    }
   ],
   "source": [
    "d_quat(q, q).numpy()"
   ]
  },
  {
   "cell_type": "code",
   "execution_count": null,
   "metadata": {},
   "outputs": [],
   "source": []
  }
 ],
 "metadata": {
  "kernelspec": {
   "display_name": "Python 3",
   "language": "python",
   "name": "python3"
  },
  "language_info": {
   "codemirror_mode": {
    "name": "ipython",
    "version": 3
   },
   "file_extension": ".py",
   "mimetype": "text/x-python",
   "name": "python",
   "nbconvert_exporter": "python",
   "pygments_lexer": "ipython3",
   "version": "3.6.9"
  }
 },
 "nbformat": 4,
 "nbformat_minor": 2
}
