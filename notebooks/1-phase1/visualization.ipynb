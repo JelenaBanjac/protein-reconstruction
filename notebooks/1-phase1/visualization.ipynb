{
 "cells": [
  {
   "cell_type": "code",
   "execution_count": 6,
   "metadata": {},
   "outputs": [
    {
     "name": "stderr",
     "output_type": "stream",
     "text": [
      "Warning: To use the exr data format, please install the OpenEXR package following the instructions detailed in the README at github.com/tensorflow/graphics.\n",
      "Warning: To use the threejs_vizualization, please install the colabtools package following the instructions detailed in the README at github.com/tensorflow/graphics.\n"
     ]
    }
   ],
   "source": [
    "import os\n",
    "import h5py\n",
    "import numpy as np\n",
    "\n",
    "import sys\n",
    "sys.path.append(\"../..\") \n",
    "from cryoem.plots import plot_angles_count, plot_euclidean_space, save_space_plot, plot_SO3_space\n",
    "from IPython.display import Image\n",
    "from cryoem.angle_recovery import train_angle_recovery\n",
    "\n",
    "import tensorflow as tf\n",
    "from cryoem.quaternions import d_q, euler2quaternion\n",
    "from cryoem.plots import plot_dP_dQ,plot_dP_dQ_density,plot_only_selected_in_euclidean_space, plot_rays\n",
    "from cryoem.angle_recovery import geodesic_distance, update_angles, distance_difference, find_best_rotation"
   ]
  },
  {
   "cell_type": "code",
   "execution_count": 7,
   "metadata": {},
   "outputs": [],
   "source": [
    "PROTEIN=\"5a1a\"\n",
    "ROOT_DIR = \"../..\"\n",
    "NUM_PROJECTIONS = 5000"
   ]
  },
  {
   "cell_type": "code",
   "execution_count": 8,
   "metadata": {},
   "outputs": [
    {
     "name": "stdout",
     "output_type": "stream",
     "text": [
      "5000 projections of images with dimension (275, 275) pixels\n",
      "5000 sets of 3 ground truth angles of corresponding projection images\n"
     ]
    }
   ],
   "source": [
    "# location of *.h5 files\n",
    "data_dir = f\"{ROOT_DIR}/data\"\n",
    "\n",
    "# half coverage (AngCoverage=0.5)\n",
    "projections_filename = f\"{PROTEIN}_ProjectionsAngles_ProjNber5000_AngCoverage2.0,0.4,2.0_AngShift0.0,0.0,0.0.h5\"\n",
    "\n",
    "# load structures\n",
    "data = h5py.File(os.path.join(data_dir, projections_filename), 'r')\n",
    "\n",
    "print(f\"{data['Projections'].shape[0]} projections of images with dimension {data['Projections'].shape[1:]} pixels\")\n",
    "print(f\"{data['Angles'].shape[0]} sets of {data['Angles'].shape[1]} ground truth angles of corresponding projection images\")"
   ]
  },
  {
   "cell_type": "code",
   "execution_count": 9,
   "metadata": {},
   "outputs": [
    {
     "data": {
      "text/plain": [
       "(5000, 3)"
      ]
     },
     "execution_count": 9,
     "metadata": {},
     "output_type": "execute_result"
    }
   ],
   "source": [
    "angles_true = np.array(data['Angles'])\n",
    "angles_true.shape"
   ]
  },
  {
   "cell_type": "code",
   "execution_count": 10,
   "metadata": {},
   "outputs": [],
   "source": [
    "projections = data['Projections']"
   ]
  },
  {
   "cell_type": "code",
   "execution_count": 11,
   "metadata": {},
   "outputs": [
    {
     "data": {
      "text/plain": [
       "(275, 275)"
      ]
     },
     "execution_count": 11,
     "metadata": {},
     "output_type": "execute_result"
    }
   ],
   "source": [
    "projections[0].shape"
   ]
  },
  {
   "cell_type": "code",
   "execution_count": 12,
   "metadata": {},
   "outputs": [],
   "source": [
    "#ap_mod = np.load(\"predicted_angles_mod.npy\")\n",
    "ap = np.load(\"data/predicted_angles.npy\")"
   ]
  },
  {
   "cell_type": "code",
   "execution_count": 13,
   "metadata": {},
   "outputs": [
    {
     "data": {
      "application/vnd.jupyter.widget-view+json": {
       "model_id": "e28cedb5203c41cc80789d798354bcce",
       "version_major": 2,
       "version_minor": 0
      },
      "text/plain": [
       "VBox(children=(Figure(camera=PerspectiveCamera(fov=46.0, position=(0.0, 0.0, 2.0), quaternion=(0.0, 0.0, 0.0, …"
      ]
     },
     "metadata": {},
     "output_type": "display_data"
    }
   ],
   "source": [
    "plot_only_selected_in_euclidean_space(ap, angles_true, range(100))"
   ]
  },
  {
   "cell_type": "code",
   "execution_count": 16,
   "metadata": {},
   "outputs": [],
   "source": [
    "from cryoem.plots import plot_images"
   ]
  },
  {
   "cell_type": "code",
   "execution_count": 18,
   "metadata": {},
   "outputs": [
    {
     "data": {
      "application/vnd.jupyter.widget-view+json": {
       "model_id": "d11121d5768a48eabcadcec7b63e1342",
       "version_major": 2,
       "version_minor": 0
      },
      "text/plain": [
       "VBox(children=(Figure(camera=PerspectiveCamera(fov=46.0, position=(0.0, 0.0, 2.0), quaternion=(0.0, 0.0, 0.0, …"
      ]
     },
     "metadata": {},
     "output_type": "display_data"
    }
   ],
   "source": [
    "plot_images(angles_true, projections, indices=range(10),img_size_scale=0.1)"
   ]
  },
  {
   "cell_type": "code",
   "execution_count": 13,
   "metadata": {},
   "outputs": [
    {
     "data": {
      "application/vnd.jupyter.widget-view+json": {
       "model_id": "9740227ad69c4f85936d25b0951da3c8",
       "version_major": 2,
       "version_minor": 0
      },
      "text/plain": [
       "Output()"
      ]
     },
     "metadata": {},
     "output_type": "display_data"
    }
   ],
   "source": [
    "display(ipv.screenshot())"
   ]
  },
  {
   "cell_type": "code",
   "execution_count": 13,
   "metadata": {},
   "outputs": [
    {
     "name": "stdout",
     "output_type": "stream",
     "text": [
      "Collecting utm\n",
      "  Downloading https://files.pythonhosted.org/packages/b6/77/180f06153f2c1a8caf8409ff6365abc9423ec4ebc3991dfe4a3228bc09d4/utm-0.5.0.tar.gz\n",
      "Building wheels for collected packages: utm\n",
      "  Building wheel for utm (setup.py) ... \u001b[?25ldone\n",
      "\u001b[?25h  Stored in directory: /home/jelena/.cache/pip/wheels/22/85/c2/314ffed39b8e02ca623e9b7d2ad7fcf3f8544a0e77c096be76\n",
      "Successfully built utm\n",
      "Installing collected packages: utm\n",
      "Successfully installed utm-0.5.0\n",
      "\u001b[33mYou are using pip version 19.0.3, however version 20.0.2 is available.\n",
      "You should consider upgrading via the 'pip install --upgrade pip' command.\u001b[0m\n"
     ]
    }
   ],
   "source": [
    "!pip install utm"
   ]
  },
  {
   "cell_type": "code",
   "execution_count": 16,
   "metadata": {},
   "outputs": [
    {
     "name": "stdout",
     "output_type": "stream",
     "text": [
      "Collecting astropy\n",
      "\u001b[?25l  Downloading https://files.pythonhosted.org/packages/45/8a/1392bcc8e2f666aa7b7652b302b3642ca0cadf56b606e5d74550f8f8250a/astropy-4.0-cp36-cp36m-manylinux1_x86_64.whl (6.5MB)\n",
      "\u001b[K    100% |████████████████████████████████| 6.5MB 5.0MB/s eta 0:00:01\n",
      "\u001b[?25hRequirement already satisfied: numpy>=1.16 in /home/jelena/anaconda3/envs/protein_reconstruction/lib/python3.6/site-packages (from astropy) (1.17.3)\n",
      "Installing collected packages: astropy\n",
      "Successfully installed astropy-4.0\n",
      "\u001b[33mYou are using pip version 19.0.3, however version 20.0.2 is available.\n",
      "You should consider upgrading via the 'pip install --upgrade pip' command.\u001b[0m\n"
     ]
    }
   ],
   "source": [
    "!pip install astropy"
   ]
  },
  {
   "cell_type": "code",
   "execution_count": 82,
   "metadata": {},
   "outputs": [],
   "source": [
    "import utm\n",
    "from astropy.coordinates import cartesian_to_spherical\n",
    "import matplotlib.pyplot as plt\n",
    "import ipyvolume as ipv\n",
    "from cryoem.projections import RotationMatrix"
   ]
  },
  {
   "cell_type": "code",
   "execution_count": 182,
   "metadata": {},
   "outputs": [],
   "source": [
    "def rotate_image(angles, vector):\n",
    "    # create rotation matrix\n",
    "    c1 = np.cos(angles[:,0]).reshape(-1,1,1)\n",
    "    c2 = np.cos(angles[:,1]).reshape(-1,1,1)\n",
    "    c3 = np.cos(angles[:,2]).reshape(-1,1,1)\n",
    "\n",
    "    s1 = np.sin(angles[:,0]).reshape(-1,1,1)\n",
    "    s2 = np.sin(angles[:,1]).reshape(-1,1,1)\n",
    "    s3 = np.sin(angles[:,2]).reshape(-1,1,1)\n",
    "\n",
    "    R = np.concatenate([np.concatenate([c1*c2*c3-s1*s3, c1*s3+c2*c3*s1 , -c3*s2],axis=2),\\\n",
    "                    np.concatenate([-c3*s1-c1*c2*s3,    c1*c3-c2*s1*s3 ,   s2*s3],axis=2),\\\n",
    "                    np.concatenate( [c1*s2,             s1*s2          ,   c2],axis=2)],axis=1)\n",
    "\n",
    "    # rotate previous values\n",
    "    for i, v in enumerate(vector):\n",
    "        vector[i] = np.matmul(R,vector[i])\n",
    "\n",
    "    return vector\n",
    "\n",
    "def getXYZ2(p1, angles, projection, img_size_scale=0.05):\n",
    "    #arr1 = read_png(\"figures/lena.png\")\n",
    "    #print(arr1.shape)\n",
    "#     img_size_scale = 0.05\n",
    "    #print(arr1.shape)\n",
    "    #arr = arr1[:,:,1]\n",
    "    projection = projection/np.max(projection)\n",
    "    img = np.zeros((projection.shape[0], projection.shape[1], 3))\n",
    "    img[:,:,0] = projection\n",
    "    img[:,:,1] = projection\n",
    "    img[:,:,2] = projection\n",
    "\n",
    "    x = np.linspace(-img_size_scale/2, img_size_scale/2, img.shape[0])\n",
    "    y = np.linspace(-img_size_scale/2, img_size_scale/2, img.shape[1])\n",
    "    X, Y = np.meshgrid(x, y)\n",
    "    x_shape = X.shape\n",
    "    y_shape = Y.shape\n",
    "    X = X.flatten() \n",
    "    Y = Y.flatten()\n",
    "    \n",
    "    Z = np.zeros(X.shape)\n",
    "    vector = np.column_stack((X, Y, Z))\n",
    "    rotated_vector = rotate_image(angles, vector)\n",
    "    \n",
    "    \n",
    "    \n",
    "    X = rotated_vector[:,0].reshape(x_shape)+p1[0]\n",
    "    Y = rotated_vector[:,1].reshape(y_shape)+p1[1]\n",
    "    Z = rotated_vector[:,2].reshape(x_shape)+p1[2]\n",
    "    return X, Y, Z, img"
   ]
  },
  {
   "cell_type": "code",
   "execution_count": 260,
   "metadata": {},
   "outputs": [],
   "source": [
    "def rotate_2d(angles, vector):\n",
    "    # create rotation matrix\n",
    "\n",
    "    c1 = np.cos(angles[0]).reshape(-1,1)\n",
    "\n",
    "    s1 = np.sin(angles[0]).reshape(-1,1)\n",
    "\n",
    "    R = np.concatenate([np.concatenate([c1, s1 ],axis=1),\\\n",
    "                    np.concatenate([-s1,    c1 ],axis=1)],axis=0)\n",
    "\n",
    "    # rotate previous values\n",
    "    for i, v in enumerate(vector):\n",
    "        vector[i] = np.matmul(R,vector[i])\n",
    "\n",
    "    return vector\n",
    "\n",
    "def plot_images_equirectangular2(angles, projections,indices):\n",
    "        \n",
    "    def imscatter(x, y, image, ax=None, zoom=0.1):\n",
    "\n",
    "        im = OffsetImage(image, zoom=zoom)\n",
    "        x, y = np.atleast_1d(x, y)\n",
    "        artists = []\n",
    "        for x0, y0 in zip(x, y):\n",
    "            ab = AnnotationBbox(im, (x0, y0), xycoords='data', frameon=False)\n",
    "            artists.append(ax.add_artist(ab))\n",
    "        ax.update_datalim(np.column_stack([x, y]))\n",
    "        ax.autoscale()\n",
    "        return artists\n",
    "\n",
    "    arr = RotationMatrix(angles_true)#[:,:,3]\n",
    "    x = arr[:,0]\n",
    "    y = arr[:,1]\n",
    "    z = arr[:,2]\n",
    "    xx = arr[:,9]\n",
    "    yy = arr[:,10]\n",
    "    zz = arr[:,11]\n",
    "    \n",
    "    _, lat, lon = cartesian_to_spherical(x, y, z)\n",
    "    lat = np.array(lat)\n",
    "    lon = np.array(lon)\n",
    "    _, lat2, lon2 = cartesian_to_spherical(xx, yy, zz)\n",
    "    lat2 = np.array(lat2)\n",
    "    lon2 = np.array(lon2)\n",
    "\n",
    "    x1, y1, _,_ = utm.from_latlon(lat, lon)\n",
    "    x1 = np.array(x1)[:len(indices)]\n",
    "    y1 = np.array(y1)[:len(indices)]\n",
    "    z1 = np.ones(x1.shape)\n",
    "#     x2, y2, _,_ = utm.from_latlon(lat2, lon2)\n",
    "#     x2 = np.array(x2)[:len(indices)]\n",
    "#     y2 = np.array(y2)[:len(indices)]\n",
    "#     z2 = np.ones(x2.shape)\n",
    "    \n",
    "\n",
    "    ipv.figure(width=500, height=500)\n",
    "    #ipv.scatter(x1, y1, z1, marker=\"sphere\", color=\"blue\")\n",
    "    img_size_scale = 30000\n",
    "    for i in indices:\n",
    "        X, Y, Z, img = getXYZ2([x1[i], y1[i], z1[i]], np.array([angles[i]]), projections[i],img_size_scale=img_size_scale)\n",
    "        Z = np.ones(X.shape)\n",
    "        \n",
    "        center = [x1[i], y1[i]]  ####\n",
    "        first = X[0][0], Y[0][0]\n",
    "\n",
    "        dot = center[0]*first[0] + center[1]*first[1]      # dot product between [x1, y1] and [x2, y2]\n",
    "        det = center[0]*first[1] - center[1]*first[0]      # determinant\n",
    "        angle = np.arctan2(det, dot)  # atan2(y, x) or atan2(sin, cos)\n",
    "\n",
    "        # get vector of the image and rotate it\n",
    "        # new coordinates are input to plot_surface\n",
    "        projection = projections[i]/np.max(projections[i])\n",
    "        img = np.zeros((projection.shape[0], projection.shape[1], 3))\n",
    "        img[:,:,0] = projection\n",
    "        img[:,:,1] = projection\n",
    "        img[:,:,2] = projection\n",
    "        x = np.linspace(-img_size_scale/2, img_size_scale/2, img.shape[0])\n",
    "        y = np.linspace(-img_size_scale/2, img_size_scale/2, img.shape[1])\n",
    "        X, Y = np.meshgrid(x, y)\n",
    "        x_shape = X.shape\n",
    "        y_shape = Y.shape\n",
    "        X = X.flatten() \n",
    "        Y = Y.flatten()\n",
    "\n",
    "        vector = np.column_stack((X, Y))\n",
    "        rotated_vector = rotate_2d(np.array([angle]), vector)\n",
    "        \n",
    "        X = rotated_vector[:,0].reshape(x_shape)+center[0]\n",
    "        Y = rotated_vector[:,1].reshape(y_shape)+center[1]\n",
    "    \n",
    "        ipv.plot_surface(X, Y, Z, color=img)\n",
    "\n",
    "    #ipv.zlim(-0.1,0.1)\n",
    "    ipv.show()"
   ]
  },
  {
   "cell_type": "code",
   "execution_count": 262,
   "metadata": {
    "scrolled": false
   },
   "outputs": [
    {
     "data": {
      "application/vnd.jupyter.widget-view+json": {
       "model_id": "52f30537c090427aa0c21cd7ef807e74",
       "version_major": 2,
       "version_minor": 0
      },
      "text/plain": [
       "VBox(children=(Figure(camera=PerspectiveCamera(fov=46.0, position=(0.0, 0.0, 2.0), quaternion=(0.0, 0.0, 0.0, …"
      ]
     },
     "metadata": {},
     "output_type": "display_data"
    }
   ],
   "source": [
    "plot_images_equirectangular2(angles_true, projections, indices=range(100))"
   ]
  },
  {
   "cell_type": "code",
   "execution_count": 205,
   "metadata": {},
   "outputs": [],
   "source": [
    "import numpy as np\n",
    "import matplotlib.pyplot as plt\n",
    "from matplotlib.offsetbox import OffsetImage, AnnotationBbox\n",
    "from matplotlib.cbook import get_sample_data\n",
    "from matplotlib._png import read_png\n",
    "\n",
    "\n",
    "def plot_images_equirectangular(angles_true, projections):\n",
    "        \n",
    "    def imscatter(x, y, image, ax=None, zoom=0.1):\n",
    "\n",
    "        im = OffsetImage(image, zoom=zoom)\n",
    "        x, y = np.atleast_1d(x, y)\n",
    "        artists = []\n",
    "        for x0, y0 in zip(x, y):\n",
    "            ab = AnnotationBbox(im, (x0, y0), xycoords='data', frameon=False)\n",
    "            artists.append(ax.add_artist(ab))\n",
    "        ax.update_datalim(np.column_stack([x, y]))\n",
    "        ax.autoscale()\n",
    "        return artists\n",
    "    \n",
    "    arr = RotationMatrix(angles_true)#[:,:,3]\n",
    "    x = arr[:,0]\n",
    "    y = arr[:,1]\n",
    "    z = arr[:,2]\n",
    "    \n",
    "    _, lat, lon = cartesian_to_spherical(x, y, z)\n",
    "    lat = np.array(lat)\n",
    "    lon = np.array(lon)\n",
    "    \n",
    "    x1, y1, _,_ = utm.from_latlon(lat, lon)\n",
    "\n",
    "    x1 = np.array(x1)\n",
    "    y1 = np.array(y1)\n",
    "    \n",
    "    fig, ax = plt.subplots(figsize=(20,10))\n",
    "    for i1, i2, img in zip(x1[:10], y1[:10], projections[:10]):\n",
    "        imscatter(i1,i2,img,ax=ax)\n",
    "        ax.scatter(i1, i2, marker=\"o\", color=\"blue\")\n",
    "    plt.show()"
   ]
  },
  {
   "cell_type": "code",
   "execution_count": 94,
   "metadata": {},
   "outputs": [
    {
     "data": {
      "image/png": "[encoded data removed]",
      "text/plain": [
       "<Figure size 1440x720 with 1 Axes>"
      ]
     },
     "metadata": {
      "needs_background": "light"
     },
     "output_type": "display_data"
    }
   ],
   "source": [
    "plot_images_equirectangular(angles_true, projections)"
   ]
  },
  {
   "cell_type": "code",
   "execution_count": null,
   "metadata": {},
   "outputs": [],
   "source": []
  }
 ],
 "metadata": {
  "kernelspec": {
   "display_name": "Python 3",
   "language": "python",
   "name": "python3"
  },
  "language_info": {
   "codemirror_mode": {
    "name": "ipython",
    "version": 3
   },
   "file_extension": ".py",
   "mimetype": "text/x-python",
   "name": "python",
   "nbconvert_exporter": "python",
   "pygments_lexer": "ipython3",
   "version": "3.6.9"
  }
 },
 "nbformat": 4,
 "nbformat_minor": 2
}
