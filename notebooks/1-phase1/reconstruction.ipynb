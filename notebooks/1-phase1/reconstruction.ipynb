{
 "cells": [
  {
   "cell_type": "markdown",
   "metadata": {},
   "source": [
    "Source: https://tomroelandts.com/articles/astra-toolbox-tutorial-reconstruction-from-projection-images-part-2"
   ]
  },
  {
   "cell_type": "code",
   "execution_count": null,
   "metadata": {},
   "outputs": [],
   "source": [
    "import numpy as np\n",
    "from os import mkdir\n",
    "from os.path import join, isdir\n",
    "from imageio import imread, imwrite\n",
    " \n",
    "import astra\n",
    " \n",
    "\n",
    "data = np.load('../data/5a1a_projections_and_angles.npz')\n",
    "projections, angles = data[\"arr_0\"], data[\"arr_1\"]\n",
    "\n",
    "\n",
    "\n"
   ]
  },
  {
   "cell_type": "code",
   "execution_count": null,
   "metadata": {},
   "outputs": [],
   "source": [
    "# Configuration.\n",
    "distance_source_origin = 300  # [mm]\n",
    "distance_origin_detector = 100  # [mm]\n",
    "detector_pixel_size = 1.05  # [mm]\n",
    "detector_rows = 200  # Vertical size of detector [pixels].\n",
    "detector_cols = 200  # Horizontal size of detector [pixels].\n",
    "num_of_projections = 180\n",
    "angles = np.linspace(0, 2 * np.pi, num=num_of_projections, endpoint=False)\n",
    "input_dir = 'dataset'\n",
    "output_dir = 'reconstruction'\n",
    " \n",
    "# Load projections.\n",
    "projections = np.zeros((detector_rows, num_of_projections, detector_cols))\n",
    "for i in range(num_of_projections):\n",
    "    im = imread(join(input_dir, 'proj%04d.tif' % i)).astype(float)\n",
    "    im /= 65535\n",
    "    projections[:, i, :] = im\n",
    "    \n",
    "# Copy projection images into ASTRA Toolbox.\n",
    "proj_geom = \\\n",
    "  astra.create_proj_geom('cone', 1, 1, detector_rows, detector_cols, angles,\n",
    "                         (distance_source_origin + distance_origin_detector) /\n",
    "                         detector_pixel_size, 0)\n",
    "projections_id = astra.data3d.create('-sino', proj_geom, projections)\n",
    " \n",
    "# Create reconstruction.\n",
    "vol_geom = astra.creators.create_vol_geom(detector_cols, detector_cols,\n",
    "                                          detector_rows)\n",
    "reconstruction_id = astra.data3d.create('-vol', vol_geom, data=0)\n",
    "alg_cfg = astra.astra_dict('FDK_CUDA')\n",
    "alg_cfg['ProjectionDataId'] = projections_id\n",
    "alg_cfg['ReconstructionDataId'] = reconstruction_id\n",
    "algorithm_id = astra.algorithm.create(alg_cfg)\n",
    "astra.algorithm.run(algorithm_id)\n",
    "reconstruction = astra.data3d.get(reconstruction_id)\n",
    " \n",
    "# Limit and scale reconstruction.\n",
    "reconstruction[reconstruction < 0] = 0\n",
    "reconstruction /= np.max(reconstruction)\n",
    "reconstruction = np.round(reconstruction * 255).astype(np.uint8)\n",
    " \n",
    "# Save reconstruction.\n",
    "if not isdir(output_dir):\n",
    "    mkdir(output_dir)\n",
    "for i in range(detector_rows):\n",
    "    im = reconstruction[i, :, :]\n",
    "    im = np.flipud(im)\n",
    "    imwrite(join(output_dir, 'reco%04d.png' % i), im)\n",
    "\n",
    "# Cleanup.\n",
    "astra.algorithm.delete(algorithm_id)\n",
    "astra.data3d.delete(reconstruction_id)\n",
    "astra.data3d.delete(projections_id)\n"
   ]
  }
 ],
 "metadata": {
  "kernelspec": {
   "display_name": "Python 3",
   "language": "python",
   "name": "python3"
  },
  "language_info": {
   "codemirror_mode": {
    "name": "ipython",
    "version": 3
   },
   "file_extension": ".py",
   "mimetype": "text/x-python",
   "name": "python",
   "nbconvert_exporter": "python",
   "pygments_lexer": "ipython3",
   "version": "3.6.9"
  }
 },
 "nbformat": 4,
 "nbformat_minor": 2
}
