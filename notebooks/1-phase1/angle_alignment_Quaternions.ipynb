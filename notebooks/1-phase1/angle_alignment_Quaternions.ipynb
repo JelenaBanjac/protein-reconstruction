{
 "cells": [
  {
   "cell_type": "code",
   "execution_count": 1,
   "metadata": {},
   "outputs": [],
   "source": [
    "from numba import cuda\n",
    "cuda.select_device(0)\n",
    "cuda.close()"
   ]
  },
  {
   "cell_type": "code",
   "execution_count": 1,
   "metadata": {},
   "outputs": [
    {
     "data": {
      "text/html": [
       "<style>.container { width:95% !important; }</style>"
      ],
      "text/plain": [
       "<IPython.core.display.HTML object>"
      ]
     },
     "metadata": {},
     "output_type": "display_data"
    }
   ],
   "source": [
    "def fix_layout(width:int=95):\n",
    "    from IPython.core.display import display, HTML\n",
    "    display(HTML('<style>.container { width:' + str(width) + '% !important; }</style>'))\n",
    "    \n",
    "fix_layout()"
   ]
  },
  {
   "cell_type": "code",
   "execution_count": 18,
   "metadata": {},
   "outputs": [],
   "source": [
    "import os\n",
    "import h5py\n",
    "import sys\n",
    "sys.path.append(\"../..\") \n",
    "import numpy as np\n",
    "from cryoem.quaternions import euler2quaternion, d_q\n",
    "import tensorflow as tf\n",
    "from tensorflow.keras.optimizers import Adam\n",
    "from tensorflow_graphics.geometry.transformation import quaternion\n",
    "from time import time\n",
    "import numpy as np\n",
    "import matplotlib.pyplot as plt\n",
    "import seaborn as sns; sns.set(style=\"white\", color_codes=True)\n",
    "import random\n",
    "from tensorflow_graphics.math import vector\n",
    "from itertools import product\n",
    "from cryoem.plots import plot_dP_dQ,plot_dP_dQ_density,plot_only_selected_in_euclidean_space, plot_rays, plot_images, plot_selected_angles_with_3rd_angle_magnitude, plot_distances_count\n",
    "from cryoem.angle_alignment import distance_difference\n",
    "import ipyvolume as ipv\n",
    "from IPython import display\n",
    "import time"
   ]
  },
  {
   "cell_type": "code",
   "execution_count": 3,
   "metadata": {},
   "outputs": [
    {
     "name": "stdout",
     "output_type": "stream",
     "text": [
      "5000 projections of images with dimension (275, 275) pixels\n",
      "5000 sets of 3 ground truth angles of corresponding projection images\n"
     ]
    }
   ],
   "source": [
    "PROTEIN=\"5a1a\"\n",
    "ROOT_DIR = \"../..\"\n",
    "NUM_PROJECTIONS = 5000\n",
    "\n",
    "# location of *.h5 files\n",
    "data_dir = f\"{ROOT_DIR}/data\"\n",
    "\n",
    "# half coverage (AngCoverage=0.5)\n",
    "projections_filename = f\"{PROTEIN}_ProjectionsAngles_ProjNber5000_AngCoverage2.0,0.4,2.0_AngShift0.0,0.0,0.0.h5\"\n",
    "\n",
    "# load structures\n",
    "data = h5py.File(os.path.join(data_dir, projections_filename), 'r')\n",
    "\n",
    "print(f\"{data['Projections'].shape[0]} projections of images with dimension {data['Projections'].shape[1:]} pixels\")\n",
    "print(f\"{data['Angles'].shape[0]} sets of {data['Angles'].shape[1]} ground truth angles of corresponding projection images\")\n",
    "      \n",
    "angles_true = np.array(data['Angles'])\n",
    "projections = data['Projections']      "
   ]
  },
  {
   "cell_type": "code",
   "execution_count": 4,
   "metadata": {},
   "outputs": [],
   "source": [
    "ap = np.load(\"data/predicted_angles.npy\")"
   ]
  },
  {
   "cell_type": "code",
   "execution_count": 5,
   "metadata": {},
   "outputs": [
    {
     "name": "stdout",
     "output_type": "stream",
     "text": [
      "Mean `quaternion` distance between true and predicted values: 1.820 rad (104.296 degrees)\n",
      "Mean `rotation matrix` distance between true and predicted values: 1.820 rad (104.296 degrees)\n"
     ]
    }
   ],
   "source": [
    "distance_difference(angles_predicted=ap, angles_true=angles_true);"
   ]
  },
  {
   "cell_type": "code",
   "execution_count": 6,
   "metadata": {},
   "outputs": [],
   "source": [
    "# np.savez(f\"{PROTEIN}_projections_and_angles\", projections, ap)"
   ]
  },
  {
   "cell_type": "markdown",
   "metadata": {},
   "source": [
    "---"
   ]
  },
  {
   "cell_type": "markdown",
   "metadata": {},
   "source": [
    "---"
   ]
  },
  {
   "cell_type": "markdown",
   "metadata": {},
   "source": [
    "\\begin{equation}\n",
    "\\label{eq:phase1}\n",
    "\\operatorname*{min}_{R  \\in SO(4), m \\in \\{-1,1\\}} \\frac{1}{n} \\sum_{i=1} d_q(q_i, R \\begin{bmatrix}\n",
    "m & 0\\\\\n",
    "0 & I\n",
    "\\end{bmatrix} \\hat{q_i})\n",
    "\\end{equation}\n",
    "\n",
    "- $d_q$ is the distance between two quaternions\n",
    "\n",
    "- $q_i \\in S^3$ is the quaternion of a true rotation angles\n",
    "\n",
    "- $\\hat{q_i} \\in S^3$ is the rotation of the estimatied rotation angles\n",
    "\n",
    "- $R \\in SO(4)$ is $4x4$ orthogonal matrix with determinant 1 that represents a global rotation\n",
    "\n",
    "- $m \\in \\{-1,1\\}$ represents a global reflection ($m=1$ no reflection, $m=-1$ reflection)\n",
    "\n",
    "- $\\begin{bmatrix}\n",
    "m & 0\\\\\n",
    "0 & I\n",
    "\\end{bmatrix} = \\begin{bmatrix}\n",
    "m & 0 & 0 & 0\\\\\n",
    "0 & 1 & 0 & 0\\\\\n",
    "0 & 0 & 1 & 0\\\\\n",
    "0 & 0 & 0 & 1\n",
    "\\end{bmatrix}$"
   ]
  },
  {
   "cell_type": "code",
   "execution_count": 7,
   "metadata": {},
   "outputs": [],
   "source": [
    "from tensorflow_graphics.util import safe_ops, asserts, shape\n",
    "from tensorflow_graphics.math import vector\n",
    "from tensorflow_graphics.geometry.transformation import quaternion, euler\n",
    "import math\n",
    "\n",
    "def quaternion2euler(quaternions, transposed=False):\n",
    "    \"\"\"https://github.com/tensorflow/graphics/blob/master/tensorflow_graphics/geometry/transformation/euler.py\"\"\"\n",
    "    def general_case(r02, r12, r20, r21, r22, eps_addition):\n",
    "        \"\"\"Handles the general case.\"\"\"\n",
    "        theta_y = tf.acos(r22)\n",
    "        sign_sin_theta_y = safe_ops.nonzero_sign(tf.sin(theta_y))\n",
    "        \n",
    "        r02 = safe_ops.nonzero_sign(r02) * eps_addition + r02\n",
    "        r22 = safe_ops.nonzero_sign(r22) * eps_addition + r22\n",
    "        theta_z0 = tf.atan2(r12 * sign_sin_theta_y, r02 * sign_sin_theta_y)\n",
    "        theta_z1 = tf.atan2(r21 * sign_sin_theta_y, -r20 * sign_sin_theta_y)\n",
    "        return tf.stack((theta_z0, theta_y, theta_z1), axis=-1)\n",
    "\n",
    "    def gimbal_lock(r22, r11, r10, eps_addition):\n",
    "        \"\"\"Handles Gimbal locks.\"\"\"\n",
    "        sign_r22 = safe_ops.nonzero_sign(r22)\n",
    "        r11 = safe_ops.nonzero_sign(r11) * eps_addition + r11\n",
    "        theta_z0 = tf.atan2(-sign_r22 * r10, -sign_r22 * r11)  # TODO: was -\n",
    "        theta_y = tf.constant(math.pi/2.0, dtype=r20.dtype) - sign_r22 * tf.constant(math.pi/2.0, dtype=r20.dtype)\n",
    "        theta_z1 = tf.zeros_like(theta_z0)\n",
    "        angles = tf.stack((theta_z0, theta_y, theta_z1), axis=-1)\n",
    "        return angles\n",
    "\n",
    "    with tf.compat.v1.name_scope(None, \"euler_from_quaternion\", [quaternions]):\n",
    "        quaternions = tf.convert_to_tensor(value=quaternions)\n",
    "\n",
    "        shape.check_static(\n",
    "            tensor=quaternions,\n",
    "            tensor_name=\"quaternions\",\n",
    "            has_dim_equals=(-1, 4))\n",
    "\n",
    "        x, y, z, w = tf.unstack(quaternions, axis=-1)\n",
    "        tx = safe_ops.safe_shrink(2.0 * x, -2.0, 2.0, True)\n",
    "        ty = safe_ops.safe_shrink(2.0 * y, -2.0, 2.0, True)\n",
    "        tz = safe_ops.safe_shrink(2.0 * z, -2.0, 2.0, True)\n",
    "        twx = tx * w\n",
    "        twy = ty * w\n",
    "        twz = tz * w\n",
    "        txx = tx * x\n",
    "        txy = ty * x\n",
    "        txz = tz * x\n",
    "        tyy = ty * y\n",
    "        tyz = tz * y\n",
    "        tzz = tz * z\n",
    "\n",
    "        # The following is clipped due to numerical instabilities that can take some\n",
    "        # enties outside the [-1;1] range.\n",
    "        \n",
    "        if not transposed:\n",
    "            r00 = safe_ops.safe_shrink(1.0 - (tyy + tzz), -1.0, 1.0, True)\n",
    "            r01 = safe_ops.safe_shrink(txy - twz, -1.0, 1.0, True)\n",
    "            r02 = safe_ops.safe_shrink(txz + twy, -1.0, 1.0, True)\n",
    "\n",
    "            r10 = safe_ops.safe_shrink(txy + twz, -1.0, 1.0, True)\n",
    "            r11 = safe_ops.safe_shrink(1.0 - (txx + tzz), -1.0, 1.0, True)\n",
    "            r12 = safe_ops.safe_shrink(tyz - twx, -1.0, 1.0, True)\n",
    "\n",
    "            r20 = safe_ops.safe_shrink(txz - twy, -1.0, 1.0, True)\n",
    "            r21 = safe_ops.safe_shrink(tyz + twx, -1.0, 1.0, True)\n",
    "            r22 = safe_ops.safe_shrink(1.0 - (txx + tyy), -1.0, 1.0, True)\n",
    "        \n",
    "        else:\n",
    "            r00 = safe_ops.safe_shrink(1.0 - (tyy + tzz), -1.0, 1.0, True)\n",
    "            r01 = safe_ops.safe_shrink(txy + twz, -1.0, 1.0, True)\n",
    "            r02 = safe_ops.safe_shrink(txz - twy, -1.0, 1.0, True)\n",
    "\n",
    "            r10 = safe_ops.safe_shrink(txy - twz, -1.0, 1.0, True)\n",
    "            r11 = safe_ops.safe_shrink(1.0 - (txx + tzz), -1.0, 1.0, True)\n",
    "            r12 = safe_ops.safe_shrink(tyz + twx, -1.0, 1.0, True)\n",
    "\n",
    "            r20 = safe_ops.safe_shrink(txz + twy, -1.0, 1.0, True)\n",
    "            r21 = safe_ops.safe_shrink(tyz - twx, -1.0, 1.0, True)\n",
    "            r22 = safe_ops.safe_shrink(1.0 - (txx + tyy), -1.0, 1.0, True)\n",
    "        \n",
    "        eps_addition = asserts.select_eps_for_addition(quaternions.dtype)\n",
    "        general_solution = general_case(r02, r12, r20, r21, r22, eps_addition)\n",
    "        gimbal_solution = gimbal_lock(r22, r11, r10, eps_addition)\n",
    "        \n",
    "        # The general solution is unstable close to the Gimbal lock, and the gimbal\n",
    "        # solution is not toooff in these cases.\n",
    "        is_gimbal = tf.less(tf.abs(tf.abs(r22) - 1.0), 1.0e-6)\n",
    "        gimbal_mask = tf.stack((is_gimbal, is_gimbal, is_gimbal), axis=-1)\n",
    "        \n",
    "        return tf.compat.v1.where(gimbal_mask, gimbal_solution, general_solution)  \n",
    "    "
   ]
  },
  {
   "cell_type": "code",
   "execution_count": 8,
   "metadata": {},
   "outputs": [],
   "source": [
    "def plot_distances_count(angles_predicted, angles_true):\n",
    "    sns.set(style=\"white\", color_codes=True)\n",
    "    sns.set(style=\"whitegrid\")\n",
    "\n",
    "    if isinstance(angles_predicted, tf.Tensor):\n",
    "        angles_predicted = angles_predicted.numpy()\n",
    "    \n",
    "    q_true = euler2quaternion(angles_true)\n",
    "    q_predicted = euler2quaternion(angles_predicted)\n",
    "    distances = d_q(q_true, q_predicted)\n",
    "    \n",
    "    fig, ax = plt.subplots(figsize=(10,7))\n",
    "    ax.set_xlim(0, np.pi)\n",
    "#     ax.set_ylim(0, len(angles_true))\n",
    "    plt.suptitle(f\"Distances between true and predicted angles\\nCNT={len(angles_true)} MEAN={np.mean(distances):.2f} STD={np.std(distances):.2f}\")\n",
    "    s = sns.distplot(distances, kde=False, bins=100, ax=ax, axlabel=\"Distance [rad]\", color=\"r\")\n",
    "    max_count = int(max([h.get_height() for h in s.patches]))\n",
    "    #ax.errorbar([np.mean(distances)]*max_count, np.arange(0, max_count, 1), xerr=np.std(distances), fmt='-o', alpha=0.5)\n",
    "    ax.plot([np.mean(distances)]*max_count, np.arange(0, max_count,1), c=\"r\", lw=4)\n",
    "    #plt.show()\n",
    "    return plt"
   ]
  },
  {
   "cell_type": "code",
   "execution_count": 9,
   "metadata": {},
   "outputs": [],
   "source": [
    "def euler6tomarix4d(a_R):\n",
    "    a, b, g, l, t, p = tf.unstack(a_R, axis=-1)\n",
    "    \n",
    "    ca = tf.cos(a)\n",
    "    cb = tf.cos(b)\n",
    "    cg = tf.cos(g)\n",
    "    cl = tf.cos(l)\n",
    "    ct = tf.cos(t)\n",
    "    cp = tf.cos(p)\n",
    "    \n",
    "    sa = tf.sin(a)\n",
    "    sb = tf.sin(b)\n",
    "    sg = tf.sin(g)\n",
    "    sl = tf.sin(l)\n",
    "    st = tf.sin(t)\n",
    "    sp = tf.sin(p)\n",
    "\n",
    "   \n",
    "\n",
    "    Ra = tf.concat([ [tf.concat([ tf.complex([1.0], 0.0), tf.complex([0.0], 0.0), tf.complex([0.0], 0.0), tf.complex([0.0], 0.0)], axis=0)],\n",
    "                     [tf.concat([ tf.complex([0.0], 0.0), tf.complex([1.0], 0.0), tf.complex([0.0], 0.0), tf.complex([0.0], 0.0)], axis=0)],\n",
    "                     [tf.concat([ tf.complex([0.0], 0.0), tf.complex([0.0], 0.0), tf.complex(   ca, 0.0), tf.complex(  -sa, 0.0)], axis=0)],\n",
    "                     [tf.concat([ tf.complex([0.0], 0.0), tf.complex([0.0], 0.0), tf.complex(   sa, 0.0), tf.complex(   ca, 0.0)], axis=0)]], axis=0)\n",
    "\n",
    "    Rb = tf.concat([ [tf.concat([ tf.complex([1.0], 0.0), tf.complex([0.0], 0.0), tf.complex([0.0], 0.0), tf.complex([0.0], 0.0)], axis=0)],\n",
    "                     [tf.concat([ tf.complex([0.0], 0.0), tf.complex(   cb, 0.0), tf.complex([0.0], 0.0), tf.complex(   sb, 0.0)], axis=0)],\n",
    "                     [tf.concat([ tf.complex([0.0], 0.0), tf.complex([0.0], 0.0), tf.complex([1.0], 0.0), tf.complex([0.0], 0.0)], axis=0)],\n",
    "                     [tf.concat([ tf.complex([0.0], 0.0), tf.complex(  -sb, 0.0), tf.complex([0.0], 0.0), tf.complex(   cb, 0.0)], axis=0)]], axis=0)\n",
    "    \n",
    "    Rg = tf.concat([ [tf.concat([ tf.complex([1.0], 0.0), tf.complex([0.0], 0.0), tf.complex([0.0], 0.0), tf.complex([0.0], 0.0)], axis=0)],\n",
    "                     [tf.concat([ tf.complex([0.0], 0.0), tf.complex( cg, 0.0), tf.complex(-sg, 0.0), tf.complex([0.0], 0.0)], axis=0)],\n",
    "                     [tf.concat([ tf.complex([0.0], 0.0), tf.complex( sg, 0.0), tf.complex( cg, 0.0), tf.complex([0.0], 0.0)], axis=0)],\n",
    "                     [tf.concat([ tf.complex([0.0], 0.0), tf.complex([0.0], 0.0), tf.complex([0.0], 0.0), tf.complex([1.0], 0.0)], axis=0)]], axis=0)\n",
    "    \n",
    "    Rl = tf.concat([ [tf.concat([ tf.complex( cl, 0.0), tf.complex([0.0], -sl), tf.complex([0.0], 0.0), tf.complex([0.0], 0.0)], axis=0)],\n",
    "                     [tf.concat([ tf.complex([0.0], -sl), tf.complex( cl, 0.0), tf.complex([0.0], 0.0), tf.complex([0.0], 0.0)], axis=0)],\n",
    "                     [tf.concat([ tf.complex([0.0], 0.0), tf.complex([0.0], 0.0), tf.complex([1.0], 0.0), tf.complex([0.0], 0.0)], axis=0)],\n",
    "                     [tf.concat([ tf.complex([0.0], 0.0), tf.complex([0.0], 0.0), tf.complex([0.0], 0.0), tf.complex([1.0], 0.0)], axis=0)]], axis=0)\n",
    "    \n",
    "    Rt = tf.concat([ [tf.concat([ tf.complex( ct, 0.0), tf.complex([0.0], 0.0), tf.complex([0.0], -st), tf.complex([0.0], 0.0)], axis=0)],\n",
    "                     [tf.concat([ tf.complex([0.0], 0.0), tf.complex([1.0], 0.0), tf.complex([0.0], 0.0), tf.complex([0.0], 0.0)], axis=0)],\n",
    "                     [tf.concat([ tf.complex([0.0], -st), tf.complex([0.0], 0.0), tf.complex( ct, 0.0), tf.complex([0.0], 0.0)], axis=0)],\n",
    "                     [tf.concat([ tf.complex([0.0], 0.0), tf.complex([0.0], 0.0), tf.complex([0.0], 0.0), tf.complex([1.0], 0.0)], axis=0)]], axis=0)\n",
    "    \n",
    "    Rp = tf.concat([ [tf.concat([ tf.complex( cp, 0.0), tf.complex([0.0], 0.0), tf.complex([0.0], 0.0), tf.complex([0.0], -sp)], axis=0)],\n",
    "                     [tf.concat([ tf.complex([0.0], 0.0), tf.complex([1.0], 0.0), tf.complex([0.0], 0.0), tf.complex([0.0], 0.0)], axis=0)],\n",
    "                     [tf.concat([ tf.complex([0.0], 0.0), tf.complex([0.0], 0.0), tf.complex([1.0], 0.0), tf.complex([0.0], 0.0)], axis=0)],\n",
    "                     [tf.concat([ tf.complex([0.0], -sp), tf.complex([0.0], 0.0), tf.complex([0.0], 0.0), tf.complex(cp, 0.0)], axis=0)]], axis=0)\n",
    "    \n",
    "    R = Ra @ Rb @ Rg @ Rl @ Rt @ Rp\n",
    "    \n",
    "    # check if matrix is complex (shouldn't be)\n",
    "    assert tf.reduce_sum(tf.math.imag(R)) == 0.0, \"Matrix R (4x4) should have 0s as imaginary parts\"\n",
    "    R = tf.cast(R, dtype=tf.float64)\n",
    "    \n",
    "    # check if matrix is orthogonal\n",
    "    assert tf.reduce_all(tf.less_equal(tf.abs(tf.math.subtract(tf.transpose(R), tf.linalg.inv(R))), 1e-5)), \"Matrix R (4x4) should be orthogonal!\" \n",
    "      \n",
    "    return R\n",
    "\n",
    "\n",
    "def update_angles(m, a_R, a_predicted, transposed=False):\n",
    "    q_predicted = euler2quaternion(a_predicted)\n",
    "    \n",
    "    R = euler6tomarix4d(a_R)\n",
    "    I = tf.eye(4, dtype=tf.float64)*tf.constant([m, 1.0, 1.0, 1.0], dtype=tf.float64)\n",
    "\n",
    "    q_predicted_rotated = tf.transpose(R @ I @ tf.transpose(q_predicted))\n",
    "\n",
    "    return quaternion2euler(q_predicted_rotated, transposed=transposed)\n",
    "\n",
    "def loss_alignment(m, a_R, a_predicted, a_true):\n",
    "    q_true = euler2quaternion(a_true)\n",
    "    q_predicted = euler2quaternion(a_predicted)\n",
    "    \n",
    "    R = euler6tomarix4d(a_R)\n",
    "    I = tf.eye(4, dtype=tf.float64)*tf.constant([m, 1.0, 1.0, 1.0], dtype=tf.float64)\n",
    "\n",
    "    q_predicted_rotated = tf.transpose(R @ I @ tf.transpose(q_predicted))\n",
    "    \n",
    "    loss = tf.reduce_mean(d_q(q_true, q_predicted_rotated))\n",
    "    \n",
    "    return loss\n",
    "\n",
    "\n",
    "def gradient_alignment(m, a_R, a_predicted, a_true):\n",
    "    with tf.GradientTape() as tape:\n",
    "        loss_value = loss_alignment(m, a_R, a_predicted, a_true)\n",
    "        gradient = tape.gradient(loss_value, a_R)\n",
    "        \n",
    "    return loss_value, gradient\n",
    "\n",
    "\n",
    "def training_angle_alignment(m, steps, batch_size, projection_idx, learning_rate, angles_true, angles_predicted):\n",
    "    optimizer = Adam(learning_rate=learning_rate)\n",
    "    \n",
    "    time_start = time.time()\n",
    "\n",
    "    report = \"\"\n",
    "\n",
    "    losses = np.empty(steps)\n",
    "    angles_predicted = tf.convert_to_tensor(angles_predicted)\n",
    "\n",
    "    euler = np.zeros(6, dtype=np.float32)\n",
    "    a_R = [tf.Variable(euler)]\n",
    "\n",
    "    for step in range(1, steps+1):\n",
    "\n",
    "        # Sample some pairs.\n",
    "        idx = list(np.random.choice(projection_idx, size=batch_size))\n",
    "\n",
    "        # Compute distances between projections\n",
    "        a_true      = [angles_true[i]      for i in idx]\n",
    "        a_predicted = [angles_predicted[i] for i in idx]\n",
    "\n",
    "        # Optimize by gradient descent.\n",
    "        losses[step-1], gradients = gradient_alignment(m, a_R, a_predicted, a_true)\n",
    "        optimizer.apply_gradients(zip(gradients, a_R))\n",
    "        \n",
    "        if step>100 and step%100==0 and losses[step-1]-losses[step-1-100] < 0.2:\n",
    "            learning_rate *= 0.1\n",
    "\n",
    "        # Visualize progress periodically\n",
    "        if step % 10 == 0:\n",
    "            plt.close();\n",
    "            sns.set(style=\"white\", color_codes=True)\n",
    "            sns.set(style=\"whitegrid\")\n",
    "\n",
    "            fig, axs = plt.subplots(1, 3, figsize=(24,7))\n",
    "            \n",
    "            # Distance count subplot (batches)\n",
    "            ap1 = update_angles(m, a_R, a_predicted, transposed=False)\n",
    "            d1 = d_q(euler2quaternion(a_true), euler2quaternion(ap1))\n",
    "            axs[0].set_xlim(0, np.pi)\n",
    "            axs[0].set_ylim(0, batch_size)\n",
    "            axs[0].set_title(f\"BATCHES (size={len(a_predicted)}): [{step}/{steps}] Distances between true and predicted angles \\nMEAN={np.mean(d1):.2f} STD={np.std(d1):.2f}\")\n",
    "            s = sns.distplot(d1, kde=False, bins=100, ax=axs[0], axlabel=\"Distance [rad]\", color=\"r\")\n",
    "            max_count = int(max([h.get_height() for h in s.patches]))\n",
    "            axs[0].plot([np.mean(d1)]*max_count, np.arange(0, max_count,1), c=\"r\", lw=4)\n",
    "\n",
    "            # Optimization loss subplot\n",
    "            axs[1].plot(np.linspace(0, time.time()-time_start, step), losses[:step], marker=\"o\", lw=1, markersize=3)\n",
    "            axs[1].set_xlabel('time [s]')\n",
    "            axs[1].set_ylabel('loss');\n",
    "            axs[1].set_title(f\"Angle alignment optimization loss {np.mean(losses[step-10:step]):.2e}\")\n",
    "            \n",
    "            # Distance count subplot (full)\n",
    "            ap2 = update_angles(m, a_R, angles_predicted, transposed=False)\n",
    "            d2 = d_q(euler2quaternion(angles_true), euler2quaternion(ap2))\n",
    "            axs[2].set_xlim(0, np.pi)\n",
    "            axs[2].set_ylim(0, len(angles_true))\n",
    "            axs[2].set_title(f\"FULL: [{step}/{steps}] Distances between true and predicted angles\\nMEAN={np.mean(d2):.2f} STD={np.std(d2):.2f}\")\n",
    "            s = sns.distplot(d2, kde=False, bins=100, ax=axs[2], axlabel=\"Distance [rad]\", color=\"r\")\n",
    "            max_count = int(max([h.get_height() for h in s.patches]))\n",
    "            axs[2].plot([np.mean(d2)]*max_count, np.arange(0, max_count,1), c=\"r\", lw=4)\n",
    "\n",
    "            \n",
    "            display.clear_output(wait=True)\n",
    "            display.display(plt.gcf())\n",
    "            plt.close();\n",
    "            time.sleep(1.0)\n",
    "    \n",
    "\n",
    "        # Periodically report progress.\n",
    "        if ((step % (steps//10)) == 0) or (step == steps):\n",
    "            time_elapsed = time.time() - time_start\n",
    "            report += f'step {step}/{steps} ({time_elapsed:.0f}s): loss = {np.mean(losses[step-steps//10:step-1]):.2e}\\n'\n",
    "\n",
    "    print(report)\n",
    "    return m, a_R, np.mean(losses[-1-steps//10:-1])"
   ]
  },
  {
   "cell_type": "code",
   "execution_count": 10,
   "metadata": {},
   "outputs": [],
   "source": [
    "# TRANSPOSE IT\n",
    "apt = update_angles(1.0, [tf.Variable([0.0,0.0,0.0,0.0,0.0,0.0])], ap, transposed=True)"
   ]
  },
  {
   "cell_type": "code",
   "execution_count": 12,
   "metadata": {},
   "outputs": [
    {
     "data": {
      "image/png": "[encoded data removed]",
      "text/plain": [
       "<Figure size 720x504 with 1 Axes>"
      ]
     },
     "metadata": {},
     "output_type": "display_data"
    }
   ],
   "source": [
    "plot_distances_count(apt, angles_true);"
   ]
  },
  {
   "cell_type": "code",
   "execution_count": 13,
   "metadata": {},
   "outputs": [
    {
     "name": "stdout",
     "output_type": "stream",
     "text": [
      "Mean `quaternion` distance between true and predicted values: 2.326 rad (133.243 degrees)\n",
      "Mean `rotation matrix` distance between true and predicted values: 2.326 rad (133.243 degrees)\n"
     ]
    }
   ],
   "source": [
    "distance_difference(angles_predicted=apt, angles_true=angles_true);"
   ]
  },
  {
   "cell_type": "code",
   "execution_count": null,
   "metadata": {
    "scrolled": false
   },
   "outputs": [
    {
     "data": {
      "image/png": "[encoded data removed]",
      "text/plain": [
       "<Figure size 1728x504 with 3 Axes>"
      ]
     },
     "metadata": {},
     "output_type": "display_data"
    }
   ],
   "source": [
    "m, rotation, loss = training_angle_alignment(m=1.0,\n",
    "                         steps=20000, \n",
    "                         batch_size=256, \n",
    "                         projection_idx=range(NUM_PROJECTIONS), \n",
    "                         learning_rate=0.001, \n",
    "                         angles_true=angles_true, \n",
    "                         angles_predicted=apt)"
   ]
  },
  {
   "cell_type": "code",
   "execution_count": 105,
   "metadata": {},
   "outputs": [
    {
     "data": {
      "text/plain": [
       "(1.0, array([-0.976465  ,  0.01630332, -0.01578806,  0.        ,  0.        ,\n",
       "         0.        ], dtype=float32), 1.8078545692576775)"
      ]
     },
     "execution_count": 105,
     "metadata": {},
     "output_type": "execute_result"
    }
   ],
   "source": [
    "m, rotation[0].numpy(), loss"
   ]
  },
  {
   "cell_type": "code",
   "execution_count": 106,
   "metadata": {},
   "outputs": [
    {
     "data": {
      "text/plain": [
       "<tf.Tensor: id=221939393, shape=(5000, 3), dtype=float64, numpy=\n",
       "array([[-2.78991803,  0.78313616, -1.79962973],\n",
       "       [-1.32124643,  0.5288022 ,  1.66798436],\n",
       "       [-0.65306971,  0.19510861,  0.39650992],\n",
       "       ...,\n",
       "       [-2.51782184,  1.0838306 ,  0.83069799],\n",
       "       [ 0.40321774,  0.67388883,  2.77066257],\n",
       "       [ 0.44449109,  0.81340006, -2.05652124]])>"
      ]
     },
     "execution_count": 106,
     "metadata": {},
     "output_type": "execute_result"
    }
   ],
   "source": [
    "mat = update_angles(m, rotation, apt)\n",
    "mat"
   ]
  },
  {
   "cell_type": "code",
   "execution_count": 33,
   "metadata": {},
   "outputs": [
    {
     "name": "stdout",
     "output_type": "stream",
     "text": [
      "Mean `quaternion` distance between true and predicted values: 0.906 rad (51.894 degrees)\n",
      "Mean `rotation matrix` distance between true and predicted values: 0.906 rad (51.894 degrees)\n"
     ]
    }
   ],
   "source": [
    "distance_difference(angles_predicted=mat, angles_true=angles_true);"
   ]
  },
  {
   "cell_type": "code",
   "execution_count": 28,
   "metadata": {},
   "outputs": [],
   "source": [
    "np.savez(f\"{PROTEIN}_projections_and_angles_quaterniontest_T\", projections, mat)"
   ]
  },
  {
   "cell_type": "code",
   "execution_count": 34,
   "metadata": {},
   "outputs": [
    {
     "data": {
      "application/vnd.jupyter.widget-view+json": {
       "model_id": "588d8aa2642c459db1838f73a3d07fa0",
       "version_major": 2,
       "version_minor": 0
      },
      "text/plain": [
       "VBox(children=(Figure(camera=PerspectiveCamera(fov=46.0, position=(0.0, 0.0, 2.0), quaternion=(0.0, 0.0, 0.0, …"
      ]
     },
     "metadata": {},
     "output_type": "display_data"
    }
   ],
   "source": [
    "plot_images(mat, projections, indices=range(100),img_size_scale=0.05)"
   ]
  },
  {
   "cell_type": "code",
   "execution_count": 18,
   "metadata": {},
   "outputs": [
    {
     "data": {
      "application/vnd.jupyter.widget-view+json": {
       "model_id": "f9f3feeebbba42afbba2cfa34231a504",
       "version_major": 2,
       "version_minor": 0
      },
      "text/plain": [
       "Output()"
      ]
     },
     "metadata": {},
     "output_type": "display_data"
    }
   ],
   "source": [
    "display(ipv.screenshot())"
   ]
  }
 ],
 "metadata": {
  "kernelspec": {
   "display_name": "Python 3",
   "language": "python",
   "name": "python3"
  },
  "language_info": {
   "codemirror_mode": {
    "name": "ipython",
    "version": 3
   },
   "file_extension": ".py",
   "mimetype": "text/x-python",
   "name": "python",
   "nbconvert_exporter": "python",
   "pygments_lexer": "ipython3",
   "version": "3.6.9"
  }
 },
 "nbformat": 4,
 "nbformat_minor": 2
}
