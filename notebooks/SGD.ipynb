{
 "cells": [
  {
   "cell_type": "markdown",
   "metadata": {},
   "source": [
    "# Quaternions SGD"
   ]
  },
  {
   "cell_type": "code",
   "execution_count": null,
   "metadata": {},
   "outputs": [],
   "source": [
    "import numpy as np  \n",
    "\n",
    "import sys\n",
    "sys.path.append(\"..\") \n",
    "from cryoem.quaternions import Q, quaternion2point, d_Q"
   ]
  },
  {
   "cell_type": "markdown",
   "metadata": {},
   "source": [
    " ### Example of SGD"
   ]
  },
  {
   "cell_type": "code",
   "execution_count": null,
   "metadata": {},
   "outputs": [],
   "source": [
    "def stocashtic_gradient_descent(X, y, theta, learning_rate=0.01, iterations=10):\n",
    "    '''\n",
    "    X    = Matrix of X with added bias units\n",
    "    y    = Vector of Y\n",
    "    theta=Vector of thetas np.random.randn(j,1)\n",
    "    learning_rate \n",
    "    iterations = no of iterations\n",
    "    \n",
    "    Returns the final theta vector and array of cost history over no of iterations\n",
    "    https://towardsdatascience.com/gradient-descent-in-python-a0d07285742f\n",
    "    '''\n",
    "    m = len(y)\n",
    "    cost_history = np.zeros(iterations)\n",
    "    \n",
    "    \n",
    "    for it in range(iterations):\n",
    "        cost = 0.0\n",
    "        for i in range(m):\n",
    "            rand_ind = np.random.randint(0,m)\n",
    "            X_i = X[rand_ind,:].reshape(1,X.shape[1])\n",
    "            y_i = y[rand_ind].reshape(1,1)\n",
    "            prediction = np.dot(X_i,theta)\n",
    "\n",
    "            cost = cal_cost(theta,X_i,y_i)\n",
    "            #print(cost)\n",
    "            theta = theta -(1/m)*learning_rate*( X_i.T.dot((prediction - y_i)))\n",
    "            cost += cal_cost(theta,X_i,y_i)\n",
    "        cost_history[it]  = cost\n",
    "        \n",
    "    return theta, cost_history\n",
    "\n",
    "\n",
    "def  cal_cost(theta,X,y):\n",
    "    '''\n",
    "    \n",
    "    Calculates the cost for given X and Y. The following shows and example of a single dimensional X\n",
    "    theta = Vector of thetas \n",
    "    X     = Row of X's np.zeros((2,j))\n",
    "    y     = Actual y's np.zeros((2,1))\n",
    "    \n",
    "    where:\n",
    "        j is the no of features\n",
    "    '''\n",
    "    \n",
    "    m = len(y)\n",
    "    \n",
    "    predictions = X.dot(theta)\n",
    "    cost = (1/2*m) * np.sum(np.square(predictions-y))\n",
    "    return cost"
   ]
  },
  {
   "cell_type": "code",
   "execution_count": null,
   "metadata": {},
   "outputs": [],
   "source": [
    "# create some data\n",
    "X = 2 * np.random.rand(100,1)\n",
    "y = 4 +3 * X+np.random.randn(100,1)"
   ]
  },
  {
   "cell_type": "code",
   "execution_count": null,
   "metadata": {},
   "outputs": [],
   "source": [
    "lr =0.5\n",
    "n_iter = 50\n",
    "\n",
    "theta = np.random.randn(2,1)\n",
    "\n",
    "X_b = np.c_[np.ones((len(X),1)),X]\n",
    "theta,cost_history = stocashtic_gradient_descent(X_b,y,theta,lr,n_iter)\n",
    "\n",
    "\n",
    "print('Theta0:          {:0.3f},\\nTheta1:          {:0.3f}'.format(theta[0][0],theta[1][0]))\n",
    "print('Final cost/MSE:  {:0.3f}'.format(cost_history[-1]))"
   ]
  },
  {
   "cell_type": "markdown",
   "metadata": {},
   "source": [
    "# Brute-Force"
   ]
  },
  {
   "cell_type": "code",
   "execution_count": null,
   "metadata": {},
   "outputs": [],
   "source": [
    "alpha_i, beta_i, gamma_i, alpha_j, beta_j, gamma_j = 0,0,3,0,0,1\n",
    "\n",
    "step = 1\n",
    "min_cost = 10000000000\n",
    "best_solution = []\n",
    "\n",
    "for _alpha_i in np.arange(0, 2*np.pi, step):\n",
    "    for _beta_i in np.arange(0, 2*np.pi, step):\n",
    "        for _gamma_i in np.arange(0, 2*np.pi, step):\n",
    "            for _alpha_j in np.arange(0, 2*np.pi, step):\n",
    "                for _beta_j in np.arange(0, 2*np.pi, step):\n",
    "                    for _gamma_j in np.arange(0, 2*np.pi, step):\n",
    "                        cost = np.power(np.abs(Quaternion.distance(Q([_alpha_i, _beta_i, _gamma_i]), Q([_alpha_j, _beta_j, _gamma_j])) - \\\n",
    "                                               Quaternion.distance(Q([alpha_i, beta_i, gamma_i]), Q([alpha_j, beta_j, gamma_j]))),\n",
    "                                        2)\n",
    "                        if cost < min_cost:\n",
    "                            min_cost = cost\n",
    "                            best_solution = [_alpha_i, _beta_i, _gamma_i, _alpha_j, _beta_j, _gamma_j]\n",
    "        "
   ]
  },
  {
   "cell_type": "code",
   "execution_count": null,
   "metadata": {},
   "outputs": [],
   "source": [
    "min_cost, best_solution"
   ]
  },
  {
   "cell_type": "markdown",
   "metadata": {},
   "source": [
    "### SGD implementation on quaternions"
   ]
  },
  {
   "cell_type": "code",
   "execution_count": null,
   "metadata": {},
   "outputs": [],
   "source": [
    "from pyquaternion import Quaternion\n",
    "import sympy as sp"
   ]
  },
  {
   "cell_type": "code",
   "execution_count": null,
   "metadata": {},
   "outputs": [],
   "source": [
    "sp.__version__"
   ]
  },
  {
   "cell_type": "code",
   "execution_count": null,
   "metadata": {},
   "outputs": [],
   "source": [
    "from sympy import Symbol, Matrix, Function, simplify\n",
    "from sympy.tensor.array import derive_by_array\n",
    "\n",
    "sigma=0.5\n",
    "\n",
    "eta = Symbol('eta')\n",
    "xi = Symbol('xi')\n",
    "\n",
    "x = Matrix([[xi],[eta]])\n",
    "\n",
    "h = [Function('h_'+str(i+1))(x[0],x[1]) for i in range(3)]\n",
    "z = [Symbol('z_'+str(i+1)) for i in range(3)]\n",
    "\n",
    "lamb = 0\n",
    "for i in range(3):\n",
    "    lamb += 1/(2*sigma**2)*(z[i]-h[i])**2\n",
    "simplify(lamb)\n",
    "\n",
    "derive_by_array(lamb, (eta, xi))"
   ]
  },
  {
   "cell_type": "code",
   "execution_count": null,
   "metadata": {},
   "outputs": [],
   "source": [
    "def loss_function_full(angles, angles_true):\n",
    "    print(angles)\n",
    "    # n rows, 3 cols\n",
    "    if len(angles) != len(angles_true):\n",
    "        return\n",
    "    \n",
    "    n = len(angles)\n",
    "    \n",
    "    Qs = np.zeros((n, 1))\n",
    "    for i, a in enumerate(angles):\n",
    "        Qs[i] = Q(a)\n",
    "        \n",
    "    Qs_true = np.zeros((n, 1))\n",
    "    for j, b in enumerate(angles_true):\n",
    "        Qs_true[j] = Q(b)\n",
    "    \n",
    "    print(Qs)\n",
    "    \n",
    "    loss = 0\n",
    "    for q1 in Qs:\n",
    "        for q2 in Qs:\n",
    "            for q1_true in Qs_true:\n",
    "                for q2_true in Qs_true:\n",
    "                    loss += np.sum(np.power(np.abs( d_Q(q1, q2) - d_Q(q1_true, q2_true) ), 2))   \n",
    "    \n",
    "    return loss"
   ]
  },
  {
   "cell_type": "code",
   "execution_count": null,
   "metadata": {},
   "outputs": [],
   "source": [
    "loss_function_full(angles=np.array([np.array([0,0,0]),np.array([0,0,10])]), \n",
    "                   angles_true=np.array([np.array([0,0,5]),np.array([0,0,10])]))"
   ]
  },
  {
   "cell_type": "code",
   "execution_count": null,
   "metadata": {},
   "outputs": [],
   "source": [
    "def loss_function(angles1, angles2, angles1_true, angles2_true):\n",
    "    # n rows, 3 cols\n",
    "    \n",
    "    Q1_true = Q(angles1_true)   # y\n",
    "    Q2_true = Q(angles2_true)\n",
    "    \n",
    "    Q1 = Q(angles1)\n",
    "    Q2 = Q(angles2)\n",
    "    \n",
    "    loss = np.sum(np.power(np.abs( d_Q(Q1, Q2) - d_Q(Q1_true, Q2_true) ), 2))    \n",
    "    \n",
    "    return loss"
   ]
  },
  {
   "cell_type": "code",
   "execution_count": null,
   "metadata": {},
   "outputs": [],
   "source": [
    "loss_function(angles1=[0,0,0], angles2=[0,0,10], \n",
    "              angles1_true=[0,0,5], angles2_true=[0,0,10])"
   ]
  },
  {
   "cell_type": "code",
   "execution_count": null,
   "metadata": {},
   "outputs": [],
   "source": [
    "m = len(y)\n",
    "cost_history = np.zeros(iterations)\n",
    "\n",
    "\n",
    "for it in range(iterations):\n",
    "    cost = 0.0\n",
    "    for i in range(m):\n",
    "        rand_ind = np.random.randint(0,m)\n",
    "        X_i = X[rand_ind,:].reshape(1,X.shape[1])\n",
    "        y_i = y[rand_ind].reshape(1,1)\n",
    "        prediction = np.dot(X_i,theta)\n",
    "\n",
    "        theta = theta -(1/m)*learning_rate*( X_i.T.dot((prediction - y_i)))\n",
    "        cost += cal_cost(theta, X_i, y_i)\n",
    "    cost_history[it]  = cost\n",
    "\n",
    "return theta, cost_history"
   ]
  },
  {
   "cell_type": "code",
   "execution_count": null,
   "metadata": {},
   "outputs": [],
   "source": [
    "def stocashtic_gradient_descent(X, y, theta, learning_rate=0.01, iterations=10):\n",
    "    '''\n",
    "    X    = Matrix of X with added bias units\n",
    "    y    = Vector of Y\n",
    "    theta=Vector of thetas np.random.randn(j,1)\n",
    "    learning_rate \n",
    "    iterations = no of iterations\n",
    "    \n",
    "    Returns the final theta vector and array of cost history over no of iterations\n",
    "    https://towardsdatascience.com/gradient-descent-in-python-a0d07285742f\n",
    "    '''\n",
    "    m = len(y)\n",
    "    cost_history = np.zeros(iterations)\n",
    "    \n",
    "    \n",
    "    for it in range(iterations):\n",
    "        cost = 0.0\n",
    "        for i in range(m):\n",
    "            rand_ind = np.random.randint(0,m)\n",
    "            X_i = X[rand_ind,:].reshape(1,X.shape[1])\n",
    "            y_i = y[rand_ind].reshape(1,1)\n",
    "            prediction = np.dot(X_i,theta)\n",
    "\n",
    "            theta = theta -(1/m)*learning_rate*( X_i.T.dot((prediction - y_i)))\n",
    "            cost += cal_cost(theta,X_i,y_i)\n",
    "        cost_history[it]  = cost\n",
    "        \n",
    "    return theta, cost_history\n",
    "\n"
   ]
  }
 ],
 "metadata": {
  "kernelspec": {
   "display_name": "Python 3",
   "language": "python",
   "name": "python3"
  },
  "language_info": {
   "codemirror_mode": {
    "name": "ipython",
    "version": 3
   },
   "file_extension": ".py",
   "mimetype": "text/x-python",
   "name": "python",
   "nbconvert_exporter": "python",
   "pygments_lexer": "ipython3",
   "version": "3.6.8"
  }
 },
 "nbformat": 4,
 "nbformat_minor": 4
}
