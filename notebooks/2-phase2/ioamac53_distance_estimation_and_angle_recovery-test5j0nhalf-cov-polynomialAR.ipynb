{
 "cells": [
  {
   "cell_type": "markdown",
   "metadata": {
    "colab_type": "text",
    "id": "sIiKZl0SCrFQ"
   },
   "source": [
    "# Distance Estimation and Angle Recovery"
   ]
  },
  {
   "cell_type": "markdown",
   "metadata": {
    "colab_type": "text",
    "id": "EkRUrVFpCrFT"
   },
   "source": [
    "## Content"
   ]
  },
  {
   "cell_type": "markdown",
   "metadata": {
    "colab_type": "text",
    "id": "Zwit5GAFCrFU"
   },
   "source": [
    "1. [Data Preparation](#1.-Data-Preparation)\n",
    "2. [Distance Estimation](#2.-Distance-Estimation)\n",
    "3. [Angle Recovery](#3.-Angle-Recovery)\n",
    "4. [Angle Alignment](#4.-Angle-Alignment)"
   ]
  },
  {
   "cell_type": "markdown",
   "metadata": {
    "colab_type": "text",
    "id": "oxjarPXFCrFV"
   },
   "source": [
    "Data used:\n",
    "- Protein: 5j0n (symmetric protein)\n",
    "- Projections: 5K\n",
    "- Coverage: Half-sphere\n",
    "\n",
    "![](https://github.com/JelenaBanjac/protein-reconstruction/blob/master/notebooks/2-phase2/figures/5j0n.pdb1-500.jpg?raw=1)"
   ]
  },
  {
   "cell_type": "markdown",
   "metadata": {
    "colab_type": "text",
    "id": "96Qac5o7CrFW"
   },
   "source": [
    "Data download:\n",
    "- [data/5j0n/5j0n_siamese_idx.npz](https://mega.nz/file/uoNTFKba#jb-pX004xX41iqWzc-1d3tdS6baxRLvaK5VZmw1riCc)\n",
    "- [training/20200531_224202.h5](https://mega.nz/file/f8VBgQpA#UFZgWbrdq856Jt5VM7vDYx86vgCRxIxtfumtfaeS6xI)\n",
    "- [data/5j0n/5j0n_ProjectionsAngles_ProjNber5000_AngCoverage2.0,0.4,2.0_AngShift0.0,0.0,0.0.h5](https://mega.nz/file/nxkBWBrL#2AtjDfKd8YpX2ca2ywJHEQuBdqW4RYPyrF-SnfNNRxA)"
   ]
  },
  {
   "cell_type": "code",
   "execution_count": 1,
   "metadata": {
    "colab": {
     "base_uri": "https://localhost:8080/",
     "height": 34
    },
    "colab_type": "code",
    "id": "s-Od5elVfPYH",
    "outputId": "ecb0d80f-b37c-4d41-de71-4a4ad26e57cb"
   },
   "outputs": [],
   "source": [
    "# # download data\n",
    "# !mkdir --parents data/5j0n\n",
    "# !mkdir training"
   ]
  },
  {
   "cell_type": "code",
   "execution_count": 2,
   "metadata": {
    "colab": {
     "base_uri": "https://localhost:8080/",
     "height": 170
    },
    "colab_type": "code",
    "id": "mQkmb-B7gFYr",
    "outputId": "dcd2bbea-7977-4126-bb14-00f40d01ef6e"
   },
   "outputs": [],
   "source": [
    "# !curl https://transfer.sh/5gTaE/20200531_224202.h5 -o training/20200531_224202.h5\n",
    "# !curl https://transfer.sh/F7G6o/5j0n_siamese_idx.npz -o data/5j0n/5j0n_siamese_idx.npz\n",
    "# !curl https://transfer.sh/N3J6C/5j0n_ProjectionsAngles_ProjNber5000_AngCoverage2.0,0.4,2.0_AngShift0.0,0.0,0.0.h5 -o data/5j0n/5j0n_ProjectionsAngles_ProjNber5000_AngCoverage2.0,0.4,2.0_AngShift0.0,0.0,0.0.h5"
   ]
  },
  {
   "cell_type": "markdown",
   "metadata": {
    "colab_type": "text",
    "id": "yobfR8IYM9fE"
   },
   "source": [
    "## Setup Environment (Colab)"
   ]
  },
  {
   "cell_type": "markdown",
   "metadata": {
    "colab_type": "text",
    "id": "8DlUgm77N03M"
   },
   "source": [
    "Link to MiniConda Linux installer [here](https://docs.conda.io/en/latest/miniconda.html)."
   ]
  },
  {
   "cell_type": "code",
   "execution_count": 3,
   "metadata": {
    "colab": {
     "base_uri": "https://localhost:8080/",
     "height": 1000
    },
    "colab_type": "code",
    "id": "KtwnKi15NkOT",
    "outputId": "7bce8890-2b99-4748-ce44-5f0614ae573e"
   },
   "outputs": [],
   "source": [
    "# !wget -c https://repo.anaconda.com/miniconda/Miniconda3-latest-Linux-x86_64.sh\n",
    "# !chmod +x Miniconda3-latest-Linux-x86_64.sh\n",
    "# !bash ./Miniconda3-latest-Linux-x86_64.sh -b -f -p /usr/local"
   ]
  },
  {
   "cell_type": "code",
   "execution_count": 4,
   "metadata": {
    "colab": {},
    "colab_type": "code",
    "id": "0RCK2FbxOw5p"
   },
   "outputs": [],
   "source": [
    "# download conda environment\n",
    "#!wget https://github.com/JelenaBanjac/protein-reconstruction/blob/master/environment.yml"
   ]
  },
  {
   "cell_type": "code",
   "execution_count": 5,
   "metadata": {
    "colab": {
     "base_uri": "https://localhost:8080/",
     "height": 1000
    },
    "colab_type": "code",
    "id": "H-WqOg-kO2FP",
    "outputId": "033cf4f7-c007-4a77-dd70-85bb2e70bb35"
   },
   "outputs": [],
   "source": [
    "# #!conda env create -f environment.yml \n",
    "# !conda install -q -y --prefix /usr/local -c conda-forge ipyvolume\n",
    "# !pip3 install tensorflow-graphics-gpu"
   ]
  },
  {
   "cell_type": "code",
   "execution_count": 6,
   "metadata": {
    "colab": {},
    "colab_type": "code",
    "id": "MlSb5OMoOB2q"
   },
   "outputs": [],
   "source": [
    "import sys\n",
    "sys.path.append(\"../..\") "
   ]
  },
  {
   "cell_type": "code",
   "execution_count": 7,
   "metadata": {
    "colab": {
     "base_uri": "https://localhost:8080/",
     "height": 34
    },
    "colab_type": "code",
    "id": "AFrKpDCvYepu",
    "outputId": "29d5e77f-73a9-47d3-b5b7-0e7f641ddfd5"
   },
   "outputs": [
    {
     "name": "stdout",
     "output_type": "stream",
     "text": [
      "Python 3.6.9 :: Anaconda, Inc.\r\n"
     ]
    }
   ],
   "source": [
    "!python --version"
   ]
  },
  {
   "cell_type": "markdown",
   "metadata": {
    "colab_type": "text",
    "id": "Ruys_7nvNCuC"
   },
   "source": [
    "## Start the Pipeline"
   ]
  },
  {
   "cell_type": "code",
   "execution_count": 8,
   "metadata": {
    "colab": {},
    "colab_type": "code",
    "id": "wRCaHZUFCrFX"
   },
   "outputs": [],
   "source": [
    "# from numba import cuda\n",
    "# cuda.select_device(0)\n",
    "# cuda.close()"
   ]
  },
  {
   "cell_type": "code",
   "execution_count": 9,
   "metadata": {
    "colab": {
     "base_uri": "https://localhost:8080/",
     "height": 68
    },
    "colab_type": "code",
    "id": "w9dmeJwpCrFc",
    "outputId": "3a8a7099-cdf3-44c8-ab16-7223c88f48a9"
   },
   "outputs": [
    {
     "name": "stderr",
     "output_type": "stream",
     "text": [
      "Warning: To use the exr data format, please install the OpenEXR package following the instructions detailed in the README at github.com/tensorflow/graphics.\n",
      "Warning: To use the threejs_vizualization, please install the colabtools package following the instructions detailed in the README at github.com/tensorflow/graphics.\n"
     ]
    }
   ],
   "source": [
    "import os\n",
    "import h5py\n",
    "import numpy as np\n",
    "import time\n",
    "import pandas as pd\n",
    "\n",
    "\n",
    "from cryoem.plots import plot_angles_count, plot_images\n",
    "from IPython.display import Image\n",
    "import matplotlib.pyplot as plt\n",
    "\n",
    "import tensorflow as tf\n",
    "from cryoem.conversions import d_q, euler2quaternion\n",
    "import ipyvolume as ipv\n",
    "from collections import Counter\n",
    "import itertools\n",
    "import seaborn as sns; sns.set(style=\"white\", color_codes=True)\n",
    "import io"
   ]
  },
  {
   "cell_type": "code",
   "execution_count": 10,
   "metadata": {
    "colab": {
     "base_uri": "https://localhost:8080/",
     "height": 34
    },
    "colab_type": "code",
    "id": "GclbR1VrCrFh",
    "outputId": "ca87b56c-db96-4267-a50b-aa8da243a35e"
   },
   "outputs": [
    {
     "data": {
      "text/plain": [
       "'2.2.0'"
      ]
     },
     "execution_count": 10,
     "metadata": {},
     "output_type": "execute_result"
    }
   ],
   "source": [
    "tf.__version__"
   ]
  },
  {
   "cell_type": "code",
   "execution_count": 11,
   "metadata": {
    "colab": {
     "base_uri": "https://localhost:8080/",
     "height": 544
    },
    "colab_type": "code",
    "id": "Buj9zdUKCrFl",
    "outputId": "30f471d1-4b85-46c0-a116-e60ff97c7784"
   },
   "outputs": [
    {
     "name": "stdout",
     "output_type": "stream",
     "text": [
      "[name: \"/device:CPU:0\"\n",
      "device_type: \"CPU\"\n",
      "memory_limit: 268435456\n",
      "locality {\n",
      "}\n",
      "incarnation: 16258761937874334228\n",
      ", name: \"/device:XLA_CPU:0\"\n",
      "device_type: \"XLA_CPU\"\n",
      "memory_limit: 17179869184\n",
      "locality {\n",
      "}\n",
      "incarnation: 17022070466344345249\n",
      "physical_device_desc: \"device: XLA_CPU device\"\n",
      ", name: \"/device:XLA_GPU:0\"\n",
      "device_type: \"XLA_GPU\"\n",
      "memory_limit: 17179869184\n",
      "locality {\n",
      "}\n",
      "incarnation: 18137269665653037690\n",
      "physical_device_desc: \"device: XLA_GPU device\"\n",
      "]\n"
     ]
    }
   ],
   "source": [
    "from tensorflow.python.client import device_lib \n",
    "print(device_lib.list_local_devices())"
   ]
  },
  {
   "cell_type": "markdown",
   "metadata": {
    "colab_type": "text",
    "id": "ose0YCmFCrFo"
   },
   "source": [
    "# 1. Data Preparation"
   ]
  },
  {
   "cell_type": "code",
   "execution_count": 12,
   "metadata": {
    "colab": {},
    "colab_type": "code",
    "id": "ZwhGOJeKCrFp"
   },
   "outputs": [],
   "source": [
    "PROTEIN=\"5j0n\"\n",
    "NUM_PROJECTIONS = 5000"
   ]
  },
  {
   "cell_type": "code",
   "execution_count": 13,
   "metadata": {
    "colab": {
     "base_uri": "https://localhost:8080/",
     "height": 68
    },
    "colab_type": "code",
    "id": "xJ3iit2QCrFs",
    "outputId": "1a733b5a-1df4-478c-cb56-bead0e6652fd"
   },
   "outputs": [
    {
     "name": "stdout",
     "output_type": "stream",
     "text": [
      "Opening file: data/5j0n/5j0n_ProjectionsAngles_ProjNber5000_AngCoverage2.0,0.4,2.0_AngShift0.0,0.0,0.0.h5\n",
      "5000 projections of images with dimension (116, 116) pixels\n",
      "5000 sets of 3 ground truth angles of corresponding projection images\n"
     ]
    }
   ],
   "source": [
    "# location of *.h5 files\n",
    "data_dir = \"data/5j0n/\"\n",
    "\n",
    "# half coverage (AngCoverage=0.5)\n",
    "projections_filename = f\"{PROTEIN}_ProjectionsAngles_ProjNber5000_AngCoverage2.0,0.4,2.0_AngShift0.0,0.0,0.0.h5\"\n",
    "\n",
    "# load structures\n",
    "print(f\"Opening file: {os.path.join(data_dir, projections_filename)}\")\n",
    "data = h5py.File(os.path.join(data_dir, projections_filename), 'r')\n",
    "\n",
    "print(f\"{data['Projections'].shape[0]} projections of images with dimension {data['Projections'].shape[1:]} pixels\")\n",
    "print(f\"{data['Angles'].shape[0]} sets of {data['Angles'].shape[1]} ground truth angles of corresponding projection images\")"
   ]
  },
  {
   "cell_type": "code",
   "execution_count": 14,
   "metadata": {
    "colab": {
     "base_uri": "https://localhost:8080/",
     "height": 34
    },
    "colab_type": "code",
    "id": "kwssSIxmCrFv",
    "outputId": "1945cad4-7783-4274-d6dd-46024c63dbad"
   },
   "outputs": [
    {
     "data": {
      "text/plain": [
       "(5000, 116, 116)"
      ]
     },
     "execution_count": 14,
     "metadata": {},
     "output_type": "execute_result"
    }
   ],
   "source": [
    "projections = data['Projections']\n",
    "projections.shape"
   ]
  },
  {
   "cell_type": "code",
   "execution_count": 15,
   "metadata": {
    "colab": {
     "base_uri": "https://localhost:8080/",
     "height": 34
    },
    "colab_type": "code",
    "id": "Rqjbu_sHCrFy",
    "outputId": "6db5e0c7-b1b8-4304-9828-fd5c577f49fa",
    "scrolled": true
   },
   "outputs": [
    {
     "data": {
      "text/plain": [
       "(5000, 3)"
      ]
     },
     "execution_count": 15,
     "metadata": {},
     "output_type": "execute_result"
    }
   ],
   "source": [
    "angles_true = np.array(data['Angles'])\n",
    "angles_true.shape"
   ]
  },
  {
   "cell_type": "code",
   "execution_count": 16,
   "metadata": {
    "colab": {},
    "colab_type": "code",
    "id": "kdV3_nMtCrF1"
   },
   "outputs": [],
   "source": [
    "# plot_angles_count(angles_true)"
   ]
  },
  {
   "cell_type": "code",
   "execution_count": 17,
   "metadata": {},
   "outputs": [],
   "source": [
    "# plot_images(angles_true, projections, range(100), img_size_scale=0.05)"
   ]
  },
  {
   "cell_type": "code",
   "execution_count": 18,
   "metadata": {},
   "outputs": [],
   "source": [
    "# ipv.screenshot()"
   ]
  },
  {
   "cell_type": "markdown",
   "metadata": {
    "colab_type": "text",
    "id": "mUKP1OUcCrF-"
   },
   "source": [
    "#### X - projections, y - angles"
   ]
  },
  {
   "cell_type": "code",
   "execution_count": 19,
   "metadata": {
    "colab": {},
    "colab_type": "code",
    "id": "UEl6xNvcCrGB"
   },
   "outputs": [],
   "source": [
    "X, y = np.array(data['Projections'], dtype=np.float32), np.array(data['Angles'], dtype=np.float32)"
   ]
  },
  {
   "cell_type": "markdown",
   "metadata": {
    "colab_type": "text",
    "id": "KKLr4r7aCrGE"
   },
   "source": [
    "#### Global standardization of projections"
   ]
  },
  {
   "cell_type": "code",
   "execution_count": 20,
   "metadata": {
    "colab": {},
    "colab_type": "code",
    "id": "3tB3MkQiCrGE"
   },
   "outputs": [],
   "source": [
    "from cryoem.distance_estimation import global_standardization"
   ]
  },
  {
   "cell_type": "code",
   "execution_count": 21,
   "metadata": {
    "colab": {
     "base_uri": "https://localhost:8080/",
     "height": 136
    },
    "colab_type": "code",
    "id": "hvWQY7GZCrGH",
    "outputId": "98afc504-b85a-4487-cb11-d1f214c585a9"
   },
   "outputs": [
    {
     "name": "stdout",
     "output_type": "stream",
     "text": [
      "Image shape: (116, 116)\n",
      "Data Type: float32\n",
      "***\n",
      "Mean: 0.262 | Std: 1.046\n",
      "Min:  0.000 | Max: 15.458\n",
      "Mean: 0.000 | Std: 1.000\n",
      "Min:  -0.250 | Max: 14.526\n"
     ]
    }
   ],
   "source": [
    "X = global_standardization(X)"
   ]
  },
  {
   "cell_type": "markdown",
   "metadata": {
    "colab_type": "text",
    "id": "-21q-JGbCrGK"
   },
   "source": [
    "#### Read training/validation/test sets"
   ]
  },
  {
   "cell_type": "code",
   "execution_count": 22,
   "metadata": {
    "colab": {},
    "colab_type": "code",
    "id": "aJpLgFBxCrGL"
   },
   "outputs": [],
   "source": [
    "data = np.load(\"data/5j0n/5j0n_siamese_idx.npz\")\n",
    "train_idx, val_idx, test_idx = data[\"arr_0\"], data[\"arr_1\"], data[\"arr_2\"]"
   ]
  },
  {
   "cell_type": "code",
   "execution_count": 23,
   "metadata": {
    "colab": {
     "base_uri": "https://localhost:8080/",
     "height": 34
    },
    "colab_type": "code",
    "id": "RvbAG3w8CrGO",
    "outputId": "caa10456-0343-4eaf-a1a8-f7cfbf3d7f09"
   },
   "outputs": [
    {
     "data": {
      "text/plain": [
       "((2512,), (838,), (1650,))"
      ]
     },
     "execution_count": 23,
     "metadata": {},
     "output_type": "execute_result"
    }
   ],
   "source": [
    "train_idx.shape, val_idx.shape, test_idx.shape"
   ]
  },
  {
   "cell_type": "code",
   "execution_count": 24,
   "metadata": {
    "colab": {},
    "colab_type": "code",
    "id": "nHzAKS4ICrGR"
   },
   "outputs": [],
   "source": [
    "# print(f\"TRAIN: {1-test_size:.2f} x {1-val_size:.2f} = {(1-test_size)*(1-val_size):.2f} => {str(int((1-test_size)*(1-val_size)*5000)).rjust(5)} imgs => max pairs: {str(int(np.power((1-test_size)*(1-val_size)*5000, 2))).rjust(10)}\")\n",
    "# print(f\"TEST : {str(test_size).rjust(18)} => {str(int(test_size*5000)).rjust(5)} imgs => max pairs: {str(int(np.power(test_size*5000, 2))).rjust(10)}\")\n",
    "# print(f\"VAL  : {1-test_size:.2f} x {val_size:.2f} = {(1-test_size)*val_size:.2f} => {str(int((1-test_size)*val_size*5000)).rjust(5)} imgs => max pairs: {str(int(np.power((1-test_size)*val_size*5000, 2))).rjust(10)}\")"
   ]
  },
  {
   "cell_type": "code",
   "execution_count": 25,
   "metadata": {
    "colab": {},
    "colab_type": "code",
    "id": "FAGVff5kCrGU"
   },
   "outputs": [],
   "source": [
    "# duplicate one channel to make 3 image channels\n",
    "X = np.stack((X,)*3, axis=-1)"
   ]
  },
  {
   "cell_type": "code",
   "execution_count": 26,
   "metadata": {
    "colab": {
     "base_uri": "https://localhost:8080/",
     "height": 34
    },
    "colab_type": "code",
    "id": "f3umTImQCrGW",
    "outputId": "9996930a-882a-43c5-f98c-52a3cb1cb84b"
   },
   "outputs": [
    {
     "data": {
      "text/plain": [
       "(5000, 116, 116, 3)"
      ]
     },
     "execution_count": 26,
     "metadata": {},
     "output_type": "execute_result"
    }
   ],
   "source": [
    "X.shape"
   ]
  },
  {
   "cell_type": "markdown",
   "metadata": {
    "colab_type": "text",
    "id": "bjusuO18CrGZ"
   },
   "source": [
    "# 2. Distance Estimation"
   ]
  },
  {
   "cell_type": "markdown",
   "metadata": {
    "colab_type": "text",
    "id": "CpOTeB_ZCrGZ"
   },
   "source": [
    "#### Read model checkpoint"
   ]
  },
  {
   "cell_type": "code",
   "execution_count": 27,
   "metadata": {
    "colab": {},
    "colab_type": "code",
    "id": "KI0GH3l3CrGa"
   },
   "outputs": [],
   "source": [
    "model_filename = \"training/20200531_224202.h5\""
   ]
  },
  {
   "cell_type": "code",
   "execution_count": 28,
   "metadata": {
    "colab": {
     "base_uri": "https://localhost:8080/",
     "height": 493
    },
    "colab_type": "code",
    "id": "PNqFQoN_CrGc",
    "outputId": "b6a5a795-d153-4937-f26f-b01368b6ca76"
   },
   "outputs": [
    {
     "name": "stdout",
     "output_type": "stream",
     "text": [
      "Model: \"model_8\"\n",
      "__________________________________________________________________________________________________\n",
      "Layer (type)                    Output Shape         Param #     Connected to                     \n",
      "==================================================================================================\n",
      "input_7 (InputLayer)            [(None, 116, 116, 3) 0                                            \n",
      "__________________________________________________________________________________________________\n",
      "input_8 (InputLayer)            [(None, 116, 116, 3) 0                                            \n",
      "__________________________________________________________________________________________________\n",
      "lambda_11 (Lambda)              (None, 116, 116, 3)  0           input_7[0][0]                    \n",
      "__________________________________________________________________________________________________\n",
      "lambda_12 (Lambda)              (None, 116, 116, 3)  0           input_8[0][0]                    \n",
      "__________________________________________________________________________________________________\n",
      "lambda_13 (Lambda)              (None, 116, 116, 3)  0           input_7[0][0]                    \n",
      "__________________________________________________________________________________________________\n",
      "lambda_14 (Lambda)              (None, 116, 116, 3)  0           input_8[0][0]                    \n",
      "__________________________________________________________________________________________________\n",
      "model_7 (Model)                 (None, 1)            3228864     lambda_11[0][0]                  \n",
      "                                                                 lambda_12[0][0]                  \n",
      "                                                                 lambda_13[0][0]                  \n",
      "                                                                 lambda_14[0][0]                  \n",
      "__________________________________________________________________________________________________\n",
      "lambda_10 (Concatenate)         (None, 1)            0           model_7[1][0]                    \n",
      "                                                                 model_7[2][0]                    \n",
      "==================================================================================================\n",
      "Total params: 3,228,864\n",
      "Trainable params: 3,206,976\n",
      "Non-trainable params: 21,888\n",
      "__________________________________________________________________________________________________\n"
     ]
    }
   ],
   "source": [
    "# Recreate the exact same model, including its weights and the optimizer\n",
    "model = tf.keras.models.load_model(model_filename)\n",
    "\n",
    "# Show the model architecture\n",
    "model.summary()"
   ]
  },
  {
   "cell_type": "markdown",
   "metadata": {
    "colab_type": "text",
    "id": "vwa7iPljCrGf"
   },
   "source": [
    "---"
   ]
  },
  {
   "cell_type": "markdown",
   "metadata": {
    "colab_type": "text",
    "id": "3ZkQAaNXCrGg"
   },
   "source": [
    "## dP/dQ plot"
   ]
  },
  {
   "cell_type": "code",
   "execution_count": 29,
   "metadata": {
    "colab": {},
    "colab_type": "code",
    "id": "xQlP29GBCrGg"
   },
   "outputs": [],
   "source": [
    "from cryoem.conversions import d_q, euler2quaternion\n",
    "from cryoem.plots import plot_dP_dQ\n",
    "from time import time"
   ]
  },
  {
   "cell_type": "markdown",
   "metadata": {
    "colab_type": "text",
    "id": "Cw9bMZ6KsoDu"
   },
   "source": [
    "1000:  \n",
    "256 -> 44.24  \n",
    "1014 -> 38.47  \n",
    "2028 -> 35.64  \n",
    "\n",
    "10000:  \n",
    "256 ->  358.119  \n",
    "1024 ->  359.42  \n",
    "2028 ->  all RAM used\n"
   ]
  },
  {
   "cell_type": "code",
   "execution_count": 30,
   "metadata": {
    "colab": {},
    "colab_type": "code",
    "id": "zrWj8u8ECrGk"
   },
   "outputs": [],
   "source": [
    "def d_p(p1, p2):\n",
    "    p1 = tf.cast(p1, dtype=tf.float32)\n",
    "    p2 = tf.cast(p2, dtype=tf.float32)\n",
    "    return model.predict([p1, p2], batch_size=256)"
   ]
  },
  {
   "cell_type": "code",
   "execution_count": 31,
   "metadata": {
    "colab": {
     "base_uri": "https://localhost:8080/",
     "height": 34
    },
    "colab_type": "code",
    "id": "nvQcA2V0CrGm",
    "outputId": "5b9e2305-dc64-4cde-d754-84ae99089181"
   },
   "outputs": [
    {
     "name": "stdout",
     "output_type": "stream",
     "text": [
      "WARNING:tensorflow:AutoGraph could not transform <function Model.make_predict_function.<locals>.predict_function at 0x7f556422ef28> and will run it as-is.\n",
      "Please report this to the TensorFlow team. When filing the bug, set the verbosity to 10 (on Linux, `export AUTOGRAPH_VERBOSITY=10`) and attach the full output.\n",
      "Cause: Bad argument number for Name: 4, expecting 3\n",
      "To silence this warning, decorate the function with @tf.autograph.experimental.do_not_convert\n",
      "WARNING: AutoGraph could not transform <function Model.make_predict_function.<locals>.predict_function at 0x7f556422ef28> and will run it as-is.\n",
      "Please report this to the TensorFlow team. When filing the bug, set the verbosity to 10 (on Linux, `export AUTOGRAPH_VERBOSITY=10`) and attach the full output.\n",
      "Cause: Bad argument number for Name: 4, expecting 3\n",
      "To silence this warning, decorate the function with @tf.autograph.experimental.do_not_convert\n"
     ]
    },
    {
     "data": {
      "text/plain": [
       "36.573423624038696"
      ]
     },
     "execution_count": 31,
     "metadata": {},
     "output_type": "execute_result"
    }
   ],
   "source": [
    "start_time = time()\n",
    "idx1 = list(np.random.choice(test_idx, size=1000))\n",
    "idx2 = list(np.random.choice(test_idx, size=1000))\n",
    "\n",
    "q1_true = euler2quaternion([angles_true[i] for i in idx1])\n",
    "q2_true = euler2quaternion([angles_true[i] for i in idx2])\n",
    "\n",
    "p1 = [X[i] for i in idx1]\n",
    "p2 = [X[i] for i in idx2]\n",
    "\n",
    "dP_values = d_p(p1, p2).T[0]\n",
    "dQ_values = d_q(q1_true, q2_true).numpy()\n",
    "time()-start_time"
   ]
  },
  {
   "cell_type": "code",
   "execution_count": 32,
   "metadata": {
    "colab": {
     "base_uri": "https://localhost:8080/",
     "height": 882
    },
    "colab_type": "code",
    "id": "xrv68zwUCrGp",
    "outputId": "a7de0535-4e28-493d-f034-7927cf96aeb7"
   },
   "outputs": [
    {
     "data": {
      "text/plain": [
       "<Figure size 432x288 with 0 Axes>"
      ]
     },
     "metadata": {},
     "output_type": "display_data"
    },
    {
     "data": {
      "image/png": "[encoded data removed]",
      "text/plain": [
       "<Figure size 432x432 with 1 Axes>"
      ]
     },
     "metadata": {
      "needs_background": "light"
     },
     "output_type": "display_data"
    },
    {
     "data": {
      "text/plain": [
       "<Figure size 432x288 with 0 Axes>"
      ]
     },
     "metadata": {},
     "output_type": "display_data"
    },
    {
     "data": {
      "image/png": "[encoded data removed]",
      "text/plain": [
       "<Figure size 432x432 with 3 Axes>"
      ]
     },
     "metadata": {
      "needs_background": "light"
     },
     "output_type": "display_data"
    },
    {
     "name": "stdout",
     "output_type": "stream",
     "text": [
      "Variance = 0.243099178520834\n",
      "Min. angle recovery loss possible = 0.059038113386906794\n"
     ]
    }
   ],
   "source": [
    "plot_dP_dQ(dP_values, dQ_values)"
   ]
  },
  {
   "cell_type": "code",
   "execution_count": 33,
   "metadata": {
    "colab": {
     "base_uri": "https://localhost:8080/",
     "height": 594
    },
    "colab_type": "code",
    "id": "JnMQGXeFCrGr",
    "outputId": "dc7d2db1-c561-422e-9ba1-43cf6edeae4a"
   },
   "outputs": [
    {
     "data": {
      "image/png": "[encoded data removed]",
      "text/plain": [
       "<Figure size 1080x720 with 1 Axes>"
      ]
     },
     "metadata": {
      "needs_background": "light"
     },
     "output_type": "display_data"
    }
   ],
   "source": [
    "\"\"\"Notebook link: https://github.com/JelenaBanjac/protein-reconstruction/blob/38335b2aa0468a5a8739e5c289e0a1251e7fb1ab/notebooks/bgal_optimization_predicted_angle_and_true_projection_(random_and_polyfit)-CONSTRAINED-TODO.ipynb\"\"\"\n",
    "coeffs4dP = np.polyfit(dQ_values, dP_values, deg=14)\n",
    "convert2dP = np.poly1d(coeffs4dP)\n",
    "\n",
    "plt.figure(figsize=(15,10))\n",
    "plt.plot(dQ_values, dP_values, marker=\"*\", markersize=5, lw=0)\n",
    "plt.plot(dQ_values, convert2dP(dQ_values), marker=\"*\", markersize=2, lw=0, c=\"r\");"
   ]
  },
  {
   "cell_type": "code",
   "execution_count": 34,
   "metadata": {
    "colab": {},
    "colab_type": "code",
    "id": "RUXRrIZ60XqV"
   },
   "outputs": [],
   "source": [
    "coeffs4dP = list(coeffs4dP)"
   ]
  },
  {
   "cell_type": "markdown",
   "metadata": {
    "colab_type": "text",
    "id": "UA08yKECCrGu"
   },
   "source": [
    "# 3. Angle Recovery"
   ]
  },
  {
   "cell_type": "markdown",
   "metadata": {
    "colab_type": "text",
    "id": "rAIUe--SCrGu"
   },
   "source": [
    "Perfect distances. Learning rate 0.01"
   ]
  },
  {
   "cell_type": "code",
   "execution_count": 35,
   "metadata": {
    "colab": {},
    "colab_type": "code",
    "id": "2UeOutFDCrGv"
   },
   "outputs": [],
   "source": [
    "# QUATERNION VARIABLE\n",
    "import time\n",
    "import numpy as np\n",
    "from IPython import display as IPyDisplay\n",
    "from tensorflow.keras.optimizers import Adam\n",
    "import seaborn as sns; sns.set(style=\"white\", color_codes=True)\n",
    "from tensorflow_graphics.geometry.transformation import quaternion\n",
    "from cryoem.conversions import euler2quaternion, d_q, quaternion2euler\n",
    "import tensorflow as tf\n",
    "import matplotlib.pyplot as plt\n",
    "from scipy.spatial.transform import Rotation as R\n",
    "\n",
    "\n",
    "def angles_transpose(angles):\n",
    "    angles = angles.copy()\n",
    "    cols = [2, 1, 0]\n",
    "    idx = np.empty_like(cols)\n",
    "    idx[cols] = np.arange(len(cols))\n",
    "    angles[:] = -angles[:, idx]\n",
    "    return angles\n",
    "\n",
    "\n",
    "def train_angle_recovery(steps, \n",
    "                         batch_size, \n",
    "                         in_data, \n",
    "                         distance_fn, \n",
    "                         file_name,\n",
    "                         dt_type, \n",
    "                         space,\n",
    "                         q_predicted=None,\n",
    "                         angles_true=None,\n",
    "                         learning_rate=0.01, \n",
    "                         optimization=False): \n",
    "    \"\"\"\n",
    "    space: dQspace, dPspace\n",
    "        In which space the subtraction will be performed\n",
    "    dt_type: dP, dQ\n",
    "        In what ispace is distance_target? \n",
    "    \"\"\"\n",
    "    \n",
    "    time_start = time.time()\n",
    "    collect_data = []\n",
    "    optimizer = Adam(learning_rate=learning_rate)\n",
    "    \n",
    "    low_ang = [0.0*np.pi, 0.0*np.pi, 0.0*np.pi]\n",
    "    high_ang = [2.0*np.pi, 0.4*np.pi, 2.0*np.pi]            \n",
    "    euler = np.random.uniform(low=[low_ang[0], low_ang[1], low_ang[2]], \n",
    "                          high=[high_ang[0], high_ang[1], high_ang[2]],\n",
    "                          size=(len(in_data), 3))\n",
    "    if q_predicted:\n",
    "        # continue where left off\n",
    "        q_predicted = [tf.Variable(q) for q in q_predicted]\n",
    "    else:\n",
    "        # optimize from scratch\n",
    "        q_predicted = [tf.Variable(q) for q in euler2quaternion(euler)]\n",
    "\n",
    "    if in_data.shape[1] == 3:\n",
    "        in_data = euler2quaternion(in_data)\n",
    "    \n",
    "    losses = np.empty(steps)\n",
    "    report = f\"Shape of projections: {in_data.shape}\"\n",
    "    found_minimizer = False\n",
    "    \n",
    "    print(time.time()-time_start)\n",
    "    \n",
    "    for step, idx1, idx2 in sample_iter(steps, range(len(in_data)), batch_size, style=\"random\"):\n",
    "        #q_predicted = quaternion.normalize(q_predicted)\n",
    "        q1 = [q_predicted[i] for i in idx1]\n",
    "        q2 = [q_predicted[i] for i in idx2]\n",
    "\n",
    "        # Compute distances\n",
    "        in1 = [in_data[i] for i in idx1]\n",
    "        in2 = [in_data[i] for i in idx2]\n",
    "        \n",
    "        distance_target = distance_fn(in1, in2)\n",
    "\n",
    "        # Optimize by gradient descent.\n",
    "        if optimization:\n",
    "            losses[step-1], gradients = gradient(q1, q2, distance_target, dt_type, space)\n",
    "            optimizer.apply_gradients(zip(gradients, q1 + q2))\n",
    "            \n",
    "            # Visualize progress periodically\n",
    "            if step % 10 == 0:\n",
    "                a = np.zeros((len(q_predicted), 4))\n",
    "                for i, e in enumerate(q_predicted):\n",
    "                    a[i] = e.numpy()\n",
    "                collect_data.append(a)\n",
    "                \n",
    "                plt.close();\n",
    "                sns.set(style=\"white\", color_codes=True)\n",
    "                sns.set(style=\"whitegrid\")\n",
    "                \n",
    "                if angles_true is not None:\n",
    "                    fig, axs = plt.subplots(1, 3, figsize=(24,7))\n",
    "\n",
    "                    # Optimization loss subplot\n",
    "                    axs[0].plot(np.linspace(0, time.time()-time_start, step), losses[:step], marker=\"o\", lw=1, markersize=3)\n",
    "                    axs[0].set_xlabel('time [s]')\n",
    "                    axs[0].set_ylabel('loss');\n",
    "                    axs[0].set_title(f\"[{step}/{steps}] Angle recovery optimization \\nLOSS={np.mean(losses[step-10:step]):.2e} LR={learning_rate:.2e}\")\n",
    "\n",
    "                    # NT - Distance count subplot (full)\n",
    "                    d2 = d_q(R.from_euler('zyz', angles_true).as_quat(), q_predicted)\n",
    "                    axs[1].set_xlim(0, np.pi)\n",
    "                    axs[1].set_title(f\"[{step}/{steps}] Distances between true and predicted angles\\nMEAN={np.mean(d2):.2e} rad ({np.degrees(np.mean(d2)):.2e}) STD={np.std(d2):.2e}\")\n",
    "                    s = sns.distplot(d2, kde=False, bins=100, ax=axs[1], axlabel=\"Distance [rad]\", color=\"r\")\n",
    "                    max_count = int(max([h.get_height() for h in s.patches]))\n",
    "                    axs[1].plot([np.mean(d2)]*max_count, np.arange(0, max_count,1), c=\"r\", lw=4)\n",
    "\n",
    "                    # T - Distance count subplot (full)\n",
    "                    angles_true_T = angles_transpose(angles_true)\n",
    "                    d2 = d_q(R.from_euler('zyz', angles_true_T).as_quat(), q_predicted)\n",
    "                    axs[2].set_xlim(0, np.pi)\n",
    "                    axs[2].set_title(f\"[{step}/{steps}] TRANSPOSED Distances between true and predicted angles\\nMEAN={np.mean(d2):.2e} rad ({np.degrees(np.mean(d2)):.2e}) STD={np.std(d2):.2e}\")\n",
    "                    s = sns.distplot(d2, kde=False, bins=100, ax=axs[2], axlabel=\"Distance [rad]\", color=\"r\")\n",
    "                    max_count = int(max([h.get_height() for h in s.patches]))\n",
    "                    axs[2].plot([np.mean(d2)]*max_count, np.arange(0, max_count,1), c=\"r\", lw=4)\n",
    "                else:\n",
    "                    fig, axs = plt.subplots(figsize=(10,7))\n",
    "\n",
    "                    # Optimization loss subplot\n",
    "                    axs.plot(np.linspace(0, time.time()-time_start, step), losses[:step], marker=\"o\", lw=1, markersize=3)\n",
    "                    axs.set_xlabel('time [s]')\n",
    "                    axs.set_ylabel('loss');\n",
    "                    axs.set_title(f\"[{step}/{steps}] Angle recovery optimization \\nLOSS={np.mean(losses[step-10:step]):.2e} LR={learning_rate:.2e}\")\n",
    "\n",
    "                    \n",
    "                IPyDisplay.clear_output(wait=True)\n",
    "                IPyDisplay.display(plt.gcf())\n",
    "                plt.close();\n",
    "                time.sleep(0.1)\n",
    "                \n",
    "                np.savez(file_name, quaternion.normalize(q_predicted).numpy(), losses, np.array(collect_data))\n",
    "                \n",
    "                if found_minimizer:\n",
    "                    time_elapsed = time.time() - time_start\n",
    "                    report += f'step {step}/{steps} ({time_elapsed:.0f}s): loss = {losses[step-1]:.2e}\\n'\n",
    "                    break;\n",
    "        else:\n",
    "            losses[step-1] = loss(a1, a2, distance_target)\n",
    "        \n",
    "        # Periodically report progress.\n",
    "        if ((step % (steps//10)) == 0) or (step == steps):\n",
    "            time_elapsed = time.time() - time_start\n",
    "            report += f'step {step}/{steps} ({time_elapsed:.0f}s): loss = {losses[step-1]:.2e}\\n'\n",
    "            \n",
    "        if step >= 1001 and np.mean(losses[step-1001:step-1]) < 1e-8:\n",
    "            found_minimizer = True\n",
    "            \n",
    "        if step >= 2001 and np.abs(np.mean(losses[step-1000:step-1])-np.mean(losses[step-2000:step-1000])) < 1e-7:\n",
    "            found_minimizer = True\n",
    "            \n",
    "    print(report)\n",
    "    return quaternion.normalize(q_predicted), losses, np.array(collect_data)\n",
    "        \n",
    "def sample_iter(steps, projection_idx, num_pairs, style=\"random\", k=None):\n",
    "\n",
    "    for step in range(1, steps+1):\n",
    "        if not k and style != \"random\":\n",
    "            raise ValueError(\"Please specify k for kNN for sample_pairs method\")\n",
    "        \n",
    "        if style==\"random\":\n",
    "            idx1 = list(np.random.choice(projection_idx, size=num_pairs))\n",
    "            idx2 = list(np.random.choice(projection_idx, size=num_pairs))\n",
    "        \n",
    "        elif style==\"knn\":\n",
    "            idx1 = list(np.random.choice(projection_idx, size=num_pairs))\n",
    "            indices_p, distances_p, A_p = get_knn_projections(k=k)\n",
    "            idx2 = [indices_p[i][np.random.randint(1, k)] for i in idx1]\n",
    "    \n",
    "        elif style==\"knn_and_random\":\n",
    "            # select random sample for the first element of pair\n",
    "            idx1 = list(np.random.choice(projection_idx, size=num_pairs))\n",
    "            \n",
    "            # half from kNN\n",
    "            indices_p, distances_p, A_p = get_knn_projections(k=k)\n",
    "            idx2_knn = [indices_p[i][np.random.randint(1, k)] for i in idx1[:num_pairs//2]]\n",
    "            idx2_random = list(np.random.randint(0, num_projections, num_pairs//2))\n",
    "            # half random\n",
    "            idx2 = idx2_knn + idx2_random\n",
    "        \n",
    "        yield step, idx1, idx2\n",
    "        \n",
    "def loss(q1_predicted, q2_predicted, distance_target, dt_type, space):\n",
    "    distance = d_q(q1_predicted, q2_predicted)\n",
    "    if space == \"dQspace\":\n",
    "        if dt_type == \"dP\":\n",
    "            # Convert dP to dQ\n",
    "            distance_target = (distance_target-intercept)/slope\n",
    "            \n",
    "    elif space == \"dPspace\":\n",
    "        if dt_type == \"dP\":\n",
    "            # Convert dQ to dP\n",
    "            distance = tf.math.polyval(coeffs4dP, distance)\n",
    "        elif dt_type == \"dQ\":\n",
    "            distance = tf.math.polyval(coeffs4dP, distance)\n",
    "            distance_target = tf.math.polyval(coeffs4dP, distance_target)  \n",
    "\n",
    "    # The mean doesn't depend on the batch size.\n",
    "    return tf.reduce_mean(tf.pow(distance - distance_target, 2))\n",
    "\n",
    "def gradient(q1_predicted, q2_predicted, distance_target, dt_type, space):\n",
    "    with tf.GradientTape() as tape:\n",
    "        loss_value = loss(q1_predicted, q2_predicted, distance_target, dt_type, space)\n",
    "        gradient = tape.gradient(loss_value, q1_predicted + q2_predicted)\n",
    "        \n",
    "    return loss_value, gradient\n"
   ]
  },
  {
   "cell_type": "code",
   "execution_count": null,
   "metadata": {
    "colab": {
     "base_uri": "https://localhost:8080/",
     "height": 666
    },
    "colab_type": "code",
    "id": "AzvyD3FVCrGy",
    "outputId": "1c3d4d7b-68db-4323-aec3-b64418eff365",
    "scrolled": true
   },
   "outputs": [
    {
     "name": "stdout",
     "output_type": "stream",
     "text": [
      "0.5741775035858154\n"
     ]
    }
   ],
   "source": [
    "q_predicted, losses, q_all = train_angle_recovery(steps=10000, \n",
    "                                                   batch_size=512, \n",
    "                                                   in_data=X[test_idx], \n",
    "                                                   distance_fn=d_p, \n",
    "                                                   learning_rate=0.1,\n",
    "                                                   angles_true=y[test_idx],\n",
    "                                                   optimization=True,\n",
    "                                                     file_name=\"data/5j0n/angle_recovery_polynomial\",\n",
    "                                                     dt_type=\"dP\", \n",
    "                                                     space=\"dPspace\")"
   ]
  },
  {
   "cell_type": "markdown",
   "metadata": {
    "colab_type": "text",
    "id": "S9I9yNL6CrG1"
   },
   "source": [
    "##### Plots"
   ]
  },
  {
   "cell_type": "code",
   "execution_count": null,
   "metadata": {
    "colab": {},
    "colab_type": "code",
    "id": "XXKMsPmiCrG1"
   },
   "outputs": [],
   "source": [
    "from cryoem.conversions import quaternion2euler"
   ]
  },
  {
   "cell_type": "code",
   "execution_count": null,
   "metadata": {
    "colab": {},
    "colab_type": "code",
    "id": "4nQIALw3CrG4"
   },
   "outputs": [],
   "source": [
    "data      = np.load(\"data/5j0n/angle_recovery_polynomial.npz\")\n",
    "q_predicted, losses, q_all = data[\"arr_0\"], data[\"arr_1\"], data[\"arr_2\"]\n",
    "angles_predicted = quaternion2euler(q_predicted).numpy()%(2*np.pi)"
   ]
  },
  {
   "cell_type": "code",
   "execution_count": null,
   "metadata": {
    "colab": {},
    "colab_type": "code",
    "id": "QyNgiLJICrG6"
   },
   "outputs": [],
   "source": [
    "from cryoem.plots import plot_iterations_polar_plot, plot_iterations_rotvec"
   ]
  },
  {
   "cell_type": "code",
   "execution_count": null,
   "metadata": {
    "colab": {
     "referenced_widgets": [
      "257ff954dc4f40a584587669458aaf50"
     ]
    },
    "colab_type": "code",
    "id": "-jl05KXzCrG8",
    "outputId": "7ae4605d-9f52-4167-d51d-774f50a0b374"
   },
   "outputs": [],
   "source": [
    "plot_iterations_polar_plot(q_all, angles_true[test_idx], interval=100, selected=range(102));"
   ]
  },
  {
   "cell_type": "code",
   "execution_count": null,
   "metadata": {
    "colab": {
     "referenced_widgets": [
      "fa54533857e64d91bc8251f99b53f263"
     ]
    },
    "colab_type": "code",
    "id": "AciIS2yVCrG_",
    "outputId": "3dfe4245-6e63-4587-a470-615bc1ff3db1"
   },
   "outputs": [],
   "source": [
    "ipv.screenshot()"
   ]
  },
  {
   "cell_type": "code",
   "execution_count": null,
   "metadata": {
    "colab": {
     "referenced_widgets": [
      "388c08c9927b49fb9f408963178be98a"
     ]
    },
    "colab_type": "code",
    "id": "8DynJ-VkCrHD",
    "outputId": "b7dd4487-afd0-4f17-b5a5-d877a5a2242d",
    "scrolled": false
   },
   "outputs": [],
   "source": [
    "plot_iterations_rotvec(q_all, angles_true[test_idx], interval=100);"
   ]
  },
  {
   "cell_type": "code",
   "execution_count": null,
   "metadata": {
    "colab": {
     "referenced_widgets": [
      "2fa741c72a744cd099cdd5e1a95bd5c7"
     ]
    },
    "colab_type": "code",
    "id": "eVXaHqYnCrHG",
    "outputId": "1bf978ec-40fc-4f39-e9e0-3a30ae3fd508"
   },
   "outputs": [],
   "source": [
    "ipv.screenshot()"
   ]
  },
  {
   "cell_type": "code",
   "execution_count": null,
   "metadata": {
    "colab": {},
    "colab_type": "code",
    "id": "k7URA80JCrHI"
   },
   "outputs": [],
   "source": [
    "from cryoem.plots import plot_images"
   ]
  },
  {
   "cell_type": "code",
   "execution_count": null,
   "metadata": {
    "colab": {
     "referenced_widgets": [
      "15308fec81524c71920a7bf0b13b060b"
     ]
    },
    "colab_type": "code",
    "id": "PJKIuNo2CrHL",
    "outputId": "18e710fe-73c0-4fa3-ba1d-7640be1bc899"
   },
   "outputs": [],
   "source": [
    "plot_images(angles_predicted, projections, indices=range(200), img_size_scale=0.1)"
   ]
  },
  {
   "cell_type": "code",
   "execution_count": null,
   "metadata": {
    "colab": {
     "referenced_widgets": [
      "5ef2b5b94e564b57bedd44232f942388"
     ]
    },
    "colab_type": "code",
    "id": "piFtfUmrCrHN",
    "outputId": "80206eda-eeb3-4682-822a-d01702a1770d"
   },
   "outputs": [],
   "source": [
    "ipv.screenshot()"
   ]
  },
  {
   "cell_type": "markdown",
   "metadata": {
    "colab_type": "text",
    "id": "dAhu-tbJCrHQ"
   },
   "source": [
    "---"
   ]
  },
  {
   "cell_type": "markdown",
   "metadata": {
    "colab_type": "text",
    "id": "2Fp7Db_6CrHQ"
   },
   "source": [
    "# 4. Angle Alignment"
   ]
  },
  {
   "cell_type": "markdown",
   "metadata": {
    "colab_type": "text",
    "id": "7uMGhBclCrHQ"
   },
   "source": [
    "The `rotation` is our minimizer and we initialize this 6D vector with random values. That is the reason the optimization sometimes converges to 0 loss and sometimes not."
   ]
  },
  {
   "cell_type": "code",
   "execution_count": null,
   "metadata": {
    "colab": {},
    "colab_type": "code",
    "id": "CXOejUzHCrHR"
   },
   "outputs": [],
   "source": [
    "from cryoem.angle_alignment import training_angle_alignment, update_quaternion"
   ]
  },
  {
   "cell_type": "markdown",
   "metadata": {
    "colab_type": "text",
    "id": "rHoL9oR5CrHU"
   },
   "source": [
    "##### Not-flipped"
   ]
  },
  {
   "cell_type": "code",
   "execution_count": null,
   "metadata": {
    "colab": {},
    "colab_type": "code",
    "id": "DpQsNLBwCrHU",
    "outputId": "91acef9e-6acd-4052-ee68-64a386814dbb"
   },
   "outputs": [],
   "source": [
    "m, rotation, loss, collect_data  = training_angle_alignment(m=[1.0, 1.0, 1.0, 1.0],\n",
    "                                                 steps=5000, \n",
    "                                                 batch_size=256, \n",
    "                                                 learning_rate=0.01, \n",
    "                                                 angles_true=angles_true[test_idx], \n",
    "                                                 angles_predicted=angles_predicted)"
   ]
  },
  {
   "cell_type": "code",
   "execution_count": null,
   "metadata": {
    "colab": {},
    "colab_type": "code",
    "id": "3C7K9hG8CrHY",
    "outputId": "e6a4cf9c-d5eb-433c-837b-b69d8de96ef6",
    "scrolled": true
   },
   "outputs": [],
   "source": [
    "m, rotation[0].numpy(), loss[-1]"
   ]
  },
  {
   "cell_type": "markdown",
   "metadata": {
    "colab_type": "text",
    "id": "ZTeC_oiZCrHb"
   },
   "source": [
    "###### Flipped"
   ]
  },
  {
   "cell_type": "code",
   "execution_count": null,
   "metadata": {
    "colab": {},
    "colab_type": "code",
    "id": "xB-BT9v9CrHc",
    "outputId": "86c12cd4-cb28-42e0-bc31-3cc294376099"
   },
   "outputs": [],
   "source": [
    "m, rotation, loss, collect_data  = training_angle_alignment(m=[-1.0, 1.0, 1.0, 1.0],\n",
    "                                                 steps=5000, \n",
    "                                                 batch_size=256, \n",
    "                                                 learning_rate=0.001, \n",
    "                                                 angles_true=angles_true[test_idx], \n",
    "                                                 angles_predicted=angles_predicted)"
   ]
  },
  {
   "cell_type": "code",
   "execution_count": null,
   "metadata": {
    "colab": {},
    "colab_type": "code",
    "id": "zihTKc01CrHe",
    "outputId": "fa6cdfea-72f4-4075-a9db-ae4782a1740b"
   },
   "outputs": [],
   "source": [
    "m, rotation[0].numpy(), loss[-1]"
   ]
  },
  {
   "cell_type": "markdown",
   "metadata": {
    "colab_type": "text",
    "id": "Xw-nSjF9CrHg"
   },
   "source": [
    "##### Plots"
   ]
  },
  {
   "cell_type": "code",
   "execution_count": null,
   "metadata": {
    "colab": {
     "referenced_widgets": [
      "a3b0be7543ed4b6a90cc2f02063192a9"
     ]
    },
    "colab_type": "code",
    "id": "XcUm0RyTCrHg",
    "outputId": "ab9e60aa-ae4e-4cf8-f218-af30de2b21c1"
   },
   "outputs": [],
   "source": [
    "plot_iterations_polar_plot(collect_data, angles_true[test_idx], interval=100);"
   ]
  },
  {
   "cell_type": "code",
   "execution_count": null,
   "metadata": {
    "colab": {
     "referenced_widgets": [
      "ebfc5e1a0f5d4365833dfd2398d165af"
     ]
    },
    "colab_type": "code",
    "id": "Q0gqicYVCrHj",
    "outputId": "acfa2914-9012-42cb-b5c8-516e6bd240c6"
   },
   "outputs": [],
   "source": [
    "ipv.screenshot()"
   ]
  },
  {
   "cell_type": "code",
   "execution_count": null,
   "metadata": {
    "colab": {
     "referenced_widgets": [
      "6bbaf871ce77415da940a490111abbb3"
     ]
    },
    "colab_type": "code",
    "id": "isNfBGSTCrHl",
    "outputId": "aa15005d-f67b-42d6-d91a-bcd8c56fbf2e"
   },
   "outputs": [],
   "source": [
    "plot_iterations_rotvec(collect_data, angles_true[test_idx]);"
   ]
  },
  {
   "cell_type": "code",
   "execution_count": null,
   "metadata": {
    "colab": {
     "referenced_widgets": [
      "81b577ccad8143329056732dacc5105e"
     ]
    },
    "colab_type": "code",
    "id": "TKn_oB5-CrHn",
    "outputId": "287b8296-fc4e-4c8c-9c86-7138459daf6e"
   },
   "outputs": [],
   "source": [
    "ipv.screenshot()"
   ]
  },
  {
   "cell_type": "markdown",
   "metadata": {
    "colab_type": "text",
    "id": "zTYPVPoPCrHp"
   },
   "source": [
    "##### Save alignment result"
   ]
  },
  {
   "cell_type": "code",
   "execution_count": null,
   "metadata": {
    "colab": {},
    "colab_type": "code",
    "id": "5v9p0bbtCrHr",
    "scrolled": false
   },
   "outputs": [],
   "source": [
    "qpn = euler2quaternion(angles_predicted)\n",
    "\n",
    "qpa = update_quaternion(m=m, \n",
    "                        a_R=rotation, \n",
    "                        q_predicted=qpn)\n",
    "\n",
    "angles_predicted_rotated = quaternion2euler(qpa).numpy()\n",
    "\n",
    "np.save(\"data/5j0n/aligned_angles_siamese_polyfit.npy\", angles_predicted_rotated)"
   ]
  },
  {
   "cell_type": "markdown",
   "metadata": {
    "colab_type": "text",
    "id": "B4JejA1OCrHt"
   },
   "source": [
    "##### Plot reconstruction image"
   ]
  },
  {
   "cell_type": "code",
   "execution_count": null,
   "metadata": {
    "colab": {},
    "colab_type": "code",
    "id": "2-uDokhmCrHv"
   },
   "outputs": [],
   "source": [
    "# Image(filename='../3-reconstruction/data/5j0n_projections_and_angles_predicted_updated.png')"
   ]
  },
  {
   "cell_type": "code",
   "execution_count": null,
   "metadata": {
    "colab": {},
    "colab_type": "code",
    "id": "VB88-j4JCrHz"
   },
   "outputs": [],
   "source": []
  }
 ],
 "metadata": {
  "accelerator": "GPU",
  "colab": {
   "include_colab_link": true,
   "name": "distance_estimation_and_angle_recovery-test5j0nhalf-cov-polynomialAR.ipynb",
   "provenance": [],
   "toc_visible": true
  },
  "kernelspec": {
   "display_name": "Python 3",
   "language": "python",
   "name": "python3"
  },
  "language_info": {
   "codemirror_mode": {
    "name": "ipython",
    "version": 3
   },
   "file_extension": ".py",
   "mimetype": "text/x-python",
   "name": "python",
   "nbconvert_exporter": "python",
   "pygments_lexer": "ipython3",
   "version": "3.6.9"
  },
  "widgets": {
   "application/vnd.jupyter.widget-state+json": {}
  }
 },
 "nbformat": 4,
 "nbformat_minor": 1
}
