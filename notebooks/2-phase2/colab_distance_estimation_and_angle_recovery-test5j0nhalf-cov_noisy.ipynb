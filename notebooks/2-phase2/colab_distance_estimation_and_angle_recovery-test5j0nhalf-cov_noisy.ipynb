{
 "cells": [
  {
   "cell_type": "markdown",
   "metadata": {},
   "source": [
    "<a href=\"https://colab.research.google.com/github/JelenaBanjac/protein-reconstruction/blob/master/notebooks/2-phase2/colab_distance_estimation_and_angle_recovery-test5j0nhalf-cov_noisy.ipynb\" target=\"_parent\"><img src=\"https://colab.research.google.com/assets/colab-badge.svg\" alt=\"Open In Colab\"/></a>"
   ]
  },
  {
   "cell_type": "markdown",
   "metadata": {},
   "source": [
    "# Distance Estimation and Angle Recovery"
   ]
  },
  {
   "cell_type": "markdown",
   "metadata": {},
   "source": [
    "<div class=\"alert alert-danger\" role=\"alert\">\n",
    "  <p><strong>Important:</strong> This notebook is used to run the distance estimation on noisy data only (no angle recovery).</p>\n",
    "  <hr>\n",
    "    - <b>To enable GPU</b>: Navigate to Edit→Notebook Settings<br/>\n",
    "    - <b>To save the latest version of code from this notebook</b>: Navigate to File→Save a copy to Github.\n",
    "</div>"
   ]
  },
  {
   "cell_type": "markdown",
   "metadata": {
    "colab_type": "text",
    "id": "EkRUrVFpCrFT"
   },
   "source": [
    "## Content"
   ]
  },
  {
   "cell_type": "markdown",
   "metadata": {
    "colab_type": "text",
    "id": "Zwit5GAFCrFU"
   },
   "source": [
    "1. [Data Preparation](#1.-Data-Preparation)\n",
    "2. [Distance Estimation](#2.-Distance-Estimation)\n",
    "3. [Angle Recovery](#3.-Angle-Recovery)\n",
    "4. [Angle Alignment](#4.-Angle-Alignment)"
   ]
  },
  {
   "cell_type": "markdown",
   "metadata": {},
   "source": [
    "Data used:\n",
    "- Protein: 5j0n (symmetric protein)\n",
    "- Projections: 5K\n",
    "- Coverage: Half-sphere\n",
    "\n",
    "![](figures/5j0n.pdb1-500.jpg)"
   ]
  },
  {
   "cell_type": "code",
   "execution_count": null,
   "metadata": {},
   "outputs": [],
   "source": [
    "# create directories\n",
    "!mkdir --parents data/5j0n\n",
    "!mkdir training"
   ]
  },
  {
   "cell_type": "markdown",
   "metadata": {},
   "source": [
    "## Setup Environment (Colab)"
   ]
  },
  {
   "cell_type": "markdown",
   "metadata": {},
   "source": [
    "Link to MiniConda Linux installer [here](https://docs.conda.io/en/latest/miniconda.html)."
   ]
  },
  {
   "cell_type": "code",
   "execution_count": null,
   "metadata": {},
   "outputs": [],
   "source": [
    "!wget -c https://repo.anaconda.com/miniconda/Miniconda3-latest-Linux-x86_64.sh\n",
    "!chmod +x Miniconda3-latest-Linux-x86_64.sh\n",
    "!bash ./Miniconda3-latest-Linux-x86_64.sh -b -f -p /usr/local"
   ]
  },
  {
   "cell_type": "code",
   "execution_count": null,
   "metadata": {},
   "outputs": [],
   "source": [
    "# clone repo\n",
    "!rm -r protein-reconstruction\n",
    "!git clone https://github.com/JelenaBanjac/protein-reconstruction.git\n",
    "!cd protein-reconstruction"
   ]
  },
  {
   "cell_type": "code",
   "execution_count": null,
   "metadata": {},
   "outputs": [],
   "source": [
    "# download dataset\n",
    "# TODO: put here the link\n",
    "# e.g.: !curl https://transfer.sh/N3J6C/5j0n_ProjectionsAngles_ProjNber5000_AngCoverage2.0,0.4,2.0_AngShift0.0,0.0,0.0.h5 -o data/5j0n/5j0n_ProjectionsAngles_ProjNber5000_AngCoverage2.0,0.4,2.0_AngShift0.0,0.0,0.0.h5"
   ]
  },
  {
   "cell_type": "code",
   "execution_count": null,
   "metadata": {},
   "outputs": [],
   "source": [
    "#!conda env create -f environment.yml \n",
    "!conda install -q -y --prefix /usr/local -c conda-forge ipyvolume\n",
    "!pip3 install tensorflow-graphics-gpu"
   ]
  },
  {
   "cell_type": "code",
   "execution_count": null,
   "metadata": {},
   "outputs": [],
   "source": [
    "import sys\n",
    "sys.path.append('/usr/local/lib/python3.7/site-packages')\n",
    "sys.path.append(\"protein-reconstruction\") "
   ]
  },
  {
   "cell_type": "code",
   "execution_count": null,
   "metadata": {},
   "outputs": [],
   "source": [
    "!python --version"
   ]
  },
  {
   "cell_type": "markdown",
   "metadata": {},
   "source": [
    "## Start the Pipeline"
   ]
  },
  {
   "cell_type": "code",
   "execution_count": 2,
   "metadata": {},
   "outputs": [
    {
     "name": "stderr",
     "output_type": "stream",
     "text": [
      "Warning: To use the exr data format, please install the OpenEXR package following the instructions detailed in the README at github.com/tensorflow/graphics.\n",
      "Warning: To use the threejs_vizualization, please install the colabtools package following the instructions detailed in the README at github.com/tensorflow/graphics.\n"
     ]
    }
   ],
   "source": [
    "import os\n",
    "import h5py\n",
    "import numpy as np\n",
    "import time\n",
    "import pandas as pd\n",
    "\n",
    "\n",
    "from cryoem.plots import plot_angles_count, plot_images\n",
    "from IPython.display import Image\n",
    "import matplotlib.pyplot as plt\n",
    "\n",
    "import tensorflow as tf\n",
    "from cryoem.conversions import d_q, euler2quaternion\n",
    "import ipyvolume as ipv\n",
    "from collections import Counter\n",
    "import itertools\n",
    "import seaborn as sns; sns.set(style=\"white\", color_codes=True)\n",
    "import io"
   ]
  },
  {
   "cell_type": "code",
   "execution_count": 3,
   "metadata": {},
   "outputs": [
    {
     "data": {
      "text/plain": [
       "'2.1.0'"
      ]
     },
     "execution_count": 3,
     "metadata": {},
     "output_type": "execute_result"
    }
   ],
   "source": [
    "tf.__version__"
   ]
  },
  {
   "cell_type": "code",
   "execution_count": 4,
   "metadata": {},
   "outputs": [
    {
     "name": "stdout",
     "output_type": "stream",
     "text": [
      "[name: \"/device:CPU:0\"\n",
      "device_type: \"CPU\"\n",
      "memory_limit: 268435456\n",
      "locality {\n",
      "}\n",
      "incarnation: 8492676108236968159\n",
      ", name: \"/device:XLA_CPU:0\"\n",
      "device_type: \"XLA_CPU\"\n",
      "memory_limit: 17179869184\n",
      "locality {\n",
      "}\n",
      "incarnation: 367098670719913763\n",
      "physical_device_desc: \"device: XLA_CPU device\"\n",
      ", name: \"/device:XLA_GPU:0\"\n",
      "device_type: \"XLA_GPU\"\n",
      "memory_limit: 17179869184\n",
      "locality {\n",
      "}\n",
      "incarnation: 10990574109414875861\n",
      "physical_device_desc: \"device: XLA_GPU device\"\n",
      ", name: \"/device:GPU:0\"\n",
      "device_type: \"GPU\"\n",
      "memory_limit: 11322146816\n",
      "locality {\n",
      "  bus_id: 2\n",
      "  numa_node: 1\n",
      "  links {\n",
      "  }\n",
      "}\n",
      "incarnation: 7455704990558429202\n",
      "physical_device_desc: \"device: 0, name: Tesla K40c, pci bus id: 0000:da:00.0, compute capability: 3.5\"\n",
      "]\n"
     ]
    }
   ],
   "source": [
    "from tensorflow.python.client import device_lib \n",
    "print(device_lib.list_local_devices())"
   ]
  },
  {
   "cell_type": "code",
   "execution_count": 5,
   "metadata": {},
   "outputs": [],
   "source": [
    "PROTEIN=\"5j0n\"\n",
    "NUM_PROJECTIONS = 5000"
   ]
  },
  {
   "cell_type": "code",
   "execution_count": 6,
   "metadata": {},
   "outputs": [
    {
     "name": "stdout",
     "output_type": "stream",
     "text": [
      "5000 projections of images with dimension (116, 116) pixels\n",
      "5000 sets of 3 ground truth angles of corresponding projection images\n"
     ]
    }
   ],
   "source": [
    "# location of *.h5 files\n",
    "data_dir = \"data/5j0n/\"\n",
    "\n",
    "# TODO: dataset name\n",
    "projections_filename = f\"{PROTEIN}_ProjectionsAngles_ProjNber5000_AngCoverage2.0,0.4,2.0_AngShift0.0,0.0,0.0.h5\"\n",
    "\n",
    "# load structures\n",
    "data = h5py.File(os.path.join(data_dir, projections_filename), 'r')\n",
    "\n",
    "print(f\"{data['Projections'].shape[0]} projections of images with dimension {data['Projections'].shape[1:]} pixels\")\n",
    "print(f\"{data['Angles'].shape[0]} sets of {data['Angles'].shape[1]} ground truth angles of corresponding projection images\")"
   ]
  },
  {
   "cell_type": "code",
   "execution_count": 7,
   "metadata": {},
   "outputs": [
    {
     "data": {
      "text/plain": [
       "(5000, 116, 116)"
      ]
     },
     "execution_count": 7,
     "metadata": {},
     "output_type": "execute_result"
    }
   ],
   "source": [
    "projections = data['Projections']\n",
    "projections.shape"
   ]
  },
  {
   "cell_type": "code",
   "execution_count": 8,
   "metadata": {
    "scrolled": true
   },
   "outputs": [
    {
     "data": {
      "text/plain": [
       "(5000, 3)"
      ]
     },
     "execution_count": 8,
     "metadata": {},
     "output_type": "execute_result"
    }
   ],
   "source": [
    "angles_true = np.array(data['Angles'])\n",
    "angles_true.shape"
   ]
  },
  {
   "cell_type": "code",
   "execution_count": 1,
   "metadata": {},
   "outputs": [],
   "source": [
    "#plot_images(angles_true, projections, range(100), img_size_scale=0.05)"
   ]
  },
  {
   "cell_type": "code",
   "execution_count": 2,
   "metadata": {},
   "outputs": [],
   "source": [
    "#ipv.screenshot()"
   ]
  },
  {
   "cell_type": "markdown",
   "metadata": {},
   "source": [
    "---"
   ]
  },
  {
   "cell_type": "markdown",
   "metadata": {},
   "source": [
    "## Prepare for training"
   ]
  },
  {
   "cell_type": "code",
   "execution_count": 9,
   "metadata": {},
   "outputs": [],
   "source": [
    "from sklearn.model_selection import train_test_split"
   ]
  },
  {
   "cell_type": "code",
   "execution_count": 10,
   "metadata": {},
   "outputs": [],
   "source": [
    "X, y = np.array(data['Projections'], dtype=np.float32), np.array(data['Angles'], dtype=np.float32)"
   ]
  },
  {
   "cell_type": "markdown",
   "metadata": {},
   "source": [
    "#### Global standardization of projections"
   ]
  },
  {
   "cell_type": "code",
   "execution_count": 11,
   "metadata": {},
   "outputs": [],
   "source": [
    "from cryoem.distance_estimation import global_standardization"
   ]
  },
  {
   "cell_type": "code",
   "execution_count": 12,
   "metadata": {},
   "outputs": [
    {
     "name": "stdout",
     "output_type": "stream",
     "text": [
      "Image shape: (116, 116)\n",
      "Data Type: float32\n",
      "***\n",
      "Mean: 0.262 | Std: 1.046\n",
      "Min:  0.000 | Max: 15.458\n",
      "Mean: 0.000 | Std: 1.000\n",
      "Min:  -0.250 | Max: 14.526\n"
     ]
    }
   ],
   "source": [
    "X = global_standardization(X)"
   ]
  },
  {
   "cell_type": "code",
   "execution_count": 13,
   "metadata": {},
   "outputs": [],
   "source": [
    "test_size = 0.33\n",
    "val_size = 0.25"
   ]
  },
  {
   "cell_type": "code",
   "execution_count": 15,
   "metadata": {},
   "outputs": [],
   "source": [
    "# the data, split between train and test sets\n",
    "train_idx, test_idx = train_test_split(range(NUM_PROJECTIONS), \n",
    "                                       test_size=test_size, \n",
    "                                       random_state=42)\n",
    "train_idx, val_idx= train_test_split(train_idx, \n",
    "                                     test_size=val_size, \n",
    "                                     random_state=1)\n",
    "\n",
    "train_idx = sorted(train_idx)\n",
    "val_idx = sorted(val_idx)\n",
    "test_idx = sorted(test_idx)\n",
    "\n",
    "np.savez(\"data/5j0n/5j0n_siamese_noisy_idx\", train_idx, val_idx, test_idx)"
   ]
  },
  {
   "cell_type": "code",
   "execution_count": 16,
   "metadata": {},
   "outputs": [
    {
     "name": "stdout",
     "output_type": "stream",
     "text": [
      "TRAIN: 0.67 x 0.75 = 0.50 =>  2512 imgs => max pairs:    6312656\n",
      "TEST :               0.33 =>  1650 imgs => max pairs:    2722500\n",
      "VAL  : 0.67 x 0.25 = 0.17 =>   837 imgs => max pairs:     701406\n"
     ]
    }
   ],
   "source": [
    "print(f\"TRAIN: {1-test_size:.2f} x {1-val_size:.2f} = {(1-test_size)*(1-val_size):.2f} => {str(int((1-test_size)*(1-val_size)*5000)).rjust(5)} imgs => max pairs: {str(int(np.power((1-test_size)*(1-val_size)*5000, 2))).rjust(10)}\")\n",
    "print(f\"TEST : {str(test_size).rjust(18)} => {str(int(test_size*5000)).rjust(5)} imgs => max pairs: {str(int(np.power(test_size*5000, 2))).rjust(10)}\")\n",
    "print(f\"VAL  : {1-test_size:.2f} x {val_size:.2f} = {(1-test_size)*val_size:.2f} => {str(int((1-test_size)*val_size*5000)).rjust(5)} imgs => max pairs: {str(int(np.power((1-test_size)*val_size*5000, 2))).rjust(10)}\")"
   ]
  },
  {
   "cell_type": "code",
   "execution_count": 14,
   "metadata": {},
   "outputs": [],
   "source": [
    "data = np.load(\"data/5j0n/5j0n_siamese_noisy_idx.npz\")\n",
    "train_idx, val_idx, test_idx = data[\"arr_0\"], data[\"arr_1\"], data[\"arr_2\"]"
   ]
  },
  {
   "cell_type": "code",
   "execution_count": 15,
   "metadata": {},
   "outputs": [],
   "source": [
    "X = np.stack((X,)*3, axis=-1)"
   ]
  },
  {
   "cell_type": "code",
   "execution_count": 16,
   "metadata": {},
   "outputs": [
    {
     "data": {
      "text/plain": [
       "(5000, 116, 116, 3)"
      ]
     },
     "execution_count": 16,
     "metadata": {},
     "output_type": "execute_result"
    }
   ],
   "source": [
    "X.shape"
   ]
  },
  {
   "cell_type": "markdown",
   "metadata": {},
   "source": [
    "# 1. Distance Estimation"
   ]
  },
  {
   "cell_type": "markdown",
   "metadata": {},
   "source": [
    "### Train the model"
   ]
  },
  {
   "cell_type": "code",
   "execution_count": 17,
   "metadata": {},
   "outputs": [],
   "source": [
    "from time import time"
   ]
  },
  {
   "cell_type": "code",
   "execution_count": 18,
   "metadata": {},
   "outputs": [],
   "source": [
    "# CALCULATE FULL \n",
    "from tensorflow.keras.utils import Sequence\n",
    "\n",
    "num_dec = 1\n",
    "num_bins = 32\n",
    "\n",
    "class DataGenerator(Sequence):\n",
    "    \n",
    "    def __init__(self, X, y, list_ids, limit_num_pairs=None, limit_style=\"random\", batch_size=256, shuffle=True):\n",
    "        start_time = time()\n",
    "        if batch_size > limit_num_pairs:\n",
    "            raise Exception(\"Please specify limit_num_pairs that is much higher than batch_size\")\n",
    "        self.X = X  \n",
    "        self.y = y  \n",
    "        self.limit_num_pairs = limit_num_pairs\n",
    "        self.list_ids = list_ids\n",
    "        self.batch_size = batch_size  \n",
    "        # all the possible combinations of 2 image id pairs\n",
    "        self.pair_ids = np.array(list(zip(*list(map(lambda x: x.flatten(), np.meshgrid(list_ids, list_ids))))))  # e.g. train_idx\n",
    "        \n",
    "        # Don't use all possible combination of pairs, limit them here\n",
    "        if self.limit_num_pairs:\n",
    "            limited_pair_indices = np.random.choice(np.arange(len(self.pair_ids)), size=self.limit_num_pairs)\n",
    "            self.pair_ids = self.pair_ids[limited_pair_indices]\n",
    "        \n",
    "        if limit_style==\"uniform\":\n",
    "            self.pair_ids = self._generate_uniform()\n",
    "      \n",
    "  \n",
    "        self.shuffle = shuffle \n",
    "        self._on_epoch_start()\n",
    "        print(f\"Data created in {time()-start_time} sec\")\n",
    "        \n",
    "        \n",
    "    def _generate_uniform(self):\n",
    "        if os.path.exists(f\"data/5j0n/{len(self.list_ids)}_{self.limit_num_pairs}_{self.batch_size}.npy\"):\n",
    "            return np.load(f\"data/5j0n/{len(self.list_ids)}_{self.limit_num_pairs}_{self.batch_size}.npy\")\n",
    "        else:\n",
    "            bins = {}\n",
    "            for i in np.arange(0.0, 3.14, step=0.1): # so we have 32 bins\n",
    "                bins[np.around(i, num_dec)] = []\n",
    "\n",
    "\n",
    "            for idx1, idx2 in self.pair_ids:\n",
    "                label = d_q(euler2quaternion(self.y[idx1]), euler2quaternion(self.y[idx2]))\n",
    "                bins[np.around(label, num_dec)].append([idx1, idx2])\n",
    "\n",
    "            min_bin_size = len(bins[min(bins.keys(), key=lambda x: len(bins[x]))])\n",
    "            print(\"min=\", min_bin_size)\n",
    "            if min_bin_size == 0:\n",
    "                raise Exception(\"It haven't yet managed to fill all the bins, please increase limit_num_pairs\")\n",
    "\n",
    "\n",
    "            # cut the top of histogram to make it uniform\n",
    "            for i in np.arange(0.0, 3.14, step=0.1): # so we have 32 bins\n",
    "                b = np.around(i, num_dec)\n",
    "                bins[b] = np.take(bins[b], np.arange(min_bin_size), axis=0)  \n",
    "\n",
    "            l = np.array(list(itertools.chain(*list(bins.values()))))\n",
    "            np.save(f\"data/5j0n/{len(self.list_ids)}_{self.limit_num_pairs}_{self.batch_size}.npy\", l)\n",
    "            print(\"total number of data = \", 31*min_bin_size)\n",
    "            return l\n",
    "    \n",
    "    def __len__(self):\n",
    "        # Denotes the number of batches per epoch\n",
    "        if len(self.pair_ids)%self.batch_size == 0:\n",
    "            return len(self.pair_ids) // self.batch_size\n",
    "        else:\n",
    "            return len(self.pair_ids) // self.batch_size + 1\n",
    "        \n",
    "    def __getitem__(self, index):\n",
    "        # Generate one batch of data\n",
    "        indices = self.indices[index*self.batch_size:(index+1)*self.batch_size]\n",
    "        \n",
    "        # Find list of ids\n",
    "        list_ids_batch = np.take(self.pair_ids, indices, axis=0)\n",
    "\n",
    "        # Generate data\n",
    "        idx1, idx2 = list_ids_batch[:,0], list_ids_batch[:,1]\n",
    "        pairs = np.stack((self.X[idx1], self.X[idx2]), axis=1)  # shape: (len(idx1), 2, x.shape[1], x.shape[2], x.shape[3])\n",
    "        labels = d_q(euler2quaternion(self.y[idx1]), euler2quaternion(self.y[idx2]))  # shape: len(idx1)\n",
    "\n",
    "        # [training_pairs[:, 0], training_pairs[:, 1]], labels\n",
    "        return [pairs[:, 0], pairs[:, 1]], labels \n",
    "        \n",
    "    def _on_epoch_start(self):\n",
    "        # Updates indices after each epoch\n",
    "        self.indices = np.arange(len(self.pair_ids))\n",
    "        if self.shuffle:\n",
    "            np.random.shuffle(self.indices)     "
   ]
  },
  {
   "cell_type": "code",
   "execution_count": 19,
   "metadata": {},
   "outputs": [],
   "source": [
    "import tensorflow_probability as tfp\n",
    "import os\n",
    "import h5py\n",
    "from time import time, strftime\n",
    "from datetime import datetime\n",
    "import matplotlib.pyplot as plt\n",
    "import numpy as np\n",
    "from sklearn.model_selection import train_test_split\n",
    "import pathlib\n",
    "\n",
    "from cryoem.projections import RotationMatrix\n",
    "from cryoem.conversions import euler2quaternion, d_q\n",
    "from cryoem.knn import get_knn_projections\n",
    "\n",
    "import random\n",
    "import tensorflow as tf\n",
    "from tensorflow.keras.datasets import mnist\n",
    "from tensorflow.keras.models import Model\n",
    "from tensorflow.python.keras.applications.mobilenet import MobileNet\n",
    "from tensorflow.keras.layers import Input, Conv2D, MaxPooling2D, AvgPool2D, Lambda, ZeroPadding2D, Dropout, Concatenate, Dense, GlobalAveragePooling2D, Flatten\n",
    "from tensorflow.keras.optimizers import RMSprop, Adam, SGD\n",
    "from tensorflow.keras import backend as K\n",
    "from tensorflow.keras.callbacks import ModelCheckpoint,ReduceLROnPlateau\n",
    "from tensorflow.keras.callbacks import TensorBoard\n",
    "from tensorflow.keras.utils import plot_model, multi_gpu_model\n",
    "#from tensorflow.python.keras.applications.resnet50 import ResNet50\n",
    "from tensorflow.python.keras.applications.inception_v3 import InceptionV3\n",
    "from tensorflow.keras.losses import KLD, MAE, MSE\n",
    "\n",
    "_idx1 = list(np.random.choice(val_idx, size=1000))\n",
    "_idx2 = list(np.random.choice(val_idx, size=1000))\n",
    "\n",
    "q1_true = euler2quaternion([angles_true[i] for i in _idx1])\n",
    "q2_true = euler2quaternion([angles_true[i] for i in _idx2])\n",
    "\n",
    "p1 = [X[i] for i in _idx1]\n",
    "p2 = [X[i] for i in _idx2]\n",
    "\n",
    "model = None\n",
    "\n",
    "def euclidean_distance(vects):\n",
    "    x, y = vects\n",
    "    sum_square = K.sum(K.square(x - y), axis=1, keepdims=True)\n",
    "    return K.sqrt(K.maximum(sum_square, K.epsilon()))\n",
    "\n",
    "def eucl_dist_output_shape(shapes):\n",
    "    shape1, shape2 = shapes\n",
    "    return (shape1[0], 1)\n",
    "\n",
    "\n",
    "def mae(y_true, y_pred):\n",
    "    return MAE(y_true, y_pred) \n",
    "\n",
    "def mse(y_true, y_pred):\n",
    "    return MSE(y_true, y_pred) \n",
    "\n",
    "\n",
    "def create_siamese_network(input_shape):\n",
    "    # first: train only the top layers (which were randomly initialized)\n",
    "    # i.e. freeze all convolutional InceptionV3 layers\n",
    "    input_x = Input(shape=input_shape)\n",
    "    base_model = MobileNet(weights='imagenet', include_top=False, input_tensor=input_x, input_shape=input_shape)\n",
    "    x = base_model.layers[-1].output\n",
    "\n",
    "    # add a global spatial average pooling layer\n",
    "    x = GlobalAveragePooling2D()(x)\n",
    "\n",
    "    return Model(input_x, x)\n",
    "\n",
    "def create_distance_network(input_shape):\n",
    "    # ref: https://github.com/guanjianyu/DisNet/blob/master/Train_DisNet.py\n",
    "    # ref: https://project.inria.fr/ppniv18/files/2018/10/paper22.pdf\n",
    "    input_x = Input(shape=input_shape)\n",
    "   \n",
    "    x = Dense(2000, activation=\"relu\")(input_x)\n",
    "    x = Dense(2000, activation=\"relu\")(x)\n",
    "    x = Dense(2000, activation=\"relu\")(x)\n",
    "    x = Dense(2000, activation=\"relu\")(x)\n",
    "    x = Dense(1000, activation=\"relu\")(x)\n",
    "    x = Dense(1000, activation=\"relu\")(x)\n",
    "    x = Dense(1, activation=\"relu\")(x)\n",
    "    \n",
    "    return Model(input_x, x)\n",
    "\n",
    "\n",
    "\n",
    "def train_siamese(X, y, train_idx, val_idx, epochs_top, epochs_full, batch_size, learning_rate, training_steps=None, validation_steps=None, plot=True, gpus=None):\n",
    "    \n",
    "    \n",
    "    def d_p(p1, p2):\n",
    "        global model\n",
    "        p1 = tf.cast(p1, dtype=tf.float32)\n",
    "        p2 = tf.cast(p2, dtype=tf.float32)\n",
    "        return model.predict([p1, p2], batch_size=256)\n",
    "\n",
    "    def plot_to_image(figure):\n",
    "        \"\"\"Converts the matplotlib plot specified by 'figure' to a PNG image and\n",
    "        returns it. The supplied figure is closed and inaccessible after this call.\"\"\"\n",
    "        # Save the plot to a PNG in memory.\n",
    "        buf = io.BytesIO()\n",
    "        plt.savefig(buf, format='png')\n",
    "        # Closing the figure prevents it from being displayed directly inside\n",
    "        # the notebook.\n",
    "        plt.close(figure)\n",
    "        buf.seek(0)\n",
    "        # Convert PNG buffer to TF image\n",
    "        image = tf.image.decode_png(buf.getvalue(), channels=4)\n",
    "        # Add the batch dimension\n",
    "        image = tf.expand_dims(image, 0)\n",
    "        return image\n",
    "\n",
    "    def generate_dPdQ_plot(file_writer_plot):\n",
    "        \"\"\"Source: https://www.tensorflow.org/tensorboard/image_summaries#logging_arbitrary_image_data\"\"\"\n",
    "\n",
    "        dP_values = d_p(p1, p2).T[0]\n",
    "        dQ_values = d_q(q1_true, q2_true).numpy()\n",
    "\n",
    "        def _inner_plot(epoch, logs):\n",
    "            \"\"\"Generate dP/dQ plot for tensorboard\"\"\"\n",
    "            #plt.clf()\n",
    "            # Creating the dataframe for SNS plot\n",
    "            data = {\"d_Q\" : dQ_values, \"d_P\" : dP_values }\n",
    "            df1 = pd.DataFrame(data=data)\n",
    "\n",
    "            fig, ax = plt.subplots(figsize=(6,6));\n",
    "            sns.scatterplot(x=\"d_Q\", y=\"d_P\", data=df1, color=\"b\", alpha=0.3, label=\"projection pair\", ax=ax);  # \"reg\", \"kde\"\n",
    "            x = np.arange(0, np.pi);\n",
    "            sns.regplot(x=x, y=x, color=\"k\", ax=ax)\n",
    "            #g = sns.jointplot(x=\"d_Q\", y=\"d_P\", data=df1, color=\"b\", alpha=0.3, label=\"projection pair\", kind=\"kde\");  # \"reg\", \"kde\"\n",
    "            #plt.show()\n",
    "            \n",
    "            # Log the confusion matrix as an image summary.\n",
    "            with file_writer_plot.as_default():\n",
    "                tf.summary.image(\"dP/dQ plot\", plot_to_image(fig), step=epoch)\n",
    "        \n",
    "        return _inner_plot\n",
    "\n",
    "    mirrored_strategy = tf.distribute.MirroredStrategy()\n",
    "    \n",
    "    with mirrored_strategy.scope():\n",
    "        # Prepare data generators\n",
    "        training_generator = DataGenerator(X, y, train_idx, limit_num_pairs=training_steps, limit_style=\"uniform\", shuffle=True)\n",
    "        validation_generator = DataGenerator(X, y, val_idx, limit_num_pairs=validation_steps, limit_style=\"uniform\", shuffle=True)\n",
    "        \n",
    "        input_shape = tuple(list(X.shape[1:])) #training_pairs[:, 0].shape[1:]\n",
    "        print(f\"Input images shape {input_shape}\")\n",
    "\n",
    "        # network definition\n",
    "        input_a = Input(shape=input_shape)\n",
    "        input_b = Input(shape=input_shape)\n",
    "        cnn_network = create_siamese_network(input_shape)\n",
    "        \n",
    "        # because we re-use the same instance `cnn_network`,\n",
    "        # the weights of the network will be shared across the two branches\n",
    "        processed_a = cnn_network(input_a)\n",
    "        processed_b = cnn_network(input_b)\n",
    "\n",
    "        \n",
    "        distance = Lambda(euclidean_distance, output_shape=eucl_dist_output_shape)([processed_a, processed_b])\n",
    "\n",
    "        m = Model([input_a, input_b], distance)  # was m\n",
    "\n",
    "        global model\n",
    "        # train\n",
    "        model = multi_gpu_model(m, gpus=gpus)\n",
    "        model.summary()\n",
    "        plot_model(model, to_file=\"figures/model_plot.png\", expand_nested=True, show_shapes=True, show_layer_names=True)\n",
    "\n",
    "        # training only top layers\n",
    "        optimizer1 = RMSprop(learning_rate=learning_rate)\n",
    "        model.compile(loss=mae, optimizer=optimizer1, metrics=[mse], sample_weight_mode=None)\n",
    "        \n",
    "        # Setup callbacks\n",
    "        LOGS_PATH = os.path.join(\"logs\", strftime('%Y%m%d_%H%M%S'))\n",
    "        pathlib.Path(LOGS_PATH).mkdir(parents=True, exist_ok=True)\n",
    "        logs_callback = TensorBoard(LOGS_PATH, histogram_freq=1) #, profile_batch=300)#100000000)\n",
    "        \n",
    "        file_writer_plot = tf.summary.create_file_writer(os.path.join(LOGS_PATH, \"image\"))\n",
    "        plot_callback = tf.keras.callbacks.LambdaCallback(on_epoch_end=generate_dPdQ_plot(file_writer_plot))\n",
    "\n",
    "        history1 = model.fit(training_generator, \n",
    "                            epochs=epochs_top,\n",
    "                            validation_data=validation_generator, \n",
    "                            callbacks=[plot_callback, logs_callback])\n",
    "        \n",
    "        \n",
    "        if plot:\n",
    "            # Get training and test loss histories\n",
    "            training_loss = history1.history['loss']\n",
    "            val_loss = history1.history['val_loss']\n",
    "            mses = history1.history['mse']\n",
    "            val_mses = history1.history['val_mse']\n",
    "\n",
    "            fig, (ax1, ax2) = plt.subplots(1, 2, figsize=(15,7))\n",
    "\n",
    "            # Create count of the number of epochs\n",
    "            epoch_count = range(1, len(training_loss) + 1)\n",
    "\n",
    "            # Visualize loss history\n",
    "            ax1.plot(epoch_count, training_loss, 'r--', label='MAE Training Loss')\n",
    "            ax1.plot(epoch_count, val_loss, 'b-', label='MAE Validation Loss')\n",
    "            ax1.legend()\n",
    "            ax1.set_xlabel('Epoch')\n",
    "            ax1.set_ylabel('Loss')\n",
    "\n",
    "            ax2.plot(epoch_count, mses, 'r-', label='MSE Training')\n",
    "            ax2.plot(epoch_count, val_mses, 'b-', label='MSE Validation')\n",
    "            ax2.legend()\n",
    "            ax2.set_xlabel('Epoch')\n",
    "            ax2.set_ylabel('Loss')\n",
    "            plt.show();\n",
    "\n",
    "        model_filename = f\"training/{strftime('%Y%m%d_%H%M%S')}.h5\"\n",
    "        model.save(model_filename) \n",
    "        print(f\"Model saved to: {model_filename}\")\n",
    "\n",
    "        return model, history1\n",
    "\n",
    "def plot_results(projections, y_pred, y, strtype):\n",
    "    if projections.shape[-1] == 1:\n",
    "        projections = projections.reshape(list(projections.shape[:-2]) +[-1])\n",
    "\n",
    "    def _inner(i):\n",
    "        \n",
    "        plt.imfig, (ax1, ax2) = plt.subplots(1, 2)\n",
    "        ax1.imshow(projections[i, 0])\n",
    "        ax2.imshow(projections[i, 1])\n",
    "\n",
    "        print(f\"--- {strtype} Set ---\")\n",
    "        print(f\"predicted: {y_pred[i][0]}\")\n",
    "        print(f\"true:      {y[i].numpy()}\")\n",
    "        print(f\"mse:       {mse(y_pred[i], y[i].numpy())}\")\n",
    "        print(f\"mae:       {mae(y_pred[i], y[i].numpy())}\")\n",
    "        \n",
    "    return _inner"
   ]
  },
  {
   "cell_type": "code",
   "execution_count": 21,
   "metadata": {},
   "outputs": [
    {
     "data": {
      "text/plain": [
       "(631014, 70224)"
      ]
     },
     "execution_count": 21,
     "metadata": {},
     "output_type": "execute_result"
    }
   ],
   "source": [
    "train_percent = 0.1\n",
    "val_percent = 0.1\n",
    "int(train_percent*np.power(len(train_idx), 2)), int(val_percent*np.power(len(val_idx), 2))"
   ]
  },
  {
   "cell_type": "code",
   "execution_count": 23,
   "metadata": {
    "scrolled": true
   },
   "outputs": [
    {
     "name": "stdout",
     "output_type": "stream",
     "text": [
      "INFO:tensorflow:Using MirroredStrategy with devices ('/job:localhost/replica:0/task:0/device:GPU:0', '/job:localhost/replica:0/task:0/device:GPU:1')\n",
      "Data created in 4.466503858566284 sec\n",
      "Data created in 0.4941675662994385 sec\n",
      "Input images shape (116, 116, 3)\n"
     ]
    },
    {
     "name": "stderr",
     "output_type": "stream",
     "text": [
      "/home/jbanjac/anaconda3/envs/protein_reconstruction/lib/python3.6/site-packages/keras_applications/mobilenet.py:207: UserWarning: `input_shape` is undefined or non-square, or `rows` is not in [128, 160, 192, 224]. Weights for input shape (224, 224) will be loaded as the default.\n",
      "  warnings.warn('`input_shape` is undefined or non-square, '\n"
     ]
    },
    {
     "name": "stdout",
     "output_type": "stream",
     "text": [
      "INFO:tensorflow:Reduce to /job:localhost/replica:0/task:0/device:CPU:0 then broadcast to ('/job:localhost/replica:0/task:0/device:CPU:0',).\n",
      "INFO:tensorflow:Reduce to /job:localhost/replica:0/task:0/device:CPU:0 then broadcast to ('/job:localhost/replica:0/task:0/device:CPU:0',).\n",
      "INFO:tensorflow:Reduce to /job:localhost/replica:0/task:0/device:CPU:0 then broadcast to ('/job:localhost/replica:0/task:0/device:CPU:0',).\n",
      "INFO:tensorflow:Reduce to /job:localhost/replica:0/task:0/device:CPU:0 then broadcast to ('/job:localhost/replica:0/task:0/device:CPU:0',).\n",
      "INFO:tensorflow:Reduce to /job:localhost/replica:0/task:0/device:CPU:0 then broadcast to ('/job:localhost/replica:0/task:0/device:CPU:0',).\n",
      "INFO:tensorflow:Reduce to /job:localhost/replica:0/task:0/device:CPU:0 then broadcast to ('/job:localhost/replica:0/task:0/device:CPU:0',).\n",
      "INFO:tensorflow:Reduce to /job:localhost/replica:0/task:0/device:CPU:0 then broadcast to ('/job:localhost/replica:0/task:0/device:CPU:0',).\n",
      "INFO:tensorflow:Reduce to /job:localhost/replica:0/task:0/device:CPU:0 then broadcast to ('/job:localhost/replica:0/task:0/device:CPU:0',).\n",
      "INFO:tensorflow:Reduce to /job:localhost/replica:0/task:0/device:CPU:0 then broadcast to ('/job:localhost/replica:0/task:0/device:CPU:0',).\n",
      "INFO:tensorflow:Reduce to /job:localhost/replica:0/task:0/device:CPU:0 then broadcast to ('/job:localhost/replica:0/task:0/device:CPU:0',).\n",
      "WARNING:tensorflow:From <ipython-input-21-a3d0e9a3f0e8>:210: multi_gpu_model (from tensorflow.python.keras.utils.multi_gpu_utils) is deprecated and will be removed after 2020-04-01.\n",
      "Instructions for updating:\n",
      "Use `tf.distribute.MirroredStrategy` instead.\n",
      "Model: \"model_2\"\n",
      "__________________________________________________________________________________________________\n",
      "Layer (type)                    Output Shape         Param #     Connected to                     \n",
      "==================================================================================================\n",
      "input_1 (InputLayer)            [(None, 116, 116, 3) 0                                            \n",
      "__________________________________________________________________________________________________\n",
      "input_2 (InputLayer)            [(None, 116, 116, 3) 0                                            \n",
      "__________________________________________________________________________________________________\n",
      "lambda_1 (Lambda)               (None, 116, 116, 3)  0           input_1[0][0]                    \n",
      "__________________________________________________________________________________________________\n",
      "lambda_2 (Lambda)               (None, 116, 116, 3)  0           input_2[0][0]                    \n",
      "__________________________________________________________________________________________________\n",
      "lambda_3 (Lambda)               (None, 116, 116, 3)  0           input_1[0][0]                    \n",
      "__________________________________________________________________________________________________\n",
      "lambda_4 (Lambda)               (None, 116, 116, 3)  0           input_2[0][0]                    \n",
      "__________________________________________________________________________________________________\n",
      "model_1 (Model)                 (None, 1)            3228864     lambda_1[0][0]                   \n",
      "                                                                 lambda_2[0][0]                   \n",
      "                                                                 lambda_3[0][0]                   \n",
      "                                                                 lambda_4[0][0]                   \n",
      "__________________________________________________________________________________________________\n",
      "lambda (Concatenate)            (None, 1)            0           model_1[1][0]                    \n",
      "                                                                 model_1[2][0]                    \n",
      "==================================================================================================\n",
      "Total params: 3,228,864\n",
      "Trainable params: 3,206,976\n",
      "Non-trainable params: 21,888\n",
      "__________________________________________________________________________________________________\n",
      "Failed to import pydot. You must install pydot and graphviz for `pydotprint` to work.\n",
      "WARNING:tensorflow:sample_weight modes were coerced from\n",
      "  ...\n",
      "    to  \n",
      "  ['...']\n",
      "WARNING:tensorflow:sample_weight modes were coerced from\n",
      "  ...\n",
      "    to  \n",
      "  ['...']\n",
      "Train for 37 steps, validate for 9 steps\n",
      "Epoch 1/200\n",
      "INFO:tensorflow:batch_all_reduce: 81 all-reduces with algorithm = nccl, num_packs = 1, agg_small_grads_max_bytes = 0 and agg_small_grads_max_group = 10\n",
      "INFO:tensorflow:batch_all_reduce: 81 all-reduces with algorithm = nccl, num_packs = 1, agg_small_grads_max_bytes = 0 and agg_small_grads_max_group = 10\n",
      "37/37 [==============================] - 64s 2s/step - loss: 5.6749 - mse: 87.8530 - val_loss: 3.0148 - val_mse: 2.7035\n",
      "Epoch 2/200\n",
      "37/37 [==============================] - 32s 852ms/step - loss: 2.7673 - mse: 2.6587 - val_loss: 2.6687 - val_mse: 2.5708\n",
      "Epoch 3/200\n",
      "37/37 [==============================] - 32s 853ms/step - loss: 2.2274 - mse: 2.0668 - val_loss: 2.4151 - val_mse: 2.2015\n",
      "Epoch 4/200\n",
      "37/37 [==============================] - 31s 847ms/step - loss: 1.8248 - mse: 1.6658 - val_loss: 1.5264 - val_mse: 1.2919\n",
      "Epoch 5/200\n",
      "37/37 [==============================] - 31s 849ms/step - loss: 1.7022 - mse: 1.5373 - val_loss: 1.5377 - val_mse: 1.2224\n",
      "Epoch 6/200\n",
      "37/37 [==============================] - 31s 844ms/step - loss: 1.6784 - mse: 1.5010 - val_loss: 1.1437 - val_mse: 0.8061\n",
      "Epoch 7/200\n",
      "37/37 [==============================] - 31s 847ms/step - loss: 1.6847 - mse: 1.5159 - val_loss: 1.1404 - val_mse: 0.8637\n",
      "Epoch 8/200\n",
      "37/37 [==============================] - 32s 857ms/step - loss: 1.5876 - mse: 1.4208 - val_loss: 1.1817 - val_mse: 0.9491\n",
      "Epoch 9/200\n",
      "37/37 [==============================] - 30s 824ms/step - loss: 1.5470 - mse: 1.3826 - val_loss: 1.0588 - val_mse: 0.7635\n",
      "Epoch 10/200\n",
      "37/37 [==============================] - 31s 848ms/step - loss: 1.4881 - mse: 1.3365 - val_loss: 0.9533 - val_mse: 0.6816\n",
      "Epoch 11/200\n",
      "37/37 [==============================] - 31s 826ms/step - loss: 1.4449 - mse: 1.2835 - val_loss: 1.0408 - val_mse: 0.7896\n",
      "Epoch 12/200\n",
      "37/37 [==============================] - 31s 839ms/step - loss: 1.4402 - mse: 1.2989 - val_loss: 0.9362 - val_mse: 0.6923\n",
      "Epoch 13/200\n",
      "37/37 [==============================] - 31s 850ms/step - loss: 1.3224 - mse: 1.1664 - val_loss: 1.0569 - val_mse: 0.7916\n",
      "Epoch 14/200\n",
      "37/37 [==============================] - 31s 845ms/step - loss: 1.4289 - mse: 1.2714 - val_loss: 1.3171 - val_mse: 1.0695\n",
      "Epoch 15/200\n",
      "37/37 [==============================] - 31s 843ms/step - loss: 1.3273 - mse: 1.1712 - val_loss: 1.2501 - val_mse: 0.9679\n",
      "Epoch 16/200\n",
      "37/37 [==============================] - 31s 828ms/step - loss: 1.3789 - mse: 1.2338 - val_loss: 1.0682 - val_mse: 0.7359\n",
      "Epoch 17/200\n",
      "37/37 [==============================] - 31s 844ms/step - loss: 1.2975 - mse: 1.1512 - val_loss: 1.4680 - val_mse: 1.1907\n",
      "Epoch 18/200\n",
      "37/37 [==============================] - 31s 839ms/step - loss: 1.2974 - mse: 1.1631 - val_loss: 1.6301 - val_mse: 1.3539\n",
      "Epoch 19/200\n",
      "37/37 [==============================] - 31s 837ms/step - loss: 1.3122 - mse: 1.1600 - val_loss: 1.8024 - val_mse: 1.6265\n",
      "Epoch 20/200\n",
      "37/37 [==============================] - 31s 845ms/step - loss: 1.2726 - mse: 1.1375 - val_loss: 0.9577 - val_mse: 0.7346\n",
      "Epoch 21/200\n",
      "37/37 [==============================] - 31s 849ms/step - loss: 1.2454 - mse: 1.0986 - val_loss: 1.5616 - val_mse: 1.2783\n",
      "Epoch 22/200\n",
      "37/37 [==============================] - 31s 842ms/step - loss: 1.1996 - mse: 1.0623 - val_loss: 1.6645 - val_mse: 1.4021\n",
      "Epoch 23/200\n",
      "37/37 [==============================] - 31s 848ms/step - loss: 1.2625 - mse: 1.1178 - val_loss: 1.3228 - val_mse: 1.1106\n",
      "Epoch 24/200\n",
      "37/37 [==============================] - 31s 844ms/step - loss: 1.2882 - mse: 1.1446 - val_loss: 1.6985 - val_mse: 1.4524\n",
      "Epoch 25/200\n",
      "37/37 [==============================] - 31s 841ms/step - loss: 1.2214 - mse: 1.0807 - val_loss: 1.2650 - val_mse: 1.0493\n",
      "Epoch 26/200\n",
      "37/37 [==============================] - 31s 842ms/step - loss: 1.1557 - mse: 1.0181 - val_loss: 1.2027 - val_mse: 0.9447\n"
     ]
    },
    {
     "name": "stdout",
     "output_type": "stream",
     "text": [
      "Epoch 27/200\n",
      "37/37 [==============================] - 31s 836ms/step - loss: 1.2019 - mse: 1.0553 - val_loss: 1.8883 - val_mse: 1.5591\n",
      "Epoch 28/200\n",
      "37/37 [==============================] - 30s 824ms/step - loss: 1.1388 - mse: 1.0142 - val_loss: 1.3702 - val_mse: 1.0544\n",
      "Epoch 29/200\n",
      "37/37 [==============================] - 31s 844ms/step - loss: 1.1679 - mse: 1.0419 - val_loss: 1.3806 - val_mse: 1.1054\n",
      "Epoch 30/200\n",
      "37/37 [==============================] - 31s 829ms/step - loss: 1.1799 - mse: 1.0463 - val_loss: 1.3714 - val_mse: 1.1705\n",
      "Epoch 31/200\n",
      "37/37 [==============================] - 31s 832ms/step - loss: 1.1972 - mse: 1.0626 - val_loss: 0.9974 - val_mse: 0.7098\n",
      "Epoch 32/200\n",
      "37/37 [==============================] - 31s 829ms/step - loss: 1.1468 - mse: 1.0125 - val_loss: 1.6252 - val_mse: 1.4429\n",
      "Epoch 33/200\n",
      "37/37 [==============================] - 31s 839ms/step - loss: 1.1306 - mse: 0.9839 - val_loss: 1.4315 - val_mse: 1.2266\n",
      "Epoch 34/200\n",
      "37/37 [==============================] - 31s 829ms/step - loss: 1.0120 - mse: 0.8877 - val_loss: 1.5106 - val_mse: 1.2189\n",
      "Epoch 35/200\n",
      "37/37 [==============================] - 31s 843ms/step - loss: 1.0611 - mse: 0.9404 - val_loss: 1.7807 - val_mse: 1.5467\n",
      "Epoch 36/200\n",
      "37/37 [==============================] - 31s 830ms/step - loss: 1.0846 - mse: 0.9476 - val_loss: 1.3400 - val_mse: 1.0616\n",
      "Epoch 37/200\n",
      "37/37 [==============================] - 31s 832ms/step - loss: 1.1365 - mse: 0.9930 - val_loss: 1.7291 - val_mse: 1.5636\n",
      "Epoch 38/200\n",
      "37/37 [==============================] - 31s 834ms/step - loss: 1.1066 - mse: 0.9764 - val_loss: 1.1532 - val_mse: 0.8803\n",
      "Epoch 39/200\n",
      "37/37 [==============================] - 31s 840ms/step - loss: 0.9567 - mse: 0.8502 - val_loss: 1.9104 - val_mse: 1.6373\n",
      "Epoch 40/200\n",
      "37/37 [==============================] - 31s 839ms/step - loss: 1.0495 - mse: 0.9375 - val_loss: 1.4239 - val_mse: 1.1905\n",
      "Epoch 41/200\n",
      "37/37 [==============================] - 31s 829ms/step - loss: 0.9130 - mse: 0.7982 - val_loss: 1.4343 - val_mse: 1.2355\n",
      "Epoch 42/200\n",
      "37/37 [==============================] - 31s 835ms/step - loss: 0.9554 - mse: 0.8425 - val_loss: 1.2027 - val_mse: 0.9293\n",
      "Epoch 43/200\n",
      "37/37 [==============================] - 31s 843ms/step - loss: 1.0690 - mse: 0.9389 - val_loss: 1.9367 - val_mse: 1.6661\n",
      "Epoch 44/200\n",
      "37/37 [==============================] - 31s 830ms/step - loss: 0.9161 - mse: 0.7940 - val_loss: 1.4551 - val_mse: 1.1807\n",
      "Epoch 45/200\n",
      "37/37 [==============================] - 31s 826ms/step - loss: 0.9965 - mse: 0.8767 - val_loss: 1.7245 - val_mse: 1.4825\n",
      "Epoch 46/200\n",
      "37/37 [==============================] - 30s 809ms/step - loss: 0.9674 - mse: 0.8411 - val_loss: 1.9021 - val_mse: 1.6855\n",
      "Epoch 47/200\n",
      "37/37 [==============================] - 31s 830ms/step - loss: 0.9957 - mse: 0.8773 - val_loss: 1.4066 - val_mse: 1.1935\n",
      "Epoch 48/200\n",
      "37/37 [==============================] - 30s 821ms/step - loss: 0.9030 - mse: 0.7962 - val_loss: 1.1385 - val_mse: 0.9184\n",
      "Epoch 49/200\n",
      "37/37 [==============================] - 31s 836ms/step - loss: 0.9985 - mse: 0.8897 - val_loss: 1.4789 - val_mse: 1.2529\n",
      "Epoch 50/200\n",
      "37/37 [==============================] - 31s 838ms/step - loss: 0.9577 - mse: 0.8524 - val_loss: 1.5917 - val_mse: 1.3817\n",
      "Epoch 51/200\n",
      "37/37 [==============================] - 31s 843ms/step - loss: 0.9465 - mse: 0.8398 - val_loss: 1.3928 - val_mse: 1.1606\n",
      "Epoch 52/200\n",
      "37/37 [==============================] - 31s 829ms/step - loss: 0.9106 - mse: 0.8023 - val_loss: 1.3522 - val_mse: 1.1551\n",
      "Epoch 53/200\n",
      "37/37 [==============================] - 31s 848ms/step - loss: 0.9385 - mse: 0.8202 - val_loss: 2.3039 - val_mse: 2.1248\n",
      "Epoch 54/200\n",
      "37/37 [==============================] - 31s 837ms/step - loss: 0.9503 - mse: 0.8455 - val_loss: 1.3920 - val_mse: 1.2188\n",
      "Epoch 55/200\n",
      "37/37 [==============================] - 31s 832ms/step - loss: 0.7904 - mse: 0.6832 - val_loss: 1.8420 - val_mse: 1.5522\n",
      "Epoch 56/200\n",
      "37/37 [==============================] - 31s 846ms/step - loss: 0.8322 - mse: 0.7382 - val_loss: 1.5236 - val_mse: 1.3144\n",
      "Epoch 57/200\n",
      "37/37 [==============================] - 31s 844ms/step - loss: 0.9185 - mse: 0.8164 - val_loss: 1.8891 - val_mse: 1.6178\n",
      "Epoch 58/200\n",
      "37/37 [==============================] - 31s 843ms/step - loss: 0.8128 - mse: 0.7002 - val_loss: 1.7339 - val_mse: 1.5452\n",
      "Epoch 59/200\n",
      "37/37 [==============================] - 31s 840ms/step - loss: 0.8734 - mse: 0.7588 - val_loss: 1.2619 - val_mse: 1.0006\n",
      "Epoch 60/200\n",
      "37/37 [==============================] - 31s 842ms/step - loss: 0.9009 - mse: 0.7677 - val_loss: 1.7405 - val_mse: 1.4755\n",
      "Epoch 61/200\n",
      "37/37 [==============================] - 31s 844ms/step - loss: 0.8379 - mse: 0.7165 - val_loss: 1.9508 - val_mse: 1.6787\n",
      "Epoch 62/200\n",
      "37/37 [==============================] - 31s 838ms/step - loss: 0.7859 - mse: 0.6778 - val_loss: 1.3833 - val_mse: 1.2007\n",
      "Epoch 63/200\n",
      "37/37 [==============================] - 31s 845ms/step - loss: 0.7405 - mse: 0.6375 - val_loss: 1.1563 - val_mse: 0.9033\n",
      "Epoch 64/200\n",
      "37/37 [==============================] - 31s 845ms/step - loss: 0.8570 - mse: 0.7489 - val_loss: 1.6339 - val_mse: 1.3894\n",
      "Epoch 65/200\n",
      "37/37 [==============================] - 31s 829ms/step - loss: 0.8087 - mse: 0.7091 - val_loss: 1.4721 - val_mse: 1.2402\n",
      "Epoch 66/200\n",
      "37/37 [==============================] - 31s 845ms/step - loss: 0.8385 - mse: 0.7338 - val_loss: 1.5074 - val_mse: 1.2863\n",
      "Epoch 67/200\n",
      "37/37 [==============================] - 31s 844ms/step - loss: 0.7297 - mse: 0.6280 - val_loss: 1.6475 - val_mse: 1.3428\n",
      "Epoch 68/200\n",
      "37/37 [==============================] - 31s 831ms/step - loss: 0.7692 - mse: 0.6675 - val_loss: 1.4486 - val_mse: 1.1839\n",
      "Epoch 69/200\n",
      "37/37 [==============================] - 31s 832ms/step - loss: 0.7818 - mse: 0.6789 - val_loss: 1.9356 - val_mse: 1.7373\n",
      "Epoch 70/200\n",
      "37/37 [==============================] - 31s 828ms/step - loss: 0.7469 - mse: 0.6405 - val_loss: 1.7005 - val_mse: 1.4625\n",
      "Epoch 71/200\n",
      "37/37 [==============================] - 31s 831ms/step - loss: 0.7251 - mse: 0.6158 - val_loss: 1.3061 - val_mse: 1.0618\n",
      "Epoch 72/200\n",
      "37/37 [==============================] - 31s 830ms/step - loss: 0.8010 - mse: 0.7029 - val_loss: 1.1744 - val_mse: 0.9236\n",
      "Epoch 73/200\n",
      "37/37 [==============================] - 31s 828ms/step - loss: 0.8253 - mse: 0.7177 - val_loss: 1.4695 - val_mse: 1.3018\n",
      "Epoch 74/200\n",
      "37/37 [==============================] - 31s 832ms/step - loss: 0.7109 - mse: 0.6169 - val_loss: 1.8888 - val_mse: 1.6167\n",
      "Epoch 75/200\n",
      "37/37 [==============================] - 31s 835ms/step - loss: 0.7344 - mse: 0.6367 - val_loss: 1.6676 - val_mse: 1.3965\n",
      "Epoch 76/200\n",
      "37/37 [==============================] - 31s 831ms/step - loss: 0.6546 - mse: 0.5635 - val_loss: 1.5541 - val_mse: 1.3036\n",
      "Epoch 77/200\n",
      "37/37 [==============================] - 31s 848ms/step - loss: 0.7364 - mse: 0.6254 - val_loss: 1.3840 - val_mse: 1.1906\n",
      "Epoch 78/200\n",
      "37/37 [==============================] - 31s 835ms/step - loss: 0.6899 - mse: 0.5830 - val_loss: 1.7160 - val_mse: 1.5076\n",
      "Epoch 79/200\n",
      "37/37 [==============================] - 31s 838ms/step - loss: 0.7620 - mse: 0.6642 - val_loss: 1.8422 - val_mse: 1.6173\n",
      "Epoch 80/200\n",
      "37/37 [==============================] - 31s 838ms/step - loss: 0.7549 - mse: 0.6459 - val_loss: 1.4150 - val_mse: 1.1724\n",
      "Epoch 81/200\n",
      "37/37 [==============================] - 31s 839ms/step - loss: 0.6969 - mse: 0.5986 - val_loss: 1.5685 - val_mse: 1.3452\n",
      "Epoch 82/200\n",
      "37/37 [==============================] - 31s 837ms/step - loss: 0.7024 - mse: 0.6114 - val_loss: 1.4134 - val_mse: 1.1382\n",
      "Epoch 83/200\n",
      "37/37 [==============================] - 31s 833ms/step - loss: 0.7381 - mse: 0.6388 - val_loss: 1.4337 - val_mse: 1.2014\n",
      "Epoch 84/200\n",
      "37/37 [==============================] - 31s 834ms/step - loss: 0.7285 - mse: 0.6323 - val_loss: 1.2576 - val_mse: 1.0523\n",
      "Epoch 85/200\n",
      "37/37 [==============================] - 31s 847ms/step - loss: 0.7160 - mse: 0.6068 - val_loss: 2.0472 - val_mse: 1.7656\n",
      "Epoch 86/200\n",
      "37/37 [==============================] - 31s 844ms/step - loss: 0.6648 - mse: 0.5614 - val_loss: 1.6054 - val_mse: 1.4270\n",
      "Epoch 87/200\n",
      "37/37 [==============================] - 31s 836ms/step - loss: 0.6627 - mse: 0.5710 - val_loss: 1.6088 - val_mse: 1.3328\n"
     ]
    },
    {
     "name": "stdout",
     "output_type": "stream",
     "text": [
      "Epoch 88/200\n",
      "37/37 [==============================] - 31s 842ms/step - loss: 0.6765 - mse: 0.5758 - val_loss: 1.6599 - val_mse: 1.4361\n",
      "Epoch 89/200\n",
      "37/37 [==============================] - 31s 841ms/step - loss: 0.6639 - mse: 0.5705 - val_loss: 1.6295 - val_mse: 1.4164\n",
      "Epoch 90/200\n",
      "37/37 [==============================] - 30s 820ms/step - loss: 0.6372 - mse: 0.5447 - val_loss: 1.5301 - val_mse: 1.3420\n",
      "Epoch 91/200\n",
      "37/37 [==============================] - 31s 835ms/step - loss: 0.6679 - mse: 0.5664 - val_loss: 1.4831 - val_mse: 1.2074\n",
      "Epoch 92/200\n",
      "37/37 [==============================] - 31s 844ms/step - loss: 0.6235 - mse: 0.5302 - val_loss: 1.4826 - val_mse: 1.2698\n",
      "Epoch 93/200\n",
      "37/37 [==============================] - 31s 846ms/step - loss: 0.6244 - mse: 0.5270 - val_loss: 1.7739 - val_mse: 1.5730\n",
      "Epoch 94/200\n",
      "37/37 [==============================] - 30s 820ms/step - loss: 0.6970 - mse: 0.6030 - val_loss: 1.7288 - val_mse: 1.5172\n",
      "Epoch 95/200\n",
      "37/37 [==============================] - 32s 852ms/step - loss: 0.6857 - mse: 0.5874 - val_loss: 1.4888 - val_mse: 1.2845\n",
      "Epoch 96/200\n",
      "37/37 [==============================] - 31s 842ms/step - loss: 0.6477 - mse: 0.5540 - val_loss: 1.6726 - val_mse: 1.4493\n",
      "Epoch 97/200\n",
      "37/37 [==============================] - 31s 834ms/step - loss: 0.6154 - mse: 0.5245 - val_loss: 1.6281 - val_mse: 1.4370\n",
      "Epoch 98/200\n",
      "37/37 [==============================] - 31s 835ms/step - loss: 0.6689 - mse: 0.5721 - val_loss: 1.2164 - val_mse: 1.0021\n",
      "Epoch 99/200\n",
      "37/37 [==============================] - 31s 846ms/step - loss: 0.6458 - mse: 0.5662 - val_loss: 1.6978 - val_mse: 1.4078\n",
      "Epoch 100/200\n",
      "37/37 [==============================] - 31s 841ms/step - loss: 0.6485 - mse: 0.5574 - val_loss: 1.8103 - val_mse: 1.5106\n",
      "Epoch 101/200\n",
      "37/37 [==============================] - 31s 844ms/step - loss: 0.6250 - mse: 0.5480 - val_loss: 1.5655 - val_mse: 1.3904\n",
      "Epoch 102/200\n",
      "37/37 [==============================] - 31s 843ms/step - loss: 0.6550 - mse: 0.5556 - val_loss: 2.0202 - val_mse: 1.7303\n",
      "Epoch 103/200\n",
      "37/37 [==============================] - 31s 841ms/step - loss: 0.6216 - mse: 0.5274 - val_loss: 1.4288 - val_mse: 1.1848\n",
      "Epoch 104/200\n",
      "37/37 [==============================] - 31s 832ms/step - loss: 0.5689 - mse: 0.4696 - val_loss: 1.2804 - val_mse: 1.1078\n",
      "Epoch 105/200\n",
      "37/37 [==============================] - 32s 852ms/step - loss: 0.5877 - mse: 0.4871 - val_loss: 1.9169 - val_mse: 1.6862\n",
      "Epoch 106/200\n",
      "37/37 [==============================] - 31s 844ms/step - loss: 0.5943 - mse: 0.4977 - val_loss: 1.7743 - val_mse: 1.5343\n",
      "Epoch 107/200\n",
      "37/37 [==============================] - 31s 833ms/step - loss: 0.6353 - mse: 0.5419 - val_loss: 1.5504 - val_mse: 1.2602\n",
      "Epoch 108/200\n",
      "37/37 [==============================] - 31s 845ms/step - loss: 0.5956 - mse: 0.5037 - val_loss: 1.2717 - val_mse: 1.0284\n",
      "Epoch 109/200\n",
      "37/37 [==============================] - 31s 828ms/step - loss: 0.6594 - mse: 0.5682 - val_loss: 1.7091 - val_mse: 1.4616\n",
      "Epoch 110/200\n",
      "37/37 [==============================] - 31s 838ms/step - loss: 0.5569 - mse: 0.4689 - val_loss: 1.2833 - val_mse: 1.0892\n",
      "Epoch 111/200\n",
      "37/37 [==============================] - 31s 834ms/step - loss: 0.6291 - mse: 0.5336 - val_loss: 1.6001 - val_mse: 1.3736\n",
      "Epoch 112/200\n",
      "37/37 [==============================] - 31s 841ms/step - loss: 0.5012 - mse: 0.4256 - val_loss: 1.3064 - val_mse: 1.1092\n",
      "Epoch 113/200\n",
      "37/37 [==============================] - 30s 817ms/step - loss: 0.6192 - mse: 0.5318 - val_loss: 1.5862 - val_mse: 1.3376\n",
      "Epoch 114/200\n",
      "37/37 [==============================] - 31s 841ms/step - loss: 0.5955 - mse: 0.5106 - val_loss: 1.7832 - val_mse: 1.4330\n",
      "Epoch 115/200\n",
      "37/37 [==============================] - 31s 845ms/step - loss: 0.5997 - mse: 0.5089 - val_loss: 2.0543 - val_mse: 1.8046\n",
      "Epoch 116/200\n",
      "37/37 [==============================] - 31s 846ms/step - loss: 0.5156 - mse: 0.4253 - val_loss: 1.4324 - val_mse: 1.1273\n",
      "Epoch 117/200\n",
      "37/37 [==============================] - 31s 847ms/step - loss: 0.6129 - mse: 0.5129 - val_loss: 1.5938 - val_mse: 1.3793\n",
      "Epoch 118/200\n",
      "37/37 [==============================] - 31s 842ms/step - loss: 0.5761 - mse: 0.4966 - val_loss: 1.6826 - val_mse: 1.3891\n",
      "Epoch 119/200\n",
      "37/37 [==============================] - 30s 824ms/step - loss: 0.5379 - mse: 0.4527 - val_loss: 1.5629 - val_mse: 1.3173\n",
      "Epoch 120/200\n",
      "37/37 [==============================] - 31s 841ms/step - loss: 0.5719 - mse: 0.4980 - val_loss: 1.7312 - val_mse: 1.5109\n",
      "Epoch 121/200\n",
      "37/37 [==============================] - 31s 841ms/step - loss: 0.5178 - mse: 0.4223 - val_loss: 1.6592 - val_mse: 1.4341\n",
      "Epoch 122/200\n",
      "37/37 [==============================] - 31s 847ms/step - loss: 0.5835 - mse: 0.4824 - val_loss: 1.5921 - val_mse: 1.3960\n",
      "Epoch 123/200\n",
      "37/37 [==============================] - 31s 842ms/step - loss: 0.6067 - mse: 0.5149 - val_loss: 1.9549 - val_mse: 1.6550\n",
      "Epoch 124/200\n",
      "37/37 [==============================] - 31s 838ms/step - loss: 0.5584 - mse: 0.4697 - val_loss: 1.8590 - val_mse: 1.5629\n",
      "Epoch 125/200\n",
      "37/37 [==============================] - 31s 846ms/step - loss: 0.5781 - mse: 0.4911 - val_loss: 1.3422 - val_mse: 1.0990\n",
      "Epoch 126/200\n",
      "37/37 [==============================] - 31s 833ms/step - loss: 0.5424 - mse: 0.4640 - val_loss: 1.6643 - val_mse: 1.4134\n",
      "Epoch 127/200\n",
      "37/37 [==============================] - 31s 842ms/step - loss: 0.5296 - mse: 0.4237 - val_loss: 1.7716 - val_mse: 1.5362\n",
      "Epoch 128/200\n",
      "37/37 [==============================] - 31s 842ms/step - loss: 0.5882 - mse: 0.4994 - val_loss: 1.2518 - val_mse: 0.9775\n",
      "Epoch 129/200\n",
      "37/37 [==============================] - 31s 836ms/step - loss: 0.4921 - mse: 0.4197 - val_loss: 1.0057 - val_mse: 0.7891\n",
      "Epoch 130/200\n",
      "37/37 [==============================] - 31s 840ms/step - loss: 0.5465 - mse: 0.4569 - val_loss: 1.7569 - val_mse: 1.5308\n",
      "Epoch 131/200\n",
      "37/37 [==============================] - 31s 843ms/step - loss: 0.5120 - mse: 0.4366 - val_loss: 1.5887 - val_mse: 1.3038\n",
      "Epoch 132/200\n",
      "37/37 [==============================] - 31s 841ms/step - loss: 0.5495 - mse: 0.4629 - val_loss: 1.0518 - val_mse: 0.8203\n",
      "Epoch 133/200\n",
      "37/37 [==============================] - 31s 832ms/step - loss: 0.5610 - mse: 0.4760 - val_loss: 1.2063 - val_mse: 0.9961\n",
      "Epoch 134/200\n",
      "37/37 [==============================] - 31s 842ms/step - loss: 0.5146 - mse: 0.4414 - val_loss: 1.4566 - val_mse: 1.2531\n",
      "Epoch 135/200\n",
      "37/37 [==============================] - 31s 848ms/step - loss: 0.5059 - mse: 0.4208 - val_loss: 1.6515 - val_mse: 1.4192\n",
      "Epoch 136/200\n",
      "37/37 [==============================] - 31s 847ms/step - loss: 0.5089 - mse: 0.4149 - val_loss: 1.6528 - val_mse: 1.4051\n",
      "Epoch 137/200\n",
      "37/37 [==============================] - 31s 844ms/step - loss: 0.4837 - mse: 0.4089 - val_loss: 1.5838 - val_mse: 1.2752\n",
      "Epoch 138/200\n",
      "37/37 [==============================] - 31s 841ms/step - loss: 0.5364 - mse: 0.4539 - val_loss: 1.6510 - val_mse: 1.3861\n",
      "Epoch 139/200\n",
      "37/37 [==============================] - 31s 833ms/step - loss: 0.5134 - mse: 0.4309 - val_loss: 1.5692 - val_mse: 1.2769\n",
      "Epoch 140/200\n",
      "37/37 [==============================] - 31s 847ms/step - loss: 0.5361 - mse: 0.4640 - val_loss: 1.7302 - val_mse: 1.3748\n",
      "Epoch 141/200\n",
      "37/37 [==============================] - 31s 831ms/step - loss: 0.4962 - mse: 0.4031 - val_loss: 1.1902 - val_mse: 0.9981\n",
      "Epoch 142/200\n",
      "37/37 [==============================] - 31s 848ms/step - loss: 0.5436 - mse: 0.4562 - val_loss: 1.7276 - val_mse: 1.4832\n",
      "Epoch 143/200\n",
      "37/37 [==============================] - 31s 841ms/step - loss: 0.5066 - mse: 0.4293 - val_loss: 1.6618 - val_mse: 1.4047\n",
      "Epoch 144/200\n",
      "37/37 [==============================] - 31s 843ms/step - loss: 0.4917 - mse: 0.4130 - val_loss: 1.7792 - val_mse: 1.4926\n",
      "Epoch 145/200\n",
      "37/37 [==============================] - 31s 846ms/step - loss: 0.4496 - mse: 0.3589 - val_loss: 1.6969 - val_mse: 1.4326\n",
      "Epoch 146/200\n",
      "37/37 [==============================] - 31s 837ms/step - loss: 0.5237 - mse: 0.4479 - val_loss: 1.8331 - val_mse: 1.5855\n",
      "Epoch 147/200\n",
      "37/37 [==============================] - 31s 838ms/step - loss: 0.5083 - mse: 0.4143 - val_loss: 1.5305 - val_mse: 1.2861\n",
      "Epoch 148/200\n",
      "37/37 [==============================] - 31s 847ms/step - loss: 0.5279 - mse: 0.4519 - val_loss: 1.2124 - val_mse: 0.9210\n",
      "Epoch 149/200\n",
      "37/37 [==============================] - 31s 839ms/step - loss: 0.5146 - mse: 0.4350 - val_loss: 1.2938 - val_mse: 1.0259\n",
      "Epoch 150/200\n",
      "37/37 [==============================] - 31s 839ms/step - loss: 0.4727 - mse: 0.3773 - val_loss: 1.7345 - val_mse: 1.5059\n",
      "Epoch 151/200\n",
      "37/37 [==============================] - 31s 843ms/step - loss: 0.5108 - mse: 0.4325 - val_loss: 1.6905 - val_mse: 1.4402\n",
      "Epoch 152/200\n",
      "37/37 [==============================] - 31s 845ms/step - loss: 0.4882 - mse: 0.4162 - val_loss: 1.8371 - val_mse: 1.5719\n",
      "Epoch 153/200\n",
      "37/37 [==============================] - 31s 847ms/step - loss: 0.5044 - mse: 0.4315 - val_loss: 1.1597 - val_mse: 0.9570\n",
      "Epoch 154/200\n",
      "37/37 [==============================] - 31s 850ms/step - loss: 0.5135 - mse: 0.4333 - val_loss: 1.3876 - val_mse: 1.2041\n",
      "Epoch 155/200\n",
      "37/37 [==============================] - 31s 843ms/step - loss: 0.4369 - mse: 0.3659 - val_loss: 1.4455 - val_mse: 1.2346\n",
      "Epoch 156/200\n",
      "37/37 [==============================] - 31s 841ms/step - loss: 0.4757 - mse: 0.3923 - val_loss: 1.3156 - val_mse: 1.0847\n",
      "Epoch 157/200\n",
      "37/37 [==============================] - 31s 842ms/step - loss: 0.4539 - mse: 0.3754 - val_loss: 1.9244 - val_mse: 1.6005\n",
      "Epoch 158/200\n",
      "37/37 [==============================] - 31s 847ms/step - loss: 0.4796 - mse: 0.4078 - val_loss: 1.2926 - val_mse: 1.0690\n",
      "Epoch 159/200\n",
      "37/37 [==============================] - 31s 848ms/step - loss: 0.4387 - mse: 0.3678 - val_loss: 1.5717 - val_mse: 1.3782\n",
      "Epoch 160/200\n",
      "37/37 [==============================] - 31s 845ms/step - loss: 0.4652 - mse: 0.3931 - val_loss: 1.3875 - val_mse: 1.1276\n",
      "Epoch 161/200\n",
      "37/37 [==============================] - 30s 822ms/step - loss: 0.4865 - mse: 0.4044 - val_loss: 1.2223 - val_mse: 1.0007\n",
      "Epoch 162/200\n",
      "37/37 [==============================] - 31s 844ms/step - loss: 0.4545 - mse: 0.3717 - val_loss: 1.2740 - val_mse: 1.0423\n",
      "Epoch 163/200\n",
      "37/37 [==============================] - 31s 837ms/step - loss: 0.5083 - mse: 0.4137 - val_loss: 1.3953 - val_mse: 1.1578\n",
      "Epoch 164/200\n",
      "37/37 [==============================] - 30s 818ms/step - loss: 0.4267 - mse: 0.3503 - val_loss: 1.4737 - val_mse: 1.2550\n",
      "Epoch 165/200\n",
      "37/37 [==============================] - 31s 845ms/step - loss: 0.4758 - mse: 0.3821 - val_loss: 1.5134 - val_mse: 1.3100\n",
      "Epoch 166/200\n",
      "37/37 [==============================] - 31s 844ms/step - loss: 0.4624 - mse: 0.3844 - val_loss: 1.8671 - val_mse: 1.6092\n",
      "Epoch 167/200\n",
      "37/37 [==============================] - 31s 842ms/step - loss: 0.4331 - mse: 0.3571 - val_loss: 1.7552 - val_mse: 1.4778\n",
      "Epoch 168/200\n",
      "37/37 [==============================] - 31s 848ms/step - loss: 0.4756 - mse: 0.4029 - val_loss: 1.6050 - val_mse: 1.3748\n",
      "Epoch 169/200\n",
      "37/37 [==============================] - 31s 842ms/step - loss: 0.4590 - mse: 0.3893 - val_loss: 1.7247 - val_mse: 1.4515\n",
      "Epoch 170/200\n",
      "37/37 [==============================] - 31s 844ms/step - loss: 0.4446 - mse: 0.3626 - val_loss: 1.6056 - val_mse: 1.3673\n",
      "Epoch 171/200\n",
      "37/37 [==============================] - 31s 845ms/step - loss: 0.5287 - mse: 0.4400 - val_loss: 1.6261 - val_mse: 1.3699\n",
      "Epoch 172/200\n",
      "37/37 [==============================] - 31s 849ms/step - loss: 0.4407 - mse: 0.3609 - val_loss: 1.8007 - val_mse: 1.5251\n",
      "Epoch 173/200\n",
      "37/37 [==============================] - 31s 841ms/step - loss: 0.4401 - mse: 0.3515 - val_loss: 1.6457 - val_mse: 1.3724\n",
      "Epoch 174/200\n",
      "37/37 [==============================] - 31s 849ms/step - loss: 0.4358 - mse: 0.3565 - val_loss: 1.7560 - val_mse: 1.5007\n",
      "Epoch 175/200\n",
      "37/37 [==============================] - 31s 849ms/step - loss: 0.4689 - mse: 0.3804 - val_loss: 1.5866 - val_mse: 1.3405\n",
      "Epoch 176/200\n",
      "37/37 [==============================] - 31s 832ms/step - loss: 0.4514 - mse: 0.3841 - val_loss: 1.7710 - val_mse: 1.5281\n",
      "Epoch 177/200\n",
      "37/37 [==============================] - 31s 842ms/step - loss: 0.4794 - mse: 0.4023 - val_loss: 1.3892 - val_mse: 1.0910\n",
      "Epoch 178/200\n",
      "37/37 [==============================] - 31s 835ms/step - loss: 0.4270 - mse: 0.3497 - val_loss: 1.5316 - val_mse: 1.3168\n",
      "Epoch 179/200\n",
      "37/37 [==============================] - 31s 845ms/step - loss: 0.4362 - mse: 0.3416 - val_loss: 1.7463 - val_mse: 1.4667\n",
      "Epoch 180/200\n",
      "37/37 [==============================] - 31s 850ms/step - loss: 0.4033 - mse: 0.3249 - val_loss: 1.3661 - val_mse: 1.1064\n",
      "Epoch 181/200\n",
      "37/37 [==============================] - 31s 844ms/step - loss: 0.4036 - mse: 0.3324 - val_loss: 1.3085 - val_mse: 1.1154\n",
      "Epoch 182/200\n",
      "37/37 [==============================] - 31s 841ms/step - loss: 0.4405 - mse: 0.3495 - val_loss: 1.6920 - val_mse: 1.4359\n",
      "Epoch 183/200\n",
      "37/37 [==============================] - 31s 838ms/step - loss: 0.4363 - mse: 0.3735 - val_loss: 1.2860 - val_mse: 1.0608\n",
      "Epoch 184/200\n",
      "37/37 [==============================] - 31s 846ms/step - loss: 0.4222 - mse: 0.3462 - val_loss: 1.4565 - val_mse: 1.2637\n",
      "Epoch 185/200\n",
      "37/37 [==============================] - 31s 844ms/step - loss: 0.4189 - mse: 0.3363 - val_loss: 1.7326 - val_mse: 1.4570\n",
      "Epoch 186/200\n",
      "37/37 [==============================] - 31s 844ms/step - loss: 0.4178 - mse: 0.3407 - val_loss: 1.6472 - val_mse: 1.3356\n",
      "Epoch 187/200\n",
      "37/37 [==============================] - 31s 844ms/step - loss: 0.3920 - mse: 0.3154 - val_loss: 1.5459 - val_mse: 1.2610\n",
      "Epoch 188/200\n",
      "37/37 [==============================] - 31s 836ms/step - loss: 0.4010 - mse: 0.3218 - val_loss: 1.3375 - val_mse: 1.0702\n",
      "Epoch 189/200\n",
      "37/37 [==============================] - 31s 848ms/step - loss: 0.3952 - mse: 0.3275 - val_loss: 1.5578 - val_mse: 1.3104\n",
      "Epoch 190/200\n",
      "37/37 [==============================] - 31s 842ms/step - loss: 0.4383 - mse: 0.3652 - val_loss: 1.3779 - val_mse: 1.1468\n",
      "Epoch 191/200\n",
      "37/37 [==============================] - 31s 839ms/step - loss: 0.4278 - mse: 0.3422 - val_loss: 1.4126 - val_mse: 1.2203\n",
      "Epoch 192/200\n",
      "37/37 [==============================] - 31s 846ms/step - loss: 0.3641 - mse: 0.2996 - val_loss: 1.3814 - val_mse: 1.1693\n",
      "Epoch 193/200\n",
      "37/37 [==============================] - 32s 853ms/step - loss: 0.3916 - mse: 0.3238 - val_loss: 1.7980 - val_mse: 1.5096\n",
      "Epoch 194/200\n",
      "37/37 [==============================] - 31s 846ms/step - loss: 0.4373 - mse: 0.3499 - val_loss: 2.0135 - val_mse: 1.7799\n",
      "Epoch 195/200\n",
      "37/37 [==============================] - 31s 844ms/step - loss: 0.3848 - mse: 0.3167 - val_loss: 1.5824 - val_mse: 1.2790\n",
      "Epoch 196/200\n",
      "37/37 [==============================] - 31s 846ms/step - loss: 0.3971 - mse: 0.3252 - val_loss: 1.7871 - val_mse: 1.5430\n",
      "Epoch 197/200\n",
      "37/37 [==============================] - 31s 839ms/step - loss: 0.3863 - mse: 0.3189 - val_loss: 1.6672 - val_mse: 1.4054\n",
      "Epoch 198/200\n",
      "37/37 [==============================] - 31s 845ms/step - loss: 0.3528 - mse: 0.2874 - val_loss: 1.3943 - val_mse: 1.1063\n",
      "Epoch 199/200\n",
      "37/37 [==============================] - 31s 847ms/step - loss: 0.3996 - mse: 0.3241 - val_loss: 1.1847 - val_mse: 0.9679\n",
      "Epoch 200/200\n",
      "37/37 [==============================] - 31s 832ms/step - loss: 0.4568 - mse: 0.3593 - val_loss: 1.8964 - val_mse: 1.6593\n"
     ]
    },
    {
     "data": {
      "image/png": "[encoded data removed]",
      "text/plain": [
       "<Figure size 1080x504 with 2 Axes>"
      ]
     },
     "metadata": {
      "needs_background": "light"
     },
     "output_type": "display_data"
    },
    {
     "name": "stdout",
     "output_type": "stream",
     "text": [
      "Model saved to: training/20200601_022855.h5\n"
     ]
    }
   ],
   "source": [
    "model, history1 = train_siamese(X=X, y=y, \n",
    "                               train_idx=train_idx, \n",
    "                               val_idx=val_idx,\n",
    "                               epochs_top=200,  #500\n",
    "                               epochs_full=None,\n",
    "                               batch_size=256,  #512 latest \n",
    "                               learning_rate=1e-3,  #0.01 \n",
    "                               training_steps=int(train_percent*np.power(len(train_idx), 2)),  # None\n",
    "                               validation_steps=int(val_percent*np.power(len(val_idx), 2)),  # None\n",
    "                               plot=True,\n",
    "                               gpus=1)"
   ]
  },
  {
   "cell_type": "markdown",
   "metadata": {},
   "source": [
    "---"
   ]
  },
  {
   "cell_type": "code",
   "execution_count": 35,
   "metadata": {},
   "outputs": [],
   "source": [
    "training_loss = history1.history['loss']\n",
    "val_loss = history1.history['val_loss']\n",
    "mses = history1.history['mse']\n",
    "val_mses = history1.history['val_mse']\n",
    "\n",
    "np.savez(\"data/5j0n/5j0n_DE_noisy_history_uniform\", training_loss, val_loss, mses, val_mses)"
   ]
  },
  {
   "cell_type": "code",
   "execution_count": 36,
   "metadata": {},
   "outputs": [],
   "source": [
    "data = np.load(\"data/5j0n/5j0n_DE_noisy_history_uniform.npz\")\n",
    "training_loss, val_loss, mses, val_mses = data[\"arr_0\"], data[\"arr_1\"], data[\"arr_2\"], data[\"arr_3\"]"
   ]
  },
  {
   "cell_type": "code",
   "execution_count": 38,
   "metadata": {},
   "outputs": [
    {
     "data": {
      "image/png": "[encoded data removed]",
      "text/plain": [
       "<Figure size 1080x504 with 2 Axes>"
      ]
     },
     "metadata": {
      "needs_background": "light"
     },
     "output_type": "display_data"
    }
   ],
   "source": [
    "# Get training and test loss histories\n",
    "fig, (ax1, ax2) = plt.subplots(1, 2, figsize=(15,7))\n",
    "\n",
    "# Create count of the number of epochs\n",
    "epoch_count = range(1, len(training_loss) + 1)\n",
    "\n",
    "# Visualize loss history\n",
    "ax1.plot(epoch_count, training_loss, 'r--', label='MAE Training Loss')\n",
    "ax1.plot(epoch_count, val_loss, 'b-', label='MAE Validation Loss')\n",
    "ax1.legend()\n",
    "ax1.set_xlabel('Epoch')\n",
    "ax1.set_ylabel('Loss')\n",
    "\n",
    "ax2.plot(epoch_count, mses, 'r-', label='MSE Training')\n",
    "ax2.plot(epoch_count, val_mses, 'b-', label='MSE Validation')\n",
    "ax2.legend()\n",
    "ax2.set_xlabel('Epoch')\n",
    "ax2.set_ylabel('Loss')\n",
    "plt.show();"
   ]
  },
  {
   "cell_type": "code",
   "execution_count": 39,
   "metadata": {},
   "outputs": [
    {
     "data": {
      "text/plain": [
       "(0.06818553585162278, 0.18914438287417093, 0.009661273, 0.06259676)"
      ]
     },
     "execution_count": 39,
     "metadata": {},
     "output_type": "execute_result"
    }
   ],
   "source": [
    "training_loss[-1], val_loss[-1], mses[-1], val_mses[-1]"
   ]
  },
  {
   "cell_type": "code",
   "execution_count": null,
   "metadata": {},
   "outputs": [],
   "source": [
    "# save the model on the drive\n",
    "from google.colab import drive\n",
    "drive.mount(\"/content/drive\")"
   ]
  },
  {
   "cell_type": "code",
   "execution_count": null,
   "metadata": {},
   "outputs": [],
   "source": [
    "!cd 'drive/My Drive'\n",
    "!mkdir ModelsProtein"
   ]
  },
  {
   "cell_type": "code",
   "execution_count": null,
   "metadata": {},
   "outputs": [],
   "source": [
    "model_filename = f\"{strftime('%Y%m%d_%H%M%S')}.h5\"\n",
    "model.save(f\"/content/drive/My Drive/{model_filename}\")"
   ]
  },
  {
   "cell_type": "markdown",
   "metadata": {},
   "source": [
    "### (Or) Read model checkpoint"
   ]
  },
  {
   "cell_type": "code",
   "execution_count": 20,
   "metadata": {},
   "outputs": [],
   "source": [
    "# put correct filename\n",
    "# model_filename = \"training/20200531_224202.h5\""
   ]
  },
  {
   "cell_type": "code",
   "execution_count": 21,
   "metadata": {},
   "outputs": [
    {
     "name": "stdout",
     "output_type": "stream",
     "text": [
      "Model: \"model_8\"\n",
      "__________________________________________________________________________________________________\n",
      "Layer (type)                    Output Shape         Param #     Connected to                     \n",
      "==================================================================================================\n",
      "input_7 (InputLayer)            [(None, 116, 116, 3) 0                                            \n",
      "__________________________________________________________________________________________________\n",
      "input_8 (InputLayer)            [(None, 116, 116, 3) 0                                            \n",
      "__________________________________________________________________________________________________\n",
      "lambda_11 (Lambda)              (None, 116, 116, 3)  0           input_7[0][0]                    \n",
      "__________________________________________________________________________________________________\n",
      "lambda_12 (Lambda)              (None, 116, 116, 3)  0           input_8[0][0]                    \n",
      "__________________________________________________________________________________________________\n",
      "lambda_13 (Lambda)              (None, 116, 116, 3)  0           input_7[0][0]                    \n",
      "__________________________________________________________________________________________________\n",
      "lambda_14 (Lambda)              (None, 116, 116, 3)  0           input_8[0][0]                    \n",
      "__________________________________________________________________________________________________\n",
      "model_7 (Model)                 (None, 1)            3228864     lambda_11[0][0]                  \n",
      "                                                                 lambda_12[0][0]                  \n",
      "                                                                 lambda_13[0][0]                  \n",
      "                                                                 lambda_14[0][0]                  \n",
      "__________________________________________________________________________________________________\n",
      "lambda_10 (Concatenate)         (None, 1)            0           model_7[1][0]                    \n",
      "                                                                 model_7[2][0]                    \n",
      "==================================================================================================\n",
      "Total params: 3,228,864\n",
      "Trainable params: 3,206,976\n",
      "Non-trainable params: 21,888\n",
      "__________________________________________________________________________________________________\n"
     ]
    }
   ],
   "source": [
    "# Recreate the exact same model, including its weights and the optimizer\n",
    "model = tf.keras.models.load_model(model_filename)\n",
    "\n",
    "# Show the model architecture\n",
    "model.summary()"
   ]
  },
  {
   "cell_type": "code",
   "execution_count": null,
   "metadata": {},
   "outputs": [],
   "source": [
    "# OR Upload the model instead of saving it to drive\n",
    "# TODO: put a correct model name\n",
    "# !curl --upload-file training/20200531_224202.h5 https://transfer.sh/20200531_224202.h5"
   ]
  },
  {
   "cell_type": "markdown",
   "metadata": {},
   "source": [
    "---"
   ]
  },
  {
   "cell_type": "markdown",
   "metadata": {},
   "source": [
    "## dP/dQ plot"
   ]
  },
  {
   "cell_type": "code",
   "execution_count": 22,
   "metadata": {},
   "outputs": [],
   "source": [
    "from cryoem.conversions import d_q, euler2quaternion\n",
    "from cryoem.plots import plot_dP_dQ"
   ]
  },
  {
   "cell_type": "code",
   "execution_count": 23,
   "metadata": {},
   "outputs": [],
   "source": [
    "def d_p(p1, p2):\n",
    "    p1 = tf.cast(p1, dtype=tf.float32)\n",
    "    p2 = tf.cast(p2, dtype=tf.float32)\n",
    "    return model.predict([p1, p2], batch_size=256)"
   ]
  },
  {
   "cell_type": "code",
   "execution_count": 24,
   "metadata": {},
   "outputs": [],
   "source": [
    "# 5:41 with 1024\n",
    "# 5:43     with 256\n",
    "idx1 = list(np.random.choice(test_idx, size=1000))\n",
    "idx2 = list(np.random.choice(test_idx, size=1000))\n",
    "\n",
    "q1_true = euler2quaternion([angles_true[i] for i in idx1])\n",
    "q2_true = euler2quaternion([angles_true[i] for i in idx2])\n",
    "\n",
    "p1 = [X[i] for i in idx1]\n",
    "p2 = [X[i] for i in idx2]\n",
    "\n",
    "dP_values = d_p(p1, p2).T[0]\n",
    "dQ_values = d_q(q1_true, q2_true).numpy()"
   ]
  },
  {
   "cell_type": "code",
   "execution_count": 25,
   "metadata": {},
   "outputs": [
    {
     "data": {
      "text/plain": [
       "<Figure size 432x288 with 0 Axes>"
      ]
     },
     "metadata": {},
     "output_type": "display_data"
    },
    {
     "data": {
      "image/png": "[encoded data removed]",
      "text/plain": [
       "<Figure size 432x432 with 1 Axes>"
      ]
     },
     "metadata": {
      "needs_background": "light"
     },
     "output_type": "display_data"
    },
    {
     "data": {
      "text/plain": [
       "<Figure size 432x288 with 0 Axes>"
      ]
     },
     "metadata": {},
     "output_type": "display_data"
    },
    {
     "data": {
      "image/png": "[encoded data removed]",
      "text/plain": [
       "<Figure size 432x432 with 3 Axes>"
      ]
     },
     "metadata": {
      "needs_background": "light"
     },
     "output_type": "display_data"
    },
    {
     "name": "stdout",
     "output_type": "stream",
     "text": [
      "Variance = 0.2690672323834601\n",
      "Min. angle recovery loss possible = 0.07232477836695243\n"
     ]
    }
   ],
   "source": [
    "plot_dP_dQ(dP_values, dQ_values)"
   ]
  },
  {
   "cell_type": "code",
   "execution_count": 26,
   "metadata": {},
   "outputs": [
    {
     "data": {
      "text/plain": [
       "<tf.Tensor: shape=(), dtype=float32, numpy=0.21109173>"
      ]
     },
     "execution_count": 26,
     "metadata": {},
     "output_type": "execute_result"
    }
   ],
   "source": [
    "MAE(dQ_values, dP_values)"
   ]
  }
 ],
 "metadata": {
  "kernelspec": {
   "display_name": "Python 3",
   "language": "python",
   "name": "python3"
  },
  "language_info": {
   "codemirror_mode": {
    "name": "ipython",
    "version": 3
   },
   "file_extension": ".py",
   "mimetype": "text/x-python",
   "name": "python",
   "nbconvert_exporter": "python",
   "pygments_lexer": "ipython3",
   "version": "3.6.9"
  },
  "widgets": {
   "application/vnd.jupyter.widget-state+json": {
    "state": {
     "0047eed3818f4d12b60c02be4d0ad6d5": {
      "model_module": "@jupyter-widgets/controls",
      "model_module_version": "1.5.0",
      "model_name": "VBoxModel",
      "state": {
       "children": [
        "IPY_MODEL_ec75527be0454a458286dae45e9a4f53"
       ],
       "layout": "IPY_MODEL_22ff05efba6640639e0d82bae22b547b"
      }
     },
     "01481815ad2540f4b3d00bec357c0c49": {
      "buffers": [
       {
        "data": "yd+HvvXMsD4=",
        "encoding": "base64",
        "path": [
         "x",
         0,
         "data"
        ]
       },
       {
        "data": "KLt2PxpcVz8=",
        "encoding": "base64",
        "path": [
         "y",
         0,
         "data"
        ]
       },
       {
        "data": "HA3VvFX+1L4=",
        "encoding": "base64",
        "path": [
         "z",
         0,
         "data"
        ]
       }
      ],
      "model_module": "ipyvolume",
      "model_module_version": "~0.5.2",
      "model_name": "ScatterModel",
      "state": {
       "color_selected": null,
       "connected": true,
       "line_material": "IPY_MODEL_0c2d1846fe2c449a983b442bf0ea3338",
       "material": "IPY_MODEL_e267c7d122704a1bb82bd502f3edcc5d",
       "size": 1,
       "size_selected": 1,
       "texture": null,
       "vx": null,
       "vy": null,
       "vz": null,
       "x": [
        {
         "data": {},
         "dtype": "float32",
         "shape": [
          2
         ]
        }
       ],
       "y": [
        {
         "data": {},
         "dtype": "float32",
         "shape": [
          2
         ]
        }
       ],
       "z": [
        {
         "data": {},
         "dtype": "float32",
         "shape": [
          2
         ]
        }
       ]
      }
     },
     "0585d491ae9043c699484fa109229676": {
      "buffers": [
       {
        "data": "hrFIv+bnVD8=",
        "encoding": "base64",
        "path": [
         "x",
         0,
         "data"
        ]
       },
       {
        "data": "G6MNP6TvDT8=",
        "encoding": "base64",
        "path": [
         "y",
         0,
         "data"
        ]
       },
       {
        "data": "aC6QPvBs+rw=",
        "encoding": "base64",
        "path": [
         "z",
         0,
         "data"
        ]
       }
      ],
      "model_module": "ipyvolume",
      "model_module_version": "~0.5.2",
      "model_name": "ScatterModel",
      "state": {
       "color": "green",
       "color_selected": null,
       "connected": true,
       "line_material": "IPY_MODEL_0fb342a4738f4a6f834484d715265dda",
       "material": "IPY_MODEL_c810b23ba37f40c9a176efcbeb9dc020",
       "size": 1,
       "size_selected": 1,
       "texture": null,
       "vx": null,
       "vy": null,
       "vz": null,
       "x": [
        {
         "data": {},
         "dtype": "float32",
         "shape": [
          2
         ]
        }
       ],
       "y": [
        {
         "data": {},
         "dtype": "float32",
         "shape": [
          2
         ]
        }
       ],
       "z": [
        {
         "data": {},
         "dtype": "float32",
         "shape": [
          2
         ]
        }
       ]
      }
     },
     "05914aab06c549eebefd23ba2ee8613a": {
      "model_module": "jupyter-threejs",
      "model_module_version": "^2.1.0",
      "model_name": "ShaderMaterialModel",
      "state": {
       "_view_module": null,
       "_view_module_version": ""
      }
     },
     "05db192c8f68454d904e666ccc06ef58": {
      "buffers": [
       {
        "data": "EWfFvujSYb4=",
        "encoding": "base64",
        "path": [
         "x",
         0,
         "data"
        ]
       },
       {
        "data": "F2tkP4QOeT8=",
        "encoding": "base64",
        "path": [
         "y",
         0,
         "data"
        ]
       },
       {
        "data": "+qJwvh7+jr0=",
        "encoding": "base64",
        "path": [
         "z",
         0,
         "data"
        ]
       }
      ],
      "model_module": "ipyvolume",
      "model_module_version": "~0.5.2",
      "model_name": "ScatterModel",
      "state": {
       "color_selected": null,
       "connected": true,
       "line_material": "IPY_MODEL_3878d985b89f4e4eb8605c330892e74a",
       "material": "IPY_MODEL_22d9e0a83d8244118b1fb47d3d089f10",
       "size": 1,
       "size_selected": 1,
       "texture": null,
       "vx": null,
       "vy": null,
       "vz": null,
       "x": [
        {
         "data": {},
         "dtype": "float32",
         "shape": [
          2
         ]
        }
       ],
       "y": [
        {
         "data": {},
         "dtype": "float32",
         "shape": [
          2
         ]
        }
       ],
       "z": [
        {
         "data": {},
         "dtype": "float32",
         "shape": [
          2
         ]
        }
       ]
      }
     },
     "0709a1f847514f2bb776bb3384949215": {
      "model_module": "jupyter-threejs",
      "model_module_version": "^2.1.0",
      "model_name": "SceneModel",
      "state": {
       "_view_module": null,
       "_view_module_version": "",
       "background": null
      }
     },
     "084ffc2a088a40fdaf3d0888da47cc49": {
      "buffers": [
       {
        "data": "ZZjHO51FZD8=",
        "encoding": "base64",
        "path": [
         "x",
         0,
         "data"
        ]
       },
       {
        "data": "7Sh7P9Ma5D4=",
        "encoding": "base64",
        "path": [
         "y",
         0,
         "data"
        ]
       },
       {
        "data": "FRVGvo7yo70=",
        "encoding": "base64",
        "path": [
         "z",
         0,
         "data"
        ]
       }
      ],
      "model_module": "ipyvolume",
      "model_module_version": "~0.5.2",
      "model_name": "ScatterModel",
      "state": {
       "color_selected": null,
       "connected": true,
       "line_material": "IPY_MODEL_f5d302a2c7c44e0c8fdda321e1fb5068",
       "material": "IPY_MODEL_664a7845a0ed4ec78228ab2c7c7432c1",
       "size": 1,
       "size_selected": 1,
       "texture": null,
       "vx": null,
       "vy": null,
       "vz": null,
       "x": [
        {
         "data": {},
         "dtype": "float32",
         "shape": [
          2
         ]
        }
       ],
       "y": [
        {
         "data": {},
         "dtype": "float32",
         "shape": [
          2
         ]
        }
       ],
       "z": [
        {
         "data": {},
         "dtype": "float32",
         "shape": [
          2
         ]
        }
       ]
      }
     },
     "094d790e8f404d4b846c0d430a69a3ae": {
      "buffers": [
       {
        "data": "mfK5vSaMCT4=",
        "encoding": "base64",
        "path": [
         "x",
         0,
         "data"
        ]
       },
       {
        "data": "4YB7P4+4ez8=",
        "encoding": "base64",
        "path": [
         "y",
         0,
         "data"
        ]
       },
       {
        "data": "GPAmPqq6+70=",
        "encoding": "base64",
        "path": [
         "z",
         0,
         "data"
        ]
       }
      ],
      "model_module": "ipyvolume",
      "model_module_version": "~0.5.2",
      "model_name": "ScatterModel",
      "state": {
       "color": "green",
       "color_selected": null,
       "connected": true,
       "line_material": "IPY_MODEL_f3f471e3e3824bda9d336a68fb8655fd",
       "material": "IPY_MODEL_1b96a64f62254193acd3f707e30600e2",
       "size": 1,
       "size_selected": 1,
       "texture": null,
       "vx": null,
       "vy": null,
       "vz": null,
       "x": [
        {
         "data": {},
         "dtype": "float32",
         "shape": [
          2
         ]
        }
       ],
       "y": [
        {
         "data": {},
         "dtype": "float32",
         "shape": [
          2
         ]
        }
       ],
       "z": [
        {
         "data": {},
         "dtype": "float32",
         "shape": [
          2
         ]
        }
       ]
      }
     },
     "0c2d1846fe2c449a983b442bf0ea3338": {
      "model_module": "jupyter-threejs",
      "model_module_version": "^2.1.0",
      "model_name": "ShaderMaterialModel",
      "state": {
       "_view_module": null,
       "_view_module_version": ""
      }
     },
     "0c85acfeadcb4df7a56982f44d304cb3": {
      "model_module": "jupyter-threejs",
      "model_module_version": "^2.1.0",
      "model_name": "SceneModel",
      "state": {
       "_view_module": null,
       "_view_module_version": "",
       "background": null
      }
     },
     "0e68987acc3941baa4816597b61fd65b": {
      "buffers": [
       {
        "data": "fzUJPwnv8r4=",
        "encoding": "base64",
        "path": [
         "x",
         0,
         "data"
        ]
       },
       {
        "data": "mzUUP7Wbtj4=",
        "encoding": "base64",
        "path": [
         "y",
         0,
         "data"
        ]
       },
       {
        "data": "HU0dv9EFTr8=",
        "encoding": "base64",
        "path": [
         "z",
         0,
         "data"
        ]
       }
      ],
      "model_module": "ipyvolume",
      "model_module_version": "~0.5.2",
      "model_name": "ScatterModel",
      "state": {
       "color_selected": null,
       "connected": true,
       "line_material": "IPY_MODEL_5995d9b2759b4e939f4535aa5f1607b9",
       "material": "IPY_MODEL_8fa3d894d6c04528bb20787f763d89ed",
       "size": 1,
       "size_selected": 1,
       "texture": null,
       "vx": null,
       "vy": null,
       "vz": null,
       "x": [
        {
         "data": {},
         "dtype": "float32",
         "shape": [
          2
         ]
        }
       ],
       "y": [
        {
         "data": {},
         "dtype": "float32",
         "shape": [
          2
         ]
        }
       ],
       "z": [
        {
         "data": {},
         "dtype": "float32",
         "shape": [
          2
         ]
        }
       ]
      }
     },
     "0fb342a4738f4a6f834484d715265dda": {
      "model_module": "jupyter-threejs",
      "model_module_version": "^2.1.0",
      "model_name": "ShaderMaterialModel",
      "state": {
       "_view_module": null,
       "_view_module_version": ""
      }
     },
     "0fcfb45589b04e9b922642ba6aca3b30": {
      "model_module": "jupyter-threejs",
      "model_module_version": "^2.1.0",
      "model_name": "SceneModel",
      "state": {
       "_view_module": null,
       "_view_module_version": "",
       "background": null
      }
     },
     "113407f8634343928dbddb9f77b79447": {
      "model_module": "@jupyter-widgets/base",
      "model_module_version": "1.2.0",
      "model_name": "LayoutModel",
      "state": {}
     },
     "1296631b32a64d8caac6deaea12b8714": {
      "model_module": "@jupyter-widgets/controls",
      "model_module_version": "1.5.0",
      "model_name": "VBoxModel",
      "state": {
       "children": [
        "IPY_MODEL_2214a2154b234289a0fe9f0a06dc1a1d"
       ],
       "layout": "IPY_MODEL_40a95158edf6406aaeff2bfd8eb75e84"
      }
     },
     "13ba432f83ff4329b9cb6d8cbf92a65f": {
      "buffers": [
       {
        "data": "EWfFvj20lz4=",
        "encoding": "base64",
        "path": [
         "x",
         0,
         "data"
        ]
       },
       {
        "data": "F2tkP00HZD8=",
        "encoding": "base64",
        "path": [
         "y",
         0,
         "data"
        ]
       },
       {
        "data": "+qJwvnZ4sD4=",
        "encoding": "base64",
        "path": [
         "z",
         0,
         "data"
        ]
       }
      ],
      "model_module": "ipyvolume",
      "model_module_version": "~0.5.2",
      "model_name": "ScatterModel",
      "state": {
       "color": "green",
       "color_selected": null,
       "connected": true,
       "line_material": "IPY_MODEL_61b5f248d4044e579f5c6d659a9b4782",
       "material": "IPY_MODEL_aa980ef01cc14e789d6d8d70735beab0",
       "size": 1,
       "size_selected": 1,
       "texture": null,
       "vx": null,
       "vy": null,
       "vz": null,
       "x": [
        {
         "data": {},
         "dtype": "float32",
         "shape": [
          2
         ]
        }
       ],
       "y": [
        {
         "data": {},
         "dtype": "float32",
         "shape": [
          2
         ]
        }
       ],
       "z": [
        {
         "data": {},
         "dtype": "float32",
         "shape": [
          2
         ]
        }
       ]
      }
     },
     "14f34d0efe11482f99f69822f6da8dc1": {
      "buffers": [
       {
        "data": "nUVkPwkLDz8=",
        "encoding": "base64",
        "path": [
         "x",
         0,
         "data"
        ]
       },
       {
        "data": "0xrkPsLcPD8=",
        "encoding": "base64",
        "path": [
         "y",
         0,
         "data"
        ]
       },
       {
        "data": "jvKjvUL3wb4=",
        "encoding": "base64",
        "path": [
         "z",
         0,
         "data"
        ]
       }
      ],
      "model_module": "ipyvolume",
      "model_module_version": "~0.5.2",
      "model_name": "ScatterModel",
      "state": {
       "geo": "sphere",
       "line_material": "IPY_MODEL_7b31349c8a1d42eda8f271e88f665e3a",
       "material": "IPY_MODEL_573c567fd06b47c3b3fda35ce165ba38",
       "size": 1,
       "size_selected": 2.6,
       "texture": null,
       "vx": null,
       "vy": null,
       "vz": null,
       "x": [
        {
         "data": {},
         "dtype": "float32",
         "shape": [
          2
         ]
        }
       ],
       "y": [
        {
         "data": {},
         "dtype": "float32",
         "shape": [
          2
         ]
        }
       ],
       "z": [
        {
         "data": {},
         "dtype": "float32",
         "shape": [
          2
         ]
        }
       ]
      }
     },
     "150abbafbe2a462db01a9e6d3aa584b7": {
      "model_module": "jupyter-threejs",
      "model_module_version": "^2.1.0",
      "model_name": "ShaderMaterialModel",
      "state": {
       "_view_module": null,
       "_view_module_version": ""
      }
     },
     "167c2bb05db7461ebcb40c1baadd420d": {
      "model_module": "jupyter-threejs",
      "model_module_version": "^2.1.0",
      "model_name": "ShaderMaterialModel",
      "state": {
       "_view_module": null,
       "_view_module_version": ""
      }
     },
     "187feb9feb014d64b84ae0ccd8b29c5b": {
      "model_module": "jupyter-threejs",
      "model_module_version": "^2.1.0",
      "model_name": "ShaderMaterialModel",
      "state": {
       "_view_module": null,
       "_view_module_version": "",
       "visible": false
      }
     },
     "1ade075d1414468dbf17d9402e454633": {
      "model_module": "@jupyter-widgets/controls",
      "model_module_version": "1.5.0",
      "model_name": "VBoxModel",
      "state": {
       "children": [
        "IPY_MODEL_22a59884c2554b099dc18efd38872b0e"
       ],
       "layout": "IPY_MODEL_25e42c22ce9142639da8d25c192c0c0e"
      }
     },
     "1b96a64f62254193acd3f707e30600e2": {
      "model_module": "jupyter-threejs",
      "model_module_version": "^2.1.0",
      "model_name": "ShaderMaterialModel",
      "state": {
       "_view_module": null,
       "_view_module_version": "",
       "visible": false
      }
     },
     "1bd6648186a2423db1731ce07eddbfb5": {
      "buffers": [
       {
        "data": "nUVkPwkLDz+2iSU/czRdvuciyT4h5bs9Ce/yvqXlpD7o0mG+9cywPg==",
        "encoding": "base64",
        "path": [
         "x",
         0,
         "data"
        ]
       },
       {
        "data": "0xrkPsLcPD9iADU/UUJwP7NcZT++tXQ/tZu2PqNFbz+EDnk/GlxXPw==",
        "encoding": "base64",
        "path": [
         "y",
         0,
         "data"
        ]
       },
       {
        "data": "jvKjvUL3wb5GlZK+qOOJvpM6VL402Y6+0QVOvwVBGr4e/o69Vf7Uvg==",
        "encoding": "base64",
        "path": [
         "z",
         0,
         "data"
        ]
       }
      ],
      "model_module": "ipyvolume",
      "model_module_version": "~0.5.2",
      "model_name": "ScatterModel",
      "state": {
       "geo": "sphere",
       "line_material": "IPY_MODEL_6a411bd60f4f460eb774fc178b0b149c",
       "material": "IPY_MODEL_9850add24a8e435088912498469c6da9",
       "size": 1,
       "size_selected": 2.6,
       "texture": null,
       "vx": null,
       "vy": null,
       "vz": null,
       "x": [
        {
         "data": {},
         "dtype": "float32",
         "shape": [
          10
         ]
        }
       ],
       "y": [
        {
         "data": {},
         "dtype": "float32",
         "shape": [
          10
         ]
        }
       ],
       "z": [
        {
         "data": {},
         "dtype": "float32",
         "shape": [
          10
         ]
        }
       ]
      }
     },
     "200f0a280e2a4ae0ac82e5528e4c04f8": {
      "model_module": "jupyter-threejs",
      "model_module_version": "^2.1.0",
      "model_name": "ShaderMaterialModel",
      "state": {
       "_view_module": null,
       "_view_module_version": "",
       "visible": false
      }
     },
     "20dd87e78668411bad4176d3b0735bda": {
      "model_module": "ipyvolume",
      "model_module_version": "~0.5.2",
      "model_name": "FigureModel",
      "state": {
       "camera": "IPY_MODEL_3762974fb6134db68712afd33c2aca7b",
       "capture_fps": null,
       "height": 500,
       "layout": "IPY_MODEL_385c549a7d1443d88289297edead483d",
       "matrix_projection": [
        2.3558523658237527,
        0,
        0,
        0,
        0,
        2.3558523658237527,
        0,
        0,
        0,
        0,
        -1.00010000500025,
        -1,
        0,
        0,
        -0.200010000500025,
        0
       ],
       "matrix_world": [
        0.38707299577312154,
        0.09963508667725832,
        0.3004119595589301,
        0,
        -0.2748837706971734,
        -0.12941542922392357,
        0.3971027062185441,
        0,
        0.1568866104883548,
        -0.4725722126634222,
        -0.04541029913876804,
        0,
        -9.714451465470115e-17,
        3.1918911957973236e-16,
        -1.9999999999999984,
        0.9999999999999998
       ],
       "meshes": [],
       "scatters": [
        "IPY_MODEL_d7af4ac1a5684cfb827a50191167b205",
        "IPY_MODEL_afac13c1eaa049ddacae11a672fded37",
        "IPY_MODEL_46ee01b920fa47e8822349d33252b707",
        "IPY_MODEL_084ffc2a088a40fdaf3d0888da47cc49",
        "IPY_MODEL_f90456e7fbe44f58a93df5d5b494274c"
       ],
       "scene": "IPY_MODEL_dc648f4c013942aca26a42095ca29eea",
       "volumes": [],
       "xlim": [
        -1,
        1
       ],
       "ylim": [
        -1,
        1
       ],
       "zlim": [
        -1,
        1
       ]
      }
     },
     "213294c646e9439e8dc0bcdc10bca6ef": {
      "model_module": "jupyter-threejs",
      "model_module_version": "^2.1.0",
      "model_name": "ShaderMaterialModel",
      "state": {
       "_view_module": null,
       "_view_module_version": ""
      }
     },
     "2214a2154b234289a0fe9f0a06dc1a1d": {
      "model_module": "ipyvolume",
      "model_module_version": "~0.5.2",
      "model_name": "FigureModel",
      "state": {
       "camera": "IPY_MODEL_4a277be592e843ddbfadfccadb1598b6",
       "capture_fps": null,
       "height": 500,
       "layout": "IPY_MODEL_113407f8634343928dbddb9f77b79447",
       "matrix_projection": [
        2.3558523658237527,
        0,
        0,
        0,
        0,
        2.3558523658237527,
        0,
        0,
        0,
        0,
        -1.00010000500025,
        -1,
        0,
        0,
        -0.200010000500025,
        0
       ],
       "matrix_world": [
        0.27451644860308616,
        -0.3341574501467299,
        0.2509572034387236,
        0,
        -0.10154253767812504,
        0.23792482530130882,
        0.4278795280768037,
        0,
        -0.4053761617167883,
        -0.28588559952676423,
        0.06276616520854898,
        0,
        3.608224830031758e-16,
        1.52655665885959e-16,
        -2.0000000000000084,
        1.0000000000000002
       ],
       "meshes": [],
       "scatters": [
        "IPY_MODEL_7c8527039cbf4f48ba0f8b4eceed9f0c",
        "IPY_MODEL_415f0a6dcee441c4b7126043b6c1d185",
        "IPY_MODEL_b1b80091ec29448b90c604db59e5741a",
        "IPY_MODEL_53fb9d180afd4db2ad4bcc8f9e3d6b50",
        "IPY_MODEL_b2e2ab02e5254b03a34a41c1b9a5341d",
        "IPY_MODEL_69a123a422f14e3a99e4664bdabcda0e",
        "IPY_MODEL_accbd8852de24f7bb767dffc777b254e",
        "IPY_MODEL_0e68987acc3941baa4816597b61fd65b",
        "IPY_MODEL_af7dd7b9d32244b18738b90b008bbdd7",
        "IPY_MODEL_05db192c8f68454d904e666ccc06ef58",
        "IPY_MODEL_01481815ad2540f4b3d00bec357c0c49",
        "IPY_MODEL_1bd6648186a2423db1731ce07eddbfb5"
       ],
       "scene": "IPY_MODEL_0c85acfeadcb4df7a56982f44d304cb3",
       "volumes": [],
       "xlim": [
        -1,
        1
       ],
       "ylim": [
        -1,
        1
       ],
       "zlim": [
        -1,
        1
       ]
      }
     },
     "22a59884c2554b099dc18efd38872b0e": {
      "model_module": "ipyvolume",
      "model_module_version": "~0.5.2",
      "model_name": "FigureModel",
      "state": {
       "camera": "IPY_MODEL_f1d45a97e9004398906e8d7b69e77a73",
       "capture_fps": null,
       "height": 500,
       "layout": "IPY_MODEL_3df66f4d01174c2d83567968ebb54198",
       "matrix_projection": [
        2.3558523658237527,
        0,
        0,
        0,
        0,
        2.3558523658237527,
        0,
        0,
        0,
        0,
        -1.00010000500025,
        -1,
        0,
        0,
        -0.200010000500025,
        0
       ],
       "matrix_world": [
        0.4817968355506383,
        -0.10842084359312698,
        -0.07820952581333027,
        0,
        0.13200628900369415,
        0.3396191452386091,
        0.34239330579155575,
        0,
        -0.021122237496639634,
        -0.3505763210228998,
        0.3558793253635062,
        0,
        2.7755575615628914e-17,
        3.3306690738754696e-16,
        -1.9999999999999993,
        1.0000000000000002
       ],
       "meshes": [],
       "scatters": [
        "IPY_MODEL_72b15426e3c4424fb7381da6be327fd0"
       ],
       "scene": "IPY_MODEL_cd261ca35b8b4606a43e491c13fd3259",
       "volumes": [],
       "xlim": [
        -1,
        1
       ],
       "ylim": [
        -1,
        1
       ],
       "zlim": [
        -1,
        1
       ]
      }
     },
     "22d9e0a83d8244118b1fb47d3d089f10": {
      "model_module": "jupyter-threejs",
      "model_module_version": "^2.1.0",
      "model_name": "ShaderMaterialModel",
      "state": {
       "_view_module": null,
       "_view_module_version": "",
       "visible": false
      }
     },
     "22ff05efba6640639e0d82bae22b547b": {
      "model_module": "@jupyter-widgets/base",
      "model_module_version": "1.2.0",
      "model_name": "LayoutModel",
      "state": {}
     },
     "25e42c22ce9142639da8d25c192c0c0e": {
      "model_module": "@jupyter-widgets/base",
      "model_module_version": "1.2.0",
      "model_name": "LayoutModel",
      "state": {}
     },
     "26e4b9fdc7ba4120b700312f8f34f939": {
      "model_module": "jupyter-threejs",
      "model_module_version": "^2.1.0",
      "model_name": "ShaderMaterialModel",
      "state": {
       "_view_module": null,
       "_view_module_version": ""
      }
     },
     "2709626e98b241a59f67a723866bf85a": {
      "model_module": "jupyter-threejs",
      "model_module_version": "^2.1.0",
      "model_name": "ShaderMaterialModel",
      "state": {
       "_view_module": null,
       "_view_module_version": ""
      }
     },
     "2717848f5f874bf18cc43432bb675f92": {
      "model_module": "jupyter-threejs",
      "model_module_version": "^2.1.0",
      "model_name": "ShaderMaterialModel",
      "state": {
       "_view_module": null,
       "_view_module_version": ""
      }
     },
     "29011a105f314ce5803b536a1b4fcbce": {
      "model_module": "jupyter-threejs",
      "model_module_version": "^2.1.0",
      "model_name": "ShaderMaterialModel",
      "state": {
       "_view_module": null,
       "_view_module_version": ""
      }
     },
     "2995ed7075a8468381e46e76f8d959f5": {
      "model_module": "jupyter-threejs",
      "model_module_version": "^2.1.0",
      "model_name": "ShaderMaterialModel",
      "state": {
       "_view_module": null,
       "_view_module_version": ""
      }
     },
     "2b60969aa7e04ee482be1c50b559ee4e": {
      "model_module": "ipyvolume",
      "model_module_version": "~0.5.2",
      "model_name": "FigureModel",
      "state": {
       "camera": "IPY_MODEL_c062200ef9544d03ac2c6008f245aa89",
       "capture_fps": null,
       "height": 500,
       "layout": "IPY_MODEL_2f0458ba13b4493f93428ce2817bc278",
       "matrix_projection": [
        2.3558523658237527,
        0,
        0,
        0,
        0,
        2.3558523658237527,
        0,
        0,
        0,
        0,
        -1.00010000500025,
        -1,
        0,
        0,
        -0.200010000500025,
        0
       ],
       "matrix_world": [
        0.3535421853486243,
        -0.2609762311772507,
        0.23853580431339252,
        0,
        -0.09017249060521315,
        0.2596200077419391,
        0.41769172067222987,
        0,
        -0.34187255683510437,
        -0.3383620226038873,
        0.13650749628659464,
        0,
        2.7755575615628904e-16,
        6.106226635438358e-16,
        -2,
        1
       ],
       "meshes": [],
       "scatters": [
        "IPY_MODEL_d6c5b1f6c1ba47649215c08b81058420",
        "IPY_MODEL_c6fb80ea00a146448de233e55927b6f2",
        "IPY_MODEL_b76adbd8e0f24d43b1e37e8d62a63ddc",
        "IPY_MODEL_98b44335e5cf4b8b992c3d0a1a557ccf",
        "IPY_MODEL_7b5e16e95c9040c8abf77b79fda24dfa",
        "IPY_MODEL_704a23aced3b4fb49d0e136b381deafe",
        "IPY_MODEL_14f34d0efe11482f99f69822f6da8dc1"
       ],
       "scene": "IPY_MODEL_0709a1f847514f2bb776bb3384949215",
       "volumes": [],
       "xlim": [
        -1,
        1
       ],
       "ylim": [
        -1,
        1
       ],
       "zlim": [
        -1,
        1
       ]
      }
     },
     "2b79ed1c58314802bda4404b2c5a5627": {
      "model_module": "jupyter-threejs",
      "model_module_version": "^2.1.0",
      "model_name": "ShaderMaterialModel",
      "state": {
       "_view_module": null,
       "_view_module_version": "",
       "visible": false
      }
     },
     "2f0458ba13b4493f93428ce2817bc278": {
      "model_module": "@jupyter-widgets/base",
      "model_module_version": "1.2.0",
      "model_name": "LayoutModel",
      "state": {}
     },
     "2f1891ad4eae4bf695093e45516fd040": {
      "model_module": "jupyter-threejs",
      "model_module_version": "^2.1.0",
      "model_name": "ShaderMaterialModel",
      "state": {
       "_view_module": null,
       "_view_module_version": "",
       "visible": false
      }
     },
     "321e6abe43d54d759125bd272a59cdbe": {
      "model_module": "jupyter-threejs",
      "model_module_version": "^2.1.0",
      "model_name": "ShaderMaterialModel",
      "state": {
       "_view_module": null,
       "_view_module_version": "",
       "visible": false
      }
     },
     "3473203923744839a0ef455c51d155cc": {
      "model_module": "jupyter-threejs",
      "model_module_version": "^2.1.0",
      "model_name": "ShaderMaterialModel",
      "state": {
       "_view_module": null,
       "_view_module_version": "",
       "visible": false
      }
     },
     "3762974fb6134db68712afd33c2aca7b": {
      "model_module": "jupyter-threejs",
      "model_module_version": "^2.1.0",
      "model_name": "PerspectiveCameraModel",
      "state": {
       "_view_module": null,
       "_view_module_version": "",
       "fov": 46,
       "matrix": [
        0.7741459915462431,
        -0.549767541394347,
        0.3137732209767099,
        0,
        0.1992701733545168,
        -0.2588308584478476,
        -0.9451444253268448,
        0,
        0.6008239191178603,
        0.7942054124370885,
        -0.0908205982775363,
        0,
        1.2016478382357194,
        1.5884108248741757,
        -0.18164119655507172,
        1
       ],
       "matrixWorld": [
        0.7741459915462431,
        -0.549767541394347,
        0.3137732209767099,
        0,
        0.1992701733545168,
        -0.2588308584478476,
        -0.9451444253268448,
        0,
        0.6008239191178603,
        0.7942054124370885,
        -0.0908205982775363,
        0,
        1.2016478382357194,
        1.5884108248741757,
        -0.18164119655507172,
        1
       ],
       "matrixWorldInverse": [
        0.7741459915462432,
        0.19927017335451666,
        0.60082391911786,
        0,
        -0.5497675413943468,
        -0.2588308584478474,
        0.794205412437088,
        0,
        0.31377322097670984,
        -0.9451444253268442,
        -0.09082059827753619,
        0,
        -1.144917494144692e-16,
        6.938893903907223e-16,
        -1.999999999999998,
        1
       ],
       "matrixWorldNeedsUpdate": true,
       "position": [
        1.2016478382357194,
        1.5884108248741757,
        -0.18164119655507172
       ],
       "projectionMatrix": [
        2.3558523658237527,
        0,
        0,
        0,
        0,
        2.3558523658237527,
        0,
        0,
        0,
        0,
        -1.00010000500025,
        -1,
        0,
        0,
        -0.200010000500025,
        0
       ],
       "quaternion": [
        -0.7286627217498551,
        0.12025363641429483,
        -0.31379303235734385,
        0.5967609518938174
       ],
       "rotation": [
        -1.684655779185052,
        0.6445314059399322,
        -0.25193720277207,
        "XYZ"
       ],
       "up": [
        0.1992701733545168,
        -0.2588308584478473,
        -0.9451444253268448
       ]
      }
     },
     "384f1e54258b4c059204dfa13abd9b93": {
      "model_module": "jupyter-threejs",
      "model_module_version": "^2.1.0",
      "model_name": "ShaderMaterialModel",
      "state": {
       "_view_module": null,
       "_view_module_version": "",
       "visible": false
      }
     },
     "385c549a7d1443d88289297edead483d": {
      "model_module": "@jupyter-widgets/base",
      "model_module_version": "1.2.0",
      "model_name": "LayoutModel",
      "state": {}
     },
     "3878d985b89f4e4eb8605c330892e74a": {
      "model_module": "jupyter-threejs",
      "model_module_version": "^2.1.0",
      "model_name": "ShaderMaterialModel",
      "state": {
       "_view_module": null,
       "_view_module_version": ""
      }
     },
     "390125a910304b599fbb2883b32e0e9f": {
      "model_module": "jupyter-threejs",
      "model_module_version": "^2.1.0",
      "model_name": "ShaderMaterialModel",
      "state": {
       "_view_module": null,
       "_view_module_version": "",
       "visible": false
      }
     },
     "396dd496d57840419ed48fbc0c0ddd2a": {
      "model_module": "ipyvolume",
      "model_module_version": "~0.5.2",
      "model_name": "FigureModel",
      "state": {
       "camera": "IPY_MODEL_b3dc752c0335405caa59230f51a7c5e5",
       "capture_fps": null,
       "height": 500,
       "layout": "IPY_MODEL_d814311a96c145e0b68537833de92eb5",
       "matrix_projection": [
        2.3558523658237527,
        0,
        0,
        0,
        0,
        2.3558523658237527,
        0,
        0,
        0,
        0,
        -1.00010000500025,
        -1,
        0,
        0,
        -0.200010000500025,
        0
       ],
       "matrix_world": [
        0.19987349775884997,
        0.3220752375112381,
        -0.326064604450901,
        0,
        0.03535408613494275,
        0.3438278776743048,
        0.3612927886459213,
        0,
        0.4569471232945952,
        -0.16748113898604478,
        0.11467080969772171,
        0,
        2.775557561562891e-16,
        -1.1102230246251563e-16,
        -2.0000000000000235,
        1
       ],
       "meshes": [],
       "scatters": [
        "IPY_MODEL_3c02c9474c1643dfb19f2043781a81b1",
        "IPY_MODEL_714cb90c8d1746f79f02292d579555e8",
        "IPY_MODEL_0585d491ae9043c699484fa109229676",
        "IPY_MODEL_094d790e8f404d4b846c0d430a69a3ae",
        "IPY_MODEL_e978d8927cf741ce9c52093fcf87bfe4",
        "IPY_MODEL_616c5ea9619f43f4a9da265032e8f9f2",
        "IPY_MODEL_e978b1c964274e5ab4acdcc595e91f77",
        "IPY_MODEL_78e8c7c506a7416294f047020b998ad7",
        "IPY_MODEL_ed1d51ac76c74c54b62240339ec63fc0",
        "IPY_MODEL_13ba432f83ff4329b9cb6d8cbf92a65f",
        "IPY_MODEL_81bde13bec4f42258ada9588415bf095",
        "IPY_MODEL_f47206dcb6d04a6989712249b4caa10c",
        "IPY_MODEL_857167235501492c8800b3958a71bb51",
        "IPY_MODEL_f514de25225a4110b47b5e48b47ca186",
        "IPY_MODEL_7b96cbcb33ea4c628e12605db5a67fd9",
        "IPY_MODEL_3a42d68b8ce54052b56ecace63bcdd2d",
        "IPY_MODEL_3f846747c3fb45099f8d3bdced556811",
        "IPY_MODEL_c42ea70a746645c08310e72ed2b48e4c",
        "IPY_MODEL_b85025ead0704595833217a80dd41d58",
        "IPY_MODEL_5c3ce4347d714728a57b4e33aff93807",
        "IPY_MODEL_9a2c825ff73b49afa1500bbcda48b149",
        "IPY_MODEL_f994e62c928147f1b2d9520aba81a205",
        "IPY_MODEL_e8fb49d4eae646d88ec4576793add632"
       ],
       "scene": "IPY_MODEL_0fcfb45589b04e9b922642ba6aca3b30",
       "volumes": [],
       "xlim": [
        -1,
        1
       ],
       "ylim": [
        -1,
        1
       ],
       "zlim": [
        -1,
        1
       ]
      }
     },
     "39a680cdec554d66abbee11bd9c73c92": {
      "model_module": "jupyter-threejs",
      "model_module_version": "^2.1.0",
      "model_name": "ShaderMaterialModel",
      "state": {
       "_view_module": null,
       "_view_module_version": ""
      }
     },
     "3a42d68b8ce54052b56ecace63bcdd2d": {
      "buffers": [
       {
        "data": "6pzOPnM0Xb4=",
        "encoding": "base64",
        "path": [
         "x",
         0,
         "data"
        ]
       },
       {
        "data": "1zBqP1FCcD8=",
        "encoding": "base64",
        "path": [
         "y",
         0,
         "data"
        ]
       },
       {
        "data": "f3SJvKjjib4=",
        "encoding": "base64",
        "path": [
         "z",
         0,
         "data"
        ]
       }
      ],
      "model_module": "ipyvolume",
      "model_module_version": "~0.5.2",
      "model_name": "ScatterModel",
      "state": {
       "color_selected": null,
       "connected": true,
       "line_material": "IPY_MODEL_8016674e74424ecfabade938fc8c1090",
       "material": "IPY_MODEL_4a6a4afe88a64e8eb38f88431e907dfa",
       "size": 1,
       "size_selected": 1,
       "texture": null,
       "vx": null,
       "vy": null,
       "vz": null,
       "x": [
        {
         "data": {},
         "dtype": "float32",
         "shape": [
          2
         ]
        }
       ],
       "y": [
        {
         "data": {},
         "dtype": "float32",
         "shape": [
          2
         ]
        }
       ],
       "z": [
        {
         "data": {},
         "dtype": "float32",
         "shape": [
          2
         ]
        }
       ]
      }
     },
     "3c02c9474c1643dfb19f2043781a81b1": {
      "buffers": [
       {
        "data": "K8lXPYaxSL+Z8rm9lkvCvmvX4T446yw+fzUJP+v/Ir0RZ8W+yd+Hvg==",
        "encoding": "base64",
        "path": [
         "x",
         0,
         "data"
        ]
       },
       {
        "data": "7eF6PxujDT/hgHs/VgpqPzuvrT7p5XU/mzUUP/LaDT8Xa2Q/KLt2Pw==",
        "encoding": "base64",
        "path": [
         "y",
         0,
         "data"
        ]
       },
       {
        "data": "kHNEPmgukD4Y8CY+NYQRPm60VD8yUmK+HU0dvx3cVL/6onC+HA3VvA==",
        "encoding": "base64",
        "path": [
         "z",
         0,
         "data"
        ]
       }
      ],
      "model_module": "ipyvolume",
      "model_module_version": "~0.5.2",
      "model_name": "ScatterModel",
      "state": {
       "color": "blue",
       "geo": "sphere",
       "line_material": "IPY_MODEL_41c8ba1005cf4e59954591590b632ed4",
       "material": "IPY_MODEL_39a680cdec554d66abbee11bd9c73c92",
       "size": 1,
       "size_selected": 2.6,
       "texture": null,
       "vx": null,
       "vy": null,
       "vz": null,
       "x": [
        {
         "data": {},
         "dtype": "float32",
         "shape": [
          10
         ]
        }
       ],
       "y": [
        {
         "data": {},
         "dtype": "float32",
         "shape": [
          10
         ]
        }
       ],
       "z": [
        {
         "data": {},
         "dtype": "float32",
         "shape": [
          10
         ]
        }
       ]
      }
     },
     "3df66f4d01174c2d83567968ebb54198": {
      "model_module": "@jupyter-widgets/base",
      "model_module_version": "1.2.0",
      "model_name": "LayoutModel",
      "state": {}
     },
     "3f846747c3fb45099f8d3bdced556811": {
      "buffers": [
       {
        "data": "jTswvuciyT4=",
        "encoding": "base64",
        "path": [
         "x",
         0,
         "data"
        ]
       },
       {
        "data": "byywPrNcZT8=",
        "encoding": "base64",
        "path": [
         "y",
         0,
         "data"
        ]
       },
       {
        "data": "q0tsv5M6VL4=",
        "encoding": "base64",
        "path": [
         "z",
         0,
         "data"
        ]
       }
      ],
      "model_module": "ipyvolume",
      "model_module_version": "~0.5.2",
      "model_name": "ScatterModel",
      "state": {
       "color_selected": null,
       "connected": true,
       "line_material": "IPY_MODEL_213294c646e9439e8dc0bcdc10bca6ef",
       "material": "IPY_MODEL_390125a910304b599fbb2883b32e0e9f",
       "size": 1,
       "size_selected": 1,
       "texture": null,
       "vx": null,
       "vy": null,
       "vz": null,
       "x": [
        {
         "data": {},
         "dtype": "float32",
         "shape": [
          2
         ]
        }
       ],
       "y": [
        {
         "data": {},
         "dtype": "float32",
         "shape": [
          2
         ]
        }
       ],
       "z": [
        {
         "data": {},
         "dtype": "float32",
         "shape": [
          2
         ]
        }
       ]
      }
     },
     "40a95158edf6406aaeff2bfd8eb75e84": {
      "model_module": "@jupyter-widgets/base",
      "model_module_version": "1.2.0",
      "model_name": "LayoutModel",
      "state": {}
     },
     "415f0a6dcee441c4b7126043b6c1d185": {
      "buffers": [
       {
        "data": "K8lXPZ1FZD8=",
        "encoding": "base64",
        "path": [
         "x",
         0,
         "data"
        ]
       },
       {
        "data": "7eF6P9Ma5D4=",
        "encoding": "base64",
        "path": [
         "y",
         0,
         "data"
        ]
       },
       {
        "data": "kHNEPo7yo70=",
        "encoding": "base64",
        "path": [
         "z",
         0,
         "data"
        ]
       }
      ],
      "model_module": "ipyvolume",
      "model_module_version": "~0.5.2",
      "model_name": "ScatterModel",
      "state": {
       "color_selected": null,
       "connected": true,
       "line_material": "IPY_MODEL_6fe6409d6f8a477c9fb6767ddd084125",
       "material": "IPY_MODEL_2b79ed1c58314802bda4404b2c5a5627",
       "size": 1,
       "size_selected": 1,
       "texture": null,
       "vx": null,
       "vy": null,
       "vz": null,
       "x": [
        {
         "data": {},
         "dtype": "float32",
         "shape": [
          2
         ]
        }
       ],
       "y": [
        {
         "data": {},
         "dtype": "float32",
         "shape": [
          2
         ]
        }
       ],
       "z": [
        {
         "data": {},
         "dtype": "float32",
         "shape": [
          2
         ]
        }
       ]
      }
     },
     "41c8ba1005cf4e59954591590b632ed4": {
      "model_module": "jupyter-threejs",
      "model_module_version": "^2.1.0",
      "model_name": "ShaderMaterialModel",
      "state": {
       "_view_module": null,
       "_view_module_version": ""
      }
     },
     "420b3c5460c240c089db04a100db951d": {
      "model_module": "jupyter-threejs",
      "model_module_version": "^2.1.0",
      "model_name": "ShaderMaterialModel",
      "state": {
       "_view_module": null,
       "_view_module_version": "",
       "visible": false
      }
     },
     "445cebe35543401fb5f92c7f8fd421b4": {
      "model_module": "jupyter-threejs",
      "model_module_version": "^2.1.0",
      "model_name": "ShaderMaterialModel",
      "state": {
       "_view_module": null,
       "_view_module_version": ""
      }
     },
     "46ee01b920fa47e8822349d33252b707": {
      "buffers": [
       {
        "data": "ZZjHOw==",
        "encoding": "base64",
        "path": [
         "x",
         0,
         "data"
        ]
       },
       {
        "data": "7Sh7Pw==",
        "encoding": "base64",
        "path": [
         "y",
         0,
         "data"
        ]
       },
       {
        "data": "FRVGvg==",
        "encoding": "base64",
        "path": [
         "z",
         0,
         "data"
        ]
       }
      ],
      "model_module": "ipyvolume",
      "model_module_version": "~0.5.2",
      "model_name": "ScatterModel",
      "state": {
       "color": "green",
       "geo": "sphere",
       "line_material": "IPY_MODEL_ac0402589a1b4ea1953055474d7f2fa4",
       "material": "IPY_MODEL_2717848f5f874bf18cc43432bb675f92",
       "size": 1,
       "size_selected": 2.6,
       "texture": null,
       "vx": null,
       "vy": null,
       "vz": null,
       "x": [
        {
         "data": {},
         "dtype": "float32",
         "shape": [
          1
         ]
        }
       ],
       "y": [
        {
         "data": {},
         "dtype": "float32",
         "shape": [
          1
         ]
        }
       ],
       "z": [
        {
         "data": {},
         "dtype": "float32",
         "shape": [
          1
         ]
        }
       ]
      }
     },
     "4a277be592e843ddbfadfccadb1598b6": {
      "model_module": "jupyter-threejs",
      "model_module_version": "^2.1.0",
      "model_name": "PerspectiveCameraModel",
      "state": {
       "_view_module": null,
       "_view_module_version": "",
       "fov": 46,
       "matrix": [
        0.5490328972061723,
        -0.2030850753562501,
        -0.8107523234335767,
        0,
        -0.6683149002934597,
        0.47584965060261764,
        -0.5717711990535286,
        0,
        0.5019144068774473,
        0.8557590561536075,
        0.125532330417098,
        0,
        1.0038288137548985,
        1.7115181123072218,
        0.25106466083419743,
        1
       ],
       "matrixWorld": [
        0.5490328972061723,
        -0.2030850753562501,
        -0.8107523234335767,
        0,
        -0.6683149002934597,
        0.47584965060261764,
        -0.5717711990535286,
        0,
        0.5019144068774473,
        0.8557590561536075,
        0.125532330417098,
        0,
        1.0038288137548985,
        1.7115181123072218,
        0.25106466083419743,
        1
       ],
       "matrixWorldInverse": [
        0.5490328972061723,
        -0.6683149002934597,
        0.5019144068774472,
        0,
        -0.20308507535625012,
        0.47584965060261764,
        0.8557590561536073,
        0,
        -0.8107523234335765,
        -0.5717711990535285,
        0.12553233041709794,
        0,
        3.885780586188047e-16,
        1.3877787807814454e-16,
        -2.0000000000000084,
        1
       ],
       "matrixWorldNeedsUpdate": true,
       "position": [
        1.0038288137548985,
        1.7115181123072218,
        0.25106466083419743
       ],
       "projectionMatrix": [
        2.3558523658237527,
        0,
        0,
        0,
        0,
        2.3558523658237527,
        0,
        0,
        0,
        0,
        -1.00010000500025,
        -1,
        0,
        0,
        -0.200010000500025,
        0
       ],
       "quaternion": [
        -0.4867368170239582,
        0.4475724586531625,
        0.15862674948468494,
        0.7332146476690656
       ],
       "rotation": [
        -1.4251439209543106,
        0.5258107565004846,
        0.8830715166945853,
        "XYZ"
       ],
       "up": [
        -0.6683149002934597,
        0.4758496506026177,
        -0.5717711990535286
       ]
      }
     },
     "4a2e006f135d4683a5ff053c2bf7a2cd": {
      "model_module": "jupyter-threejs",
      "model_module_version": "^2.1.0",
      "model_name": "ShaderMaterialModel",
      "state": {
       "_view_module": null,
       "_view_module_version": ""
      }
     },
     "4a6a4afe88a64e8eb38f88431e907dfa": {
      "model_module": "jupyter-threejs",
      "model_module_version": "^2.1.0",
      "model_name": "ShaderMaterialModel",
      "state": {
       "_view_module": null,
       "_view_module_version": "",
       "visible": false
      }
     },
     "4e764106a30e498b9e81a413db70f2d6": {
      "model_module": "jupyter-threejs",
      "model_module_version": "^2.1.0",
      "model_name": "ShaderMaterialModel",
      "state": {
       "_view_module": null,
       "_view_module_version": ""
      }
     },
     "53d78e1e1715412ba5b01932d95a44c8": {
      "model_module": "jupyter-threejs",
      "model_module_version": "^2.1.0",
      "model_name": "ShaderMaterialModel",
      "state": {
       "_view_module": null,
       "_view_module_version": ""
      }
     },
     "53fb9d180afd4db2ad4bcc8f9e3d6b50": {
      "buffers": [
       {
        "data": "mfK5vbaJJT8=",
        "encoding": "base64",
        "path": [
         "x",
         0,
         "data"
        ]
       },
       {
        "data": "4YB7P2IANT8=",
        "encoding": "base64",
        "path": [
         "y",
         0,
         "data"
        ]
       },
       {
        "data": "GPAmPkaVkr4=",
        "encoding": "base64",
        "path": [
         "z",
         0,
         "data"
        ]
       }
      ],
      "model_module": "ipyvolume",
      "model_module_version": "~0.5.2",
      "model_name": "ScatterModel",
      "state": {
       "color_selected": null,
       "connected": true,
       "line_material": "IPY_MODEL_79acd080cb3349988a2817b7191340b8",
       "material": "IPY_MODEL_fafe382e30d941c696da3520051df0d3",
       "size": 1,
       "size_selected": 1,
       "texture": null,
       "vx": null,
       "vy": null,
       "vz": null,
       "x": [
        {
         "data": {},
         "dtype": "float32",
         "shape": [
          2
         ]
        }
       ],
       "y": [
        {
         "data": {},
         "dtype": "float32",
         "shape": [
          2
         ]
        }
       ],
       "z": [
        {
         "data": {},
         "dtype": "float32",
         "shape": [
          2
         ]
        }
       ]
      }
     },
     "5412fec1c0de441487bcdf4f7af62668": {
      "model_module": "jupyter-threejs",
      "model_module_version": "^2.1.0",
      "model_name": "ShaderMaterialModel",
      "state": {
       "_view_module": null,
       "_view_module_version": ""
      }
     },
     "56808bdc212e45538ff234b99c25158a": {
      "model_module": "jupyter-threejs",
      "model_module_version": "^2.1.0",
      "model_name": "ShaderMaterialModel",
      "state": {
       "_view_module": null,
       "_view_module_version": "",
       "visible": false
      }
     },
     "56e679d63f2e4bd6a935e5fc3e621f46": {
      "model_module": "jupyter-threejs",
      "model_module_version": "^2.1.0",
      "model_name": "PerspectiveCameraModel",
      "state": {
       "_view_module": null,
       "_view_module_version": "",
       "fov": 46,
       "matrix": [
        1,
        0,
        0,
        0,
        0,
        1,
        -6.123233995736766e-17,
        0,
        0,
        6.123233995736766e-17,
        1,
        0,
        0,
        1.2246467991473532e-16,
        2,
        1
       ],
       "matrixWorld": [
        1,
        0,
        0,
        0,
        0,
        1,
        -6.123233995736766e-17,
        0,
        0,
        6.123233995736766e-17,
        1,
        0,
        0,
        1.2246467991473532e-16,
        2,
        1
       ],
       "matrixWorldInverse": [
        1,
        0,
        0,
        0,
        0,
        1,
        6.123233995736766e-17,
        0,
        0,
        -6.123233995736766e-17,
        1,
        0,
        0,
        0,
        -2,
        1
       ],
       "matrixWorldNeedsUpdate": true,
       "position": [
        0,
        1.2246467991473532e-16,
        2
       ],
       "projectionMatrix": [
        2.3558523658237527,
        0,
        0,
        0,
        0,
        2.3558523658237527,
        0,
        0,
        0,
        0,
        -1.00010000500025,
        -1,
        0,
        0,
        -0.200010000500025,
        0
       ],
       "quaternion": [
        -3.061616997868383e-17,
        0,
        0,
        1
       ],
       "rotation": [
        -6.123233995736766e-17,
        0,
        0,
        "XYZ"
       ],
       "up": [
        0,
        1,
        -6.123233995736766e-17
       ]
      }
     },
     "573c567fd06b47c3b3fda35ce165ba38": {
      "model_module": "jupyter-threejs",
      "model_module_version": "^2.1.0",
      "model_name": "ShaderMaterialModel",
      "state": {
       "_view_module": null,
       "_view_module_version": ""
      }
     },
     "584019a3c86c45ef9b4d424995f774a7": {
      "model_module": "jupyter-threejs",
      "model_module_version": "^2.1.0",
      "model_name": "ShaderMaterialModel",
      "state": {
       "_view_module": null,
       "_view_module_version": "",
       "visible": false
      }
     },
     "5995d9b2759b4e939f4535aa5f1607b9": {
      "model_module": "jupyter-threejs",
      "model_module_version": "^2.1.0",
      "model_name": "ShaderMaterialModel",
      "state": {
       "_view_module": null,
       "_view_module_version": ""
      }
     },
     "5c3ce4347d714728a57b4e33aff93807": {
      "buffers": [
       {
        "data": "sBJZvqXlpD4=",
        "encoding": "base64",
        "path": [
         "x",
         0,
         "data"
        ]
       },
       {
        "data": "hqgMP6NFbz8=",
        "encoding": "base64",
        "path": [
         "y",
         0,
         "data"
        ]
       },
       {
        "data": "h+VOPwVBGr4=",
        "encoding": "base64",
        "path": [
         "z",
         0,
         "data"
        ]
       }
      ],
      "model_module": "ipyvolume",
      "model_module_version": "~0.5.2",
      "model_name": "ScatterModel",
      "state": {
       "color_selected": null,
       "connected": true,
       "line_material": "IPY_MODEL_adab579198654813b3c5d54e796bff8d",
       "material": "IPY_MODEL_200f0a280e2a4ae0ac82e5528e4c04f8",
       "size": 1,
       "size_selected": 1,
       "texture": null,
       "vx": null,
       "vy": null,
       "vz": null,
       "x": [
        {
         "data": {},
         "dtype": "float32",
         "shape": [
          2
         ]
        }
       ],
       "y": [
        {
         "data": {},
         "dtype": "float32",
         "shape": [
          2
         ]
        }
       ],
       "z": [
        {
         "data": {},
         "dtype": "float32",
         "shape": [
          2
         ]
        }
       ]
      }
     },
     "5e9028bf7465494f9f688305cd7d26dc": {
      "model_module": "jupyter-threejs",
      "model_module_version": "^2.1.0",
      "model_name": "ShaderMaterialModel",
      "state": {
       "_view_module": null,
       "_view_module_version": ""
      }
     },
     "616c5ea9619f43f4a9da265032e8f9f2": {
      "buffers": [
       {
        "data": "a9fhPo07ML4=",
        "encoding": "base64",
        "path": [
         "x",
         0,
         "data"
        ]
       },
       {
        "data": "O6+tPm8ssD4=",
        "encoding": "base64",
        "path": [
         "y",
         0,
         "data"
        ]
       },
       {
        "data": "brRUP6tLbL8=",
        "encoding": "base64",
        "path": [
         "z",
         0,
         "data"
        ]
       }
      ],
      "model_module": "ipyvolume",
      "model_module_version": "~0.5.2",
      "model_name": "ScatterModel",
      "state": {
       "color": "green",
       "color_selected": null,
       "connected": true,
       "line_material": "IPY_MODEL_f09adbccbc2b4a8ebb14a5dca0c54d9a",
       "material": "IPY_MODEL_187feb9feb014d64b84ae0ccd8b29c5b",
       "size": 1,
       "size_selected": 1,
       "texture": null,
       "vx": null,
       "vy": null,
       "vz": null,
       "x": [
        {
         "data": {},
         "dtype": "float32",
         "shape": [
          2
         ]
        }
       ],
       "y": [
        {
         "data": {},
         "dtype": "float32",
         "shape": [
          2
         ]
        }
       ],
       "z": [
        {
         "data": {},
         "dtype": "float32",
         "shape": [
          2
         ]
        }
       ]
      }
     },
     "61b5f248d4044e579f5c6d659a9b4782": {
      "model_module": "jupyter-threejs",
      "model_module_version": "^2.1.0",
      "model_name": "ShaderMaterialModel",
      "state": {
       "_view_module": null,
       "_view_module_version": ""
      }
     },
     "62d42538be9b463e95a1464ee1682bab": {
      "model_module": "jupyter-threejs",
      "model_module_version": "^2.1.0",
      "model_name": "ShaderMaterialModel",
      "state": {
       "_view_module": null,
       "_view_module_version": ""
      }
     },
     "63448a8d3634450bb27ce8e8549982e0": {
      "model_module": "jupyter-threejs",
      "model_module_version": "^2.1.0",
      "model_name": "ShaderMaterialModel",
      "state": {
       "_view_module": null,
       "_view_module_version": "",
       "visible": false
      }
     },
     "63bdd83cae8343469e7e79492312e903": {
      "model_module": "jupyter-threejs",
      "model_module_version": "^2.1.0",
      "model_name": "ShaderMaterialModel",
      "state": {
       "_view_module": null,
       "_view_module_version": ""
      }
     },
     "664a7845a0ed4ec78228ab2c7c7432c1": {
      "model_module": "jupyter-threejs",
      "model_module_version": "^2.1.0",
      "model_name": "ShaderMaterialModel",
      "state": {
       "_view_module": null,
       "_view_module_version": "",
       "visible": false
      }
     },
     "673acd23f6be4204b87ac4fdfece28f6": {
      "model_module": "jupyter-threejs",
      "model_module_version": "^2.1.0",
      "model_name": "ShaderMaterialModel",
      "state": {
       "_view_module": null,
       "_view_module_version": ""
      }
     },
     "69a123a422f14e3a99e4664bdabcda0e": {
      "buffers": [
       {
        "data": "a9fhPuciyT4=",
        "encoding": "base64",
        "path": [
         "x",
         0,
         "data"
        ]
       },
       {
        "data": "O6+tPrNcZT8=",
        "encoding": "base64",
        "path": [
         "y",
         0,
         "data"
        ]
       },
       {
        "data": "brRUP5M6VL4=",
        "encoding": "base64",
        "path": [
         "z",
         0,
         "data"
        ]
       }
      ],
      "model_module": "ipyvolume",
      "model_module_version": "~0.5.2",
      "model_name": "ScatterModel",
      "state": {
       "color_selected": null,
       "connected": true,
       "line_material": "IPY_MODEL_673acd23f6be4204b87ac4fdfece28f6",
       "material": "IPY_MODEL_d730ba0b01e64adc9e370b5538a5a510",
       "size": 1,
       "size_selected": 1,
       "texture": null,
       "vx": null,
       "vy": null,
       "vz": null,
       "x": [
        {
         "data": {},
         "dtype": "float32",
         "shape": [
          2
         ]
        }
       ],
       "y": [
        {
         "data": {},
         "dtype": "float32",
         "shape": [
          2
         ]
        }
       ],
       "z": [
        {
         "data": {},
         "dtype": "float32",
         "shape": [
          2
         ]
        }
       ]
      }
     },
     "6a411bd60f4f460eb774fc178b0b149c": {
      "model_module": "jupyter-threejs",
      "model_module_version": "^2.1.0",
      "model_name": "ShaderMaterialModel",
      "state": {
       "_view_module": null,
       "_view_module_version": ""
      }
     },
     "6cd56524fc0d406ab2341ea74917a522": {
      "model_module": "jupyter-threejs",
      "model_module_version": "^2.1.0",
      "model_name": "ShaderMaterialModel",
      "state": {
       "_view_module": null,
       "_view_module_version": ""
      }
     },
     "6fe6409d6f8a477c9fb6767ddd084125": {
      "model_module": "jupyter-threejs",
      "model_module_version": "^2.1.0",
      "model_name": "ShaderMaterialModel",
      "state": {
       "_view_module": null,
       "_view_module_version": ""
      }
     },
     "704a23aced3b4fb49d0e136b381deafe": {
      "buffers": [
       {
        "data": "5udUPwkLDz8=",
        "encoding": "base64",
        "path": [
         "x",
         0,
         "data"
        ]
       },
       {
        "data": "pO8NP8LcPD8=",
        "encoding": "base64",
        "path": [
         "y",
         0,
         "data"
        ]
       },
       {
        "data": "8Gz6vEL3wb4=",
        "encoding": "base64",
        "path": [
         "z",
         0,
         "data"
        ]
       }
      ],
      "model_module": "ipyvolume",
      "model_module_version": "~0.5.2",
      "model_name": "ScatterModel",
      "state": {
       "color_selected": null,
       "connected": true,
       "line_material": "IPY_MODEL_c4627054a4324a709fbd34b244b8b42e",
       "material": "IPY_MODEL_d165087598914b81a8c37daee5dc6108",
       "size": 1,
       "size_selected": 1,
       "texture": null,
       "vx": null,
       "vy": null,
       "vz": null,
       "x": [
        {
         "data": {},
         "dtype": "float32",
         "shape": [
          2
         ]
        }
       ],
       "y": [
        {
         "data": {},
         "dtype": "float32",
         "shape": [
          2
         ]
        }
       ],
       "z": [
        {
         "data": {},
         "dtype": "float32",
         "shape": [
          2
         ]
        }
       ]
      }
     },
     "714cb90c8d1746f79f02292d579555e8": {
      "buffers": [
       {
        "data": "K8lXPWWYxzs=",
        "encoding": "base64",
        "path": [
         "x",
         0,
         "data"
        ]
       },
       {
        "data": "7eF6P+0oez8=",
        "encoding": "base64",
        "path": [
         "y",
         0,
         "data"
        ]
       },
       {
        "data": "kHNEPhUVRr4=",
        "encoding": "base64",
        "path": [
         "z",
         0,
         "data"
        ]
       }
      ],
      "model_module": "ipyvolume",
      "model_module_version": "~0.5.2",
      "model_name": "ScatterModel",
      "state": {
       "color": "green",
       "color_selected": null,
       "connected": true,
       "line_material": "IPY_MODEL_93678cb1f0984335ae1d3c939d72bbf2",
       "material": "IPY_MODEL_56808bdc212e45538ff234b99c25158a",
       "size": 1,
       "size_selected": 1,
       "texture": null,
       "vx": null,
       "vy": null,
       "vz": null,
       "x": [
        {
         "data": {},
         "dtype": "float32",
         "shape": [
          2
         ]
        }
       ],
       "y": [
        {
         "data": {},
         "dtype": "float32",
         "shape": [
          2
         ]
        }
       ],
       "z": [
        {
         "data": {},
         "dtype": "float32",
         "shape": [
          2
         ]
        }
       ]
      }
     },
     "72b15426e3c4424fb7381da6be327fd0": {
      "buffers": [
       {
        "data": "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",
        "encoding": "base64",
        "path": [
         "x",
         0,
         "data"
        ]
       },
       {
        "data": "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",
        "encoding": "base64",
        "path": [
         "y",
         0,
         "data"
        ]
       },
       {
        "data": "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",
        "encoding": "base64",
        "path": [
         "z",
         0,
         "data"
        ]
       }
      ],
      "model_module": "ipyvolume",
      "model_module_version": "~0.5.2",
      "model_name": "ScatterModel",
      "state": {
       "color": "blue",
       "geo": "sphere",
       "line_material": "IPY_MODEL_26e4b9fdc7ba4120b700312f8f34f939",
       "material": "IPY_MODEL_7569e7bdf35d466e9f31afcec9f0e16e",
       "size": 1,
       "size_selected": 2.6,
       "texture": null,
       "vx": null,
       "vy": null,
       "vz": null,
       "x": [
        {
         "data": {},
         "dtype": "float32",
         "shape": [
          5000
         ]
        }
       ],
       "y": [
        {
         "data": {},
         "dtype": "float32",
         "shape": [
          5000
         ]
        }
       ],
       "z": [
        {
         "data": {},
         "dtype": "float32",
         "shape": [
          5000
         ]
        }
       ]
      }
     },
     "72fa29e083044f82bda9fdf84ff229d6": {
      "model_module": "@jupyter-widgets/controls",
      "model_module_version": "1.5.0",
      "model_name": "VBoxModel",
      "state": {
       "children": [
        "IPY_MODEL_396dd496d57840419ed48fbc0c0ddd2a"
       ],
       "layout": "IPY_MODEL_fea56f2b9eb3498a9a9ba3ec7d4f6214"
      }
     },
     "7569e7bdf35d466e9f31afcec9f0e16e": {
      "model_module": "jupyter-threejs",
      "model_module_version": "^2.1.0",
      "model_name": "ShaderMaterialModel",
      "state": {
       "_view_module": null,
       "_view_module_version": ""
      }
     },
     "78e8c7c506a7416294f047020b998ad7": {
      "buffers": [
       {
        "data": "fzUJPwo8Mr8=",
        "encoding": "base64",
        "path": [
         "x",
         0,
         "data"
        ]
       },
       {
        "data": "mzUUP8NlEz8=",
        "encoding": "base64",
        "path": [
         "y",
         0,
         "data"
        ]
       },
       {
        "data": "HU0dv9t52z4=",
        "encoding": "base64",
        "path": [
         "z",
         0,
         "data"
        ]
       }
      ],
      "model_module": "ipyvolume",
      "model_module_version": "~0.5.2",
      "model_name": "ScatterModel",
      "state": {
       "color": "green",
       "color_selected": null,
       "connected": true,
       "line_material": "IPY_MODEL_f661cfa795d146bc871192e1f2b7e131",
       "material": "IPY_MODEL_384f1e54258b4c059204dfa13abd9b93",
       "size": 1,
       "size_selected": 1,
       "texture": null,
       "vx": null,
       "vy": null,
       "vz": null,
       "x": [
        {
         "data": {},
         "dtype": "float32",
         "shape": [
          2
         ]
        }
       ],
       "y": [
        {
         "data": {},
         "dtype": "float32",
         "shape": [
          2
         ]
        }
       ],
       "z": [
        {
         "data": {},
         "dtype": "float32",
         "shape": [
          2
         ]
        }
       ]
      }
     },
     "79acd080cb3349988a2817b7191340b8": {
      "model_module": "jupyter-threejs",
      "model_module_version": "^2.1.0",
      "model_name": "ShaderMaterialModel",
      "state": {
       "_view_module": null,
       "_view_module_version": ""
      }
     },
     "79f34d025cc94e94a9a5154bca7ef24a": {
      "model_module": "jupyter-threejs",
      "model_module_version": "^2.1.0",
      "model_name": "ShaderMaterialModel",
      "state": {
       "_view_module": null,
       "_view_module_version": "",
       "visible": false
      }
     },
     "7a426dc149424163a5f02054a3262b67": {
      "model_module": "jupyter-threejs",
      "model_module_version": "^2.1.0",
      "model_name": "ShaderMaterialModel",
      "state": {
       "_view_module": null,
       "_view_module_version": ""
      }
     },
     "7b31349c8a1d42eda8f271e88f665e3a": {
      "model_module": "jupyter-threejs",
      "model_module_version": "^2.1.0",
      "model_name": "ShaderMaterialModel",
      "state": {
       "_view_module": null,
       "_view_module_version": ""
      }
     },
     "7b5e16e95c9040c8abf77b79fda24dfa": {
      "buffers": [
       {
        "data": "ZZjHO51FZD8=",
        "encoding": "base64",
        "path": [
         "x",
         0,
         "data"
        ]
       },
       {
        "data": "7Sh7P9Ma5D4=",
        "encoding": "base64",
        "path": [
         "y",
         0,
         "data"
        ]
       },
       {
        "data": "FRVGvo7yo70=",
        "encoding": "base64",
        "path": [
         "z",
         0,
         "data"
        ]
       }
      ],
      "model_module": "ipyvolume",
      "model_module_version": "~0.5.2",
      "model_name": "ScatterModel",
      "state": {
       "color_selected": null,
       "connected": true,
       "line_material": "IPY_MODEL_8122d0b77c0947fa8ad56017dffaef7a",
       "material": "IPY_MODEL_bc19fe8d89294eddb6d6bf15584c2934",
       "size": 1,
       "size_selected": 1,
       "texture": null,
       "vx": null,
       "vy": null,
       "vz": null,
       "x": [
        {
         "data": {},
         "dtype": "float32",
         "shape": [
          2
         ]
        }
       ],
       "y": [
        {
         "data": {},
         "dtype": "float32",
         "shape": [
          2
         ]
        }
       ],
       "z": [
        {
         "data": {},
         "dtype": "float32",
         "shape": [
          2
         ]
        }
       ]
      }
     },
     "7b96cbcb33ea4c628e12605db5a67fd9": {
      "buffers": [
       {
        "data": "JowJPraJJT8=",
        "encoding": "base64",
        "path": [
         "x",
         0,
         "data"
        ]
       },
       {
        "data": "j7h7P2IANT8=",
        "encoding": "base64",
        "path": [
         "y",
         0,
         "data"
        ]
       },
       {
        "data": "qrr7vUaVkr4=",
        "encoding": "base64",
        "path": [
         "z",
         0,
         "data"
        ]
       }
      ],
      "model_module": "ipyvolume",
      "model_module_version": "~0.5.2",
      "model_name": "ScatterModel",
      "state": {
       "color_selected": null,
       "connected": true,
       "line_material": "IPY_MODEL_150abbafbe2a462db01a9e6d3aa584b7",
       "material": "IPY_MODEL_c8d7c982ff834c71bc8049a5541c33e0",
       "size": 1,
       "size_selected": 1,
       "texture": null,
       "vx": null,
       "vy": null,
       "vz": null,
       "x": [
        {
         "data": {},
         "dtype": "float32",
         "shape": [
          2
         ]
        }
       ],
       "y": [
        {
         "data": {},
         "dtype": "float32",
         "shape": [
          2
         ]
        }
       ],
       "z": [
        {
         "data": {},
         "dtype": "float32",
         "shape": [
          2
         ]
        }
       ]
      }
     },
     "7c8527039cbf4f48ba0f8b4eceed9f0c": {
      "buffers": [
       {
        "data": "K8lXPYaxSL+Z8rm9lkvCvmvX4T446yw+fzUJP+v/Ir0RZ8W+yd+Hvg==",
        "encoding": "base64",
        "path": [
         "x",
         0,
         "data"
        ]
       },
       {
        "data": "7eF6PxujDT/hgHs/VgpqPzuvrT7p5XU/mzUUP/LaDT8Xa2Q/KLt2Pw==",
        "encoding": "base64",
        "path": [
         "y",
         0,
         "data"
        ]
       },
       {
        "data": "kHNEPmgukD4Y8CY+NYQRPm60VD8yUmK+HU0dvx3cVL/6onC+HA3VvA==",
        "encoding": "base64",
        "path": [
         "z",
         0,
         "data"
        ]
       }
      ],
      "model_module": "ipyvolume",
      "model_module_version": "~0.5.2",
      "model_name": "ScatterModel",
      "state": {
       "color": "green",
       "geo": "sphere",
       "line_material": "IPY_MODEL_62d42538be9b463e95a1464ee1682bab",
       "material": "IPY_MODEL_445cebe35543401fb5f92c7f8fd421b4",
       "size": 1,
       "size_selected": 2.6,
       "texture": null,
       "vx": null,
       "vy": null,
       "vz": null,
       "x": [
        {
         "data": {},
         "dtype": "float32",
         "shape": [
          10
         ]
        }
       ],
       "y": [
        {
         "data": {},
         "dtype": "float32",
         "shape": [
          10
         ]
        }
       ],
       "z": [
        {
         "data": {},
         "dtype": "float32",
         "shape": [
          10
         ]
        }
       ]
      }
     },
     "7cba3e6a985a4c86880e92c0c804b191": {
      "model_module": "jupyter-threejs",
      "model_module_version": "^2.1.0",
      "model_name": "ShaderMaterialModel",
      "state": {
       "_view_module": null,
       "_view_module_version": ""
      }
     },
     "8016674e74424ecfabade938fc8c1090": {
      "model_module": "jupyter-threejs",
      "model_module_version": "^2.1.0",
      "model_name": "ShaderMaterialModel",
      "state": {
       "_view_module": null,
       "_view_module_version": ""
      }
     },
     "80252911b3064628a2d77237e0003d67": {
      "model_module": "jupyter-threejs",
      "model_module_version": "^2.1.0",
      "model_name": "ShaderMaterialModel",
      "state": {
       "_view_module": null,
       "_view_module_version": ""
      }
     },
     "8122d0b77c0947fa8ad56017dffaef7a": {
      "model_module": "jupyter-threejs",
      "model_module_version": "^2.1.0",
      "model_name": "ShaderMaterialModel",
      "state": {
       "_view_module": null,
       "_view_module_version": ""
      }
     },
     "81bde13bec4f42258ada9588415bf095": {
      "buffers": [
       {
        "data": "yd+HvhIWej4=",
        "encoding": "base64",
        "path": [
         "x",
         0,
         "data"
        ]
       },
       {
        "data": "KLt2P9Ondj8=",
        "encoding": "base64",
        "path": [
         "y",
         0,
         "data"
        ]
       },
       {
        "data": "HA3VvDiV4D0=",
        "encoding": "base64",
        "path": [
         "z",
         0,
         "data"
        ]
       }
      ],
      "model_module": "ipyvolume",
      "model_module_version": "~0.5.2",
      "model_name": "ScatterModel",
      "state": {
       "color": "green",
       "color_selected": null,
       "connected": true,
       "line_material": "IPY_MODEL_29011a105f314ce5803b536a1b4fcbce",
       "material": "IPY_MODEL_3473203923744839a0ef455c51d155cc",
       "size": 1,
       "size_selected": 1,
       "texture": null,
       "vx": null,
       "vy": null,
       "vz": null,
       "x": [
        {
         "data": {},
         "dtype": "float32",
         "shape": [
          2
         ]
        }
       ],
       "y": [
        {
         "data": {},
         "dtype": "float32",
         "shape": [
          2
         ]
        }
       ],
       "z": [
        {
         "data": {},
         "dtype": "float32",
         "shape": [
          2
         ]
        }
       ]
      }
     },
     "81f18c96162c4898ad13668483a9788e": {
      "model_module": "jupyter-threejs",
      "model_module_version": "^2.1.0",
      "model_name": "ShaderMaterialModel",
      "state": {
       "_view_module": null,
       "_view_module_version": ""
      }
     },
     "83ca4f5b1b0c4ff38c6158a0125411cb": {
      "model_module": "jupyter-threejs",
      "model_module_version": "^2.1.0",
      "model_name": "ShaderMaterialModel",
      "state": {
       "_view_module": null,
       "_view_module_version": ""
      }
     },
     "857167235501492c8800b3958a71bb51": {
      "buffers": [
       {
        "data": "ZZjHO51FZD8=",
        "encoding": "base64",
        "path": [
         "x",
         0,
         "data"
        ]
       },
       {
        "data": "7Sh7P9Ma5D4=",
        "encoding": "base64",
        "path": [
         "y",
         0,
         "data"
        ]
       },
       {
        "data": "FRVGvo7yo70=",
        "encoding": "base64",
        "path": [
         "z",
         0,
         "data"
        ]
       }
      ],
      "model_module": "ipyvolume",
      "model_module_version": "~0.5.2",
      "model_name": "ScatterModel",
      "state": {
       "color_selected": null,
       "connected": true,
       "line_material": "IPY_MODEL_87d9d0b78f9d42f4b74be79ba2ebebc8",
       "material": "IPY_MODEL_63448a8d3634450bb27ce8e8549982e0",
       "size": 1,
       "size_selected": 1,
       "texture": null,
       "vx": null,
       "vy": null,
       "vz": null,
       "x": [
        {
         "data": {},
         "dtype": "float32",
         "shape": [
          2
         ]
        }
       ],
       "y": [
        {
         "data": {},
         "dtype": "float32",
         "shape": [
          2
         ]
        }
       ],
       "z": [
        {
         "data": {},
         "dtype": "float32",
         "shape": [
          2
         ]
        }
       ]
      }
     },
     "87d9d0b78f9d42f4b74be79ba2ebebc8": {
      "model_module": "jupyter-threejs",
      "model_module_version": "^2.1.0",
      "model_name": "ShaderMaterialModel",
      "state": {
       "_view_module": null,
       "_view_module_version": ""
      }
     },
     "8b6b5a8b2745455daf8a35504ac4ac97": {
      "model_module": "jupyter-threejs",
      "model_module_version": "^2.1.0",
      "model_name": "ShaderMaterialModel",
      "state": {
       "_view_module": null,
       "_view_module_version": "",
       "visible": false
      }
     },
     "8c69f8684c87450e9d7b27c4704940f4": {
      "model_module": "jupyter-threejs",
      "model_module_version": "^2.1.0",
      "model_name": "SceneModel",
      "state": {
       "_view_module": null,
       "_view_module_version": "",
       "background": null
      }
     },
     "8e671dd2fe304568a60d598cee52c361": {
      "model_module": "jupyter-threejs",
      "model_module_version": "^2.1.0",
      "model_name": "ShaderMaterialModel",
      "state": {
       "_view_module": null,
       "_view_module_version": ""
      }
     },
     "8fa3d894d6c04528bb20787f763d89ed": {
      "model_module": "jupyter-threejs",
      "model_module_version": "^2.1.0",
      "model_name": "ShaderMaterialModel",
      "state": {
       "_view_module": null,
       "_view_module_version": "",
       "visible": false
      }
     },
     "91c519c512004d95a70dcc960804cddd": {
      "model_module": "jupyter-threejs",
      "model_module_version": "^2.1.0",
      "model_name": "ShaderMaterialModel",
      "state": {
       "_view_module": null,
       "_view_module_version": ""
      }
     },
     "93678cb1f0984335ae1d3c939d72bbf2": {
      "model_module": "jupyter-threejs",
      "model_module_version": "^2.1.0",
      "model_name": "ShaderMaterialModel",
      "state": {
       "_view_module": null,
       "_view_module_version": ""
      }
     },
     "93c5d77bd8904f84ae53f62ee5680b15": {
      "model_module": "jupyter-threejs",
      "model_module_version": "^2.1.0",
      "model_name": "ShaderMaterialModel",
      "state": {
       "_view_module": null,
       "_view_module_version": ""
      }
     },
     "9595801205ae43858d3a045e3aefa034": {
      "model_module": "jupyter-threejs",
      "model_module_version": "^2.1.0",
      "model_name": "ShaderMaterialModel",
      "state": {
       "_view_module": null,
       "_view_module_version": "",
       "visible": false
      }
     },
     "9850add24a8e435088912498469c6da9": {
      "model_module": "jupyter-threejs",
      "model_module_version": "^2.1.0",
      "model_name": "ShaderMaterialModel",
      "state": {
       "_view_module": null,
       "_view_module_version": ""
      }
     },
     "98b44335e5cf4b8b992c3d0a1a557ccf": {
      "buffers": [
       {
        "data": "ZZjHO+bnVD8=",
        "encoding": "base64",
        "path": [
         "x",
         0,
         "data"
        ]
       },
       {
        "data": "7Sh7P6TvDT8=",
        "encoding": "base64",
        "path": [
         "y",
         0,
         "data"
        ]
       },
       {
        "data": "FRVGvvBs+rw=",
        "encoding": "base64",
        "path": [
         "z",
         0,
         "data"
        ]
       }
      ],
      "model_module": "ipyvolume",
      "model_module_version": "~0.5.2",
      "model_name": "ScatterModel",
      "state": {
       "color": "green",
       "geo": "sphere",
       "line_material": "IPY_MODEL_4e764106a30e498b9e81a413db70f2d6",
       "material": "IPY_MODEL_e8f5c9723b6347d69348fadcccd61d6d",
       "size": 1,
       "size_selected": 2.6,
       "texture": null,
       "vx": null,
       "vy": null,
       "vz": null,
       "x": [
        {
         "data": {},
         "dtype": "float32",
         "shape": [
          2
         ]
        }
       ],
       "y": [
        {
         "data": {},
         "dtype": "float32",
         "shape": [
          2
         ]
        }
       ],
       "z": [
        {
         "data": {},
         "dtype": "float32",
         "shape": [
          2
         ]
        }
       ]
      }
     },
     "9a2c825ff73b49afa1500bbcda48b149": {
      "buffers": [
       {
        "data": "PbSXPujSYb4=",
        "encoding": "base64",
        "path": [
         "x",
         0,
         "data"
        ]
       },
       {
        "data": "TQdkP4QOeT8=",
        "encoding": "base64",
        "path": [
         "y",
         0,
         "data"
        ]
       },
       {
        "data": "dniwPh7+jr0=",
        "encoding": "base64",
        "path": [
         "z",
         0,
         "data"
        ]
       }
      ],
      "model_module": "ipyvolume",
      "model_module_version": "~0.5.2",
      "model_name": "ScatterModel",
      "state": {
       "color_selected": null,
       "connected": true,
       "line_material": "IPY_MODEL_4a2e006f135d4683a5ff053c2bf7a2cd",
       "material": "IPY_MODEL_420b3c5460c240c089db04a100db951d",
       "size": 1,
       "size_selected": 1,
       "texture": null,
       "vx": null,
       "vy": null,
       "vz": null,
       "x": [
        {
         "data": {},
         "dtype": "float32",
         "shape": [
          2
         ]
        }
       ],
       "y": [
        {
         "data": {},
         "dtype": "float32",
         "shape": [
          2
         ]
        }
       ],
       "z": [
        {
         "data": {},
         "dtype": "float32",
         "shape": [
          2
         ]
        }
       ]
      }
     },
     "9c398bf0179f43b4983e95e75c6a9826": {
      "model_module": "@jupyter-widgets/base",
      "model_module_version": "1.2.0",
      "model_name": "LayoutModel",
      "state": {}
     },
     "9ed93029decd4328ba357a92eacaf91d": {
      "model_module": "jupyter-threejs",
      "model_module_version": "^2.1.0",
      "model_name": "ShaderMaterialModel",
      "state": {
       "_view_module": null,
       "_view_module_version": ""
      }
     },
     "aa980ef01cc14e789d6d8d70735beab0": {
      "model_module": "jupyter-threejs",
      "model_module_version": "^2.1.0",
      "model_name": "ShaderMaterialModel",
      "state": {
       "_view_module": null,
       "_view_module_version": "",
       "visible": false
      }
     },
     "ab6c41d9a22e406bb5f50eacad15f16a": {
      "model_module": "jupyter-threejs",
      "model_module_version": "^2.1.0",
      "model_name": "ShaderMaterialModel",
      "state": {
       "_view_module": null,
       "_view_module_version": "",
       "visible": false
      }
     },
     "ac0402589a1b4ea1953055474d7f2fa4": {
      "model_module": "jupyter-threejs",
      "model_module_version": "^2.1.0",
      "model_name": "ShaderMaterialModel",
      "state": {
       "_view_module": null,
       "_view_module_version": ""
      }
     },
     "accbd8852de24f7bb767dffc777b254e": {
      "buffers": [
       {
        "data": "OOssPiHluz0=",
        "encoding": "base64",
        "path": [
         "x",
         0,
         "data"
        ]
       },
       {
        "data": "6eV1P761dD8=",
        "encoding": "base64",
        "path": [
         "y",
         0,
         "data"
        ]
       },
       {
        "data": "MlJivjTZjr4=",
        "encoding": "base64",
        "path": [
         "z",
         0,
         "data"
        ]
       }
      ],
      "model_module": "ipyvolume",
      "model_module_version": "~0.5.2",
      "model_name": "ScatterModel",
      "state": {
       "color_selected": null,
       "connected": true,
       "line_material": "IPY_MODEL_5412fec1c0de441487bcdf4f7af62668",
       "material": "IPY_MODEL_f19b2f45baa444ff903ce41abaa39204",
       "size": 1,
       "size_selected": 1,
       "texture": null,
       "vx": null,
       "vy": null,
       "vz": null,
       "x": [
        {
         "data": {},
         "dtype": "float32",
         "shape": [
          2
         ]
        }
       ],
       "y": [
        {
         "data": {},
         "dtype": "float32",
         "shape": [
          2
         ]
        }
       ],
       "z": [
        {
         "data": {},
         "dtype": "float32",
         "shape": [
          2
         ]
        }
       ]
      }
     },
     "adab579198654813b3c5d54e796bff8d": {
      "model_module": "jupyter-threejs",
      "model_module_version": "^2.1.0",
      "model_name": "ShaderMaterialModel",
      "state": {
       "_view_module": null,
       "_view_module_version": ""
      }
     },
     "af360cab3c634e71a4896e46f8d8f229": {
      "model_module": "@jupyter-widgets/base",
      "model_module_version": "1.2.0",
      "model_name": "LayoutModel",
      "state": {}
     },
     "af7dd7b9d32244b18738b90b008bbdd7": {
      "buffers": [
       {
        "data": "6/8ivaXlpD4=",
        "encoding": "base64",
        "path": [
         "x",
         0,
         "data"
        ]
       },
       {
        "data": "8toNP6NFbz8=",
        "encoding": "base64",
        "path": [
         "y",
         0,
         "data"
        ]
       },
       {
        "data": "HdxUvwVBGr4=",
        "encoding": "base64",
        "path": [
         "z",
         0,
         "data"
        ]
       }
      ],
      "model_module": "ipyvolume",
      "model_module_version": "~0.5.2",
      "model_name": "ScatterModel",
      "state": {
       "color_selected": null,
       "connected": true,
       "line_material": "IPY_MODEL_53d78e1e1715412ba5b01932d95a44c8",
       "material": "IPY_MODEL_d08d99090aa2432e98caa0a526922fa4",
       "size": 1,
       "size_selected": 1,
       "texture": null,
       "vx": null,
       "vy": null,
       "vz": null,
       "x": [
        {
         "data": {},
         "dtype": "float32",
         "shape": [
          2
         ]
        }
       ],
       "y": [
        {
         "data": {},
         "dtype": "float32",
         "shape": [
          2
         ]
        }
       ],
       "z": [
        {
         "data": {},
         "dtype": "float32",
         "shape": [
          2
         ]
        }
       ]
      }
     },
     "afac13c1eaa049ddacae11a672fded37": {
      "buffers": [
       {
        "data": "K8lXPWWYxzs=",
        "encoding": "base64",
        "path": [
         "x",
         0,
         "data"
        ]
       },
       {
        "data": "7eF6P+0oez8=",
        "encoding": "base64",
        "path": [
         "y",
         0,
         "data"
        ]
       },
       {
        "data": "kHNEPhUVRr4=",
        "encoding": "base64",
        "path": [
         "z",
         0,
         "data"
        ]
       }
      ],
      "model_module": "ipyvolume",
      "model_module_version": "~0.5.2",
      "model_name": "ScatterModel",
      "state": {
       "color": "green",
       "color_selected": null,
       "connected": true,
       "line_material": "IPY_MODEL_167c2bb05db7461ebcb40c1baadd420d",
       "material": "IPY_MODEL_79f34d025cc94e94a9a5154bca7ef24a",
       "size": 1,
       "size_selected": 1,
       "texture": null,
       "vx": null,
       "vy": null,
       "vz": null,
       "x": [
        {
         "data": {},
         "dtype": "float32",
         "shape": [
          2
         ]
        }
       ],
       "y": [
        {
         "data": {},
         "dtype": "float32",
         "shape": [
          2
         ]
        }
       ],
       "z": [
        {
         "data": {},
         "dtype": "float32",
         "shape": [
          2
         ]
        }
       ]
      }
     },
     "afb7c5cd79284e509e950a877bbdcd90": {
      "model_module": "jupyter-threejs",
      "model_module_version": "^2.1.0",
      "model_name": "ShaderMaterialModel",
      "state": {
       "_view_module": null,
       "_view_module_version": "",
       "visible": false
      }
     },
     "b1b80091ec29448b90c604db59e5741a": {
      "buffers": [
       {
        "data": "hrFIvwkLDz8=",
        "encoding": "base64",
        "path": [
         "x",
         0,
         "data"
        ]
       },
       {
        "data": "G6MNP8LcPD8=",
        "encoding": "base64",
        "path": [
         "y",
         0,
         "data"
        ]
       },
       {
        "data": "aC6QPkL3wb4=",
        "encoding": "base64",
        "path": [
         "z",
         0,
         "data"
        ]
       }
      ],
      "model_module": "ipyvolume",
      "model_module_version": "~0.5.2",
      "model_name": "ScatterModel",
      "state": {
       "color_selected": null,
       "connected": true,
       "line_material": "IPY_MODEL_91c519c512004d95a70dcc960804cddd",
       "material": "IPY_MODEL_321e6abe43d54d759125bd272a59cdbe",
       "size": 1,
       "size_selected": 1,
       "texture": null,
       "vx": null,
       "vy": null,
       "vz": null,
       "x": [
        {
         "data": {},
         "dtype": "float32",
         "shape": [
          2
         ]
        }
       ],
       "y": [
        {
         "data": {},
         "dtype": "float32",
         "shape": [
          2
         ]
        }
       ],
       "z": [
        {
         "data": {},
         "dtype": "float32",
         "shape": [
          2
         ]
        }
       ]
      }
     },
     "b22880a83f3740208865fbec7d4658cc": {
      "model_module": "jupyter-threejs",
      "model_module_version": "^2.1.0",
      "model_name": "ShaderMaterialModel",
      "state": {
       "_view_module": null,
       "_view_module_version": ""
      }
     },
     "b2cbecb8bc5c4f02b820b37f983d3c29": {
      "model_module": "jupyter-threejs",
      "model_module_version": "^2.1.0",
      "model_name": "ShaderMaterialModel",
      "state": {
       "_view_module": null,
       "_view_module_version": "",
       "visible": false
      }
     },
     "b2e2ab02e5254b03a34a41c1b9a5341d": {
      "buffers": [
       {
        "data": "lkvCvnM0Xb4=",
        "encoding": "base64",
        "path": [
         "x",
         0,
         "data"
        ]
       },
       {
        "data": "VgpqP1FCcD8=",
        "encoding": "base64",
        "path": [
         "y",
         0,
         "data"
        ]
       },
       {
        "data": "NYQRPqjjib4=",
        "encoding": "base64",
        "path": [
         "z",
         0,
         "data"
        ]
       }
      ],
      "model_module": "ipyvolume",
      "model_module_version": "~0.5.2",
      "model_name": "ScatterModel",
      "state": {
       "color_selected": null,
       "connected": true,
       "line_material": "IPY_MODEL_05914aab06c549eebefd23ba2ee8613a",
       "material": "IPY_MODEL_9595801205ae43858d3a045e3aefa034",
       "size": 1,
       "size_selected": 1,
       "texture": null,
       "vx": null,
       "vy": null,
       "vz": null,
       "x": [
        {
         "data": {},
         "dtype": "float32",
         "shape": [
          2
         ]
        }
       ],
       "y": [
        {
         "data": {},
         "dtype": "float32",
         "shape": [
          2
         ]
        }
       ],
       "z": [
        {
         "data": {},
         "dtype": "float32",
         "shape": [
          2
         ]
        }
       ]
      }
     },
     "b3dc752c0335405caa59230f51a7c5e5": {
      "model_module": "jupyter-threejs",
      "model_module_version": "^2.1.0",
      "model_name": "PerspectiveCameraModel",
      "state": {
       "_view_module": null,
       "_view_module_version": "",
       "fov": 46,
       "matrix": [
        0.3997469955177,
        0.07070817226988535,
        0.9138942465891906,
        0,
        0.6441504750224762,
        0.6876557553486096,
        -0.33496227797208955,
        0,
        -0.652129208901802,
        0.7225855772918426,
        0.2293416193954434,
        0,
        -1.3042584178036196,
        1.4451711545837027,
        0.45868323879089196,
        1
       ],
       "matrixWorld": [
        0.3997469955177,
        0.07070817226988535,
        0.9138942465891906,
        0,
        0.6441504750224762,
        0.6876557553486096,
        -0.33496227797208955,
        0,
        -0.652129208901802,
        0.7225855772918426,
        0.2293416193954434,
        0,
        -1.3042584178036196,
        1.4451711545837027,
        0.45868323879089196,
        1
       ],
       "matrixWorldInverse": [
        0.3997469955176999,
        0.6441504750224762,
        -0.652129208901802,
        0,
        0.07070817226988543,
        0.6876557553486097,
        0.7225855772918426,
        0,
        0.9138942465891906,
        -0.33496227797208955,
        0.2293416193954435,
        0,
        2.498001805406602e-16,
        -3.3306690738754696e-16,
        -2.000000000000024,
        1
       ],
       "matrixWorldNeedsUpdate": true,
       "position": [
        -1.3042584178036196,
        1.4451711545837027,
        0.45868323879089196
       ],
       "projectionMatrix": [
        2.3558523658237527,
        0,
        0,
        0,
        0,
        2.3558523658237527,
        0,
        0,
        0,
        0,
        -1.00010000500025,
        -1,
        0,
        0,
        -0.200010000500025,
        0
       ],
       "quaternion": [
        -0.34740092860182703,
        -0.5144334603317192,
        -0.18837387592838736,
        0.7610427665811156
       ],
       "rotation": [
        -1.2634625044703724,
        -0.7103896390065578,
        -1.0153816491670125,
        "XYZ"
       ],
       "up": [
        0.6441504750224762,
        0.6876557553486097,
        -0.33496227797208955
       ]
      }
     },
     "b5713b894d564d5189b9ee48ff1189f8": {
      "model_module": "jupyter-threejs",
      "model_module_version": "^2.1.0",
      "model_name": "ShaderMaterialModel",
      "state": {
       "_view_module": null,
       "_view_module_version": ""
      }
     },
     "b76adbd8e0f24d43b1e37e8d62a63ddc": {
      "buffers": [
       {
        "data": "hrFIv+bnVD8=",
        "encoding": "base64",
        "path": [
         "x",
         0,
         "data"
        ]
       },
       {
        "data": "G6MNP6TvDT8=",
        "encoding": "base64",
        "path": [
         "y",
         0,
         "data"
        ]
       },
       {
        "data": "aC6QPvBs+rw=",
        "encoding": "base64",
        "path": [
         "z",
         0,
         "data"
        ]
       }
      ],
      "model_module": "ipyvolume",
      "model_module_version": "~0.5.2",
      "model_name": "ScatterModel",
      "state": {
       "color": "green",
       "color_selected": null,
       "connected": true,
       "line_material": "IPY_MODEL_c8394718e0bc4665b17c213a4c759be9",
       "material": "IPY_MODEL_f75ec93a174042189e73faf052fcddc7",
       "size": 1,
       "size_selected": 1,
       "texture": null,
       "vx": null,
       "vy": null,
       "vz": null,
       "x": [
        {
         "data": {},
         "dtype": "float32",
         "shape": [
          2
         ]
        }
       ],
       "y": [
        {
         "data": {},
         "dtype": "float32",
         "shape": [
          2
         ]
        }
       ],
       "z": [
        {
         "data": {},
         "dtype": "float32",
         "shape": [
          2
         ]
        }
       ]
      }
     },
     "b85025ead0704595833217a80dd41d58": {
      "buffers": [
       {
        "data": "Cjwyvwnv8r4=",
        "encoding": "base64",
        "path": [
         "x",
         0,
         "data"
        ]
       },
       {
        "data": "w2UTP7Wbtj4=",
        "encoding": "base64",
        "path": [
         "y",
         0,
         "data"
        ]
       },
       {
        "data": "23nbPtEFTr8=",
        "encoding": "base64",
        "path": [
         "z",
         0,
         "data"
        ]
       }
      ],
      "model_module": "ipyvolume",
      "model_module_version": "~0.5.2",
      "model_name": "ScatterModel",
      "state": {
       "color_selected": null,
       "connected": true,
       "line_material": "IPY_MODEL_e9a5dec239a841358bfb0240ee3dc090",
       "material": "IPY_MODEL_2f1891ad4eae4bf695093e45516fd040",
       "size": 1,
       "size_selected": 1,
       "texture": null,
       "vx": null,
       "vy": null,
       "vz": null,
       "x": [
        {
         "data": {},
         "dtype": "float32",
         "shape": [
          2
         ]
        }
       ],
       "y": [
        {
         "data": {},
         "dtype": "float32",
         "shape": [
          2
         ]
        }
       ],
       "z": [
        {
         "data": {},
         "dtype": "float32",
         "shape": [
          2
         ]
        }
       ]
      }
     },
     "bc19fe8d89294eddb6d6bf15584c2934": {
      "model_module": "jupyter-threejs",
      "model_module_version": "^2.1.0",
      "model_name": "ShaderMaterialModel",
      "state": {
       "_view_module": null,
       "_view_module_version": "",
       "visible": false
      }
     },
     "bced798a0ded4bc882026d3f45354967": {
      "model_module": "jupyter-threejs",
      "model_module_version": "^2.1.0",
      "model_name": "ShaderMaterialModel",
      "state": {
       "_view_module": null,
       "_view_module_version": ""
      }
     },
     "c062200ef9544d03ac2c6008f245aa89": {
      "model_module": "jupyter-threejs",
      "model_module_version": "^2.1.0",
      "model_name": "PerspectiveCameraModel",
      "state": {
       "_view_module": null,
       "_view_module_version": "",
       "fov": 46,
       "matrix": [
        0.7070843706972486,
        -0.18034498121042622,
        -0.683745113670209,
        0,
        -0.5219524623545015,
        0.5192400154838783,
        -0.676724045207775,
        0,
        0.4770716086267853,
        0.8353834413444601,
        0.2730149925731895,
        0,
        0.9541432172535709,
        1.6707668826889202,
        0.5460299851463798,
        1
       ],
       "matrixWorld": [
        0.7070843706972486,
        -0.18034498121042622,
        -0.683745113670209,
        0,
        -0.5219524623545015,
        0.5192400154838783,
        -0.676724045207775,
        0,
        0.4770716086267853,
        0.8353834413444601,
        0.2730149925731895,
        0,
        0.9541432172535709,
        1.6707668826889202,
        0.5460299851463798,
        1
       ],
       "matrixWorldInverse": [
        0.7070843706972486,
        -0.5219524623545014,
        0.47707160862678505,
        0,
        -0.1803449812104263,
        0.5192400154838782,
        0.8353834413444597,
        0,
        -0.6837451136702087,
        -0.6767240452077746,
        0.27301499257318934,
        0,
        2.7755575615628904e-16,
        6.106226635438358e-16,
        -2,
        1
       ],
       "matrixWorldNeedsUpdate": true,
       "position": [
        0.9541432172535709,
        1.6707668826889202,
        0.5460299851463798
       ],
       "projectionMatrix": [
        2.3558523658237527,
        0,
        0,
        0,
        0,
        2.3558523658237527,
        0,
        0,
        0,
        0,
        -1.00010000500025,
        -1,
        0,
        0,
        -0.200010000500025,
        0
       ],
       "quaternion": [
        -0.47823356287492536,
        0.36713098895811025,
        0.1080400462699624,
        0.7904649547504173
       ],
       "rotation": [
        -1.2549246149785884,
        0.4973196702392195,
        0.6358904729512229,
        "XYZ"
       ],
       "up": [
        -0.5219524623545015,
        0.5192400154838785,
        -0.676724045207775
       ]
      }
     },
     "c22aff5f1fd24bc08f60af83d1f21e34": {
      "model_module": "jupyter-threejs",
      "model_module_version": "^2.1.0",
      "model_name": "ShaderMaterialModel",
      "state": {
       "_view_module": null,
       "_view_module_version": ""
      }
     },
     "c42ea70a746645c08310e72ed2b48e4c": {
      "buffers": [
       {
        "data": "lf1pviHluz0=",
        "encoding": "base64",
        "path": [
         "x",
         0,
         "data"
        ]
       },
       {
        "data": "lJl1P761dD8=",
        "encoding": "base64",
        "path": [
         "y",
         0,
         "data"
        ]
       },
       {
        "data": "vnQpPjTZjr4=",
        "encoding": "base64",
        "path": [
         "z",
         0,
         "data"
        ]
       }
      ],
      "model_module": "ipyvolume",
      "model_module_version": "~0.5.2",
      "model_name": "ScatterModel",
      "state": {
       "color_selected": null,
       "connected": true,
       "line_material": "IPY_MODEL_f45acc862be5456b9121ed63ab95c23d",
       "material": "IPY_MODEL_afb7c5cd79284e509e950a877bbdcd90",
       "size": 1,
       "size_selected": 1,
       "texture": null,
       "vx": null,
       "vy": null,
       "vz": null,
       "x": [
        {
         "data": {},
         "dtype": "float32",
         "shape": [
          2
         ]
        }
       ],
       "y": [
        {
         "data": {},
         "dtype": "float32",
         "shape": [
          2
         ]
        }
       ],
       "z": [
        {
         "data": {},
         "dtype": "float32",
         "shape": [
          2
         ]
        }
       ]
      }
     },
     "c4303c6326df4d248a41e4ba43898595": {
      "model_module": "jupyter-threejs",
      "model_module_version": "^2.1.0",
      "model_name": "ShaderMaterialModel",
      "state": {
       "_view_module": null,
       "_view_module_version": "",
       "visible": false
      }
     },
     "c4627054a4324a709fbd34b244b8b42e": {
      "model_module": "jupyter-threejs",
      "model_module_version": "^2.1.0",
      "model_name": "ShaderMaterialModel",
      "state": {
       "_view_module": null,
       "_view_module_version": ""
      }
     },
     "c6fb80ea00a146448de233e55927b6f2": {
      "buffers": [
       {
        "data": "K8lXPWWYxzs=",
        "encoding": "base64",
        "path": [
         "x",
         0,
         "data"
        ]
       },
       {
        "data": "7eF6P+0oez8=",
        "encoding": "base64",
        "path": [
         "y",
         0,
         "data"
        ]
       },
       {
        "data": "kHNEPhUVRr4=",
        "encoding": "base64",
        "path": [
         "z",
         0,
         "data"
        ]
       }
      ],
      "model_module": "ipyvolume",
      "model_module_version": "~0.5.2",
      "model_name": "ScatterModel",
      "state": {
       "color": "green",
       "color_selected": null,
       "connected": true,
       "line_material": "IPY_MODEL_93c5d77bd8904f84ae53f62ee5680b15",
       "material": "IPY_MODEL_584019a3c86c45ef9b4d424995f774a7",
       "size": 1,
       "size_selected": 1,
       "texture": null,
       "vx": null,
       "vy": null,
       "vz": null,
       "x": [
        {
         "data": {},
         "dtype": "float32",
         "shape": [
          2
         ]
        }
       ],
       "y": [
        {
         "data": {},
         "dtype": "float32",
         "shape": [
          2
         ]
        }
       ],
       "z": [
        {
         "data": {},
         "dtype": "float32",
         "shape": [
          2
         ]
        }
       ]
      }
     },
     "c810b23ba37f40c9a176efcbeb9dc020": {
      "model_module": "jupyter-threejs",
      "model_module_version": "^2.1.0",
      "model_name": "ShaderMaterialModel",
      "state": {
       "_view_module": null,
       "_view_module_version": "",
       "visible": false
      }
     },
     "c8394718e0bc4665b17c213a4c759be9": {
      "model_module": "jupyter-threejs",
      "model_module_version": "^2.1.0",
      "model_name": "ShaderMaterialModel",
      "state": {
       "_view_module": null,
       "_view_module_version": ""
      }
     },
     "c8d7c982ff834c71bc8049a5541c33e0": {
      "model_module": "jupyter-threejs",
      "model_module_version": "^2.1.0",
      "model_name": "ShaderMaterialModel",
      "state": {
       "_view_module": null,
       "_view_module_version": "",
       "visible": false
      }
     },
     "cd2152681a704c7c832473326710e967": {
      "model_module": "@jupyter-widgets/base",
      "model_module_version": "1.2.0",
      "model_name": "LayoutModel",
      "state": {}
     },
     "cd261ca35b8b4606a43e491c13fd3259": {
      "model_module": "jupyter-threejs",
      "model_module_version": "^2.1.0",
      "model_name": "SceneModel",
      "state": {
       "_view_module": null,
       "_view_module_version": "",
       "background": null
      }
     },
     "d08d99090aa2432e98caa0a526922fa4": {
      "model_module": "jupyter-threejs",
      "model_module_version": "^2.1.0",
      "model_name": "ShaderMaterialModel",
      "state": {
       "_view_module": null,
       "_view_module_version": "",
       "visible": false
      }
     },
     "d165087598914b81a8c37daee5dc6108": {
      "model_module": "jupyter-threejs",
      "model_module_version": "^2.1.0",
      "model_name": "ShaderMaterialModel",
      "state": {
       "_view_module": null,
       "_view_module_version": "",
       "visible": false
      }
     },
     "d6c5b1f6c1ba47649215c08b81058420": {
      "buffers": [
       {
        "data": "K8lXPYaxSL8=",
        "encoding": "base64",
        "path": [
         "x",
         0,
         "data"
        ]
       },
       {
        "data": "7eF6PxujDT8=",
        "encoding": "base64",
        "path": [
         "y",
         0,
         "data"
        ]
       },
       {
        "data": "kHNEPmgukD4=",
        "encoding": "base64",
        "path": [
         "z",
         0,
         "data"
        ]
       }
      ],
      "model_module": "ipyvolume",
      "model_module_version": "~0.5.2",
      "model_name": "ScatterModel",
      "state": {
       "color": "blue",
       "geo": "sphere",
       "line_material": "IPY_MODEL_2709626e98b241a59f67a723866bf85a",
       "material": "IPY_MODEL_b22880a83f3740208865fbec7d4658cc",
       "size": 1,
       "size_selected": 2.6,
       "texture": null,
       "vx": null,
       "vy": null,
       "vz": null,
       "x": [
        {
         "data": {},
         "dtype": "float32",
         "shape": [
          2
         ]
        }
       ],
       "y": [
        {
         "data": {},
         "dtype": "float32",
         "shape": [
          2
         ]
        }
       ],
       "z": [
        {
         "data": {},
         "dtype": "float32",
         "shape": [
          2
         ]
        }
       ]
      }
     },
     "d730ba0b01e64adc9e370b5538a5a510": {
      "model_module": "jupyter-threejs",
      "model_module_version": "^2.1.0",
      "model_name": "ShaderMaterialModel",
      "state": {
       "_view_module": null,
       "_view_module_version": "",
       "visible": false
      }
     },
     "d7af4ac1a5684cfb827a50191167b205": {
      "buffers": [
       {
        "data": "K8lXPQ==",
        "encoding": "base64",
        "path": [
         "x",
         0,
         "data"
        ]
       },
       {
        "data": "7eF6Pw==",
        "encoding": "base64",
        "path": [
         "y",
         0,
         "data"
        ]
       },
       {
        "data": "kHNEPg==",
        "encoding": "base64",
        "path": [
         "z",
         0,
         "data"
        ]
       }
      ],
      "model_module": "ipyvolume",
      "model_module_version": "~0.5.2",
      "model_name": "ScatterModel",
      "state": {
       "color": "blue",
       "geo": "sphere",
       "line_material": "IPY_MODEL_7a426dc149424163a5f02054a3262b67",
       "material": "IPY_MODEL_ffc7365a6e644841ba4a46287eb2b593",
       "size": 1,
       "size_selected": 2.6,
       "texture": null,
       "vx": null,
       "vy": null,
       "vz": null,
       "x": [
        {
         "data": {},
         "dtype": "float32",
         "shape": [
          1
         ]
        }
       ],
       "y": [
        {
         "data": {},
         "dtype": "float32",
         "shape": [
          1
         ]
        }
       ],
       "z": [
        {
         "data": {},
         "dtype": "float32",
         "shape": [
          1
         ]
        }
       ]
      }
     },
     "d814311a96c145e0b68537833de92eb5": {
      "model_module": "@jupyter-widgets/base",
      "model_module_version": "1.2.0",
      "model_name": "LayoutModel",
      "state": {}
     },
     "d8edb8757db2490dbf2d48b31ce78a48": {
      "buffers": [
       {
        "data": "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",
        "encoding": "base64",
        "path": [
         "x",
         0,
         "data"
        ]
       },
       {
        "data": "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",
        "encoding": "base64",
        "path": [
         "y",
         0,
         "data"
        ]
       },
       {
        "data": "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",
        "encoding": "base64",
        "path": [
         "z",
         0,
         "data"
        ]
       }
      ],
      "model_module": "ipyvolume",
      "model_module_version": "~0.5.2",
      "model_name": "ScatterModel",
      "state": {
       "color": "blue",
       "geo": "sphere",
       "line_material": "IPY_MODEL_c22aff5f1fd24bc08f60af83d1f21e34",
       "material": "IPY_MODEL_80252911b3064628a2d77237e0003d67",
       "size": 1,
       "size_selected": 2.6,
       "texture": null,
       "vx": null,
       "vy": null,
       "vz": null,
       "x": [
        {
         "data": {},
         "dtype": "float32",
         "shape": [
          5000
         ]
        }
       ],
       "y": [
        {
         "data": {},
         "dtype": "float32",
         "shape": [
          5000
         ]
        }
       ],
       "z": [
        {
         "data": {},
         "dtype": "float32",
         "shape": [
          5000
         ]
        }
       ]
      }
     },
     "dc648f4c013942aca26a42095ca29eea": {
      "model_module": "jupyter-threejs",
      "model_module_version": "^2.1.0",
      "model_name": "SceneModel",
      "state": {
       "_view_module": null,
       "_view_module_version": "",
       "background": null
      }
     },
     "e267c7d122704a1bb82bd502f3edcc5d": {
      "model_module": "jupyter-threejs",
      "model_module_version": "^2.1.0",
      "model_name": "ShaderMaterialModel",
      "state": {
       "_view_module": null,
       "_view_module_version": "",
       "visible": false
      }
     },
     "e8f5c9723b6347d69348fadcccd61d6d": {
      "model_module": "jupyter-threejs",
      "model_module_version": "^2.1.0",
      "model_name": "ShaderMaterialModel",
      "state": {
       "_view_module": null,
       "_view_module_version": ""
      }
     },
     "e8fb49d4eae646d88ec4576793add632": {
      "buffers": [
       {
        "data": "nUVkPwkLDz+2iSU/czRdvuciyT4h5bs9Ce/yvqXlpD7o0mG+9cywPg==",
        "encoding": "base64",
        "path": [
         "x",
         0,
         "data"
        ]
       },
       {
        "data": "0xrkPsLcPD9iADU/UUJwP7NcZT++tXQ/tZu2PqNFbz+EDnk/GlxXPw==",
        "encoding": "base64",
        "path": [
         "y",
         0,
         "data"
        ]
       },
       {
        "data": "jvKjvUL3wb5GlZK+qOOJvpM6VL402Y6+0QVOvwVBGr4e/o69Vf7Uvg==",
        "encoding": "base64",
        "path": [
         "z",
         0,
         "data"
        ]
       }
      ],
      "model_module": "ipyvolume",
      "model_module_version": "~0.5.2",
      "model_name": "ScatterModel",
      "state": {
       "geo": "sphere",
       "line_material": "IPY_MODEL_5e9028bf7465494f9f688305cd7d26dc",
       "material": "IPY_MODEL_7cba3e6a985a4c86880e92c0c804b191",
       "size": 1,
       "size_selected": 2.6,
       "texture": null,
       "vx": null,
       "vy": null,
       "vz": null,
       "x": [
        {
         "data": {},
         "dtype": "float32",
         "shape": [
          10
         ]
        }
       ],
       "y": [
        {
         "data": {},
         "dtype": "float32",
         "shape": [
          10
         ]
        }
       ],
       "z": [
        {
         "data": {},
         "dtype": "float32",
         "shape": [
          10
         ]
        }
       ]
      }
     },
     "e978b1c964274e5ab4acdcc595e91f77": {
      "buffers": [
       {
        "data": "OOssPpX9ab4=",
        "encoding": "base64",
        "path": [
         "x",
         0,
         "data"
        ]
       },
       {
        "data": "6eV1P5SZdT8=",
        "encoding": "base64",
        "path": [
         "y",
         0,
         "data"
        ]
       },
       {
        "data": "MlJivr50KT4=",
        "encoding": "base64",
        "path": [
         "z",
         0,
         "data"
        ]
       }
      ],
      "model_module": "ipyvolume",
      "model_module_version": "~0.5.2",
      "model_name": "ScatterModel",
      "state": {
       "color": "green",
       "color_selected": null,
       "connected": true,
       "line_material": "IPY_MODEL_9ed93029decd4328ba357a92eacaf91d",
       "material": "IPY_MODEL_ebb99db25607450b98f73373eb87cb87",
       "size": 1,
       "size_selected": 1,
       "texture": null,
       "vx": null,
       "vy": null,
       "vz": null,
       "x": [
        {
         "data": {},
         "dtype": "float32",
         "shape": [
          2
         ]
        }
       ],
       "y": [
        {
         "data": {},
         "dtype": "float32",
         "shape": [
          2
         ]
        }
       ],
       "z": [
        {
         "data": {},
         "dtype": "float32",
         "shape": [
          2
         ]
        }
       ]
      }
     },
     "e978d8927cf741ce9c52093fcf87bfe4": {
      "buffers": [
       {
        "data": "lkvCvuqczj4=",
        "encoding": "base64",
        "path": [
         "x",
         0,
         "data"
        ]
       },
       {
        "data": "VgpqP9cwaj8=",
        "encoding": "base64",
        "path": [
         "y",
         0,
         "data"
        ]
       },
       {
        "data": "NYQRPn90ibw=",
        "encoding": "base64",
        "path": [
         "z",
         0,
         "data"
        ]
       }
      ],
      "model_module": "ipyvolume",
      "model_module_version": "~0.5.2",
      "model_name": "ScatterModel",
      "state": {
       "color": "green",
       "color_selected": null,
       "connected": true,
       "line_material": "IPY_MODEL_6cd56524fc0d406ab2341ea74917a522",
       "material": "IPY_MODEL_ab6c41d9a22e406bb5f50eacad15f16a",
       "size": 1,
       "size_selected": 1,
       "texture": null,
       "vx": null,
       "vy": null,
       "vz": null,
       "x": [
        {
         "data": {},
         "dtype": "float32",
         "shape": [
          2
         ]
        }
       ],
       "y": [
        {
         "data": {},
         "dtype": "float32",
         "shape": [
          2
         ]
        }
       ],
       "z": [
        {
         "data": {},
         "dtype": "float32",
         "shape": [
          2
         ]
        }
       ]
      }
     },
     "e9a5dec239a841358bfb0240ee3dc090": {
      "model_module": "jupyter-threejs",
      "model_module_version": "^2.1.0",
      "model_name": "ShaderMaterialModel",
      "state": {
       "_view_module": null,
       "_view_module_version": ""
      }
     },
     "eb7de2a45e9a4af8bdd4434798dc23a3": {
      "model_module": "@jupyter-widgets/controls",
      "model_module_version": "1.5.0",
      "model_name": "VBoxModel",
      "state": {
       "children": [
        "IPY_MODEL_20dd87e78668411bad4176d3b0735bda"
       ],
       "layout": "IPY_MODEL_af360cab3c634e71a4896e46f8d8f229"
      }
     },
     "ebb99db25607450b98f73373eb87cb87": {
      "model_module": "jupyter-threejs",
      "model_module_version": "^2.1.0",
      "model_name": "ShaderMaterialModel",
      "state": {
       "_view_module": null,
       "_view_module_version": "",
       "visible": false
      }
     },
     "ec75527be0454a458286dae45e9a4f53": {
      "model_module": "ipyvolume",
      "model_module_version": "~0.5.2",
      "model_name": "FigureModel",
      "state": {
       "camera": "IPY_MODEL_56e679d63f2e4bd6a935e5fc3e621f46",
       "capture_fps": null,
       "height": 500,
       "layout": "IPY_MODEL_9c398bf0179f43b4983e95e75c6a9826",
       "matrix_projection": [
        2.3558523658237527,
        0,
        0,
        0,
        0,
        2.3558523658237527,
        0,
        0,
        0,
        0,
        -1.00010000500025,
        -1,
        0,
        0,
        -0.200010000500025,
        0
       ],
       "matrix_world": [
        0.5,
        0,
        0,
        0,
        0,
        0.5,
        3.061616997868383e-17,
        0,
        0,
        -3.061616997868383e-17,
        0.5,
        0,
        0,
        0,
        -2,
        1
       ],
       "meshes": [],
       "scatters": [
        "IPY_MODEL_d8edb8757db2490dbf2d48b31ce78a48"
       ],
       "scene": "IPY_MODEL_8c69f8684c87450e9d7b27c4704940f4",
       "volumes": [],
       "xlim": [
        -1,
        1
       ],
       "ylim": [
        -1,
        1
       ],
       "zlim": [
        -1,
        1
       ]
      }
     },
     "ed1d51ac76c74c54b62240339ec63fc0": {
      "buffers": [
       {
        "data": "6/8ivbASWb4=",
        "encoding": "base64",
        "path": [
         "x",
         0,
         "data"
        ]
       },
       {
        "data": "8toNP4aoDD8=",
        "encoding": "base64",
        "path": [
         "y",
         0,
         "data"
        ]
       },
       {
        "data": "HdxUv4flTj8=",
        "encoding": "base64",
        "path": [
         "z",
         0,
         "data"
        ]
       }
      ],
      "model_module": "ipyvolume",
      "model_module_version": "~0.5.2",
      "model_name": "ScatterModel",
      "state": {
       "color": "green",
       "color_selected": null,
       "connected": true,
       "line_material": "IPY_MODEL_8e671dd2fe304568a60d598cee52c361",
       "material": "IPY_MODEL_c4303c6326df4d248a41e4ba43898595",
       "size": 1,
       "size_selected": 1,
       "texture": null,
       "vx": null,
       "vy": null,
       "vz": null,
       "x": [
        {
         "data": {},
         "dtype": "float32",
         "shape": [
          2
         ]
        }
       ],
       "y": [
        {
         "data": {},
         "dtype": "float32",
         "shape": [
          2
         ]
        }
       ],
       "z": [
        {
         "data": {},
         "dtype": "float32",
         "shape": [
          2
         ]
        }
       ]
      }
     },
     "ee020e83f3e54ff2827daf4b1b0c2db8": {
      "model_module": "@jupyter-widgets/controls",
      "model_module_version": "1.5.0",
      "model_name": "VBoxModel",
      "state": {
       "children": [
        "IPY_MODEL_2b60969aa7e04ee482be1c50b559ee4e"
       ],
       "layout": "IPY_MODEL_cd2152681a704c7c832473326710e967"
      }
     },
     "f09adbccbc2b4a8ebb14a5dca0c54d9a": {
      "model_module": "jupyter-threejs",
      "model_module_version": "^2.1.0",
      "model_name": "ShaderMaterialModel",
      "state": {
       "_view_module": null,
       "_view_module_version": ""
      }
     },
     "f19b2f45baa444ff903ce41abaa39204": {
      "model_module": "jupyter-threejs",
      "model_module_version": "^2.1.0",
      "model_name": "ShaderMaterialModel",
      "state": {
       "_view_module": null,
       "_view_module_version": "",
       "visible": false
      }
     },
     "f1d45a97e9004398906e8d7b69e77a73": {
      "model_module": "jupyter-threejs",
      "model_module_version": "^2.1.0",
      "model_name": "PerspectiveCameraModel",
      "state": {
       "_view_module": null,
       "_view_module_version": "",
       "fov": 46,
       "matrix": [
        0.9635936711012765,
        0.26401257800738837,
        -0.04224447499327924,
        0,
        -0.21684168718625402,
        0.6792382904772181,
        -0.7011526420457996,
        0,
        -0.15641905162666048,
        0.6847866115831114,
        0.7117586507270124,
        0,
        -0.3128381032533208,
        1.369573223166222,
        1.4235173014540243,
        1
       ],
       "matrixWorld": [
        0.9635936711012765,
        0.26401257800738837,
        -0.04224447499327924,
        0,
        -0.21684168718625402,
        0.6792382904772181,
        -0.7011526420457996,
        0,
        -0.15641905162666048,
        0.6847866115831114,
        0.7117586507270124,
        0,
        -0.3128381032533208,
        1.369573223166222,
        1.4235173014540243,
        1
       ],
       "matrixWorldInverse": [
        0.9635936711012764,
        -0.21684168718625396,
        -0.1564190516266605,
        0,
        0.26401257800738837,
        0.6792382904772181,
        0.6847866115831114,
        0,
        -0.04224447499327929,
        -0.7011526420457995,
        0.7117586507270123,
        0,
        2.7755575615628907e-17,
        2.2204460492503126e-16,
        -1.9999999999999991,
        1
       ],
       "matrixWorldNeedsUpdate": true,
       "position": [
        -0.3128381032533208,
        1.369573223166222,
        1.4235173014540243
       ],
       "projectionMatrix": [
        2.3558523658237527,
        0,
        0,
        0,
        0,
        2.3558523658237527,
        0,
        0,
        0,
        0,
        -1.00010000500025,
        -1,
        0,
        0,
        -0.200010000500025,
        0
       ],
       "quaternion": [
        -0.3783506078682331,
        -0.031168769020163953,
        0.13126946441244228,
        0.9157770760814976
       ],
       "rotation": [
        -0.7660871628653694,
        -0.15706402715506554,
        0.2213471485338851,
        "XYZ"
       ],
       "up": [
        -0.21684168718625402,
        0.6792382904772184,
        -0.7011526420457996
       ]
      }
     },
     "f3f471e3e3824bda9d336a68fb8655fd": {
      "model_module": "jupyter-threejs",
      "model_module_version": "^2.1.0",
      "model_name": "ShaderMaterialModel",
      "state": {
       "_view_module": null,
       "_view_module_version": ""
      }
     },
     "f45acc862be5456b9121ed63ab95c23d": {
      "model_module": "jupyter-threejs",
      "model_module_version": "^2.1.0",
      "model_name": "ShaderMaterialModel",
      "state": {
       "_view_module": null,
       "_view_module_version": ""
      }
     },
     "f47206dcb6d04a6989712249b4caa10c": {
      "buffers": [
       {
        "data": "ZZjHO+bnVD8mjAk+6pzOPo07ML6V/Wm+Cjwyv7ASWb49tJc+EhZ6Pg==",
        "encoding": "base64",
        "path": [
         "x",
         0,
         "data"
        ]
       },
       {
        "data": "7Sh7P6TvDT+PuHs/1zBqP28ssD6UmXU/w2UTP4aoDD9NB2Q/06d2Pw==",
        "encoding": "base64",
        "path": [
         "y",
         0,
         "data"
        ]
       },
       {
        "data": "FRVGvvBs+ryquvu9f3SJvKtLbL++dCk+23nbPoflTj92eLA+OJXgPQ==",
        "encoding": "base64",
        "path": [
         "z",
         0,
         "data"
        ]
       }
      ],
      "model_module": "ipyvolume",
      "model_module_version": "~0.5.2",
      "model_name": "ScatterModel",
      "state": {
       "color": "green",
       "geo": "sphere",
       "line_material": "IPY_MODEL_2995ed7075a8468381e46e76f8d959f5",
       "material": "IPY_MODEL_b5713b894d564d5189b9ee48ff1189f8",
       "size": 1,
       "size_selected": 2.6,
       "texture": null,
       "vx": null,
       "vy": null,
       "vz": null,
       "x": [
        {
         "data": {},
         "dtype": "float32",
         "shape": [
          10
         ]
        }
       ],
       "y": [
        {
         "data": {},
         "dtype": "float32",
         "shape": [
          10
         ]
        }
       ],
       "z": [
        {
         "data": {},
         "dtype": "float32",
         "shape": [
          10
         ]
        }
       ]
      }
     },
     "f514de25225a4110b47b5e48b47ca186": {
      "buffers": [
       {
        "data": "5udUPwkLDz8=",
        "encoding": "base64",
        "path": [
         "x",
         0,
         "data"
        ]
       },
       {
        "data": "pO8NP8LcPD8=",
        "encoding": "base64",
        "path": [
         "y",
         0,
         "data"
        ]
       },
       {
        "data": "8Gz6vEL3wb4=",
        "encoding": "base64",
        "path": [
         "z",
         0,
         "data"
        ]
       }
      ],
      "model_module": "ipyvolume",
      "model_module_version": "~0.5.2",
      "model_name": "ScatterModel",
      "state": {
       "color_selected": null,
       "connected": true,
       "line_material": "IPY_MODEL_bced798a0ded4bc882026d3f45354967",
       "material": "IPY_MODEL_8b6b5a8b2745455daf8a35504ac4ac97",
       "size": 1,
       "size_selected": 1,
       "texture": null,
       "vx": null,
       "vy": null,
       "vz": null,
       "x": [
        {
         "data": {},
         "dtype": "float32",
         "shape": [
          2
         ]
        }
       ],
       "y": [
        {
         "data": {},
         "dtype": "float32",
         "shape": [
          2
         ]
        }
       ],
       "z": [
        {
         "data": {},
         "dtype": "float32",
         "shape": [
          2
         ]
        }
       ]
      }
     },
     "f5d302a2c7c44e0c8fdda321e1fb5068": {
      "model_module": "jupyter-threejs",
      "model_module_version": "^2.1.0",
      "model_name": "ShaderMaterialModel",
      "state": {
       "_view_module": null,
       "_view_module_version": ""
      }
     },
     "f661cfa795d146bc871192e1f2b7e131": {
      "model_module": "jupyter-threejs",
      "model_module_version": "^2.1.0",
      "model_name": "ShaderMaterialModel",
      "state": {
       "_view_module": null,
       "_view_module_version": ""
      }
     },
     "f75ec93a174042189e73faf052fcddc7": {
      "model_module": "jupyter-threejs",
      "model_module_version": "^2.1.0",
      "model_name": "ShaderMaterialModel",
      "state": {
       "_view_module": null,
       "_view_module_version": "",
       "visible": false
      }
     },
     "f90456e7fbe44f58a93df5d5b494274c": {
      "buffers": [
       {
        "data": "nUVkPw==",
        "encoding": "base64",
        "path": [
         "x",
         0,
         "data"
        ]
       },
       {
        "data": "0xrkPg==",
        "encoding": "base64",
        "path": [
         "y",
         0,
         "data"
        ]
       },
       {
        "data": "jvKjvQ==",
        "encoding": "base64",
        "path": [
         "z",
         0,
         "data"
        ]
       }
      ],
      "model_module": "ipyvolume",
      "model_module_version": "~0.5.2",
      "model_name": "ScatterModel",
      "state": {
       "geo": "sphere",
       "line_material": "IPY_MODEL_83ca4f5b1b0c4ff38c6158a0125411cb",
       "material": "IPY_MODEL_63bdd83cae8343469e7e79492312e903",
       "size": 1,
       "size_selected": 2.6,
       "texture": null,
       "vx": null,
       "vy": null,
       "vz": null,
       "x": [
        {
         "data": {},
         "dtype": "float32",
         "shape": [
          1
         ]
        }
       ],
       "y": [
        {
         "data": {},
         "dtype": "float32",
         "shape": [
          1
         ]
        }
       ],
       "z": [
        {
         "data": {},
         "dtype": "float32",
         "shape": [
          1
         ]
        }
       ]
      }
     },
     "f994e62c928147f1b2d9520aba81a205": {
      "buffers": [
       {
        "data": "EhZ6PvXMsD4=",
        "encoding": "base64",
        "path": [
         "x",
         0,
         "data"
        ]
       },
       {
        "data": "06d2PxpcVz8=",
        "encoding": "base64",
        "path": [
         "y",
         0,
         "data"
        ]
       },
       {
        "data": "OJXgPVX+1L4=",
        "encoding": "base64",
        "path": [
         "z",
         0,
         "data"
        ]
       }
      ],
      "model_module": "ipyvolume",
      "model_module_version": "~0.5.2",
      "model_name": "ScatterModel",
      "state": {
       "color_selected": null,
       "connected": true,
       "line_material": "IPY_MODEL_81f18c96162c4898ad13668483a9788e",
       "material": "IPY_MODEL_b2cbecb8bc5c4f02b820b37f983d3c29",
       "size": 1,
       "size_selected": 1,
       "texture": null,
       "vx": null,
       "vy": null,
       "vz": null,
       "x": [
        {
         "data": {},
         "dtype": "float32",
         "shape": [
          2
         ]
        }
       ],
       "y": [
        {
         "data": {},
         "dtype": "float32",
         "shape": [
          2
         ]
        }
       ],
       "z": [
        {
         "data": {},
         "dtype": "float32",
         "shape": [
          2
         ]
        }
       ]
      }
     },
     "fafe382e30d941c696da3520051df0d3": {
      "model_module": "jupyter-threejs",
      "model_module_version": "^2.1.0",
      "model_name": "ShaderMaterialModel",
      "state": {
       "_view_module": null,
       "_view_module_version": "",
       "visible": false
      }
     },
     "fea56f2b9eb3498a9a9ba3ec7d4f6214": {
      "model_module": "@jupyter-widgets/base",
      "model_module_version": "1.2.0",
      "model_name": "LayoutModel",
      "state": {}
     },
     "ffc7365a6e644841ba4a46287eb2b593": {
      "model_module": "jupyter-threejs",
      "model_module_version": "^2.1.0",
      "model_name": "ShaderMaterialModel",
      "state": {
       "_view_module": null,
       "_view_module_version": ""
      }
     }
    },
    "version_major": 2,
    "version_minor": 0
   }
  }
 },
 "nbformat": 4,
 "nbformat_minor": 4
}
