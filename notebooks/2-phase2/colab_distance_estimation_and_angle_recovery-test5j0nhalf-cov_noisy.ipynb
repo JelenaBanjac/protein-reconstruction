{
  "nbformat": 4,
  "nbformat_minor": 0,
  "metadata": {
    "kernelspec": {
      "display_name": "Python 3",
      "language": "python",
      "name": "python3"
    },
    "language_info": {
      "codemirror_mode": {
        "name": "ipython",
        "version": 3
      },
      "file_extension": ".py",
      "mimetype": "text/x-python",
      "name": "python",
      "nbconvert_exporter": "python",
      "pygments_lexer": "ipython3",
      "version": "3.6.9"
    },
    "colab": {
      "name": "colab_distance_estimation_and_angle_recovery-test5j0nhalf-cov_noisy.ipynb",
      "provenance": []
    },
    "accelerator": "GPU"
  },
  "cells": [
    {
      "cell_type": "markdown",
      "metadata": {
        "id": "I-hskHNCK4Jy",
        "colab_type": "text"
      },
      "source": [
        "<a href=\"https://colab.research.google.com/github/JelenaBanjac/protein-reconstruction/blob/master/notebooks/2-phase2/colab_distance_estimation_and_angle_recovery-test5j0nhalf-cov_noisy.ipynb\" target=\"_parent\"><img src=\"https://colab.research.google.com/assets/colab-badge.svg\" alt=\"Open In Colab\"/></a>"
      ]
    },
    {
      "cell_type": "markdown",
      "metadata": {
        "id": "ny3JKImAK4Jz",
        "colab_type": "text"
      },
      "source": [
        "# Distance Estimation and Angle Recovery"
      ]
    },
    {
      "cell_type": "markdown",
      "metadata": {
        "id": "4W1rATe0K4J1",
        "colab_type": "text"
      },
      "source": [
        "<div class=\"alert alert-danger\" role=\"alert\">\n",
        "  <p><strong>Important:</strong> This notebook is used to run the distance estimation on noisy data only (no angle recovery).</p>\n",
        "  <hr>\n",
        "    - <b>To enable GPU</b>: Navigate to Edit→Notebook Settings<br/>\n",
        "    - <b>To save the latest version of code from this notebook</b>: Navigate to File→Save a copy to Github.\n",
        "</div>"
      ]
    },
    {
      "cell_type": "markdown",
      "metadata": {
        "colab_type": "text",
        "id": "EkRUrVFpCrFT"
      },
      "source": [
        "## Content"
      ]
    },
    {
      "cell_type": "markdown",
      "metadata": {
        "colab_type": "text",
        "id": "Zwit5GAFCrFU"
      },
      "source": [
        "1. [Data Preparation](#1.-Data-Preparation)\n",
        "2. [Distance Estimation](#2.-Distance-Estimation)\n",
        "3. [Angle Recovery](#3.-Angle-Recovery)\n",
        "4. [Angle Alignment](#4.-Angle-Alignment)"
      ]
    },
    {
      "cell_type": "markdown",
      "metadata": {
        "id": "TDsOdNomK4J4",
        "colab_type": "text"
      },
      "source": [
        "Data used:\n",
        "- Protein: 5j0n (symmetric protein)\n",
        "- Projections: 5K\n",
        "- Coverage: Half-sphere\n",
        "\n",
        "![](https://github.com/JelenaBanjac/protein-reconstruction/blob/master/notebooks/2-phase2/figures/5j0n.pdb1-500.jpg?raw=1)"
      ]
    },
    {
      "cell_type": "code",
      "metadata": {
        "id": "P43631FkK4J5",
        "colab_type": "code",
        "outputId": "bae7f513-98e1-404f-a995-76b22e038360",
        "colab": {
          "base_uri": "https://localhost:8080/",
          "height": 34
        }
      },
      "source": [
        "# create directories\n",
        "!mkdir --parents data/5j0n\n",
        "!mkdir training"
      ],
      "execution_count": 0,
      "outputs": [
        {
          "output_type": "stream",
          "text": [
            "mkdir: cannot create directory ‘training’: File exists\n"
          ],
          "name": "stdout"
        }
      ]
    },
    {
      "cell_type": "markdown",
      "metadata": {
        "id": "A-xIo-OjK4J_",
        "colab_type": "text"
      },
      "source": [
        "## Setup Environment (Colab)"
      ]
    },
    {
      "cell_type": "markdown",
      "metadata": {
        "id": "kOyAAhtiK4J_",
        "colab_type": "text"
      },
      "source": [
        "Link to MiniConda Linux installer [here](https://docs.conda.io/en/latest/miniconda.html)."
      ]
    },
    {
      "cell_type": "code",
      "metadata": {
        "id": "6mMUWEYfK4KA",
        "colab_type": "code",
        "outputId": "e655ee64-7c68-4d0d-eb1c-d10784eb0e72",
        "colab": {
          "base_uri": "https://localhost:8080/",
          "height": 1000
        }
      },
      "source": [
        "!wget -c https://repo.anaconda.com/miniconda/Miniconda3-latest-Linux-x86_64.sh\n",
        "!chmod +x Miniconda3-latest-Linux-x86_64.sh\n",
        "!bash ./Miniconda3-latest-Linux-x86_64.sh -b -f -p /usr/local"
      ],
      "execution_count": 0,
      "outputs": [
        {
          "output_type": "stream",
          "text": [
            "--2020-06-07 11:57:10--  https://repo.anaconda.com/miniconda/Miniconda3-latest-Linux-x86_64.sh\n",
            "Resolving repo.anaconda.com (repo.anaconda.com)... 104.16.131.3, 104.16.130.3, 2606:4700::6810:8203, ...\n",
            "Connecting to repo.anaconda.com (repo.anaconda.com)|104.16.131.3|:443... connected.\n",
            "HTTP request sent, awaiting response... 416 Requested Range Not Satisfiable\n",
            "\n",
            "    The file is already fully retrieved; nothing to do.\n",
            "\n",
            "PREFIX=/usr/local\n",
            "Unpacking payload ...\n",
            "Collecting package metadata (current_repodata.json): - \b\b\\ \b\b| \b\b/ \b\bdone\n",
            "Solving environment: \\ \b\b| \b\b/ \b\b- \b\b\\ \b\b| \b\b/ \b\b- \b\b\\ \b\b| \b\b/ \b\b- \b\b\\ \b\b| \b\bdone\n",
            "\n",
            "## Package Plan ##\n",
            "\n",
            "  environment location: /usr/local\n",
            "\n",
            "  added / updated specs:\n",
            "    - _libgcc_mutex==0.1=main\n",
            "    - asn1crypto==1.3.0=py37_0\n",
            "    - ca-certificates==2020.1.1=0\n",
            "    - certifi==2019.11.28=py37_0\n",
            "    - cffi==1.14.0=py37h2e261b9_0\n",
            "    - chardet==3.0.4=py37_1003\n",
            "    - conda-package-handling==1.6.0=py37h7b6447c_0\n",
            "    - conda==4.8.2=py37_0\n",
            "    - cryptography==2.8=py37h1ba5d50_0\n",
            "    - idna==2.8=py37_0\n",
            "    - ld_impl_linux-64==2.33.1=h53a641e_7\n",
            "    - libedit==3.1.20181209=hc058e9b_0\n",
            "    - libffi==3.2.1=hd88cf55_4\n",
            "    - libgcc-ng==9.1.0=hdf63c60_0\n",
            "    - libstdcxx-ng==9.1.0=hdf63c60_0\n",
            "    - ncurses==6.2=he6710b0_0\n",
            "    - openssl==1.1.1d=h7b6447c_4\n",
            "    - pip==20.0.2=py37_1\n",
            "    - pycosat==0.6.3=py37h7b6447c_0\n",
            "    - pycparser==2.19=py37_0\n",
            "    - pyopenssl==19.1.0=py37_0\n",
            "    - pysocks==1.7.1=py37_0\n",
            "    - python==3.7.6=h0371630_2\n",
            "    - readline==7.0=h7b6447c_5\n",
            "    - requests==2.22.0=py37_1\n",
            "    - ruamel_yaml==0.15.87=py37h7b6447c_0\n",
            "    - setuptools==45.2.0=py37_0\n",
            "    - six==1.14.0=py37_0\n",
            "    - sqlite==3.31.1=h7b6447c_0\n",
            "    - tk==8.6.8=hbc83047_0\n",
            "    - tqdm==4.42.1=py_0\n",
            "    - urllib3==1.25.8=py37_0\n",
            "    - wheel==0.34.2=py37_0\n",
            "    - xz==5.2.4=h14c3975_4\n",
            "    - yaml==0.1.7=had09818_2\n",
            "    - zlib==1.2.11=h7b6447c_3\n",
            "\n",
            "\n",
            "The following packages will be SUPERSEDED by a higher-priority channel:\n",
            "\n",
            "  ca-certificates    conda-forge::ca-certificates-2020.4.5~ --> pkgs/main::ca-certificates-2020.1.1-0\n",
            "  certifi            conda-forge::certifi-2020.4.5.1-py37h~ --> pkgs/main::certifi-2019.11.28-py37_0\n",
            "  conda              conda-forge::conda-4.8.3-py37hc8dfbb8~ --> pkgs/main::conda-4.8.2-py37_0\n",
            "  openssl            conda-forge::openssl-1.1.1g-h516909a_0 --> pkgs/main::openssl-1.1.1d-h7b6447c_4\n",
            "\n",
            "\n",
            "Preparing transaction: - \b\bdone\n",
            "Executing transaction: | \b\b/ \b\bdone\n",
            "installation finished.\n",
            "WARNING:\n",
            "    You currently have a PYTHONPATH environment variable set. This may cause\n",
            "    unexpected behavior when running the Python interpreter in Miniconda3.\n",
            "    For best results, please verify that your PYTHONPATH only points to\n",
            "    directories of packages that are compatible with the Python interpreter\n",
            "    in Miniconda3: /usr/local\n"
          ],
          "name": "stdout"
        }
      ]
    },
    {
      "cell_type": "code",
      "metadata": {
        "id": "HeNudKnGpFCJ",
        "colab_type": "code",
        "outputId": "25b128ce-1344-48bf-993d-dd332722464d",
        "colab": {
          "base_uri": "https://localhost:8080/",
          "height": 122
        }
      },
      "source": [
        "# save the model on the drive\n",
        "from google.colab import drive\n",
        "drive.mount(\"/content/drive\")\n",
        "#!cd 'drive/My Drive'\n",
        "!mkdir --parents 'drive/My Drive/ModelsProtein'"
      ],
      "execution_count": 0,
      "outputs": [
        {
          "output_type": "stream",
          "text": [
            "Go to this URL in a browser: https://accounts.google.com/o/oauth2/auth?client_id=947318989803-6bn6qk8qdgf4n4g3pfee6491hc0brc4i.apps.googleusercontent.com&redirect_uri=urn%3aietf%3awg%3aoauth%3a2.0%3aoob&response_type=code&scope=email%20https%3a%2f%2fwww.googleapis.com%2fauth%2fdocs.test%20https%3a%2f%2fwww.googleapis.com%2fauth%2fdrive%20https%3a%2f%2fwww.googleapis.com%2fauth%2fdrive.photos.readonly%20https%3a%2f%2fwww.googleapis.com%2fauth%2fpeopleapi.readonly\n",
            "\n",
            "Enter your authorization code:\n",
            "··········\n",
            "Mounted at /content/drive\n"
          ],
          "name": "stdout"
        }
      ]
    },
    {
      "cell_type": "code",
      "metadata": {
        "id": "6ghrKBx2K4KE",
        "colab_type": "code",
        "outputId": "7e31ee92-beb2-49fc-c4ea-70af652e9d54",
        "colab": {
          "base_uri": "https://localhost:8080/",
          "height": 136
        }
      },
      "source": [
        "# clone repo\n",
        "!rm -r protein-reconstruction\n",
        "!git clone https://github.com/JelenaBanjac/protein-reconstruction.git\n",
        "!cd protein-reconstruction"
      ],
      "execution_count": 0,
      "outputs": [
        {
          "output_type": "stream",
          "text": [
            "Cloning into 'protein-reconstruction'...\n",
            "remote: Enumerating objects: 235, done.\u001b[K\n",
            "remote: Counting objects: 100% (235/235), done.\u001b[K\n",
            "remote: Compressing objects: 100% (163/163), done.\u001b[K\n",
            "remote: Total 2092 (delta 164), reused 125 (delta 72), pack-reused 1857\u001b[K\n",
            "Receiving objects: 100% (2092/2092), 246.85 MiB | 33.81 MiB/s, done.\n",
            "Resolving deltas: 100% (1285/1285), done.\n"
          ],
          "name": "stdout"
        }
      ]
    },
    {
      "cell_type": "code",
      "metadata": {
        "id": "c9KlDSk3K4KI",
        "colab_type": "code",
        "outputId": "20619729-2d38-466f-a762-7d3a299eff73",
        "colab": {
          "base_uri": "https://localhost:8080/",
          "height": 68
        }
      },
      "source": [
        "# download dataset\n",
        "# TODO: put here the link\n",
        "!curl https://transfer.sh/N3J6C/5j0n_ProjectionsAngles_ProjNber5000_AngCoverage2.0,0.4,2.0_AngShift0.0,0.0,0.0.h5 -o data/5j0n/5j0n_ProjectionsAngles_ProjNber5000_AngCoverage2.0,0.4,2.0_AngShift0.0,0.0,0.0.h5"
      ],
      "execution_count": 0,
      "outputs": [
        {
          "output_type": "stream",
          "text": [
            "  % Total    % Received % Xferd  Average Speed   Time    Time     Time  Current\n",
            "                                 Dload  Upload   Total   Spent    Left  Speed\n",
            "100  513M  100  513M    0     0  14.5M      0  0:00:35  0:00:35 --:--:-- 26.2M\n"
          ],
          "name": "stdout"
        }
      ]
    },
    {
      "cell_type": "code",
      "metadata": {
        "id": "LGvnGT0xK4KL",
        "colab_type": "code",
        "outputId": "42913baf-8371-42b5-cfaf-135bb69c9404",
        "colab": {
          "base_uri": "https://localhost:8080/",
          "height": 1000
        }
      },
      "source": [
        "#!conda env create -f environment.yml \n",
        "!conda install -q -y --prefix /usr/local -c conda-forge ipyvolume\n",
        "!pip3 install tensorflow-graphics-gpu"
      ],
      "execution_count": 0,
      "outputs": [
        {
          "output_type": "stream",
          "text": [
            "Collecting package metadata (current_repodata.json): ...working... done\n",
            "Solving environment: ...working... done\n",
            "\n",
            "## Package Plan ##\n",
            "\n",
            "  environment location: /usr/local\n",
            "\n",
            "  added / updated specs:\n",
            "    - ipyvolume\n",
            "\n",
            "\n",
            "The following packages will be UPDATED:\n",
            "\n",
            "  ca-certificates     pkgs/main::ca-certificates-2020.1.1-0 --> conda-forge::ca-certificates-2020.4.5.1-hecc5488_0\n",
            "  certifi              pkgs/main::certifi-2019.11.28-py37_0 --> conda-forge::certifi-2020.4.5.1-py37hc8dfbb8_0\n",
            "  conda                       pkgs/main::conda-4.8.2-py37_0 --> conda-forge::conda-4.8.3-py37hc8dfbb8_1\n",
            "  openssl              pkgs/main::openssl-1.1.1d-h7b6447c_4 --> conda-forge::openssl-1.1.1g-h516909a_0\n",
            "\n",
            "\n",
            "Preparing transaction: ...working... done\n",
            "Verifying transaction: ...working... done\n",
            "Executing transaction: ...working... done\n",
            "Requirement already satisfied: tensorflow-graphics-gpu in /usr/local/lib/python3.6/dist-packages (1.0.0)\n",
            "Requirement already satisfied: absl-py>=0.6.1 in /usr/local/lib/python3.6/dist-packages (from tensorflow-graphics-gpu) (0.9.0)\n",
            "Requirement already satisfied: tensorflow-gpu>=1.13.1 in /usr/local/lib/python3.6/dist-packages (from tensorflow-graphics-gpu) (2.2.0)\n",
            "Requirement already satisfied: numpy>=1.15.4 in /usr/local/lib/python3.6/dist-packages (from tensorflow-graphics-gpu) (1.18.4)\n",
            "Requirement already satisfied: scipy>=1.1.0 in /usr/local/lib/python3.6/dist-packages (from tensorflow-graphics-gpu) (1.4.1)\n",
            "Requirement already satisfied: six>=1.11.0 in /usr/local/lib/python3.6/dist-packages (from tensorflow-graphics-gpu) (1.12.0)\n",
            "Requirement already satisfied: google-pasta>=0.1.8 in /usr/local/lib/python3.6/dist-packages (from tensorflow-gpu>=1.13.1->tensorflow-graphics-gpu) (0.2.0)\n",
            "Requirement already satisfied: wrapt>=1.11.1 in /usr/local/lib/python3.6/dist-packages (from tensorflow-gpu>=1.13.1->tensorflow-graphics-gpu) (1.12.1)\n",
            "Requirement already satisfied: tensorflow-estimator<2.3.0,>=2.2.0 in /usr/local/lib/python3.6/dist-packages (from tensorflow-gpu>=1.13.1->tensorflow-graphics-gpu) (2.2.0)\n",
            "Requirement already satisfied: protobuf>=3.8.0 in /usr/local/lib/python3.6/dist-packages (from tensorflow-gpu>=1.13.1->tensorflow-graphics-gpu) (3.10.0)\n",
            "Requirement already satisfied: gast==0.3.3 in /usr/local/lib/python3.6/dist-packages (from tensorflow-gpu>=1.13.1->tensorflow-graphics-gpu) (0.3.3)\n",
            "Requirement already satisfied: astunparse==1.6.3 in /usr/local/lib/python3.6/dist-packages (from tensorflow-gpu>=1.13.1->tensorflow-graphics-gpu) (1.6.3)\n",
            "Requirement already satisfied: wheel>=0.26; python_version >= \"3\" in /usr/local/lib/python3.6/dist-packages (from tensorflow-gpu>=1.13.1->tensorflow-graphics-gpu) (0.34.2)\n",
            "Requirement already satisfied: termcolor>=1.1.0 in /usr/local/lib/python3.6/dist-packages (from tensorflow-gpu>=1.13.1->tensorflow-graphics-gpu) (1.1.0)\n",
            "Requirement already satisfied: grpcio>=1.8.6 in /usr/local/lib/python3.6/dist-packages (from tensorflow-gpu>=1.13.1->tensorflow-graphics-gpu) (1.29.0)\n",
            "Requirement already satisfied: opt-einsum>=2.3.2 in /usr/local/lib/python3.6/dist-packages (from tensorflow-gpu>=1.13.1->tensorflow-graphics-gpu) (3.2.1)\n",
            "Requirement already satisfied: keras-preprocessing>=1.1.0 in /usr/local/lib/python3.6/dist-packages (from tensorflow-gpu>=1.13.1->tensorflow-graphics-gpu) (1.1.2)\n",
            "Requirement already satisfied: tensorboard<2.3.0,>=2.2.0 in /usr/local/lib/python3.6/dist-packages (from tensorflow-gpu>=1.13.1->tensorflow-graphics-gpu) (2.2.2)\n",
            "Requirement already satisfied: h5py<2.11.0,>=2.10.0 in /usr/local/lib/python3.6/dist-packages (from tensorflow-gpu>=1.13.1->tensorflow-graphics-gpu) (2.10.0)\n",
            "Requirement already satisfied: setuptools in /usr/local/lib/python3.6/dist-packages (from protobuf>=3.8.0->tensorflow-gpu>=1.13.1->tensorflow-graphics-gpu) (47.1.1)\n",
            "Requirement already satisfied: werkzeug>=0.11.15 in /usr/local/lib/python3.6/dist-packages (from tensorboard<2.3.0,>=2.2.0->tensorflow-gpu>=1.13.1->tensorflow-graphics-gpu) (1.0.1)\n",
            "Requirement already satisfied: markdown>=2.6.8 in /usr/local/lib/python3.6/dist-packages (from tensorboard<2.3.0,>=2.2.0->tensorflow-gpu>=1.13.1->tensorflow-graphics-gpu) (3.2.2)\n",
            "Requirement already satisfied: google-auth<2,>=1.6.3 in /usr/local/lib/python3.6/dist-packages (from tensorboard<2.3.0,>=2.2.0->tensorflow-gpu>=1.13.1->tensorflow-graphics-gpu) (1.7.2)\n",
            "Requirement already satisfied: tensorboard-plugin-wit>=1.6.0 in /usr/local/lib/python3.6/dist-packages (from tensorboard<2.3.0,>=2.2.0->tensorflow-gpu>=1.13.1->tensorflow-graphics-gpu) (1.6.0.post3)\n",
            "Requirement already satisfied: google-auth-oauthlib<0.5,>=0.4.1 in /usr/local/lib/python3.6/dist-packages (from tensorboard<2.3.0,>=2.2.0->tensorflow-gpu>=1.13.1->tensorflow-graphics-gpu) (0.4.1)\n",
            "Requirement already satisfied: requests<3,>=2.21.0 in /usr/local/lib/python3.6/dist-packages (from tensorboard<2.3.0,>=2.2.0->tensorflow-gpu>=1.13.1->tensorflow-graphics-gpu) (2.23.0)\n",
            "Requirement already satisfied: importlib-metadata; python_version < \"3.8\" in /usr/local/lib/python3.6/dist-packages (from markdown>=2.6.8->tensorboard<2.3.0,>=2.2.0->tensorflow-gpu>=1.13.1->tensorflow-graphics-gpu) (1.6.0)\n",
            "Requirement already satisfied: pyasn1-modules>=0.2.1 in /usr/local/lib/python3.6/dist-packages (from google-auth<2,>=1.6.3->tensorboard<2.3.0,>=2.2.0->tensorflow-gpu>=1.13.1->tensorflow-graphics-gpu) (0.2.8)\n",
            "Requirement already satisfied: rsa<4.1,>=3.1.4 in /usr/local/lib/python3.6/dist-packages (from google-auth<2,>=1.6.3->tensorboard<2.3.0,>=2.2.0->tensorflow-gpu>=1.13.1->tensorflow-graphics-gpu) (4.0)\n",
            "Requirement already satisfied: cachetools<3.2,>=2.0.0 in /usr/local/lib/python3.6/dist-packages (from google-auth<2,>=1.6.3->tensorboard<2.3.0,>=2.2.0->tensorflow-gpu>=1.13.1->tensorflow-graphics-gpu) (3.1.1)\n",
            "Requirement already satisfied: requests-oauthlib>=0.7.0 in /usr/local/lib/python3.6/dist-packages (from google-auth-oauthlib<0.5,>=0.4.1->tensorboard<2.3.0,>=2.2.0->tensorflow-gpu>=1.13.1->tensorflow-graphics-gpu) (1.3.0)\n",
            "Requirement already satisfied: urllib3!=1.25.0,!=1.25.1,<1.26,>=1.21.1 in /usr/local/lib/python3.6/dist-packages (from requests<3,>=2.21.0->tensorboard<2.3.0,>=2.2.0->tensorflow-gpu>=1.13.1->tensorflow-graphics-gpu) (1.24.3)\n",
            "Requirement already satisfied: idna<3,>=2.5 in /usr/local/lib/python3.6/dist-packages (from requests<3,>=2.21.0->tensorboard<2.3.0,>=2.2.0->tensorflow-gpu>=1.13.1->tensorflow-graphics-gpu) (2.9)\n",
            "Requirement already satisfied: certifi>=2017.4.17 in /usr/local/lib/python3.6/dist-packages (from requests<3,>=2.21.0->tensorboard<2.3.0,>=2.2.0->tensorflow-gpu>=1.13.1->tensorflow-graphics-gpu) (2020.4.5.1)\n",
            "Requirement already satisfied: chardet<4,>=3.0.2 in /usr/local/lib/python3.6/dist-packages (from requests<3,>=2.21.0->tensorboard<2.3.0,>=2.2.0->tensorflow-gpu>=1.13.1->tensorflow-graphics-gpu) (3.0.4)\n",
            "Requirement already satisfied: zipp>=0.5 in /usr/local/lib/python3.6/dist-packages (from importlib-metadata; python_version < \"3.8\"->markdown>=2.6.8->tensorboard<2.3.0,>=2.2.0->tensorflow-gpu>=1.13.1->tensorflow-graphics-gpu) (3.1.0)\n",
            "Requirement already satisfied: pyasn1<0.5.0,>=0.4.6 in /usr/local/lib/python3.6/dist-packages (from pyasn1-modules>=0.2.1->google-auth<2,>=1.6.3->tensorboard<2.3.0,>=2.2.0->tensorflow-gpu>=1.13.1->tensorflow-graphics-gpu) (0.4.8)\n",
            "Requirement already satisfied: oauthlib>=3.0.0 in /usr/local/lib/python3.6/dist-packages (from requests-oauthlib>=0.7.0->google-auth-oauthlib<0.5,>=0.4.1->tensorboard<2.3.0,>=2.2.0->tensorflow-gpu>=1.13.1->tensorflow-graphics-gpu) (3.1.0)\n"
          ],
          "name": "stdout"
        }
      ]
    },
    {
      "cell_type": "code",
      "metadata": {
        "id": "VZDmNWzdK4KO",
        "colab_type": "code",
        "colab": {}
      },
      "source": [
        "import sys\n",
        "sys.path.append('/usr/local/lib/python3.7/site-packages')\n",
        "sys.path.append(\"protein-reconstruction\") "
      ],
      "execution_count": 0,
      "outputs": []
    },
    {
      "cell_type": "code",
      "metadata": {
        "id": "Zro6bM3VK4KR",
        "colab_type": "code",
        "outputId": "685fa494-b924-430d-d844-1ca815d48745",
        "colab": {
          "base_uri": "https://localhost:8080/",
          "height": 34
        }
      },
      "source": [
        "!python --version"
      ],
      "execution_count": 0,
      "outputs": [
        {
          "output_type": "stream",
          "text": [
            "Python 3.7.6\n"
          ],
          "name": "stdout"
        }
      ]
    },
    {
      "cell_type": "markdown",
      "metadata": {
        "id": "787rPWn8K4KU",
        "colab_type": "text"
      },
      "source": [
        "## Start the Pipeline"
      ]
    },
    {
      "cell_type": "code",
      "metadata": {
        "id": "06JQ1KmQK4KV",
        "colab_type": "code",
        "outputId": "9d0068c9-1100-4e7e-f51e-12eed3948396",
        "colab": {
          "base_uri": "https://localhost:8080/",
          "height": 88
        }
      },
      "source": [
        "import os\n",
        "import h5py\n",
        "import numpy as np\n",
        "import time\n",
        "import pandas as pd\n",
        "\n",
        "\n",
        "from cryoem.plots import plot_angles_count, plot_images\n",
        "from IPython.display import Image\n",
        "import matplotlib.pyplot as plt\n",
        "\n",
        "import tensorflow as tf\n",
        "from cryoem.conversions import d_q, euler2quaternion\n",
        "import ipyvolume as ipv\n",
        "from collections import Counter\n",
        "import itertools\n",
        "import seaborn as sns; sns.set(style=\"white\", color_codes=True)\n",
        "import io"
      ],
      "execution_count": 0,
      "outputs": [
        {
          "output_type": "stream",
          "text": [
            "/usr/local/lib/python3.6/dist-packages/statsmodels/tools/_testing.py:19: FutureWarning: pandas.util.testing is deprecated. Use the functions in the public API at pandas.testing instead.\n",
            "  import pandas.util.testing as tm\n",
            "Warning: To use the exr data format, please install the OpenEXR package following the instructions detailed in the README at github.com/tensorflow/graphics.\n"
          ],
          "name": "stderr"
        }
      ]
    },
    {
      "cell_type": "code",
      "metadata": {
        "id": "m9Os8XDOK4KY",
        "colab_type": "code",
        "outputId": "818c83d9-4c10-4b1b-b25c-729dd6255c64",
        "colab": {
          "base_uri": "https://localhost:8080/",
          "height": 34
        }
      },
      "source": [
        "tf.__version__"
      ],
      "execution_count": 0,
      "outputs": [
        {
          "output_type": "execute_result",
          "data": {
            "text/plain": [
              "'2.2.0'"
            ]
          },
          "metadata": {
            "tags": []
          },
          "execution_count": 10
        }
      ]
    },
    {
      "cell_type": "code",
      "metadata": {
        "id": "ShUD7yqTK4Kb",
        "colab_type": "code",
        "outputId": "1ac3b62d-7109-4087-a2ae-954e5c81c527",
        "colab": {
          "base_uri": "https://localhost:8080/",
          "height": 544
        }
      },
      "source": [
        "from tensorflow.python.client import device_lib \n",
        "print(device_lib.list_local_devices())"
      ],
      "execution_count": 0,
      "outputs": [
        {
          "output_type": "stream",
          "text": [
            "[name: \"/device:CPU:0\"\n",
            "device_type: \"CPU\"\n",
            "memory_limit: 268435456\n",
            "locality {\n",
            "}\n",
            "incarnation: 6161942927743103472\n",
            ", name: \"/device:XLA_CPU:0\"\n",
            "device_type: \"XLA_CPU\"\n",
            "memory_limit: 17179869184\n",
            "locality {\n",
            "}\n",
            "incarnation: 5042761869855322907\n",
            "physical_device_desc: \"device: XLA_CPU device\"\n",
            ", name: \"/device:XLA_GPU:0\"\n",
            "device_type: \"XLA_GPU\"\n",
            "memory_limit: 17179869184\n",
            "locality {\n",
            "}\n",
            "incarnation: 11111926071931380141\n",
            "physical_device_desc: \"device: XLA_GPU device\"\n",
            ", name: \"/device:GPU:0\"\n",
            "device_type: \"GPU\"\n",
            "memory_limit: 15788201792\n",
            "locality {\n",
            "  bus_id: 1\n",
            "  links {\n",
            "  }\n",
            "}\n",
            "incarnation: 13534563254768713859\n",
            "physical_device_desc: \"device: 0, name: Tesla P100-PCIE-16GB, pci bus id: 0000:00:04.0, compute capability: 6.0\"\n",
            "]\n"
          ],
          "name": "stdout"
        }
      ]
    },
    {
      "cell_type": "code",
      "metadata": {
        "id": "kZFVlYW4K4Ke",
        "colab_type": "code",
        "colab": {}
      },
      "source": [
        "PROTEIN=\"5j0n\"\n",
        "NUM_PROJECTIONS = 5000"
      ],
      "execution_count": 0,
      "outputs": []
    },
    {
      "cell_type": "code",
      "metadata": {
        "id": "-q8GWm2EK4Kh",
        "colab_type": "code",
        "outputId": "0ba71315-1ce1-4d52-ff77-31e535a6c7da",
        "colab": {
          "base_uri": "https://localhost:8080/",
          "height": 51
        }
      },
      "source": [
        "# location of *.h5 files\n",
        "data_dir = \"data/5j0n/\"\n",
        "\n",
        "# TODO: dataset name\n",
        "projections_filename = f\"{PROTEIN}_ProjectionsAngles_ProjNber5000_AngCoverage2.0,0.4,2.0_AngShift0.0,0.0,0.0.h5\"\n",
        "\n",
        "# load structures\n",
        "data = h5py.File(os.path.join(data_dir, projections_filename), 'r')\n",
        "\n",
        "print(f\"{data['Projections'].shape[0]} projections of images with dimension {data['Projections'].shape[1:]} pixels\")\n",
        "print(f\"{data['Angles'].shape[0]} sets of {data['Angles'].shape[1]} ground truth angles of corresponding projection images\")"
      ],
      "execution_count": 0,
      "outputs": [
        {
          "output_type": "stream",
          "text": [
            "5000 projections of images with dimension (116, 116) pixels\n",
            "5000 sets of 3 ground truth angles of corresponding projection images\n"
          ],
          "name": "stdout"
        }
      ]
    },
    {
      "cell_type": "code",
      "metadata": {
        "id": "2zARA9L2K4Kj",
        "colab_type": "code",
        "outputId": "5c5e8218-9c62-4b5b-a2cf-ac7b2d1035b3",
        "colab": {
          "base_uri": "https://localhost:8080/",
          "height": 34
        }
      },
      "source": [
        "projections = data['Projections']\n",
        "projections.shape"
      ],
      "execution_count": 0,
      "outputs": [
        {
          "output_type": "execute_result",
          "data": {
            "text/plain": [
              "(5000, 116, 116)"
            ]
          },
          "metadata": {
            "tags": []
          },
          "execution_count": 14
        }
      ]
    },
    {
      "cell_type": "code",
      "metadata": {
        "id": "bIQzyIQnxgts",
        "colab_type": "code",
        "outputId": "df7c02b0-4ae8-49fe-be17-3476a709e94c",
        "colab": {
          "base_uri": "https://localhost:8080/",
          "height": 271
        }
      },
      "source": [
        "sampleProj = projections[1,:,:]\n",
        "plt.imshow(sampleProj,cmap='gray')\n",
        "plt.show()"
      ],
      "execution_count": 0,
      "outputs": [
        {
          "output_type": "display_data",
          "data": {
            "image/png": "[encoded data removed]",
            "text/plain": [
              "<Figure size 432x288 with 1 Axes>"
            ]
          },
          "metadata": {
            "tags": []
          }
        }
      ]
    },
    {
      "cell_type": "code",
      "metadata": {
        "id": "PpprtZ8vwc39",
        "colab_type": "code",
        "colab": {}
      },
      "source": [
        "def addGaussianNoise(projections, noise_var):\n",
        "    noise_sigma   = noise_var**0.5\n",
        "    nproj,row,col = projections.shape\n",
        "    gauss_noise   = np.random.normal(0,noise_sigma,(nproj,row,col))\n",
        "    gauss_noise   = gauss_noise.reshape(nproj,row,col) \n",
        "    projections   = projections + gauss_noise\n",
        "    return projections"
      ],
      "execution_count": 0,
      "outputs": []
    },
    {
      "cell_type": "code",
      "metadata": {
        "id": "oCD6IwpOr3_A",
        "colab_type": "code",
        "colab": {}
      },
      "source": [
        "# Add zero-mean Gaussian noise on the projections \n",
        "noise_var     = 10 # vary from 1 to 10\n",
        "projections = addGaussianNoise(projections, noise_var)"
      ],
      "execution_count": 0,
      "outputs": []
    },
    {
      "cell_type": "code",
      "metadata": {
        "id": "qR8J0QCmxG-y",
        "colab_type": "code",
        "outputId": "37ee7ce6-65cb-4610-80b2-901fe13be816",
        "colab": {
          "base_uri": "https://localhost:8080/",
          "height": 271
        }
      },
      "source": [
        "# Display projections with/out noise (for comparison)\n",
        "sampleProj = projections[1,:,:]\n",
        "plt.imshow(sampleProj,cmap='gray')\n",
        "plt.show()"
      ],
      "execution_count": 0,
      "outputs": [
        {
          "output_type": "display_data",
          "data": {
            "image/png": "[encoded data removed]",
            "text/plain": [
              "<Figure size 432x288 with 1 Axes>"
            ]
          },
          "metadata": {
            "tags": []
          }
        }
      ]
    },
    {
      "cell_type": "code",
      "metadata": {
        "scrolled": true,
        "id": "X_voGDMSK4Kn",
        "colab_type": "code",
        "outputId": "69d77bc0-4162-48aa-ebbd-3cafd2c059c0",
        "colab": {
          "base_uri": "https://localhost:8080/",
          "height": 34
        }
      },
      "source": [
        "angles_true = np.array(data['Angles'])\n",
        "angles_true.shape"
      ],
      "execution_count": 0,
      "outputs": [
        {
          "output_type": "execute_result",
          "data": {
            "text/plain": [
              "(5000, 3)"
            ]
          },
          "metadata": {
            "tags": []
          },
          "execution_count": 19
        }
      ]
    },
    {
      "cell_type": "code",
      "metadata": {
        "id": "WJvZ8_XPK4Kp",
        "colab_type": "code",
        "colab": {}
      },
      "source": [
        "#plot_images(angles_true, projections, range(100), img_size_scale=0.05)"
      ],
      "execution_count": 0,
      "outputs": []
    },
    {
      "cell_type": "code",
      "metadata": {
        "id": "Z-CMl6nMK4Ks",
        "colab_type": "code",
        "colab": {}
      },
      "source": [
        "#ipv.screenshot()"
      ],
      "execution_count": 0,
      "outputs": []
    },
    {
      "cell_type": "markdown",
      "metadata": {
        "id": "xJhOqdOnK4Kv",
        "colab_type": "text"
      },
      "source": [
        "---"
      ]
    },
    {
      "cell_type": "markdown",
      "metadata": {
        "id": "5-mkqsaEK4Kw",
        "colab_type": "text"
      },
      "source": [
        "## Prepare for training"
      ]
    },
    {
      "cell_type": "code",
      "metadata": {
        "id": "r_RDAMqvK4Kw",
        "colab_type": "code",
        "colab": {}
      },
      "source": [
        "from sklearn.model_selection import train_test_split"
      ],
      "execution_count": 0,
      "outputs": []
    },
    {
      "cell_type": "code",
      "metadata": {
        "id": "O_lxJ3huK4K0",
        "colab_type": "code",
        "colab": {}
      },
      "source": [
        "X, y = np.array(projections, dtype=np.float32), np.array(angles_true, dtype=np.float32)"
      ],
      "execution_count": 0,
      "outputs": []
    },
    {
      "cell_type": "markdown",
      "metadata": {
        "id": "4f-dUZ4kK4K3",
        "colab_type": "text"
      },
      "source": [
        "#### Global standardization of projections"
      ]
    },
    {
      "cell_type": "code",
      "metadata": {
        "id": "X6A3wHMVK4K3",
        "colab_type": "code",
        "colab": {}
      },
      "source": [
        "from cryoem.distance_estimation import global_standardization"
      ],
      "execution_count": 0,
      "outputs": []
    },
    {
      "cell_type": "code",
      "metadata": {
        "id": "3pRAKWKmK4K6",
        "colab_type": "code",
        "outputId": "472a785e-e394-435e-b2ac-47b703f7de4f",
        "colab": {
          "base_uri": "https://localhost:8080/",
          "height": 136
        }
      },
      "source": [
        "X = global_standardization(X)"
      ],
      "execution_count": 0,
      "outputs": [
        {
          "output_type": "stream",
          "text": [
            "Image shape: (116, 116)\n",
            "Data Type: float32\n",
            "***\n",
            "Mean: 0.263 | Std: 3.331\n",
            "Min:  -18.260 | Max: 24.357\n",
            "Mean: 0.000 | Std: 1.000\n",
            "Min:  -5.561 | Max: 7.234\n"
          ],
          "name": "stdout"
        }
      ]
    },
    {
      "cell_type": "code",
      "metadata": {
        "id": "lVRXjdE3K4K9",
        "colab_type": "code",
        "colab": {}
      },
      "source": [
        "test_size = 0.33\n",
        "val_size = 0.25"
      ],
      "execution_count": 0,
      "outputs": []
    },
    {
      "cell_type": "code",
      "metadata": {
        "id": "8z6j60rQK4K_",
        "colab_type": "code",
        "colab": {}
      },
      "source": [
        "# the data, split between train and test sets\n",
        "train_idx, test_idx = train_test_split(range(NUM_PROJECTIONS), \n",
        "                                       test_size=test_size, \n",
        "                                       random_state=42)\n",
        "train_idx, val_idx= train_test_split(train_idx, \n",
        "                                     test_size=val_size, \n",
        "                                     random_state=1)\n",
        "\n",
        "train_idx = sorted(train_idx)\n",
        "val_idx = sorted(val_idx)\n",
        "test_idx = sorted(test_idx)\n",
        "\n",
        "np.savez(\"data/5j0n/5j0n_siamese_noisy_idx\", train_idx, val_idx, test_idx)"
      ],
      "execution_count": 0,
      "outputs": []
    },
    {
      "cell_type": "code",
      "metadata": {
        "id": "fRyiZcWPK4LC",
        "colab_type": "code",
        "outputId": "86aabf9f-317a-464e-932d-0c68bc549b1f",
        "colab": {
          "base_uri": "https://localhost:8080/",
          "height": 68
        }
      },
      "source": [
        "print(f\"TRAIN: {1-test_size:.2f} x {1-val_size:.2f} = {(1-test_size)*(1-val_size):.2f} => {str(int((1-test_size)*(1-val_size)*5000)).rjust(5)} imgs => max pairs: {str(int(np.power((1-test_size)*(1-val_size)*5000, 2))).rjust(10)}\")\n",
        "print(f\"TEST : {str(test_size).rjust(18)} => {str(int(test_size*5000)).rjust(5)} imgs => max pairs: {str(int(np.power(test_size*5000, 2))).rjust(10)}\")\n",
        "print(f\"VAL  : {1-test_size:.2f} x {val_size:.2f} = {(1-test_size)*val_size:.2f} => {str(int((1-test_size)*val_size*5000)).rjust(5)} imgs => max pairs: {str(int(np.power((1-test_size)*val_size*5000, 2))).rjust(10)}\")"
      ],
      "execution_count": 0,
      "outputs": [
        {
          "output_type": "stream",
          "text": [
            "TRAIN: 0.67 x 0.75 = 0.50 =>  2512 imgs => max pairs:    6312656\n",
            "TEST :               0.33 =>  1650 imgs => max pairs:    2722500\n",
            "VAL  : 0.67 x 0.25 = 0.17 =>   837 imgs => max pairs:     701406\n"
          ],
          "name": "stdout"
        }
      ]
    },
    {
      "cell_type": "code",
      "metadata": {
        "id": "dmtJEGv1K4LF",
        "colab_type": "code",
        "colab": {}
      },
      "source": [
        "data = np.load(\"data/5j0n/5j0n_siamese_noisy_idx.npz\")\n",
        "train_idx, val_idx, test_idx = data[\"arr_0\"], data[\"arr_1\"], data[\"arr_2\"]"
      ],
      "execution_count": 0,
      "outputs": []
    },
    {
      "cell_type": "code",
      "metadata": {
        "id": "KNkQKrfJK4LH",
        "colab_type": "code",
        "colab": {}
      },
      "source": [
        "X = np.stack((X,)*3, axis=-1)"
      ],
      "execution_count": 0,
      "outputs": []
    },
    {
      "cell_type": "code",
      "metadata": {
        "id": "WCOYGoQRK4LK",
        "colab_type": "code",
        "outputId": "3ee8e5fc-2424-42ab-b8cf-f9d4fa7de440",
        "colab": {
          "base_uri": "https://localhost:8080/",
          "height": 34
        }
      },
      "source": [
        "X.shape"
      ],
      "execution_count": 0,
      "outputs": [
        {
          "output_type": "execute_result",
          "data": {
            "text/plain": [
              "(5000, 116, 116, 3)"
            ]
          },
          "metadata": {
            "tags": []
          },
          "execution_count": 31
        }
      ]
    },
    {
      "cell_type": "markdown",
      "metadata": {
        "id": "YZ71Z1DWK4LM",
        "colab_type": "text"
      },
      "source": [
        "# 1. Distance Estimation"
      ]
    },
    {
      "cell_type": "markdown",
      "metadata": {
        "id": "0ZRKoKicK4LN",
        "colab_type": "text"
      },
      "source": [
        "### Train the model"
      ]
    },
    {
      "cell_type": "code",
      "metadata": {
        "id": "HceKfhOaK4LN",
        "colab_type": "code",
        "colab": {}
      },
      "source": [
        "from time import time"
      ],
      "execution_count": 0,
      "outputs": []
    },
    {
      "cell_type": "code",
      "metadata": {
        "id": "hqkn_ZVBK4LQ",
        "colab_type": "code",
        "colab": {}
      },
      "source": [
        "# CALCULATE FULL \n",
        "from tensorflow.keras.utils import Sequence\n",
        "\n",
        "num_dec = 1\n",
        "num_bins = 32\n",
        "\n",
        "class DataGenerator(Sequence):\n",
        "    \n",
        "    def __init__(self, X, y, list_ids, limit_num_pairs=None, limit_style=\"random\", batch_size=256, shuffle=True):\n",
        "        start_time = time()\n",
        "        if batch_size > limit_num_pairs:\n",
        "            raise Exception(\"Please specify limit_num_pairs that is much higher than batch_size\")\n",
        "        self.X = X  \n",
        "        self.y = y  \n",
        "        self.limit_num_pairs = limit_num_pairs\n",
        "        self.list_ids = list_ids\n",
        "        self.batch_size = batch_size  \n",
        "        # all the possible combinations of 2 image id pairs\n",
        "        self.pair_ids = np.array(list(zip(*list(map(lambda x: x.flatten(), np.meshgrid(list_ids, list_ids))))))  # e.g. train_idx\n",
        "        \n",
        "        # Don't use all possible combination of pairs, limit them here\n",
        "        if self.limit_num_pairs:\n",
        "            limited_pair_indices = np.random.choice(np.arange(len(self.pair_ids)), size=self.limit_num_pairs)\n",
        "            self.pair_ids = self.pair_ids[limited_pair_indices]\n",
        "        \n",
        "        if limit_style==\"uniform\":\n",
        "            self.pair_ids = self._generate_uniform()\n",
        "      \n",
        "  \n",
        "        self.shuffle = shuffle \n",
        "        self._on_epoch_start()\n",
        "        print(f\"Data created in {time()-start_time} sec\")\n",
        "        \n",
        "        \n",
        "    def _generate_uniform(self):\n",
        "        if os.path.exists(f\"data/5j0n/{len(self.list_ids)}_{self.limit_num_pairs}_{self.batch_size}.npy\"):\n",
        "            return np.load(f\"data/5j0n/{len(self.list_ids)}_{self.limit_num_pairs}_{self.batch_size}.npy\")\n",
        "        else:\n",
        "            bins = {}\n",
        "            for i in np.arange(0.0, 3.14, step=0.1): # so we have 32 bins\n",
        "                bins[np.around(i, num_dec)] = []\n",
        "\n",
        "\n",
        "            for idx1, idx2 in self.pair_ids:\n",
        "                label = d_q(euler2quaternion(self.y[idx1]), euler2quaternion(self.y[idx2]))\n",
        "                bins[np.around(label, num_dec)].append([idx1, idx2])\n",
        "\n",
        "            min_bin_size = len(bins[min(bins.keys(), key=lambda x: len(bins[x]))])\n",
        "            print(\"min=\", min_bin_size)\n",
        "            if min_bin_size == 0:\n",
        "                raise Exception(\"It haven't yet managed to fill all the bins, please increase limit_num_pairs\")\n",
        "\n",
        "\n",
        "            # cut the top of histogram to make it uniform\n",
        "            for i in np.arange(0.0, 3.14, step=0.1): # so we have 32 bins\n",
        "                b = np.around(i, num_dec)\n",
        "                bins[b] = np.take(bins[b], np.arange(min_bin_size), axis=0)  \n",
        "\n",
        "            l = np.array(list(itertools.chain(*list(bins.values()))))\n",
        "            np.save(f\"data/5j0n/{len(self.list_ids)}_{self.limit_num_pairs}_{self.batch_size}.npy\", l)\n",
        "            print(\"total number of data = \", 31*min_bin_size)\n",
        "            return l\n",
        "    \n",
        "    def __len__(self):\n",
        "        # Denotes the number of batches per epoch\n",
        "        if len(self.pair_ids)%self.batch_size == 0:\n",
        "            return len(self.pair_ids) // self.batch_size\n",
        "        else:\n",
        "            return len(self.pair_ids) // self.batch_size + 1\n",
        "        \n",
        "    def __getitem__(self, index):\n",
        "        # Generate one batch of data\n",
        "        indices = self.indices[index*self.batch_size:(index+1)*self.batch_size]\n",
        "        \n",
        "        # Find list of ids\n",
        "        list_ids_batch = np.take(self.pair_ids, indices, axis=0)\n",
        "\n",
        "        # Generate data\n",
        "        idx1, idx2 = list_ids_batch[:,0], list_ids_batch[:,1]\n",
        "        pairs = np.stack((self.X[idx1], self.X[idx2]), axis=1)  # shape: (len(idx1), 2, x.shape[1], x.shape[2], x.shape[3])\n",
        "        labels = d_q(euler2quaternion(self.y[idx1]), euler2quaternion(self.y[idx2]))  # shape: len(idx1)\n",
        "\n",
        "        # [training_pairs[:, 0], training_pairs[:, 1]], labels\n",
        "        return [pairs[:, 0], pairs[:, 1]], labels \n",
        "        \n",
        "    def _on_epoch_start(self):\n",
        "        # Updates indices after each epoch\n",
        "        self.indices = np.arange(len(self.pair_ids))\n",
        "        if self.shuffle:\n",
        "            np.random.shuffle(self.indices)     "
      ],
      "execution_count": 0,
      "outputs": []
    },
    {
      "cell_type": "code",
      "metadata": {
        "id": "Ui3KmgarK4LT",
        "colab_type": "code",
        "colab": {}
      },
      "source": [
        "import tensorflow_probability as tfp\n",
        "import os\n",
        "import h5py\n",
        "from time import time, strftime\n",
        "from datetime import datetime\n",
        "import matplotlib.pyplot as plt\n",
        "import numpy as np\n",
        "from sklearn.model_selection import train_test_split\n",
        "import pathlib\n",
        "\n",
        "from cryoem.rotation_matrices import RotationMatrix\n",
        "from cryoem.conversions import euler2quaternion, d_q\n",
        "from cryoem.knn import get_knn_projections\n",
        "\n",
        "import random\n",
        "import tensorflow as tf\n",
        "from tensorflow.keras.datasets import mnist\n",
        "from tensorflow.keras.models import Model\n",
        "from tensorflow.python.keras.applications.mobilenet import MobileNet\n",
        "from tensorflow.keras.layers import Input, Conv2D, MaxPooling2D, AvgPool2D, Lambda, ZeroPadding2D, Dropout, Concatenate, Dense, GlobalAveragePooling2D, Flatten\n",
        "from tensorflow.keras.optimizers import RMSprop, Adam, SGD\n",
        "from tensorflow.keras import backend as K\n",
        "from tensorflow.keras.callbacks import ModelCheckpoint,ReduceLROnPlateau\n",
        "from tensorflow.keras.callbacks import TensorBoard\n",
        "from tensorflow.keras.utils import plot_model, multi_gpu_model\n",
        "#from tensorflow.python.keras.applications.resnet50 import ResNet50\n",
        "from tensorflow.python.keras.applications.inception_v3 import InceptionV3\n",
        "from tensorflow.keras.losses import KLD, MAE, MSE\n",
        "\n",
        "_idx1 = list(np.random.choice(val_idx, size=1000))\n",
        "_idx2 = list(np.random.choice(val_idx, size=1000))\n",
        "\n",
        "q1_true = euler2quaternion([angles_true[i] for i in _idx1])\n",
        "q2_true = euler2quaternion([angles_true[i] for i in _idx2])\n",
        "\n",
        "p1 = [X[i] for i in _idx1]\n",
        "p2 = [X[i] for i in _idx2]\n",
        "\n",
        "model = None\n",
        "\n",
        "def euclidean_distance(vects):\n",
        "    x, y = vects\n",
        "    sum_square = K.sum(K.square(x - y), axis=1, keepdims=True)\n",
        "    return K.sqrt(K.maximum(sum_square, K.epsilon()))\n",
        "\n",
        "def eucl_dist_output_shape(shapes):\n",
        "    shape1, shape2 = shapes\n",
        "    return (shape1[0], 1)\n",
        "\n",
        "\n",
        "def mae(y_true, y_pred):\n",
        "    return MAE(y_true, y_pred) \n",
        "\n",
        "def mse(y_true, y_pred):\n",
        "    return MSE(y_true, y_pred) \n",
        "\n",
        "\n",
        "def create_siamese_network(input_shape):\n",
        "    # first: train only the top layers (which were randomly initialized)\n",
        "    # i.e. freeze all convolutional InceptionV3 layers\n",
        "    input_x = Input(shape=input_shape)\n",
        "    base_model = MobileNet(weights='imagenet', include_top=False, input_tensor=input_x, input_shape=input_shape)\n",
        "    x = base_model.layers[-1].output\n",
        "\n",
        "    # add a global spatial average pooling layer\n",
        "    x = GlobalAveragePooling2D()(x)\n",
        "\n",
        "    return Model(input_x, x)\n",
        "\n",
        "def create_distance_network(input_shape):\n",
        "    # ref: https://github.com/guanjianyu/DisNet/blob/master/Train_DisNet.py\n",
        "    # ref: https://project.inria.fr/ppniv18/files/2018/10/paper22.pdf\n",
        "    input_x = Input(shape=input_shape)\n",
        "   \n",
        "    x = Dense(2000, activation=\"relu\")(input_x)\n",
        "    x = Dense(2000, activation=\"relu\")(x)\n",
        "    x = Dense(2000, activation=\"relu\")(x)\n",
        "    x = Dense(2000, activation=\"relu\")(x)\n",
        "    x = Dense(1000, activation=\"relu\")(x)\n",
        "    x = Dense(1000, activation=\"relu\")(x)\n",
        "    x = Dense(1, activation=\"relu\")(x)\n",
        "    \n",
        "    return Model(input_x, x)\n",
        "\n",
        "\n",
        "\n",
        "def train_siamese(X, y, train_idx, val_idx, epochs_top, epochs_full, batch_size, learning_rate, training_steps=None, validation_steps=None, plot=True, gpus=None):\n",
        "    \n",
        "    \n",
        "    def d_p(p1, p2):\n",
        "        global model\n",
        "        p1 = tf.cast(p1, dtype=tf.float32)\n",
        "        p2 = tf.cast(p2, dtype=tf.float32)\n",
        "        return model.predict([p1, p2], batch_size=256)\n",
        "\n",
        "    def plot_to_image(figure):\n",
        "        \"\"\"Converts the matplotlib plot specified by 'figure' to a PNG image and\n",
        "        returns it. The supplied figure is closed and inaccessible after this call.\"\"\"\n",
        "        # Save the plot to a PNG in memory.\n",
        "        buf = io.BytesIO()\n",
        "        plt.savefig(buf, format='png')\n",
        "        # Closing the figure prevents it from being displayed directly inside\n",
        "        # the notebook.\n",
        "        plt.close(figure)\n",
        "        buf.seek(0)\n",
        "        # Convert PNG buffer to TF image\n",
        "        image = tf.image.decode_png(buf.getvalue(), channels=4)\n",
        "        # Add the batch dimension\n",
        "        image = tf.expand_dims(image, 0)\n",
        "        return image\n",
        "\n",
        "    def generate_dPdQ_plot(file_writer_plot):\n",
        "        \"\"\"Source: https://www.tensorflow.org/tensorboard/image_summaries#logging_arbitrary_image_data\"\"\"\n",
        "\n",
        "        dP_values = d_p(p1, p2).T[0]\n",
        "        dQ_values = d_q(q1_true, q2_true).numpy()\n",
        "\n",
        "        def _inner_plot(epoch, logs):\n",
        "            \"\"\"Generate dP/dQ plot for tensorboard\"\"\"\n",
        "            #plt.clf()\n",
        "            # Creating the dataframe for SNS plot\n",
        "            data = {\"d_Q\" : dQ_values, \"d_P\" : dP_values }\n",
        "            df1 = pd.DataFrame(data=data)\n",
        "\n",
        "            fig, ax = plt.subplots(figsize=(6,6));\n",
        "            sns.scatterplot(x=\"d_Q\", y=\"d_P\", data=df1, color=\"b\", alpha=0.3, label=\"projection pair\", ax=ax);  # \"reg\", \"kde\"\n",
        "            x = np.arange(0, np.pi);\n",
        "            sns.regplot(x=x, y=x, color=\"k\", ax=ax)\n",
        "            #g = sns.jointplot(x=\"d_Q\", y=\"d_P\", data=df1, color=\"b\", alpha=0.3, label=\"projection pair\", kind=\"kde\");  # \"reg\", \"kde\"\n",
        "            #plt.show()\n",
        "            \n",
        "            # Log the confusion matrix as an image summary.\n",
        "            with file_writer_plot.as_default():\n",
        "                tf.summary.image(\"dP/dQ plot\", plot_to_image(fig), step=epoch)\n",
        "        \n",
        "        return _inner_plot\n",
        "\n",
        "    mirrored_strategy = tf.distribute.MirroredStrategy()\n",
        "    \n",
        "    with mirrored_strategy.scope():\n",
        "        # Prepare data generators\n",
        "        training_generator = DataGenerator(X, y, train_idx, limit_num_pairs=training_steps, limit_style=\"uniform\", shuffle=True)\n",
        "        validation_generator = DataGenerator(X, y, val_idx, limit_num_pairs=validation_steps, limit_style=\"uniform\", shuffle=True)\n",
        "        \n",
        "        input_shape = tuple(list(X.shape[1:])) #training_pairs[:, 0].shape[1:]\n",
        "        print(f\"Input images shape {input_shape}\")\n",
        "\n",
        "        # network definition\n",
        "        input_a = Input(shape=input_shape)\n",
        "        input_b = Input(shape=input_shape)\n",
        "        cnn_network = create_siamese_network(input_shape)\n",
        "        \n",
        "        # because we re-use the same instance `cnn_network`,\n",
        "        # the weights of the network will be shared across the two branches\n",
        "        processed_a = cnn_network(input_a)\n",
        "        processed_b = cnn_network(input_b)\n",
        "\n",
        "        \n",
        "        distance = Lambda(euclidean_distance, output_shape=eucl_dist_output_shape)([processed_a, processed_b])\n",
        "\n",
        "        global model\n",
        "        model = Model([input_a, input_b], distance)  # was m\n",
        "\n",
        "        # train\n",
        "        #model = multi_gpu_model(m, gpus=gpus)\n",
        "        model.summary()\n",
        "        #plot_model(model, to_file=\"figures/model_plot.png\", expand_nested=True, show_shapes=True, show_layer_names=True)\n",
        "\n",
        "        # training only top layers\n",
        "        optimizer1 = RMSprop(learning_rate=learning_rate)\n",
        "        model.compile(loss=mae, optimizer=optimizer1, metrics=[mse], sample_weight_mode=None)\n",
        "        \n",
        "        # Setup callbacks\n",
        "        LOGS_PATH = os.path.join(\"logs\", strftime('%Y%m%d_%H%M%S'))\n",
        "        pathlib.Path(LOGS_PATH).mkdir(parents=True, exist_ok=True)\n",
        "        logs_callback = TensorBoard(LOGS_PATH, histogram_freq=1) #, profile_batch=300)#100000000)\n",
        "        \n",
        "        file_writer_plot = tf.summary.create_file_writer(os.path.join(LOGS_PATH, \"image\"))\n",
        "        plot_callback = tf.keras.callbacks.LambdaCallback(on_epoch_end=generate_dPdQ_plot(file_writer_plot))\n",
        "\n",
        "        history1 = model.fit(training_generator, \n",
        "                            epochs=epochs_top,\n",
        "                            validation_data=validation_generator, \n",
        "                            callbacks=[plot_callback, logs_callback])\n",
        "        \n",
        "        \n",
        "        if plot:\n",
        "            # Get training and test loss histories\n",
        "            training_loss = history1.history['loss']\n",
        "            val_loss = history1.history['val_loss']\n",
        "            mses = history1.history['mse']\n",
        "            val_mses = history1.history['val_mse']\n",
        "\n",
        "            fig, (ax1, ax2) = plt.subplots(1, 2, figsize=(15,7))\n",
        "\n",
        "            # Create count of the number of epochs\n",
        "            epoch_count = range(1, len(training_loss) + 1)\n",
        "\n",
        "            # Visualize loss history\n",
        "            ax1.plot(epoch_count, training_loss, 'r--', label='MAE Training Loss')\n",
        "            ax1.plot(epoch_count, val_loss, 'b-', label='MAE Validation Loss')\n",
        "            ax1.legend()\n",
        "            ax1.set_xlabel('Epoch')\n",
        "            ax1.set_ylabel('Loss')\n",
        "\n",
        "            ax2.plot(epoch_count, mses, 'r-', label='MSE Training')\n",
        "            ax2.plot(epoch_count, val_mses, 'b-', label='MSE Validation')\n",
        "            ax2.legend()\n",
        "            ax2.set_xlabel('Epoch')\n",
        "            ax2.set_ylabel('Loss')\n",
        "            plt.show();\n",
        "\n",
        "        model_filename = f\"training/{strftime('%Y%m%d_%H%M%S')}.h5\"\n",
        "        model.save(model_filename) \n",
        "        print(f\"Model saved to: {model_filename}\")\n",
        "\n",
        "        return model, history1\n",
        "\n",
        "def plot_results(projections, y_pred, y, strtype):\n",
        "    if projections.shape[-1] == 1:\n",
        "        projections = projections.reshape(list(projections.shape[:-2]) +[-1])\n",
        "\n",
        "    def _inner(i):\n",
        "        \n",
        "        plt.imfig, (ax1, ax2) = plt.subplots(1, 2)\n",
        "        ax1.imshow(projections[i, 0])\n",
        "        ax2.imshow(projections[i, 1])\n",
        "\n",
        "        print(f\"--- {strtype} Set ---\")\n",
        "        print(f\"predicted: {y_pred[i][0]}\")\n",
        "        print(f\"true:      {y[i].numpy()}\")\n",
        "        print(f\"mse:       {mse(y_pred[i], y[i].numpy())}\")\n",
        "        print(f\"mae:       {mae(y_pred[i], y[i].numpy())}\")\n",
        "        \n",
        "    return _inner"
      ],
      "execution_count": 0,
      "outputs": []
    },
    {
      "cell_type": "code",
      "metadata": {
        "id": "qOYwbjOzK4LV",
        "colab_type": "code",
        "outputId": "38b31b34-0d5d-43fb-c27f-f338cb0b822d",
        "colab": {
          "base_uri": "https://localhost:8080/",
          "height": 34
        }
      },
      "source": [
        "train_percent = 0.1\n",
        "val_percent = 0.1\n",
        "int(train_percent*np.power(len(train_idx), 2)), int(val_percent*np.power(len(val_idx), 2))"
      ],
      "execution_count": 0,
      "outputs": [
        {
          "output_type": "execute_result",
          "data": {
            "text/plain": [
              "(631014, 70224)"
            ]
          },
          "metadata": {
            "tags": []
          },
          "execution_count": 35
        }
      ]
    },
    {
      "cell_type": "code",
      "metadata": {
        "scrolled": true,
        "id": "8HWI9cfqK4LY",
        "colab_type": "code",
        "outputId": "81f7ec1b-3943-4b59-c409-e64503b6b154",
        "colab": {
          "base_uri": "https://localhost:8080/",
          "height": 1000
        }
      },
      "source": [
        "model, history1 = train_siamese(X=X, y=y, \n",
        "                               train_idx=train_idx, \n",
        "                               val_idx=val_idx,\n",
        "                               epochs_top=200,  #500\n",
        "                               epochs_full=None,\n",
        "                               batch_size=256,  #512 latest \n",
        "                               learning_rate=1e-3,  #0.01 \n",
        "                               training_steps=int(train_percent*np.power(len(train_idx), 2)),  # None\n",
        "                               validation_steps=int(val_percent*np.power(len(val_idx), 2)),  # None\n",
        "                               plot=True,\n",
        "                               gpus=None)"
      ],
      "execution_count": 0,
      "outputs": [
        {
          "output_type": "stream",
          "text": [
            "INFO:tensorflow:Using MirroredStrategy with devices ('/job:localhost/replica:0/task:0/device:GPU:0',)\n",
            "Data created in 4.1812145709991455 sec\n",
            "Data created in 0.4681229591369629 sec\n",
            "Input images shape (116, 116, 3)\n",
            "WARNING:tensorflow:`input_shape` is undefined or non-square, or `rows` is not in [128, 160, 192, 224]. Weights for input shape (224, 224) will be loaded as the default.\n",
            "INFO:tensorflow:Reduce to /job:localhost/replica:0/task:0/device:CPU:0 then broadcast to ('/job:localhost/replica:0/task:0/device:CPU:0',).\n",
            "INFO:tensorflow:Reduce to /job:localhost/replica:0/task:0/device:CPU:0 then broadcast to ('/job:localhost/replica:0/task:0/device:CPU:0',).\n",
            "INFO:tensorflow:Reduce to /job:localhost/replica:0/task:0/device:CPU:0 then broadcast to ('/job:localhost/replica:0/task:0/device:CPU:0',).\n",
            "INFO:tensorflow:Reduce to /job:localhost/replica:0/task:0/device:CPU:0 then broadcast to ('/job:localhost/replica:0/task:0/device:CPU:0',).\n",
            "INFO:tensorflow:Reduce to /job:localhost/replica:0/task:0/device:CPU:0 then broadcast to ('/job:localhost/replica:0/task:0/device:CPU:0',).\n",
            "INFO:tensorflow:Reduce to /job:localhost/replica:0/task:0/device:CPU:0 then broadcast to ('/job:localhost/replica:0/task:0/device:CPU:0',).\n",
            "INFO:tensorflow:Reduce to /job:localhost/replica:0/task:0/device:CPU:0 then broadcast to ('/job:localhost/replica:0/task:0/device:CPU:0',).\n",
            "INFO:tensorflow:Reduce to /job:localhost/replica:0/task:0/device:CPU:0 then broadcast to ('/job:localhost/replica:0/task:0/device:CPU:0',).\n",
            "INFO:tensorflow:Reduce to /job:localhost/replica:0/task:0/device:CPU:0 then broadcast to ('/job:localhost/replica:0/task:0/device:CPU:0',).\n",
            "INFO:tensorflow:Reduce to /job:localhost/replica:0/task:0/device:CPU:0 then broadcast to ('/job:localhost/replica:0/task:0/device:CPU:0',).\n",
            "Model: \"model_1\"\n",
            "__________________________________________________________________________________________________\n",
            "Layer (type)                    Output Shape         Param #     Connected to                     \n",
            "==================================================================================================\n",
            "input_1 (InputLayer)            [(None, 116, 116, 3) 0                                            \n",
            "__________________________________________________________________________________________________\n",
            "input_2 (InputLayer)            [(None, 116, 116, 3) 0                                            \n",
            "__________________________________________________________________________________________________\n",
            "model (Model)                   (None, 1024)         3228864     input_1[0][0]                    \n",
            "                                                                 input_2[0][0]                    \n",
            "__________________________________________________________________________________________________\n",
            "lambda (Lambda)                 (None, 1)            0           model[1][0]                      \n",
            "                                                                 model[2][0]                      \n",
            "==================================================================================================\n",
            "Total params: 3,228,864\n",
            "Trainable params: 3,206,976\n",
            "Non-trainable params: 21,888\n",
            "__________________________________________________________________________________________________\n",
            "Epoch 1/200\n",
            "33/33 [==============================] - 21s 645ms/step - loss: 3.6039 - mse: 106.0937 - val_loss: 4.2294 - val_mse: 21.6301\n",
            "Epoch 2/200\n",
            "33/33 [==============================] - 19s 563ms/step - loss: 0.5053 - mse: 0.4173 - val_loss: 0.8309 - val_mse: 0.9938\n",
            "Epoch 3/200\n",
            "33/33 [==============================] - 19s 568ms/step - loss: 0.4112 - mse: 0.2824 - val_loss: 0.9757 - val_mse: 1.3229\n",
            "Epoch 4/200\n",
            "33/33 [==============================] - 19s 574ms/step - loss: 0.3552 - mse: 0.2138 - val_loss: 0.9910 - val_mse: 1.2700\n",
            "Epoch 5/200\n",
            "33/33 [==============================] - 19s 565ms/step - loss: 0.3170 - mse: 0.1711 - val_loss: 0.9850 - val_mse: 1.2639\n",
            "Epoch 6/200\n",
            "33/33 [==============================] - 19s 565ms/step - loss: 0.2756 - mse: 0.1288 - val_loss: 0.4237 - val_mse: 0.2691\n",
            "Epoch 7/200\n",
            "33/33 [==============================] - 19s 567ms/step - loss: 0.2608 - mse: 0.1152 - val_loss: 0.6545 - val_mse: 0.5967\n",
            "Epoch 8/200\n",
            "33/33 [==============================] - 19s 565ms/step - loss: 0.2409 - mse: 0.0979 - val_loss: 0.4166 - val_mse: 0.2706\n",
            "Epoch 9/200\n",
            "33/33 [==============================] - 18s 560ms/step - loss: 0.2297 - mse: 0.0899 - val_loss: 0.4572 - val_mse: 0.3109\n",
            "Epoch 10/200\n",
            "33/33 [==============================] - 19s 566ms/step - loss: 0.2250 - mse: 0.0855 - val_loss: 0.4105 - val_mse: 0.2599\n",
            "Epoch 11/200\n",
            "33/33 [==============================] - 19s 568ms/step - loss: 0.2061 - mse: 0.0729 - val_loss: 0.3282 - val_mse: 0.1763\n",
            "Epoch 12/200\n",
            "33/33 [==============================] - 19s 564ms/step - loss: 0.2030 - mse: 0.0700 - val_loss: 0.3521 - val_mse: 0.1983\n",
            "Epoch 13/200\n",
            "33/33 [==============================] - 19s 564ms/step - loss: 0.1903 - mse: 0.0614 - val_loss: 0.3816 - val_mse: 0.2318\n",
            "Epoch 14/200\n",
            "33/33 [==============================] - 19s 568ms/step - loss: 0.1920 - mse: 0.0625 - val_loss: 0.3536 - val_mse: 0.2152\n",
            "Epoch 15/200\n",
            "33/33 [==============================] - 19s 564ms/step - loss: 0.1860 - mse: 0.0584 - val_loss: 0.3256 - val_mse: 0.1758\n",
            "Epoch 16/200\n",
            "33/33 [==============================] - 19s 565ms/step - loss: 0.1754 - mse: 0.0524 - val_loss: 0.3172 - val_mse: 0.1753\n",
            "Epoch 17/200\n",
            "33/33 [==============================] - 19s 566ms/step - loss: 0.1698 - mse: 0.0493 - val_loss: 0.3045 - val_mse: 0.1549\n",
            "Epoch 18/200\n",
            "33/33 [==============================] - 19s 564ms/step - loss: 0.1661 - mse: 0.0462 - val_loss: 0.3014 - val_mse: 0.1539\n",
            "Epoch 19/200\n",
            "33/33 [==============================] - 19s 563ms/step - loss: 0.1621 - mse: 0.0446 - val_loss: 0.3111 - val_mse: 0.1692\n",
            "Epoch 20/200\n",
            "33/33 [==============================] - 19s 564ms/step - loss: 0.1616 - mse: 0.0447 - val_loss: 0.2967 - val_mse: 0.1483\n",
            "Epoch 21/200\n",
            "33/33 [==============================] - 19s 572ms/step - loss: 0.1544 - mse: 0.0407 - val_loss: 0.3054 - val_mse: 0.1542\n",
            "Epoch 22/200\n",
            "33/33 [==============================] - 19s 567ms/step - loss: 0.1532 - mse: 0.0402 - val_loss: 0.3076 - val_mse: 0.1631\n",
            "Epoch 23/200\n",
            "33/33 [==============================] - 19s 572ms/step - loss: 0.1527 - mse: 0.0400 - val_loss: 0.2928 - val_mse: 0.1467\n",
            "Epoch 24/200\n",
            "33/33 [==============================] - 19s 561ms/step - loss: 0.1528 - mse: 0.0394 - val_loss: 0.2932 - val_mse: 0.1490\n",
            "Epoch 25/200\n",
            "33/33 [==============================] - 19s 565ms/step - loss: 0.1435 - mse: 0.0358 - val_loss: 0.2838 - val_mse: 0.1397\n",
            "Epoch 26/200\n",
            "33/33 [==============================] - 19s 564ms/step - loss: 0.1447 - mse: 0.0368 - val_loss: 0.2693 - val_mse: 0.1302\n",
            "Epoch 27/200\n",
            "33/33 [==============================] - 19s 564ms/step - loss: 0.1418 - mse: 0.0349 - val_loss: 0.2937 - val_mse: 0.1523\n",
            "Epoch 28/200\n",
            "33/33 [==============================] - 19s 569ms/step - loss: 0.1408 - mse: 0.0342 - val_loss: 0.2797 - val_mse: 0.1388\n",
            "Epoch 29/200\n",
            "33/33 [==============================] - 19s 563ms/step - loss: 0.1363 - mse: 0.0320 - val_loss: 0.2776 - val_mse: 0.1351\n",
            "Epoch 30/200\n",
            "33/33 [==============================] - 19s 568ms/step - loss: 0.1356 - mse: 0.0319 - val_loss: 0.2838 - val_mse: 0.1419\n",
            "Epoch 31/200\n",
            "33/33 [==============================] - 19s 573ms/step - loss: 0.1343 - mse: 0.0314 - val_loss: 0.3126 - val_mse: 0.1728\n",
            "Epoch 32/200\n",
            "33/33 [==============================] - 19s 561ms/step - loss: 0.1305 - mse: 0.0299 - val_loss: 0.2782 - val_mse: 0.1431\n",
            "Epoch 33/200\n",
            "33/33 [==============================] - 19s 567ms/step - loss: 0.1308 - mse: 0.0299 - val_loss: 0.2769 - val_mse: 0.1366\n",
            "Epoch 34/200\n",
            "33/33 [==============================] - 19s 565ms/step - loss: 0.1298 - mse: 0.0299 - val_loss: 0.2845 - val_mse: 0.1461\n",
            "Epoch 35/200\n",
            "33/33 [==============================] - 19s 567ms/step - loss: 0.1249 - mse: 0.0273 - val_loss: 0.2734 - val_mse: 0.1352\n",
            "Epoch 36/200\n",
            "33/33 [==============================] - 19s 565ms/step - loss: 0.1250 - mse: 0.0274 - val_loss: 0.2792 - val_mse: 0.1392\n",
            "Epoch 37/200\n",
            "33/33 [==============================] - 19s 563ms/step - loss: 0.1227 - mse: 0.0265 - val_loss: 0.2734 - val_mse: 0.1338\n",
            "Epoch 38/200\n",
            "33/33 [==============================] - 19s 565ms/step - loss: 0.1239 - mse: 0.0271 - val_loss: 0.2988 - val_mse: 0.1643\n",
            "Epoch 39/200\n",
            "33/33 [==============================] - 19s 565ms/step - loss: 0.1227 - mse: 0.0265 - val_loss: 0.2663 - val_mse: 0.1258\n",
            "Epoch 40/200\n",
            "33/33 [==============================] - 19s 574ms/step - loss: 0.1205 - mse: 0.0258 - val_loss: 0.2944 - val_mse: 0.1581\n",
            "Epoch 41/200\n",
            "33/33 [==============================] - 19s 565ms/step - loss: 0.1192 - mse: 0.0253 - val_loss: 0.2905 - val_mse: 0.1571\n",
            "Epoch 42/200\n",
            "33/33 [==============================] - 19s 567ms/step - loss: 0.1181 - mse: 0.0247 - val_loss: 0.3028 - val_mse: 0.1701\n",
            "Epoch 43/200\n",
            "33/33 [==============================] - 18s 559ms/step - loss: 0.1163 - mse: 0.0242 - val_loss: 0.2763 - val_mse: 0.1314\n",
            "Epoch 44/200\n",
            "33/33 [==============================] - 19s 567ms/step - loss: 0.1160 - mse: 0.0240 - val_loss: 0.2519 - val_mse: 0.1141\n",
            "Epoch 45/200\n",
            "33/33 [==============================] - 19s 567ms/step - loss: 0.1119 - mse: 0.0224 - val_loss: 0.2678 - val_mse: 0.1310\n",
            "Epoch 46/200\n",
            "33/33 [==============================] - 19s 568ms/step - loss: 0.1154 - mse: 0.0236 - val_loss: 0.2754 - val_mse: 0.1329\n",
            "Epoch 47/200\n",
            "33/33 [==============================] - 19s 564ms/step - loss: 0.1127 - mse: 0.0228 - val_loss: 0.2743 - val_mse: 0.1372\n",
            "Epoch 48/200\n",
            "33/33 [==============================] - 19s 563ms/step - loss: 0.1134 - mse: 0.0229 - val_loss: 0.2713 - val_mse: 0.1315\n",
            "Epoch 49/200\n",
            "33/33 [==============================] - 18s 559ms/step - loss: 0.1102 - mse: 0.0217 - val_loss: 0.2685 - val_mse: 0.1369\n",
            "Epoch 50/200\n",
            "33/33 [==============================] - 18s 561ms/step - loss: 0.1097 - mse: 0.0214 - val_loss: 0.2574 - val_mse: 0.1213\n",
            "Epoch 51/200\n",
            "33/33 [==============================] - 18s 558ms/step - loss: 0.1102 - mse: 0.0216 - val_loss: 0.2689 - val_mse: 0.1327\n",
            "Epoch 52/200\n",
            "33/33 [==============================] - 18s 560ms/step - loss: 0.1062 - mse: 0.0205 - val_loss: 0.2800 - val_mse: 0.1473\n",
            "Epoch 53/200\n",
            "33/33 [==============================] - 19s 565ms/step - loss: 0.1089 - mse: 0.0215 - val_loss: 0.2621 - val_mse: 0.1296\n",
            "Epoch 54/200\n",
            "33/33 [==============================] - 19s 570ms/step - loss: 0.1059 - mse: 0.0204 - val_loss: 0.2631 - val_mse: 0.1198\n",
            "Epoch 55/200\n",
            "33/33 [==============================] - 19s 567ms/step - loss: 0.1053 - mse: 0.0200 - val_loss: 0.2599 - val_mse: 0.1209\n",
            "Epoch 56/200\n",
            "33/33 [==============================] - 19s 566ms/step - loss: 0.1048 - mse: 0.0201 - val_loss: 0.2533 - val_mse: 0.1150\n",
            "Epoch 57/200\n",
            "33/33 [==============================] - 19s 567ms/step - loss: 0.1019 - mse: 0.0192 - val_loss: 0.2663 - val_mse: 0.1315\n",
            "Epoch 58/200\n",
            "33/33 [==============================] - 19s 565ms/step - loss: 0.1031 - mse: 0.0193 - val_loss: 0.2694 - val_mse: 0.1318\n",
            "Epoch 59/200\n",
            "33/33 [==============================] - 19s 566ms/step - loss: 0.1016 - mse: 0.0191 - val_loss: 0.2645 - val_mse: 0.1256\n",
            "Epoch 60/200\n",
            "33/33 [==============================] - 19s 568ms/step - loss: 0.1024 - mse: 0.0192 - val_loss: 0.2569 - val_mse: 0.1230\n",
            "Epoch 61/200\n",
            "33/33 [==============================] - 19s 563ms/step - loss: 0.1004 - mse: 0.0184 - val_loss: 0.2605 - val_mse: 0.1291\n",
            "Epoch 62/200\n",
            "33/33 [==============================] - 19s 564ms/step - loss: 0.1011 - mse: 0.0187 - val_loss: 0.2686 - val_mse: 0.1368\n",
            "Epoch 63/200\n",
            "33/33 [==============================] - 19s 563ms/step - loss: 0.0995 - mse: 0.0181 - val_loss: 0.2863 - val_mse: 0.1507\n",
            "Epoch 64/200\n",
            "33/33 [==============================] - 19s 570ms/step - loss: 0.1001 - mse: 0.0183 - val_loss: 0.2729 - val_mse: 0.1406\n",
            "Epoch 65/200\n",
            "33/33 [==============================] - 19s 567ms/step - loss: 0.0970 - mse: 0.0175 - val_loss: 0.2669 - val_mse: 0.1290\n",
            "Epoch 66/200\n",
            "33/33 [==============================] - 19s 570ms/step - loss: 0.0975 - mse: 0.0176 - val_loss: 0.2742 - val_mse: 0.1434\n",
            "Epoch 67/200\n",
            "33/33 [==============================] - 19s 567ms/step - loss: 0.0971 - mse: 0.0174 - val_loss: 0.2734 - val_mse: 0.1414\n",
            "Epoch 68/200\n",
            "33/33 [==============================] - 19s 567ms/step - loss: 0.0963 - mse: 0.0172 - val_loss: 0.2595 - val_mse: 0.1256\n",
            "Epoch 69/200\n",
            "33/33 [==============================] - 19s 579ms/step - loss: 0.0977 - mse: 0.0176 - val_loss: 0.2597 - val_mse: 0.1241\n",
            "Epoch 70/200\n",
            "33/33 [==============================] - 19s 568ms/step - loss: 0.0936 - mse: 0.0165 - val_loss: 0.2571 - val_mse: 0.1247\n",
            "Epoch 71/200\n",
            "33/33 [==============================] - 19s 563ms/step - loss: 0.0944 - mse: 0.0165 - val_loss: 0.2623 - val_mse: 0.1264\n",
            "Epoch 72/200\n",
            "33/33 [==============================] - 19s 566ms/step - loss: 0.0945 - mse: 0.0167 - val_loss: 0.2509 - val_mse: 0.1172\n",
            "Epoch 73/200\n",
            "33/33 [==============================] - 19s 566ms/step - loss: 0.0929 - mse: 0.0164 - val_loss: 0.2757 - val_mse: 0.1436\n",
            "Epoch 74/200\n",
            "33/33 [==============================] - 19s 561ms/step - loss: 0.0934 - mse: 0.0162 - val_loss: 0.2631 - val_mse: 0.1254\n",
            "Epoch 75/200\n",
            "33/33 [==============================] - 19s 567ms/step - loss: 0.0936 - mse: 0.0164 - val_loss: 0.2630 - val_mse: 0.1298\n",
            "Epoch 76/200\n",
            "33/33 [==============================] - 19s 567ms/step - loss: 0.0906 - mse: 0.0158 - val_loss: 0.2656 - val_mse: 0.1315\n",
            "Epoch 77/200\n",
            "33/33 [==============================] - 19s 564ms/step - loss: 0.0899 - mse: 0.0155 - val_loss: 0.2640 - val_mse: 0.1314\n",
            "Epoch 78/200\n",
            "33/33 [==============================] - 19s 561ms/step - loss: 0.0924 - mse: 0.0160 - val_loss: 0.2543 - val_mse: 0.1160\n",
            "Epoch 79/200\n",
            "33/33 [==============================] - 19s 566ms/step - loss: 0.0905 - mse: 0.0155 - val_loss: 0.2547 - val_mse: 0.1216\n",
            "Epoch 80/200\n",
            "33/33 [==============================] - 18s 560ms/step - loss: 0.0907 - mse: 0.0154 - val_loss: 0.2579 - val_mse: 0.1272\n",
            "Epoch 81/200\n",
            "33/33 [==============================] - 19s 570ms/step - loss: 0.0906 - mse: 0.0154 - val_loss: 0.2778 - val_mse: 0.1449\n",
            "Epoch 82/200\n",
            "33/33 [==============================] - 19s 563ms/step - loss: 0.0912 - mse: 0.0158 - val_loss: 0.2534 - val_mse: 0.1186\n",
            "Epoch 83/200\n",
            "33/33 [==============================] - 19s 562ms/step - loss: 0.0891 - mse: 0.0148 - val_loss: 0.2548 - val_mse: 0.1191\n",
            "Epoch 84/200\n",
            "33/33 [==============================] - 19s 570ms/step - loss: 0.0882 - mse: 0.0150 - val_loss: 0.2546 - val_mse: 0.1218\n",
            "Epoch 85/200\n",
            "33/33 [==============================] - 19s 563ms/step - loss: 0.0903 - mse: 0.0153 - val_loss: 0.2712 - val_mse: 0.1418\n",
            "Epoch 86/200\n",
            "33/33 [==============================] - 19s 562ms/step - loss: 0.0877 - mse: 0.0146 - val_loss: 0.2526 - val_mse: 0.1181\n",
            "Epoch 87/200\n",
            "33/33 [==============================] - 19s 568ms/step - loss: 0.0878 - mse: 0.0146 - val_loss: 0.2589 - val_mse: 0.1225\n",
            "Epoch 88/200\n",
            "33/33 [==============================] - 19s 562ms/step - loss: 0.0864 - mse: 0.0142 - val_loss: 0.2507 - val_mse: 0.1113\n",
            "Epoch 89/200\n",
            "33/33 [==============================] - 19s 566ms/step - loss: 0.0873 - mse: 0.0143 - val_loss: 0.2492 - val_mse: 0.1144\n",
            "Epoch 90/200\n",
            "33/33 [==============================] - 19s 563ms/step - loss: 0.0859 - mse: 0.0142 - val_loss: 0.2659 - val_mse: 0.1329\n",
            "Epoch 91/200\n",
            "33/33 [==============================] - 19s 567ms/step - loss: 0.0856 - mse: 0.0139 - val_loss: 0.2713 - val_mse: 0.1392\n",
            "Epoch 92/200\n",
            "33/33 [==============================] - 19s 563ms/step - loss: 0.0838 - mse: 0.0136 - val_loss: 0.2624 - val_mse: 0.1271\n",
            "Epoch 93/200\n",
            "33/33 [==============================] - 19s 566ms/step - loss: 0.0850 - mse: 0.0140 - val_loss: 0.2496 - val_mse: 0.1182\n",
            "Epoch 94/200\n",
            "33/33 [==============================] - 18s 561ms/step - loss: 0.0854 - mse: 0.0141 - val_loss: 0.2655 - val_mse: 0.1320\n",
            "Epoch 95/200\n",
            "33/33 [==============================] - 19s 566ms/step - loss: 0.0844 - mse: 0.0138 - val_loss: 0.2516 - val_mse: 0.1120\n",
            "Epoch 96/200\n",
            "33/33 [==============================] - 19s 567ms/step - loss: 0.0843 - mse: 0.0138 - val_loss: 0.2500 - val_mse: 0.1133\n",
            "Epoch 97/200\n",
            "33/33 [==============================] - 19s 563ms/step - loss: 0.0842 - mse: 0.0136 - val_loss: 0.2598 - val_mse: 0.1246\n",
            "Epoch 98/200\n",
            "33/33 [==============================] - 19s 567ms/step - loss: 0.0823 - mse: 0.0133 - val_loss: 0.2626 - val_mse: 0.1287\n",
            "Epoch 99/200\n",
            "33/33 [==============================] - 19s 567ms/step - loss: 0.0842 - mse: 0.0136 - val_loss: 0.2522 - val_mse: 0.1167\n",
            "Epoch 100/200\n",
            "33/33 [==============================] - 19s 567ms/step - loss: 0.0829 - mse: 0.0132 - val_loss: 0.2512 - val_mse: 0.1211\n",
            "Epoch 101/200\n",
            "33/33 [==============================] - 19s 562ms/step - loss: 0.0819 - mse: 0.0131 - val_loss: 0.2489 - val_mse: 0.1143\n",
            "Epoch 102/200\n",
            "33/33 [==============================] - 18s 560ms/step - loss: 0.0826 - mse: 0.0133 - val_loss: 0.2629 - val_mse: 0.1298\n",
            "Epoch 103/200\n",
            "33/33 [==============================] - 19s 569ms/step - loss: 0.0812 - mse: 0.0130 - val_loss: 0.2739 - val_mse: 0.1457\n",
            "Epoch 104/200\n",
            "33/33 [==============================] - 19s 565ms/step - loss: 0.0813 - mse: 0.0130 - val_loss: 0.2594 - val_mse: 0.1261\n",
            "Epoch 105/200\n",
            "33/33 [==============================] - 19s 566ms/step - loss: 0.0806 - mse: 0.0129 - val_loss: 0.2645 - val_mse: 0.1338\n",
            "Epoch 106/200\n",
            "33/33 [==============================] - 19s 566ms/step - loss: 0.0799 - mse: 0.0126 - val_loss: 0.2517 - val_mse: 0.1208\n",
            "Epoch 107/200\n",
            "33/33 [==============================] - 19s 564ms/step - loss: 0.0817 - mse: 0.0131 - val_loss: 0.2533 - val_mse: 0.1225\n",
            "Epoch 108/200\n",
            "33/33 [==============================] - 18s 558ms/step - loss: 0.0791 - mse: 0.0124 - val_loss: 0.2517 - val_mse: 0.1191\n",
            "Epoch 109/200\n",
            "33/33 [==============================] - 18s 559ms/step - loss: 0.0807 - mse: 0.0128 - val_loss: 0.2531 - val_mse: 0.1162\n",
            "Epoch 110/200\n",
            "33/33 [==============================] - 19s 561ms/step - loss: 0.0808 - mse: 0.0128 - val_loss: 0.2677 - val_mse: 0.1373\n",
            "Epoch 111/200\n",
            "33/33 [==============================] - 19s 561ms/step - loss: 0.0803 - mse: 0.0126 - val_loss: 0.2558 - val_mse: 0.1237\n",
            "Epoch 112/200\n",
            "33/33 [==============================] - 18s 555ms/step - loss: 0.0789 - mse: 0.0122 - val_loss: 0.2658 - val_mse: 0.1326\n",
            "Epoch 113/200\n",
            "33/33 [==============================] - 18s 559ms/step - loss: 0.0792 - mse: 0.0125 - val_loss: 0.2559 - val_mse: 0.1267\n",
            "Epoch 114/200\n",
            "33/33 [==============================] - 19s 563ms/step - loss: 0.0788 - mse: 0.0123 - val_loss: 0.2539 - val_mse: 0.1201\n",
            "Epoch 115/200\n",
            "33/33 [==============================] - 19s 562ms/step - loss: 0.0781 - mse: 0.0121 - val_loss: 0.2495 - val_mse: 0.1163\n",
            "Epoch 116/200\n",
            "33/33 [==============================] - 19s 568ms/step - loss: 0.0776 - mse: 0.0121 - val_loss: 0.2434 - val_mse: 0.1091\n",
            "Epoch 117/200\n",
            "33/33 [==============================] - 19s 568ms/step - loss: 0.0768 - mse: 0.0118 - val_loss: 0.2491 - val_mse: 0.1143\n",
            "Epoch 118/200\n",
            "33/33 [==============================] - 18s 557ms/step - loss: 0.0772 - mse: 0.0120 - val_loss: 0.2645 - val_mse: 0.1328\n",
            "Epoch 119/200\n",
            "33/33 [==============================] - 19s 568ms/step - loss: 0.0787 - mse: 0.0123 - val_loss: 0.2591 - val_mse: 0.1236\n",
            "Epoch 120/200\n",
            "33/33 [==============================] - 19s 562ms/step - loss: 0.0760 - mse: 0.0116 - val_loss: 0.2610 - val_mse: 0.1284\n",
            "Epoch 121/200\n",
            "33/33 [==============================] - 18s 558ms/step - loss: 0.0758 - mse: 0.0117 - val_loss: 0.2499 - val_mse: 0.1221\n",
            "Epoch 122/200\n",
            "33/33 [==============================] - 19s 571ms/step - loss: 0.0762 - mse: 0.0117 - val_loss: 0.2477 - val_mse: 0.1118\n",
            "Epoch 123/200\n",
            "33/33 [==============================] - 19s 562ms/step - loss: 0.0766 - mse: 0.0118 - val_loss: 0.2474 - val_mse: 0.1148\n",
            "Epoch 124/200\n",
            "33/33 [==============================] - 19s 563ms/step - loss: 0.0770 - mse: 0.0117 - val_loss: 0.2535 - val_mse: 0.1216\n",
            "Epoch 125/200\n",
            "33/33 [==============================] - 18s 559ms/step - loss: 0.0757 - mse: 0.0116 - val_loss: 0.2589 - val_mse: 0.1261\n",
            "Epoch 126/200\n",
            "33/33 [==============================] - 18s 557ms/step - loss: 0.0756 - mse: 0.0116 - val_loss: 0.2524 - val_mse: 0.1218\n",
            "Epoch 127/200\n",
            "33/33 [==============================] - 19s 564ms/step - loss: 0.0744 - mse: 0.0113 - val_loss: 0.2503 - val_mse: 0.1179\n",
            "Epoch 128/200\n",
            "33/33 [==============================] - 19s 566ms/step - loss: 0.0760 - mse: 0.0115 - val_loss: 0.2494 - val_mse: 0.1157\n",
            "Epoch 129/200\n",
            "33/33 [==============================] - 19s 569ms/step - loss: 0.0749 - mse: 0.0113 - val_loss: 0.2650 - val_mse: 0.1352\n",
            "Epoch 130/200\n",
            "33/33 [==============================] - 18s 559ms/step - loss: 0.0760 - mse: 0.0116 - val_loss: 0.2528 - val_mse: 0.1203\n",
            "Epoch 131/200\n",
            "33/33 [==============================] - 19s 564ms/step - loss: 0.0735 - mse: 0.0111 - val_loss: 0.2482 - val_mse: 0.1143\n",
            "Epoch 132/200\n",
            "33/33 [==============================] - 19s 567ms/step - loss: 0.0737 - mse: 0.0111 - val_loss: 0.2546 - val_mse: 0.1219\n",
            "Epoch 133/200\n",
            "33/33 [==============================] - 19s 562ms/step - loss: 0.0733 - mse: 0.0111 - val_loss: 0.2653 - val_mse: 0.1323\n",
            "Epoch 134/200\n",
            "33/33 [==============================] - 19s 566ms/step - loss: 0.0739 - mse: 0.0112 - val_loss: 0.2476 - val_mse: 0.1154\n",
            "Epoch 135/200\n",
            "33/33 [==============================] - 19s 567ms/step - loss: 0.0736 - mse: 0.0111 - val_loss: 0.2517 - val_mse: 0.1163\n",
            "Epoch 136/200\n",
            "33/33 [==============================] - 19s 564ms/step - loss: 0.0728 - mse: 0.0108 - val_loss: 0.2546 - val_mse: 0.1212\n",
            "Epoch 137/200\n",
            "33/33 [==============================] - 19s 566ms/step - loss: 0.0717 - mse: 0.0107 - val_loss: 0.2489 - val_mse: 0.1182\n",
            "Epoch 138/200\n",
            "33/33 [==============================] - 19s 563ms/step - loss: 0.0731 - mse: 0.0108 - val_loss: 0.2568 - val_mse: 0.1258\n",
            "Epoch 139/200\n",
            "33/33 [==============================] - 19s 567ms/step - loss: 0.0735 - mse: 0.0110 - val_loss: 0.2516 - val_mse: 0.1161\n",
            "Epoch 140/200\n",
            "33/33 [==============================] - 19s 565ms/step - loss: 0.0714 - mse: 0.0106 - val_loss: 0.2491 - val_mse: 0.1149\n",
            "Epoch 141/200\n",
            "33/33 [==============================] - 19s 562ms/step - loss: 0.0717 - mse: 0.0106 - val_loss: 0.2557 - val_mse: 0.1213\n",
            "Epoch 142/200\n",
            "33/33 [==============================] - 19s 569ms/step - loss: 0.0726 - mse: 0.0107 - val_loss: 0.2562 - val_mse: 0.1255\n",
            "Epoch 143/200\n",
            "33/33 [==============================] - 19s 562ms/step - loss: 0.0709 - mse: 0.0105 - val_loss: 0.2509 - val_mse: 0.1189\n",
            "Epoch 144/200\n",
            "33/33 [==============================] - 19s 564ms/step - loss: 0.0717 - mse: 0.0106 - val_loss: 0.2571 - val_mse: 0.1294\n",
            "Epoch 145/200\n",
            "33/33 [==============================] - 19s 565ms/step - loss: 0.0695 - mse: 0.0101 - val_loss: 0.2527 - val_mse: 0.1202\n",
            "Epoch 146/200\n",
            "33/33 [==============================] - 19s 564ms/step - loss: 0.0715 - mse: 0.0105 - val_loss: 0.2594 - val_mse: 0.1311\n",
            "Epoch 147/200\n",
            "33/33 [==============================] - 19s 570ms/step - loss: 0.0710 - mse: 0.0104 - val_loss: 0.2472 - val_mse: 0.1134\n",
            "Epoch 148/200\n",
            "33/33 [==============================] - 19s 565ms/step - loss: 0.0705 - mse: 0.0104 - val_loss: 0.2571 - val_mse: 0.1252\n",
            "Epoch 149/200\n",
            "33/33 [==============================] - 19s 563ms/step - loss: 0.0698 - mse: 0.0102 - val_loss: 0.2527 - val_mse: 0.1222\n",
            "Epoch 150/200\n",
            "33/33 [==============================] - 19s 566ms/step - loss: 0.0706 - mse: 0.0104 - val_loss: 0.2472 - val_mse: 0.1180\n",
            "Epoch 151/200\n",
            "33/33 [==============================] - 19s 565ms/step - loss: 0.0693 - mse: 0.0101 - val_loss: 0.2544 - val_mse: 0.1209\n",
            "Epoch 152/200\n",
            "33/33 [==============================] - 19s 569ms/step - loss: 0.0704 - mse: 0.0105 - val_loss: 0.2428 - val_mse: 0.1105\n",
            "Epoch 153/200\n",
            "33/33 [==============================] - 19s 566ms/step - loss: 0.0692 - mse: 0.0101 - val_loss: 0.2563 - val_mse: 0.1227\n",
            "Epoch 154/200\n",
            "33/33 [==============================] - 19s 566ms/step - loss: 0.0706 - mse: 0.0103 - val_loss: 0.2593 - val_mse: 0.1251\n",
            "Epoch 155/200\n",
            "33/33 [==============================] - 19s 565ms/step - loss: 0.0690 - mse: 0.0100 - val_loss: 0.2583 - val_mse: 0.1249\n",
            "Epoch 156/200\n",
            "33/33 [==============================] - 19s 563ms/step - loss: 0.0689 - mse: 0.0100 - val_loss: 0.2450 - val_mse: 0.1135\n",
            "Epoch 157/200\n",
            "33/33 [==============================] - 19s 565ms/step - loss: 0.0689 - mse: 0.0101 - val_loss: 0.2520 - val_mse: 0.1219\n",
            "Epoch 158/200\n",
            "33/33 [==============================] - 19s 564ms/step - loss: 0.0681 - mse: 0.0099 - val_loss: 0.2533 - val_mse: 0.1216\n",
            "Epoch 159/200\n",
            "33/33 [==============================] - 19s 561ms/step - loss: 0.0683 - mse: 0.0100 - val_loss: 0.2516 - val_mse: 0.1219\n",
            "Epoch 160/200\n",
            "33/33 [==============================] - 18s 556ms/step - loss: 0.0688 - mse: 0.0100 - val_loss: 0.2514 - val_mse: 0.1187\n",
            "Epoch 161/200\n",
            "33/33 [==============================] - 18s 560ms/step - loss: 0.0675 - mse: 0.0098 - val_loss: 0.2465 - val_mse: 0.1139\n",
            "Epoch 162/200\n",
            "33/33 [==============================] - 19s 561ms/step - loss: 0.0686 - mse: 0.0099 - val_loss: 0.2509 - val_mse: 0.1205\n",
            "Epoch 163/200\n",
            "33/33 [==============================] - 19s 569ms/step - loss: 0.0678 - mse: 0.0096 - val_loss: 0.2542 - val_mse: 0.1213\n",
            "Epoch 164/200\n",
            "33/33 [==============================] - 19s 564ms/step - loss: 0.0676 - mse: 0.0098 - val_loss: 0.2582 - val_mse: 0.1264\n",
            "Epoch 165/200\n",
            "33/33 [==============================] - 18s 559ms/step - loss: 0.0674 - mse: 0.0097 - val_loss: 0.2569 - val_mse: 0.1226\n",
            "Epoch 166/200\n",
            "33/33 [==============================] - 19s 561ms/step - loss: 0.0664 - mse: 0.0096 - val_loss: 0.2452 - val_mse: 0.1138\n",
            "Epoch 167/200\n",
            "33/33 [==============================] - 18s 560ms/step - loss: 0.0675 - mse: 0.0097 - val_loss: 0.2476 - val_mse: 0.1128\n",
            "Epoch 168/200\n",
            "33/33 [==============================] - 19s 563ms/step - loss: 0.0665 - mse: 0.0095 - val_loss: 0.2465 - val_mse: 0.1153\n",
            "Epoch 169/200\n",
            "33/33 [==============================] - 19s 563ms/step - loss: 0.0675 - mse: 0.0096 - val_loss: 0.2565 - val_mse: 0.1253\n",
            "Epoch 170/200\n",
            "33/33 [==============================] - 19s 563ms/step - loss: 0.0666 - mse: 0.0095 - val_loss: 0.2494 - val_mse: 0.1158\n",
            "Epoch 171/200\n",
            "33/33 [==============================] - 19s 565ms/step - loss: 0.0658 - mse: 0.0093 - val_loss: 0.2474 - val_mse: 0.1158\n",
            "Epoch 172/200\n",
            "33/33 [==============================] - 18s 560ms/step - loss: 0.0668 - mse: 0.0096 - val_loss: 0.2476 - val_mse: 0.1142\n",
            "Epoch 173/200\n",
            "33/33 [==============================] - 19s 563ms/step - loss: 0.0671 - mse: 0.0096 - val_loss: 0.2486 - val_mse: 0.1154\n",
            "Epoch 174/200\n",
            "33/33 [==============================] - 18s 558ms/step - loss: 0.0660 - mse: 0.0095 - val_loss: 0.2511 - val_mse: 0.1200\n",
            "Epoch 175/200\n",
            "33/33 [==============================] - 19s 565ms/step - loss: 0.0659 - mse: 0.0093 - val_loss: 0.2492 - val_mse: 0.1171\n",
            "Epoch 176/200\n",
            "33/33 [==============================] - 19s 561ms/step - loss: 0.0652 - mse: 0.0093 - val_loss: 0.2589 - val_mse: 0.1245\n",
            "Epoch 177/200\n",
            "33/33 [==============================] - 18s 558ms/step - loss: 0.0670 - mse: 0.0096 - val_loss: 0.2481 - val_mse: 0.1171\n",
            "Epoch 178/200\n",
            "33/33 [==============================] - 18s 560ms/step - loss: 0.0646 - mse: 0.0090 - val_loss: 0.2465 - val_mse: 0.1118\n",
            "Epoch 179/200\n",
            "33/33 [==============================] - 19s 562ms/step - loss: 0.0665 - mse: 0.0094 - val_loss: 0.2622 - val_mse: 0.1337\n",
            "Epoch 180/200\n",
            "33/33 [==============================] - 18s 560ms/step - loss: 0.0653 - mse: 0.0093 - val_loss: 0.2434 - val_mse: 0.1110\n",
            "Epoch 181/200\n",
            "33/33 [==============================] - 19s 562ms/step - loss: 0.0650 - mse: 0.0091 - val_loss: 0.2418 - val_mse: 0.1103\n",
            "Epoch 182/200\n",
            "33/33 [==============================] - 18s 560ms/step - loss: 0.0651 - mse: 0.0092 - val_loss: 0.2525 - val_mse: 0.1204\n",
            "Epoch 183/200\n",
            "33/33 [==============================] - 19s 564ms/step - loss: 0.0652 - mse: 0.0092 - val_loss: 0.2529 - val_mse: 0.1185\n",
            "Epoch 184/200\n",
            "33/33 [==============================] - 18s 560ms/step - loss: 0.0633 - mse: 0.0089 - val_loss: 0.2459 - val_mse: 0.1145\n",
            "Epoch 185/200\n",
            "33/33 [==============================] - 19s 566ms/step - loss: 0.0632 - mse: 0.0089 - val_loss: 0.2484 - val_mse: 0.1161\n",
            "Epoch 186/200\n",
            "33/33 [==============================] - 19s 561ms/step - loss: 0.0643 - mse: 0.0092 - val_loss: 0.2568 - val_mse: 0.1259\n",
            "Epoch 187/200\n",
            "33/33 [==============================] - 19s 563ms/step - loss: 0.0643 - mse: 0.0090 - val_loss: 0.2485 - val_mse: 0.1163\n",
            "Epoch 188/200\n",
            "33/33 [==============================] - 18s 555ms/step - loss: 0.0640 - mse: 0.0091 - val_loss: 0.2542 - val_mse: 0.1260\n",
            "Epoch 189/200\n",
            "33/33 [==============================] - 19s 566ms/step - loss: 0.0626 - mse: 0.0088 - val_loss: 0.2458 - val_mse: 0.1117\n",
            "Epoch 190/200\n",
            "33/33 [==============================] - 19s 562ms/step - loss: 0.0634 - mse: 0.0089 - val_loss: 0.2596 - val_mse: 0.1279\n",
            "Epoch 191/200\n",
            "33/33 [==============================] - 18s 559ms/step - loss: 0.0637 - mse: 0.0089 - val_loss: 0.2463 - val_mse: 0.1113\n",
            "Epoch 192/200\n",
            "33/33 [==============================] - 18s 559ms/step - loss: 0.0629 - mse: 0.0088 - val_loss: 0.2552 - val_mse: 0.1223\n",
            "Epoch 193/200\n",
            "33/33 [==============================] - 19s 563ms/step - loss: 0.0631 - mse: 0.0088 - val_loss: 0.2522 - val_mse: 0.1232\n",
            "Epoch 194/200\n",
            "33/33 [==============================] - 19s 564ms/step - loss: 0.0632 - mse: 0.0088 - val_loss: 0.2507 - val_mse: 0.1200\n",
            "Epoch 195/200\n",
            "33/33 [==============================] - 19s 561ms/step - loss: 0.0630 - mse: 0.0087 - val_loss: 0.2497 - val_mse: 0.1193\n",
            "Epoch 196/200\n",
            "33/33 [==============================] - 19s 566ms/step - loss: 0.0628 - mse: 0.0087 - val_loss: 0.2527 - val_mse: 0.1226\n",
            "Epoch 197/200\n",
            "33/33 [==============================] - 19s 565ms/step - loss: 0.0625 - mse: 0.0088 - val_loss: 0.2540 - val_mse: 0.1212\n",
            "Epoch 198/200\n",
            "33/33 [==============================] - 19s 563ms/step - loss: 0.0618 - mse: 0.0086 - val_loss: 0.2476 - val_mse: 0.1144\n",
            "Epoch 199/200\n",
            "33/33 [==============================] - 18s 558ms/step - loss: 0.0616 - mse: 0.0085 - val_loss: 0.2514 - val_mse: 0.1221\n",
            "Epoch 200/200\n",
            "33/33 [==============================] - 19s 561ms/step - loss: 0.0620 - mse: 0.0086 - val_loss: 0.2598 - val_mse: 0.1252\n"
          ],
          "name": "stdout"
        },
        {
          "output_type": "display_data",
          "data": {
            "image/png": "[encoded data removed]",
            "text/plain": [
              "<Figure size 1080x504 with 2 Axes>"
            ]
          },
          "metadata": {
            "tags": []
          }
        },
        {
          "output_type": "stream",
          "text": [
            "Model saved to: training/20200607_130520.h5\n"
          ],
          "name": "stdout"
        }
      ]
    },
    {
      "cell_type": "markdown",
      "metadata": {
        "id": "fJJKUgcJK4La",
        "colab_type": "text"
      },
      "source": [
        "---"
      ]
    },
    {
      "cell_type": "code",
      "metadata": {
        "id": "5XCEby-fK4Lb",
        "colab_type": "code",
        "colab": {}
      },
      "source": [
        "training_loss = history1.history['loss']\n",
        "val_loss = history1.history['val_loss']\n",
        "mses = history1.history['mse']\n",
        "val_mses = history1.history['val_mse']\n",
        "\n",
        "np.savez(\"data/5j0n/5j0n_DE_noisy_history_uniform\", training_loss, val_loss, mses, val_mses)"
      ],
      "execution_count": 0,
      "outputs": []
    },
    {
      "cell_type": "code",
      "metadata": {
        "id": "gi9CsCZAK4Ld",
        "colab_type": "code",
        "colab": {}
      },
      "source": [
        "data = np.load(\"data/5j0n/5j0n_DE_noisy_history_uniform.npz\")\n",
        "training_loss, val_loss, mses, val_mses = data[\"arr_0\"], data[\"arr_1\"], data[\"arr_2\"], data[\"arr_3\"]"
      ],
      "execution_count": 0,
      "outputs": []
    },
    {
      "cell_type": "code",
      "metadata": {
        "id": "IIKP9TtBK4Lg",
        "colab_type": "code",
        "outputId": "e4cb5454-48ed-4f89-c973-be9bd4ddf7be",
        "colab": {
          "base_uri": "https://localhost:8080/",
          "height": 448
        }
      },
      "source": [
        "# Get training and test loss histories\n",
        "fig, (ax1, ax2) = plt.subplots(1, 2, figsize=(15,7))\n",
        "\n",
        "# Create count of the number of epochs\n",
        "epoch_count = range(1, len(training_loss) + 1)\n",
        "\n",
        "# Visualize loss history\n",
        "ax1.plot(epoch_count, training_loss, 'r--', label='MAE Training Loss')\n",
        "ax1.plot(epoch_count, val_loss, 'b-', label='MAE Validation Loss')\n",
        "ax1.legend()\n",
        "ax1.set_xlabel('Epoch')\n",
        "ax1.set_ylabel('Loss')\n",
        "\n",
        "ax2.plot(epoch_count, mses, 'r-', label='MSE Training')\n",
        "ax2.plot(epoch_count, val_mses, 'b-', label='MSE Validation')\n",
        "ax2.legend()\n",
        "ax2.set_xlabel('Epoch')\n",
        "ax2.set_ylabel('Loss')\n",
        "plt.show();"
      ],
      "execution_count": 0,
      "outputs": [
        {
          "output_type": "display_data",
          "data": {
            "image/png": "[encoded data removed]",
            "text/plain": [
              "<Figure size 1080x504 with 2 Axes>"
            ]
          },
          "metadata": {
            "tags": []
          }
        }
      ]
    },
    {
      "cell_type": "code",
      "metadata": {
        "id": "4_py9DG4K4Lj",
        "colab_type": "code",
        "outputId": "f07c68d6-b2c3-45da-fdd9-4c539d139656",
        "colab": {
          "base_uri": "https://localhost:8080/",
          "height": 85
        }
      },
      "source": [
        "training_loss[-1], val_loss[-1], mses[-1], val_mses[-1]"
      ],
      "execution_count": 0,
      "outputs": [
        {
          "output_type": "execute_result",
          "data": {
            "text/plain": [
              "(0.06197980046272278,\n",
              " 0.25979235768318176,\n",
              " 0.008627580478787422,\n",
              " 0.12518543004989624)"
            ]
          },
          "metadata": {
            "tags": []
          },
          "execution_count": 40
        }
      ]
    },
    {
      "cell_type": "code",
      "metadata": {
        "id": "feiqlKsEK4Lr",
        "colab_type": "code",
        "colab": {}
      },
      "source": [
        "model_filename = f\"{strftime('%Y%m%d_%H%M%S')}.h5\"\n",
        "model.save(f\"/content/drive/My Drive/ModelsProtein/{model_filename}\")"
      ],
      "execution_count": 0,
      "outputs": []
    },
    {
      "cell_type": "markdown",
      "metadata": {
        "id": "M-kSlYfqK4Lt",
        "colab_type": "text"
      },
      "source": [
        "### (Or) Read model checkpoint"
      ]
    },
    {
      "cell_type": "code",
      "metadata": {
        "id": "9z7haF6NK4Lu",
        "colab_type": "code",
        "colab": {}
      },
      "source": [
        "# put correct filename\n",
        "model_filename = \"drive/My Drive/ModelsProtein\" "
      ],
      "execution_count": 0,
      "outputs": []
    },
    {
      "cell_type": "code",
      "metadata": {
        "id": "Dr9eFsJKK4Lw",
        "colab_type": "code",
        "outputId": "7bc7b7c0-6462-4232-d4c2-a599b58ddcc5",
        "colab": {
          "base_uri": "https://localhost:8080/",
          "height": 375
        }
      },
      "source": [
        "# Recreate the exact same model, including its weights and the optimizer\n",
        "model = tf.keras.models.load_model(model_filename)\n",
        "\n",
        "# Show the model architecture\n",
        "model.summary()"
      ],
      "execution_count": 0,
      "outputs": [
        {
          "output_type": "error",
          "ename": "OSError",
          "evalue": "ignored",
          "traceback": [
            "\u001b[0;31m---------------------------------------------------------------------------\u001b[0m",
            "\u001b[0;31mOSError\u001b[0m                                   Traceback (most recent call last)",
            "\u001b[0;32m<ipython-input-43-0e62a5ef9c09>\u001b[0m in \u001b[0;36m<module>\u001b[0;34m()\u001b[0m\n\u001b[1;32m      1\u001b[0m \u001b[0;31m# Recreate the exact same model, including its weights and the optimizer\u001b[0m\u001b[0;34m\u001b[0m\u001b[0;34m\u001b[0m\u001b[0;34m\u001b[0m\u001b[0m\n\u001b[0;32m----> 2\u001b[0;31m \u001b[0mmodel\u001b[0m \u001b[0;34m=\u001b[0m \u001b[0mtf\u001b[0m\u001b[0;34m.\u001b[0m\u001b[0mkeras\u001b[0m\u001b[0;34m.\u001b[0m\u001b[0mmodels\u001b[0m\u001b[0;34m.\u001b[0m\u001b[0mload_model\u001b[0m\u001b[0;34m(\u001b[0m\u001b[0mmodel_filename\u001b[0m\u001b[0;34m)\u001b[0m\u001b[0;34m\u001b[0m\u001b[0;34m\u001b[0m\u001b[0m\n\u001b[0m\u001b[1;32m      3\u001b[0m \u001b[0;34m\u001b[0m\u001b[0m\n\u001b[1;32m      4\u001b[0m \u001b[0;31m# Show the model architecture\u001b[0m\u001b[0;34m\u001b[0m\u001b[0;34m\u001b[0m\u001b[0;34m\u001b[0m\u001b[0m\n\u001b[1;32m      5\u001b[0m \u001b[0mmodel\u001b[0m\u001b[0;34m.\u001b[0m\u001b[0msummary\u001b[0m\u001b[0;34m(\u001b[0m\u001b[0;34m)\u001b[0m\u001b[0;34m\u001b[0m\u001b[0;34m\u001b[0m\u001b[0m\n",
            "\u001b[0;32m/usr/local/lib/python3.6/dist-packages/tensorflow/python/keras/saving/save.py\u001b[0m in \u001b[0;36mload_model\u001b[0;34m(filepath, custom_objects, compile)\u001b[0m\n\u001b[1;32m    187\u001b[0m       \u001b[0mfilepath\u001b[0m \u001b[0;34m=\u001b[0m \u001b[0mstr\u001b[0m\u001b[0;34m(\u001b[0m\u001b[0mfilepath\u001b[0m\u001b[0;34m)\u001b[0m\u001b[0;34m\u001b[0m\u001b[0;34m\u001b[0m\u001b[0m\n\u001b[1;32m    188\u001b[0m     \u001b[0;32mif\u001b[0m \u001b[0misinstance\u001b[0m\u001b[0;34m(\u001b[0m\u001b[0mfilepath\u001b[0m\u001b[0;34m,\u001b[0m \u001b[0msix\u001b[0m\u001b[0;34m.\u001b[0m\u001b[0mstring_types\u001b[0m\u001b[0;34m)\u001b[0m\u001b[0;34m:\u001b[0m\u001b[0;34m\u001b[0m\u001b[0;34m\u001b[0m\u001b[0m\n\u001b[0;32m--> 189\u001b[0;31m       \u001b[0mloader_impl\u001b[0m\u001b[0;34m.\u001b[0m\u001b[0mparse_saved_model\u001b[0m\u001b[0;34m(\u001b[0m\u001b[0mfilepath\u001b[0m\u001b[0;34m)\u001b[0m\u001b[0;34m\u001b[0m\u001b[0;34m\u001b[0m\u001b[0m\n\u001b[0m\u001b[1;32m    190\u001b[0m       \u001b[0;32mreturn\u001b[0m \u001b[0msaved_model_load\u001b[0m\u001b[0;34m.\u001b[0m\u001b[0mload\u001b[0m\u001b[0;34m(\u001b[0m\u001b[0mfilepath\u001b[0m\u001b[0;34m,\u001b[0m \u001b[0mcompile\u001b[0m\u001b[0;34m)\u001b[0m\u001b[0;34m\u001b[0m\u001b[0;34m\u001b[0m\u001b[0m\n\u001b[1;32m    191\u001b[0m \u001b[0;34m\u001b[0m\u001b[0m\n",
            "\u001b[0;32m/usr/local/lib/python3.6/dist-packages/tensorflow/python/saved_model/loader_impl.py\u001b[0m in \u001b[0;36mparse_saved_model\u001b[0;34m(export_dir)\u001b[0m\n\u001b[1;32m    111\u001b[0m                   (export_dir,\n\u001b[1;32m    112\u001b[0m                    \u001b[0mconstants\u001b[0m\u001b[0;34m.\u001b[0m\u001b[0mSAVED_MODEL_FILENAME_PBTXT\u001b[0m\u001b[0;34m,\u001b[0m\u001b[0;34m\u001b[0m\u001b[0;34m\u001b[0m\u001b[0m\n\u001b[0;32m--> 113\u001b[0;31m                    constants.SAVED_MODEL_FILENAME_PB))\n\u001b[0m\u001b[1;32m    114\u001b[0m \u001b[0;34m\u001b[0m\u001b[0m\n\u001b[1;32m    115\u001b[0m \u001b[0;34m\u001b[0m\u001b[0m\n",
            "\u001b[0;31mOSError\u001b[0m: SavedModel file does not exist at: 20200607_130521.h5/{saved_model.pbtxt|saved_model.pb}"
          ]
        }
      ]
    },
    {
      "cell_type": "code",
      "metadata": {
        "id": "w6h4QAkeK4Lz",
        "colab_type": "code",
        "colab": {}
      },
      "source": [
        "# OR Upload the model instead of saving it to drive\n",
        "# TODO: put a correct model name\n",
        "# !curl --upload-file training/20200531_224202.h5 https://transfer.sh/20200531_224202.h5"
      ],
      "execution_count": 0,
      "outputs": []
    },
    {
      "cell_type": "markdown",
      "metadata": {
        "id": "KpIqU8r6K4L2",
        "colab_type": "text"
      },
      "source": [
        "---"
      ]
    },
    {
      "cell_type": "markdown",
      "metadata": {
        "id": "_KlxFl_eK4L2",
        "colab_type": "text"
      },
      "source": [
        "## dP/dQ plot"
      ]
    },
    {
      "cell_type": "code",
      "metadata": {
        "id": "Z766GBdvK4L3",
        "colab_type": "code",
        "colab": {}
      },
      "source": [
        "from cryoem.conversions import d_q, euler2quaternion\n",
        "from cryoem.plots import plot_dP_dQ"
      ],
      "execution_count": 0,
      "outputs": []
    },
    {
      "cell_type": "code",
      "metadata": {
        "id": "RJMjW2KHK4L5",
        "colab_type": "code",
        "colab": {}
      },
      "source": [
        "def d_p(p1, p2):\n",
        "    p1 = tf.cast(p1, dtype=tf.float32)\n",
        "    p2 = tf.cast(p2, dtype=tf.float32)\n",
        "    return model.predict([p1, p2], batch_size=256)"
      ],
      "execution_count": 0,
      "outputs": []
    },
    {
      "cell_type": "code",
      "metadata": {
        "id": "0YTh5UvmK4L7",
        "colab_type": "code",
        "colab": {}
      },
      "source": [
        "# 5:41 with 1024\n",
        "# 5:43     with 256\n",
        "idx1 = list(np.random.choice(test_idx, size=1000))\n",
        "idx2 = list(np.random.choice(test_idx, size=1000))\n",
        "\n",
        "q1_true = euler2quaternion([angles_true[i] for i in idx1])\n",
        "q2_true = euler2quaternion([angles_true[i] for i in idx2])\n",
        "\n",
        "p1 = [X[i] for i in idx1]\n",
        "p2 = [X[i] for i in idx2]\n",
        "\n",
        "dP_values = d_p(p1, p2).T[0]\n",
        "dQ_values = d_q(q1_true, q2_true).numpy()"
      ],
      "execution_count": 0,
      "outputs": []
    },
    {
      "cell_type": "code",
      "metadata": {
        "id": "NjmjpoN0K4L9",
        "colab_type": "code",
        "colab": {}
      },
      "source": [
        "plot_dP_dQ(dP_values, dQ_values)"
      ],
      "execution_count": 0,
      "outputs": []
    },
    {
      "cell_type": "code",
      "metadata": {
        "id": "lA75WQYrK4L_",
        "colab_type": "code",
        "colab": {}
      },
      "source": [
        "MAE(dQ_values, dP_values)"
      ],
      "execution_count": 0,
      "outputs": []
    },
    {
      "cell_type": "code",
      "metadata": {
        "id": "rGC2BjfxVYqF",
        "colab_type": "code",
        "colab": {}
      },
      "source": [
        ""
      ],
      "execution_count": 0,
      "outputs": []
    }
  ]
}