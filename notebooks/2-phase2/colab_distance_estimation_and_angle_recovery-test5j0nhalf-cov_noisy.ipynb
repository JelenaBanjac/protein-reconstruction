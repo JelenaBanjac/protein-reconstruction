{
  "nbformat": 4,
  "nbformat_minor": 0,
  "metadata": {
    "kernelspec": {
      "display_name": "Python 3",
      "language": "python",
      "name": "python3"
    },
    "language_info": {
      "codemirror_mode": {
        "name": "ipython",
        "version": 3
      },
      "file_extension": ".py",
      "mimetype": "text/x-python",
      "name": "python",
      "nbconvert_exporter": "python",
      "pygments_lexer": "ipython3",
      "version": "3.6.9"
    },
    "colab": {
      "name": "colab_distance_estimation_and_angle_recovery-test5j0nhalf-cov_noisy.ipynb",
      "provenance": [],
      "toc_visible": true
    },
    "accelerator": "GPU"
  },
  "cells": [
    {
      "cell_type": "markdown",
      "metadata": {
        "id": "I-hskHNCK4Jy",
        "colab_type": "text"
      },
      "source": [
        "<a href=\"https://colab.research.google.com/github/JelenaBanjac/protein-reconstruction/blob/master/notebooks/2-phase2/colab_distance_estimation_and_angle_recovery-test5j0nhalf-cov_noisy.ipynb\" target=\"_parent\"><img src=\"https://colab.research.google.com/assets/colab-badge.svg\" alt=\"Open In Colab\"/></a>"
      ]
    },
    {
      "cell_type": "markdown",
      "metadata": {
        "id": "ny3JKImAK4Jz",
        "colab_type": "text"
      },
      "source": [
        "# Distance Estimation and Angle Recovery"
      ]
    },
    {
      "cell_type": "markdown",
      "metadata": {
        "id": "4W1rATe0K4J1",
        "colab_type": "text"
      },
      "source": [
        "<div class=\"alert alert-danger\" role=\"alert\">\n",
        "  <p><strong>Important:</strong> This notebook is used to run the distance estimation on noisy data only (no angle recovery).</p>\n",
        "  <hr>\n",
        "    - <b>To enable GPU</b>: Navigate to Edit→Notebook Settings<br/>\n",
        "    - <b>To save the latest version of code from this notebook</b>: Navigate to File→Save a copy to Github.\n",
        "</div>"
      ]
    },
    {
      "cell_type": "markdown",
      "metadata": {
        "colab_type": "text",
        "id": "EkRUrVFpCrFT"
      },
      "source": [
        "## Content"
      ]
    },
    {
      "cell_type": "markdown",
      "metadata": {
        "colab_type": "text",
        "id": "Zwit5GAFCrFU"
      },
      "source": [
        "1. [Data Preparation](#1.-Data-Preparation)\n",
        "2. [Distance Estimation](#2.-Distance-Estimation)\n",
        "3. [Angle Recovery](#3.-Angle-Recovery)\n",
        "4. [Angle Alignment](#4.-Angle-Alignment)"
      ]
    },
    {
      "cell_type": "markdown",
      "metadata": {
        "id": "TDsOdNomK4J4",
        "colab_type": "text"
      },
      "source": [
        "Data used:\n",
        "- Protein: 5j0n (symmetric protein)\n",
        "- Projections: 5K\n",
        "- Coverage: Half-sphere\n",
        "\n",
        "![](https://github.com/JelenaBanjac/protein-reconstruction/blob/master/notebooks/2-phase2/figures/5j0n.pdb1-500.jpg?raw=1)"
      ]
    },
    {
      "cell_type": "code",
      "metadata": {
        "id": "P43631FkK4J5",
        "colab_type": "code",
        "colab": {
          "base_uri": "https://localhost:8080/",
          "height": 34
        },
        "outputId": "2d47c7eb-ab72-4797-8475-868167658043"
      },
      "source": [
        "# create directories\n",
        "!mkdir --parents data/5j0n\n",
        "!mkdir training"
      ],
      "execution_count": 1,
      "outputs": [
        {
          "output_type": "stream",
          "text": [
            "mkdir: cannot create directory ‘training’: File exists\n"
          ],
          "name": "stdout"
        }
      ]
    },
    {
      "cell_type": "markdown",
      "metadata": {
        "id": "A-xIo-OjK4J_",
        "colab_type": "text"
      },
      "source": [
        "## Setup Environment (Colab)"
      ]
    },
    {
      "cell_type": "markdown",
      "metadata": {
        "id": "kOyAAhtiK4J_",
        "colab_type": "text"
      },
      "source": [
        "Link to MiniConda Linux installer [here](https://docs.conda.io/en/latest/miniconda.html)."
      ]
    },
    {
      "cell_type": "code",
      "metadata": {
        "id": "6mMUWEYfK4KA",
        "colab_type": "code",
        "outputId": "fe061810-cdb2-4a8d-b7bc-1a36d8342cbd",
        "colab": {
          "base_uri": "https://localhost:8080/",
          "height": 1000
        }
      },
      "source": [
        "!wget -c https://repo.anaconda.com/miniconda/Miniconda3-latest-Linux-x86_64.sh\n",
        "!chmod +x Miniconda3-latest-Linux-x86_64.sh\n",
        "!bash ./Miniconda3-latest-Linux-x86_64.sh -b -f -p /usr/local"
      ],
      "execution_count": 2,
      "outputs": [
        {
          "output_type": "stream",
          "text": [
            "--2020-06-05 14:06:31--  https://repo.anaconda.com/miniconda/Miniconda3-latest-Linux-x86_64.sh\n",
            "Resolving repo.anaconda.com (repo.anaconda.com)... 104.16.131.3, 104.16.130.3, 2606:4700::6810:8203, ...\n",
            "Connecting to repo.anaconda.com (repo.anaconda.com)|104.16.131.3|:443... connected.\n",
            "HTTP request sent, awaiting response... 416 Requested Range Not Satisfiable\n",
            "\n",
            "    The file is already fully retrieved; nothing to do.\n",
            "\n",
            "PREFIX=/usr/local\n",
            "Unpacking payload ...\n",
            "Collecting package metadata (current_repodata.json): - \b\b\\ \b\b| \b\b/ \b\bdone\n",
            "Solving environment: \\ \b\b| \b\b/ \b\b- \b\b\\ \b\b| \b\b/ \b\b- \b\b\\ \b\b| \b\b/ \b\b- \b\b\\ \b\b| \b\b/ \b\b- \b\b\\ \b\b| \b\bdone\n",
            "\n",
            "## Package Plan ##\n",
            "\n",
            "  environment location: /usr/local\n",
            "\n",
            "  added / updated specs:\n",
            "    - _libgcc_mutex==0.1=main\n",
            "    - asn1crypto==1.3.0=py37_0\n",
            "    - ca-certificates==2020.1.1=0\n",
            "    - certifi==2019.11.28=py37_0\n",
            "    - cffi==1.14.0=py37h2e261b9_0\n",
            "    - chardet==3.0.4=py37_1003\n",
            "    - conda-package-handling==1.6.0=py37h7b6447c_0\n",
            "    - conda==4.8.2=py37_0\n",
            "    - cryptography==2.8=py37h1ba5d50_0\n",
            "    - idna==2.8=py37_0\n",
            "    - ld_impl_linux-64==2.33.1=h53a641e_7\n",
            "    - libedit==3.1.20181209=hc058e9b_0\n",
            "    - libffi==3.2.1=hd88cf55_4\n",
            "    - libgcc-ng==9.1.0=hdf63c60_0\n",
            "    - libstdcxx-ng==9.1.0=hdf63c60_0\n",
            "    - ncurses==6.2=he6710b0_0\n",
            "    - openssl==1.1.1d=h7b6447c_4\n",
            "    - pip==20.0.2=py37_1\n",
            "    - pycosat==0.6.3=py37h7b6447c_0\n",
            "    - pycparser==2.19=py37_0\n",
            "    - pyopenssl==19.1.0=py37_0\n",
            "    - pysocks==1.7.1=py37_0\n",
            "    - python==3.7.6=h0371630_2\n",
            "    - readline==7.0=h7b6447c_5\n",
            "    - requests==2.22.0=py37_1\n",
            "    - ruamel_yaml==0.15.87=py37h7b6447c_0\n",
            "    - setuptools==45.2.0=py37_0\n",
            "    - six==1.14.0=py37_0\n",
            "    - sqlite==3.31.1=h7b6447c_0\n",
            "    - tk==8.6.8=hbc83047_0\n",
            "    - tqdm==4.42.1=py_0\n",
            "    - urllib3==1.25.8=py37_0\n",
            "    - wheel==0.34.2=py37_0\n",
            "    - xz==5.2.4=h14c3975_4\n",
            "    - yaml==0.1.7=had09818_2\n",
            "    - zlib==1.2.11=h7b6447c_3\n",
            "\n",
            "\n",
            "The following packages will be SUPERSEDED by a higher-priority channel:\n",
            "\n",
            "  ca-certificates    conda-forge::ca-certificates-2020.4.5~ --> pkgs/main::ca-certificates-2020.1.1-0\n",
            "  certifi            conda-forge::certifi-2020.4.5.1-py37h~ --> pkgs/main::certifi-2019.11.28-py37_0\n",
            "  conda              conda-forge::conda-4.8.3-py37hc8dfbb8~ --> pkgs/main::conda-4.8.2-py37_0\n",
            "  openssl            conda-forge::openssl-1.1.1g-h516909a_0 --> pkgs/main::openssl-1.1.1d-h7b6447c_4\n",
            "\n",
            "\n",
            "Preparing transaction: - \b\bdone\n",
            "Executing transaction: | \b\b/ \b\bdone\n",
            "installation finished.\n",
            "WARNING:\n",
            "    You currently have a PYTHONPATH environment variable set. This may cause\n",
            "    unexpected behavior when running the Python interpreter in Miniconda3.\n",
            "    For best results, please verify that your PYTHONPATH only points to\n",
            "    directories of packages that are compatible with the Python interpreter\n",
            "    in Miniconda3: /usr/local\n"
          ],
          "name": "stdout"
        }
      ]
    },
    {
      "cell_type": "code",
      "metadata": {
        "id": "6ghrKBx2K4KE",
        "colab_type": "code",
        "outputId": "9e5d4f82-eb7a-40af-bd66-3579a20ede6a",
        "colab": {
          "base_uri": "https://localhost:8080/",
          "height": 136
        }
      },
      "source": [
        "# clone repo\n",
        "!rm -r protein-reconstruction\n",
        "!git clone https://github.com/JelenaBanjac/protein-reconstruction.git\n",
        "!cd protein-reconstruction"
      ],
      "execution_count": 3,
      "outputs": [
        {
          "output_type": "stream",
          "text": [
            "Cloning into 'protein-reconstruction'...\n",
            "remote: Enumerating objects: 220, done.\u001b[K\n",
            "remote: Counting objects: 100% (220/220), done.\u001b[K\n",
            "remote: Compressing objects: 100% (155/155), done.\u001b[K\n",
            "remote: Total 2077 (delta 154), reused 114 (delta 65), pack-reused 1857\u001b[K\n",
            "Receiving objects: 100% (2077/2077), 246.64 MiB | 27.06 MiB/s, done.\n",
            "Resolving deltas: 100% (1275/1275), done.\n"
          ],
          "name": "stdout"
        }
      ]
    },
    {
      "cell_type": "code",
      "metadata": {
        "id": "c9KlDSk3K4KI",
        "colab_type": "code",
        "outputId": "a5210ffd-9021-4282-ac7d-99af4a4d9499",
        "colab": {
          "base_uri": "https://localhost:8080/",
          "height": 68
        }
      },
      "source": [
        "# download dataset\n",
        "# TODO: put here the link\n",
        "!curl https://transfer.sh/N3J6C/5j0n_ProjectionsAngles_ProjNber5000_AngCoverage2.0,0.4,2.0_AngShift0.0,0.0,0.0.h5 -o data/5j0n/5j0n_ProjectionsAngles_ProjNber5000_AngCoverage2.0,0.4,2.0_AngShift0.0,0.0,0.0.h5"
      ],
      "execution_count": 4,
      "outputs": [
        {
          "output_type": "stream",
          "text": [
            "  % Total    % Received % Xferd  Average Speed   Time    Time     Time  Current\n",
            "                                 Dload  Upload   Total   Spent    Left  Speed\n",
            "100  513M  100  513M    0     0  12.6M      0  0:00:40  0:00:40 --:--:-- 26.5M\n"
          ],
          "name": "stdout"
        }
      ]
    },
    {
      "cell_type": "code",
      "metadata": {
        "id": "LGvnGT0xK4KL",
        "colab_type": "code",
        "outputId": "43d67641-6b91-419c-9d9c-92e83f28f3f7",
        "colab": {
          "base_uri": "https://localhost:8080/",
          "height": 1000
        }
      },
      "source": [
        "#!conda env create -f environment.yml \n",
        "!conda install -q -y --prefix /usr/local -c conda-forge ipyvolume\n",
        "!pip3 install tensorflow-graphics-gpu"
      ],
      "execution_count": 5,
      "outputs": [
        {
          "output_type": "stream",
          "text": [
            "Collecting package metadata (current_repodata.json): ...working... done\n",
            "Solving environment: ...working... done\n",
            "\n",
            "## Package Plan ##\n",
            "\n",
            "  environment location: /usr/local\n",
            "\n",
            "  added / updated specs:\n",
            "    - ipyvolume\n",
            "\n",
            "\n",
            "The following packages will be UPDATED:\n",
            "\n",
            "  ca-certificates     pkgs/main::ca-certificates-2020.1.1-0 --> conda-forge::ca-certificates-2020.4.5.1-hecc5488_0\n",
            "  certifi              pkgs/main::certifi-2019.11.28-py37_0 --> conda-forge::certifi-2020.4.5.1-py37hc8dfbb8_0\n",
            "  conda                       pkgs/main::conda-4.8.2-py37_0 --> conda-forge::conda-4.8.3-py37hc8dfbb8_1\n",
            "  openssl              pkgs/main::openssl-1.1.1d-h7b6447c_4 --> conda-forge::openssl-1.1.1g-h516909a_0\n",
            "\n",
            "\n",
            "Preparing transaction: ...working... done\n",
            "Verifying transaction: ...working... done\n",
            "Executing transaction: ...working... done\n",
            "Requirement already satisfied: tensorflow-graphics-gpu in /usr/local/lib/python3.6/dist-packages (1.0.0)\n",
            "Requirement already satisfied: scipy>=1.1.0 in /usr/local/lib/python3.6/dist-packages (from tensorflow-graphics-gpu) (1.4.1)\n",
            "Requirement already satisfied: six>=1.11.0 in /usr/local/lib/python3.6/dist-packages (from tensorflow-graphics-gpu) (1.12.0)\n",
            "Requirement already satisfied: numpy>=1.15.4 in /usr/local/lib/python3.6/dist-packages (from tensorflow-graphics-gpu) (1.18.4)\n",
            "Requirement already satisfied: tensorflow-gpu>=1.13.1 in /usr/local/lib/python3.6/dist-packages (from tensorflow-graphics-gpu) (2.2.0)\n",
            "Requirement already satisfied: absl-py>=0.6.1 in /usr/local/lib/python3.6/dist-packages (from tensorflow-graphics-gpu) (0.9.0)\n",
            "Requirement already satisfied: tensorflow-estimator<2.3.0,>=2.2.0 in /usr/local/lib/python3.6/dist-packages (from tensorflow-gpu>=1.13.1->tensorflow-graphics-gpu) (2.2.0)\n",
            "Requirement already satisfied: google-pasta>=0.1.8 in /usr/local/lib/python3.6/dist-packages (from tensorflow-gpu>=1.13.1->tensorflow-graphics-gpu) (0.2.0)\n",
            "Requirement already satisfied: opt-einsum>=2.3.2 in /usr/local/lib/python3.6/dist-packages (from tensorflow-gpu>=1.13.1->tensorflow-graphics-gpu) (3.2.1)\n",
            "Requirement already satisfied: gast==0.3.3 in /usr/local/lib/python3.6/dist-packages (from tensorflow-gpu>=1.13.1->tensorflow-graphics-gpu) (0.3.3)\n",
            "Requirement already satisfied: h5py<2.11.0,>=2.10.0 in /usr/local/lib/python3.6/dist-packages (from tensorflow-gpu>=1.13.1->tensorflow-graphics-gpu) (2.10.0)\n",
            "Requirement already satisfied: astunparse==1.6.3 in /usr/local/lib/python3.6/dist-packages (from tensorflow-gpu>=1.13.1->tensorflow-graphics-gpu) (1.6.3)\n",
            "Requirement already satisfied: wheel>=0.26; python_version >= \"3\" in /usr/local/lib/python3.6/dist-packages (from tensorflow-gpu>=1.13.1->tensorflow-graphics-gpu) (0.34.2)\n",
            "Requirement already satisfied: termcolor>=1.1.0 in /usr/local/lib/python3.6/dist-packages (from tensorflow-gpu>=1.13.1->tensorflow-graphics-gpu) (1.1.0)\n",
            "Requirement already satisfied: wrapt>=1.11.1 in /usr/local/lib/python3.6/dist-packages (from tensorflow-gpu>=1.13.1->tensorflow-graphics-gpu) (1.12.1)\n",
            "Requirement already satisfied: keras-preprocessing>=1.1.0 in /usr/local/lib/python3.6/dist-packages (from tensorflow-gpu>=1.13.1->tensorflow-graphics-gpu) (1.1.2)\n",
            "Requirement already satisfied: grpcio>=1.8.6 in /usr/local/lib/python3.6/dist-packages (from tensorflow-gpu>=1.13.1->tensorflow-graphics-gpu) (1.29.0)\n",
            "Requirement already satisfied: tensorboard<2.3.0,>=2.2.0 in /usr/local/lib/python3.6/dist-packages (from tensorflow-gpu>=1.13.1->tensorflow-graphics-gpu) (2.2.2)\n",
            "Requirement already satisfied: protobuf>=3.8.0 in /usr/local/lib/python3.6/dist-packages (from tensorflow-gpu>=1.13.1->tensorflow-graphics-gpu) (3.10.0)\n",
            "Requirement already satisfied: google-auth-oauthlib<0.5,>=0.4.1 in /usr/local/lib/python3.6/dist-packages (from tensorboard<2.3.0,>=2.2.0->tensorflow-gpu>=1.13.1->tensorflow-graphics-gpu) (0.4.1)\n",
            "Requirement already satisfied: setuptools>=41.0.0 in /usr/local/lib/python3.6/dist-packages (from tensorboard<2.3.0,>=2.2.0->tensorflow-gpu>=1.13.1->tensorflow-graphics-gpu) (47.1.1)\n",
            "Requirement already satisfied: tensorboard-plugin-wit>=1.6.0 in /usr/local/lib/python3.6/dist-packages (from tensorboard<2.3.0,>=2.2.0->tensorflow-gpu>=1.13.1->tensorflow-graphics-gpu) (1.6.0.post3)\n",
            "Requirement already satisfied: requests<3,>=2.21.0 in /usr/local/lib/python3.6/dist-packages (from tensorboard<2.3.0,>=2.2.0->tensorflow-gpu>=1.13.1->tensorflow-graphics-gpu) (2.23.0)\n",
            "Requirement already satisfied: google-auth<2,>=1.6.3 in /usr/local/lib/python3.6/dist-packages (from tensorboard<2.3.0,>=2.2.0->tensorflow-gpu>=1.13.1->tensorflow-graphics-gpu) (1.7.2)\n",
            "Requirement already satisfied: markdown>=2.6.8 in /usr/local/lib/python3.6/dist-packages (from tensorboard<2.3.0,>=2.2.0->tensorflow-gpu>=1.13.1->tensorflow-graphics-gpu) (3.2.2)\n",
            "Requirement already satisfied: werkzeug>=0.11.15 in /usr/local/lib/python3.6/dist-packages (from tensorboard<2.3.0,>=2.2.0->tensorflow-gpu>=1.13.1->tensorflow-graphics-gpu) (1.0.1)\n",
            "Requirement already satisfied: requests-oauthlib>=0.7.0 in /usr/local/lib/python3.6/dist-packages (from google-auth-oauthlib<0.5,>=0.4.1->tensorboard<2.3.0,>=2.2.0->tensorflow-gpu>=1.13.1->tensorflow-graphics-gpu) (1.3.0)\n",
            "Requirement already satisfied: urllib3!=1.25.0,!=1.25.1,<1.26,>=1.21.1 in /usr/local/lib/python3.6/dist-packages (from requests<3,>=2.21.0->tensorboard<2.3.0,>=2.2.0->tensorflow-gpu>=1.13.1->tensorflow-graphics-gpu) (1.24.3)\n",
            "Requirement already satisfied: idna<3,>=2.5 in /usr/local/lib/python3.6/dist-packages (from requests<3,>=2.21.0->tensorboard<2.3.0,>=2.2.0->tensorflow-gpu>=1.13.1->tensorflow-graphics-gpu) (2.9)\n",
            "Requirement already satisfied: certifi>=2017.4.17 in /usr/local/lib/python3.6/dist-packages (from requests<3,>=2.21.0->tensorboard<2.3.0,>=2.2.0->tensorflow-gpu>=1.13.1->tensorflow-graphics-gpu) (2020.4.5.1)\n",
            "Requirement already satisfied: chardet<4,>=3.0.2 in /usr/local/lib/python3.6/dist-packages (from requests<3,>=2.21.0->tensorboard<2.3.0,>=2.2.0->tensorflow-gpu>=1.13.1->tensorflow-graphics-gpu) (3.0.4)\n",
            "Requirement already satisfied: rsa<4.1,>=3.1.4 in /usr/local/lib/python3.6/dist-packages (from google-auth<2,>=1.6.3->tensorboard<2.3.0,>=2.2.0->tensorflow-gpu>=1.13.1->tensorflow-graphics-gpu) (4.0)\n",
            "Requirement already satisfied: pyasn1-modules>=0.2.1 in /usr/local/lib/python3.6/dist-packages (from google-auth<2,>=1.6.3->tensorboard<2.3.0,>=2.2.0->tensorflow-gpu>=1.13.1->tensorflow-graphics-gpu) (0.2.8)\n",
            "Requirement already satisfied: cachetools<3.2,>=2.0.0 in /usr/local/lib/python3.6/dist-packages (from google-auth<2,>=1.6.3->tensorboard<2.3.0,>=2.2.0->tensorflow-gpu>=1.13.1->tensorflow-graphics-gpu) (3.1.1)\n",
            "Requirement already satisfied: importlib-metadata; python_version < \"3.8\" in /usr/local/lib/python3.6/dist-packages (from markdown>=2.6.8->tensorboard<2.3.0,>=2.2.0->tensorflow-gpu>=1.13.1->tensorflow-graphics-gpu) (1.6.0)\n",
            "Requirement already satisfied: oauthlib>=3.0.0 in /usr/local/lib/python3.6/dist-packages (from requests-oauthlib>=0.7.0->google-auth-oauthlib<0.5,>=0.4.1->tensorboard<2.3.0,>=2.2.0->tensorflow-gpu>=1.13.1->tensorflow-graphics-gpu) (3.1.0)\n",
            "Requirement already satisfied: pyasn1>=0.1.3 in /usr/local/lib/python3.6/dist-packages (from rsa<4.1,>=3.1.4->google-auth<2,>=1.6.3->tensorboard<2.3.0,>=2.2.0->tensorflow-gpu>=1.13.1->tensorflow-graphics-gpu) (0.4.8)\n",
            "Requirement already satisfied: zipp>=0.5 in /usr/local/lib/python3.6/dist-packages (from importlib-metadata; python_version < \"3.8\"->markdown>=2.6.8->tensorboard<2.3.0,>=2.2.0->tensorflow-gpu>=1.13.1->tensorflow-graphics-gpu) (3.1.0)\n"
          ],
          "name": "stdout"
        }
      ]
    },
    {
      "cell_type": "code",
      "metadata": {
        "id": "VZDmNWzdK4KO",
        "colab_type": "code",
        "colab": {}
      },
      "source": [
        "import sys\n",
        "sys.path.append('/usr/local/lib/python3.7/site-packages')\n",
        "sys.path.append(\"protein-reconstruction\") "
      ],
      "execution_count": 0,
      "outputs": []
    },
    {
      "cell_type": "code",
      "metadata": {
        "id": "Zro6bM3VK4KR",
        "colab_type": "code",
        "outputId": "860f335e-bf0b-4517-e22f-d0bcce39802b",
        "colab": {
          "base_uri": "https://localhost:8080/",
          "height": 34
        }
      },
      "source": [
        "!python --version"
      ],
      "execution_count": 7,
      "outputs": [
        {
          "output_type": "stream",
          "text": [
            "Python 3.7.6\n"
          ],
          "name": "stdout"
        }
      ]
    },
    {
      "cell_type": "markdown",
      "metadata": {
        "id": "787rPWn8K4KU",
        "colab_type": "text"
      },
      "source": [
        "## Start the Pipeline"
      ]
    },
    {
      "cell_type": "code",
      "metadata": {
        "id": "06JQ1KmQK4KV",
        "colab_type": "code",
        "outputId": "8bba4645-a0aa-4a27-9254-bed8c19a0c2a",
        "colab": {
          "base_uri": "https://localhost:8080/",
          "height": 88
        }
      },
      "source": [
        "import os\n",
        "import h5py\n",
        "import numpy as np\n",
        "import time\n",
        "import pandas as pd\n",
        "\n",
        "\n",
        "from cryoem.plots import plot_angles_count, plot_images\n",
        "from IPython.display import Image\n",
        "import matplotlib.pyplot as plt\n",
        "\n",
        "import tensorflow as tf\n",
        "from cryoem.conversions import d_q, euler2quaternion\n",
        "import ipyvolume as ipv\n",
        "from collections import Counter\n",
        "import itertools\n",
        "import seaborn as sns; sns.set(style=\"white\", color_codes=True)\n",
        "import io"
      ],
      "execution_count": 8,
      "outputs": [
        {
          "output_type": "stream",
          "text": [
            "/usr/local/lib/python3.6/dist-packages/statsmodels/tools/_testing.py:19: FutureWarning: pandas.util.testing is deprecated. Use the functions in the public API at pandas.testing instead.\n",
            "  import pandas.util.testing as tm\n",
            "Warning: To use the exr data format, please install the OpenEXR package following the instructions detailed in the README at github.com/tensorflow/graphics.\n"
          ],
          "name": "stderr"
        }
      ]
    },
    {
      "cell_type": "code",
      "metadata": {
        "id": "m9Os8XDOK4KY",
        "colab_type": "code",
        "outputId": "84b8912a-425a-45ef-feb2-0c3236bfb301",
        "colab": {
          "base_uri": "https://localhost:8080/",
          "height": 34
        }
      },
      "source": [
        "tf.__version__"
      ],
      "execution_count": 9,
      "outputs": [
        {
          "output_type": "execute_result",
          "data": {
            "text/plain": [
              "'2.2.0'"
            ]
          },
          "metadata": {
            "tags": []
          },
          "execution_count": 9
        }
      ]
    },
    {
      "cell_type": "code",
      "metadata": {
        "id": "ShUD7yqTK4Kb",
        "colab_type": "code",
        "outputId": "58312aea-2bda-4841-9622-02e4b5397411",
        "colab": {
          "base_uri": "https://localhost:8080/",
          "height": 544
        }
      },
      "source": [
        "from tensorflow.python.client import device_lib \n",
        "print(device_lib.list_local_devices())"
      ],
      "execution_count": 10,
      "outputs": [
        {
          "output_type": "stream",
          "text": [
            "[name: \"/device:CPU:0\"\n",
            "device_type: \"CPU\"\n",
            "memory_limit: 268435456\n",
            "locality {\n",
            "}\n",
            "incarnation: 17591131992163704136\n",
            ", name: \"/device:XLA_CPU:0\"\n",
            "device_type: \"XLA_CPU\"\n",
            "memory_limit: 17179869184\n",
            "locality {\n",
            "}\n",
            "incarnation: 11703611938585441754\n",
            "physical_device_desc: \"device: XLA_CPU device\"\n",
            ", name: \"/device:XLA_GPU:0\"\n",
            "device_type: \"XLA_GPU\"\n",
            "memory_limit: 17179869184\n",
            "locality {\n",
            "}\n",
            "incarnation: 15699706742327760333\n",
            "physical_device_desc: \"device: XLA_GPU device\"\n",
            ", name: \"/device:GPU:0\"\n",
            "device_type: \"GPU\"\n",
            "memory_limit: 11210851648\n",
            "locality {\n",
            "  bus_id: 1\n",
            "  links {\n",
            "  }\n",
            "}\n",
            "incarnation: 7013729416090244626\n",
            "physical_device_desc: \"device: 0, name: Tesla K80, pci bus id: 0000:00:04.0, compute capability: 3.7\"\n",
            "]\n"
          ],
          "name": "stdout"
        }
      ]
    },
    {
      "cell_type": "code",
      "metadata": {
        "id": "kZFVlYW4K4Ke",
        "colab_type": "code",
        "colab": {}
      },
      "source": [
        "PROTEIN=\"5j0n\"\n",
        "NUM_PROJECTIONS = 5000"
      ],
      "execution_count": 0,
      "outputs": []
    },
    {
      "cell_type": "code",
      "metadata": {
        "id": "-q8GWm2EK4Kh",
        "colab_type": "code",
        "outputId": "c569c3fb-3c23-4487-a93e-be41c3ad1528",
        "colab": {
          "base_uri": "https://localhost:8080/",
          "height": 51
        }
      },
      "source": [
        "# location of *.h5 files\n",
        "data_dir = \"data/5j0n/\"\n",
        "\n",
        "# TODO: dataset name\n",
        "projections_filename = f\"{PROTEIN}_ProjectionsAngles_ProjNber5000_AngCoverage2.0,0.4,2.0_AngShift0.0,0.0,0.0.h5\"\n",
        "\n",
        "# load structures\n",
        "data = h5py.File(os.path.join(data_dir, projections_filename), 'r')\n",
        "\n",
        "print(f\"{data['Projections'].shape[0]} projections of images with dimension {data['Projections'].shape[1:]} pixels\")\n",
        "print(f\"{data['Angles'].shape[0]} sets of {data['Angles'].shape[1]} ground truth angles of corresponding projection images\")"
      ],
      "execution_count": 12,
      "outputs": [
        {
          "output_type": "stream",
          "text": [
            "5000 projections of images with dimension (116, 116) pixels\n",
            "5000 sets of 3 ground truth angles of corresponding projection images\n"
          ],
          "name": "stdout"
        }
      ]
    },
    {
      "cell_type": "code",
      "metadata": {
        "id": "2zARA9L2K4Kj",
        "colab_type": "code",
        "outputId": "8defbd73-5900-45be-d54d-d880570a1cf6",
        "colab": {
          "base_uri": "https://localhost:8080/",
          "height": 34
        }
      },
      "source": [
        "projections = data['Projections']\n",
        "projections.shape"
      ],
      "execution_count": 13,
      "outputs": [
        {
          "output_type": "execute_result",
          "data": {
            "text/plain": [
              "(5000, 116, 116)"
            ]
          },
          "metadata": {
            "tags": []
          },
          "execution_count": 13
        }
      ]
    },
    {
      "cell_type": "code",
      "metadata": {
        "id": "bIQzyIQnxgts",
        "colab_type": "code",
        "colab": {
          "base_uri": "https://localhost:8080/",
          "height": 271
        },
        "outputId": "8e5a2dfb-0730-4829-940a-62f9e3d8941f"
      },
      "source": [
        "sampleProj = projections[1,:,:]\n",
        "plt.imshow(sampleProj,cmap='gray')\n",
        "plt.show()"
      ],
      "execution_count": 14,
      "outputs": [
        {
          "output_type": "display_data",
          "data": {
            "image/png": "[encoded data removed]",
            "text/plain": [
              "<Figure size 432x288 with 1 Axes>"
            ]
          },
          "metadata": {
            "tags": []
          }
        }
      ]
    },
    {
      "cell_type": "code",
      "metadata": {
        "id": "PpprtZ8vwc39",
        "colab_type": "code",
        "colab": {}
      },
      "source": [
        "def addGaussianNoise(projections, noise_var):\n",
        "    noise_sigma   = noise_var**0.5\n",
        "    nproj,row,col = projections.shape\n",
        "    gauss_noise   = np.random.normal(0,noise_sigma,(nproj,row,col))\n",
        "    gauss_noise   = gauss_noise.reshape(nproj,row,col) \n",
        "    projections   = projections + gauss_noise\n",
        "    return projections"
      ],
      "execution_count": 0,
      "outputs": []
    },
    {
      "cell_type": "code",
      "metadata": {
        "id": "oCD6IwpOr3_A",
        "colab_type": "code",
        "colab": {}
      },
      "source": [
        "# Add zero-mean Gaussian noise on the projections \n",
        "noise_var     = 10 # vary from 1 to 10\n",
        "projections = addGaussianNoise(projections, noise_var)"
      ],
      "execution_count": 0,
      "outputs": []
    },
    {
      "cell_type": "code",
      "metadata": {
        "id": "qR8J0QCmxG-y",
        "colab_type": "code",
        "colab": {
          "base_uri": "https://localhost:8080/",
          "height": 271
        },
        "outputId": "73eed104-7241-4f59-922a-6bab2a4a2564"
      },
      "source": [
        "# Display projections with/out noise (for comparison)\n",
        "sampleProj = projections[1,:,:]\n",
        "plt.imshow(sampleProj,cmap='gray')\n",
        "plt.show()"
      ],
      "execution_count": 17,
      "outputs": [
        {
          "output_type": "display_data",
          "data": {
            "image/png": "[encoded data removed]",
            "text/plain": [
              "<Figure size 432x288 with 1 Axes>"
            ]
          },
          "metadata": {
            "tags": []
          }
        }
      ]
    },
    {
      "cell_type": "code",
      "metadata": {
        "scrolled": true,
        "id": "X_voGDMSK4Kn",
        "colab_type": "code",
        "outputId": "a474777c-559f-4295-bee9-ef3adf5872dd",
        "colab": {
          "base_uri": "https://localhost:8080/",
          "height": 34
        }
      },
      "source": [
        "angles_true = np.array(data['Angles'])\n",
        "angles_true.shape"
      ],
      "execution_count": 18,
      "outputs": [
        {
          "output_type": "execute_result",
          "data": {
            "text/plain": [
              "(5000, 3)"
            ]
          },
          "metadata": {
            "tags": []
          },
          "execution_count": 18
        }
      ]
    },
    {
      "cell_type": "code",
      "metadata": {
        "id": "WJvZ8_XPK4Kp",
        "colab_type": "code",
        "colab": {}
      },
      "source": [
        "#plot_images(angles_true, projections, range(100), img_size_scale=0.05)"
      ],
      "execution_count": 0,
      "outputs": []
    },
    {
      "cell_type": "code",
      "metadata": {
        "id": "Z-CMl6nMK4Ks",
        "colab_type": "code",
        "colab": {}
      },
      "source": [
        "#ipv.screenshot()"
      ],
      "execution_count": 0,
      "outputs": []
    },
    {
      "cell_type": "markdown",
      "metadata": {
        "id": "xJhOqdOnK4Kv",
        "colab_type": "text"
      },
      "source": [
        "---"
      ]
    },
    {
      "cell_type": "markdown",
      "metadata": {
        "id": "5-mkqsaEK4Kw",
        "colab_type": "text"
      },
      "source": [
        "## Prepare for training"
      ]
    },
    {
      "cell_type": "code",
      "metadata": {
        "id": "r_RDAMqvK4Kw",
        "colab_type": "code",
        "colab": {}
      },
      "source": [
        "from sklearn.model_selection import train_test_split"
      ],
      "execution_count": 0,
      "outputs": []
    },
    {
      "cell_type": "code",
      "metadata": {
        "id": "O_lxJ3huK4K0",
        "colab_type": "code",
        "colab": {}
      },
      "source": [
        "X, y = np.array(data['Projections'], dtype=np.float32), np.array(data['Angles'], dtype=np.float32)"
      ],
      "execution_count": 0,
      "outputs": []
    },
    {
      "cell_type": "markdown",
      "metadata": {
        "id": "4f-dUZ4kK4K3",
        "colab_type": "text"
      },
      "source": [
        "#### Global standardization of projections"
      ]
    },
    {
      "cell_type": "code",
      "metadata": {
        "id": "X6A3wHMVK4K3",
        "colab_type": "code",
        "colab": {}
      },
      "source": [
        "from cryoem.distance_estimation import global_standardization"
      ],
      "execution_count": 0,
      "outputs": []
    },
    {
      "cell_type": "code",
      "metadata": {
        "id": "3pRAKWKmK4K6",
        "colab_type": "code",
        "outputId": "9b050a8b-e9de-41d4-cc2e-9fb8ba050716",
        "colab": {
          "base_uri": "https://localhost:8080/",
          "height": 0
        }
      },
      "source": [
        "X = global_standardization(X)"
      ],
      "execution_count": 24,
      "outputs": [
        {
          "output_type": "stream",
          "text": [
            "Image shape: (116, 116)\n",
            "Data Type: float32\n",
            "***\n",
            "Mean: 0.262 | Std: 1.046\n",
            "Min:  0.000 | Max: 15.458\n",
            "Mean: 0.000 | Std: 1.000\n",
            "Min:  -0.250 | Max: 14.526\n"
          ],
          "name": "stdout"
        }
      ]
    },
    {
      "cell_type": "code",
      "metadata": {
        "id": "lVRXjdE3K4K9",
        "colab_type": "code",
        "colab": {}
      },
      "source": [
        "test_size = 0.33\n",
        "val_size = 0.25"
      ],
      "execution_count": 0,
      "outputs": []
    },
    {
      "cell_type": "code",
      "metadata": {
        "id": "8z6j60rQK4K_",
        "colab_type": "code",
        "colab": {}
      },
      "source": [
        "# the data, split between train and test sets\n",
        "train_idx, test_idx = train_test_split(range(NUM_PROJECTIONS), \n",
        "                                       test_size=test_size, \n",
        "                                       random_state=42)\n",
        "train_idx, val_idx= train_test_split(train_idx, \n",
        "                                     test_size=val_size, \n",
        "                                     random_state=1)\n",
        "\n",
        "train_idx = sorted(train_idx)\n",
        "val_idx = sorted(val_idx)\n",
        "test_idx = sorted(test_idx)\n",
        "\n",
        "np.savez(\"data/5j0n/5j0n_siamese_noisy_idx\", train_idx, val_idx, test_idx)"
      ],
      "execution_count": 0,
      "outputs": []
    },
    {
      "cell_type": "code",
      "metadata": {
        "id": "fRyiZcWPK4LC",
        "colab_type": "code",
        "outputId": "9cdff5c9-2d6b-4ef1-d9dc-26cae46b734d",
        "colab": {
          "base_uri": "https://localhost:8080/",
          "height": 0
        }
      },
      "source": [
        "print(f\"TRAIN: {1-test_size:.2f} x {1-val_size:.2f} = {(1-test_size)*(1-val_size):.2f} => {str(int((1-test_size)*(1-val_size)*5000)).rjust(5)} imgs => max pairs: {str(int(np.power((1-test_size)*(1-val_size)*5000, 2))).rjust(10)}\")\n",
        "print(f\"TEST : {str(test_size).rjust(18)} => {str(int(test_size*5000)).rjust(5)} imgs => max pairs: {str(int(np.power(test_size*5000, 2))).rjust(10)}\")\n",
        "print(f\"VAL  : {1-test_size:.2f} x {val_size:.2f} = {(1-test_size)*val_size:.2f} => {str(int((1-test_size)*val_size*5000)).rjust(5)} imgs => max pairs: {str(int(np.power((1-test_size)*val_size*5000, 2))).rjust(10)}\")"
      ],
      "execution_count": 27,
      "outputs": [
        {
          "output_type": "stream",
          "text": [
            "TRAIN: 0.67 x 0.75 = 0.50 =>  2512 imgs => max pairs:    6312656\n",
            "TEST :               0.33 =>  1650 imgs => max pairs:    2722500\n",
            "VAL  : 0.67 x 0.25 = 0.17 =>   837 imgs => max pairs:     701406\n"
          ],
          "name": "stdout"
        }
      ]
    },
    {
      "cell_type": "code",
      "metadata": {
        "id": "dmtJEGv1K4LF",
        "colab_type": "code",
        "colab": {}
      },
      "source": [
        "data = np.load(\"data/5j0n/5j0n_siamese_noisy_idx.npz\")\n",
        "train_idx, val_idx, test_idx = data[\"arr_0\"], data[\"arr_1\"], data[\"arr_2\"]"
      ],
      "execution_count": 0,
      "outputs": []
    },
    {
      "cell_type": "code",
      "metadata": {
        "id": "KNkQKrfJK4LH",
        "colab_type": "code",
        "colab": {}
      },
      "source": [
        "X = np.stack((X,)*3, axis=-1)"
      ],
      "execution_count": 0,
      "outputs": []
    },
    {
      "cell_type": "code",
      "metadata": {
        "id": "WCOYGoQRK4LK",
        "colab_type": "code",
        "outputId": "5cb6513e-9515-4744-8455-a6b7daee4034",
        "colab": {
          "base_uri": "https://localhost:8080/",
          "height": 0
        }
      },
      "source": [
        "X.shape"
      ],
      "execution_count": 30,
      "outputs": [
        {
          "output_type": "execute_result",
          "data": {
            "text/plain": [
              "(5000, 116, 116, 3)"
            ]
          },
          "metadata": {
            "tags": []
          },
          "execution_count": 30
        }
      ]
    },
    {
      "cell_type": "markdown",
      "metadata": {
        "id": "YZ71Z1DWK4LM",
        "colab_type": "text"
      },
      "source": [
        "# 1. Distance Estimation"
      ]
    },
    {
      "cell_type": "markdown",
      "metadata": {
        "id": "0ZRKoKicK4LN",
        "colab_type": "text"
      },
      "source": [
        "### Train the model"
      ]
    },
    {
      "cell_type": "code",
      "metadata": {
        "id": "HceKfhOaK4LN",
        "colab_type": "code",
        "colab": {}
      },
      "source": [
        "from time import time"
      ],
      "execution_count": 0,
      "outputs": []
    },
    {
      "cell_type": "code",
      "metadata": {
        "id": "hqkn_ZVBK4LQ",
        "colab_type": "code",
        "colab": {}
      },
      "source": [
        "# CALCULATE FULL \n",
        "from tensorflow.keras.utils import Sequence\n",
        "\n",
        "num_dec = 1\n",
        "num_bins = 32\n",
        "\n",
        "class DataGenerator(Sequence):\n",
        "    \n",
        "    def __init__(self, X, y, list_ids, limit_num_pairs=None, limit_style=\"random\", batch_size=256, shuffle=True):\n",
        "        start_time = time()\n",
        "        if batch_size > limit_num_pairs:\n",
        "            raise Exception(\"Please specify limit_num_pairs that is much higher than batch_size\")\n",
        "        self.X = X  \n",
        "        self.y = y  \n",
        "        self.limit_num_pairs = limit_num_pairs\n",
        "        self.list_ids = list_ids\n",
        "        self.batch_size = batch_size  \n",
        "        # all the possible combinations of 2 image id pairs\n",
        "        self.pair_ids = np.array(list(zip(*list(map(lambda x: x.flatten(), np.meshgrid(list_ids, list_ids))))))  # e.g. train_idx\n",
        "        \n",
        "        # Don't use all possible combination of pairs, limit them here\n",
        "        if self.limit_num_pairs:\n",
        "            limited_pair_indices = np.random.choice(np.arange(len(self.pair_ids)), size=self.limit_num_pairs)\n",
        "            self.pair_ids = self.pair_ids[limited_pair_indices]\n",
        "        \n",
        "        if limit_style==\"uniform\":\n",
        "            self.pair_ids = self._generate_uniform()\n",
        "      \n",
        "  \n",
        "        self.shuffle = shuffle \n",
        "        self._on_epoch_start()\n",
        "        print(f\"Data created in {time()-start_time} sec\")\n",
        "        \n",
        "        \n",
        "    def _generate_uniform(self):\n",
        "        if os.path.exists(f\"data/5j0n/{len(self.list_ids)}_{self.limit_num_pairs}_{self.batch_size}.npy\"):\n",
        "            return np.load(f\"data/5j0n/{len(self.list_ids)}_{self.limit_num_pairs}_{self.batch_size}.npy\")\n",
        "        else:\n",
        "            bins = {}\n",
        "            for i in np.arange(0.0, 3.14, step=0.1): # so we have 32 bins\n",
        "                bins[np.around(i, num_dec)] = []\n",
        "\n",
        "\n",
        "            for idx1, idx2 in self.pair_ids:\n",
        "                label = d_q(euler2quaternion(self.y[idx1]), euler2quaternion(self.y[idx2]))\n",
        "                bins[np.around(label, num_dec)].append([idx1, idx2])\n",
        "\n",
        "            min_bin_size = len(bins[min(bins.keys(), key=lambda x: len(bins[x]))])\n",
        "            print(\"min=\", min_bin_size)\n",
        "            if min_bin_size == 0:\n",
        "                raise Exception(\"It haven't yet managed to fill all the bins, please increase limit_num_pairs\")\n",
        "\n",
        "\n",
        "            # cut the top of histogram to make it uniform\n",
        "            for i in np.arange(0.0, 3.14, step=0.1): # so we have 32 bins\n",
        "                b = np.around(i, num_dec)\n",
        "                bins[b] = np.take(bins[b], np.arange(min_bin_size), axis=0)  \n",
        "\n",
        "            l = np.array(list(itertools.chain(*list(bins.values()))))\n",
        "            np.save(f\"data/5j0n/{len(self.list_ids)}_{self.limit_num_pairs}_{self.batch_size}.npy\", l)\n",
        "            print(\"total number of data = \", 31*min_bin_size)\n",
        "            return l\n",
        "    \n",
        "    def __len__(self):\n",
        "        # Denotes the number of batches per epoch\n",
        "        if len(self.pair_ids)%self.batch_size == 0:\n",
        "            return len(self.pair_ids) // self.batch_size\n",
        "        else:\n",
        "            return len(self.pair_ids) // self.batch_size + 1\n",
        "        \n",
        "    def __getitem__(self, index):\n",
        "        # Generate one batch of data\n",
        "        indices = self.indices[index*self.batch_size:(index+1)*self.batch_size]\n",
        "        \n",
        "        # Find list of ids\n",
        "        list_ids_batch = np.take(self.pair_ids, indices, axis=0)\n",
        "\n",
        "        # Generate data\n",
        "        idx1, idx2 = list_ids_batch[:,0], list_ids_batch[:,1]\n",
        "        pairs = np.stack((self.X[idx1], self.X[idx2]), axis=1)  # shape: (len(idx1), 2, x.shape[1], x.shape[2], x.shape[3])\n",
        "        labels = d_q(euler2quaternion(self.y[idx1]), euler2quaternion(self.y[idx2]))  # shape: len(idx1)\n",
        "\n",
        "        # [training_pairs[:, 0], training_pairs[:, 1]], labels\n",
        "        return [pairs[:, 0], pairs[:, 1]], labels \n",
        "        \n",
        "    def _on_epoch_start(self):\n",
        "        # Updates indices after each epoch\n",
        "        self.indices = np.arange(len(self.pair_ids))\n",
        "        if self.shuffle:\n",
        "            np.random.shuffle(self.indices)     "
      ],
      "execution_count": 0,
      "outputs": []
    },
    {
      "cell_type": "code",
      "metadata": {
        "id": "Ui3KmgarK4LT",
        "colab_type": "code",
        "colab": {}
      },
      "source": [
        "import tensorflow_probability as tfp\n",
        "import os\n",
        "import h5py\n",
        "from time import time, strftime\n",
        "from datetime import datetime\n",
        "import matplotlib.pyplot as plt\n",
        "import numpy as np\n",
        "from sklearn.model_selection import train_test_split\n",
        "import pathlib\n",
        "\n",
        "from cryoem.rotation_matrices import RotationMatrix\n",
        "from cryoem.conversions import euler2quaternion, d_q\n",
        "from cryoem.knn import get_knn_projections\n",
        "\n",
        "import random\n",
        "import tensorflow as tf\n",
        "from tensorflow.keras.datasets import mnist\n",
        "from tensorflow.keras.models import Model\n",
        "from tensorflow.python.keras.applications.mobilenet import MobileNet\n",
        "from tensorflow.keras.layers import Input, Conv2D, MaxPooling2D, AvgPool2D, Lambda, ZeroPadding2D, Dropout, Concatenate, Dense, GlobalAveragePooling2D, Flatten\n",
        "from tensorflow.keras.optimizers import RMSprop, Adam, SGD\n",
        "from tensorflow.keras import backend as K\n",
        "from tensorflow.keras.callbacks import ModelCheckpoint,ReduceLROnPlateau\n",
        "from tensorflow.keras.callbacks import TensorBoard\n",
        "from tensorflow.keras.utils import plot_model, multi_gpu_model\n",
        "#from tensorflow.python.keras.applications.resnet50 import ResNet50\n",
        "from tensorflow.python.keras.applications.inception_v3 import InceptionV3\n",
        "from tensorflow.keras.losses import KLD, MAE, MSE\n",
        "\n",
        "_idx1 = list(np.random.choice(val_idx, size=1000))\n",
        "_idx2 = list(np.random.choice(val_idx, size=1000))\n",
        "\n",
        "q1_true = euler2quaternion([angles_true[i] for i in _idx1])\n",
        "q2_true = euler2quaternion([angles_true[i] for i in _idx2])\n",
        "\n",
        "p1 = [X[i] for i in _idx1]\n",
        "p2 = [X[i] for i in _idx2]\n",
        "\n",
        "model = None\n",
        "\n",
        "def euclidean_distance(vects):\n",
        "    x, y = vects\n",
        "    sum_square = K.sum(K.square(x - y), axis=1, keepdims=True)\n",
        "    return K.sqrt(K.maximum(sum_square, K.epsilon()))\n",
        "\n",
        "def eucl_dist_output_shape(shapes):\n",
        "    shape1, shape2 = shapes\n",
        "    return (shape1[0], 1)\n",
        "\n",
        "\n",
        "def mae(y_true, y_pred):\n",
        "    return MAE(y_true, y_pred) \n",
        "\n",
        "def mse(y_true, y_pred):\n",
        "    return MSE(y_true, y_pred) \n",
        "\n",
        "\n",
        "def create_siamese_network(input_shape):\n",
        "    # first: train only the top layers (which were randomly initialized)\n",
        "    # i.e. freeze all convolutional InceptionV3 layers\n",
        "    input_x = Input(shape=input_shape)\n",
        "    base_model = MobileNet(weights='imagenet', include_top=False, input_tensor=input_x, input_shape=input_shape)\n",
        "    x = base_model.layers[-1].output\n",
        "\n",
        "    # add a global spatial average pooling layer\n",
        "    x = GlobalAveragePooling2D()(x)\n",
        "\n",
        "    return Model(input_x, x)\n",
        "\n",
        "def create_distance_network(input_shape):\n",
        "    # ref: https://github.com/guanjianyu/DisNet/blob/master/Train_DisNet.py\n",
        "    # ref: https://project.inria.fr/ppniv18/files/2018/10/paper22.pdf\n",
        "    input_x = Input(shape=input_shape)\n",
        "   \n",
        "    x = Dense(2000, activation=\"relu\")(input_x)\n",
        "    x = Dense(2000, activation=\"relu\")(x)\n",
        "    x = Dense(2000, activation=\"relu\")(x)\n",
        "    x = Dense(2000, activation=\"relu\")(x)\n",
        "    x = Dense(1000, activation=\"relu\")(x)\n",
        "    x = Dense(1000, activation=\"relu\")(x)\n",
        "    x = Dense(1, activation=\"relu\")(x)\n",
        "    \n",
        "    return Model(input_x, x)\n",
        "\n",
        "\n",
        "\n",
        "def train_siamese(X, y, train_idx, val_idx, epochs_top, epochs_full, batch_size, learning_rate, training_steps=None, validation_steps=None, plot=True, gpus=None):\n",
        "    \n",
        "    \n",
        "    def d_p(p1, p2):\n",
        "        global model\n",
        "        p1 = tf.cast(p1, dtype=tf.float32)\n",
        "        p2 = tf.cast(p2, dtype=tf.float32)\n",
        "        return model.predict([p1, p2], batch_size=256)\n",
        "\n",
        "    def plot_to_image(figure):\n",
        "        \"\"\"Converts the matplotlib plot specified by 'figure' to a PNG image and\n",
        "        returns it. The supplied figure is closed and inaccessible after this call.\"\"\"\n",
        "        # Save the plot to a PNG in memory.\n",
        "        buf = io.BytesIO()\n",
        "        plt.savefig(buf, format='png')\n",
        "        # Closing the figure prevents it from being displayed directly inside\n",
        "        # the notebook.\n",
        "        plt.close(figure)\n",
        "        buf.seek(0)\n",
        "        # Convert PNG buffer to TF image\n",
        "        image = tf.image.decode_png(buf.getvalue(), channels=4)\n",
        "        # Add the batch dimension\n",
        "        image = tf.expand_dims(image, 0)\n",
        "        return image\n",
        "\n",
        "    def generate_dPdQ_plot(file_writer_plot):\n",
        "        \"\"\"Source: https://www.tensorflow.org/tensorboard/image_summaries#logging_arbitrary_image_data\"\"\"\n",
        "\n",
        "        dP_values = d_p(p1, p2).T[0]\n",
        "        dQ_values = d_q(q1_true, q2_true).numpy()\n",
        "\n",
        "        def _inner_plot(epoch, logs):\n",
        "            \"\"\"Generate dP/dQ plot for tensorboard\"\"\"\n",
        "            #plt.clf()\n",
        "            # Creating the dataframe for SNS plot\n",
        "            data = {\"d_Q\" : dQ_values, \"d_P\" : dP_values }\n",
        "            df1 = pd.DataFrame(data=data)\n",
        "\n",
        "            fig, ax = plt.subplots(figsize=(6,6));\n",
        "            sns.scatterplot(x=\"d_Q\", y=\"d_P\", data=df1, color=\"b\", alpha=0.3, label=\"projection pair\", ax=ax);  # \"reg\", \"kde\"\n",
        "            x = np.arange(0, np.pi);\n",
        "            sns.regplot(x=x, y=x, color=\"k\", ax=ax)\n",
        "            #g = sns.jointplot(x=\"d_Q\", y=\"d_P\", data=df1, color=\"b\", alpha=0.3, label=\"projection pair\", kind=\"kde\");  # \"reg\", \"kde\"\n",
        "            #plt.show()\n",
        "            \n",
        "            # Log the confusion matrix as an image summary.\n",
        "            with file_writer_plot.as_default():\n",
        "                tf.summary.image(\"dP/dQ plot\", plot_to_image(fig), step=epoch)\n",
        "        \n",
        "        return _inner_plot\n",
        "\n",
        "    mirrored_strategy = tf.distribute.MirroredStrategy()\n",
        "    \n",
        "    with mirrored_strategy.scope():\n",
        "        # Prepare data generators\n",
        "        training_generator = DataGenerator(X, y, train_idx, limit_num_pairs=training_steps, limit_style=\"uniform\", shuffle=True)\n",
        "        validation_generator = DataGenerator(X, y, val_idx, limit_num_pairs=validation_steps, limit_style=\"uniform\", shuffle=True)\n",
        "        \n",
        "        input_shape = tuple(list(X.shape[1:])) #training_pairs[:, 0].shape[1:]\n",
        "        print(f\"Input images shape {input_shape}\")\n",
        "\n",
        "        # network definition\n",
        "        input_a = Input(shape=input_shape)\n",
        "        input_b = Input(shape=input_shape)\n",
        "        cnn_network = create_siamese_network(input_shape)\n",
        "        \n",
        "        # because we re-use the same instance `cnn_network`,\n",
        "        # the weights of the network will be shared across the two branches\n",
        "        processed_a = cnn_network(input_a)\n",
        "        processed_b = cnn_network(input_b)\n",
        "\n",
        "        \n",
        "        distance = Lambda(euclidean_distance, output_shape=eucl_dist_output_shape)([processed_a, processed_b])\n",
        "\n",
        "        global model\n",
        "        model = Model([input_a, input_b], distance)  # was m\n",
        "\n",
        "        # train\n",
        "        #model = multi_gpu_model(m, gpus=gpus)\n",
        "        model.summary()\n",
        "        #plot_model(model, to_file=\"figures/model_plot.png\", expand_nested=True, show_shapes=True, show_layer_names=True)\n",
        "\n",
        "        # training only top layers\n",
        "        optimizer1 = RMSprop(learning_rate=learning_rate)\n",
        "        model.compile(loss=mae, optimizer=optimizer1, metrics=[mse], sample_weight_mode=None)\n",
        "        \n",
        "        # Setup callbacks\n",
        "        LOGS_PATH = os.path.join(\"logs\", strftime('%Y%m%d_%H%M%S'))\n",
        "        pathlib.Path(LOGS_PATH).mkdir(parents=True, exist_ok=True)\n",
        "        logs_callback = TensorBoard(LOGS_PATH, histogram_freq=1) #, profile_batch=300)#100000000)\n",
        "        \n",
        "        file_writer_plot = tf.summary.create_file_writer(os.path.join(LOGS_PATH, \"image\"))\n",
        "        plot_callback = tf.keras.callbacks.LambdaCallback(on_epoch_end=generate_dPdQ_plot(file_writer_plot))\n",
        "\n",
        "        history1 = model.fit(training_generator, \n",
        "                            epochs=epochs_top,\n",
        "                            validation_data=validation_generator, \n",
        "                            callbacks=[plot_callback, logs_callback])\n",
        "        \n",
        "        \n",
        "        if plot:\n",
        "            # Get training and test loss histories\n",
        "            training_loss = history1.history['loss']\n",
        "            val_loss = history1.history['val_loss']\n",
        "            mses = history1.history['mse']\n",
        "            val_mses = history1.history['val_mse']\n",
        "\n",
        "            fig, (ax1, ax2) = plt.subplots(1, 2, figsize=(15,7))\n",
        "\n",
        "            # Create count of the number of epochs\n",
        "            epoch_count = range(1, len(training_loss) + 1)\n",
        "\n",
        "            # Visualize loss history\n",
        "            ax1.plot(epoch_count, training_loss, 'r--', label='MAE Training Loss')\n",
        "            ax1.plot(epoch_count, val_loss, 'b-', label='MAE Validation Loss')\n",
        "            ax1.legend()\n",
        "            ax1.set_xlabel('Epoch')\n",
        "            ax1.set_ylabel('Loss')\n",
        "\n",
        "            ax2.plot(epoch_count, mses, 'r-', label='MSE Training')\n",
        "            ax2.plot(epoch_count, val_mses, 'b-', label='MSE Validation')\n",
        "            ax2.legend()\n",
        "            ax2.set_xlabel('Epoch')\n",
        "            ax2.set_ylabel('Loss')\n",
        "            plt.show();\n",
        "\n",
        "        model_filename = f\"training/{strftime('%Y%m%d_%H%M%S')}.h5\"\n",
        "        model.save(model_filename) \n",
        "        print(f\"Model saved to: {model_filename}\")\n",
        "\n",
        "        return model, history1\n",
        "\n",
        "def plot_results(projections, y_pred, y, strtype):\n",
        "    if projections.shape[-1] == 1:\n",
        "        projections = projections.reshape(list(projections.shape[:-2]) +[-1])\n",
        "\n",
        "    def _inner(i):\n",
        "        \n",
        "        plt.imfig, (ax1, ax2) = plt.subplots(1, 2)\n",
        "        ax1.imshow(projections[i, 0])\n",
        "        ax2.imshow(projections[i, 1])\n",
        "\n",
        "        print(f\"--- {strtype} Set ---\")\n",
        "        print(f\"predicted: {y_pred[i][0]}\")\n",
        "        print(f\"true:      {y[i].numpy()}\")\n",
        "        print(f\"mse:       {mse(y_pred[i], y[i].numpy())}\")\n",
        "        print(f\"mae:       {mae(y_pred[i], y[i].numpy())}\")\n",
        "        \n",
        "    return _inner"
      ],
      "execution_count": 0,
      "outputs": []
    },
    {
      "cell_type": "code",
      "metadata": {
        "id": "qOYwbjOzK4LV",
        "colab_type": "code",
        "outputId": "74cca53f-0621-438c-edbb-e0e84c74377b",
        "colab": {
          "base_uri": "https://localhost:8080/",
          "height": 34
        }
      },
      "source": [
        "train_percent = 0.1\n",
        "val_percent = 0.1\n",
        "int(train_percent*np.power(len(train_idx), 2)), int(val_percent*np.power(len(val_idx), 2))"
      ],
      "execution_count": 34,
      "outputs": [
        {
          "output_type": "execute_result",
          "data": {
            "text/plain": [
              "(631014, 70224)"
            ]
          },
          "metadata": {
            "tags": []
          },
          "execution_count": 34
        }
      ]
    },
    {
      "cell_type": "code",
      "metadata": {
        "scrolled": true,
        "id": "8HWI9cfqK4LY",
        "colab_type": "code",
        "outputId": "b832daf7-aa07-4dbf-beda-7e46e7a973e6",
        "colab": {
          "base_uri": "https://localhost:8080/",
          "height": 34
        }
      },
      "source": [
        "model, history1 = train_siamese(X=X, y=y, \n",
        "                               train_idx=train_idx, \n",
        "                               val_idx=val_idx,\n",
        "                               epochs_top=200,  #500\n",
        "                               epochs_full=None,\n",
        "                               batch_size=256,  #512 latest \n",
        "                               learning_rate=1e-3,  #0.01 \n",
        "                               training_steps=int(train_percent*np.power(len(train_idx), 2)),  # None\n",
        "                               validation_steps=int(val_percent*np.power(len(val_idx), 2)),  # None\n",
        "                               plot=True,\n",
        "                               gpus=None)"
      ],
      "execution_count": 0,
      "outputs": [
        {
          "output_type": "stream",
          "text": [
            "INFO:tensorflow:Using MirroredStrategy with devices ('/job:localhost/replica:0/task:0/device:GPU:0',)\n"
          ],
          "name": "stdout"
        }
      ]
    },
    {
      "cell_type": "markdown",
      "metadata": {
        "id": "fJJKUgcJK4La",
        "colab_type": "text"
      },
      "source": [
        "---"
      ]
    },
    {
      "cell_type": "code",
      "metadata": {
        "id": "5XCEby-fK4Lb",
        "colab_type": "code",
        "colab": {}
      },
      "source": [
        "training_loss = history1.history['loss']\n",
        "val_loss = history1.history['val_loss']\n",
        "mses = history1.history['mse']\n",
        "val_mses = history1.history['val_mse']\n",
        "\n",
        "np.savez(\"data/5j0n/5j0n_DE_noisy_history_uniform\", training_loss, val_loss, mses, val_mses)"
      ],
      "execution_count": 0,
      "outputs": []
    },
    {
      "cell_type": "code",
      "metadata": {
        "id": "gi9CsCZAK4Ld",
        "colab_type": "code",
        "colab": {}
      },
      "source": [
        "data = np.load(\"data/5j0n/5j0n_DE_noisy_history_uniform.npz\")\n",
        "training_loss, val_loss, mses, val_mses = data[\"arr_0\"], data[\"arr_1\"], data[\"arr_2\"], data[\"arr_3\"]"
      ],
      "execution_count": 0,
      "outputs": []
    },
    {
      "cell_type": "code",
      "metadata": {
        "id": "IIKP9TtBK4Lg",
        "colab_type": "code",
        "colab": {}
      },
      "source": [
        "# Get training and test loss histories\n",
        "fig, (ax1, ax2) = plt.subplots(1, 2, figsize=(15,7))\n",
        "\n",
        "# Create count of the number of epochs\n",
        "epoch_count = range(1, len(training_loss) + 1)\n",
        "\n",
        "# Visualize loss history\n",
        "ax1.plot(epoch_count, training_loss, 'r--', label='MAE Training Loss')\n",
        "ax1.plot(epoch_count, val_loss, 'b-', label='MAE Validation Loss')\n",
        "ax1.legend()\n",
        "ax1.set_xlabel('Epoch')\n",
        "ax1.set_ylabel('Loss')\n",
        "\n",
        "ax2.plot(epoch_count, mses, 'r-', label='MSE Training')\n",
        "ax2.plot(epoch_count, val_mses, 'b-', label='MSE Validation')\n",
        "ax2.legend()\n",
        "ax2.set_xlabel('Epoch')\n",
        "ax2.set_ylabel('Loss')\n",
        "plt.show();"
      ],
      "execution_count": 0,
      "outputs": []
    },
    {
      "cell_type": "code",
      "metadata": {
        "id": "4_py9DG4K4Lj",
        "colab_type": "code",
        "colab": {}
      },
      "source": [
        "training_loss[-1], val_loss[-1], mses[-1], val_mses[-1]"
      ],
      "execution_count": 0,
      "outputs": []
    },
    {
      "cell_type": "code",
      "metadata": {
        "id": "DXIyr1cyK4Ll",
        "colab_type": "code",
        "colab": {}
      },
      "source": [
        "# save the model on the drive\n",
        "from google.colab import drive\n",
        "drive.mount(\"/content/drive\")"
      ],
      "execution_count": 0,
      "outputs": []
    },
    {
      "cell_type": "code",
      "metadata": {
        "id": "3iYqqZW7K4Lo",
        "colab_type": "code",
        "colab": {}
      },
      "source": [
        "#!cd 'drive/My Drive'\n",
        "!mkdir --parents 'drive/My Drive/ModelsProtein'"
      ],
      "execution_count": 0,
      "outputs": []
    },
    {
      "cell_type": "code",
      "metadata": {
        "id": "feiqlKsEK4Lr",
        "colab_type": "code",
        "colab": {}
      },
      "source": [
        "model_filename = f\"{strftime('%Y%m%d_%H%M%S')}.h5\"\n",
        "model.save(f\"/content/drive/My Drive/ModelsProtein/{model_filename}\")"
      ],
      "execution_count": 0,
      "outputs": []
    },
    {
      "cell_type": "markdown",
      "metadata": {
        "id": "M-kSlYfqK4Lt",
        "colab_type": "text"
      },
      "source": [
        "### (Or) Read model checkpoint"
      ]
    },
    {
      "cell_type": "code",
      "metadata": {
        "id": "9z7haF6NK4Lu",
        "colab_type": "code",
        "colab": {}
      },
      "source": [
        "# put correct filename\n",
        "# model_filename = \"training/20200531_224202.h5\""
      ],
      "execution_count": 0,
      "outputs": []
    },
    {
      "cell_type": "code",
      "metadata": {
        "id": "Dr9eFsJKK4Lw",
        "colab_type": "code",
        "colab": {}
      },
      "source": [
        "# Recreate the exact same model, including its weights and the optimizer\n",
        "model = tf.keras.models.load_model(model_filename)\n",
        "\n",
        "# Show the model architecture\n",
        "model.summary()"
      ],
      "execution_count": 0,
      "outputs": []
    },
    {
      "cell_type": "code",
      "metadata": {
        "id": "w6h4QAkeK4Lz",
        "colab_type": "code",
        "colab": {}
      },
      "source": [
        "# OR Upload the model instead of saving it to drive\n",
        "# TODO: put a correct model name\n",
        "# !curl --upload-file training/20200531_224202.h5 https://transfer.sh/20200531_224202.h5"
      ],
      "execution_count": 0,
      "outputs": []
    },
    {
      "cell_type": "markdown",
      "metadata": {
        "id": "KpIqU8r6K4L2",
        "colab_type": "text"
      },
      "source": [
        "---"
      ]
    },
    {
      "cell_type": "markdown",
      "metadata": {
        "id": "_KlxFl_eK4L2",
        "colab_type": "text"
      },
      "source": [
        "## dP/dQ plot"
      ]
    },
    {
      "cell_type": "code",
      "metadata": {
        "id": "Z766GBdvK4L3",
        "colab_type": "code",
        "colab": {}
      },
      "source": [
        "from cryoem.conversions import d_q, euler2quaternion\n",
        "from cryoem.plots import plot_dP_dQ"
      ],
      "execution_count": 0,
      "outputs": []
    },
    {
      "cell_type": "code",
      "metadata": {
        "id": "RJMjW2KHK4L5",
        "colab_type": "code",
        "colab": {}
      },
      "source": [
        "def d_p(p1, p2):\n",
        "    p1 = tf.cast(p1, dtype=tf.float32)\n",
        "    p2 = tf.cast(p2, dtype=tf.float32)\n",
        "    return model.predict([p1, p2], batch_size=256)"
      ],
      "execution_count": 0,
      "outputs": []
    },
    {
      "cell_type": "code",
      "metadata": {
        "id": "0YTh5UvmK4L7",
        "colab_type": "code",
        "colab": {}
      },
      "source": [
        "# 5:41 with 1024\n",
        "# 5:43     with 256\n",
        "idx1 = list(np.random.choice(test_idx, size=1000))\n",
        "idx2 = list(np.random.choice(test_idx, size=1000))\n",
        "\n",
        "q1_true = euler2quaternion([angles_true[i] for i in idx1])\n",
        "q2_true = euler2quaternion([angles_true[i] for i in idx2])\n",
        "\n",
        "p1 = [X[i] for i in idx1]\n",
        "p2 = [X[i] for i in idx2]\n",
        "\n",
        "dP_values = d_p(p1, p2).T[0]\n",
        "dQ_values = d_q(q1_true, q2_true).numpy()"
      ],
      "execution_count": 0,
      "outputs": []
    },
    {
      "cell_type": "code",
      "metadata": {
        "id": "NjmjpoN0K4L9",
        "colab_type": "code",
        "colab": {}
      },
      "source": [
        "plot_dP_dQ(dP_values, dQ_values)"
      ],
      "execution_count": 0,
      "outputs": []
    },
    {
      "cell_type": "code",
      "metadata": {
        "id": "lA75WQYrK4L_",
        "colab_type": "code",
        "colab": {}
      },
      "source": [
        "MAE(dQ_values, dP_values)"
      ],
      "execution_count": 0,
      "outputs": []
    },
    {
      "cell_type": "code",
      "metadata": {
        "id": "rGC2BjfxVYqF",
        "colab_type": "code",
        "colab": {}
      },
      "source": [
        ""
      ],
      "execution_count": 0,
      "outputs": []
    }
  ]
}