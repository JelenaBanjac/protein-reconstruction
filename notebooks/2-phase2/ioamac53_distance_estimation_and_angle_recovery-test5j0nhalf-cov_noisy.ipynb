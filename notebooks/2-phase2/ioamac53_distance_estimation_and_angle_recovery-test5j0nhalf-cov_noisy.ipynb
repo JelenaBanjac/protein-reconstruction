{
 "cells": [
  {
   "cell_type": "markdown",
   "metadata": {
    "colab_type": "text",
    "id": "ny3JKImAK4Jz"
   },
   "source": [
    "# Distance Estimation and Angle Recovery"
   ]
  },
  {
   "cell_type": "markdown",
   "metadata": {
    "colab_type": "text",
    "id": "4W1rATe0K4J1"
   },
   "source": [
    "<div class=\"alert alert-danger\" role=\"alert\">\n",
    "  <p><strong>Important:</strong> This notebook is used to run the distance estimation on noisy data only (no angle recovery).</p>\n",
    "  <hr>\n",
    "    - <b>To enable GPU</b>: Navigate to Edit→Notebook Settings<br/>\n",
    "    - <b>To save the latest version of code from this notebook</b>: Navigate to File→Save a copy to Github.\n",
    "</div>"
   ]
  },
  {
   "cell_type": "markdown",
   "metadata": {
    "colab_type": "text",
    "id": "EkRUrVFpCrFT"
   },
   "source": [
    "## Content"
   ]
  },
  {
   "cell_type": "markdown",
   "metadata": {
    "colab_type": "text",
    "id": "Zwit5GAFCrFU"
   },
   "source": [
    "1. [Data Preparation](#1.-Data-Preparation)\n",
    "2. [Distance Estimation](#2.-Distance-Estimation)\n",
    "3. [Angle Recovery](#3.-Angle-Recovery)\n",
    "4. [Angle Alignment](#4.-Angle-Alignment)"
   ]
  },
  {
   "cell_type": "markdown",
   "metadata": {
    "colab_type": "text",
    "id": "TDsOdNomK4J4"
   },
   "source": [
    "Data used:\n",
    "- Protein: 5j0n (symmetric protein)\n",
    "- Projections: 5K\n",
    "- Coverage: Half-sphere\n",
    "\n",
    "![](https://github.com/JelenaBanjac/protein-reconstruction/blob/master/notebooks/2-phase2/figures/5j0n.pdb1-500.jpg?raw=1)"
   ]
  },
  {
   "cell_type": "markdown",
   "metadata": {
    "colab_type": "text",
    "id": "787rPWn8K4KU"
   },
   "source": [
    "## Start the Pipeline"
   ]
  },
  {
   "cell_type": "code",
   "execution_count": 1,
   "metadata": {
    "colab": {
     "base_uri": "https://localhost:8080/",
     "height": 88
    },
    "colab_type": "code",
    "id": "06JQ1KmQK4KV",
    "outputId": "9d0068c9-1100-4e7e-f51e-12eed3948396"
   },
   "outputs": [
    {
     "name": "stderr",
     "output_type": "stream",
     "text": [
      "Warning: To use the exr data format, please install the OpenEXR package following the instructions detailed in the README at github.com/tensorflow/graphics.\n",
      "Warning: To use the threejs_vizualization, please install the colabtools package following the instructions detailed in the README at github.com/tensorflow/graphics.\n"
     ]
    }
   ],
   "source": [
    "import os\n",
    "import h5py\n",
    "import numpy as np\n",
    "import time\n",
    "import pandas as pd\n",
    "import sys\n",
    "sys.path.append(\"../..\")\n",
    "\n",
    "from cryoem.plots import plot_angles_count, plot_images\n",
    "from IPython.display import Image\n",
    "import matplotlib.pyplot as plt\n",
    "\n",
    "import tensorflow as tf\n",
    "from cryoem.conversions import d_q, euler2quaternion\n",
    "import ipyvolume as ipv\n",
    "from collections import Counter\n",
    "import itertools\n",
    "import seaborn as sns; sns.set(style=\"white\", color_codes=True)\n",
    "import io"
   ]
  },
  {
   "cell_type": "code",
   "execution_count": 2,
   "metadata": {
    "colab": {
     "base_uri": "https://localhost:8080/",
     "height": 34
    },
    "colab_type": "code",
    "id": "m9Os8XDOK4KY",
    "outputId": "818c83d9-4c10-4b1b-b25c-729dd6255c64"
   },
   "outputs": [
    {
     "data": {
      "text/plain": [
       "'2.2.0'"
      ]
     },
     "execution_count": 2,
     "metadata": {},
     "output_type": "execute_result"
    }
   ],
   "source": [
    "tf.__version__"
   ]
  },
  {
   "cell_type": "code",
   "execution_count": 3,
   "metadata": {
    "colab": {
     "base_uri": "https://localhost:8080/",
     "height": 544
    },
    "colab_type": "code",
    "id": "ShUD7yqTK4Kb",
    "outputId": "1ac3b62d-7109-4087-a2ae-954e5c81c527"
   },
   "outputs": [
    {
     "name": "stdout",
     "output_type": "stream",
     "text": [
      "[name: \"/device:CPU:0\"\n",
      "device_type: \"CPU\"\n",
      "memory_limit: 268435456\n",
      "locality {\n",
      "}\n",
      "incarnation: 17996287412044478049\n",
      ", name: \"/device:XLA_CPU:0\"\n",
      "device_type: \"XLA_CPU\"\n",
      "memory_limit: 17179869184\n",
      "locality {\n",
      "}\n",
      "incarnation: 2358715079699635983\n",
      "physical_device_desc: \"device: XLA_CPU device\"\n",
      ", name: \"/device:XLA_GPU:0\"\n",
      "device_type: \"XLA_GPU\"\n",
      "memory_limit: 17179869184\n",
      "locality {\n",
      "}\n",
      "incarnation: 550641782725366271\n",
      "physical_device_desc: \"device: XLA_GPU device\"\n",
      "]\n"
     ]
    }
   ],
   "source": [
    "from tensorflow.python.client import device_lib \n",
    "print(device_lib.list_local_devices())"
   ]
  },
  {
   "cell_type": "code",
   "execution_count": 4,
   "metadata": {
    "colab": {},
    "colab_type": "code",
    "id": "kZFVlYW4K4Ke"
   },
   "outputs": [],
   "source": [
    "PROTEIN=\"5j0n\"\n",
    "NUM_PROJECTIONS = 5000"
   ]
  },
  {
   "cell_type": "code",
   "execution_count": 8,
   "metadata": {
    "colab": {
     "base_uri": "https://localhost:8080/",
     "height": 51
    },
    "colab_type": "code",
    "id": "-q8GWm2EK4Kh",
    "outputId": "0ba71315-1ce1-4d52-ff77-31e535a6c7da"
   },
   "outputs": [
    {
     "name": "stdout",
     "output_type": "stream",
     "text": [
      "5000 projections of images with dimension (116, 116) pixels\n",
      "5000 sets of 3 ground truth angles of corresponding projection images\n"
     ]
    }
   ],
   "source": [
    "# location of *.h5 files\n",
    "data_dir = \"data/5j0n/\"\n",
    "\n",
    "# TODO: dataset name\n",
    "projections_filename = f\"{PROTEIN}_ProjectionsAngles_ProjNber5000_AngCoverage2.0,0.4,2.0_AngShift0.0,0.0,0.0.h5\"\n",
    "\n",
    "# load structures\n",
    "data = h5py.File(os.path.join(data_dir, projections_filename), 'r')\n",
    "\n",
    "print(f\"{data['Projections'].shape[0]} projections of images with dimension {data['Projections'].shape[1:]} pixels\")\n",
    "print(f\"{data['Angles'].shape[0]} sets of {data['Angles'].shape[1]} ground truth angles of corresponding projection images\")"
   ]
  },
  {
   "cell_type": "code",
   "execution_count": 9,
   "metadata": {
    "colab": {
     "base_uri": "https://localhost:8080/",
     "height": 34
    },
    "colab_type": "code",
    "id": "2zARA9L2K4Kj",
    "outputId": "5c5e8218-9c62-4b5b-a2cf-ac7b2d1035b3"
   },
   "outputs": [
    {
     "data": {
      "text/plain": [
       "(5000, 116, 116)"
      ]
     },
     "execution_count": 9,
     "metadata": {},
     "output_type": "execute_result"
    }
   ],
   "source": [
    "projections = data['Projections']\n",
    "projections.shape"
   ]
  },
  {
   "cell_type": "code",
   "execution_count": 10,
   "metadata": {
    "colab": {
     "base_uri": "https://localhost:8080/",
     "height": 271
    },
    "colab_type": "code",
    "id": "bIQzyIQnxgts",
    "outputId": "df7c02b0-4ae8-49fe-be17-3476a709e94c"
   },
   "outputs": [
    {
     "data": {
      "image/png": "[encoded data removed]",
      "text/plain": [
       "<Figure size 432x288 with 1 Axes>"
      ]
     },
     "metadata": {
      "needs_background": "light"
     },
     "output_type": "display_data"
    }
   ],
   "source": [
    "sampleProj = projections[1,:,:]\n",
    "plt.imshow(sampleProj,cmap='gray')\n",
    "plt.show()"
   ]
  },
  {
   "cell_type": "code",
   "execution_count": 11,
   "metadata": {
    "colab": {},
    "colab_type": "code",
    "id": "PpprtZ8vwc39"
   },
   "outputs": [],
   "source": [
    "def addGaussianNoise(projections, noise_var):\n",
    "    noise_sigma   = noise_var**0.5\n",
    "    nproj,row,col = projections.shape\n",
    "    gauss_noise   = np.random.normal(0,noise_sigma,(nproj,row,col))\n",
    "    gauss_noise   = gauss_noise.reshape(nproj,row,col) \n",
    "    projections   = projections + gauss_noise\n",
    "    return projections"
   ]
  },
  {
   "cell_type": "code",
   "execution_count": 14,
   "metadata": {
    "colab": {},
    "colab_type": "code",
    "id": "oCD6IwpOr3_A"
   },
   "outputs": [],
   "source": [
    "# Add zero-mean Gaussian noise on the projections \n",
    "NOISY_VAR   = 10 # vary from 1 to 10\n",
    "projections = addGaussianNoise(projections, NOISY_VAR)"
   ]
  },
  {
   "cell_type": "code",
   "execution_count": 15,
   "metadata": {
    "colab": {
     "base_uri": "https://localhost:8080/",
     "height": 271
    },
    "colab_type": "code",
    "id": "qR8J0QCmxG-y",
    "outputId": "37ee7ce6-65cb-4610-80b2-901fe13be816"
   },
   "outputs": [
    {
     "data": {
      "image/png": "[encoded data removed]",
      "text/plain": [
       "<Figure size 432x288 with 1 Axes>"
      ]
     },
     "metadata": {
      "needs_background": "light"
     },
     "output_type": "display_data"
    }
   ],
   "source": [
    "# Display projections with/out noise (for comparison)\n",
    "sampleProj = projections[1,:,:]\n",
    "plt.imshow(sampleProj,cmap='gray')\n",
    "plt.show()"
   ]
  },
  {
   "cell_type": "code",
   "execution_count": 16,
   "metadata": {
    "colab": {
     "base_uri": "https://localhost:8080/",
     "height": 34
    },
    "colab_type": "code",
    "id": "X_voGDMSK4Kn",
    "outputId": "69d77bc0-4162-48aa-ebbd-3cafd2c059c0",
    "scrolled": true
   },
   "outputs": [
    {
     "data": {
      "text/plain": [
       "(5000, 3)"
      ]
     },
     "execution_count": 16,
     "metadata": {},
     "output_type": "execute_result"
    }
   ],
   "source": [
    "angles_true = np.array(data['Angles'])\n",
    "angles_true.shape"
   ]
  },
  {
   "cell_type": "code",
   "execution_count": 17,
   "metadata": {
    "colab": {},
    "colab_type": "code",
    "id": "WJvZ8_XPK4Kp"
   },
   "outputs": [],
   "source": [
    "#plot_images(angles_true, projections, range(100), img_size_scale=0.05)"
   ]
  },
  {
   "cell_type": "code",
   "execution_count": 18,
   "metadata": {
    "colab": {},
    "colab_type": "code",
    "id": "Z-CMl6nMK4Ks"
   },
   "outputs": [],
   "source": [
    "#ipv.screenshot()"
   ]
  },
  {
   "cell_type": "markdown",
   "metadata": {
    "colab_type": "text",
    "id": "xJhOqdOnK4Kv"
   },
   "source": [
    "---"
   ]
  },
  {
   "cell_type": "markdown",
   "metadata": {
    "colab_type": "text",
    "id": "5-mkqsaEK4Kw"
   },
   "source": [
    "## Prepare for training"
   ]
  },
  {
   "cell_type": "code",
   "execution_count": 19,
   "metadata": {
    "colab": {},
    "colab_type": "code",
    "id": "r_RDAMqvK4Kw"
   },
   "outputs": [],
   "source": [
    "from sklearn.model_selection import train_test_split"
   ]
  },
  {
   "cell_type": "code",
   "execution_count": 20,
   "metadata": {
    "colab": {},
    "colab_type": "code",
    "id": "O_lxJ3huK4K0"
   },
   "outputs": [],
   "source": [
    "X, y = np.array(projections, dtype=np.float32), np.array(angles_true, dtype=np.float32)"
   ]
  },
  {
   "cell_type": "markdown",
   "metadata": {
    "colab_type": "text",
    "id": "4f-dUZ4kK4K3"
   },
   "source": [
    "#### Global standardization of projections"
   ]
  },
  {
   "cell_type": "code",
   "execution_count": 21,
   "metadata": {
    "colab": {},
    "colab_type": "code",
    "id": "X6A3wHMVK4K3"
   },
   "outputs": [],
   "source": [
    "from cryoem.distance_estimation import global_standardization, rescale_images"
   ]
  },
  {
   "cell_type": "code",
   "execution_count": 22,
   "metadata": {},
   "outputs": [
    {
     "name": "stdout",
     "output_type": "stream",
     "text": [
      "Image rescaled from dimension 116 to 128 for MobileNet\n"
     ]
    }
   ],
   "source": [
    "X = rescale_images(X)"
   ]
  },
  {
   "cell_type": "code",
   "execution_count": 23,
   "metadata": {
    "colab": {
     "base_uri": "https://localhost:8080/",
     "height": 136
    },
    "colab_type": "code",
    "id": "3pRAKWKmK4K6",
    "outputId": "472a785e-e394-435e-b2ac-47b703f7de4f"
   },
   "outputs": [
    {
     "name": "stdout",
     "output_type": "stream",
     "text": [
      "Image shape: (128, 128)\n",
      "Data Type: float64\n",
      "***\n",
      "Mean: 0.261 | Std: 2.350\n",
      "Min:  -14.097 | Max: 22.320\n",
      "Mean: -0.000 | Std: 1.000\n",
      "Min:  -6.111 | Max: 9.388\n"
     ]
    }
   ],
   "source": [
    "X = global_standardization(X)"
   ]
  },
  {
   "cell_type": "code",
   "execution_count": 24,
   "metadata": {
    "colab": {},
    "colab_type": "code",
    "id": "lVRXjdE3K4K9"
   },
   "outputs": [],
   "source": [
    "test_size = 0.33\n",
    "val_size = 0.25"
   ]
  },
  {
   "cell_type": "code",
   "execution_count": 26,
   "metadata": {
    "colab": {
     "base_uri": "https://localhost:8080/",
     "height": 68
    },
    "colab_type": "code",
    "id": "fRyiZcWPK4LC",
    "outputId": "86aabf9f-317a-464e-932d-0c68bc549b1f"
   },
   "outputs": [
    {
     "name": "stdout",
     "output_type": "stream",
     "text": [
      "TRAIN: 0.67 x 0.75 = 0.50 =>  2512 imgs => max pairs:    6312656\n",
      "TEST :               0.33 =>  1650 imgs => max pairs:    2722500\n",
      "VAL  : 0.67 x 0.25 = 0.17 =>   837 imgs => max pairs:     701406\n"
     ]
    }
   ],
   "source": [
    "print(f\"TRAIN: {1-test_size:.2f} x {1-val_size:.2f} = {(1-test_size)*(1-val_size):.2f} => {str(int((1-test_size)*(1-val_size)*5000)).rjust(5)} imgs => max pairs: {str(int(np.power((1-test_size)*(1-val_size)*5000, 2))).rjust(10)}\")\n",
    "print(f\"TEST : {str(test_size).rjust(18)} => {str(int(test_size*5000)).rjust(5)} imgs => max pairs: {str(int(np.power(test_size*5000, 2))).rjust(10)}\")\n",
    "print(f\"VAL  : {1-test_size:.2f} x {val_size:.2f} = {(1-test_size)*val_size:.2f} => {str(int((1-test_size)*val_size*5000)).rjust(5)} imgs => max pairs: {str(int(np.power((1-test_size)*val_size*5000, 2))).rjust(10)}\")"
   ]
  },
  {
   "cell_type": "code",
   "execution_count": 28,
   "metadata": {
    "colab": {},
    "colab_type": "code",
    "id": "dmtJEGv1K4LF"
   },
   "outputs": [],
   "source": [
    "data = np.load(\"data/5j0n/5j0n_siamese_idx.npz\")\n",
    "train_idx, val_idx, test_idx = data[\"arr_0\"], data[\"arr_1\"], data[\"arr_2\"]"
   ]
  },
  {
   "cell_type": "code",
   "execution_count": 29,
   "metadata": {
    "colab": {},
    "colab_type": "code",
    "id": "KNkQKrfJK4LH"
   },
   "outputs": [],
   "source": [
    "X = np.stack((X,)*3, axis=-1)"
   ]
  },
  {
   "cell_type": "code",
   "execution_count": 30,
   "metadata": {
    "colab": {
     "base_uri": "https://localhost:8080/",
     "height": 34
    },
    "colab_type": "code",
    "id": "WCOYGoQRK4LK",
    "outputId": "3ee8e5fc-2424-42ab-b8cf-f9d4fa7de440"
   },
   "outputs": [
    {
     "data": {
      "text/plain": [
       "(5000, 128, 128, 3)"
      ]
     },
     "execution_count": 30,
     "metadata": {},
     "output_type": "execute_result"
    }
   ],
   "source": [
    "X.shape"
   ]
  },
  {
   "cell_type": "markdown",
   "metadata": {
    "colab_type": "text",
    "id": "YZ71Z1DWK4LM"
   },
   "source": [
    "# 1. Distance Estimation"
   ]
  },
  {
   "cell_type": "markdown",
   "metadata": {
    "colab_type": "text",
    "id": "0ZRKoKicK4LN"
   },
   "source": [
    "### Train the model"
   ]
  },
  {
   "cell_type": "code",
   "execution_count": 31,
   "metadata": {
    "colab": {},
    "colab_type": "code",
    "id": "HceKfhOaK4LN"
   },
   "outputs": [],
   "source": [
    "from time import time"
   ]
  },
  {
   "cell_type": "code",
   "execution_count": 32,
   "metadata": {
    "colab": {},
    "colab_type": "code",
    "id": "hqkn_ZVBK4LQ"
   },
   "outputs": [],
   "source": [
    "# CALCULATE FULL \n",
    "from tensorflow.keras.utils import Sequence\n",
    "\n",
    "num_dec = 1\n",
    "num_bins = 32\n",
    "\n",
    "class DataGenerator(Sequence):\n",
    "    \n",
    "    def __init__(self, X, y, list_ids, limit_num_pairs=None, limit_style=\"random\", batch_size=256, shuffle=True):\n",
    "        start_time = time()\n",
    "        if batch_size > limit_num_pairs:\n",
    "            raise Exception(\"Please specify limit_num_pairs that is much higher than batch_size\")\n",
    "        self.X = X  \n",
    "        self.y = y  \n",
    "        self.limit_num_pairs = limit_num_pairs\n",
    "        self.list_ids = list_ids\n",
    "        self.batch_size = batch_size  \n",
    "        # all the possible combinations of 2 image id pairs\n",
    "        self.pair_ids = np.array(list(zip(*list(map(lambda x: x.flatten(), np.meshgrid(list_ids, list_ids))))))  # e.g. train_idx\n",
    "        \n",
    "        # Don't use all possible combination of pairs, limit them here\n",
    "        if self.limit_num_pairs:\n",
    "            limited_pair_indices = np.random.choice(np.arange(len(self.pair_ids)), size=self.limit_num_pairs)\n",
    "            self.pair_ids = self.pair_ids[limited_pair_indices]\n",
    "        \n",
    "        if limit_style==\"uniform\":\n",
    "            self.pair_ids = self._generate_uniform()\n",
    "      \n",
    "  \n",
    "        self.shuffle = shuffle \n",
    "        self._on_epoch_start()\n",
    "        print(f\"Data created in {time()-start_time} sec\")\n",
    "        \n",
    "        \n",
    "    def _generate_uniform(self):\n",
    "        if os.path.exists(f\"data/5j0n/{len(self.list_ids)}_{self.limit_num_pairs}_{self.batch_size}.npy\"):\n",
    "            return np.load(f\"data/5j0n/{len(self.list_ids)}_{self.limit_num_pairs}_{self.batch_size}.npy\")\n",
    "        else:\n",
    "            bins = {}\n",
    "            for i in np.arange(0.0, 3.14, step=0.1): # so we have 32 bins\n",
    "                bins[np.around(i, num_dec)] = []\n",
    "\n",
    "\n",
    "            for idx1, idx2 in self.pair_ids:\n",
    "                label = d_q(euler2quaternion(self.y[idx1]), euler2quaternion(self.y[idx2]))\n",
    "                bins[np.around(label, num_dec)].append([idx1, idx2])\n",
    "\n",
    "            min_bin_size = len(bins[min(bins.keys(), key=lambda x: len(bins[x]))])\n",
    "            print(\"min=\", min_bin_size)\n",
    "            if min_bin_size == 0:\n",
    "                raise Exception(\"It haven't yet managed to fill all the bins, please increase limit_num_pairs\")\n",
    "\n",
    "\n",
    "            # cut the top of histogram to make it uniform\n",
    "            for i in np.arange(0.0, 3.14, step=0.1): # so we have 32 bins\n",
    "                b = np.around(i, num_dec)\n",
    "                bins[b] = np.take(bins[b], np.arange(min_bin_size), axis=0)  \n",
    "\n",
    "            l = np.array(list(itertools.chain(*list(bins.values()))))\n",
    "            np.save(f\"data/5j0n/{len(self.list_ids)}_{self.limit_num_pairs}_{self.batch_size}.npy\", l)\n",
    "            print(\"total number of data = \", 31*min_bin_size)\n",
    "            return l\n",
    "    \n",
    "    def __len__(self):\n",
    "        # Denotes the number of batches per epoch\n",
    "        if len(self.pair_ids)%self.batch_size == 0:\n",
    "            return len(self.pair_ids) // self.batch_size\n",
    "        else:\n",
    "            return len(self.pair_ids) // self.batch_size + 1\n",
    "        \n",
    "    def __getitem__(self, index):\n",
    "        # Generate one batch of data\n",
    "        indices = self.indices[index*self.batch_size:(index+1)*self.batch_size]\n",
    "        \n",
    "        # Find list of ids\n",
    "        list_ids_batch = np.take(self.pair_ids, indices, axis=0)\n",
    "\n",
    "        # Generate data\n",
    "        idx1, idx2 = list_ids_batch[:,0], list_ids_batch[:,1]\n",
    "        pairs = np.stack((self.X[idx1], self.X[idx2]), axis=1)  # shape: (len(idx1), 2, x.shape[1], x.shape[2], x.shape[3])\n",
    "        labels = d_q(euler2quaternion(self.y[idx1]), euler2quaternion(self.y[idx2]))  # shape: len(idx1)\n",
    "\n",
    "        # [training_pairs[:, 0], training_pairs[:, 1]], labels\n",
    "        return [pairs[:, 0], pairs[:, 1]], labels \n",
    "        \n",
    "    def _on_epoch_start(self):\n",
    "        # Updates indices after each epoch\n",
    "        self.indices = np.arange(len(self.pair_ids))\n",
    "        if self.shuffle:\n",
    "            np.random.shuffle(self.indices)     "
   ]
  },
  {
   "cell_type": "code",
   "execution_count": 36,
   "metadata": {
    "colab": {},
    "colab_type": "code",
    "id": "Ui3KmgarK4LT"
   },
   "outputs": [],
   "source": [
    "import tensorflow_probability as tfp\n",
    "import os\n",
    "import h5py\n",
    "from time import time, strftime\n",
    "from datetime import datetime\n",
    "import matplotlib.pyplot as plt\n",
    "import numpy as np\n",
    "from sklearn.model_selection import train_test_split\n",
    "import pathlib\n",
    "\n",
    "from cryoem.rotation_matrices import RotationMatrix\n",
    "from cryoem.conversions import euler2quaternion, d_q\n",
    "from cryoem.knn import get_knn_projections\n",
    "\n",
    "import random\n",
    "import tensorflow as tf\n",
    "from tensorflow.keras.datasets import mnist\n",
    "from tensorflow.keras.models import Model\n",
    "from tensorflow.python.keras.applications.mobilenet import MobileNet\n",
    "from tensorflow.keras.layers import Input, Conv2D, MaxPooling2D, AvgPool2D, Lambda, ZeroPadding2D, Dropout, Concatenate, Dense, GlobalAveragePooling2D, Flatten\n",
    "from tensorflow.keras.optimizers import RMSprop, Adam, SGD\n",
    "from tensorflow.keras import backend as K\n",
    "from tensorflow.keras.callbacks import ModelCheckpoint,ReduceLROnPlateau\n",
    "from tensorflow.keras.callbacks import TensorBoard\n",
    "from tensorflow.keras.utils import plot_model, multi_gpu_model\n",
    "#from tensorflow.python.keras.applications.resnet50 import ResNet50\n",
    "from tensorflow.python.keras.applications.inception_v3 import InceptionV3\n",
    "from tensorflow.keras.losses import KLD, MAE, MSE\n",
    "\n",
    "_idx1 = list(np.random.choice(val_idx, size=1000))\n",
    "_idx2 = list(np.random.choice(val_idx, size=1000))\n",
    "\n",
    "q1_true = euler2quaternion([angles_true[i] for i in _idx1])\n",
    "q2_true = euler2quaternion([angles_true[i] for i in _idx2])\n",
    "\n",
    "p1 = [X[i] for i in _idx1]\n",
    "p2 = [X[i] for i in _idx2]\n",
    "\n",
    "model = None\n",
    "\n",
    "def euclidean_distance(vects):\n",
    "    x, y = vects\n",
    "    sum_square = K.sum(K.square(x - y), axis=1, keepdims=True)\n",
    "    return K.sqrt(K.maximum(sum_square, K.epsilon()))\n",
    "\n",
    "def eucl_dist_output_shape(shapes):\n",
    "    shape1, shape2 = shapes\n",
    "    return (shape1[0], 1)\n",
    "\n",
    "\n",
    "def mae(y_true, y_pred):\n",
    "    return MAE(y_true, y_pred) \n",
    "\n",
    "def mse(y_true, y_pred):\n",
    "    return MSE(y_true, y_pred) \n",
    "\n",
    "\n",
    "def create_siamese_network(input_shape):\n",
    "    # first: train only the top layers (which were randomly initialized)\n",
    "    # i.e. freeze all convolutional InceptionV3 layers\n",
    "    input_x = Input(shape=input_shape)\n",
    "    base_model = MobileNet(weights='imagenet', include_top=False, input_tensor=input_x, input_shape=input_shape)\n",
    "    x = base_model.layers[-1].output\n",
    "\n",
    "    # add a global spatial average pooling layer\n",
    "    x = GlobalAveragePooling2D()(x)\n",
    "\n",
    "    return Model(input_x, x)\n",
    "\n",
    "def create_distance_network(input_shape):\n",
    "    # ref: https://github.com/guanjianyu/DisNet/blob/master/Train_DisNet.py\n",
    "    # ref: https://project.inria.fr/ppniv18/files/2018/10/paper22.pdf\n",
    "    input_x = Input(shape=input_shape)\n",
    "   \n",
    "    x = Dense(2000, activation=\"relu\")(input_x)\n",
    "    x = Dense(2000, activation=\"relu\")(x)\n",
    "    x = Dense(2000, activation=\"relu\")(x)\n",
    "    x = Dense(2000, activation=\"relu\")(x)\n",
    "    x = Dense(1000, activation=\"relu\")(x)\n",
    "    x = Dense(1000, activation=\"relu\")(x)\n",
    "    x = Dense(1, activation=\"relu\")(x)\n",
    "    \n",
    "    return Model(input_x, x)\n",
    "\n",
    "\n",
    "\n",
    "def train_siamese(X, y, train_idx, val_idx, epochs_top, epochs_full, batch_size, learning_rate, training_description=\"\", training_steps=None, validation_steps=None, plot=True, gpus=None):\n",
    "    \n",
    "    def d_p(p1, p2):\n",
    "        global model\n",
    "        p1 = tf.cast(p1, dtype=tf.float32)\n",
    "        p2 = tf.cast(p2, dtype=tf.float32)\n",
    "        return model.predict([p1, p2], batch_size=256)\n",
    "\n",
    "    def plot_to_image(figure):\n",
    "        \"\"\"Converts the matplotlib plot specified by 'figure' to a PNG image and\n",
    "        returns it. The supplied figure is closed and inaccessible after this call.\"\"\"\n",
    "        # Save the plot to a PNG in memory.\n",
    "        buf = io.BytesIO()\n",
    "        plt.savefig(buf, format='png')\n",
    "        # Closing the figure prevents it from being displayed directly inside\n",
    "        # the notebook.\n",
    "        plt.close(figure)\n",
    "        buf.seek(0)\n",
    "        # Convert PNG buffer to TF image\n",
    "        image = tf.image.decode_png(buf.getvalue(), channels=4)\n",
    "        # Add the batch dimension\n",
    "        image = tf.expand_dims(image, 0)\n",
    "        return image\n",
    "\n",
    "    def generate_dPdQ_plot(file_writer_plot):\n",
    "        \"\"\"Source: https://www.tensorflow.org/tensorboard/image_summaries#logging_arbitrary_image_data\"\"\"\n",
    "\n",
    "        def _inner_plot(epoch, logs):\n",
    "            \"\"\"Generate dP/dQ plot for tensorboard\"\"\"\n",
    "            \n",
    "            dP_values = d_p(p1, p2).T[0]\n",
    "            dQ_values = d_q(q1_true, q2_true).numpy()\n",
    "            #plt.clf()\n",
    "            # Creating the dataframe for SNS plot\n",
    "            data = {\"d_Q\" : dQ_values, \"d_P\" : dP_values }\n",
    "            df1 = pd.DataFrame(data=data)\n",
    "\n",
    "            fig, ax = plt.subplots(figsize=(6,6));\n",
    "            sns.scatterplot(x=\"d_Q\", y=\"d_P\", data=df1, color=\"b\", alpha=0.3, label=\"projection pair\", ax=ax);  # \"reg\", \"kde\"\n",
    "            x = np.arange(0, np.pi);\n",
    "            sns.regplot(x=x, y=x, color=\"k\", ax=ax)\n",
    "            #g = sns.jointplot(x=\"d_Q\", y=\"d_P\", data=df1, color=\"b\", alpha=0.3, label=\"projection pair\", kind=\"kde\");  # \"reg\", \"kde\"\n",
    "            #plt.show()\n",
    "            \n",
    "            # Log the confusion matrix as an image summary.\n",
    "            with file_writer_plot.as_default():\n",
    "                tf.summary.image(\"dP/dQ plot\", plot_to_image(fig), step=epoch)\n",
    "        \n",
    "        return _inner_plot\n",
    "\n",
    "    mirrored_strategy = tf.distribute.MirroredStrategy(devices=[\"/device:XLA_GPU:0\"])\n",
    "    \n",
    "    with mirrored_strategy.scope():\n",
    "        # Prepare data generators\n",
    "        training_generator = DataGenerator(X, y, train_idx, limit_num_pairs=training_steps, limit_style=\"uniform\", shuffle=True)\n",
    "        validation_generator = DataGenerator(X, y, val_idx, limit_num_pairs=validation_steps, limit_style=\"uniform\", shuffle=True)\n",
    "        \n",
    "        input_shape = tuple(list(X.shape[1:])) #training_pairs[:, 0].shape[1:]\n",
    "        print(f\"Input images shape {input_shape}\")\n",
    "\n",
    "        # network definition\n",
    "        input_a = Input(shape=input_shape)\n",
    "        input_b = Input(shape=input_shape)\n",
    "        cnn_network = create_siamese_network(input_shape)\n",
    "        \n",
    "        # because we re-use the same instance `cnn_network`,\n",
    "        # the weights of the network will be shared across the two branches\n",
    "        processed_a = cnn_network(input_a)\n",
    "        processed_b = cnn_network(input_b)\n",
    "\n",
    "        \n",
    "        distance = Lambda(euclidean_distance, output_shape=eucl_dist_output_shape)([processed_a, processed_b])\n",
    "\n",
    "        global model\n",
    "        model = Model([input_a, input_b], distance)  # was m\n",
    "\n",
    "        # train\n",
    "        #model = multi_gpu_model(m, gpus=gpus)\n",
    "        model.summary()\n",
    "        #plot_model(model, to_file=\"figures/model_plot.png\", expand_nested=True, show_shapes=True, show_layer_names=True)\n",
    "\n",
    "        # training only top layers\n",
    "        optimizer1 = RMSprop(learning_rate=learning_rate)\n",
    "        model.compile(loss=mae, optimizer=optimizer1, metrics=[mse], sample_weight_mode=None)\n",
    "        \n",
    "        # Setup callbacks\n",
    "        # Callback that saves the model\n",
    "        #training_description = \"_\"+training_description if training_description else \"\"\n",
    "        CHECKPOINT_PATH = os.path.join(\"training\", f\"{training_description}.h5\")\n",
    "        #pathlib.Path(CHECKPOINT_PATH).mkdir(parents=True, exist_ok=True)\n",
    "        backup_callback = tf.keras.callbacks.ModelCheckpoint(filepath=CHECKPOINT_PATH, monitor='val_loss', verbose=0, save_best_only=False, save_weights_only=False, mode='auto', period=1)\n",
    "        print(f\"Model will be saved to: {CHECKPOINT_PATH}\")\n",
    "        # Callback that will show tensorboard data\n",
    "        LOGS_PATH = os.path.join(\"logs\", f\"{training_description}\")\n",
    "        pathlib.Path(LOGS_PATH).mkdir(parents=True, exist_ok=True)\n",
    "        logs_callback = TensorBoard(LOGS_PATH, histogram_freq=1) #, profile_batch=300)#100000000)\n",
    "        # Callback for the dP/dQ plot\n",
    "        file_writer_plot = tf.summary.create_file_writer(os.path.join(LOGS_PATH, \"image\"))\n",
    "        plot_callback = tf.keras.callbacks.LambdaCallback(on_epoch_end=generate_dPdQ_plot(file_writer_plot))\n",
    "        # Callback that will decrease LR if it gets plateau in val_loss\n",
    "        #reduce_on_plateau_callback = ReduceLROnPlateau(monitor=\"loss\", mode=\"min\", factor=0.1, patience=20, min_lr=1e-4, verbose=1)\n",
    "\n",
    "        history = model.fit(training_generator, \n",
    "                                epochs=epochs_top,\n",
    "                                validation_data=validation_generator, \n",
    "                                callbacks=[backup_callback, plot_callback, logs_callback])\n",
    "\n",
    "        \n",
    "        if plot:\n",
    "            # Get training and test loss histories\n",
    "            training_loss = history.history['loss']\n",
    "            val_loss = history.history['val_loss']\n",
    "            mses = history.history['mse']\n",
    "            val_mses = history.history['val_mse']\n",
    "\n",
    "            fig, (ax1, ax2) = plt.subplots(1, 2, figsize=(15,7))\n",
    "\n",
    "            # Create count of the number of epochs\n",
    "            epoch_count = range(1, len(training_loss) + 1)\n",
    "\n",
    "            # Visualize loss history\n",
    "            ax1.plot(epoch_count, training_loss, 'r--', label='MAE Training Loss')\n",
    "            ax1.plot(epoch_count, val_loss, 'b-', label='MAE Validation Loss')\n",
    "            ax1.legend()\n",
    "            ax1.set_xlabel('Epoch')\n",
    "            ax1.set_ylabel('Loss')\n",
    "\n",
    "            ax2.plot(epoch_count, mses, 'r-', label='MSE Training')\n",
    "            ax2.plot(epoch_count, val_mses, 'b-', label='MSE Validation')\n",
    "            ax2.legend()\n",
    "            ax2.set_xlabel('Epoch')\n",
    "            ax2.set_ylabel('Loss')\n",
    "            plt.show();\n",
    "\n",
    "        return model, history\n",
    "\n",
    "def plot_results(projections, y_pred, y, strtype):\n",
    "    if projections.shape[-1] == 1:\n",
    "        projections = projections.reshape(list(projections.shape[:-2]) +[-1])\n",
    "\n",
    "    def _inner(i):\n",
    "        \n",
    "        plt.imfig, (ax1, ax2) = plt.subplots(1, 2)\n",
    "        ax1.imshow(projections[i, 0])\n",
    "        ax2.imshow(projections[i, 1])\n",
    "\n",
    "        print(f\"--- {strtype} Set ---\")\n",
    "        print(f\"predicted: {y_pred[i][0]}\")\n",
    "        print(f\"true:      {y[i].numpy()}\")\n",
    "        print(f\"mse:       {mse(y_pred[i], y[i].numpy())}\")\n",
    "        print(f\"mae:       {mae(y_pred[i], y[i].numpy())}\")\n",
    "        \n",
    "    return _inner"
   ]
  },
  {
   "cell_type": "code",
   "execution_count": 37,
   "metadata": {
    "colab": {
     "base_uri": "https://localhost:8080/",
     "height": 34
    },
    "colab_type": "code",
    "id": "qOYwbjOzK4LV",
    "outputId": "38b31b34-0d5d-43fb-c27f-f338cb0b822d"
   },
   "outputs": [
    {
     "data": {
      "text/plain": [
       "(63101, 7022)"
      ]
     },
     "execution_count": 37,
     "metadata": {},
     "output_type": "execute_result"
    }
   ],
   "source": [
    "train_percent = 0.1\n",
    "val_percent = 0.1\n",
    "int(train_percent*np.power(len(train_idx), 2)), int(val_percent*np.power(len(val_idx), 2))"
   ]
  },
  {
   "cell_type": "code",
   "execution_count": 38,
   "metadata": {},
   "outputs": [],
   "source": [
    "#/job:localhost/replica:0/task:0/device:GPU:0"
   ]
  },
  {
   "cell_type": "code",
   "execution_count": 39,
   "metadata": {
    "colab": {
     "base_uri": "https://localhost:8080/",
     "height": 1000
    },
    "colab_type": "code",
    "id": "8HWI9cfqK4LY",
    "outputId": "81f7ec1b-3943-4b59-c409-e64503b6b154",
    "scrolled": true
   },
   "outputs": [
    {
     "name": "stdout",
     "output_type": "stream",
     "text": [
      "WARNING:tensorflow:Some requested devices in `tf.distribute.Strategy` are not visible to TensorFlow: /job:localhost/replica:0/task:0/device:XLA_GPU:0\n",
      "INFO:tensorflow:Using MirroredStrategy with devices ('/job:localhost/replica:0/task:0/device:XLA_GPU:0',)\n",
      "Data created in 4.265935659408569 sec\n",
      "Data created in 0.5994324684143066 sec\n",
      "Input images shape (128, 128, 3)\n",
      "Model: \"model_3\"\n",
      "__________________________________________________________________________________________________\n",
      "Layer (type)                    Output Shape         Param #     Connected to                     \n",
      "==================================================================================================\n",
      "input_4 (InputLayer)            [(None, 128, 128, 3) 0                                            \n",
      "__________________________________________________________________________________________________\n",
      "input_5 (InputLayer)            [(None, 128, 128, 3) 0                                            \n",
      "__________________________________________________________________________________________________\n",
      "model_2 (Model)                 (None, 1024)         3228864     input_4[0][0]                    \n",
      "                                                                 input_5[0][0]                    \n",
      "__________________________________________________________________________________________________\n",
      "lambda_1 (Lambda)               (None, 1)            0           model_2[1][0]                    \n",
      "                                                                 model_2[2][0]                    \n",
      "==================================================================================================\n",
      "Total params: 3,228,864\n",
      "Trainable params: 3,206,976\n",
      "Non-trainable params: 21,888\n",
      "__________________________________________________________________________________________________\n",
      "WARNING:tensorflow:`period` argument is deprecated. Please use `save_freq` to specify the frequency in number of batches seen.\n",
      "Model will be saved to: training/noisy_var10.h5\n",
      "Epoch 1/200\n",
      "INFO:tensorflow:Reduce to /job:localhost/replica:0/task:0/device:CPU:0 then broadcast to ('/job:localhost/replica:0/task:0/device:CPU:0',).\n",
      "INFO:tensorflow:Reduce to /job:localhost/replica:0/task:0/device:CPU:0 then broadcast to ('/job:localhost/replica:0/task:0/device:CPU:0',).\n",
      "INFO:tensorflow:Reduce to /job:localhost/replica:0/task:0/device:CPU:0 then broadcast to ('/job:localhost/replica:0/task:0/device:CPU:0',).\n",
      "INFO:tensorflow:Reduce to /job:localhost/replica:0/task:0/device:CPU:0 then broadcast to ('/job:localhost/replica:0/task:0/device:CPU:0',).\n",
      "INFO:tensorflow:Reduce to /job:localhost/replica:0/task:0/device:CPU:0 then broadcast to ('/job:localhost/replica:0/task:0/device:CPU:0',).\n",
      "INFO:tensorflow:Reduce to /job:localhost/replica:0/task:0/device:CPU:0 then broadcast to ('/job:localhost/replica:0/task:0/device:CPU:0',).\n",
      "INFO:tensorflow:Reduce to /job:localhost/replica:0/task:0/device:CPU:0 then broadcast to ('/job:localhost/replica:0/task:0/device:CPU:0',).\n",
      "INFO:tensorflow:Reduce to /job:localhost/replica:0/task:0/device:CPU:0 then broadcast to ('/job:localhost/replica:0/task:0/device:CPU:0',).\n",
      "INFO:tensorflow:Reduce to /job:localhost/replica:0/task:0/device:CPU:0 then broadcast to ('/job:localhost/replica:0/task:0/device:CPU:0',).\n",
      "INFO:tensorflow:Reduce to /job:localhost/replica:0/task:0/device:CPU:0 then broadcast to ('/job:localhost/replica:0/task:0/device:CPU:0',).\n",
      "3/4 [=====================>........] - ETA: 2s - mse: 477.5111 - loss: 19.5439"
     ]
    },
    {
     "ename": "KeyboardInterrupt",
     "evalue": "",
     "output_type": "error",
     "traceback": [
      "\u001b[0;31m---------------------------------------------------------------------------\u001b[0m",
      "\u001b[0;31mKeyboardInterrupt\u001b[0m                         Traceback (most recent call last)",
      "\u001b[0;32m<ipython-input-39-e44d3e9c5fe4>\u001b[0m in \u001b[0;36m<module>\u001b[0;34m\u001b[0m\n\u001b[1;32m     10\u001b[0m                                \u001b[0mvalidation_steps\u001b[0m\u001b[0;34m=\u001b[0m\u001b[0mint\u001b[0m\u001b[0;34m(\u001b[0m\u001b[0mval_percent\u001b[0m\u001b[0;34m*\u001b[0m\u001b[0mnp\u001b[0m\u001b[0;34m.\u001b[0m\u001b[0mpower\u001b[0m\u001b[0;34m(\u001b[0m\u001b[0mlen\u001b[0m\u001b[0;34m(\u001b[0m\u001b[0mval_idx\u001b[0m\u001b[0;34m)\u001b[0m\u001b[0;34m,\u001b[0m \u001b[0;36m2\u001b[0m\u001b[0;34m)\u001b[0m\u001b[0;34m)\u001b[0m\u001b[0;34m,\u001b[0m  \u001b[0;31m# None\u001b[0m\u001b[0;34m\u001b[0m\u001b[0;34m\u001b[0m\u001b[0m\n\u001b[1;32m     11\u001b[0m                                \u001b[0mplot\u001b[0m\u001b[0;34m=\u001b[0m\u001b[0;32mTrue\u001b[0m\u001b[0;34m,\u001b[0m\u001b[0;34m\u001b[0m\u001b[0;34m\u001b[0m\u001b[0m\n\u001b[0;32m---> 12\u001b[0;31m                                gpus=None)\n\u001b[0m",
      "\u001b[0;32m<ipython-input-36-c972a1f7579d>\u001b[0m in \u001b[0;36mtrain_siamese\u001b[0;34m(X, y, train_idx, val_idx, epochs_top, epochs_full, batch_size, learning_rate, training_description, training_steps, validation_steps, plot, gpus)\u001b[0m\n\u001b[1;32m    190\u001b[0m                                 \u001b[0mepochs\u001b[0m\u001b[0;34m=\u001b[0m\u001b[0mepochs_top\u001b[0m\u001b[0;34m,\u001b[0m\u001b[0;34m\u001b[0m\u001b[0;34m\u001b[0m\u001b[0m\n\u001b[1;32m    191\u001b[0m                                 \u001b[0mvalidation_data\u001b[0m\u001b[0;34m=\u001b[0m\u001b[0mvalidation_generator\u001b[0m\u001b[0;34m,\u001b[0m\u001b[0;34m\u001b[0m\u001b[0;34m\u001b[0m\u001b[0m\n\u001b[0;32m--> 192\u001b[0;31m                                 callbacks=[backup_callback, plot_callback, logs_callback])\n\u001b[0m\u001b[1;32m    193\u001b[0m \u001b[0;34m\u001b[0m\u001b[0m\n\u001b[1;32m    194\u001b[0m \u001b[0;34m\u001b[0m\u001b[0m\n",
      "\u001b[0;32m~/anaconda3/envs/protein_reconstruction/lib/python3.6/site-packages/tensorflow/python/keras/engine/training.py\u001b[0m in \u001b[0;36m_method_wrapper\u001b[0;34m(self, *args, **kwargs)\u001b[0m\n\u001b[1;32m     64\u001b[0m   \u001b[0;32mdef\u001b[0m \u001b[0m_method_wrapper\u001b[0m\u001b[0;34m(\u001b[0m\u001b[0mself\u001b[0m\u001b[0;34m,\u001b[0m \u001b[0;34m*\u001b[0m\u001b[0margs\u001b[0m\u001b[0;34m,\u001b[0m \u001b[0;34m**\u001b[0m\u001b[0mkwargs\u001b[0m\u001b[0;34m)\u001b[0m\u001b[0;34m:\u001b[0m\u001b[0;34m\u001b[0m\u001b[0;34m\u001b[0m\u001b[0m\n\u001b[1;32m     65\u001b[0m     \u001b[0;32mif\u001b[0m \u001b[0;32mnot\u001b[0m \u001b[0mself\u001b[0m\u001b[0;34m.\u001b[0m\u001b[0m_in_multi_worker_mode\u001b[0m\u001b[0;34m(\u001b[0m\u001b[0;34m)\u001b[0m\u001b[0;34m:\u001b[0m  \u001b[0;31m# pylint: disable=protected-access\u001b[0m\u001b[0;34m\u001b[0m\u001b[0;34m\u001b[0m\u001b[0m\n\u001b[0;32m---> 66\u001b[0;31m       \u001b[0;32mreturn\u001b[0m \u001b[0mmethod\u001b[0m\u001b[0;34m(\u001b[0m\u001b[0mself\u001b[0m\u001b[0;34m,\u001b[0m \u001b[0;34m*\u001b[0m\u001b[0margs\u001b[0m\u001b[0;34m,\u001b[0m \u001b[0;34m**\u001b[0m\u001b[0mkwargs\u001b[0m\u001b[0;34m)\u001b[0m\u001b[0;34m\u001b[0m\u001b[0;34m\u001b[0m\u001b[0m\n\u001b[0m\u001b[1;32m     67\u001b[0m \u001b[0;34m\u001b[0m\u001b[0m\n\u001b[1;32m     68\u001b[0m     \u001b[0;31m# Running inside `run_distribute_coordinator` already.\u001b[0m\u001b[0;34m\u001b[0m\u001b[0;34m\u001b[0m\u001b[0;34m\u001b[0m\u001b[0m\n",
      "\u001b[0;32m~/anaconda3/envs/protein_reconstruction/lib/python3.6/site-packages/tensorflow/python/keras/engine/training.py\u001b[0m in \u001b[0;36mfit\u001b[0;34m(self, x, y, batch_size, epochs, verbose, callbacks, validation_split, validation_data, shuffle, class_weight, sample_weight, initial_epoch, steps_per_epoch, validation_steps, validation_batch_size, validation_freq, max_queue_size, workers, use_multiprocessing)\u001b[0m\n\u001b[1;32m    846\u001b[0m                 batch_size=batch_size):\n\u001b[1;32m    847\u001b[0m               \u001b[0mcallbacks\u001b[0m\u001b[0;34m.\u001b[0m\u001b[0mon_train_batch_begin\u001b[0m\u001b[0;34m(\u001b[0m\u001b[0mstep\u001b[0m\u001b[0;34m)\u001b[0m\u001b[0;34m\u001b[0m\u001b[0;34m\u001b[0m\u001b[0m\n\u001b[0;32m--> 848\u001b[0;31m               \u001b[0mtmp_logs\u001b[0m \u001b[0;34m=\u001b[0m \u001b[0mtrain_function\u001b[0m\u001b[0;34m(\u001b[0m\u001b[0miterator\u001b[0m\u001b[0;34m)\u001b[0m\u001b[0;34m\u001b[0m\u001b[0;34m\u001b[0m\u001b[0m\n\u001b[0m\u001b[1;32m    849\u001b[0m               \u001b[0;31m# Catch OutOfRangeError for Datasets of unknown size.\u001b[0m\u001b[0;34m\u001b[0m\u001b[0;34m\u001b[0m\u001b[0;34m\u001b[0m\u001b[0m\n\u001b[1;32m    850\u001b[0m               \u001b[0;31m# This blocks until the batch has finished executing.\u001b[0m\u001b[0;34m\u001b[0m\u001b[0;34m\u001b[0m\u001b[0;34m\u001b[0m\u001b[0m\n",
      "\u001b[0;32m~/anaconda3/envs/protein_reconstruction/lib/python3.6/site-packages/tensorflow/python/eager/def_function.py\u001b[0m in \u001b[0;36m__call__\u001b[0;34m(self, *args, **kwds)\u001b[0m\n\u001b[1;32m    578\u001b[0m         \u001b[0mxla_context\u001b[0m\u001b[0;34m.\u001b[0m\u001b[0mExit\u001b[0m\u001b[0;34m(\u001b[0m\u001b[0;34m)\u001b[0m\u001b[0;34m\u001b[0m\u001b[0;34m\u001b[0m\u001b[0m\n\u001b[1;32m    579\u001b[0m     \u001b[0;32melse\u001b[0m\u001b[0;34m:\u001b[0m\u001b[0;34m\u001b[0m\u001b[0;34m\u001b[0m\u001b[0m\n\u001b[0;32m--> 580\u001b[0;31m       \u001b[0mresult\u001b[0m \u001b[0;34m=\u001b[0m \u001b[0mself\u001b[0m\u001b[0;34m.\u001b[0m\u001b[0m_call\u001b[0m\u001b[0;34m(\u001b[0m\u001b[0;34m*\u001b[0m\u001b[0margs\u001b[0m\u001b[0;34m,\u001b[0m \u001b[0;34m**\u001b[0m\u001b[0mkwds\u001b[0m\u001b[0;34m)\u001b[0m\u001b[0;34m\u001b[0m\u001b[0;34m\u001b[0m\u001b[0m\n\u001b[0m\u001b[1;32m    581\u001b[0m \u001b[0;34m\u001b[0m\u001b[0m\n\u001b[1;32m    582\u001b[0m     \u001b[0;32mif\u001b[0m \u001b[0mtracing_count\u001b[0m \u001b[0;34m==\u001b[0m \u001b[0mself\u001b[0m\u001b[0;34m.\u001b[0m\u001b[0m_get_tracing_count\u001b[0m\u001b[0;34m(\u001b[0m\u001b[0;34m)\u001b[0m\u001b[0;34m:\u001b[0m\u001b[0;34m\u001b[0m\u001b[0;34m\u001b[0m\u001b[0m\n",
      "\u001b[0;32m~/anaconda3/envs/protein_reconstruction/lib/python3.6/site-packages/tensorflow/python/eager/def_function.py\u001b[0m in \u001b[0;36m_call\u001b[0;34m(self, *args, **kwds)\u001b[0m\n\u001b[1;32m    609\u001b[0m       \u001b[0;31m# In this case we have created variables on the first call, so we run the\u001b[0m\u001b[0;34m\u001b[0m\u001b[0;34m\u001b[0m\u001b[0;34m\u001b[0m\u001b[0m\n\u001b[1;32m    610\u001b[0m       \u001b[0;31m# defunned version which is guaranteed to never create variables.\u001b[0m\u001b[0;34m\u001b[0m\u001b[0;34m\u001b[0m\u001b[0;34m\u001b[0m\u001b[0m\n\u001b[0;32m--> 611\u001b[0;31m       \u001b[0;32mreturn\u001b[0m \u001b[0mself\u001b[0m\u001b[0;34m.\u001b[0m\u001b[0m_stateless_fn\u001b[0m\u001b[0;34m(\u001b[0m\u001b[0;34m*\u001b[0m\u001b[0margs\u001b[0m\u001b[0;34m,\u001b[0m \u001b[0;34m**\u001b[0m\u001b[0mkwds\u001b[0m\u001b[0;34m)\u001b[0m  \u001b[0;31m# pylint: disable=not-callable\u001b[0m\u001b[0;34m\u001b[0m\u001b[0;34m\u001b[0m\u001b[0m\n\u001b[0m\u001b[1;32m    612\u001b[0m     \u001b[0;32melif\u001b[0m \u001b[0mself\u001b[0m\u001b[0;34m.\u001b[0m\u001b[0m_stateful_fn\u001b[0m \u001b[0;32mis\u001b[0m \u001b[0;32mnot\u001b[0m \u001b[0;32mNone\u001b[0m\u001b[0;34m:\u001b[0m\u001b[0;34m\u001b[0m\u001b[0;34m\u001b[0m\u001b[0m\n\u001b[1;32m    613\u001b[0m       \u001b[0;31m# Release the lock early so that multiple threads can perform the call\u001b[0m\u001b[0;34m\u001b[0m\u001b[0;34m\u001b[0m\u001b[0;34m\u001b[0m\u001b[0m\n",
      "\u001b[0;32m~/anaconda3/envs/protein_reconstruction/lib/python3.6/site-packages/tensorflow/python/eager/function.py\u001b[0m in \u001b[0;36m__call__\u001b[0;34m(self, *args, **kwargs)\u001b[0m\n\u001b[1;32m   2418\u001b[0m     \u001b[0;32mwith\u001b[0m \u001b[0mself\u001b[0m\u001b[0;34m.\u001b[0m\u001b[0m_lock\u001b[0m\u001b[0;34m:\u001b[0m\u001b[0;34m\u001b[0m\u001b[0;34m\u001b[0m\u001b[0m\n\u001b[1;32m   2419\u001b[0m       \u001b[0mgraph_function\u001b[0m\u001b[0;34m,\u001b[0m \u001b[0margs\u001b[0m\u001b[0;34m,\u001b[0m \u001b[0mkwargs\u001b[0m \u001b[0;34m=\u001b[0m \u001b[0mself\u001b[0m\u001b[0;34m.\u001b[0m\u001b[0m_maybe_define_function\u001b[0m\u001b[0;34m(\u001b[0m\u001b[0margs\u001b[0m\u001b[0;34m,\u001b[0m \u001b[0mkwargs\u001b[0m\u001b[0;34m)\u001b[0m\u001b[0;34m\u001b[0m\u001b[0;34m\u001b[0m\u001b[0m\n\u001b[0;32m-> 2420\u001b[0;31m     \u001b[0;32mreturn\u001b[0m \u001b[0mgraph_function\u001b[0m\u001b[0;34m.\u001b[0m\u001b[0m_filtered_call\u001b[0m\u001b[0;34m(\u001b[0m\u001b[0margs\u001b[0m\u001b[0;34m,\u001b[0m \u001b[0mkwargs\u001b[0m\u001b[0;34m)\u001b[0m  \u001b[0;31m# pylint: disable=protected-access\u001b[0m\u001b[0;34m\u001b[0m\u001b[0;34m\u001b[0m\u001b[0m\n\u001b[0m\u001b[1;32m   2421\u001b[0m \u001b[0;34m\u001b[0m\u001b[0m\n\u001b[1;32m   2422\u001b[0m   \u001b[0;34m@\u001b[0m\u001b[0mproperty\u001b[0m\u001b[0;34m\u001b[0m\u001b[0;34m\u001b[0m\u001b[0m\n",
      "\u001b[0;32m~/anaconda3/envs/protein_reconstruction/lib/python3.6/site-packages/tensorflow/python/eager/function.py\u001b[0m in \u001b[0;36m_filtered_call\u001b[0;34m(self, args, kwargs)\u001b[0m\n\u001b[1;32m   1663\u001b[0m          if isinstance(t, (ops.Tensor,\n\u001b[1;32m   1664\u001b[0m                            resource_variable_ops.BaseResourceVariable))),\n\u001b[0;32m-> 1665\u001b[0;31m         self.captured_inputs)\n\u001b[0m\u001b[1;32m   1666\u001b[0m \u001b[0;34m\u001b[0m\u001b[0m\n\u001b[1;32m   1667\u001b[0m   \u001b[0;32mdef\u001b[0m \u001b[0m_call_flat\u001b[0m\u001b[0;34m(\u001b[0m\u001b[0mself\u001b[0m\u001b[0;34m,\u001b[0m \u001b[0margs\u001b[0m\u001b[0;34m,\u001b[0m \u001b[0mcaptured_inputs\u001b[0m\u001b[0;34m,\u001b[0m \u001b[0mcancellation_manager\u001b[0m\u001b[0;34m=\u001b[0m\u001b[0;32mNone\u001b[0m\u001b[0;34m)\u001b[0m\u001b[0;34m:\u001b[0m\u001b[0;34m\u001b[0m\u001b[0;34m\u001b[0m\u001b[0m\n",
      "\u001b[0;32m~/anaconda3/envs/protein_reconstruction/lib/python3.6/site-packages/tensorflow/python/eager/function.py\u001b[0m in \u001b[0;36m_call_flat\u001b[0;34m(self, args, captured_inputs, cancellation_manager)\u001b[0m\n\u001b[1;32m   1744\u001b[0m       \u001b[0;31m# No tape is watching; skip to running the function.\u001b[0m\u001b[0;34m\u001b[0m\u001b[0;34m\u001b[0m\u001b[0;34m\u001b[0m\u001b[0m\n\u001b[1;32m   1745\u001b[0m       return self._build_call_outputs(self._inference_function.call(\n\u001b[0;32m-> 1746\u001b[0;31m           ctx, args, cancellation_manager=cancellation_manager))\n\u001b[0m\u001b[1;32m   1747\u001b[0m     forward_backward = self._select_forward_and_backward_functions(\n\u001b[1;32m   1748\u001b[0m         \u001b[0margs\u001b[0m\u001b[0;34m,\u001b[0m\u001b[0;34m\u001b[0m\u001b[0;34m\u001b[0m\u001b[0m\n",
      "\u001b[0;32m~/anaconda3/envs/protein_reconstruction/lib/python3.6/site-packages/tensorflow/python/eager/function.py\u001b[0m in \u001b[0;36mcall\u001b[0;34m(self, ctx, args, cancellation_manager)\u001b[0m\n\u001b[1;32m    596\u001b[0m               \u001b[0minputs\u001b[0m\u001b[0;34m=\u001b[0m\u001b[0margs\u001b[0m\u001b[0;34m,\u001b[0m\u001b[0;34m\u001b[0m\u001b[0;34m\u001b[0m\u001b[0m\n\u001b[1;32m    597\u001b[0m               \u001b[0mattrs\u001b[0m\u001b[0;34m=\u001b[0m\u001b[0mattrs\u001b[0m\u001b[0;34m,\u001b[0m\u001b[0;34m\u001b[0m\u001b[0;34m\u001b[0m\u001b[0m\n\u001b[0;32m--> 598\u001b[0;31m               ctx=ctx)\n\u001b[0m\u001b[1;32m    599\u001b[0m         \u001b[0;32melse\u001b[0m\u001b[0;34m:\u001b[0m\u001b[0;34m\u001b[0m\u001b[0;34m\u001b[0m\u001b[0m\n\u001b[1;32m    600\u001b[0m           outputs = execute.execute_with_cancellation(\n",
      "\u001b[0;32m~/anaconda3/envs/protein_reconstruction/lib/python3.6/site-packages/tensorflow/python/eager/execute.py\u001b[0m in \u001b[0;36mquick_execute\u001b[0;34m(op_name, num_outputs, inputs, attrs, ctx, name)\u001b[0m\n\u001b[1;32m     58\u001b[0m     \u001b[0mctx\u001b[0m\u001b[0;34m.\u001b[0m\u001b[0mensure_initialized\u001b[0m\u001b[0;34m(\u001b[0m\u001b[0;34m)\u001b[0m\u001b[0;34m\u001b[0m\u001b[0;34m\u001b[0m\u001b[0m\n\u001b[1;32m     59\u001b[0m     tensors = pywrap_tfe.TFE_Py_Execute(ctx._handle, device_name, op_name,\n\u001b[0;32m---> 60\u001b[0;31m                                         inputs, attrs, num_outputs)\n\u001b[0m\u001b[1;32m     61\u001b[0m   \u001b[0;32mexcept\u001b[0m \u001b[0mcore\u001b[0m\u001b[0;34m.\u001b[0m\u001b[0m_NotOkStatusException\u001b[0m \u001b[0;32mas\u001b[0m \u001b[0me\u001b[0m\u001b[0;34m:\u001b[0m\u001b[0;34m\u001b[0m\u001b[0;34m\u001b[0m\u001b[0m\n\u001b[1;32m     62\u001b[0m     \u001b[0;32mif\u001b[0m \u001b[0mname\u001b[0m \u001b[0;32mis\u001b[0m \u001b[0;32mnot\u001b[0m \u001b[0;32mNone\u001b[0m\u001b[0;34m:\u001b[0m\u001b[0;34m\u001b[0m\u001b[0;34m\u001b[0m\u001b[0m\n",
      "\u001b[0;31mKeyboardInterrupt\u001b[0m: "
     ]
    }
   ],
   "source": [
    "model, history1 = train_siamese(X=X, y=y, \n",
    "                               train_idx=train_idx, \n",
    "                               val_idx=val_idx,\n",
    "                               epochs_top=200,  #500\n",
    "                               epochs_full=None,\n",
    "                               batch_size=256,  #512 latest \n",
    "                               learning_rate=1e-3,  #0.01 \n",
    "                                training_description=f\"noisy_var{NOISY_VAR}\",\n",
    "                               training_steps=int(train_percent*np.power(len(train_idx), 2)),  # None\n",
    "                               validation_steps=int(val_percent*np.power(len(val_idx), 2)),  # None\n",
    "                               plot=True,\n",
    "                               gpus=None)"
   ]
  },
  {
   "cell_type": "markdown",
   "metadata": {
    "colab_type": "text",
    "id": "fJJKUgcJK4La"
   },
   "source": [
    "---"
   ]
  },
  {
   "cell_type": "code",
   "execution_count": 0,
   "metadata": {
    "colab": {},
    "colab_type": "code",
    "id": "5XCEby-fK4Lb"
   },
   "outputs": [],
   "source": [
    "training_loss = history1.history['loss']\n",
    "val_loss = history1.history['val_loss']\n",
    "mses = history1.history['mse']\n",
    "val_mses = history1.history['val_mse']\n",
    "\n",
    "np.savez(f\"data/5j0n/5j0n_DE_noisy_history_uniform_var{NOISY_VAR}\", training_loss, val_loss, mses, val_mses)"
   ]
  },
  {
   "cell_type": "code",
   "execution_count": 0,
   "metadata": {
    "colab": {},
    "colab_type": "code",
    "id": "gi9CsCZAK4Ld"
   },
   "outputs": [],
   "source": [
    "data = np.load(f\"data/5j0n/5j0n_DE_noisy_history_uniform_var{NOISY_VAR}.npz\")\n",
    "training_loss, val_loss, mses, val_mses = data[\"arr_0\"], data[\"arr_1\"], data[\"arr_2\"], data[\"arr_3\"]"
   ]
  },
  {
   "cell_type": "code",
   "execution_count": 0,
   "metadata": {
    "colab": {
     "base_uri": "https://localhost:8080/",
     "height": 448
    },
    "colab_type": "code",
    "id": "IIKP9TtBK4Lg",
    "outputId": "e4cb5454-48ed-4f89-c973-be9bd4ddf7be"
   },
   "outputs": [
    {
     "data": {
      "image/png": "[encoded data removed]",
      "text/plain": [
       "<Figure size 1080x504 with 2 Axes>"
      ]
     },
     "metadata": {
      "tags": []
     },
     "output_type": "display_data"
    }
   ],
   "source": [
    "# Get training and test loss histories\n",
    "fig, (ax1, ax2) = plt.subplots(1, 2, figsize=(15,7))\n",
    "\n",
    "# Create count of the number of epochs\n",
    "epoch_count = range(1, len(training_loss) + 1)\n",
    "\n",
    "# Visualize loss history\n",
    "ax1.plot(epoch_count, training_loss, 'r--', label='MAE Training Loss')\n",
    "ax1.plot(epoch_count, val_loss, 'b-', label='MAE Validation Loss')\n",
    "ax1.legend()\n",
    "ax1.set_xlabel('Epoch')\n",
    "ax1.set_ylabel('Loss')\n",
    "\n",
    "ax2.plot(epoch_count, mses, 'r-', label='MSE Training')\n",
    "ax2.plot(epoch_count, val_mses, 'b-', label='MSE Validation')\n",
    "ax2.legend()\n",
    "ax2.set_xlabel('Epoch')\n",
    "ax2.set_ylabel('Loss')\n",
    "plt.show();"
   ]
  },
  {
   "cell_type": "code",
   "execution_count": 0,
   "metadata": {
    "colab": {
     "base_uri": "https://localhost:8080/",
     "height": 85
    },
    "colab_type": "code",
    "id": "4_py9DG4K4Lj",
    "outputId": "f07c68d6-b2c3-45da-fdd9-4c539d139656"
   },
   "outputs": [
    {
     "data": {
      "text/plain": [
       "(0.06197980046272278,\n",
       " 0.25979235768318176,\n",
       " 0.008627580478787422,\n",
       " 0.12518543004989624)"
      ]
     },
     "execution_count": 40,
     "metadata": {
      "tags": []
     },
     "output_type": "execute_result"
    }
   ],
   "source": [
    "training_loss[-1], val_loss[-1], mses[-1], val_mses[-1]"
   ]
  },
  {
   "cell_type": "markdown",
   "metadata": {
    "colab_type": "text",
    "id": "M-kSlYfqK4Lt"
   },
   "source": [
    "### (Or) Read model checkpoint"
   ]
  },
  {
   "cell_type": "code",
   "execution_count": 0,
   "metadata": {
    "colab": {},
    "colab_type": "code",
    "id": "9z7haF6NK4Lu"
   },
   "outputs": [],
   "source": [
    "# # put correct filename\n",
    "# model_filename = \"drive/My Drive/ModelsProtein\" \n",
    "# # Recreate the exact same model, including its weights and the optimizer\n",
    "# model = tf.keras.models.load_model(model_filename)\n",
    "\n",
    "# # Show the model architecture\n",
    "# model.summary()"
   ]
  },
  {
   "cell_type": "code",
   "execution_count": 0,
   "metadata": {
    "colab": {},
    "colab_type": "code",
    "id": "w6h4QAkeK4Lz"
   },
   "outputs": [],
   "source": [
    "# OR Upload the model instead of saving it to drive\n",
    "# TODO: put a correct model name\n",
    "# !curl --upload-file training/20200531_224202.h5 https://transfer.sh/20200531_224202.h5"
   ]
  },
  {
   "cell_type": "markdown",
   "metadata": {
    "colab_type": "text",
    "id": "KpIqU8r6K4L2"
   },
   "source": [
    "---"
   ]
  },
  {
   "cell_type": "markdown",
   "metadata": {
    "colab_type": "text",
    "id": "_KlxFl_eK4L2"
   },
   "source": [
    "## dP/dQ plot"
   ]
  },
  {
   "cell_type": "code",
   "execution_count": 0,
   "metadata": {
    "colab": {},
    "colab_type": "code",
    "id": "Z766GBdvK4L3"
   },
   "outputs": [],
   "source": [
    "from cryoem.conversions import d_q, euler2quaternion\n",
    "from cryoem.plots import plot_dP_dQ"
   ]
  },
  {
   "cell_type": "code",
   "execution_count": 0,
   "metadata": {
    "colab": {},
    "colab_type": "code",
    "id": "RJMjW2KHK4L5"
   },
   "outputs": [],
   "source": [
    "def d_p(p1, p2):\n",
    "    p1 = tf.cast(p1, dtype=tf.float32)\n",
    "    p2 = tf.cast(p2, dtype=tf.float32)\n",
    "    return model.predict([p1, p2], batch_size=256)"
   ]
  },
  {
   "cell_type": "code",
   "execution_count": 0,
   "metadata": {
    "colab": {},
    "colab_type": "code",
    "id": "0YTh5UvmK4L7"
   },
   "outputs": [],
   "source": [
    "# 5:41 with 1024\n",
    "# 5:43     with 256\n",
    "idx1 = list(np.random.choice(test_idx, size=1000))\n",
    "idx2 = list(np.random.choice(test_idx, size=1000))\n",
    "\n",
    "q1_true = euler2quaternion([angles_true[i] for i in idx1])\n",
    "q2_true = euler2quaternion([angles_true[i] for i in idx2])\n",
    "\n",
    "p1 = [X[i] for i in idx1]\n",
    "p2 = [X[i] for i in idx2]\n",
    "\n",
    "dP_values = d_p(p1, p2).T[0]\n",
    "dQ_values = d_q(q1_true, q2_true).numpy()"
   ]
  },
  {
   "cell_type": "code",
   "execution_count": 0,
   "metadata": {
    "colab": {},
    "colab_type": "code",
    "id": "NjmjpoN0K4L9"
   },
   "outputs": [],
   "source": [
    "plot_dP_dQ(dP_values, dQ_values)"
   ]
  },
  {
   "cell_type": "code",
   "execution_count": 0,
   "metadata": {
    "colab": {},
    "colab_type": "code",
    "id": "lA75WQYrK4L_"
   },
   "outputs": [],
   "source": [
    "MAE(dQ_values, dP_values)"
   ]
  },
  {
   "cell_type": "code",
   "execution_count": 0,
   "metadata": {
    "colab": {},
    "colab_type": "code",
    "id": "rGC2BjfxVYqF"
   },
   "outputs": [],
   "source": []
  }
 ],
 "metadata": {
  "accelerator": "GPU",
  "colab": {
   "name": "colab_distance_estimation_and_angle_recovery-test5j0nhalf-cov_noisy.ipynb",
   "provenance": []
  },
  "kernelspec": {
   "display_name": "Python 3",
   "language": "python",
   "name": "python3"
  },
  "language_info": {
   "codemirror_mode": {
    "name": "ipython",
    "version": 3
   },
   "file_extension": ".py",
   "mimetype": "text/x-python",
   "name": "python",
   "nbconvert_exporter": "python",
   "pygments_lexer": "ipython3",
   "version": "3.6.9"
  }
 },
 "nbformat": 4,
 "nbformat_minor": 1
}
