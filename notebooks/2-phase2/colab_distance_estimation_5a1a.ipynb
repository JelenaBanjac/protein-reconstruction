{
 "cells": [
  {
   "cell_type": "markdown",
   "metadata": {
    "colab_type": "text",
    "id": "ny3JKImAK4Jz"
   },
   "source": [
    "# Distance Estimation and Angle Recovery"
   ]
  },
  {
   "cell_type": "markdown",
   "metadata": {
    "colab_type": "text",
    "id": "4W1rATe0K4J1"
   },
   "source": [
    "<div class=\"alert alert-danger\" role=\"alert\">\n",
    "  <p><strong>Important:</strong> This notebook is used to run the distance estimation on noisy data only (no angle recovery).</p>\n",
    "  <hr>\n",
    "    - <b>To enable GPU</b>: Navigate to Edit→Notebook Settings<br/>\n",
    "    - <b>To save the latest version of code from this notebook</b>: Navigate to File→Save a copy to Github.\n",
    "</div>"
   ]
  },
  {
   "cell_type": "markdown",
   "metadata": {
    "colab_type": "text",
    "id": "EkRUrVFpCrFT"
   },
   "source": [
    "## Content"
   ]
  },
  {
   "cell_type": "markdown",
   "metadata": {
    "colab_type": "text",
    "id": "Zwit5GAFCrFU"
   },
   "source": [
    "1. [Data Preparation](#1.-Data-Preparation)\n",
    "2. [Distance Estimation](#2.-Distance-Estimation)\n",
    "3. [Angle Recovery](#3.-Angle-Recovery)\n",
    "4. [Angle Alignment](#4.-Angle-Alignment)"
   ]
  },
  {
   "cell_type": "markdown",
   "metadata": {
    "colab_type": "text",
    "id": "TDsOdNomK4J4"
   },
   "source": [
    "Data used:\n",
    "- Protein: 5a1a (symmetric protein)\n",
    "- Projections: 5K\n",
    "- Coverage: Half-sphere\n",
    "\n",
    "![](https://github.com/JelenaBanjac/protein-reconstruction/blob/master/notebooks/2-phase2/figures/5a1a.pdb1-500.jpg?raw=1)"
   ]
  },
  {
   "cell_type": "code",
   "execution_count": 0,
   "metadata": {
    "colab": {},
    "colab_type": "code",
    "id": "P43631FkK4J5"
   },
   "outputs": [],
   "source": [
    "# create directories\n",
    "!mkdir --parents data/5a1a\n",
    "!mkdir training"
   ]
  },
  {
   "cell_type": "markdown",
   "metadata": {
    "colab_type": "text",
    "id": "A-xIo-OjK4J_"
   },
   "source": [
    "## Setup Environment (Colab)"
   ]
  },
  {
   "cell_type": "markdown",
   "metadata": {
    "colab_type": "text",
    "id": "kOyAAhtiK4J_"
   },
   "source": [
    "Link to MiniConda Linux installer [here](https://docs.conda.io/en/latest/miniconda.html)."
   ]
  },
  {
   "cell_type": "code",
   "execution_count": 2,
   "metadata": {
    "colab": {
     "base_uri": "https://localhost:8080/",
     "height": 1000
    },
    "colab_type": "code",
    "id": "6mMUWEYfK4KA",
    "outputId": "c5a92a6d-fb93-4c28-b30f-bf6056561dc1"
   },
   "outputs": [
    {
     "name": "stdout",
     "output_type": "stream",
     "text": [
      "--2020-06-11 08:21:24--  https://repo.anaconda.com/miniconda/Miniconda3-latest-Linux-x86_64.sh\n",
      "Resolving repo.anaconda.com (repo.anaconda.com)... 104.16.131.3, 104.16.130.3, 2606:4700::6810:8303, ...\n",
      "Connecting to repo.anaconda.com (repo.anaconda.com)|104.16.131.3|:443... connected.\n",
      "HTTP request sent, awaiting response... 200 OK\n",
      "Length: 85055499 (81M) [application/x-sh]\n",
      "Saving to: ‘Miniconda3-latest-Linux-x86_64.sh’\n",
      "\n",
      "\r",
      "          Miniconda   0%[                    ]       0  --.-KB/s               \r",
      "         Miniconda3  51%[=========>          ]  42.05M   183MB/s               \r",
      "Miniconda3-latest-L 100%[===================>]  81.12M   208MB/s    in 0.4s    \n",
      "\n",
      "2020-06-11 08:21:24 (208 MB/s) - ‘Miniconda3-latest-Linux-x86_64.sh’ saved [85055499/85055499]\n",
      "\n",
      "PREFIX=/usr/local\n",
      "Unpacking payload ...\n",
      "Collecting package metadata (current_repodata.json): - \b\b\\ \b\b| \b\bdone\n",
      "Solving environment: - \b\b\\ \b\bdone\n",
      "\n",
      "## Package Plan ##\n",
      "\n",
      "  environment location: /usr/local\n",
      "\n",
      "  added / updated specs:\n",
      "    - _libgcc_mutex==0.1=main\n",
      "    - asn1crypto==1.3.0=py37_0\n",
      "    - ca-certificates==2020.1.1=0\n",
      "    - certifi==2019.11.28=py37_0\n",
      "    - cffi==1.14.0=py37h2e261b9_0\n",
      "    - chardet==3.0.4=py37_1003\n",
      "    - conda-package-handling==1.6.0=py37h7b6447c_0\n",
      "    - conda==4.8.2=py37_0\n",
      "    - cryptography==2.8=py37h1ba5d50_0\n",
      "    - idna==2.8=py37_0\n",
      "    - ld_impl_linux-64==2.33.1=h53a641e_7\n",
      "    - libedit==3.1.20181209=hc058e9b_0\n",
      "    - libffi==3.2.1=hd88cf55_4\n",
      "    - libgcc-ng==9.1.0=hdf63c60_0\n",
      "    - libstdcxx-ng==9.1.0=hdf63c60_0\n",
      "    - ncurses==6.2=he6710b0_0\n",
      "    - openssl==1.1.1d=h7b6447c_4\n",
      "    - pip==20.0.2=py37_1\n",
      "    - pycosat==0.6.3=py37h7b6447c_0\n",
      "    - pycparser==2.19=py37_0\n",
      "    - pyopenssl==19.1.0=py37_0\n",
      "    - pysocks==1.7.1=py37_0\n",
      "    - python==3.7.6=h0371630_2\n",
      "    - readline==7.0=h7b6447c_5\n",
      "    - requests==2.22.0=py37_1\n",
      "    - ruamel_yaml==0.15.87=py37h7b6447c_0\n",
      "    - setuptools==45.2.0=py37_0\n",
      "    - six==1.14.0=py37_0\n",
      "    - sqlite==3.31.1=h7b6447c_0\n",
      "    - tk==8.6.8=hbc83047_0\n",
      "    - tqdm==4.42.1=py_0\n",
      "    - urllib3==1.25.8=py37_0\n",
      "    - wheel==0.34.2=py37_0\n",
      "    - xz==5.2.4=h14c3975_4\n",
      "    - yaml==0.1.7=had09818_2\n",
      "    - zlib==1.2.11=h7b6447c_3\n",
      "\n",
      "\n",
      "The following NEW packages will be INSTALLED:\n",
      "\n",
      "  _libgcc_mutex      pkgs/main/linux-64::_libgcc_mutex-0.1-main\n",
      "  asn1crypto         pkgs/main/linux-64::asn1crypto-1.3.0-py37_0\n",
      "  ca-certificates    pkgs/main/linux-64::ca-certificates-2020.1.1-0\n",
      "  certifi            pkgs/main/linux-64::certifi-2019.11.28-py37_0\n",
      "  cffi               pkgs/main/linux-64::cffi-1.14.0-py37h2e261b9_0\n",
      "  chardet            pkgs/main/linux-64::chardet-3.0.4-py37_1003\n",
      "  conda              pkgs/main/linux-64::conda-4.8.2-py37_0\n",
      "  conda-package-han~ pkgs/main/linux-64::conda-package-handling-1.6.0-py37h7b6447c_0\n",
      "  cryptography       pkgs/main/linux-64::cryptography-2.8-py37h1ba5d50_0\n",
      "  idna               pkgs/main/linux-64::idna-2.8-py37_0\n",
      "  ld_impl_linux-64   pkgs/main/linux-64::ld_impl_linux-64-2.33.1-h53a641e_7\n",
      "  libedit            pkgs/main/linux-64::libedit-3.1.20181209-hc058e9b_0\n",
      "  libffi             pkgs/main/linux-64::libffi-3.2.1-hd88cf55_4\n",
      "  libgcc-ng          pkgs/main/linux-64::libgcc-ng-9.1.0-hdf63c60_0\n",
      "  libstdcxx-ng       pkgs/main/linux-64::libstdcxx-ng-9.1.0-hdf63c60_0\n",
      "  ncurses            pkgs/main/linux-64::ncurses-6.2-he6710b0_0\n",
      "  openssl            pkgs/main/linux-64::openssl-1.1.1d-h7b6447c_4\n",
      "  pip                pkgs/main/linux-64::pip-20.0.2-py37_1\n",
      "  pycosat            pkgs/main/linux-64::pycosat-0.6.3-py37h7b6447c_0\n",
      "  pycparser          pkgs/main/linux-64::pycparser-2.19-py37_0\n",
      "  pyopenssl          pkgs/main/linux-64::pyopenssl-19.1.0-py37_0\n",
      "  pysocks            pkgs/main/linux-64::pysocks-1.7.1-py37_0\n",
      "  python             pkgs/main/linux-64::python-3.7.6-h0371630_2\n",
      "  readline           pkgs/main/linux-64::readline-7.0-h7b6447c_5\n",
      "  requests           pkgs/main/linux-64::requests-2.22.0-py37_1\n",
      "  ruamel_yaml        pkgs/main/linux-64::ruamel_yaml-0.15.87-py37h7b6447c_0\n",
      "  setuptools         pkgs/main/linux-64::setuptools-45.2.0-py37_0\n",
      "  six                pkgs/main/linux-64::six-1.14.0-py37_0\n",
      "  sqlite             pkgs/main/linux-64::sqlite-3.31.1-h7b6447c_0\n",
      "  tk                 pkgs/main/linux-64::tk-8.6.8-hbc83047_0\n",
      "  tqdm               pkgs/main/noarch::tqdm-4.42.1-py_0\n",
      "  urllib3            pkgs/main/linux-64::urllib3-1.25.8-py37_0\n",
      "  wheel              pkgs/main/linux-64::wheel-0.34.2-py37_0\n",
      "  xz                 pkgs/main/linux-64::xz-5.2.4-h14c3975_4\n",
      "  yaml               pkgs/main/linux-64::yaml-0.1.7-had09818_2\n",
      "  zlib               pkgs/main/linux-64::zlib-1.2.11-h7b6447c_3\n",
      "\n",
      "\n",
      "Preparing transaction: / \b\b- \b\b\\ \b\b| \b\bdone\n",
      "Executing transaction: - \b\b\\ \b\b| \b\b/ \b\b- \b\b\\ \b\b| \b\b/ \b\b- \b\b\\ \b\b| \b\b/ \b\b- \b\b\\ \b\b| \b\b/ \b\bdone\n",
      "installation finished.\n",
      "WARNING:\n",
      "    You currently have a PYTHONPATH environment variable set. This may cause\n",
      "    unexpected behavior when running the Python interpreter in Miniconda3.\n",
      "    For best results, please verify that your PYTHONPATH only points to\n",
      "    directories of packages that are compatible with the Python interpreter\n",
      "    in Miniconda3: /usr/local\n"
     ]
    }
   ],
   "source": [
    "!wget -c https://repo.anaconda.com/miniconda/Miniconda3-latest-Linux-x86_64.sh\n",
    "!chmod +x Miniconda3-latest-Linux-x86_64.sh\n",
    "!bash ./Miniconda3-latest-Linux-x86_64.sh -b -f -p /usr/local"
   ]
  },
  {
   "cell_type": "code",
   "execution_count": 3,
   "metadata": {
    "colab": {
     "base_uri": "https://localhost:8080/",
     "height": 122
    },
    "colab_type": "code",
    "id": "HeNudKnGpFCJ",
    "outputId": "518273ac-bc22-4c7e-fd17-9e2a95becebe"
   },
   "outputs": [
    {
     "name": "stdout",
     "output_type": "stream",
     "text": [
      "Go to this URL in a browser: https://accounts.google.com/o/oauth2/auth?client_id=947318989803-6bn6qk8qdgf4n4g3pfee6491hc0brc4i.apps.googleusercontent.com&redirect_uri=urn%3aietf%3awg%3aoauth%3a2.0%3aoob&response_type=code&scope=email%20https%3a%2f%2fwww.googleapis.com%2fauth%2fdocs.test%20https%3a%2f%2fwww.googleapis.com%2fauth%2fdrive%20https%3a%2f%2fwww.googleapis.com%2fauth%2fdrive.photos.readonly%20https%3a%2f%2fwww.googleapis.com%2fauth%2fpeopleapi.readonly\n",
      "\n",
      "Enter your authorization code:\n",
      "··········\n",
      "Mounted at /content/drive\n"
     ]
    }
   ],
   "source": [
    "# save the model on the drive\n",
    "from google.colab import drive\n",
    "drive.mount(\"/content/drive\")\n",
    "#!cd 'drive/My Drive'\n",
    "!mkdir --parents 'drive/My Drive/ModelsProtein'"
   ]
  },
  {
   "cell_type": "code",
   "execution_count": 4,
   "metadata": {
    "colab": {
     "base_uri": "https://localhost:8080/",
     "height": 153
    },
    "colab_type": "code",
    "id": "6ghrKBx2K4KE",
    "outputId": "aa90b14c-2823-4d81-b426-a920539fe257"
   },
   "outputs": [
    {
     "name": "stdout",
     "output_type": "stream",
     "text": [
      "rm: cannot remove 'protein-reconstruction': No such file or directory\n",
      "Cloning into 'protein-reconstruction'...\n",
      "remote: Enumerating objects: 293, done.\u001b[K\n",
      "remote: Counting objects: 100% (293/293), done.\u001b[K\n",
      "remote: Compressing objects: 100% (198/198), done.\u001b[K\n",
      "remote: Total 2150 (delta 207), reused 153 (delta 95), pack-reused 1857\u001b[K\n",
      "Receiving objects: 100% (2150/2150), 247.63 MiB | 29.76 MiB/s, done.\n",
      "Resolving deltas: 100% (1328/1328), done.\n"
     ]
    }
   ],
   "source": [
    "# clone repo\n",
    "!rm -r protein-reconstruction\n",
    "!git clone https://github.com/JelenaBanjac/protein-reconstruction.git\n",
    "!cd protein-reconstruction"
   ]
  },
  {
   "cell_type": "code",
   "execution_count": 5,
   "metadata": {
    "colab": {
     "base_uri": "https://localhost:8080/",
     "height": 1000
    },
    "colab_type": "code",
    "id": "LGvnGT0xK4KL",
    "outputId": "6b476986-5f80-4fb5-b173-675e5b361718"
   },
   "outputs": [
    {
     "name": "stdout",
     "output_type": "stream",
     "text": [
      "Collecting package metadata (current_repodata.json): ...working... done\n",
      "Solving environment: ...working... done\n",
      "\n",
      "## Package Plan ##\n",
      "\n",
      "  environment location: /usr/local\n",
      "\n",
      "  added / updated specs:\n",
      "    - ipyvolume\n",
      "\n",
      "\n",
      "The following packages will be downloaded:\n",
      "\n",
      "    package                    |            build\n",
      "    ---------------------------|-----------------\n",
      "    attrs-19.3.0               |             py_0          35 KB  conda-forge\n",
      "    backcall-0.1.0             |             py_0          13 KB  conda-forge\n",
      "    bleach-3.1.5               |     pyh9f0ad1d_0         112 KB  conda-forge\n",
      "    bqplot-0.12.12             |     pyh9f0ad1d_0         3.7 MB  conda-forge\n",
      "    ca-certificates-2020.4.5.2 |       hecda079_0         147 KB  conda-forge\n",
      "    certifi-2020.4.5.2         |   py37hc8dfbb8_0         152 KB  conda-forge\n",
      "    cloudpickle-1.4.1          |             py_0          24 KB  conda-forge\n",
      "    conda-4.8.3                |   py37hc8dfbb8_1         3.0 MB  conda-forge\n",
      "    cycler-0.10.0              |             py_2           9 KB  conda-forge\n",
      "    cytoolz-0.10.1             |   py37h516909a_0         432 KB  conda-forge\n",
      "    dask-core-2.18.1           |             py_0         621 KB  conda-forge\n",
      "    decorator-4.4.2            |             py_0          11 KB  conda-forge\n",
      "    defusedxml-0.6.0           |             py_0          22 KB  conda-forge\n",
      "    entrypoints-0.3            |py37hc8dfbb8_1001          12 KB  conda-forge\n",
      "    freetype-2.10.2            |       he06d7ca_0         905 KB  conda-forge\n",
      "    icu-58.2                   |    hf484d3e_1000        22.6 MB  conda-forge\n",
      "    imagecodecs-lite-2019.12.3 |   py37h03ebfcd_1         188 KB  conda-forge\n",
      "    imageio-2.8.0              |             py_0         3.1 MB  conda-forge\n",
      "    importlib-metadata-1.6.1   |   py37hc8dfbb8_0          44 KB  conda-forge\n",
      "    importlib_metadata-1.6.1   |                0           3 KB  conda-forge\n",
      "    ipydatawidgets-4.0.1       |             py_0         139 KB  conda-forge\n",
      "    ipykernel-5.3.0            |   py37h43977f1_0         164 KB  conda-forge\n",
      "    ipyscales-0.4.0            |             py_1         259 KB  conda-forge\n",
      "    ipython-7.15.0             |   py37hc8dfbb8_0         1.1 MB  conda-forge\n",
      "    ipython_genutils-0.2.0     |             py_1          21 KB  conda-forge\n",
      "    ipyvolume-0.6.0a6          |     pyh9f0ad1d_0         5.1 MB  conda-forge\n",
      "    ipywebrtc-0.5.0            |           py37_0         877 KB  conda-forge\n",
      "    ipywidgets-7.5.1           |             py_0         101 KB  conda-forge\n",
      "    jedi-0.17.0                |   py37hc8dfbb8_0         807 KB  conda-forge\n",
      "    jinja2-2.11.2              |     pyh9f0ad1d_0          93 KB  conda-forge\n",
      "    jpeg-9d                    |       h516909a_0         266 KB  conda-forge\n",
      "    jsonschema-3.2.0           |   py37hc8dfbb8_1          89 KB  conda-forge\n",
      "    jupyter_client-6.1.3       |             py_0          74 KB  conda-forge\n",
      "    jupyter_core-4.6.3         |   py37hc8dfbb8_1          71 KB  conda-forge\n",
      "    kiwisolver-1.2.0           |   py37h99015e2_0          87 KB  conda-forge\n",
      "    libblas-3.8.0              |      14_openblas          10 KB  conda-forge\n",
      "    libcblas-3.8.0             |      14_openblas          10 KB  conda-forge\n",
      "    libgfortran-ng-7.5.0       |       hdf63c60_6         1.7 MB  conda-forge\n",
      "    liblapack-3.8.0            |      14_openblas          10 KB  conda-forge\n",
      "    libopenblas-0.3.7          |       h5ec1e0e_6         7.6 MB  conda-forge\n",
      "    libpng-1.6.37              |       hed695b0_1         308 KB  conda-forge\n",
      "    libsodium-1.0.17           |       h516909a_0         330 KB  conda-forge\n",
      "    libtiff-4.1.0              |       hc7e4089_6         668 KB  conda-forge\n",
      "    libwebp-base-1.1.0         |       h516909a_3         845 KB  conda-forge\n",
      "    lz4-c-1.8.3                |    he1b5a44_1001         187 KB  conda-forge\n",
      "    markupsafe-1.1.1           |   py37h8f50634_1          26 KB  conda-forge\n",
      "    matplotlib-base-3.1.3      |   py37hef1b27d_0         5.0 MB\n",
      "    mistune-0.8.4              |py37h8f50634_1001          53 KB  conda-forge\n",
      "    nbconvert-5.6.1            |   py37hc8dfbb8_1         487 KB  conda-forge\n",
      "    nbformat-5.0.6             |             py_0          99 KB  conda-forge\n",
      "    networkx-2.4               |             py_1         1.2 MB  conda-forge\n",
      "    notebook-6.0.3             |   py37hc8dfbb8_0         6.3 MB  conda-forge\n",
      "    numpy-1.18.5               |   py37h8960a57_0         5.1 MB  conda-forge\n",
      "    olefile-0.46               |             py_0          31 KB  conda-forge\n",
      "    openssl-1.1.1g             |       h516909a_0         2.1 MB  conda-forge\n",
      "    packaging-20.4             |     pyh9f0ad1d_0          32 KB  conda-forge\n",
      "    pandas-1.0.4               |   py37h0da4684_0        10.1 MB  conda-forge\n",
      "    pandoc-2.9.2.1             |                0        18.7 MB  conda-forge\n",
      "    pandocfilters-1.4.2        |             py_1           9 KB  conda-forge\n",
      "    parso-0.7.0                |     pyh9f0ad1d_0          67 KB  conda-forge\n",
      "    pexpect-4.8.0              |   py37hc8dfbb8_1          79 KB  conda-forge\n",
      "    pickleshare-0.7.5          |py37hc8dfbb8_1001          13 KB  conda-forge\n",
      "    pillow-7.1.2               |   py37hb39fc2d_0         603 KB\n",
      "    prometheus_client-0.8.0    |     pyh9f0ad1d_0          44 KB  conda-forge\n",
      "    prompt-toolkit-3.0.5       |             py_0         232 KB  conda-forge\n",
      "    ptyprocess-0.6.0           |          py_1001          15 KB  conda-forge\n",
      "    pygments-2.6.1             |             py_0         683 KB  conda-forge\n",
      "    pyparsing-2.4.7            |     pyh9f0ad1d_0          60 KB  conda-forge\n",
      "    pyrsistent-0.16.0          |   py37h8f50634_0          89 KB  conda-forge\n",
      "    python-dateutil-2.8.1      |             py_0         220 KB  conda-forge\n",
      "    python_abi-3.7             |          1_cp37m           4 KB  conda-forge\n",
      "    pythreejs-2.2.0            |     pyh8c360ce_0         3.8 MB  conda-forge\n",
      "    pytz-2020.1                |     pyh9f0ad1d_0         227 KB  conda-forge\n",
      "    pywavelets-1.1.1           |   py37h03ebfcd_1         4.4 MB  conda-forge\n",
      "    pyyaml-5.1.2               |   py37h516909a_0         184 KB  conda-forge\n",
      "    pyzmq-19.0.1               |   py37hac76be4_0         519 KB  conda-forge\n",
      "    scikit-image-0.17.2        |   py37h0da4684_1        10.8 MB  conda-forge\n",
      "    scipy-1.4.1                |   py37ha3d9a3c_3        18.8 MB  conda-forge\n",
      "    send2trash-1.5.0           |             py_0          12 KB  conda-forge\n",
      "    terminado-0.8.3            |   py37hc8dfbb8_1          23 KB  conda-forge\n",
      "    testpath-0.4.4             |             py_0          85 KB  conda-forge\n",
      "    tifffile-2020.6.3          |             py_0         109 KB  conda-forge\n",
      "    toolz-0.10.0               |             py_0          46 KB  conda-forge\n",
      "    tornado-6.0.4              |   py37h8f50634_1         639 KB  conda-forge\n",
      "    traitlets-4.3.3            |   py37hc8dfbb8_1         133 KB  conda-forge\n",
      "    traittypes-0.2.1           |             py_1           8 KB  conda-forge\n",
      "    wcwidth-0.2.4              |     pyh9f0ad1d_0          33 KB  conda-forge\n",
      "    webencodings-0.5.1         |             py_1          12 KB  conda-forge\n",
      "    widgetsnbextension-3.5.1   |           py37_0         1.8 MB  conda-forge\n",
      "    zeromq-4.3.2               |       he1b5a44_2         668 KB  conda-forge\n",
      "    zipp-3.1.0                 |             py_0          10 KB  conda-forge\n",
      "    zstd-1.4.4                 |       h3b9ef0a_2         982 KB  conda-forge\n",
      "    ------------------------------------------------------------\n",
      "                                           Total:       150.3 MB\n",
      "\n",
      "The following NEW packages will be INSTALLED:\n",
      "\n",
      "  attrs              conda-forge/noarch::attrs-19.3.0-py_0\n",
      "  backcall           conda-forge/noarch::backcall-0.1.0-py_0\n",
      "  bleach             conda-forge/noarch::bleach-3.1.5-pyh9f0ad1d_0\n",
      "  bqplot             conda-forge/noarch::bqplot-0.12.12-pyh9f0ad1d_0\n",
      "  cloudpickle        conda-forge/noarch::cloudpickle-1.4.1-py_0\n",
      "  cycler             conda-forge/noarch::cycler-0.10.0-py_2\n",
      "  cytoolz            conda-forge/linux-64::cytoolz-0.10.1-py37h516909a_0\n",
      "  dask-core          conda-forge/noarch::dask-core-2.18.1-py_0\n",
      "  decorator          conda-forge/noarch::decorator-4.4.2-py_0\n",
      "  defusedxml         conda-forge/noarch::defusedxml-0.6.0-py_0\n",
      "  entrypoints        conda-forge/linux-64::entrypoints-0.3-py37hc8dfbb8_1001\n",
      "  freetype           conda-forge/linux-64::freetype-2.10.2-he06d7ca_0\n",
      "  icu                conda-forge/linux-64::icu-58.2-hf484d3e_1000\n",
      "  imagecodecs-lite   conda-forge/linux-64::imagecodecs-lite-2019.12.3-py37h03ebfcd_1\n",
      "  imageio            conda-forge/noarch::imageio-2.8.0-py_0\n",
      "  importlib-metadata conda-forge/linux-64::importlib-metadata-1.6.1-py37hc8dfbb8_0\n",
      "  importlib_metadata conda-forge/noarch::importlib_metadata-1.6.1-0\n",
      "  ipydatawidgets     conda-forge/noarch::ipydatawidgets-4.0.1-py_0\n",
      "  ipykernel          conda-forge/linux-64::ipykernel-5.3.0-py37h43977f1_0\n",
      "  ipyscales          conda-forge/noarch::ipyscales-0.4.0-py_1\n",
      "  ipython            conda-forge/linux-64::ipython-7.15.0-py37hc8dfbb8_0\n",
      "  ipython_genutils   conda-forge/noarch::ipython_genutils-0.2.0-py_1\n",
      "  ipyvolume          conda-forge/noarch::ipyvolume-0.6.0a6-pyh9f0ad1d_0\n",
      "  ipywebrtc          conda-forge/linux-64::ipywebrtc-0.5.0-py37_0\n",
      "  ipywidgets         conda-forge/noarch::ipywidgets-7.5.1-py_0\n",
      "  jedi               conda-forge/linux-64::jedi-0.17.0-py37hc8dfbb8_0\n",
      "  jinja2             conda-forge/noarch::jinja2-2.11.2-pyh9f0ad1d_0\n",
      "  jpeg               conda-forge/linux-64::jpeg-9d-h516909a_0\n",
      "  jsonschema         conda-forge/linux-64::jsonschema-3.2.0-py37hc8dfbb8_1\n",
      "  jupyter_client     conda-forge/noarch::jupyter_client-6.1.3-py_0\n",
      "  jupyter_core       conda-forge/linux-64::jupyter_core-4.6.3-py37hc8dfbb8_1\n",
      "  kiwisolver         conda-forge/linux-64::kiwisolver-1.2.0-py37h99015e2_0\n",
      "  libblas            conda-forge/linux-64::libblas-3.8.0-14_openblas\n",
      "  libcblas           conda-forge/linux-64::libcblas-3.8.0-14_openblas\n",
      "  libgfortran-ng     conda-forge/linux-64::libgfortran-ng-7.5.0-hdf63c60_6\n",
      "  liblapack          conda-forge/linux-64::liblapack-3.8.0-14_openblas\n",
      "  libopenblas        conda-forge/linux-64::libopenblas-0.3.7-h5ec1e0e_6\n",
      "  libpng             conda-forge/linux-64::libpng-1.6.37-hed695b0_1\n",
      "  libsodium          conda-forge/linux-64::libsodium-1.0.17-h516909a_0\n",
      "  libtiff            conda-forge/linux-64::libtiff-4.1.0-hc7e4089_6\n",
      "  libwebp-base       conda-forge/linux-64::libwebp-base-1.1.0-h516909a_3\n",
      "  lz4-c              conda-forge/linux-64::lz4-c-1.8.3-he1b5a44_1001\n",
      "  markupsafe         conda-forge/linux-64::markupsafe-1.1.1-py37h8f50634_1\n",
      "  matplotlib-base    pkgs/main/linux-64::matplotlib-base-3.1.3-py37hef1b27d_0\n",
      "  mistune            conda-forge/linux-64::mistune-0.8.4-py37h8f50634_1001\n",
      "  nbconvert          conda-forge/linux-64::nbconvert-5.6.1-py37hc8dfbb8_1\n",
      "  nbformat           conda-forge/noarch::nbformat-5.0.6-py_0\n",
      "  networkx           conda-forge/noarch::networkx-2.4-py_1\n",
      "  notebook           conda-forge/linux-64::notebook-6.0.3-py37hc8dfbb8_0\n",
      "  numpy              conda-forge/linux-64::numpy-1.18.5-py37h8960a57_0\n",
      "  olefile            conda-forge/noarch::olefile-0.46-py_0\n",
      "  packaging          conda-forge/noarch::packaging-20.4-pyh9f0ad1d_0\n",
      "  pandas             conda-forge/linux-64::pandas-1.0.4-py37h0da4684_0\n",
      "  pandoc             conda-forge/linux-64::pandoc-2.9.2.1-0\n",
      "  pandocfilters      conda-forge/noarch::pandocfilters-1.4.2-py_1\n",
      "  parso              conda-forge/noarch::parso-0.7.0-pyh9f0ad1d_0\n",
      "  pexpect            conda-forge/linux-64::pexpect-4.8.0-py37hc8dfbb8_1\n",
      "  pickleshare        conda-forge/linux-64::pickleshare-0.7.5-py37hc8dfbb8_1001\n",
      "  pillow             pkgs/main/linux-64::pillow-7.1.2-py37hb39fc2d_0\n",
      "  prometheus_client  conda-forge/noarch::prometheus_client-0.8.0-pyh9f0ad1d_0\n",
      "  prompt-toolkit     conda-forge/noarch::prompt-toolkit-3.0.5-py_0\n",
      "  ptyprocess         conda-forge/noarch::ptyprocess-0.6.0-py_1001\n",
      "  pygments           conda-forge/noarch::pygments-2.6.1-py_0\n",
      "  pyparsing          conda-forge/noarch::pyparsing-2.4.7-pyh9f0ad1d_0\n",
      "  pyrsistent         conda-forge/linux-64::pyrsistent-0.16.0-py37h8f50634_0\n",
      "  python-dateutil    conda-forge/noarch::python-dateutil-2.8.1-py_0\n",
      "  python_abi         conda-forge/linux-64::python_abi-3.7-1_cp37m\n",
      "  pythreejs          conda-forge/noarch::pythreejs-2.2.0-pyh8c360ce_0\n",
      "  pytz               conda-forge/noarch::pytz-2020.1-pyh9f0ad1d_0\n",
      "  pywavelets         conda-forge/linux-64::pywavelets-1.1.1-py37h03ebfcd_1\n",
      "  pyyaml             conda-forge/linux-64::pyyaml-5.1.2-py37h516909a_0\n",
      "  pyzmq              conda-forge/linux-64::pyzmq-19.0.1-py37hac76be4_0\n",
      "  scikit-image       conda-forge/linux-64::scikit-image-0.17.2-py37h0da4684_1\n",
      "  scipy              conda-forge/linux-64::scipy-1.4.1-py37ha3d9a3c_3\n",
      "  send2trash         conda-forge/noarch::send2trash-1.5.0-py_0\n",
      "  terminado          conda-forge/linux-64::terminado-0.8.3-py37hc8dfbb8_1\n",
      "  testpath           conda-forge/noarch::testpath-0.4.4-py_0\n",
      "  tifffile           conda-forge/noarch::tifffile-2020.6.3-py_0\n",
      "  toolz              conda-forge/noarch::toolz-0.10.0-py_0\n",
      "  tornado            conda-forge/linux-64::tornado-6.0.4-py37h8f50634_1\n",
      "  traitlets          conda-forge/linux-64::traitlets-4.3.3-py37hc8dfbb8_1\n",
      "  traittypes         conda-forge/noarch::traittypes-0.2.1-py_1\n",
      "  wcwidth            conda-forge/noarch::wcwidth-0.2.4-pyh9f0ad1d_0\n",
      "  webencodings       conda-forge/noarch::webencodings-0.5.1-py_1\n",
      "  widgetsnbextension conda-forge/linux-64::widgetsnbextension-3.5.1-py37_0\n",
      "  zeromq             conda-forge/linux-64::zeromq-4.3.2-he1b5a44_2\n",
      "  zipp               conda-forge/noarch::zipp-3.1.0-py_0\n",
      "  zstd               conda-forge/linux-64::zstd-1.4.4-h3b9ef0a_2\n",
      "\n",
      "The following packages will be UPDATED:\n",
      "\n",
      "  ca-certificates     pkgs/main::ca-certificates-2020.1.1-0 --> conda-forge::ca-certificates-2020.4.5.2-hecda079_0\n",
      "  certifi              pkgs/main::certifi-2019.11.28-py37_0 --> conda-forge::certifi-2020.4.5.2-py37hc8dfbb8_0\n",
      "  conda                       pkgs/main::conda-4.8.2-py37_0 --> conda-forge::conda-4.8.3-py37hc8dfbb8_1\n",
      "  openssl              pkgs/main::openssl-1.1.1d-h7b6447c_4 --> conda-forge::openssl-1.1.1g-h516909a_0\n",
      "\n",
      "\n",
      "Preparing transaction: ...working... done\n",
      "Verifying transaction: ...working... done\n",
      "Executing transaction: ...working... b'Enabling notebook extension jupyter-js-widgets/extension...\\nPaths used for configuration of notebook: \\n    \\t/usr/local/etc/jupyter/nbconfig/notebook.d/bqplot.json\\n    \\t/usr/local/etc/jupyter/nbconfig/notebook.d/ipyvolume.json\\n    \\t/usr/local/etc/jupyter/nbconfig/notebook.d/ipywebrtc.json\\n    \\t/usr/local/etc/jupyter/nbconfig/notebook.d/jupyter-datawidgets.json\\n    \\t/usr/local/etc/jupyter/nbconfig/notebook.d/jupyter-threejs.json\\n    \\t/usr/local/etc/jupyter/nbconfig/notebook.d/plotlywidget.json\\n    \\t/usr/local/etc/jupyter/nbconfig/notebook.d/widgetsnbextension.json\\n    \\t/usr/local/etc/jupyter/nbconfig/notebook.json\\nPaths used for configuration of notebook: \\n    \\t/usr/local/etc/jupyter/nbconfig/notebook.d/bqplot.json\\n    \\t/usr/local/etc/jupyter/nbconfig/notebook.d/ipyvolume.json\\n    \\t/usr/local/etc/jupyter/nbconfig/notebook.d/ipywebrtc.json\\n    \\t/usr/local/etc/jupyter/nbconfig/notebook.d/jupyter-datawidgets.json\\n    \\t/usr/local/etc/jupyter/nbconfig/notebook.d/jupyter-threejs.json\\n    \\t/usr/local/etc/jupyter/nbconfig/notebook.d/plotlywidget.json\\n    \\t/usr/local/etc/jupyter/nbconfig/notebook.d/widgetsnbextension.json\\n      - Validating: \\x1b[32mOK\\x1b[0m\\nPaths used for configuration of notebook: \\n    \\t/usr/local/etc/jupyter/nbconfig/notebook.d/bqplot.json\\n    \\t/usr/local/etc/jupyter/nbconfig/notebook.d/ipyvolume.json\\n    \\t/usr/local/etc/jupyter/nbconfig/notebook.d/ipywebrtc.json\\n    \\t/usr/local/etc/jupyter/nbconfig/notebook.d/jupyter-datawidgets.json\\n    \\t/usr/local/etc/jupyter/nbconfig/notebook.d/jupyter-threejs.json\\n    \\t/usr/local/etc/jupyter/nbconfig/notebook.d/plotlywidget.json\\n    \\t/usr/local/etc/jupyter/nbconfig/notebook.d/widgetsnbextension.json\\n    \\t/usr/local/etc/jupyter/nbconfig/notebook.json\\n'\n",
      "done\n",
      "Collecting tensorflow-graphics-gpu\n",
      "\u001b[?25l  Downloading https://files.pythonhosted.org/packages/94/51/28fba58d7b6b7cd94a11176d6428fa7fd4813ba47755f7a85e32f9b6c240/tensorflow_graphics_gpu-1.0.0-py2.py3-none-any.whl (243kB)\n",
      "\u001b[K     |████████████████████████████████| 245kB 1.9MB/s \n",
      "\u001b[?25hRequirement already satisfied: scipy>=1.1.0 in /usr/local/lib/python3.6/dist-packages (from tensorflow-graphics-gpu) (1.4.1)\n",
      "Requirement already satisfied: six>=1.11.0 in /usr/local/lib/python3.6/dist-packages (from tensorflow-graphics-gpu) (1.12.0)\n",
      "Requirement already satisfied: absl-py>=0.6.1 in /usr/local/lib/python3.6/dist-packages (from tensorflow-graphics-gpu) (0.9.0)\n",
      "Requirement already satisfied: numpy>=1.15.4 in /usr/local/lib/python3.6/dist-packages (from tensorflow-graphics-gpu) (1.18.5)\n",
      "Collecting tensorflow-gpu>=1.13.1\n",
      "\u001b[?25l  Downloading https://files.pythonhosted.org/packages/31/bf/c28971266ca854a64f4b26f07c4112ddd61f30b4d1f18108b954a746f8ea/tensorflow_gpu-2.2.0-cp36-cp36m-manylinux2010_x86_64.whl (516.2MB)\n",
      "\u001b[K     |████████████████████████████████| 516.2MB 35kB/s \n",
      "\u001b[?25hRequirement already satisfied: gast==0.3.3 in /usr/local/lib/python3.6/dist-packages (from tensorflow-gpu>=1.13.1->tensorflow-graphics-gpu) (0.3.3)\n",
      "Requirement already satisfied: astunparse==1.6.3 in /usr/local/lib/python3.6/dist-packages (from tensorflow-gpu>=1.13.1->tensorflow-graphics-gpu) (1.6.3)\n",
      "Requirement already satisfied: tensorflow-estimator<2.3.0,>=2.2.0 in /usr/local/lib/python3.6/dist-packages (from tensorflow-gpu>=1.13.1->tensorflow-graphics-gpu) (2.2.0)\n",
      "Requirement already satisfied: grpcio>=1.8.6 in /usr/local/lib/python3.6/dist-packages (from tensorflow-gpu>=1.13.1->tensorflow-graphics-gpu) (1.29.0)\n",
      "Requirement already satisfied: protobuf>=3.8.0 in /usr/local/lib/python3.6/dist-packages (from tensorflow-gpu>=1.13.1->tensorflow-graphics-gpu) (3.10.0)\n",
      "Requirement already satisfied: termcolor>=1.1.0 in /usr/local/lib/python3.6/dist-packages (from tensorflow-gpu>=1.13.1->tensorflow-graphics-gpu) (1.1.0)\n",
      "Requirement already satisfied: keras-preprocessing>=1.1.0 in /usr/local/lib/python3.6/dist-packages (from tensorflow-gpu>=1.13.1->tensorflow-graphics-gpu) (1.1.2)\n",
      "Requirement already satisfied: h5py<2.11.0,>=2.10.0 in /usr/local/lib/python3.6/dist-packages (from tensorflow-gpu>=1.13.1->tensorflow-graphics-gpu) (2.10.0)\n",
      "Requirement already satisfied: wrapt>=1.11.1 in /usr/local/lib/python3.6/dist-packages (from tensorflow-gpu>=1.13.1->tensorflow-graphics-gpu) (1.12.1)\n",
      "Requirement already satisfied: google-pasta>=0.1.8 in /usr/local/lib/python3.6/dist-packages (from tensorflow-gpu>=1.13.1->tensorflow-graphics-gpu) (0.2.0)\n",
      "Requirement already satisfied: wheel>=0.26; python_version >= \"3\" in /usr/local/lib/python3.6/dist-packages (from tensorflow-gpu>=1.13.1->tensorflow-graphics-gpu) (0.34.2)\n",
      "Requirement already satisfied: opt-einsum>=2.3.2 in /usr/local/lib/python3.6/dist-packages (from tensorflow-gpu>=1.13.1->tensorflow-graphics-gpu) (3.2.1)\n",
      "Requirement already satisfied: tensorboard<2.3.0,>=2.2.0 in /usr/local/lib/python3.6/dist-packages (from tensorflow-gpu>=1.13.1->tensorflow-graphics-gpu) (2.2.2)\n",
      "Requirement already satisfied: setuptools in /usr/local/lib/python3.6/dist-packages (from protobuf>=3.8.0->tensorflow-gpu>=1.13.1->tensorflow-graphics-gpu) (47.1.1)\n",
      "Requirement already satisfied: werkzeug>=0.11.15 in /usr/local/lib/python3.6/dist-packages (from tensorboard<2.3.0,>=2.2.0->tensorflow-gpu>=1.13.1->tensorflow-graphics-gpu) (1.0.1)\n",
      "Requirement already satisfied: requests<3,>=2.21.0 in /usr/local/lib/python3.6/dist-packages (from tensorboard<2.3.0,>=2.2.0->tensorflow-gpu>=1.13.1->tensorflow-graphics-gpu) (2.23.0)\n",
      "Requirement already satisfied: google-auth-oauthlib<0.5,>=0.4.1 in /usr/local/lib/python3.6/dist-packages (from tensorboard<2.3.0,>=2.2.0->tensorflow-gpu>=1.13.1->tensorflow-graphics-gpu) (0.4.1)\n",
      "Requirement already satisfied: google-auth<2,>=1.6.3 in /usr/local/lib/python3.6/dist-packages (from tensorboard<2.3.0,>=2.2.0->tensorflow-gpu>=1.13.1->tensorflow-graphics-gpu) (1.7.2)\n",
      "Requirement already satisfied: tensorboard-plugin-wit>=1.6.0 in /usr/local/lib/python3.6/dist-packages (from tensorboard<2.3.0,>=2.2.0->tensorflow-gpu>=1.13.1->tensorflow-graphics-gpu) (1.6.0.post3)\n",
      "Requirement already satisfied: markdown>=2.6.8 in /usr/local/lib/python3.6/dist-packages (from tensorboard<2.3.0,>=2.2.0->tensorflow-gpu>=1.13.1->tensorflow-graphics-gpu) (3.2.2)\n",
      "Requirement already satisfied: idna<3,>=2.5 in /usr/local/lib/python3.6/dist-packages (from requests<3,>=2.21.0->tensorboard<2.3.0,>=2.2.0->tensorflow-gpu>=1.13.1->tensorflow-graphics-gpu) (2.9)\n",
      "Requirement already satisfied: urllib3!=1.25.0,!=1.25.1,<1.26,>=1.21.1 in /usr/local/lib/python3.6/dist-packages (from requests<3,>=2.21.0->tensorboard<2.3.0,>=2.2.0->tensorflow-gpu>=1.13.1->tensorflow-graphics-gpu) (1.24.3)\n",
      "Requirement already satisfied: chardet<4,>=3.0.2 in /usr/local/lib/python3.6/dist-packages (from requests<3,>=2.21.0->tensorboard<2.3.0,>=2.2.0->tensorflow-gpu>=1.13.1->tensorflow-graphics-gpu) (3.0.4)\n",
      "Requirement already satisfied: certifi>=2017.4.17 in /usr/local/lib/python3.6/dist-packages (from requests<3,>=2.21.0->tensorboard<2.3.0,>=2.2.0->tensorflow-gpu>=1.13.1->tensorflow-graphics-gpu) (2020.4.5.1)\n",
      "Requirement already satisfied: requests-oauthlib>=0.7.0 in /usr/local/lib/python3.6/dist-packages (from google-auth-oauthlib<0.5,>=0.4.1->tensorboard<2.3.0,>=2.2.0->tensorflow-gpu>=1.13.1->tensorflow-graphics-gpu) (1.3.0)\n",
      "Requirement already satisfied: rsa<4.1,>=3.1.4 in /usr/local/lib/python3.6/dist-packages (from google-auth<2,>=1.6.3->tensorboard<2.3.0,>=2.2.0->tensorflow-gpu>=1.13.1->tensorflow-graphics-gpu) (4.0)\n",
      "Requirement already satisfied: cachetools<3.2,>=2.0.0 in /usr/local/lib/python3.6/dist-packages (from google-auth<2,>=1.6.3->tensorboard<2.3.0,>=2.2.0->tensorflow-gpu>=1.13.1->tensorflow-graphics-gpu) (3.1.1)\n",
      "Requirement already satisfied: pyasn1-modules>=0.2.1 in /usr/local/lib/python3.6/dist-packages (from google-auth<2,>=1.6.3->tensorboard<2.3.0,>=2.2.0->tensorflow-gpu>=1.13.1->tensorflow-graphics-gpu) (0.2.8)\n",
      "Requirement already satisfied: importlib-metadata; python_version < \"3.8\" in /usr/local/lib/python3.6/dist-packages (from markdown>=2.6.8->tensorboard<2.3.0,>=2.2.0->tensorflow-gpu>=1.13.1->tensorflow-graphics-gpu) (1.6.0)\n",
      "Requirement already satisfied: oauthlib>=3.0.0 in /usr/local/lib/python3.6/dist-packages (from requests-oauthlib>=0.7.0->google-auth-oauthlib<0.5,>=0.4.1->tensorboard<2.3.0,>=2.2.0->tensorflow-gpu>=1.13.1->tensorflow-graphics-gpu) (3.1.0)\n",
      "Requirement already satisfied: pyasn1>=0.1.3 in /usr/local/lib/python3.6/dist-packages (from rsa<4.1,>=3.1.4->google-auth<2,>=1.6.3->tensorboard<2.3.0,>=2.2.0->tensorflow-gpu>=1.13.1->tensorflow-graphics-gpu) (0.4.8)\n",
      "Requirement already satisfied: zipp>=0.5 in /usr/local/lib/python3.6/dist-packages (from importlib-metadata; python_version < \"3.8\"->markdown>=2.6.8->tensorboard<2.3.0,>=2.2.0->tensorflow-gpu>=1.13.1->tensorflow-graphics-gpu) (3.1.0)\n",
      "Installing collected packages: tensorflow-gpu, tensorflow-graphics-gpu\n",
      "Successfully installed tensorflow-gpu-2.2.0 tensorflow-graphics-gpu-1.0.0\n"
     ]
    }
   ],
   "source": [
    "#!conda env create -f environment.yml \n",
    "!conda install -q -y --prefix /usr/local -c conda-forge ipyvolume\n",
    "!pip3 install tensorflow-graphics-gpu"
   ]
  },
  {
   "cell_type": "code",
   "execution_count": 0,
   "metadata": {
    "colab": {},
    "colab_type": "code",
    "id": "VZDmNWzdK4KO"
   },
   "outputs": [],
   "source": [
    "import sys\n",
    "sys.path.append('/usr/local/lib/python3.7/site-packages')\n",
    "sys.path.append(\"protein-reconstruction\") "
   ]
  },
  {
   "cell_type": "code",
   "execution_count": 7,
   "metadata": {
    "colab": {
     "base_uri": "https://localhost:8080/",
     "height": 34
    },
    "colab_type": "code",
    "id": "Zro6bM3VK4KR",
    "outputId": "4874c64e-c37b-447b-df9f-79868c3c465c"
   },
   "outputs": [
    {
     "name": "stdout",
     "output_type": "stream",
     "text": [
      "Python 3.7.6\n"
     ]
    }
   ],
   "source": [
    "!python --version"
   ]
  },
  {
   "cell_type": "markdown",
   "metadata": {
    "colab_type": "text",
    "id": "787rPWn8K4KU"
   },
   "source": [
    "## Start the Pipeline"
   ]
  },
  {
   "cell_type": "code",
   "execution_count": 8,
   "metadata": {
    "colab": {
     "base_uri": "https://localhost:8080/",
     "height": 88
    },
    "colab_type": "code",
    "id": "06JQ1KmQK4KV",
    "outputId": "60a26d71-e3f4-42ef-d08b-6b8d06a67c56"
   },
   "outputs": [
    {
     "name": "stderr",
     "output_type": "stream",
     "text": [
      "/usr/local/lib/python3.6/dist-packages/statsmodels/tools/_testing.py:19: FutureWarning: pandas.util.testing is deprecated. Use the functions in the public API at pandas.testing instead.\n",
      "  import pandas.util.testing as tm\n",
      "Warning: To use the exr data format, please install the OpenEXR package following the instructions detailed in the README at github.com/tensorflow/graphics.\n"
     ]
    }
   ],
   "source": [
    "import os\n",
    "import h5py\n",
    "import numpy as np\n",
    "import time\n",
    "import pandas as pd\n",
    "\n",
    "\n",
    "from cryoem.plots import plot_angles_count, plot_images\n",
    "from IPython.display import Image\n",
    "import matplotlib.pyplot as plt\n",
    "\n",
    "import tensorflow as tf\n",
    "from cryoem.conversions import d_q, euler2quaternion\n",
    "import ipyvolume as ipv\n",
    "from collections import Counter\n",
    "import itertools\n",
    "import seaborn as sns; sns.set(style=\"white\", color_codes=True)\n",
    "import io"
   ]
  },
  {
   "cell_type": "code",
   "execution_count": 9,
   "metadata": {
    "colab": {
     "base_uri": "https://localhost:8080/",
     "height": 34
    },
    "colab_type": "code",
    "id": "m9Os8XDOK4KY",
    "outputId": "59a38613-5332-42e9-e824-352c5f863d63"
   },
   "outputs": [
    {
     "data": {
      "text/plain": [
       "'2.2.0'"
      ]
     },
     "execution_count": 9,
     "metadata": {
      "tags": []
     },
     "output_type": "execute_result"
    }
   ],
   "source": [
    "tf.__version__"
   ]
  },
  {
   "cell_type": "code",
   "execution_count": 10,
   "metadata": {
    "colab": {
     "base_uri": "https://localhost:8080/",
     "height": 564
    },
    "colab_type": "code",
    "id": "ShUD7yqTK4Kb",
    "outputId": "b1bdd1aa-4548-4e18-c8bb-3cca6d365861"
   },
   "outputs": [
    {
     "name": "stdout",
     "output_type": "stream",
     "text": [
      "[name: \"/device:CPU:0\"\n",
      "device_type: \"CPU\"\n",
      "memory_limit: 268435456\n",
      "locality {\n",
      "}\n",
      "incarnation: 3322978293477991068\n",
      ", name: \"/device:XLA_CPU:0\"\n",
      "device_type: \"XLA_CPU\"\n",
      "memory_limit: 17179869184\n",
      "locality {\n",
      "}\n",
      "incarnation: 1828888259090260822\n",
      "physical_device_desc: \"device: XLA_CPU device\"\n",
      ", name: \"/device:XLA_GPU:0\"\n",
      "device_type: \"XLA_GPU\"\n",
      "memory_limit: 17179869184\n",
      "locality {\n",
      "}\n",
      "incarnation: 12384935027252964630\n",
      "physical_device_desc: \"device: XLA_GPU device\"\n",
      ", name: \"/device:GPU:0\"\n",
      "device_type: \"GPU\"\n",
      "memory_limit: 15788201792\n",
      "locality {\n",
      "  bus_id: 1\n",
      "  links {\n",
      "  }\n",
      "}\n",
      "incarnation: 6623416139487927886\n",
      "physical_device_desc: \"device: 0, name: Tesla P100-PCIE-16GB, pci bus id: 0000:00:04.0, compute capability: 6.0\"\n",
      "]\n"
     ]
    }
   ],
   "source": [
    "from tensorflow.python.client import device_lib \n",
    "print(device_lib.list_local_devices())"
   ]
  },
  {
   "cell_type": "code",
   "execution_count": 0,
   "metadata": {
    "colab": {},
    "colab_type": "code",
    "id": "kZFVlYW4K4Ke"
   },
   "outputs": [],
   "source": [
    "PROTEIN=\"5a1a\"\n",
    "NUM_PROJECTIONS = 5000\n",
    "\n",
    "NOISY_VAR = 0 # vary from 1 to 10\n",
    "path_logs_training = \"/content/drive/My Drive/ModelsProtein\"\n",
    "training_description = f\"noisy_var{NOISY_VAR}_{PROTEIN}\""
   ]
  },
  {
   "cell_type": "code",
   "execution_count": 12,
   "metadata": {
    "colab": {
     "base_uri": "https://localhost:8080/",
     "height": 51
    },
    "colab_type": "code",
    "id": "-q8GWm2EK4Kh",
    "outputId": "b436fbbf-5d42-4a94-d890-0636dae03268"
   },
   "outputs": [
    {
     "name": "stdout",
     "output_type": "stream",
     "text": [
      "5000 projections of images with dimension (116, 116) pixels\n",
      "5000 sets of 3 ground truth angles of corresponding projection images\n"
     ]
    }
   ],
   "source": [
    "# TODO: dataset name\n",
    "projections_filename = f\"{PROTEIN}_ProjectionsAngles_ProjNber5000_AngCoverage2.0,0.4,2.0_AngShift0.0,0.0,0.0.h5\"\n",
    "\n",
    "# load structures\n",
    "data = h5py.File(os.path.join(path_logs_training, projections_filename), 'r')\n",
    "\n",
    "print(f\"{data['Projections'].shape[0]} projections of images with dimension {data['Projections'].shape[1:]} pixels\")\n",
    "print(f\"{data['Angles'].shape[0]} sets of {data['Angles'].shape[1]} ground truth angles of corresponding projection images\")"
   ]
  },
  {
   "cell_type": "code",
   "execution_count": 13,
   "metadata": {
    "colab": {
     "base_uri": "https://localhost:8080/",
     "height": 34
    },
    "colab_type": "code",
    "id": "2zARA9L2K4Kj",
    "outputId": "e6965c72-e481-4dd3-ede0-36dd262a3cdc"
   },
   "outputs": [
    {
     "data": {
      "text/plain": [
       "(5000, 116, 116)"
      ]
     },
     "execution_count": 13,
     "metadata": {
      "tags": []
     },
     "output_type": "execute_result"
    }
   ],
   "source": [
    "projections = data['Projections']\n",
    "projections.shape"
   ]
  },
  {
   "cell_type": "code",
   "execution_count": 14,
   "metadata": {
    "colab": {
     "base_uri": "https://localhost:8080/",
     "height": 271
    },
    "colab_type": "code",
    "id": "bIQzyIQnxgts",
    "outputId": "bcf9106f-a1e0-44a0-e882-4aff1b52dd13"
   },
   "outputs": [
    {
     "data": {
      "image/png": "[encoded data removed]",
      "text/plain": [
       "<Figure size 432x288 with 1 Axes>"
      ]
     },
     "metadata": {
      "tags": []
     },
     "output_type": "display_data"
    }
   ],
   "source": [
    "sampleProj = projections[1,:,:]\n",
    "plt.imshow(sampleProj,cmap='gray')\n",
    "plt.show()"
   ]
  },
  {
   "cell_type": "code",
   "execution_count": 0,
   "metadata": {
    "colab": {},
    "colab_type": "code",
    "id": "PpprtZ8vwc39"
   },
   "outputs": [],
   "source": [
    "def addGaussianNoise(projections, noise_var):\n",
    "    noise_sigma   = noise_var**0.5\n",
    "    nproj,row,col = projections.shape\n",
    "    gauss_noise   = np.random.normal(0,noise_sigma,(nproj,row,col))\n",
    "    gauss_noise   = gauss_noise.reshape(nproj,row,col) \n",
    "    projections   = projections + gauss_noise\n",
    "    return projections"
   ]
  },
  {
   "cell_type": "code",
   "execution_count": 0,
   "metadata": {
    "colab": {},
    "colab_type": "code",
    "id": "oCD6IwpOr3_A"
   },
   "outputs": [],
   "source": [
    "# Add zero-mean Gaussian noise on the projections \n",
    "projections = addGaussianNoise(projections, NOISY_VAR)"
   ]
  },
  {
   "cell_type": "code",
   "execution_count": 17,
   "metadata": {
    "colab": {
     "base_uri": "https://localhost:8080/",
     "height": 271
    },
    "colab_type": "code",
    "id": "qR8J0QCmxG-y",
    "outputId": "6f992c93-f1e6-4d24-b132-4ad6d20ba4b3"
   },
   "outputs": [
    {
     "data": {
      "image/png": "[encoded data removed]",
      "text/plain": [
       "<Figure size 432x288 with 1 Axes>"
      ]
     },
     "metadata": {
      "tags": []
     },
     "output_type": "display_data"
    }
   ],
   "source": [
    "# Display projections with/out noise (for comparison)\n",
    "sampleProj = projections[1,:,:]\n",
    "plt.imshow(sampleProj,cmap='gray')\n",
    "plt.show()"
   ]
  },
  {
   "cell_type": "code",
   "execution_count": 18,
   "metadata": {
    "colab": {
     "base_uri": "https://localhost:8080/",
     "height": 34
    },
    "colab_type": "code",
    "id": "X_voGDMSK4Kn",
    "outputId": "cdc1c174-eeff-40df-b905-33ec1cf2c743",
    "scrolled": true
   },
   "outputs": [
    {
     "data": {
      "text/plain": [
       "(5000, 3)"
      ]
     },
     "execution_count": 18,
     "metadata": {
      "tags": []
     },
     "output_type": "execute_result"
    }
   ],
   "source": [
    "angles_true = np.array(data['Angles'])\n",
    "angles_true.shape"
   ]
  },
  {
   "cell_type": "code",
   "execution_count": 0,
   "metadata": {
    "colab": {},
    "colab_type": "code",
    "id": "WJvZ8_XPK4Kp"
   },
   "outputs": [],
   "source": [
    "#plot_images(angles_true, projections, range(100), img_size_scale=0.05)"
   ]
  },
  {
   "cell_type": "code",
   "execution_count": 0,
   "metadata": {
    "colab": {},
    "colab_type": "code",
    "id": "Z-CMl6nMK4Ks"
   },
   "outputs": [],
   "source": [
    "#ipv.screenshot()"
   ]
  },
  {
   "cell_type": "markdown",
   "metadata": {
    "colab_type": "text",
    "id": "xJhOqdOnK4Kv"
   },
   "source": [
    "---"
   ]
  },
  {
   "cell_type": "markdown",
   "metadata": {
    "colab_type": "text",
    "id": "5-mkqsaEK4Kw"
   },
   "source": [
    "## Prepare for training"
   ]
  },
  {
   "cell_type": "code",
   "execution_count": 0,
   "metadata": {
    "colab": {},
    "colab_type": "code",
    "id": "r_RDAMqvK4Kw"
   },
   "outputs": [],
   "source": [
    "from sklearn.model_selection import train_test_split"
   ]
  },
  {
   "cell_type": "code",
   "execution_count": 0,
   "metadata": {
    "colab": {},
    "colab_type": "code",
    "id": "O_lxJ3huK4K0"
   },
   "outputs": [],
   "source": [
    "X, y = np.array(projections, dtype=np.float32), np.array(angles_true, dtype=np.float32)"
   ]
  },
  {
   "cell_type": "markdown",
   "metadata": {
    "colab_type": "text",
    "id": "4f-dUZ4kK4K3"
   },
   "source": [
    "#### Global standardization of projections"
   ]
  },
  {
   "cell_type": "code",
   "execution_count": 0,
   "metadata": {
    "colab": {},
    "colab_type": "code",
    "id": "X6A3wHMVK4K3"
   },
   "outputs": [],
   "source": [
    "from cryoem.distance_estimation import global_standardization"
   ]
  },
  {
   "cell_type": "code",
   "execution_count": 24,
   "metadata": {
    "colab": {
     "base_uri": "https://localhost:8080/",
     "height": 0
    },
    "colab_type": "code",
    "id": "3pRAKWKmK4K6",
    "outputId": "dea21265-4d83-4e8e-c58b-41eb409b0eda"
   },
   "outputs": [
    {
     "name": "stdout",
     "output_type": "stream",
     "text": [
      "Image shape: (116, 116)\n",
      "Data Type: float32\n",
      "***\n",
      "Mean: 0.262 | Std: 3.331\n",
      "Min:  -17.532 | Max: 25.012\n",
      "Mean: 0.000 | Std: 1.000\n",
      "Min:  -5.342 | Max: 7.430\n"
     ]
    }
   ],
   "source": [
    "X = global_standardization(X)"
   ]
  },
  {
   "cell_type": "code",
   "execution_count": 0,
   "metadata": {
    "colab": {},
    "colab_type": "code",
    "id": "lVRXjdE3K4K9"
   },
   "outputs": [],
   "source": [
    "test_size = 0.33\n",
    "val_size = 0.25"
   ]
  },
  {
   "cell_type": "code",
   "execution_count": 26,
   "metadata": {
    "colab": {
     "base_uri": "https://localhost:8080/",
     "height": 0
    },
    "colab_type": "code",
    "id": "fRyiZcWPK4LC",
    "outputId": "c5fff820-f424-40b5-8762-a94656b200ff"
   },
   "outputs": [
    {
     "name": "stdout",
     "output_type": "stream",
     "text": [
      "TRAIN: 0.67 x 0.75 = 0.50 =>  2512 imgs => max pairs:    6312656\n",
      "TEST :               0.33 =>  1650 imgs => max pairs:    2722500\n",
      "VAL  : 0.67 x 0.25 = 0.17 =>   837 imgs => max pairs:     701406\n"
     ]
    }
   ],
   "source": [
    "print(f\"TRAIN: {1-test_size:.2f} x {1-val_size:.2f} = {(1-test_size)*(1-val_size):.2f} => {str(int((1-test_size)*(1-val_size)*5000)).rjust(5)} imgs => max pairs: {str(int(np.power((1-test_size)*(1-val_size)*5000, 2))).rjust(10)}\")\n",
    "print(f\"TEST : {str(test_size).rjust(18)} => {str(int(test_size*5000)).rjust(5)} imgs => max pairs: {str(int(np.power(test_size*5000, 2))).rjust(10)}\")\n",
    "print(f\"VAL  : {1-test_size:.2f} x {val_size:.2f} = {(1-test_size)*val_size:.2f} => {str(int((1-test_size)*val_size*5000)).rjust(5)} imgs => max pairs: {str(int(np.power((1-test_size)*val_size*5000, 2))).rjust(10)}\")"
   ]
  },
  {
   "cell_type": "code",
   "execution_count": 0,
   "metadata": {
    "colab": {},
    "colab_type": "code",
    "id": "dmtJEGv1K4LF"
   },
   "outputs": [],
   "source": [
    "data = np.load(f\"{path_logs_training}/5j0n_siamese_idx.npz\")\n",
    "train_idx, val_idx, test_idx = data[\"arr_0\"], data[\"arr_1\"], data[\"arr_2\"]"
   ]
  },
  {
   "cell_type": "code",
   "execution_count": 0,
   "metadata": {
    "colab": {},
    "colab_type": "code",
    "id": "KNkQKrfJK4LH"
   },
   "outputs": [],
   "source": [
    "channels = \"gray\"\n",
    "if channels == \"rgb\":\n",
    "    X = np.stack((X,)*3, axis=-1)\n",
    "elif channels == \"gray\":\n",
    "    X = X[:,:,:,np.newaxis]"
   ]
  },
  {
   "cell_type": "code",
   "execution_count": 29,
   "metadata": {
    "colab": {
     "base_uri": "https://localhost:8080/",
     "height": 0
    },
    "colab_type": "code",
    "id": "WCOYGoQRK4LK",
    "outputId": "f21b345c-6a3a-4187-cde3-a224a6170dc2"
   },
   "outputs": [
    {
     "data": {
      "text/plain": [
       "(5000, 116, 116, 1)"
      ]
     },
     "execution_count": 29,
     "metadata": {
      "tags": []
     },
     "output_type": "execute_result"
    }
   ],
   "source": [
    "X.shape"
   ]
  },
  {
   "cell_type": "markdown",
   "metadata": {
    "colab_type": "text",
    "id": "YZ71Z1DWK4LM"
   },
   "source": [
    "# 1. Distance Estimation"
   ]
  },
  {
   "cell_type": "markdown",
   "metadata": {
    "colab_type": "text",
    "id": "0ZRKoKicK4LN"
   },
   "source": [
    "### Train the model"
   ]
  },
  {
   "cell_type": "code",
   "execution_count": 0,
   "metadata": {
    "colab": {},
    "colab_type": "code",
    "id": "HceKfhOaK4LN"
   },
   "outputs": [],
   "source": [
    "from time import time"
   ]
  },
  {
   "cell_type": "code",
   "execution_count": 0,
   "metadata": {
    "colab": {},
    "colab_type": "code",
    "id": "hqkn_ZVBK4LQ"
   },
   "outputs": [],
   "source": [
    "# UNIFORM\n",
    "from tensorflow.keras.utils import Sequence\n",
    "\n",
    "num_dec = 1\n",
    "num_bins = 32\n",
    "\n",
    "# # for weights\n",
    "# dQ_values = np.load(\"data/5j0n/dQ_values_100K.npy\")\n",
    "# distribution = np.histogram(dQ_values, bins=32, range=(0.0, np.pi), density=True)\n",
    "# probabilities = distribution[0]\n",
    "# weights = 1/probabilities\n",
    "# weights_norm = weights/sum(weights)\n",
    "\n",
    "class DataGenerator(Sequence):\n",
    "    \n",
    "    def __init__(self, X, y, list_ids, limit_num_pairs=None, limit_style=\"random\", batch_size=256, shuffle=True):\n",
    "        start_time = time()\n",
    "        if batch_size > limit_num_pairs:\n",
    "            raise Exception(\"Please specify limit_num_pairs that is much higher than batch_size\")\n",
    "        self.X = X  \n",
    "        self.y = y  \n",
    "        self.limit_num_pairs = limit_num_pairs\n",
    "        self.list_ids = list_ids\n",
    "        self.batch_size = batch_size  \n",
    "        # all the possible combinations of 2 image id pairs\n",
    "        self.pair_ids = np.array(list(zip(*list(map(lambda x: x.flatten(), np.meshgrid(list_ids, list_ids))))))  # e.g. train_idx\n",
    "        \n",
    "        # Don't use all possible combination of pairs, limit them here\n",
    "        if self.limit_num_pairs:\n",
    "            limited_pair_indices = np.random.choice(np.arange(len(self.pair_ids)), size=self.limit_num_pairs)\n",
    "            self.pair_ids = self.pair_ids[limited_pair_indices]\n",
    "        \n",
    "        if limit_style==\"uniform\":\n",
    "            self.pair_ids = self._generate_uniform()\n",
    "      \n",
    "        self.shuffle = shuffle \n",
    "        self._on_epoch_start()\n",
    "        print(f\"Data created in {time()-start_time} sec\")\n",
    "        \n",
    "        \n",
    "    def _generate_uniform(self):\n",
    "        if os.path.exists(f\"data/{PROTEIN}/{len(self.list_ids)}_{self.limit_num_pairs}_{self.batch_size}.npy\"):\n",
    "            return np.load(f\"data/{PROTEIN}/{len(self.list_ids)}_{self.limit_num_pairs}_{self.batch_size}.npy\")\n",
    "        else:\n",
    "            bins = {}\n",
    "            for i in np.arange(0.0, 3.14, step=0.1): # so we have 32 bins\n",
    "                bins[np.around(i, num_dec)] = []\n",
    "\n",
    "\n",
    "            for idx1, idx2 in self.pair_ids:\n",
    "                label = d_q(euler2quaternion(self.y[idx1]), euler2quaternion(self.y[idx2]))\n",
    "                bins[np.around(label, num_dec)].append([idx1, idx2])\n",
    "\n",
    "            min_bin_size = len(bins[min(bins.keys(), key=lambda x: len(bins[x]))])\n",
    "            print(\"min=\", min_bin_size)\n",
    "            if min_bin_size == 0:\n",
    "                raise Exception(\"It haven't yet managed to fill all the bins, please increase limit_num_pairs\")\n",
    "\n",
    "\n",
    "            # cut the top of histogram to make it uniform\n",
    "            for i in np.arange(0.0, 3.14, step=0.1): # so we have 32 bins\n",
    "                b = np.around(i, num_dec)\n",
    "                bins[b] = np.take(bins[b], np.arange(min_bin_size), axis=0)  \n",
    "\n",
    "            l = np.array(list(itertools.chain(*list(bins.values()))))\n",
    "            np.save(f\"data/{PROTEIN}/{len(self.list_ids)}_{self.limit_num_pairs}_{self.batch_size}.npy\", l)\n",
    "            print(\"total number of data = \", 31*min_bin_size)\n",
    "            return l\n",
    "    \n",
    "    def __len__(self):\n",
    "        # Denotes the number of batches per epoch\n",
    "        if len(self.pair_ids)%self.batch_size == 0:\n",
    "            return len(self.pair_ids) // self.batch_size\n",
    "        else:\n",
    "            return len(self.pair_ids) // self.batch_size + 1\n",
    "        \n",
    "    def __getitem__(self, index):\n",
    "        # Generate one batch of data\n",
    "        indices = self.indices[index*self.batch_size:(index+1)*self.batch_size]\n",
    "        \n",
    "        # Find list of ids\n",
    "        list_ids_batch = np.take(self.pair_ids, indices, axis=0)\n",
    "\n",
    "        # Generate data\n",
    "        idx1, idx2 = list_ids_batch[:,0], list_ids_batch[:,1]\n",
    "        pairs = np.stack((self.X[idx1], self.X[idx2]), axis=1)  # shape: (len(idx1), 2, x.shape[1], x.shape[2], x.shape[3])\n",
    "        labels = d_q(euler2quaternion(self.y[idx1]), euler2quaternion(self.y[idx2]))  # shape: len(idx1)\n",
    "\n",
    "        #weights = np.array(self._get_weights(labels))\n",
    "        #labels_and_weights = np.stack((labels, weights), axis=1)\n",
    "        \n",
    "        # [training_pairs[:, 0], training_pairs[:, 1]], labels\n",
    "        return [pairs[:, 0], pairs[:, 1]], labels \n",
    "        \n",
    "    #def _get_weights(self, labels):\n",
    "    #    l = labels.numpy()\n",
    "    #    return np.array(list(map(lambda x: probabilities[np.where(x >= distribution[1])[0][-1]], l)))    \n",
    "    \n",
    "    def _on_epoch_start(self):\n",
    "        # Updates indices after each epoch\n",
    "        self.indices = np.arange(len(self.pair_ids))\n",
    "        if self.shuffle:\n",
    "            np.random.shuffle(self.indices)     "
   ]
  },
  {
   "cell_type": "code",
   "execution_count": 0,
   "metadata": {
    "colab": {},
    "colab_type": "code",
    "id": "Ui3KmgarK4LT"
   },
   "outputs": [],
   "source": [
    "import tensorflow_probability as tfp\n",
    "import os\n",
    "import h5py\n",
    "from time import time, strftime\n",
    "from datetime import datetime\n",
    "import matplotlib.pyplot as plt\n",
    "import numpy as np\n",
    "from sklearn.model_selection import train_test_split\n",
    "import pathlib\n",
    "\n",
    "from cryoem.rotation_matrices import RotationMatrix\n",
    "from cryoem.conversions import euler2quaternion, d_q\n",
    "from cryoem.knn import get_knn_projections\n",
    "\n",
    "import random\n",
    "import tensorflow as tf\n",
    "from tensorflow.keras.datasets import mnist\n",
    "from tensorflow.keras.models import Model\n",
    "from tensorflow.python.keras.applications.mobilenet import MobileNet\n",
    "from tensorflow.keras.layers import Input, Conv2D, MaxPooling2D, AvgPool2D, Lambda, ZeroPadding2D, Dropout, Concatenate, Dense, GlobalAveragePooling2D, Flatten\n",
    "from tensorflow.keras.optimizers import RMSprop, Adam, SGD\n",
    "from tensorflow.keras import backend as K\n",
    "from tensorflow.keras.callbacks import ModelCheckpoint,ReduceLROnPlateau\n",
    "from tensorflow.keras.callbacks import TensorBoard\n",
    "from tensorflow.keras.utils import plot_model, multi_gpu_model\n",
    "#from tensorflow.python.keras.applications.resnet50 import ResNet50\n",
    "from tensorflow.python.keras.applications.inception_v3 import InceptionV3\n",
    "from tensorflow.keras.losses import KLD, MAE, MSE\n",
    "\n",
    "_idx1 = list(np.random.choice(val_idx, size=1000))\n",
    "_idx2 = list(np.random.choice(val_idx, size=1000))\n",
    "\n",
    "q1_true = euler2quaternion([angles_true[i] for i in _idx1])\n",
    "q2_true = euler2quaternion([angles_true[i] for i in _idx2])\n",
    "\n",
    "p1 = [X[i] for i in _idx1]\n",
    "p2 = [X[i] for i in _idx2]\n",
    "\n",
    "model = None\n",
    "\n",
    "def cosine_distance(vests):\n",
    "    x, y = vests\n",
    "    xy_sum_square = K.sum(x * y, axis=1, keepdims=True) \n",
    "    xx_sum_square = K.sum(x * x, axis=1, keepdims=True)\n",
    "    xx_sum_square = K.maximum(xx_sum_square,  1e-08) \n",
    "    yy_sum_square = K.sum(y * y, axis=1, keepdims=True)\n",
    "    yy_sum_square = K.maximum(yy_sum_square, 1e-08) \n",
    "    \n",
    "    cos_theta = tf.divide(xy_sum_square, K.sqrt(xx_sum_square)*K.sqrt(yy_sum_square))\n",
    "    eps = K.epsilon()\n",
    "    return 2*tf.acos(tf.clip_by_value(cos_theta, 0.0+eps, 1.0-eps)) \n",
    "\n",
    "def cos_dist_output_shape(shapes):\n",
    "    shape1, shape2 = shapes\n",
    "    return (shape1[0], 1)\n",
    "\n",
    "def mae(y_true, y_pred):\n",
    "    return MAE(y_true, y_pred) \n",
    "\n",
    "def mse(y_true, y_pred):\n",
    "    return MSE(y_true, y_pred) \n",
    "\n",
    "\n",
    "def create_siamese_network(input_shape):\n",
    "    '''Base network to be shared (eq. to feature extraction).\n",
    "    '''\n",
    "    input_x = Input(shape=input_shape)\n",
    "    #print(input_shape)\n",
    "\n",
    "    # add Convolution, MaxPool, Conv2D, remove Dropout and Dense\n",
    "    \n",
    "    x = Conv2D(filters=32, kernel_size=[7, 7], activation='relu', padding='same', kernel_initializer='glorot_uniform')(input_x)\n",
    "    x = MaxPooling2D([2, 2], padding='same')(x)\n",
    "\n",
    "    x = Conv2D(64, [5, 5], activation='relu', padding='same', kernel_initializer='glorot_uniform')(x)\n",
    "    x = MaxPooling2D([2, 2], padding='same')(x)\n",
    "\n",
    "    x = Conv2D(128, [3, 3], activation='relu', padding='same', kernel_initializer='glorot_uniform')(x)\n",
    "    x = MaxPooling2D([2, 2], padding='same')(x)\n",
    "\n",
    "    x = Conv2D(256, [3, 3], activation='relu', padding='same', kernel_initializer='glorot_uniform')(x)\n",
    "    x = MaxPooling2D([2, 2], padding='same')(x)\n",
    "    \n",
    "    x = Conv2D(256, [3, 3], activation='relu', padding='same', kernel_initializer='glorot_uniform')(x)\n",
    "    x = MaxPooling2D([2, 2], padding='same')(x)\n",
    "    \n",
    "    x = Conv2D(512, [3, 3], activation='relu', padding='same', kernel_initializer='glorot_uniform')(x)\n",
    "    x = MaxPooling2D([2, 2], padding='same')(x)\n",
    "    \n",
    "    x = Conv2D(512, [3, 3], activation='relu', padding='same', kernel_initializer='glorot_uniform')(x)\n",
    "    x = MaxPooling2D([2, 2], padding='same')(x)\n",
    "    \n",
    "    x = AvgPool2D(pool_size=[8, 8], padding='same')(x)\n",
    "\n",
    "    x = tf.squeeze(x, axis=[1,2])\n",
    "    \n",
    "    return Model(input_x, x)\n",
    "\n",
    "\n",
    "def train_siamese(X, y, train_idx, val_idx, epochs, batch_size, learning_rate, limit_style, path_logs_training, training_description=\"\", training_steps=None, validation_steps=None, plot=True, gpus=None):\n",
    "    \n",
    "    \n",
    "    def d_p(p1, p2):\n",
    "        global model\n",
    "        p1 = tf.cast(p1, dtype=tf.float32)\n",
    "        p2 = tf.cast(p2, dtype=tf.float32)\n",
    "        return model.predict([p1, p2], batch_size=256)\n",
    "\n",
    "    def plot_to_image(figure):\n",
    "        \"\"\"Converts the matplotlib plot specified by 'figure' to a PNG image and\n",
    "        returns it. The supplied figure is closed and inaccessible after this call.\"\"\"\n",
    "        # Save the plot to a PNG in memory.\n",
    "        buf = io.BytesIO()\n",
    "        plt.savefig(buf, format='png')\n",
    "        # Closing the figure prevents it from being displayed directly inside\n",
    "        # the notebook.\n",
    "        plt.close(figure)\n",
    "        buf.seek(0)\n",
    "        # Convert PNG buffer to TF image\n",
    "        image = tf.image.decode_png(buf.getvalue(), channels=4)\n",
    "        # Add the batch dimension\n",
    "        image = tf.expand_dims(image, 0)\n",
    "        return image\n",
    "\n",
    "    def generate_dPdQ_plot(file_writer_plot):\n",
    "        \"\"\"Source: https://www.tensorflow.org/tensorboard/image_summaries#logging_arbitrary_image_data\"\"\"\n",
    "\n",
    "        \n",
    "        def _inner_plot(epoch, logs):\n",
    "            \"\"\"Generate dP/dQ plot for tensorboard\"\"\"\n",
    "            dP_values = d_p(p1, p2).T[0]\n",
    "            dQ_values = d_q(q1_true, q2_true).numpy()\n",
    "\n",
    "            # Creating the dataframe for SNS plot\n",
    "            data = {\"d_Q\" : dQ_values, \"d_P\" : dP_values }\n",
    "            df1 = pd.DataFrame(data=data)\n",
    "\n",
    "            fig, ax = plt.subplots(figsize=(6,6));\n",
    "            sns.scatterplot(x=\"d_Q\", y=\"d_P\", data=df1, color=\"b\", alpha=0.3, label=\"projection pair\", ax=ax);  # \"reg\", \"kde\"\n",
    "            x = np.arange(0, np.pi);\n",
    "            sns.regplot(x=x, y=x, color=\"k\", ax=ax)\n",
    "            #g = sns.jointplot(x=\"d_Q\", y=\"d_P\", data=df1, color=\"b\", alpha=0.3, label=\"projection pair\", kind=\"kde\");  # \"reg\", \"kde\"\n",
    "            #plt.show()\n",
    "            \n",
    "            # Log the confusion matrix as an image summary.\n",
    "            with file_writer_plot.as_default():\n",
    "                tf.summary.image(\"dP/dQ plot\", plot_to_image(fig), step=epoch)\n",
    "        \n",
    "        return _inner_plot\n",
    "\n",
    "    mirrored_strategy = tf.distribute.MirroredStrategy()\n",
    "    \n",
    "    with mirrored_strategy.scope():\n",
    "        # Prepare data generators\n",
    "        training_generator = DataGenerator(X, y, train_idx, limit_num_pairs=training_steps, limit_style=limit_style, shuffle=True)\n",
    "        validation_generator = DataGenerator(X, y, val_idx, limit_num_pairs=validation_steps, limit_style=limit_style, shuffle=True)\n",
    "        \n",
    "        input_shape = tuple(list(X.shape[1:])) #training_pairs[:, 0].shape[1:]\n",
    "        print(f\"Input images shape {input_shape}\")\n",
    "\n",
    "        # network definition\n",
    "        input_a = Input(shape=input_shape)\n",
    "        input_b = Input(shape=input_shape)\n",
    "        cnn_network = create_siamese_network(input_shape)\n",
    "        \n",
    "        # because we re-use the same instance `cnn_network`,\n",
    "        # the weights of the network will be shared across the two branches\n",
    "        processed_a = cnn_network(input_a)\n",
    "        processed_b = cnn_network(input_b)\n",
    "\n",
    "        distance = Lambda(cosine_distance, output_shape=cos_dist_output_shape)([processed_a, processed_b])\n",
    "\n",
    "        global model\n",
    "        model = Model([input_a, input_b], distance)  # was m\n",
    "\n",
    "        # train\n",
    "        #model = multi_gpu_model(m, gpus=gpus)\n",
    "        model.summary()\n",
    "        #plot_model(model, to_file=\"figures/model_plot.png\", expand_nested=True, show_shapes=True, show_layer_names=True)\n",
    "\n",
    "        # training only top layers\n",
    "        optimizer1 = RMSprop(learning_rate=learning_rate)\n",
    "        model.compile(loss=mae, optimizer=optimizer1, metrics=[mse], sample_weight_mode=None)\n",
    "\n",
    "        # Setup callbacks\n",
    "        # Callback that saves the model\n",
    "        training_description = training_description or strftime('%Y%m%d_%H%M%S')\n",
    "        CHECKPOINT_PATH = os.path.join(f\"{path_logs_training}/training\", f\"{training_description}.h5\")\n",
    "        pathlib.Path(f\"{path_logs_training}/training\").mkdir(parents=True, exist_ok=True)\n",
    "        backup_callback = tf.keras.callbacks.ModelCheckpoint(filepath=CHECKPOINT_PATH, monitor='val_loss', verbose=0, save_best_only=False, save_weights_only=False, mode='auto', period=1)\n",
    "        print(f\"Model will be saved to: {CHECKPOINT_PATH}\")\n",
    "        # Callback that will show tensorboard data\n",
    "        LOGS_PATH = os.path.join(f\"{path_logs_training}/logs\", f\"{training_description}\")\n",
    "        pathlib.Path(LOGS_PATH).mkdir(parents=True, exist_ok=True)\n",
    "        logs_callback = TensorBoard(LOGS_PATH, histogram_freq=1) #, profile_batch=300)#100000000)\n",
    "        # Callback for the dP/dQ plot\n",
    "        file_writer_plot = tf.summary.create_file_writer(os.path.join(LOGS_PATH, \"image\"))\n",
    "        plot_callback = tf.keras.callbacks.LambdaCallback(on_epoch_end=generate_dPdQ_plot(file_writer_plot))\n",
    "        # Callback that will decrease LR if it gets plateau in val_loss\n",
    "        #reduce_on_plateau_callback = ReduceLROnPlateau(monitor=\"loss\", mode=\"min\", factor=0.1, patience=20, min_lr=1e-4, verbose=1)\n",
    "\n",
    "\n",
    "\n",
    "        history1 = model.fit(training_generator, \n",
    "                            epochs=epochs,\n",
    "                            validation_data=validation_generator, \n",
    "                            callbacks=[plot_callback, logs_callback, backup_callback])\n",
    "        \n",
    "        # Get training and test loss histories\n",
    "        training_loss = history1.history['loss']\n",
    "        val_loss = history1.history['val_loss']\n",
    "        mses = history1.history['mse']\n",
    "        val_mses = history1.history['val_mse']\n",
    "        pathlib.Path(f\"{path_logs_training}/losses\").mkdir(parents=True, exist_ok=True)\n",
    "        np.savez(f\"{path_logs_training}/losses/noisy_var{NOISY_VAR}.npz\", training_loss, val_loss, mses, val_mses)\n",
    "\n",
    "        if plot:\n",
    "            fig, (ax1, ax2) = plt.subplots(1, 2, figsize=(15,7))\n",
    "\n",
    "            # Create count of the number of epochs\n",
    "            epoch_count = range(1, len(training_loss) + 1)\n",
    "\n",
    "            # Visualize loss history\n",
    "            ax1.plot(epoch_count, training_loss, 'r--', label='MAE Training Loss')\n",
    "            ax1.plot(epoch_count, val_loss, 'b-', label='MAE Validation Loss')\n",
    "            ax1.legend()\n",
    "            ax1.set_xlabel('Epoch')\n",
    "            ax1.set_ylabel('Loss')\n",
    "\n",
    "            ax2.plot(epoch_count, mses, 'r-', label='MSE Training')\n",
    "            ax2.plot(epoch_count, val_mses, 'b-', label='MSE Validation')\n",
    "            ax2.legend()\n",
    "            ax2.set_xlabel('Epoch')\n",
    "            ax2.set_ylabel('Loss')\n",
    "            plt.show();\n",
    "\n",
    "        return model, history1\n",
    "\n",
    "def plot_results(projections, y_pred, y, strtype):\n",
    "    if projections.shape[-1] == 1:\n",
    "        projections = projections.reshape(list(projections.shape[:-2]) +[-1])\n",
    "\n",
    "    def _inner(i):\n",
    "        \n",
    "        plt.imfig, (ax1, ax2) = plt.subplots(1, 2)\n",
    "        ax1.imshow(projections[i, 0])\n",
    "        ax2.imshow(projections[i, 1])\n",
    "\n",
    "        print(f\"--- {strtype} Set ---\")\n",
    "        print(f\"predicted: {y_pred[i][0]}\")\n",
    "        print(f\"true:      {y[i].numpy()}\")\n",
    "        print(f\"mse:       {mse(y_pred[i], y[i].numpy())}\")\n",
    "        print(f\"mae:       {mae(y_pred[i], y[i].numpy())}\")\n",
    "        \n",
    "    return _inner"
   ]
  },
  {
   "cell_type": "code",
   "execution_count": 33,
   "metadata": {
    "colab": {
     "base_uri": "https://localhost:8080/",
     "height": 34
    },
    "colab_type": "code",
    "id": "qOYwbjOzK4LV",
    "outputId": "8b9c4ce0-f632-46eb-e642-1eb23693cdd9"
   },
   "outputs": [
    {
     "data": {
      "text/plain": [
       "(63101, 7022)"
      ]
     },
     "execution_count": 33,
     "metadata": {
      "tags": []
     },
     "output_type": "execute_result"
    }
   ],
   "source": [
    "# 0.1 -> 34 min/epoch\n",
    "# 0.01 -> 3.3 min/epoch\n",
    "train_percent = 0.01\n",
    "val_percent = 0.01\n",
    "int(train_percent*np.power(len(train_idx), 2)), int(val_percent*np.power(len(val_idx), 2))"
   ]
  },
  {
   "cell_type": "code",
   "execution_count": 34,
   "metadata": {
    "colab": {
     "base_uri": "https://localhost:8080/",
     "height": 1000
    },
    "colab_type": "code",
    "id": "8HWI9cfqK4LY",
    "outputId": "4f09c6b1-9d93-4d2f-db6b-8383c85dd298",
    "scrolled": true
   },
   "outputs": [
    {
     "name": "stdout",
     "output_type": "stream",
     "text": [
      "INFO:tensorflow:Using MirroredStrategy with devices ('/job:localhost/replica:0/task:0/device:GPU:0',)\n",
      "Data created in 4.729872703552246 sec\n",
      "Data created in 0.5094311237335205 sec\n",
      "Input images shape (116, 116, 1)\n",
      "Model: \"model_1\"\n",
      "__________________________________________________________________________________________________\n",
      "Layer (type)                    Output Shape         Param #     Connected to                     \n",
      "==================================================================================================\n",
      "input_1 (InputLayer)            [(None, 116, 116, 1) 0                                            \n",
      "__________________________________________________________________________________________________\n",
      "input_2 (InputLayer)            [(None, 116, 116, 1) 0                                            \n",
      "__________________________________________________________________________________________________\n",
      "model (Model)                   (None, 512)          4551936     input_1[0][0]                    \n",
      "                                                                 input_2[0][0]                    \n",
      "__________________________________________________________________________________________________\n",
      "lambda (Lambda)                 (None, 1)            0           model[1][0]                      \n",
      "                                                                 model[2][0]                      \n",
      "==================================================================================================\n",
      "Total params: 4,551,936\n",
      "Trainable params: 4,551,936\n",
      "Non-trainable params: 0\n",
      "__________________________________________________________________________________________________\n",
      "WARNING:tensorflow:`period` argument is deprecated. Please use `save_freq` to specify the frequency in number of batches seen.\n",
      "Model will be saved to: /content/drive/My Drive/ModelsProtein/training/noisy_var10.h5\n",
      "Epoch 1/150\n",
      "INFO:tensorflow:Reduce to /job:localhost/replica:0/task:0/device:CPU:0 then broadcast to ('/job:localhost/replica:0/task:0/device:CPU:0',).\n",
      "INFO:tensorflow:Reduce to /job:localhost/replica:0/task:0/device:CPU:0 then broadcast to ('/job:localhost/replica:0/task:0/device:CPU:0',).\n",
      "INFO:tensorflow:Reduce to /job:localhost/replica:0/task:0/device:CPU:0 then broadcast to ('/job:localhost/replica:0/task:0/device:CPU:0',).\n",
      "INFO:tensorflow:Reduce to /job:localhost/replica:0/task:0/device:CPU:0 then broadcast to ('/job:localhost/replica:0/task:0/device:CPU:0',).\n",
      "INFO:tensorflow:Reduce to /job:localhost/replica:0/task:0/device:CPU:0 then broadcast to ('/job:localhost/replica:0/task:0/device:CPU:0',).\n",
      "INFO:tensorflow:Reduce to /job:localhost/replica:0/task:0/device:CPU:0 then broadcast to ('/job:localhost/replica:0/task:0/device:CPU:0',).\n",
      "INFO:tensorflow:Reduce to /job:localhost/replica:0/task:0/device:CPU:0 then broadcast to ('/job:localhost/replica:0/task:0/device:CPU:0',).\n",
      "INFO:tensorflow:Reduce to /job:localhost/replica:0/task:0/device:CPU:0 then broadcast to ('/job:localhost/replica:0/task:0/device:CPU:0',).\n",
      "247/247 [==============================] - ETA: 0s - mse: 1.6660 - loss: 0.9061INFO:tensorflow:Reduce to /job:localhost/replica:0/task:0/device:CPU:0 then broadcast to ('/job:localhost/replica:0/task:0/device:CPU:0',).\n",
      "INFO:tensorflow:Reduce to /job:localhost/replica:0/task:0/device:CPU:0 then broadcast to ('/job:localhost/replica:0/task:0/device:CPU:0',).\n",
      "247/247 [==============================] - 75s 306ms/step - mse: 1.6660 - loss: 0.9061 - val_mse: 0.9295 - val_loss: 0.8058\n",
      "Epoch 2/150\n",
      "247/247 [==============================] - 72s 290ms/step - mse: 0.4327 - loss: 0.5201 - val_mse: 0.3331 - val_loss: 0.4752\n",
      "Epoch 3/150\n",
      "247/247 [==============================] - 72s 290ms/step - mse: 0.2940 - loss: 0.4251 - val_mse: 0.3323 - val_loss: 0.4424\n",
      "Epoch 4/150\n",
      "247/247 [==============================] - 71s 289ms/step - mse: 0.2197 - loss: 0.3688 - val_mse: 0.1777 - val_loss: 0.3390\n",
      "Epoch 5/150\n",
      "247/247 [==============================] - 71s 289ms/step - mse: 0.1723 - loss: 0.3266 - val_mse: 0.2474 - val_loss: 0.3850\n",
      "Epoch 6/150\n",
      "247/247 [==============================] - 72s 290ms/step - mse: 0.1463 - loss: 0.3002 - val_mse: 0.1465 - val_loss: 0.3099\n",
      "Epoch 7/150\n",
      "247/247 [==============================] - 71s 289ms/step - mse: 0.1379 - loss: 0.2908 - val_mse: 0.2669 - val_loss: 0.4051\n",
      "Epoch 8/150\n",
      "247/247 [==============================] - 71s 289ms/step - mse: 0.1268 - loss: 0.2794 - val_mse: 0.2715 - val_loss: 0.4087\n",
      "Epoch 9/150\n",
      "247/247 [==============================] - 71s 289ms/step - mse: 0.1133 - loss: 0.2630 - val_mse: 0.1292 - val_loss: 0.2901\n",
      "Epoch 10/150\n",
      "247/247 [==============================] - 71s 287ms/step - mse: 0.1048 - loss: 0.2532 - val_mse: 0.1193 - val_loss: 0.2780\n",
      "Epoch 11/150\n",
      "247/247 [==============================] - 71s 288ms/step - mse: 0.1001 - loss: 0.2464 - val_mse: 0.1740 - val_loss: 0.3161\n",
      "Epoch 12/150\n",
      "247/247 [==============================] - 71s 287ms/step - mse: 0.0949 - loss: 0.2400 - val_mse: 0.1042 - val_loss: 0.2552\n",
      "Epoch 13/150\n",
      "247/247 [==============================] - 71s 289ms/step - mse: 0.0934 - loss: 0.2367 - val_mse: 0.2323 - val_loss: 0.3763\n",
      "Epoch 14/150\n",
      "247/247 [==============================] - 71s 289ms/step - mse: 0.0906 - loss: 0.2335 - val_mse: 0.1637 - val_loss: 0.3101\n",
      "Epoch 15/150\n",
      "247/247 [==============================] - 71s 288ms/step - mse: 0.0854 - loss: 0.2272 - val_mse: 0.1163 - val_loss: 0.2746\n",
      "Epoch 16/150\n",
      "247/247 [==============================] - 71s 286ms/step - mse: 0.0812 - loss: 0.2213 - val_mse: 0.1005 - val_loss: 0.2502\n",
      "Epoch 17/150\n",
      "247/247 [==============================] - 71s 287ms/step - mse: 0.0790 - loss: 0.2178 - val_mse: 0.1259 - val_loss: 0.2714\n",
      "Epoch 18/150\n",
      "247/247 [==============================] - 71s 289ms/step - mse: 0.0773 - loss: 0.2148 - val_mse: 0.0988 - val_loss: 0.2512\n",
      "Epoch 19/150\n",
      "247/247 [==============================] - 71s 289ms/step - mse: 0.0755 - loss: 0.2117 - val_mse: 0.1152 - val_loss: 0.2617\n",
      "Epoch 20/150\n",
      "247/247 [==============================] - 72s 291ms/step - mse: 0.0717 - loss: 0.2065 - val_mse: 0.0966 - val_loss: 0.2469\n",
      "Epoch 21/150\n",
      "247/247 [==============================] - 72s 291ms/step - mse: 0.0684 - loss: 0.2019 - val_mse: 0.1569 - val_loss: 0.3017\n",
      "Epoch 22/150\n",
      "247/247 [==============================] - 73s 294ms/step - mse: 0.0659 - loss: 0.1979 - val_mse: 0.0956 - val_loss: 0.2443\n",
      "Epoch 23/150\n",
      "247/247 [==============================] - 73s 294ms/step - mse: 0.0630 - loss: 0.1937 - val_mse: 0.0943 - val_loss: 0.2435\n",
      "Epoch 24/150\n",
      "247/247 [==============================] - 72s 293ms/step - mse: 0.0604 - loss: 0.1889 - val_mse: 0.1017 - val_loss: 0.2586\n",
      "Epoch 25/150\n",
      "247/247 [==============================] - 72s 293ms/step - mse: 0.0585 - loss: 0.1860 - val_mse: 0.1312 - val_loss: 0.2758\n",
      "Epoch 26/150\n",
      "247/247 [==============================] - 72s 292ms/step - mse: 0.0571 - loss: 0.1839 - val_mse: 0.0939 - val_loss: 0.2416\n",
      "Epoch 27/150\n",
      "247/247 [==============================] - 72s 292ms/step - mse: 0.0556 - loss: 0.1813 - val_mse: 0.1348 - val_loss: 0.2785\n",
      "Epoch 28/150\n",
      "247/247 [==============================] - 72s 291ms/step - mse: 0.0547 - loss: 0.1795 - val_mse: 0.1046 - val_loss: 0.2486\n",
      "Epoch 29/150\n",
      "247/247 [==============================] - 72s 291ms/step - mse: 0.0539 - loss: 0.1781 - val_mse: 0.0914 - val_loss: 0.2399\n",
      "Epoch 30/150\n",
      "247/247 [==============================] - 72s 291ms/step - mse: 0.0542 - loss: 0.1784 - val_mse: 0.1171 - val_loss: 0.2603\n",
      "Epoch 31/150\n",
      "247/247 [==============================] - 71s 289ms/step - mse: 0.0536 - loss: 0.1772 - val_mse: 0.1334 - val_loss: 0.2786\n",
      "Epoch 32/150\n",
      "247/247 [==============================] - 72s 290ms/step - mse: 0.0526 - loss: 0.1752 - val_mse: 0.0944 - val_loss: 0.2378\n",
      "Epoch 33/150\n",
      "247/247 [==============================] - 71s 289ms/step - mse: 0.0524 - loss: 0.1751 - val_mse: 0.1119 - val_loss: 0.2553\n",
      "Epoch 34/150\n",
      "247/247 [==============================] - 71s 288ms/step - mse: 0.0512 - loss: 0.1729 - val_mse: 0.1011 - val_loss: 0.2442\n",
      "Epoch 35/150\n",
      "247/247 [==============================] - 71s 289ms/step - mse: 0.0512 - loss: 0.1729 - val_mse: 0.0871 - val_loss: 0.2317\n",
      "Epoch 36/150\n",
      "247/247 [==============================] - 72s 290ms/step - mse: 0.0508 - loss: 0.1722 - val_mse: 0.1023 - val_loss: 0.2444\n",
      "Epoch 37/150\n",
      "247/247 [==============================] - 72s 292ms/step - mse: 0.0509 - loss: 0.1725 - val_mse: 0.1195 - val_loss: 0.2629\n",
      "Epoch 38/150\n",
      "247/247 [==============================] - 72s 290ms/step - mse: 0.0497 - loss: 0.1700 - val_mse: 0.1106 - val_loss: 0.2526\n",
      "Epoch 39/150\n",
      "247/247 [==============================] - 71s 289ms/step - mse: 0.0497 - loss: 0.1698 - val_mse: 0.0866 - val_loss: 0.2327\n",
      "Epoch 40/150\n",
      "247/247 [==============================] - 71s 289ms/step - mse: 0.0499 - loss: 0.1703 - val_mse: 0.1133 - val_loss: 0.2564\n",
      "Epoch 41/150\n",
      "247/247 [==============================] - 72s 290ms/step - mse: 0.0498 - loss: 0.1701 - val_mse: 0.1270 - val_loss: 0.2701\n",
      "Epoch 42/150\n",
      "247/247 [==============================] - 72s 290ms/step - mse: 0.0499 - loss: 0.1697 - val_mse: 0.0932 - val_loss: 0.2349\n",
      "Epoch 43/150\n",
      "247/247 [==============================] - 71s 289ms/step - mse: 0.0493 - loss: 0.1691 - val_mse: 0.1316 - val_loss: 0.2746\n",
      "Epoch 44/150\n",
      "247/247 [==============================] - 72s 290ms/step - mse: 0.0490 - loss: 0.1684 - val_mse: 0.0863 - val_loss: 0.2316\n",
      "Epoch 45/150\n",
      "247/247 [==============================] - 72s 291ms/step - mse: 0.0491 - loss: 0.1685 - val_mse: 0.1106 - val_loss: 0.2521\n",
      "Epoch 46/150\n",
      "247/247 [==============================] - 72s 292ms/step - mse: 0.0484 - loss: 0.1673 - val_mse: 0.0938 - val_loss: 0.2359\n",
      "Epoch 47/150\n",
      "247/247 [==============================] - 72s 291ms/step - mse: 0.0480 - loss: 0.1667 - val_mse: 0.0832 - val_loss: 0.2268\n",
      "Epoch 48/150\n",
      "247/247 [==============================] - 71s 289ms/step - mse: 0.0482 - loss: 0.1668 - val_mse: 0.1088 - val_loss: 0.2505\n",
      "Epoch 49/150\n",
      "247/247 [==============================] - 71s 288ms/step - mse: 0.0504 - loss: 0.1681 - val_mse: 0.0906 - val_loss: 0.2321\n",
      "Epoch 50/150\n",
      "247/247 [==============================] - 72s 290ms/step - mse: 0.0483 - loss: 0.1670 - val_mse: 0.0844 - val_loss: 0.2264\n",
      "Epoch 51/150\n",
      "247/247 [==============================] - 72s 290ms/step - mse: 0.0473 - loss: 0.1652 - val_mse: 0.1078 - val_loss: 0.2493\n",
      "Epoch 52/150\n",
      "247/247 [==============================] - 71s 288ms/step - mse: 0.0478 - loss: 0.1658 - val_mse: 0.0880 - val_loss: 0.2282\n",
      "Epoch 53/150\n",
      "247/247 [==============================] - 71s 289ms/step - mse: 0.0477 - loss: 0.1654 - val_mse: 0.1129 - val_loss: 0.2537\n",
      "Epoch 54/150\n",
      "247/247 [==============================] - 72s 290ms/step - mse: 0.0474 - loss: 0.1652 - val_mse: 0.1044 - val_loss: 0.2458\n",
      "Epoch 55/150\n",
      "247/247 [==============================] - 72s 291ms/step - mse: 0.0473 - loss: 0.1647 - val_mse: 0.0973 - val_loss: 0.2385\n",
      "Epoch 56/150\n",
      "247/247 [==============================] - 72s 290ms/step - mse: 0.0470 - loss: 0.1640 - val_mse: 0.1158 - val_loss: 0.2583\n",
      "Epoch 57/150\n",
      "247/247 [==============================] - 71s 289ms/step - mse: 0.0469 - loss: 0.1642 - val_mse: 0.0817 - val_loss: 0.2245\n",
      "Epoch 58/150\n",
      "247/247 [==============================] - 72s 290ms/step - mse: 0.0470 - loss: 0.1641 - val_mse: 0.1125 - val_loss: 0.2541\n",
      "Epoch 59/150\n",
      "247/247 [==============================] - 71s 289ms/step - mse: 0.0467 - loss: 0.1636 - val_mse: 0.0970 - val_loss: 0.2392\n",
      "Epoch 60/150\n",
      "247/247 [==============================] - 71s 289ms/step - mse: 0.0462 - loss: 0.1627 - val_mse: 0.0946 - val_loss: 0.2351\n",
      "Epoch 61/150\n",
      "247/247 [==============================] - 71s 287ms/step - mse: 0.0461 - loss: 0.1625 - val_mse: 0.1286 - val_loss: 0.2708\n",
      "Epoch 62/150\n",
      "247/247 [==============================] - 71s 288ms/step - mse: 0.0467 - loss: 0.1635 - val_mse: 0.0945 - val_loss: 0.2357\n",
      "Epoch 63/150\n",
      "247/247 [==============================] - 71s 288ms/step - mse: 0.0462 - loss: 0.1629 - val_mse: 0.1081 - val_loss: 0.2499\n",
      "Epoch 64/150\n",
      "247/247 [==============================] - 71s 288ms/step - mse: 0.0462 - loss: 0.1627 - val_mse: 0.0821 - val_loss: 0.2278\n",
      "Epoch 65/150\n",
      "247/247 [==============================] - 71s 287ms/step - mse: 0.0458 - loss: 0.1619 - val_mse: 0.0826 - val_loss: 0.2274\n",
      "Epoch 66/150\n",
      "247/247 [==============================] - 71s 288ms/step - mse: 0.0493 - loss: 0.1671 - val_mse: 0.1110 - val_loss: 0.2518\n",
      "Epoch 67/150\n",
      "247/247 [==============================] - 71s 289ms/step - mse: 0.0467 - loss: 0.1632 - val_mse: 0.0800 - val_loss: 0.2226\n",
      "Epoch 68/150\n",
      "247/247 [==============================] - 72s 290ms/step - mse: 0.0475 - loss: 0.1637 - val_mse: 0.0964 - val_loss: 0.2379\n",
      "Epoch 69/150\n",
      "247/247 [==============================] - 71s 288ms/step - mse: 0.0461 - loss: 0.1622 - val_mse: 0.0807 - val_loss: 0.2227\n",
      "Epoch 70/150\n",
      "247/247 [==============================] - 71s 288ms/step - mse: 0.0458 - loss: 0.1619 - val_mse: 0.0851 - val_loss: 0.2260\n",
      "Epoch 71/150\n",
      "247/247 [==============================] - 72s 290ms/step - mse: 0.0456 - loss: 0.1616 - val_mse: 0.0801 - val_loss: 0.2234\n",
      "Epoch 72/150\n",
      "247/247 [==============================] - 71s 289ms/step - mse: 0.0453 - loss: 0.1614 - val_mse: 0.0805 - val_loss: 0.2227\n",
      "Epoch 73/150\n",
      "247/247 [==============================] - 71s 286ms/step - mse: 0.0453 - loss: 0.1601 - val_mse: 0.0975 - val_loss: 0.2387\n",
      "Epoch 74/150\n",
      "247/247 [==============================] - 71s 287ms/step - mse: 0.0451 - loss: 0.1604 - val_mse: 0.1194 - val_loss: 0.2612\n",
      "Epoch 75/150\n",
      "247/247 [==============================] - 71s 286ms/step - mse: 0.0455 - loss: 0.1607 - val_mse: 0.0906 - val_loss: 0.2341\n",
      "Epoch 76/150\n",
      "247/247 [==============================] - 70s 285ms/step - mse: 0.0451 - loss: 0.1605 - val_mse: 0.0787 - val_loss: 0.2218\n",
      "Epoch 77/150\n",
      "247/247 [==============================] - 71s 287ms/step - mse: 0.0452 - loss: 0.1604 - val_mse: 0.0845 - val_loss: 0.2265\n",
      "Epoch 78/150\n",
      "247/247 [==============================] - 71s 286ms/step - mse: 0.0448 - loss: 0.1594 - val_mse: 0.1113 - val_loss: 0.2530\n",
      "Epoch 79/150\n",
      "247/247 [==============================] - 70s 285ms/step - mse: 0.0448 - loss: 0.1594 - val_mse: 0.0837 - val_loss: 0.2258\n",
      "Epoch 80/150\n",
      "247/247 [==============================] - 70s 284ms/step - mse: 0.0448 - loss: 0.1594 - val_mse: 0.0927 - val_loss: 0.2346\n",
      "Epoch 81/150\n",
      "247/247 [==============================] - 71s 285ms/step - mse: 0.0448 - loss: 0.1596 - val_mse: 0.1149 - val_loss: 0.2570\n",
      "Epoch 82/150\n",
      "247/247 [==============================] - 70s 285ms/step - mse: 0.0449 - loss: 0.1593 - val_mse: 0.0798 - val_loss: 0.2217\n",
      "Epoch 83/150\n",
      "247/247 [==============================] - 71s 286ms/step - mse: 0.0447 - loss: 0.1592 - val_mse: 0.0779 - val_loss: 0.2190\n",
      "Epoch 84/150\n",
      "247/247 [==============================] - 71s 287ms/step - mse: 0.0447 - loss: 0.1594 - val_mse: 0.0789 - val_loss: 0.2198\n",
      "Epoch 85/150\n",
      "247/247 [==============================] - 71s 288ms/step - mse: 0.0445 - loss: 0.1590 - val_mse: 0.1237 - val_loss: 0.2662\n",
      "Epoch 86/150\n",
      "247/247 [==============================] - 71s 289ms/step - mse: 0.0443 - loss: 0.1584 - val_mse: 0.0831 - val_loss: 0.2241\n",
      "Epoch 87/150\n",
      "247/247 [==============================] - 71s 289ms/step - mse: 0.0447 - loss: 0.1592 - val_mse: 0.0813 - val_loss: 0.2230\n",
      "Epoch 88/150\n",
      "247/247 [==============================] - 72s 290ms/step - mse: 0.0442 - loss: 0.1581 - val_mse: 0.0783 - val_loss: 0.2201\n",
      "Epoch 89/150\n",
      "247/247 [==============================] - 72s 291ms/step - mse: 0.0446 - loss: 0.1583 - val_mse: 0.1060 - val_loss: 0.2472\n",
      "Epoch 90/150\n",
      "247/247 [==============================] - 72s 292ms/step - mse: 0.0441 - loss: 0.1581 - val_mse: 0.0962 - val_loss: 0.2358\n",
      "Epoch 91/150\n",
      "247/247 [==============================] - 72s 291ms/step - mse: 0.0443 - loss: 0.1584 - val_mse: 0.1040 - val_loss: 0.2443\n",
      "Epoch 92/150\n",
      "247/247 [==============================] - 72s 290ms/step - mse: 0.0438 - loss: 0.1575 - val_mse: 0.0809 - val_loss: 0.2219\n",
      "Epoch 93/150\n",
      "247/247 [==============================] - 72s 290ms/step - mse: 0.0437 - loss: 0.1575 - val_mse: 0.0843 - val_loss: 0.2246\n",
      "Epoch 94/150\n",
      "247/247 [==============================] - 71s 289ms/step - mse: 0.0440 - loss: 0.1577 - val_mse: 0.0793 - val_loss: 0.2217\n",
      "Epoch 95/150\n",
      "247/247 [==============================] - 72s 290ms/step - mse: 0.0443 - loss: 0.1580 - val_mse: 0.0757 - val_loss: 0.2172\n",
      "Epoch 96/150\n",
      "247/247 [==============================] - 72s 290ms/step - mse: 0.0438 - loss: 0.1574 - val_mse: 0.0809 - val_loss: 0.2241\n",
      "Epoch 97/150\n",
      "247/247 [==============================] - 72s 290ms/step - mse: 0.0438 - loss: 0.1574 - val_mse: 0.0940 - val_loss: 0.2333\n",
      "Epoch 98/150\n",
      "247/247 [==============================] - 72s 292ms/step - mse: 0.0433 - loss: 0.1567 - val_mse: 0.1074 - val_loss: 0.2493\n",
      "Epoch 99/150\n",
      "247/247 [==============================] - 72s 291ms/step - mse: 0.0439 - loss: 0.1571 - val_mse: 0.0829 - val_loss: 0.2234\n",
      "Epoch 100/150\n",
      "247/247 [==============================] - 72s 291ms/step - mse: 0.0439 - loss: 0.1572 - val_mse: 0.0853 - val_loss: 0.2259\n",
      "Epoch 101/150\n",
      "247/247 [==============================] - 72s 290ms/step - mse: 0.0438 - loss: 0.1568 - val_mse: 0.0786 - val_loss: 0.2197\n",
      "Epoch 102/150\n",
      "247/247 [==============================] - 71s 289ms/step - mse: 0.0436 - loss: 0.1568 - val_mse: 0.0791 - val_loss: 0.2220\n",
      "Epoch 103/150\n",
      "247/247 [==============================] - 71s 288ms/step - mse: 0.0436 - loss: 0.1566 - val_mse: 0.0791 - val_loss: 0.2199\n",
      "Epoch 104/150\n",
      "247/247 [==============================] - 72s 290ms/step - mse: 0.0433 - loss: 0.1566 - val_mse: 0.0823 - val_loss: 0.2224\n",
      "Epoch 105/150\n",
      "247/247 [==============================] - 72s 290ms/step - mse: 0.0433 - loss: 0.1557 - val_mse: 0.0786 - val_loss: 0.2210\n",
      "Epoch 106/150\n",
      "247/247 [==============================] - 72s 290ms/step - mse: 0.0432 - loss: 0.1560 - val_mse: 0.0900 - val_loss: 0.2320\n",
      "Epoch 107/150\n",
      "247/247 [==============================] - 71s 288ms/step - mse: 0.0434 - loss: 0.1559 - val_mse: 0.0960 - val_loss: 0.2364\n",
      "Epoch 108/150\n",
      "247/247 [==============================] - 71s 289ms/step - mse: 0.0434 - loss: 0.1562 - val_mse: 0.0780 - val_loss: 0.2193\n",
      "Epoch 109/150\n",
      "247/247 [==============================] - 72s 291ms/step - mse: 0.0428 - loss: 0.1551 - val_mse: 0.0837 - val_loss: 0.2246\n",
      "Epoch 110/150\n",
      "247/247 [==============================] - 71s 287ms/step - mse: 0.0430 - loss: 0.1557 - val_mse: 0.0781 - val_loss: 0.2186\n",
      "Epoch 111/150\n",
      "247/247 [==============================] - 71s 287ms/step - mse: 0.0444 - loss: 0.1585 - val_mse: 0.0876 - val_loss: 0.2299\n",
      "Epoch 112/150\n",
      "247/247 [==============================] - 71s 288ms/step - mse: 0.0461 - loss: 0.1625 - val_mse: 0.0930 - val_loss: 0.2336\n",
      "Epoch 113/150\n",
      "247/247 [==============================] - 72s 290ms/step - mse: 0.0436 - loss: 0.1569 - val_mse: 0.0877 - val_loss: 0.2271\n",
      "Epoch 114/150\n",
      "247/247 [==============================] - 72s 291ms/step - mse: 0.0433 - loss: 0.1560 - val_mse: 0.0886 - val_loss: 0.2294\n",
      "Epoch 115/150\n",
      "247/247 [==============================] - 72s 292ms/step - mse: 0.0430 - loss: 0.1555 - val_mse: 0.0785 - val_loss: 0.2220\n",
      "Epoch 116/150\n",
      "247/247 [==============================] - 72s 292ms/step - mse: 0.0431 - loss: 0.1557 - val_mse: 0.0848 - val_loss: 0.2233\n",
      "Epoch 117/150\n",
      "247/247 [==============================] - 72s 292ms/step - mse: 0.0426 - loss: 0.1549 - val_mse: 0.0836 - val_loss: 0.2240\n",
      "Epoch 118/150\n",
      "247/247 [==============================] - 71s 289ms/step - mse: 0.0428 - loss: 0.1552 - val_mse: 0.0912 - val_loss: 0.2312\n",
      "Epoch 119/150\n",
      "247/247 [==============================] - 71s 289ms/step - mse: 0.0428 - loss: 0.1549 - val_mse: 0.0766 - val_loss: 0.2164\n",
      "Epoch 120/150\n",
      "247/247 [==============================] - 71s 288ms/step - mse: 0.0427 - loss: 0.1546 - val_mse: 0.0799 - val_loss: 0.2199\n",
      "Epoch 121/150\n",
      "247/247 [==============================] - 71s 287ms/step - mse: 0.0428 - loss: 0.1551 - val_mse: 0.1109 - val_loss: 0.2525\n",
      "Epoch 122/150\n",
      "247/247 [==============================] - 71s 288ms/step - mse: 0.0425 - loss: 0.1547 - val_mse: 0.0899 - val_loss: 0.2288\n",
      "Epoch 123/150\n",
      "247/247 [==============================] - 71s 288ms/step - mse: 0.0430 - loss: 0.1553 - val_mse: 0.0814 - val_loss: 0.2203\n",
      "Epoch 124/150\n",
      "247/247 [==============================] - 71s 287ms/step - mse: 0.0426 - loss: 0.1545 - val_mse: 0.0801 - val_loss: 0.2210\n",
      "Epoch 125/150\n",
      "247/247 [==============================] - 71s 287ms/step - mse: 0.0424 - loss: 0.1545 - val_mse: 0.0920 - val_loss: 0.2318\n",
      "Epoch 126/150\n",
      "247/247 [==============================] - 71s 286ms/step - mse: 0.0427 - loss: 0.1546 - val_mse: 0.0890 - val_loss: 0.2277\n",
      "Epoch 127/150\n",
      "247/247 [==============================] - 71s 287ms/step - mse: 0.0421 - loss: 0.1534 - val_mse: 0.0888 - val_loss: 0.2270\n",
      "Epoch 128/150\n",
      "247/247 [==============================] - 70s 285ms/step - mse: 0.0422 - loss: 0.1537 - val_mse: 0.0728 - val_loss: 0.2167\n",
      "Epoch 129/150\n",
      "247/247 [==============================] - 70s 285ms/step - mse: 0.0425 - loss: 0.1540 - val_mse: 0.0796 - val_loss: 0.2187\n",
      "Epoch 130/150\n",
      "247/247 [==============================] - 71s 288ms/step - mse: 0.0420 - loss: 0.1532 - val_mse: 0.0748 - val_loss: 0.2170\n",
      "Epoch 131/150\n",
      "247/247 [==============================] - 71s 286ms/step - mse: 0.0423 - loss: 0.1537 - val_mse: 0.0842 - val_loss: 0.2224\n",
      "Epoch 132/150\n",
      "247/247 [==============================] - 71s 286ms/step - mse: 0.0421 - loss: 0.1531 - val_mse: 0.0881 - val_loss: 0.2270\n",
      "Epoch 133/150\n",
      "247/247 [==============================] - 70s 284ms/step - mse: 0.0419 - loss: 0.1529 - val_mse: 0.0773 - val_loss: 0.2173\n",
      "Epoch 134/150\n",
      "247/247 [==============================] - 71s 285ms/step - mse: 0.0421 - loss: 0.1533 - val_mse: 0.0769 - val_loss: 0.2184\n",
      "Epoch 135/150\n",
      "247/247 [==============================] - 70s 285ms/step - mse: 0.0420 - loss: 0.1530 - val_mse: 0.0829 - val_loss: 0.2221\n",
      "Epoch 136/150\n",
      "247/247 [==============================] - 71s 286ms/step - mse: 0.0422 - loss: 0.1533 - val_mse: 0.0750 - val_loss: 0.2149\n",
      "Epoch 137/150\n",
      "247/247 [==============================] - 70s 284ms/step - mse: 0.0418 - loss: 0.1529 - val_mse: 0.0895 - val_loss: 0.2272\n",
      "Epoch 138/150\n",
      "247/247 [==============================] - 70s 283ms/step - mse: 0.0418 - loss: 0.1524 - val_mse: 0.0916 - val_loss: 0.2313\n",
      "Epoch 139/150\n",
      "247/247 [==============================] - 70s 283ms/step - mse: 0.0420 - loss: 0.1530 - val_mse: 0.0819 - val_loss: 0.2202\n",
      "Epoch 140/150\n",
      "247/247 [==============================] - 70s 284ms/step - mse: 0.0417 - loss: 0.1528 - val_mse: 0.0846 - val_loss: 0.2232\n",
      "Epoch 141/150\n",
      "247/247 [==============================] - 70s 285ms/step - mse: 0.0418 - loss: 0.1527 - val_mse: 0.0759 - val_loss: 0.2149\n",
      "Epoch 142/150\n",
      "247/247 [==============================] - 72s 290ms/step - mse: 0.0418 - loss: 0.1529 - val_mse: 0.0824 - val_loss: 0.2215\n",
      "Epoch 143/150\n",
      "247/247 [==============================] - 71s 287ms/step - mse: 0.0417 - loss: 0.1523 - val_mse: 0.0776 - val_loss: 0.2167\n",
      "Epoch 144/150\n",
      "247/247 [==============================] - 71s 288ms/step - mse: 0.0421 - loss: 0.1534 - val_mse: 0.0753 - val_loss: 0.2147\n",
      "Epoch 145/150\n",
      "247/247 [==============================] - 71s 289ms/step - mse: 0.0418 - loss: 0.1522 - val_mse: 0.0794 - val_loss: 0.2205\n",
      "Epoch 146/150\n",
      "247/247 [==============================] - 71s 288ms/step - mse: 0.0415 - loss: 0.1518 - val_mse: 0.0984 - val_loss: 0.2380\n",
      "Epoch 147/150\n",
      "247/247 [==============================] - 71s 288ms/step - mse: 0.0414 - loss: 0.1518 - val_mse: 0.0836 - val_loss: 0.2224\n",
      "Epoch 148/150\n",
      "247/247 [==============================] - 71s 289ms/step - mse: 0.0418 - loss: 0.1525 - val_mse: 0.0836 - val_loss: 0.2226\n",
      "Epoch 149/150\n",
      "247/247 [==============================] - 71s 289ms/step - mse: 0.0414 - loss: 0.1517 - val_mse: 0.0781 - val_loss: 0.2183\n",
      "Epoch 150/150\n",
      "247/247 [==============================] - 71s 285ms/step - mse: 0.0416 - loss: 0.1520 - val_mse: 0.0795 - val_loss: 0.2194\n"
     ]
    },
    {
     "data": {
      "image/png": "[encoded data removed]",
      "text/plain": [
       "<Figure size 1080x504 with 2 Axes>"
      ]
     },
     "metadata": {
      "tags": []
     },
     "output_type": "display_data"
    }
   ],
   "source": [
    "model, history1 = train_siamese(X=X, y=y, \n",
    "                               train_idx=train_idx, \n",
    "                               val_idx=val_idx,\n",
    "                               epochs=150,  #500\n",
    "                               batch_size=256,  #512 latest \n",
    "                               learning_rate=1e-3,  #0.01 \n",
    "                                limit_style=\"random\", \n",
    "                                path_logs_training=path_logs_training, \n",
    "                                training_description=training_description,\n",
    "                               training_steps=int(train_percent*np.power(len(train_idx), 2)),  # None\n",
    "                               validation_steps=int(val_percent*np.power(len(val_idx), 2)),  # None\n",
    "                               plot=True,\n",
    "                               gpus=None)"
   ]
  },
  {
   "cell_type": "markdown",
   "metadata": {
    "colab_type": "text",
    "id": "fJJKUgcJK4La"
   },
   "source": [
    "---"
   ]
  },
  {
   "cell_type": "code",
   "execution_count": 0,
   "metadata": {
    "colab": {},
    "colab_type": "code",
    "id": "gi9CsCZAK4Ld"
   },
   "outputs": [],
   "source": [
    "data = np.load(f\"{path_logs_training}/losses/{training_description}.npz\")\n",
    "training_loss, val_loss, mses, val_mses = data[\"arr_0\"], data[\"arr_1\"], data[\"arr_2\"], data[\"arr_3\"]"
   ]
  },
  {
   "cell_type": "code",
   "execution_count": 36,
   "metadata": {
    "colab": {
     "base_uri": "https://localhost:8080/",
     "height": 319
    },
    "colab_type": "code",
    "id": "IIKP9TtBK4Lg",
    "outputId": "7413ecae-f8cc-4491-9ae0-f21780bea824"
   },
   "outputs": [
    {
     "data": {
      "image/png": "[encoded data removed]",
      "text/plain": [
       "<Figure size 1080x504 with 2 Axes>"
      ]
     },
     "metadata": {
      "tags": []
     },
     "output_type": "display_data"
    }
   ],
   "source": [
    "# Get training and test loss histories\n",
    "fig, (ax1, ax2) = plt.subplots(1, 2, figsize=(15,7))\n",
    "\n",
    "# Create count of the number of epochs\n",
    "epoch_count = range(1, len(training_loss) + 1)\n",
    "\n",
    "# Visualize loss history\n",
    "ax1.plot(epoch_count, training_loss, 'r--', label='MAE Training Loss')\n",
    "ax1.plot(epoch_count, val_loss, 'b-', label='MAE Validation Loss')\n",
    "ax1.legend()\n",
    "ax1.set_xlabel('Epoch')\n",
    "ax1.set_ylabel('Loss')\n",
    "\n",
    "ax2.plot(epoch_count, mses, 'r-', label='MSE Training')\n",
    "ax2.plot(epoch_count, val_mses, 'b-', label='MSE Validation')\n",
    "ax2.legend()\n",
    "ax2.set_xlabel('Epoch')\n",
    "ax2.set_ylabel('Loss')\n",
    "plt.show();"
   ]
  },
  {
   "cell_type": "code",
   "execution_count": 37,
   "metadata": {
    "colab": {
     "base_uri": "https://localhost:8080/",
     "height": 85
    },
    "colab_type": "code",
    "id": "4_py9DG4K4Lj",
    "outputId": "8e572aa0-6281-4d8b-af9f-7b3d1e6ceccf"
   },
   "outputs": [
    {
     "data": {
      "text/plain": [
       "(0.15201435983181,\n",
       " 0.21940632164478302,\n",
       " 0.04159392789006233,\n",
       " 0.07949522137641907)"
      ]
     },
     "execution_count": 37,
     "metadata": {
      "tags": []
     },
     "output_type": "execute_result"
    }
   ],
   "source": [
    "training_loss[-1], val_loss[-1], mses[-1], val_mses[-1]"
   ]
  },
  {
   "cell_type": "markdown",
   "metadata": {
    "colab_type": "text",
    "id": "M-kSlYfqK4Lt"
   },
   "source": [
    "### (Or) Read model checkpoint"
   ]
  },
  {
   "cell_type": "code",
   "execution_count": 0,
   "metadata": {
    "colab": {},
    "colab_type": "code",
    "id": "9z7haF6NK4Lu"
   },
   "outputs": [],
   "source": [
    "# put correct filename\n",
    "model_filename = f\"{path_logs_training}/training/{training_description}.h5\""
   ]
  },
  {
   "cell_type": "code",
   "execution_count": 39,
   "metadata": {
    "colab": {
     "base_uri": "https://localhost:8080/",
     "height": 0
    },
    "colab_type": "code",
    "id": "Dr9eFsJKK4Lw",
    "outputId": "5b822dcd-443e-4a58-9aaa-8324c6e9a14b"
   },
   "outputs": [
    {
     "name": "stdout",
     "output_type": "stream",
     "text": [
      "Model: \"model_1\"\n",
      "__________________________________________________________________________________________________\n",
      "Layer (type)                    Output Shape         Param #     Connected to                     \n",
      "==================================================================================================\n",
      "input_1 (InputLayer)            [(None, 116, 116, 1) 0                                            \n",
      "__________________________________________________________________________________________________\n",
      "input_2 (InputLayer)            [(None, 116, 116, 1) 0                                            \n",
      "__________________________________________________________________________________________________\n",
      "model (Model)                   (None, 512)          4551936     input_1[0][0]                    \n",
      "                                                                 input_2[0][0]                    \n",
      "__________________________________________________________________________________________________\n",
      "lambda (Lambda)                 (None, 1)            0           model[1][0]                      \n",
      "                                                                 model[2][0]                      \n",
      "==================================================================================================\n",
      "Total params: 4,551,936\n",
      "Trainable params: 4,551,936\n",
      "Non-trainable params: 0\n",
      "__________________________________________________________________________________________________\n"
     ]
    }
   ],
   "source": [
    "# Recreate the exact same model, including its weights and the optimizer\n",
    "model = tf.keras.models.load_model(model_filename)\n",
    "\n",
    "# Show the model architecture\n",
    "model.summary()"
   ]
  },
  {
   "cell_type": "markdown",
   "metadata": {
    "colab_type": "text",
    "id": "KpIqU8r6K4L2"
   },
   "source": [
    "---"
   ]
  },
  {
   "cell_type": "markdown",
   "metadata": {
    "colab_type": "text",
    "id": "_KlxFl_eK4L2"
   },
   "source": [
    "## dP/dQ plot"
   ]
  },
  {
   "cell_type": "code",
   "execution_count": 0,
   "metadata": {
    "colab": {},
    "colab_type": "code",
    "id": "Z766GBdvK4L3"
   },
   "outputs": [],
   "source": [
    "from cryoem.conversions import d_q, euler2quaternion\n",
    "from cryoem.plots import plot_dP_dQ"
   ]
  },
  {
   "cell_type": "code",
   "execution_count": 0,
   "metadata": {
    "colab": {},
    "colab_type": "code",
    "id": "RJMjW2KHK4L5"
   },
   "outputs": [],
   "source": [
    "def d_p(p1, p2):\n",
    "    p1 = tf.cast(p1, dtype=tf.float32)\n",
    "    p2 = tf.cast(p2, dtype=tf.float32)\n",
    "    return model.predict([p1, p2], batch_size=256)"
   ]
  },
  {
   "cell_type": "code",
   "execution_count": 0,
   "metadata": {
    "colab": {},
    "colab_type": "code",
    "id": "0YTh5UvmK4L7"
   },
   "outputs": [],
   "source": [
    "# 5:41 with 1024\n",
    "# 5:43     with 256\n",
    "idx1 = list(np.random.choice(test_idx, size=1000))\n",
    "idx2 = list(np.random.choice(test_idx, size=1000))\n",
    "\n",
    "q1_true = euler2quaternion([angles_true[i] for i in idx1])\n",
    "q2_true = euler2quaternion([angles_true[i] for i in idx2])\n",
    "\n",
    "p1 = [X[i] for i in idx1]\n",
    "p2 = [X[i] for i in idx2]\n",
    "\n",
    "dP_values = d_p(p1, p2).T[0]\n",
    "dQ_values = d_q(q1_true, q2_true).numpy()"
   ]
  },
  {
   "cell_type": "code",
   "execution_count": 43,
   "metadata": {
    "colab": {
     "base_uri": "https://localhost:8080/",
     "height": 882
    },
    "colab_type": "code",
    "id": "NjmjpoN0K4L9",
    "outputId": "40a4ae5c-f666-4a0e-f49a-a75fc09549bb"
   },
   "outputs": [
    {
     "data": {
      "text/plain": [
       "<Figure size 432x288 with 0 Axes>"
      ]
     },
     "metadata": {
      "tags": []
     },
     "output_type": "display_data"
    },
    {
     "data": {
      "image/png": "[encoded data removed]",
      "text/plain": [
       "<Figure size 432x432 with 1 Axes>"
      ]
     },
     "metadata": {
      "tags": []
     },
     "output_type": "display_data"
    },
    {
     "data": {
      "text/plain": [
       "<Figure size 432x288 with 0 Axes>"
      ]
     },
     "metadata": {
      "tags": []
     },
     "output_type": "display_data"
    },
    {
     "data": {
      "image/png": "[encoded data removed]",
      "text/plain": [
       "<Figure size 432x432 with 3 Axes>"
      ]
     },
     "metadata": {
      "tags": []
     },
     "output_type": "display_data"
    },
    {
     "name": "stdout",
     "output_type": "stream",
     "text": [
      "Variance = 0.28740025234484823\n",
      "Min. angle recovery loss possible = 0.08251630614283455\n"
     ]
    }
   ],
   "source": [
    "plot_dP_dQ(dP_values, dQ_values)"
   ]
  },
  {
   "cell_type": "code",
   "execution_count": 44,
   "metadata": {
    "colab": {
     "base_uri": "https://localhost:8080/",
     "height": 34
    },
    "colab_type": "code",
    "id": "lA75WQYrK4L_",
    "outputId": "43a6a438-4379-442f-de9b-b9c49528151b"
   },
   "outputs": [
    {
     "data": {
      "text/plain": [
       "<tf.Tensor: shape=(), dtype=float32, numpy=0.21906962>"
      ]
     },
     "execution_count": 44,
     "metadata": {
      "tags": []
     },
     "output_type": "execute_result"
    }
   ],
   "source": [
    "MAE(dQ_values, dP_values)"
   ]
  },
  {
   "cell_type": "code",
   "execution_count": 0,
   "metadata": {
    "colab": {},
    "colab_type": "code",
    "id": "rGC2BjfxVYqF"
   },
   "outputs": [],
   "source": []
  }
 ],
 "metadata": {
  "accelerator": "GPU",
  "colab": {
   "name": "colab_distance_estimation_and_angle_recovery-test5j0nhalf-cov_noisy.ipynb",
   "provenance": [],
   "toc_visible": true
  },
  "kernelspec": {
   "display_name": "Python 3",
   "language": "python",
   "name": "python3"
  },
  "language_info": {
   "codemirror_mode": {
    "name": "ipython",
    "version": 3
   },
   "file_extension": ".py",
   "mimetype": "text/x-python",
   "name": "python",
   "nbconvert_exporter": "python",
   "pygments_lexer": "ipython3",
   "version": "3.6.9"
  }
 },
 "nbformat": 4,
 "nbformat_minor": 1
}
