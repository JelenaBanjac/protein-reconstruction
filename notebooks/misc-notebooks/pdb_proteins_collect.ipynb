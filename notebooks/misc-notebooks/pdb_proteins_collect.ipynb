{
 "cells": [
  {
   "cell_type": "markdown",
   "metadata": {},
   "source": [
    "# Collect protein PDBs"
   ]
  },
  {
   "cell_type": "markdown",
   "metadata": {},
   "source": [
    "Collect additional protein structures from PDB database.  \n",
    "Various summaries of current data in the PDB archive are available on [summaries_link](https://www.rcsb.org/pages/general/summaries).\n",
    "Download [`pdb_entry_type.txt`](ftp://ftp.wwpdb.org/pub/pdb/derived_data/pdb_entry_type.txt) contraining all protein IDs. Based on the protein ID, we will download the protein `*.pdb` files.\n",
    "We are only interested in proteins whose structure was determined by **EM**."
   ]
  },
  {
   "cell_type": "code",
   "execution_count": 26,
   "metadata": {},
   "outputs": [],
   "source": [
    "import pandas as pd\n",
    "import random\n",
    "import pathlib"
   ]
  },
  {
   "cell_type": "code",
   "execution_count": 2,
   "metadata": {},
   "outputs": [],
   "source": [
    "df = pd.read_csv(\"ftp://ftp.wwpdb.org/pub/pdb/derived_data/pdb_entry_type.txt\", header=None, names=[\"id\", \"acid\", \"structure_determination\"], sep=\"\\t\")"
   ]
  },
  {
   "cell_type": "code",
   "execution_count": 3,
   "metadata": {},
   "outputs": [
    {
     "name": "stdout",
     "output_type": "stream",
     "text": [
      "(168358, 3)\n"
     ]
    },
    {
     "data": {
      "text/html": [
       "<div>\n",
       "<style scoped>\n",
       "    .dataframe tbody tr th:only-of-type {\n",
       "        vertical-align: middle;\n",
       "    }\n",
       "\n",
       "    .dataframe tbody tr th {\n",
       "        vertical-align: top;\n",
       "    }\n",
       "\n",
       "    .dataframe thead th {\n",
       "        text-align: right;\n",
       "    }\n",
       "</style>\n",
       "<table border=\"1\" class=\"dataframe\">\n",
       "  <thead>\n",
       "    <tr style=\"text-align: right;\">\n",
       "      <th></th>\n",
       "      <th>id</th>\n",
       "      <th>acid</th>\n",
       "      <th>structure_determination</th>\n",
       "    </tr>\n",
       "  </thead>\n",
       "  <tbody>\n",
       "    <tr>\n",
       "      <th>0</th>\n",
       "      <td>100d</td>\n",
       "      <td>nuc</td>\n",
       "      <td>diffraction</td>\n",
       "    </tr>\n",
       "    <tr>\n",
       "      <th>1</th>\n",
       "      <td>101d</td>\n",
       "      <td>nuc</td>\n",
       "      <td>diffraction</td>\n",
       "    </tr>\n",
       "    <tr>\n",
       "      <th>2</th>\n",
       "      <td>101m</td>\n",
       "      <td>prot</td>\n",
       "      <td>diffraction</td>\n",
       "    </tr>\n",
       "    <tr>\n",
       "      <th>3</th>\n",
       "      <td>102d</td>\n",
       "      <td>nuc</td>\n",
       "      <td>diffraction</td>\n",
       "    </tr>\n",
       "    <tr>\n",
       "      <th>4</th>\n",
       "      <td>102l</td>\n",
       "      <td>prot</td>\n",
       "      <td>diffraction</td>\n",
       "    </tr>\n",
       "  </tbody>\n",
       "</table>\n",
       "</div>"
      ],
      "text/plain": [
       "     id  acid structure_determination\n",
       "0  100d   nuc             diffraction\n",
       "1  101d   nuc             diffraction\n",
       "2  101m  prot             diffraction\n",
       "3  102d   nuc             diffraction\n",
       "4  102l  prot             diffraction"
      ]
     },
     "execution_count": 3,
     "metadata": {},
     "output_type": "execute_result"
    }
   ],
   "source": [
    "print(df.shape)\n",
    "df.head()"
   ]
  },
  {
   "cell_type": "code",
   "execution_count": 4,
   "metadata": {
    "scrolled": true
   },
   "outputs": [
    {
     "data": {
      "text/plain": [
       "array(['diffraction', 'NMR', 'other', 'EM'], dtype=object)"
      ]
     },
     "execution_count": 4,
     "metadata": {},
     "output_type": "execute_result"
    }
   ],
   "source": [
    "df.structure_determination.unique()"
   ]
  },
  {
   "cell_type": "code",
   "execution_count": 5,
   "metadata": {},
   "outputs": [
    {
     "data": {
      "text/plain": [
       "array(['nuc', 'prot', 'prot-nuc', 'other'], dtype=object)"
      ]
     },
     "execution_count": 5,
     "metadata": {},
     "output_type": "execute_result"
    }
   ],
   "source": [
    "df.acid.unique()"
   ]
  },
  {
   "cell_type": "code",
   "execution_count": 6,
   "metadata": {
    "scrolled": true
   },
   "outputs": [
    {
     "name": "stdout",
     "output_type": "stream",
     "text": [
      "(5520, 3)\n"
     ]
    },
    {
     "data": {
      "text/html": [
       "<div>\n",
       "<style scoped>\n",
       "    .dataframe tbody tr th:only-of-type {\n",
       "        vertical-align: middle;\n",
       "    }\n",
       "\n",
       "    .dataframe tbody tr th {\n",
       "        vertical-align: top;\n",
       "    }\n",
       "\n",
       "    .dataframe thead th {\n",
       "        text-align: right;\n",
       "    }\n",
       "</style>\n",
       "<table border=\"1\" class=\"dataframe\">\n",
       "  <thead>\n",
       "    <tr style=\"text-align: right;\">\n",
       "      <th></th>\n",
       "      <th>id</th>\n",
       "      <th>acid</th>\n",
       "      <th>structure_determination</th>\n",
       "    </tr>\n",
       "  </thead>\n",
       "  <tbody>\n",
       "    <tr>\n",
       "      <th>3804</th>\n",
       "      <td>1d3e</td>\n",
       "      <td>prot</td>\n",
       "      <td>EM</td>\n",
       "    </tr>\n",
       "    <tr>\n",
       "      <th>3808</th>\n",
       "      <td>1d3i</td>\n",
       "      <td>prot</td>\n",
       "      <td>EM</td>\n",
       "    </tr>\n",
       "    <tr>\n",
       "      <th>4221</th>\n",
       "      <td>1dgi</td>\n",
       "      <td>prot</td>\n",
       "      <td>EM</td>\n",
       "    </tr>\n",
       "    <tr>\n",
       "      <th>4799</th>\n",
       "      <td>1dyl</td>\n",
       "      <td>prot</td>\n",
       "      <td>EM</td>\n",
       "    </tr>\n",
       "    <tr>\n",
       "      <th>5383</th>\n",
       "      <td>1eg0</td>\n",
       "      <td>prot-nuc</td>\n",
       "      <td>EM</td>\n",
       "    </tr>\n",
       "  </tbody>\n",
       "</table>\n",
       "</div>"
      ],
      "text/plain": [
       "        id      acid structure_determination\n",
       "3804  1d3e      prot                      EM\n",
       "3808  1d3i      prot                      EM\n",
       "4221  1dgi      prot                      EM\n",
       "4799  1dyl      prot                      EM\n",
       "5383  1eg0  prot-nuc                      EM"
      ]
     },
     "execution_count": 6,
     "metadata": {},
     "output_type": "execute_result"
    }
   ],
   "source": [
    "df_EM = df[(df.structure_determination=='EM')&df.acid.isin(['prot', 'prot-nuc'])]\n",
    "print(df_EM.shape)\n",
    "df_EM.head()"
   ]
  },
  {
   "cell_type": "code",
   "execution_count": 7,
   "metadata": {},
   "outputs": [],
   "source": [
    "rand_proteins = [random.randint(0,len(df_EM)) for _ in range(20)]"
   ]
  },
  {
   "cell_type": "code",
   "execution_count": 8,
   "metadata": {
    "scrolled": true
   },
   "outputs": [],
   "source": [
    "selected_proteins = list(df_EM.id.iloc[rand_proteins].values)"
   ]
  },
  {
   "cell_type": "code",
   "execution_count": 9,
   "metadata": {},
   "outputs": [],
   "source": [
    "PDB_DIR = \"/home/jelena/PDB\"  #\"/mnt/scratch/students/PDB\"\n",
    "pathlib.Path(PDB_DIR).mkdir(parents=True, exist_ok=True)"
   ]
  },
  {
   "cell_type": "code",
   "execution_count": 10,
   "metadata": {},
   "outputs": [],
   "source": [
    "for i in selected_proteins:\n",
    "    get_ipython().system_raw(f'wget http://files.rcsb.org/download/{i}.pdb -O {PDB_DIR}/{i}.pdb')"
   ]
  },
  {
   "cell_type": "code",
   "execution_count": 14,
   "metadata": {},
   "outputs": [
    {
     "data": {
      "text/plain": [
       "['2x8q.pdb',\n",
       " '5a79.pdb',\n",
       " '5aj0.pdb',\n",
       " '5oh0.pdb',\n",
       " '5tau.pdb',\n",
       " '5v4s.pdb',\n",
       " '5zzm.pdb',\n",
       " '6gv9.pdb',\n",
       " '6gzq.pdb',\n",
       " '6hu9.pdb',\n",
       " '6lve.pdb',\n",
       " '6o6c.pdb',\n",
       " '6peq.pdb',\n",
       " '6red.pdb',\n",
       " '6ulg.pdb',\n",
       " '6vaa.pdb',\n",
       " '6vum.pdb',\n",
       " '6w2d.pdb',\n",
       " '6xt9.pdb',\n",
       " '7jg8.pdb']"
      ]
     },
     "execution_count": 14,
     "metadata": {},
     "output_type": "execute_result"
    }
   ],
   "source": [
    "get_ipython().getoutput(f\"ls {PDB_DIR}\", split=True)"
   ]
  },
  {
   "cell_type": "markdown",
   "metadata": {},
   "source": [
    "# EMAN2 script for PDB to MRC conversion"
   ]
  },
  {
   "cell_type": "markdown",
   "metadata": {},
   "source": [
    "Installation instructions available [here](https://blake.bcm.edu/emanwiki/EMAN2/Install/BinaryInstallAnaconda/2.31).  \n",
    "Download available [here](https://cryoem.bcm.edu/cryoem/downloads/view_eman2_versions).  \n",
    "Command instruction `pdb2mrc` available [here](https://blake.bcm.edu/emanwiki/PdbToMrc)."
   ]
  },
  {
   "cell_type": "code",
   "execution_count": 28,
   "metadata": {},
   "outputs": [],
   "source": [
    "MRC_DIR = \"/home/jelena/MRC\"  #\"/mnt/scratch/students/MRC\"\n",
    "pathlib.Path(MRC_DIR).mkdir(parents=True, exist_ok=True)"
   ]
  },
  {
   "cell_type": "code",
   "execution_count": 29,
   "metadata": {},
   "outputs": [],
   "source": [
    "EMAN2 = \"/home/jelena/EMAN2\""
   ]
  },
  {
   "cell_type": "code",
   "execution_count": 32,
   "metadata": {},
   "outputs": [],
   "source": [
    "for i in selected_proteins:\n",
    "    get_ipython().system_raw(f'export PATH=\"{EMAN2}/bin:$PATH\";{EMAN2}/bin/e2pdb2mrc.py {PDB_DIR}/{i}.pdb {MRC_DIR}/{i}.mrc res=5')"
   ]
  },
  {
   "cell_type": "code",
   "execution_count": 33,
   "metadata": {},
   "outputs": [
    {
     "data": {
      "text/plain": [
       "['2x8q.mrc',\n",
       " '5a79.mrc',\n",
       " '5oh0.mrc',\n",
       " '5v4s.mrc',\n",
       " '5zzm.mrc',\n",
       " '6gv9.mrc',\n",
       " '6hu9.mrc',\n",
       " '6lve.mrc',\n",
       " '6o6c.mrc',\n",
       " '6peq.mrc',\n",
       " '6red.mrc',\n",
       " '6ulg.mrc',\n",
       " '6vaa.mrc',\n",
       " '6vum.mrc',\n",
       " '6w2d.mrc',\n",
       " '6xt9.mrc',\n",
       " '7jg8.mrc']"
      ]
     },
     "execution_count": 33,
     "metadata": {},
     "output_type": "execute_result"
    }
   ],
   "source": [
    "get_ipython().getoutput(f\"ls {MRC_DIR}\", split=True)"
   ]
  },
  {
   "cell_type": "code",
   "execution_count": null,
   "metadata": {},
   "outputs": [],
   "source": []
  }
 ],
 "metadata": {
  "kernelspec": {
   "display_name": "Python 3",
   "language": "python",
   "name": "python3"
  },
  "language_info": {
   "codemirror_mode": {
    "name": "ipython",
    "version": 3
   },
   "file_extension": ".py",
   "mimetype": "text/x-python",
   "name": "python",
   "nbconvert_exporter": "python",
   "pygments_lexer": "ipython3",
   "version": "3.6.9"
  }
 },
 "nbformat": 4,
 "nbformat_minor": 2
}
