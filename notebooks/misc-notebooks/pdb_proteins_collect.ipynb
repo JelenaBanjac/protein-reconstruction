{
 "cells": [
  {
   "cell_type": "markdown",
   "metadata": {},
   "source": [
    "# Collect protein PDBs"
   ]
  },
  {
   "cell_type": "markdown",
   "metadata": {},
   "source": [
    "Collect additional protein structures from PDB database.  \n",
    "Various summaries of current data in the PDB archive are available on [summaries_link](https://www.rcsb.org/pages/general/summaries).\n",
    "Download [`pdb_entry_type.txt`](ftp://ftp.wwpdb.org/pub/pdb/derived_data/pdb_entry_type.txt) contraining all protein IDs. Based on the protein ID, we will download the protein `*.pdb` files.\n",
    "We are only interested in proteins whose structure was determined by **EM**."
   ]
  },
  {
   "cell_type": "code",
   "execution_count": 1,
   "metadata": {},
   "outputs": [],
   "source": [
    "import pandas as pd\n",
    "import random\n",
    "import pathlib"
   ]
  },
  {
   "cell_type": "code",
   "execution_count": 2,
   "metadata": {},
   "outputs": [],
   "source": [
    "df = pd.read_csv(\"ftp://ftp.wwpdb.org/pub/pdb/derived_data/pdb_entry_type.txt\", header=None, names=[\"id\", \"acid\", \"structure_determination\"], sep=\"\\t\")"
   ]
  },
  {
   "cell_type": "code",
   "execution_count": 3,
   "metadata": {},
   "outputs": [
    {
     "name": "stdout",
     "output_type": "stream",
     "text": [
      "(170383, 3)\n"
     ]
    },
    {
     "data": {
      "text/html": [
       "<div>\n",
       "<style scoped>\n",
       "    .dataframe tbody tr th:only-of-type {\n",
       "        vertical-align: middle;\n",
       "    }\n",
       "\n",
       "    .dataframe tbody tr th {\n",
       "        vertical-align: top;\n",
       "    }\n",
       "\n",
       "    .dataframe thead th {\n",
       "        text-align: right;\n",
       "    }\n",
       "</style>\n",
       "<table border=\"1\" class=\"dataframe\">\n",
       "  <thead>\n",
       "    <tr style=\"text-align: right;\">\n",
       "      <th></th>\n",
       "      <th>id</th>\n",
       "      <th>acid</th>\n",
       "      <th>structure_determination</th>\n",
       "    </tr>\n",
       "  </thead>\n",
       "  <tbody>\n",
       "    <tr>\n",
       "      <th>0</th>\n",
       "      <td>100d</td>\n",
       "      <td>nuc</td>\n",
       "      <td>diffraction</td>\n",
       "    </tr>\n",
       "    <tr>\n",
       "      <th>1</th>\n",
       "      <td>101d</td>\n",
       "      <td>nuc</td>\n",
       "      <td>diffraction</td>\n",
       "    </tr>\n",
       "    <tr>\n",
       "      <th>2</th>\n",
       "      <td>101m</td>\n",
       "      <td>prot</td>\n",
       "      <td>diffraction</td>\n",
       "    </tr>\n",
       "    <tr>\n",
       "      <th>3</th>\n",
       "      <td>102d</td>\n",
       "      <td>nuc</td>\n",
       "      <td>diffraction</td>\n",
       "    </tr>\n",
       "    <tr>\n",
       "      <th>4</th>\n",
       "      <td>102l</td>\n",
       "      <td>prot</td>\n",
       "      <td>diffraction</td>\n",
       "    </tr>\n",
       "  </tbody>\n",
       "</table>\n",
       "</div>"
      ],
      "text/plain": [
       "     id  acid structure_determination\n",
       "0  100d   nuc             diffraction\n",
       "1  101d   nuc             diffraction\n",
       "2  101m  prot             diffraction\n",
       "3  102d   nuc             diffraction\n",
       "4  102l  prot             diffraction"
      ]
     },
     "execution_count": 3,
     "metadata": {},
     "output_type": "execute_result"
    }
   ],
   "source": [
    "print(df.shape)\n",
    "df.head()"
   ]
  },
  {
   "cell_type": "code",
   "execution_count": 4,
   "metadata": {
    "scrolled": true
   },
   "outputs": [
    {
     "data": {
      "text/plain": [
       "array(['diffraction', 'NMR', 'other', 'EM'], dtype=object)"
      ]
     },
     "execution_count": 4,
     "metadata": {},
     "output_type": "execute_result"
    }
   ],
   "source": [
    "df.structure_determination.unique()"
   ]
  },
  {
   "cell_type": "code",
   "execution_count": 5,
   "metadata": {},
   "outputs": [
    {
     "data": {
      "text/plain": [
       "array(['nuc', 'prot', 'prot-nuc', 'other'], dtype=object)"
      ]
     },
     "execution_count": 5,
     "metadata": {},
     "output_type": "execute_result"
    }
   ],
   "source": [
    "df.acid.unique()"
   ]
  },
  {
   "cell_type": "code",
   "execution_count": 6,
   "metadata": {
    "scrolled": true
   },
   "outputs": [
    {
     "name": "stdout",
     "output_type": "stream",
     "text": [
      "(5995, 3)\n"
     ]
    },
    {
     "data": {
      "text/html": [
       "<div>\n",
       "<style scoped>\n",
       "    .dataframe tbody tr th:only-of-type {\n",
       "        vertical-align: middle;\n",
       "    }\n",
       "\n",
       "    .dataframe tbody tr th {\n",
       "        vertical-align: top;\n",
       "    }\n",
       "\n",
       "    .dataframe thead th {\n",
       "        text-align: right;\n",
       "    }\n",
       "</style>\n",
       "<table border=\"1\" class=\"dataframe\">\n",
       "  <thead>\n",
       "    <tr style=\"text-align: right;\">\n",
       "      <th></th>\n",
       "      <th>id</th>\n",
       "      <th>acid</th>\n",
       "      <th>structure_determination</th>\n",
       "    </tr>\n",
       "  </thead>\n",
       "  <tbody>\n",
       "    <tr>\n",
       "      <th>3804</th>\n",
       "      <td>1d3e</td>\n",
       "      <td>prot</td>\n",
       "      <td>EM</td>\n",
       "    </tr>\n",
       "    <tr>\n",
       "      <th>3808</th>\n",
       "      <td>1d3i</td>\n",
       "      <td>prot</td>\n",
       "      <td>EM</td>\n",
       "    </tr>\n",
       "    <tr>\n",
       "      <th>4221</th>\n",
       "      <td>1dgi</td>\n",
       "      <td>prot</td>\n",
       "      <td>EM</td>\n",
       "    </tr>\n",
       "    <tr>\n",
       "      <th>4799</th>\n",
       "      <td>1dyl</td>\n",
       "      <td>prot</td>\n",
       "      <td>EM</td>\n",
       "    </tr>\n",
       "    <tr>\n",
       "      <th>5383</th>\n",
       "      <td>1eg0</td>\n",
       "      <td>prot-nuc</td>\n",
       "      <td>EM</td>\n",
       "    </tr>\n",
       "  </tbody>\n",
       "</table>\n",
       "</div>"
      ],
      "text/plain": [
       "        id      acid structure_determination\n",
       "3804  1d3e      prot                      EM\n",
       "3808  1d3i      prot                      EM\n",
       "4221  1dgi      prot                      EM\n",
       "4799  1dyl      prot                      EM\n",
       "5383  1eg0  prot-nuc                      EM"
      ]
     },
     "execution_count": 6,
     "metadata": {},
     "output_type": "execute_result"
    }
   ],
   "source": [
    "df_EM = df[(df.structure_determination=='EM')&df.acid.isin(['prot', 'prot-nuc'])]\n",
    "print(df_EM.shape)\n",
    "df_EM.head()"
   ]
  },
  {
   "cell_type": "code",
   "execution_count": 7,
   "metadata": {},
   "outputs": [
    {
     "data": {
      "text/plain": [
       "5995"
      ]
     },
     "execution_count": 7,
     "metadata": {},
     "output_type": "execute_result"
    }
   ],
   "source": [
    "len(set(list(df_EM.id.values)))"
   ]
  },
  {
   "cell_type": "markdown",
   "metadata": {},
   "source": [
    "Collect proteins with the following properties:\n",
    "- Asymmetric C1\n",
    "- EM experimental method\n",
    "Search query used can be seen [here](https://www.rcsb.org/search?request=%7B%22query%22%3A%7B%22type%22%3A%22group%22%2C%22logical_operator%22%3A%22and%22%2C%22nodes%22%3A%5B%7B%22parameters%22%3A%7B%22value%22%3A%22Asymmetric%20-%20C1%22%7D%2C%22type%22%3A%22terminal%22%2C%22service%22%3A%22text%22%2C%22node_id%22%3A0%7D%2C%7B%22type%22%3A%22group%22%2C%22logical_operator%22%3A%22and%22%2C%22nodes%22%3A%5B%7B%22type%22%3A%22group%22%2C%22logical_operator%22%3A%22or%22%2C%22nodes%22%3A%5B%7B%22type%22%3A%22terminal%22%2C%22service%22%3A%22text%22%2C%22parameters%22%3A%7B%22attribute%22%3A%22exptl.method%22%2C%22operator%22%3A%22exact_match%22%2C%22value%22%3A%22ELECTRON%20MICROSCOPY%22%7D%2C%22node_id%22%3A1%7D%5D%7D%2C%7B%22type%22%3A%22group%22%2C%22logical_operator%22%3A%22or%22%2C%22nodes%22%3A%5B%7B%22type%22%3A%22group%22%2C%22logical_operator%22%3A%22and%22%2C%22nodes%22%3A%5B%7B%22type%22%3A%22terminal%22%2C%22service%22%3A%22text%22%2C%22parameters%22%3A%7B%22attribute%22%3A%22rcsb_struct_symmetry.type%22%2C%22operator%22%3A%22exact_match%22%2C%22value%22%3A%22Asymmetric%22%7D%2C%22node_id%22%3A2%7D%2C%7B%22type%22%3A%22terminal%22%2C%22service%22%3A%22text%22%2C%22parameters%22%3A%7B%22attribute%22%3A%22rcsb_struct_symmetry.kind%22%2C%22operator%22%3A%22exact_match%22%2C%22value%22%3A%22Global%20Symmetry%22%7D%2C%22node_id%22%3A3%7D%5D%7D%5D%7D%5D%2C%22label%22%3A%22refinements%22%7D%5D%7D%2C%22return_type%22%3A%22entry%22%2C%22request_options%22%3A%7B%22pager%22%3A%7B%22start%22%3A0%2C%22rows%22%3A100%7D%2C%22scoring_strategy%22%3A%22combined%22%2C%22sort%22%3A%5B%7B%22sort_by%22%3A%22score%22%2C%22direction%22%3A%22desc%22%7D%5D%7D%2C%22request_info%22%3A%7B%22src%22%3A%22ui%22%2C%22query_id%22%3A%22b9a06adb84a9ffb88c6bb8186b90b9f9%22%7D%7D)."
   ]
  },
  {
   "cell_type": "code",
   "execution_count": 8,
   "metadata": {},
   "outputs": [],
   "source": [
    "# rand_proteins = [random.randint(0,len(df_EM)) for _ in range(20)]\n",
    "# selected_proteins = list(df_EM.id.iloc[rand_proteins].values)\n",
    "\n",
    "selected_proteins = ['4usn', \n",
    "                     '5nvu',\n",
    "                     '5nvs',\n",
    "                     '6mem',\n",
    "                     '6o1o',\n",
    "                     '6ran',\n",
    "                     '6ram',\n",
    "                     '5j0n']\n",
    "assert len(selected_proteins) == len(set.intersection(set(list(df_EM.id.values)), set(selected_proteins))), \"Selected proteins should be using EM experimental method\""
   ]
  },
  {
   "cell_type": "code",
   "execution_count": 9,
   "metadata": {},
   "outputs": [],
   "source": [
    "PDB_DIR = \"/home/jelena/PDB\"  #\"/mnt/scratch/students/PDB\"\n",
    "pathlib.Path(PDB_DIR).mkdir(parents=True, exist_ok=True)"
   ]
  },
  {
   "cell_type": "code",
   "execution_count": 10,
   "metadata": {},
   "outputs": [],
   "source": [
    "for i in selected_proteins:\n",
    "    get_ipython().system_raw(f'wget http://files.rcsb.org/download/{i}.pdb -O {PDB_DIR}/{i}.pdb')"
   ]
  },
  {
   "cell_type": "code",
   "execution_count": 11,
   "metadata": {},
   "outputs": [
    {
     "data": {
      "text/plain": [
       "['2cse.pdb',\n",
       " '4bed.pdb',\n",
       " '4usn.pdb',\n",
       " '4v71.pdb',\n",
       " '5iou.pdb',\n",
       " '5j0n.pdb',\n",
       " '5nvs.pdb',\n",
       " '5nvu.pdb',\n",
       " '5o5b.pdb',\n",
       " '5t4p.pdb',\n",
       " '5zlu.pdb',\n",
       " '6buz.pdb',\n",
       " '6lz1.pdb',\n",
       " '6mem.pdb',\n",
       " '6n8m.pdb',\n",
       " '6o1o.pdb',\n",
       " '6psf.pdb',\n",
       " '6qee.pdb',\n",
       " '6ram.pdb',\n",
       " '6ran.pdb',\n",
       " '6rd5.pdb',\n",
       " '6re5.pdb',\n",
       " '6sjl.pdb',\n",
       " '6vkn.pdb',\n",
       " '6w4o.pdb',\n",
       " '6wbk.pdb',\n",
       " '6xe0.pdb',\n",
       " '7c79.pdb']"
      ]
     },
     "execution_count": 11,
     "metadata": {},
     "output_type": "execute_result"
    }
   ],
   "source": [
    "get_ipython().getoutput(f\"ls {PDB_DIR}\", split=True)"
   ]
  },
  {
   "cell_type": "markdown",
   "metadata": {},
   "source": [
    "# EMAN2 script for PDB to MRC conversion"
   ]
  },
  {
   "cell_type": "markdown",
   "metadata": {},
   "source": [
    "Installation instructions available [here](https://blake.bcm.edu/emanwiki/EMAN2/Install/BinaryInstallAnaconda/2.31).  \n",
    "Download available [here](https://cryoem.bcm.edu/cryoem/downloads/view_eman2_versions).  \n",
    "Command instruction `pdb2mrc` available [here](https://blake.bcm.edu/emanwiki/PdbToMrc)."
   ]
  },
  {
   "cell_type": "markdown",
   "metadata": {},
   "source": [
    "Command optional parameters e2pdb2mrc [here](https://blake.bcm.edu/eman2/EMAN2.html/node100.html)."
   ]
  },
  {
   "cell_type": "code",
   "execution_count": 32,
   "metadata": {},
   "outputs": [],
   "source": [
    "MRC_DIR = \"/home/jelena/MRC\"  #\"/mnt/scratch/students/MRC\"\n",
    "pathlib.Path(MRC_DIR).mkdir(parents=True, exist_ok=True)"
   ]
  },
  {
   "cell_type": "code",
   "execution_count": 33,
   "metadata": {},
   "outputs": [],
   "source": [
    "EMAN2 = \"/home/jelena/EMAN2\""
   ]
  },
  {
   "cell_type": "code",
   "execution_count": 34,
   "metadata": {},
   "outputs": [],
   "source": [
    "for i in selected_proteins:\n",
    "    get_ipython().system_raw(f'export PATH=\"{EMAN2}/bin:$PATH\";{EMAN2}/bin/e2pdb2mrc.py -R 8 -A 2 {PDB_DIR}/{i}.pdb {MRC_DIR}/{i}.mrc')"
   ]
  },
  {
   "cell_type": "code",
   "execution_count": 35,
   "metadata": {},
   "outputs": [
    {
     "data": {
      "text/plain": [
       "['4usn.mrc',\n",
       " '5j0n.mrc',\n",
       " '5nvs.mrc',\n",
       " '5nvu.mrc',\n",
       " '6mem.mrc',\n",
       " '6o1o.mrc',\n",
       " '6ram.mrc',\n",
       " '6ran.mrc']"
      ]
     },
     "execution_count": 35,
     "metadata": {},
     "output_type": "execute_result"
    }
   ],
   "source": [
    "get_ipython().getoutput(f\"ls {MRC_DIR}\", split=True)"
   ]
  },
  {
   "cell_type": "code",
   "execution_count": null,
   "metadata": {},
   "outputs": [],
   "source": []
  }
 ],
 "metadata": {
  "kernelspec": {
   "display_name": "Python 3",
   "language": "python",
   "name": "python3"
  },
  "language_info": {
   "codemirror_mode": {
    "name": "ipython",
    "version": 3
   },
   "file_extension": ".py",
   "mimetype": "text/x-python",
   "name": "python",
   "nbconvert_exporter": "python",
   "pygments_lexer": "ipython3",
   "version": "3.6.9"
  }
 },
 "nbformat": 4,
 "nbformat_minor": 2
}
