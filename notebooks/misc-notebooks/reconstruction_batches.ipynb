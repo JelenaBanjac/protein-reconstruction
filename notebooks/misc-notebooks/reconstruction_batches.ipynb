{
 "cells": [
  {
   "cell_type": "code",
   "execution_count": 1,
   "metadata": {},
   "outputs": [],
   "source": [
    "import sys\n",
    "sys.path.append(\"../..\") \n",
    "from cryoem.projections import generate_2D_projections\n",
    "import numpy as np\n",
    "from mayavi import mlab"
   ]
  },
  {
   "cell_type": "code",
   "execution_count": 2,
   "metadata": {},
   "outputs": [],
   "source": [
    "PROTEIN = \"5j0n\"\n",
    "ANGLE_COVERAGE = [2.0, 1.0, 2.0] \n",
    "ANGLE_SHIFT     = [0., 0., 0.]\n",
    "PROJECTIONS_NUM_SINGLE = 2000\n",
    "DTYPE = np.float32"
   ]
  },
  {
   "cell_type": "code",
   "execution_count": 3,
   "metadata": {},
   "outputs": [
    {
     "name": "stdout",
     "output_type": "stream",
     "text": [
      "* Generating the dataset *\n",
      "Protein:         5j0n\n",
      "Input filename:  ../../data/5j0n.mrc\n",
      "Output filename: 5j0n_ProjectionsAngles_ProjNber2000_AngCoverage2.0,1.0,2.0_AngShift2.0,1.0,2.0.h5\n",
      "Volume:          (69, 57, 75)\n",
      "Projections (#): (2000, 116, 116)\n",
      "Angles (#):      (2000, 3)\n",
      "\n",
      "**********\n"
     ]
    }
   ],
   "source": [
    "generate_2D_projections(input_file_path=f\"../../data/{PROTEIN}.mrc\", \n",
    "                            ProjNber=PROJECTIONS_NUM_SINGLE,\n",
    "                            AngCoverage=ANGLE_COVERAGE,\n",
    "                            AngShift=ANGLE_SHIFT,\n",
    "                            Angles=None, #np.load(f\"{RESULTS_DIR}/custom_true_angles.npy\"), #np.load(f\"{RESULTS_DIR}/custom_true_angles.npy\"),\n",
    "                            angles_gen_mode=\"uniform_angles\",#\"uniform_angles\",\n",
    "                            output_file_name=f\"{PROTEIN}_ProjectionsAngles_ProjNber{PROJECTIONS_NUM_SINGLE}_AngCoverage{','.join(map(str, ANGLE_COVERAGE))}_AngShift{','.join(map(str, ANGLE_COVERAGE))}.h5\",  \n",
    "                            dtype=DTYPE)"
   ]
  },
  {
   "cell_type": "code",
   "execution_count": 4,
   "metadata": {},
   "outputs": [],
   "source": [
    "import numpy as np\n",
    "from os import mkdir\n",
    "from os.path import join, isdir\n",
    "from imageio import imread, imwrite\n",
    "from cryoem.rotation_matrices import RotationMatrix\n",
    "import astra\n",
    "import mrcfile\n",
    "from pathlib import Path\n",
    "\n",
    "def reconstruct(projections, angles, vol_shape, batch_size=50, mrc_filename=None, overwrite=False):\n",
    "    reconstruction = 0\n",
    "    # Generate projs with ASTRA by batches \n",
    "#     Iter = int(len(projections_all)/batch_size) \n",
    "#     for i in range(Iter):\n",
    "#         projections = projections_all[i*batch_size : (i + 1)*batch_size, :, :]\n",
    "#         angles = angles_all[i*batch_size : (i + 1)*batch_size, :]\n",
    "        \n",
    "    # Generate orientation vectors based on angles\n",
    "    orientation_vectors   = RotationMatrix(angles)\n",
    "\n",
    "    # Reshape projections correctly \n",
    "    projections1 = np.transpose(projections, (1, 0, 2))\n",
    "\n",
    "    # Get projection dimension\n",
    "    proj_size = projections1.shape[0]\n",
    "    if vol_shape is None:\n",
    "        vol_shape = [proj_size, proj_size, proj_size]\n",
    "\n",
    "    # Create projection 2D geometry in ASTRA\n",
    "    proj_geom = astra.create_proj_geom('parallel3d_vec', proj_size, proj_size, orientation_vectors)\n",
    "    projections_id = astra.data3d.create('-sino', proj_geom, projections1)\n",
    "\n",
    "    # Create reconstruction.\n",
    "    vol_geom = astra.creators.create_vol_geom(vol_shape[1], vol_shape[2], vol_shape[0])\n",
    "    reconstruction_id = astra.data3d.create('-vol', vol_geom, data=reconstruction)\n",
    "\n",
    "    alg_cfg = astra.astra_dict('BP3D_CUDA')\n",
    "    alg_cfg['ProjectionDataId'] = projections_id\n",
    "    alg_cfg['ReconstructionDataId'] = reconstruction_id\n",
    "    algorithm_id = astra.algorithm.create(alg_cfg)\n",
    "    astra.algorithm.run(algorithm_id)\n",
    "    reconstruction = astra.data3d.get(reconstruction_id)\n",
    "\n",
    "\n",
    "    # Limit and scale reconstruction.\n",
    "#     reconstruction[reconstruction < 0] = 0\n",
    "#     reconstruction /= np.max(reconstruction)\n",
    "#     reconstruction = np.round(reconstruction * 255).astype(np.uint8)\n",
    "\n",
    "    # Cleanup.\n",
    "    astra.algorithm.delete(algorithm_id)\n",
    "    astra.data3d.delete(reconstruction_id)\n",
    "    astra.data3d.delete(projections_id)\n",
    "\n",
    "\n",
    "    # Save reconstruction to mrc file for chimera\n",
    "    if mrc_filename:\n",
    "        Path(mrc_filename).parent.mkdir(parents=True, exist_ok=True)\n",
    "        with mrcfile.new(mrc_filename, overwrite=overwrite) as mrc:\n",
    "            mrc.set_data(reconstruction)\n",
    "#             mrc.header.nx=75\n",
    "#             mrc.header.nx=57\n",
    "#             mrc.header.nx=69\n",
    "            mrc.header.cella = (275, 209, 253)\n",
    "            mrc.header.cellb = (90,90,90)\n",
    "            mrc.header.origin= (69.753, 63.1, 26.546001)\n",
    "            mrc.header.ispg=0\n",
    "            #mrc.header.mode=2\n",
    "        \n",
    "    return reconstruction\n",
    "\n",
    "# def reconstruct_from_file(input_file, limit=3000, mrc_filename=None):\n",
    "#     data = np.load(f'data/{input_file}.npz')\n",
    "#     projections, angles = data[\"arr_0\"].astype(np.float64)[:limit, :, :], data[\"arr_1\"].astype(np.float64)[:limit, :]\n",
    "\n",
    "#     return reconstruct(projections, angles, mrc_filename)\n"
   ]
  },
  {
   "cell_type": "code",
   "execution_count": 5,
   "metadata": {},
   "outputs": [],
   "source": [
    "import h5py"
   ]
  },
  {
   "cell_type": "code",
   "execution_count": 6,
   "metadata": {},
   "outputs": [],
   "source": [
    "# half coverage (AngCoverage=0.5)\n",
    "projections_filename = f\"{PROTEIN}_ProjectionsAngles_ProjNber{PROJECTIONS_NUM_SINGLE}_AngCoverage{','.join(map(str, ANGLE_COVERAGE))}_AngShift{','.join(map(str, ANGLE_COVERAGE))}.h5\"\n",
    "\n",
    "# load structures\n",
    "data = h5py.File(projections_filename, 'r')\n",
    "\n",
    "projections = data[\"Projections\"]\n",
    "angles_true = data[\"Angles\"]"
   ]
  },
  {
   "cell_type": "code",
   "execution_count": 7,
   "metadata": {},
   "outputs": [
    {
     "data": {
      "text/plain": [
       "(2000, 116, 116)"
      ]
     },
     "execution_count": 7,
     "metadata": {},
     "output_type": "execute_result"
    }
   ],
   "source": [
    "projections.shape"
   ]
  },
  {
   "cell_type": "code",
   "execution_count": 8,
   "metadata": {},
   "outputs": [
    {
     "data": {
      "text/plain": [
       "numpy.float32"
      ]
     },
     "execution_count": 8,
     "metadata": {},
     "output_type": "execute_result"
    }
   ],
   "source": [
    "type(projections[0][0][0])"
   ]
  },
  {
   "cell_type": "code",
   "execution_count": 9,
   "metadata": {},
   "outputs": [],
   "source": [
    "reconstruction = reconstruct(projections, angles_true, mrc_filename=\"5j0n_2k_new.mrc\", overwrite=True, vol_shape=[69, 57, 75])\n"
   ]
  },
  {
   "cell_type": "code",
   "execution_count": 11,
   "metadata": {},
   "outputs": [],
   "source": [
    "mlab.contour3d(reconstruction, transparent=True)\n",
    "mlab.colorbar(orientation='vertical')\n",
    "# mlab.savefig(\"data/5a1a_projections_and_angles.tiff\")\n",
    "mlab.show()"
   ]
  },
  {
   "cell_type": "code",
   "execution_count": null,
   "metadata": {},
   "outputs": [],
   "source": []
  }
 ],
 "metadata": {
  "kernelspec": {
   "display_name": "Python 3",
   "language": "python",
   "name": "python3"
  },
  "language_info": {
   "codemirror_mode": {
    "name": "ipython",
    "version": 3
   },
   "file_extension": ".py",
   "mimetype": "text/x-python",
   "name": "python",
   "nbconvert_exporter": "python",
   "pygments_lexer": "ipython3",
   "version": "3.6.9"
  }
 },
 "nbformat": 4,
 "nbformat_minor": 2
}
