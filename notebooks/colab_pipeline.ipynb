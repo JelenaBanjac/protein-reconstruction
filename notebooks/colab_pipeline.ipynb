{
  "nbformat": 4,
  "nbformat_minor": 0,
  "metadata": {
    "kernelspec": {
      "display_name": "Python 3",
      "language": "python",
      "name": "python3"
    },
    "language_info": {
      "codemirror_mode": {
        "name": "ipython",
        "version": 3
      },
      "file_extension": ".py",
      "mimetype": "text/x-python",
      "name": "python",
      "nbconvert_exporter": "python",
      "pygments_lexer": "ipython3",
      "version": "3.6.9"
    },
    "colab": {
      "name": "colab_pipeline.ipynb",
      "provenance": [],
      "toc_visible": true,
      "include_colab_link": true
    }
  },
  "cells": [
    {
      "cell_type": "markdown",
      "metadata": {
        "id": "view-in-github",
        "colab_type": "text"
      },
      "source": [
        "<a href=\"https://colab.research.google.com/github/JelenaBanjac/protein-reconstruction/blob/master/notebooks/colab_pipeline.ipynb\" target=\"_parent\"><img src=\"https://colab.research.google.com/assets/colab-badge.svg\" alt=\"Open In Colab\"/></a>"
      ]
    },
    {
      "cell_type": "markdown",
      "metadata": {
        "id": "zR-9mSW1bQhY",
        "colab_type": "text"
      },
      "source": [
        "# 3D Protein Pose Recovery"
      ]
    },
    {
      "cell_type": "markdown",
      "metadata": {
        "id": "8V5bqmVhbQhZ",
        "colab_type": "text"
      },
      "source": [
        "## (0) Setup Colab"
      ]
    },
    {
      "cell_type": "code",
      "metadata": {
        "id": "Ko43zQ1ObQha",
        "colab_type": "code",
        "colab": {}
      },
      "source": [
        "running_on_colab = True"
      ],
      "execution_count": 1,
      "outputs": []
    },
    {
      "cell_type": "code",
      "metadata": {
        "id": "bwUmun7zbQhe",
        "colab_type": "code",
        "colab": {
          "base_uri": "https://localhost:8080/",
          "height": 615
        },
        "outputId": "ac678a5c-4be3-44ca-822b-6a7fbd15d504"
      },
      "source": [
        "from pathlib import Path\n",
        "\n",
        "if running_on_colab:\n",
        "    # create directories\n",
        "    !mkdir --parents data/5j0n\n",
        "    !mkdir training\n",
        "\n",
        "    !wget -c https://repo.anaconda.com/miniconda/Miniconda3-py37_4.8.3-Linux-x86_64.sh  #Miniconda3-latest-Linux-x86_64.sh\n",
        "    !chmod +x Miniconda3-latest-Linux-x86_64.sh\n",
        "    !bash ./Miniconda3-latest-Linux-x86_64.sh -b -f -p /usr/local\n",
        "\n",
        "    # save the model on the drive\n",
        "    from google.colab import drive\n",
        "    drive.mount(\"/content/drive\")\n",
        "    #!cd 'drive/My Drive'\n",
        "    !mkdir --parents 'drive/My Drive/ModelsProtein'\n",
        "\n",
        "    # clone repo\n",
        "    !rm -r protein-reconstruction\n",
        "    !git clone https://github.com/JelenaBanjac/protein-reconstruction.git\n",
        "    !cd protein-reconstruction\n",
        "\n",
        "    #!conda env create -f protein-reconstruction/environment.yml \n",
        "\n",
        "else:\n",
        "    import sys\n",
        "    sys.path.append(\"..\") \n",
        "    \n",
        "    DATA_DIR        = \"../data\""
      ],
      "execution_count": 2,
      "outputs": [
        {
          "output_type": "stream",
          "text": [
            "mkdir: cannot create directory ‘training’: File exists\n",
            "--2020-08-23 22:37:57--  https://repo.anaconda.com/miniconda/Miniconda3-py37_4.8.3-Linux-x86_64.sh\n",
            "Resolving repo.anaconda.com (repo.anaconda.com)... 104.16.130.3, 104.16.131.3, 2606:4700::6810:8303, ...\n",
            "Connecting to repo.anaconda.com (repo.anaconda.com)|104.16.130.3|:443... connected.\n",
            "HTTP request sent, awaiting response... 200 OK\n",
            "Length: 88867207 (85M) [application/x-sh]\n",
            "Saving to: ‘Miniconda3-py37_4.8.3-Linux-x86_64.sh’\n",
            "\n",
            "Miniconda3-py37_4.8 100%[===================>]  84.75M   153MB/s    in 0.6s    \n",
            "\n",
            "2020-08-23 22:37:58 (153 MB/s) - ‘Miniconda3-py37_4.8.3-Linux-x86_64.sh’ saved [88867207/88867207]\n",
            "\n",
            "PREFIX=/usr/local\n",
            "Unpacking payload ...\n",
            "Collecting package metadata (current_repodata.json): - \b\b\\ \b\bdone\n",
            "Solving environment: / \b\b- \b\b\\ \b\bdone\n",
            "\n",
            "# All requested packages already installed.\n",
            "\n",
            "installation finished.\n",
            "WARNING:\n",
            "    You currently have a PYTHONPATH environment variable set. This may cause\n",
            "    unexpected behavior when running the Python interpreter in Miniconda3.\n",
            "    For best results, please verify that your PYTHONPATH only points to\n",
            "    directories of packages that are compatible with the Python interpreter\n",
            "    in Miniconda3: /usr/local\n",
            "Drive already mounted at /content/drive; to attempt to forcibly remount, call drive.mount(\"/content/drive\", force_remount=True).\n",
            "Cloning into 'protein-reconstruction'...\n",
            "remote: Enumerating objects: 342, done.\u001b[K\n",
            "remote: Counting objects: 100% (342/342), done.\u001b[K\n",
            "remote: Compressing objects: 100% (212/212), done.\u001b[K\n",
            "remote: Total 2861 (delta 150), reused 282 (delta 104), pack-reused 2519\u001b[K\n",
            "Receiving objects: 100% (2861/2861), 744.67 MiB | 32.86 MiB/s, done.\n",
            "Resolving deltas: 100% (1696/1696), done.\n",
            "Checking out files: 100% (158/158), done.\n"
          ],
          "name": "stdout"
        }
      ]
    },
    {
      "cell_type": "markdown",
      "metadata": {
        "id": "M4X90GbWbQhh",
        "colab_type": "text"
      },
      "source": [
        "---"
      ]
    },
    {
      "cell_type": "code",
      "metadata": {
        "id": "CJKThRCagjga",
        "colab_type": "code",
        "colab": {}
      },
      "source": [
        "# # activate your conda environment\n",
        "# %%bash\n",
        "# source activate protein_reconstruction\n",
        "# which python\n"
      ],
      "execution_count": 3,
      "outputs": []
    },
    {
      "cell_type": "code",
      "metadata": {
        "id": "RduRX5PInilL",
        "colab_type": "code",
        "colab": {}
      },
      "source": [
        "#!conda install -q -y --prefix /usr/local -c conda-forge ipyvolume\n",
        "##!/usr/local/envs/protein_reconstruction/bin/pip uninstall tensorflow-gpu\n",
        "##!/usr/local/envs/protein_reconstruction/bin/pip uninstall tensorflow\n",
        "##!/usr/local/envs/protein_reconstruction/bin/pip install tensorflow-gpu==2.0.0\n",
        "#!/usr/local/envs/protein_reconstruction/bin/pip3 uninstall tensorflow-gpu\n",
        "#!/usr/local/envs/protein_reconstruction/bin/pip3 install tensorflow-gpu==2.0.0rc1\n",
        "#!pip3 uninstall tensorflow-gpu\n",
        "##!pip uninstall tensorflow-gpu\n",
        "##!pip uninstall tensorflow\n",
        "##!pip3 uninstall tensorflow-gpu\n",
        "##!pip3 uninstall tensorflow"
      ],
      "execution_count": 4,
      "outputs": []
    },
    {
      "cell_type": "code",
      "metadata": {
        "id": "9YunVZwW7LuM",
        "colab_type": "code",
        "colab": {}
      },
      "source": [
        "import sys\n",
        "#sys.path.append(\"/usr/local/envs/protein_reconstruction/lib/python3.6/site-packages\") \n",
        "#sys.path.append('/usr/local/lib/python3.7/site-packages')\n",
        "sys.path.append(\"protein-reconstruction\")\n",
        "\n",
        "sys.path.remove('/env/python')\n",
        "#sys.path.remove('/usr/lib/python36.zip')\n",
        "#sys.path.remove('/usr/lib/python3.6')\n",
        "#sys.path.remove('/usr/lib/python3.6/lib-dynload')\n",
        "#sys.path.remove('/usr/local/lib/python3.6/dist-packages') \n",
        "#sys.path.remove('/usr/lib/python3/dist-packages') \n",
        "#sys.path.remove('/usr/local/lib/python3.6/dist-packages/IPython/extensions')\n",
        "#sys.path.remove('')\n",
        "\n",
        "DATA_DIR        = \"/content/drive/My Drive/ModelsProtein\""
      ],
      "execution_count": 12,
      "outputs": []
    },
    {
      "cell_type": "code",
      "metadata": {
        "id": "7nCFwVPRQQBh",
        "colab_type": "code",
        "colab": {}
      },
      "source": [
        "#!pip install tensorflow-graphics"
      ],
      "execution_count": 6,
      "outputs": []
    },
    {
      "cell_type": "code",
      "metadata": {
        "id": "ceBALjqPccA7",
        "colab_type": "code",
        "colab": {
          "base_uri": "https://localhost:8080/",
          "height": 51
        },
        "outputId": "fdcc175f-86a6-4628-f1f4-9bd967c9cdf3"
      },
      "source": [
        "!pip3 install mrcfile"
      ],
      "execution_count": 7,
      "outputs": [
        {
          "output_type": "stream",
          "text": [
            "Requirement already satisfied: mrcfile in /usr/local/lib/python3.6/dist-packages (1.1.2)\n",
            "Requirement already satisfied: numpy>=1.11.0 in /usr/local/lib/python3.6/dist-packages (from mrcfile) (1.18.5)\n"
          ],
          "name": "stdout"
        }
      ]
    },
    {
      "cell_type": "code",
      "metadata": {
        "id": "Lmw0xwGLexaj",
        "colab_type": "code",
        "colab": {
          "base_uri": "https://localhost:8080/",
          "height": 54
        },
        "outputId": "2d851c54-7222-4d40-aafa-6d71649b6f90"
      },
      "source": [
        "print(sys.path)"
      ],
      "execution_count": 13,
      "outputs": [
        {
          "output_type": "stream",
          "text": [
            "['', '/usr/lib/python36.zip', '/usr/lib/python3.6', '/usr/lib/python3.6/lib-dynload', '/usr/local/lib/python3.6/dist-packages', '/usr/lib/python3/dist-packages', '/usr/local/lib/python3.6/dist-packages/IPython/extensions', '/root/.ipython', 'protein-reconstruction', '/content', 'protein-reconstruction']\n"
          ],
          "name": "stdout"
        }
      ]
    },
    {
      "cell_type": "code",
      "metadata": {
        "id": "BlH15bDgWGRr",
        "colab_type": "code",
        "colab": {
          "base_uri": "https://localhost:8080/",
          "height": 461
        },
        "outputId": "ac63800f-17ef-4bab-86b4-4553177b1d0c"
      },
      "source": [
        "!conda install -c astra-toolbox astra-toolbox"
      ],
      "execution_count": 14,
      "outputs": [
        {
          "output_type": "stream",
          "text": [
            "Collecting package metadata (current_repodata.json): - \b\b\\ \b\b| \b\b/ \b\b- \b\b\\ \b\b| \b\b/ \b\b- \b\bdone\n",
            "Solving environment: | \b\b/ \b\b- \b\b\\ \b\b| \b\b/ \b\b- \b\b\\ \b\bfailed with initial frozen solve. Retrying with flexible solve.\n",
            "Solving environment: / \b\b- \b\b\\ \b\b| \b\b/ \b\b- \b\b\\ \b\b| \b\b/ \b\bfailed with repodata from current_repodata.json, will retry with next repodata source.\n",
            "Collecting package metadata (repodata.json): \\ \b\b| \b\b/ \b\b- \b\b\\ \b\b| \b\b/ \b\b- \b\b\\ \b\b| \b\b/ \b\b- \b\bdone\n",
            "Solving environment: | \b\b/ \b\b- \b\b\\ \b\b| \b\b/ \b\b- \b\b\\ \b\b| \b\b/ \b\b- \b\b\\ \b\b| \b\b/ \b\b- \b\b\\ \b\b| \b\b/ \b\b- \b\b\\ \b\b| \b\b/ \b\b- \b\b\\ \b\b| \b\b/ \b\b- \b\b\\ \b\b| \b\b/ \b\b- \b\b\\ \b\b| \b\b/ \b\b- \b\b\\ \b\b| \b\b/ \b\b- \b\b\\ \b\b| \b\b/ \b\b- \b\b\\ \b\b| \b\b/ \b\b- \b\b\\ \b\b| \b\b/ \b\b- \b\b\\ \b\b| \b\b/ \b\b- \b\b\\ \b\b| \b\b/ \b\b- \b\b\\ \b\b| \b\b/ \b\b- \b\b\\ \b\b| \b\bfailed with initial frozen solve. Retrying with flexible solve.\n",
            "Solving environment: - \b\b\\ \b\b| \b\b/ \b\b- \b\b\\ \b\b| \b\b/ \b\b- \b\b\\ \b\b| \b\b/ \b\b- \b\b\\ \b\b| \b\b/ \b\b- \b\b\\ \b\b| \b\b/ \b\b- \b\b\\ \b\b| \b\b/ \b\b- \b\b\\ \b\b| \b\b/ \b\b- \b\b\\ \b\b| \b\b/ \b\b- \b\b\\ \b\b| \b\b/ \b\b- \b\b\\ \b\b| \b\b/ \b\b- \b\b\\ \b\b| \b\b/ \b\b- \b\b\\ \b\b| \b\b/ \b\b- \b\b\\ \b\b| \b\b/ \b\b- \b\b\\ \b\b| \b\b/ \b\b- \b\b\\ \b\b| \b\b/ \b\b- \b\b\\ \b\b| \b\b/ \b\b- \b\b\\ \b\b| \b\b/ \b\b- \b\b\\ \b\b| \b\b/ \b\b- \b\b\\ \b\b| \b\b/ \b\b- \b\b\\ \b\b| \n",
            "Found conflicts! Looking for incompatible packages.\n",
            "This can take several minutes.  Press CTRL-C to abort.\n",
            "\b\bfailed\n",
            "\n",
            "UnsatisfiableError: The following specifications were found\n",
            "to be incompatible with the existing python installation in your environment:\n",
            "\n",
            "Specifications:\n",
            "\n",
            "  - astra-toolbox -> python[version='2.7.*|3.5.*|>=2.7,<2.8.0a0|>=3.5,<3.6.0a0|>=3.6,<3.7.0a0|3.6.*|3.4.*']\n",
            "\n",
            "Your python: python=3.8\n",
            "\n",
            "If python is on the left-most side of the chain, that's the version you've asked for.\n",
            "When python appears to the right, that indicates that the thing on the left is somehow\n",
            "not available for the python version you are constrained to. Note that conda will not\n",
            "change your python version to a different minor version unless you explicitly specify\n",
            "that.\n",
            "\n",
            "\n",
            "\n"
          ],
          "name": "stdout"
        }
      ]
    },
    {
      "cell_type": "code",
      "metadata": {
        "id": "3X-rFkUMczMS",
        "colab_type": "code",
        "colab": {}
      },
      "source": [
        ""
      ],
      "execution_count": 8,
      "outputs": []
    },
    {
      "cell_type": "code",
      "metadata": {
        "id": "DfGJwx4Zcz0K",
        "colab_type": "code",
        "colab": {}
      },
      "source": [
        ""
      ],
      "execution_count": 8,
      "outputs": []
    },
    {
      "cell_type": "code",
      "metadata": {
        "scrolled": true,
        "id": "SftY95AmbQhh",
        "colab_type": "code",
        "colab": {
          "base_uri": "https://localhost:8080/",
          "height": 746
        },
        "outputId": "4c011143-640c-4648-cce3-7de74df10a03"
      },
      "source": [
        "#%tensorflow_version 2.x\n",
        "import tensorflow as tf\n",
        "from tensorflow.python.client import device_lib \n",
        "print(tf.__version__)\n",
        "print(device_lib.list_local_devices())\n",
        "\n",
        "from cryoem.projections import generate_2D_projections\n",
        "from cryoem.plots import plot_projection, plot_detector_pixels, plot_angles_count\n",
        "from cryoem.preprocessing import preprocessing, train_val_test_split\n",
        "from cryoem.distance_estimation import train_distance_estimation\n",
        "from cryoem.angle_alignment import training_angle_alignment, update_quaternion\n",
        "from tensorflow.keras.optimizers import Adagrad, Ftrl\n",
        "\n",
        "from cryoem.conversions import d_q, euler2quaternion\n",
        "from cryoem.plots import plot_dP_dQ\n",
        "import h5py\n",
        "import ipyvolume as ipv\n",
        "import numpy as np\n",
        "print (sys.version)\n"
      ],
      "execution_count": 9,
      "outputs": [
        {
          "output_type": "stream",
          "text": [
            "2.3.0\n",
            "[name: \"/device:CPU:0\"\n",
            "device_type: \"CPU\"\n",
            "memory_limit: 268435456\n",
            "locality {\n",
            "}\n",
            "incarnation: 10676781074185096852\n",
            ", name: \"/device:XLA_CPU:0\"\n",
            "device_type: \"XLA_CPU\"\n",
            "memory_limit: 17179869184\n",
            "locality {\n",
            "}\n",
            "incarnation: 3803621833859401596\n",
            "physical_device_desc: \"device: XLA_CPU device\"\n",
            "]\n"
          ],
          "name": "stdout"
        },
        {
          "output_type": "error",
          "ename": "ModuleNotFoundError",
          "evalue": "ignored",
          "traceback": [
            "\u001b[0;31m---------------------------------------------------------------------------\u001b[0m",
            "\u001b[0;31mModuleNotFoundError\u001b[0m                       Traceback (most recent call last)",
            "\u001b[0;32m<ipython-input-9-623dad39d077>\u001b[0m in \u001b[0;36m<module>\u001b[0;34m()\u001b[0m\n\u001b[1;32m      5\u001b[0m \u001b[0mprint\u001b[0m\u001b[0;34m(\u001b[0m\u001b[0mdevice_lib\u001b[0m\u001b[0;34m.\u001b[0m\u001b[0mlist_local_devices\u001b[0m\u001b[0;34m(\u001b[0m\u001b[0;34m)\u001b[0m\u001b[0;34m)\u001b[0m\u001b[0;34m\u001b[0m\u001b[0;34m\u001b[0m\u001b[0m\n\u001b[1;32m      6\u001b[0m \u001b[0;34m\u001b[0m\u001b[0m\n\u001b[0;32m----> 7\u001b[0;31m \u001b[0;32mfrom\u001b[0m \u001b[0mcryoem\u001b[0m\u001b[0;34m.\u001b[0m\u001b[0mprojections\u001b[0m \u001b[0;32mimport\u001b[0m \u001b[0mgenerate_2D_projections\u001b[0m\u001b[0;34m\u001b[0m\u001b[0;34m\u001b[0m\u001b[0m\n\u001b[0m\u001b[1;32m      8\u001b[0m \u001b[0;32mfrom\u001b[0m \u001b[0mcryoem\u001b[0m\u001b[0;34m.\u001b[0m\u001b[0mplots\u001b[0m \u001b[0;32mimport\u001b[0m \u001b[0mplot_projection\u001b[0m\u001b[0;34m,\u001b[0m \u001b[0mplot_detector_pixels\u001b[0m\u001b[0;34m,\u001b[0m \u001b[0mplot_angles_count\u001b[0m\u001b[0;34m\u001b[0m\u001b[0;34m\u001b[0m\u001b[0m\n\u001b[1;32m      9\u001b[0m \u001b[0;32mfrom\u001b[0m \u001b[0mcryoem\u001b[0m\u001b[0;34m.\u001b[0m\u001b[0mpreprocessing\u001b[0m \u001b[0;32mimport\u001b[0m \u001b[0mpreprocessing\u001b[0m\u001b[0;34m,\u001b[0m \u001b[0mtrain_val_test_split\u001b[0m\u001b[0;34m\u001b[0m\u001b[0;34m\u001b[0m\u001b[0m\n",
            "\u001b[0;32m/content/protein-reconstruction/cryoem/projections.py\u001b[0m in \u001b[0;36m<module>\u001b[0;34m()\u001b[0m\n\u001b[1;32m     14\u001b[0m \u001b[0;32mfrom\u001b[0m \u001b[0mskimage\u001b[0m \u001b[0;32mimport\u001b[0m \u001b[0mtransform\u001b[0m\u001b[0;34m\u001b[0m\u001b[0;34m\u001b[0m\u001b[0m\n\u001b[1;32m     15\u001b[0m \u001b[0;32mimport\u001b[0m \u001b[0mmatplotlib\u001b[0m\u001b[0;34m.\u001b[0m\u001b[0mpyplot\u001b[0m \u001b[0;32mas\u001b[0m \u001b[0mplt\u001b[0m\u001b[0;34m\u001b[0m\u001b[0;34m\u001b[0m\u001b[0m\n\u001b[0;32m---> 16\u001b[0;31m \u001b[0;32mimport\u001b[0m \u001b[0mastra\u001b[0m\u001b[0;34m\u001b[0m\u001b[0;34m\u001b[0m\u001b[0m\n\u001b[0m\u001b[1;32m     17\u001b[0m \u001b[0;32mimport\u001b[0m \u001b[0mpathlib\u001b[0m\u001b[0;34m\u001b[0m\u001b[0;34m\u001b[0m\u001b[0m\n\u001b[1;32m     18\u001b[0m \u001b[0;32mimport\u001b[0m \u001b[0mh5py\u001b[0m\u001b[0;34m\u001b[0m\u001b[0;34m\u001b[0m\u001b[0m\n",
            "\u001b[0;31mModuleNotFoundError\u001b[0m: No module named 'astra'",
            "",
            "\u001b[0;31m---------------------------------------------------------------------------\u001b[0;32m\nNOTE: If your import is failing due to a missing package, you can\nmanually install dependencies using either !pip or !apt.\n\nTo view examples of installing some common dependencies, click the\n\"Open Examples\" button below.\n\u001b[0;31m---------------------------------------------------------------------------\u001b[0m\n"
          ]
        }
      ]
    },
    {
      "cell_type": "markdown",
      "metadata": {
        "id": "KyzpynPpbQho",
        "colab_type": "text"
      },
      "source": [
        "## (1) Generate Sythetic Data"
      ]
    },
    {
      "cell_type": "code",
      "metadata": {
        "id": "mbPP53l-bQhp",
        "colab_type": "code",
        "colab": {}
      },
      "source": [
        "PROTEIN         = \"5j0n\"\n",
        "\n",
        "PROJECTIONS_NUM = 5000\n",
        "INPUT_FILE      = f\"{PROTEIN}.mrc\"\n",
        "ANGLE_COVERAGE  = [2.0, 1.0, 0.5]\n",
        "ANGLE_SHIFT     = [0., 0., 0.]\n",
        "OUTPUT_FILE     = f\"{PROTEIN}_ProjectionsAngles_ProjNber{PROJECTIONS_NUM}_AngCoverage{','.join(map(str, ANGLE_COVERAGE))}_AngShift{','.join(map(str, ANGLE_COVERAGE))}.h5\""
      ],
      "execution_count": null,
      "outputs": []
    },
    {
      "cell_type": "code",
      "metadata": {
        "scrolled": true,
        "id": "AfpssJdVbQhs",
        "colab_type": "code",
        "colab": {}
      },
      "source": [
        "# generate sythetic data - 2D projections and their corresponding orientations from a given 3D protein\n",
        "generate_2D_projections(input_file_path=f\"{DATA_DIR}/{INPUT_FILE}\", \n",
        "                        ProjNber=PROJECTIONS_NUM,\n",
        "                        AngCoverage=ANGLE_COVERAGE,\n",
        "                        AngShift=ANGLE_SHIFT,\n",
        "                        angles_gen_mode=\"uniform_angles\",\n",
        "                        output_file_name=f\"{DATA_DIR}/{OUTPUT_FILE}\")"
      ],
      "execution_count": null,
      "outputs": []
    },
    {
      "cell_type": "code",
      "metadata": {
        "id": "1m1m5SbRbQhv",
        "colab_type": "code",
        "colab": {}
      },
      "source": [
        "# read stored data for further processing\n",
        "data = h5py.File(f\"{DATA_DIR}/{OUTPUT_FILE}\", 'r')\n",
        "projections = data['Projections']\n",
        "angles_true = np.array(data['Angles'])\n",
        "\n",
        "print(f\"{projections.shape[0]} projections of images with dimension {projections.shape[1:]} pixels\")\n",
        "print(f\"{angles_true.shape[0]} sets of {angles_true.shape[1]} ground truth rotation angles (Z-Y-Z axes) of corresponding projection images\")"
      ],
      "execution_count": null,
      "outputs": []
    },
    {
      "cell_type": "code",
      "metadata": {
        "id": "K-IFGHQCbQhy",
        "colab_type": "code",
        "colab": {}
      },
      "source": [
        "plot_angles_count(angles_true)"
      ],
      "execution_count": null,
      "outputs": []
    },
    {
      "cell_type": "code",
      "metadata": {
        "id": "NLlfyaP5bQh1",
        "colab_type": "code",
        "colab": {}
      },
      "source": [
        "plot_detector_pixels(angles_true)"
      ],
      "execution_count": null,
      "outputs": []
    },
    {
      "cell_type": "code",
      "metadata": {
        "id": "eufkIlVbbQh4",
        "colab_type": "code",
        "colab": {}
      },
      "source": [
        "ipv.screenshot()"
      ],
      "execution_count": null,
      "outputs": []
    },
    {
      "cell_type": "markdown",
      "metadata": {
        "id": "tEkUg1YQbQh7",
        "colab_type": "text"
      },
      "source": [
        "## (2) Preprocessing Data"
      ]
    },
    {
      "cell_type": "code",
      "metadata": {
        "id": "k4lZMV7AbQh7",
        "colab_type": "code",
        "colab": {}
      },
      "source": [
        "NOISY_VAR = 10\n",
        "TRANSLATION = 5"
      ],
      "execution_count": null,
      "outputs": []
    },
    {
      "cell_type": "code",
      "metadata": {
        "scrolled": false,
        "id": "WIOvO3sobQh-",
        "colab_type": "code",
        "colab": {}
      },
      "source": [
        "plot_projection(projections[0], angles=angles_true[0])"
      ],
      "execution_count": null,
      "outputs": []
    },
    {
      "cell_type": "code",
      "metadata": {
        "id": "EUDpHQLGbQiB",
        "colab_type": "code",
        "colab": {}
      },
      "source": [
        "projections = preprocessing(projections, noise_var=NOISY_VAR, left_limit=-TRANSLATION, peak_limit=0, right_limit=TRANSLATION, channels=\"gray\")"
      ],
      "execution_count": null,
      "outputs": []
    },
    {
      "cell_type": "code",
      "metadata": {
        "id": "KZ7rPlVJbQiD",
        "colab_type": "code",
        "colab": {}
      },
      "source": [
        "plot_projection(projections[0], angles=angles_true[0])"
      ],
      "execution_count": null,
      "outputs": []
    },
    {
      "cell_type": "markdown",
      "metadata": {
        "id": "689Hmcx6bQiG",
        "colab_type": "text"
      },
      "source": [
        "## (3) Distance Learning"
      ]
    },
    {
      "cell_type": "code",
      "metadata": {
        "id": "OSMND_RYbQiG",
        "colab_type": "code",
        "colab": {}
      },
      "source": [
        "DE_LOGS_DIR = \"logs/distance_estimation\"\n",
        "DE_TRAINING_DESCRIPTION = \"full_pipeline_test\""
      ],
      "execution_count": null,
      "outputs": []
    },
    {
      "cell_type": "code",
      "metadata": {
        "id": "UqSx5pZZbQiJ",
        "colab_type": "code",
        "colab": {}
      },
      "source": [
        "train_idx, val_idx, test_idx, train_pairs_num, val_pairs_num = train_val_test_split(PROJECTIONS_NUM, test_size=0.33, val_size=0.25, train_percent=0.01, val_percent=0.01)"
      ],
      "execution_count": null,
      "outputs": []
    },
    {
      "cell_type": "code",
      "metadata": {
        "id": "GE7tx88XbQiL",
        "colab_type": "code",
        "colab": {}
      },
      "source": [
        "model, history = train_distance_estimation(X=projections, y=angles_true, \n",
        "                                           train_idx=train_idx, \n",
        "                                           val_idx=val_idx,\n",
        "                                           epochs=2,  #500\n",
        "                                           batch_size=256,  #512 latest \n",
        "                                           learning_rate=1e-3, \n",
        "                                           limit_style=\"random\", \n",
        "                                           path_logs_training=DE_LOGS_DIR, \n",
        "                                           training_description=DE_DESCRIPTION,\n",
        "                                           training_steps=train_pairs_num,\n",
        "                                           validation_steps=val_pairs_num, \n",
        "                                           plot=True,\n",
        "                                           gpus=None)"
      ],
      "execution_count": null,
      "outputs": []
    },
    {
      "cell_type": "code",
      "metadata": {
        "id": "3_Z2C5WNbQiO",
        "colab_type": "code",
        "colab": {}
      },
      "source": [
        "# read stored model\n",
        "model_filename = f\"{METHODS_LOGS_DIR}/training/{TRAINING_DESCRIPTION}.h5\"\n",
        "\n",
        "# Recreate the exact same model, including its weights and the optimizer\n",
        "model = tf.keras.models.load_model(model_filename)\n",
        "\n",
        "# Show the model architecture\n",
        "model.summary()"
      ],
      "execution_count": null,
      "outputs": []
    },
    {
      "cell_type": "code",
      "metadata": {
        "id": "FlArQjqpbQiR",
        "colab_type": "code",
        "colab": {}
      },
      "source": [
        "# learned distance function\n",
        "def d_p(p1, p2):\n",
        "    p1 = tf.cast(p1, dtype=tf.float32)\n",
        "    p2 = tf.cast(p2, dtype=tf.float32)\n",
        "    return model.predict([p1, p2], batch_size=512)"
      ],
      "execution_count": null,
      "outputs": []
    },
    {
      "cell_type": "code",
      "metadata": {
        "id": "YUDkaP81bQiT",
        "colab_type": "code",
        "colab": {}
      },
      "source": [
        "# dP/dQ ratio plot\n",
        "batch_size = 512\n",
        "idx1 = list(np.random.choice(range(5000), size=batch_size))\n",
        "idx2 = list(np.random.choice(range(5000), size=batch_size))\n",
        "\n",
        "q1_true = euler2quaternion([angles_true[i] for i in idx1])\n",
        "q2_true = euler2quaternion([angles_true[i] for i in idx2])\n",
        "\n",
        "p1 = [projections[i] for i in idx1]\n",
        "p2 = [projections[i] for i in idx2]\n",
        "\n",
        "dP_values = d_p(p1, p2).T[0]\n",
        "dQ_values = d_q(q1_true, q2_true).numpy()\n",
        "\n",
        "plot_dP_dQ(dP_values, dQ_values);"
      ],
      "execution_count": null,
      "outputs": []
    },
    {
      "cell_type": "markdown",
      "metadata": {
        "id": "H1_Y27wUbQiW",
        "colab_type": "text"
      },
      "source": [
        "## (4) Angle Recovery"
      ]
    },
    {
      "cell_type": "code",
      "metadata": {
        "id": "ADaFElpGbQiW",
        "colab_type": "code",
        "colab": {}
      },
      "source": [
        "AR_LOGS_DIR = \"logs/angle_recovery\"\n",
        "AR_TRAINING_DESCRIPTION = \"full_pipeline_test\""
      ],
      "execution_count": null,
      "outputs": []
    },
    {
      "cell_type": "code",
      "metadata": {
        "id": "IeHnt2LFbQiY",
        "colab_type": "code",
        "colab": {}
      },
      "source": [
        "q_predicted, losses, q_all = train_angle_recovery(steps=50000, \n",
        "                                                 batch_size=256, \n",
        "                                                 in_data=projections, \n",
        "                                                 distance_fn=d_p, \n",
        "                                                 learning_rate=0.5, \n",
        "                                                 limit_distance=np.pi,\n",
        "                                                 file_name=f\"{AR_LOGS_DIR}/{AR_TRAINING_DESCRIPTION}\")"
      ],
      "execution_count": null,
      "outputs": []
    },
    {
      "cell_type": "code",
      "metadata": {
        "id": "t5_IPgLDbQic",
        "colab_type": "code",
        "colab": {}
      },
      "source": [
        "angles_predicted = quaternion2euler(q_predicted)"
      ],
      "execution_count": null,
      "outputs": []
    },
    {
      "cell_type": "markdown",
      "metadata": {
        "id": "JPhpWVDJbQif",
        "colab_type": "text"
      },
      "source": [
        "## (5) Angle Alignment"
      ]
    },
    {
      "cell_type": "code",
      "metadata": {
        "id": "DxrhXRm8bQif",
        "colab_type": "code",
        "colab": {}
      },
      "source": [
        "m, a_R, losses, collect_data, trajectory = training_angle_alignment(num_runs=3, \n",
        "                                                                    steps=300, \n",
        "                                                                    batch_size=256, \n",
        "                                                                    optimizer=Ftrl(learning_rate=2., learning_rate_power=-2.), \n",
        "                                                                    angles_true=angles_true, \n",
        "                                                                    angles_predicted=angles_predicted)"
      ],
      "execution_count": null,
      "outputs": []
    },
    {
      "cell_type": "code",
      "metadata": {
        "id": "OL2Q9YVFbQii",
        "colab_type": "code",
        "colab": {}
      },
      "source": [
        "m = m\n",
        "trajectory_first = trajectory[0]\n",
        "loss_first = losses[0]\n",
        "trajectory_last = trajectory[-1]\n",
        "loss_last = losses[-1]\n",
        "\n",
        "m, trajectory_first, loss_first, trajectory_last, loss_last"
      ],
      "execution_count": null,
      "outputs": []
    },
    {
      "cell_type": "code",
      "metadata": {
        "id": "CJPrdvV5bQil",
        "colab_type": "code",
        "colab": {}
      },
      "source": [
        "q_predicted_rotated =  update_quaternion(m, a_R, q_predicted)\n",
        "angles_predicted_rotated = quaternion2euler(q_predicted_rotated)"
      ],
      "execution_count": null,
      "outputs": []
    },
    {
      "cell_type": "markdown",
      "metadata": {
        "id": "79dxuzCabQin",
        "colab_type": "text"
      },
      "source": [
        "## (6) Reconstruction"
      ]
    },
    {
      "cell_type": "code",
      "metadata": {
        "id": "Boi8YRohbQin",
        "colab_type": "code",
        "colab": {}
      },
      "source": [
        "REC_LOGS_DIR = \"logs/reconstruction\"\n",
        "REC_DESCRIPTION = \"full_pipeline_test.mrc\""
      ],
      "execution_count": null,
      "outputs": []
    },
    {
      "cell_type": "code",
      "metadata": {
        "id": "7HMMBu1VbQiq",
        "colab_type": "code",
        "colab": {}
      },
      "source": [
        "reconstruct(projections, angles_predicted, mrc_filename=f\"{REC_LOGS_DIR}/{REC_DESCRIPTION}\")"
      ],
      "execution_count": null,
      "outputs": []
    }
  ]
}