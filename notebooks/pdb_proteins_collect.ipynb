{
 "cells": [
  {
   "cell_type": "markdown",
   "metadata": {},
   "source": [
    "# Collect protein PDBs"
   ]
  },
  {
   "cell_type": "markdown",
   "metadata": {},
   "source": [
    "Collect additional protein structures from PDB database.  \n",
    "Various summaries of current data in the PDB archive are available on [summaries_link](https://www.rcsb.org/pages/general/summaries).\n",
    "Download [`pdb_entry_type.txt`](ftp://ftp.wwpdb.org/pub/pdb/derived_data/pdb_entry_type.txt) contraining all protein IDs. Based on the protein ID, we will download the protein `*.pdb` files.\n",
    "We are only interested in proteins whose structure was determined by **EM**."
   ]
  },
  {
   "cell_type": "code",
   "execution_count": 1,
   "metadata": {},
   "outputs": [],
   "source": [
    "import pandas as pd"
   ]
  },
  {
   "cell_type": "code",
   "execution_count": 2,
   "metadata": {},
   "outputs": [],
   "source": [
    "df = pd.read_csv(\"ftp://ftp.wwpdb.org/pub/pdb/derived_data/pdb_entry_type.txt\", header=None, names=[\"id\", \"acid\", \"structure_determination\"], sep=\"\\t\")"
   ]
  },
  {
   "cell_type": "code",
   "execution_count": 3,
   "metadata": {},
   "outputs": [
    {
     "name": "stdout",
     "output_type": "stream",
     "text": [
      "(168095, 3)\n"
     ]
    },
    {
     "data": {
      "text/html": [
       "<div>\n",
       "<style scoped>\n",
       "    .dataframe tbody tr th:only-of-type {\n",
       "        vertical-align: middle;\n",
       "    }\n",
       "\n",
       "    .dataframe tbody tr th {\n",
       "        vertical-align: top;\n",
       "    }\n",
       "\n",
       "    .dataframe thead th {\n",
       "        text-align: right;\n",
       "    }\n",
       "</style>\n",
       "<table border=\"1\" class=\"dataframe\">\n",
       "  <thead>\n",
       "    <tr style=\"text-align: right;\">\n",
       "      <th></th>\n",
       "      <th>id</th>\n",
       "      <th>acid</th>\n",
       "      <th>structure_determination</th>\n",
       "    </tr>\n",
       "  </thead>\n",
       "  <tbody>\n",
       "    <tr>\n",
       "      <th>0</th>\n",
       "      <td>100d</td>\n",
       "      <td>nuc</td>\n",
       "      <td>diffraction</td>\n",
       "    </tr>\n",
       "    <tr>\n",
       "      <th>1</th>\n",
       "      <td>101d</td>\n",
       "      <td>nuc</td>\n",
       "      <td>diffraction</td>\n",
       "    </tr>\n",
       "    <tr>\n",
       "      <th>2</th>\n",
       "      <td>101m</td>\n",
       "      <td>prot</td>\n",
       "      <td>diffraction</td>\n",
       "    </tr>\n",
       "    <tr>\n",
       "      <th>3</th>\n",
       "      <td>102d</td>\n",
       "      <td>nuc</td>\n",
       "      <td>diffraction</td>\n",
       "    </tr>\n",
       "    <tr>\n",
       "      <th>4</th>\n",
       "      <td>102l</td>\n",
       "      <td>prot</td>\n",
       "      <td>diffraction</td>\n",
       "    </tr>\n",
       "  </tbody>\n",
       "</table>\n",
       "</div>"
      ],
      "text/plain": [
       "     id  acid structure_determination\n",
       "0  100d   nuc             diffraction\n",
       "1  101d   nuc             diffraction\n",
       "2  101m  prot             diffraction\n",
       "3  102d   nuc             diffraction\n",
       "4  102l  prot             diffraction"
      ]
     },
     "execution_count": 3,
     "metadata": {},
     "output_type": "execute_result"
    }
   ],
   "source": [
    "print(df.shape)\n",
    "df.head()"
   ]
  },
  {
   "cell_type": "code",
   "execution_count": 4,
   "metadata": {
    "scrolled": true
   },
   "outputs": [
    {
     "data": {
      "text/plain": [
       "array(['diffraction', 'NMR', 'other', 'EM'], dtype=object)"
      ]
     },
     "execution_count": 4,
     "metadata": {},
     "output_type": "execute_result"
    }
   ],
   "source": [
    "df.structure_determination.unique()"
   ]
  },
  {
   "cell_type": "code",
   "execution_count": 5,
   "metadata": {},
   "outputs": [
    {
     "data": {
      "text/plain": [
       "array(['nuc', 'prot', 'prot-nuc', 'other'], dtype=object)"
      ]
     },
     "execution_count": 5,
     "metadata": {},
     "output_type": "execute_result"
    }
   ],
   "source": [
    "df.acid.unique()"
   ]
  },
  {
   "cell_type": "code",
   "execution_count": 6,
   "metadata": {
    "scrolled": true
   },
   "outputs": [
    {
     "name": "stdout",
     "output_type": "stream",
     "text": [
      "(5455, 3)\n"
     ]
    },
    {
     "data": {
      "text/html": [
       "<div>\n",
       "<style scoped>\n",
       "    .dataframe tbody tr th:only-of-type {\n",
       "        vertical-align: middle;\n",
       "    }\n",
       "\n",
       "    .dataframe tbody tr th {\n",
       "        vertical-align: top;\n",
       "    }\n",
       "\n",
       "    .dataframe thead th {\n",
       "        text-align: right;\n",
       "    }\n",
       "</style>\n",
       "<table border=\"1\" class=\"dataframe\">\n",
       "  <thead>\n",
       "    <tr style=\"text-align: right;\">\n",
       "      <th></th>\n",
       "      <th>id</th>\n",
       "      <th>acid</th>\n",
       "      <th>structure_determination</th>\n",
       "    </tr>\n",
       "  </thead>\n",
       "  <tbody>\n",
       "    <tr>\n",
       "      <th>3804</th>\n",
       "      <td>1d3e</td>\n",
       "      <td>prot</td>\n",
       "      <td>EM</td>\n",
       "    </tr>\n",
       "    <tr>\n",
       "      <th>3808</th>\n",
       "      <td>1d3i</td>\n",
       "      <td>prot</td>\n",
       "      <td>EM</td>\n",
       "    </tr>\n",
       "    <tr>\n",
       "      <th>4221</th>\n",
       "      <td>1dgi</td>\n",
       "      <td>prot</td>\n",
       "      <td>EM</td>\n",
       "    </tr>\n",
       "    <tr>\n",
       "      <th>4799</th>\n",
       "      <td>1dyl</td>\n",
       "      <td>prot</td>\n",
       "      <td>EM</td>\n",
       "    </tr>\n",
       "    <tr>\n",
       "      <th>5383</th>\n",
       "      <td>1eg0</td>\n",
       "      <td>prot-nuc</td>\n",
       "      <td>EM</td>\n",
       "    </tr>\n",
       "  </tbody>\n",
       "</table>\n",
       "</div>"
      ],
      "text/plain": [
       "        id      acid structure_determination\n",
       "3804  1d3e      prot                      EM\n",
       "3808  1d3i      prot                      EM\n",
       "4221  1dgi      prot                      EM\n",
       "4799  1dyl      prot                      EM\n",
       "5383  1eg0  prot-nuc                      EM"
      ]
     },
     "execution_count": 6,
     "metadata": {},
     "output_type": "execute_result"
    }
   ],
   "source": [
    "df_EM = df[(df.structure_determination=='EM')&df.acid.isin(['prot', 'prot-nuc'])]\n",
    "print(df_EM.shape)\n",
    "df_EM.head()"
   ]
  },
  {
   "cell_type": "code",
   "execution_count": 28,
   "metadata": {},
   "outputs": [],
   "source": [
    "import random"
   ]
  },
  {
   "cell_type": "code",
   "execution_count": 30,
   "metadata": {},
   "outputs": [],
   "source": [
    "rand_proteins = [random.randint(0,len(df_EM)) for _ in range(50)]"
   ]
  },
  {
   "cell_type": "code",
   "execution_count": 38,
   "metadata": {
    "scrolled": true
   },
   "outputs": [],
   "source": [
    "selected_proteins = list(df_EM.id.iloc[rand_proteins].values)"
   ]
  },
  {
   "cell_type": "code",
   "execution_count": 34,
   "metadata": {},
   "outputs": [],
   "source": [
    "for i in selected_proteins:\n",
    "    get_ipython().system_raw(f'wget http://files.rcsb.org/download/{i}.pdb -O /mnt/scratch/students/PDB/{i}.pdb')"
   ]
  },
  {
   "cell_type": "code",
   "execution_count": 35,
   "metadata": {},
   "outputs": [
    {
     "name": "stdout",
     "output_type": "stream",
     "text": [
      "1d3e.pdb  1gw8.pdb  3j6g.pdb  6bf8.pdb\t6h25.pdb  6qvu.pdb  6usf.pdb  7bte.pdb\r\n",
      "1d3i.pdb  1hb5.pdb  3jam.pdb  6c21.pdb\t6iok.pdb  6qwl.pdb  6vam.pdb  7btr.pdb\r\n",
      "1dgi.pdb  2j37.pdb  3jb7.pdb  6caa.pdb\t6iy7.pdb  6rr7.pdb  6vkt.pdb\r\n",
      "1dyl.pdb  2om7.pdb  4v3a.pdb  6cet.pdb\t6mk1.pdb  6snb.pdb  6vm2.pdb\r\n",
      "1eg0.pdb  2r1g.pdb  5a9k.pdb  6dso.pdb\t6muw.pdb  6t1y.pdb  6wut.pdb\r\n",
      "1gr5.pdb  3iyk.pdb  5fwp.pdb  6ejf.pdb\t6ofj.pdb  6th3.pdb  6y9x.pdb\r\n",
      "1gru.pdb  3j0i.pdb  5owx.pdb  6fhl.pdb\t6osj.pdb  6u1s.pdb  6ysu.pdb\r\n",
      "1gw7.pdb  3j1u.pdb  6asx.pdb  6g8z.pdb\t6qm5.pdb  6up6.pdb  6zhd.pdb\r\n"
     ]
    }
   ],
   "source": [
    "!ls /mnt/scratch/students/PDB"
   ]
  },
  {
   "cell_type": "markdown",
   "metadata": {},
   "source": [
    "# EMAN2 script for PDB to MRC conversion"
   ]
  },
  {
   "cell_type": "markdown",
   "metadata": {},
   "source": [
    "Installation instructions available [here](https://blake.bcm.edu/emanwiki/EMAN2/Install/BinaryInstallAnaconda/2.31).  \n",
    "Download available [here](https://cryoem.bcm.edu/cryoem/downloads/view_eman2_versions).  \n",
    "Command instruction `pdb2mrc` available [here](https://blake.bcm.edu/emanwiki/PdbToMrc)."
   ]
  },
  {
   "cell_type": "code",
   "execution_count": 36,
   "metadata": {},
   "outputs": [],
   "source": [
    "for i in selected_proteins:\n",
    "    get_ipython().system_raw(f'export PATH=\"/mnt/scratch/students/EMAN2/bin:$PATH\";/mnt/scratch/students/EMAN2/bin/e2pdb2mrc.py /mnt/scratch/students/PDB/{i}.pdb /mnt/scratch/students/MRC/{i}.mrc res=5')"
   ]
  },
  {
   "cell_type": "code",
   "execution_count": 37,
   "metadata": {},
   "outputs": [
    {
     "name": "stdout",
     "output_type": "stream",
     "text": [
      "1d3e.mrc  1gw8.mrc  3j6g.mrc  6bf8.mrc\t6h25.mrc  6qvu.mrc  6usf.mrc  7btr.mrc\r\n",
      "1d3i.mrc  1hb5.mrc  3jam.mrc  6c21.mrc\t6iok.mrc  6qwl.mrc  6vam.mrc\r\n",
      "1dgi.mrc  2j37.mrc  3jb7.mrc  6caa.mrc\t6iy7.mrc  6rr7.mrc  6vkt.mrc\r\n",
      "1dyl.mrc  2om7.mrc  4v3a.mrc  6cet.mrc\t6mk1.mrc  6snb.mrc  6vm2.mrc\r\n",
      "1eg0.mrc  2r1g.mrc  5a9k.mrc  6dso.mrc\t6muw.mrc  6t1y.mrc  6wut.mrc\r\n",
      "1gr5.mrc  3iyk.mrc  5fwp.mrc  6ejf.mrc\t6ofj.mrc  6th3.mrc  6y9x.mrc\r\n",
      "1gru.mrc  3j0i.mrc  5owx.mrc  6fhl.mrc\t6osj.mrc  6u1s.mrc  6zhd.mrc\r\n",
      "1gw7.mrc  3j1u.mrc  6asx.mrc  6g8z.mrc\t6qm5.mrc  6up6.mrc  7bte.mrc\r\n"
     ]
    }
   ],
   "source": [
    "!ls /mnt/scratch/students/MRC"
   ]
  }
 ],
 "metadata": {
  "kernelspec": {
   "display_name": "Python 3",
   "language": "python",
   "name": "python3"
  },
  "language_info": {
   "codemirror_mode": {
    "name": "ipython",
    "version": 3
   },
   "file_extension": ".py",
   "mimetype": "text/x-python",
   "name": "python",
   "nbconvert_exporter": "python",
   "pygments_lexer": "ipython3",
   "version": "3.6.9"
  }
 },
 "nbformat": 4,
 "nbformat_minor": 2
}
