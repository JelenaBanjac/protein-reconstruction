{
 "cells": [
  {
   "cell_type": "code",
   "execution_count": 2,
   "metadata": {},
   "outputs": [
    {
     "name": "stderr",
     "output_type": "stream",
     "text": [
      "Warning: To use the exr data format, please install the OpenEXR package following the instructions detailed in the README at github.com/tensorflow/graphics.\n",
      "Warning: To use the threejs_vizualization, please install the colabtools package following the instructions detailed in the README at github.com/tensorflow/graphics.\n"
     ]
    }
   ],
   "source": [
    "import os\n",
    "import h5py\n",
    "import numpy as np\n",
    "import time\n",
    "import pandas as pd\n",
    "\n",
    "import sys\n",
    "sys.path.append(\"..\") \n",
    "from cryoem.plots import plot_angles_count, plot_images\n",
    "from IPython.display import Image\n",
    "import matplotlib.pyplot as plt\n",
    "\n",
    "import tensorflow as tf\n",
    "from cryoem.conversions import d_q, euler2quaternion\n",
    "#from cryoem.distance_estimation import train_siamese\n",
    "import ipyvolume as ipv\n",
    "from collections import Counter\n",
    "import itertools\n",
    "import seaborn as sns; sns.set(style=\"whitegrid\", color_codes=True)\n",
    "import io"
   ]
  },
  {
   "cell_type": "code",
   "execution_count": 4,
   "metadata": {},
   "outputs": [],
   "source": [
    "PROTEIN=\"5j0n\"\n",
    "ROOT_DIR = \"..\"\n",
    "NUM_PROJECTIONS = 5000"
   ]
  },
  {
   "cell_type": "code",
   "execution_count": 5,
   "metadata": {},
   "outputs": [
    {
     "name": "stdout",
     "output_type": "stream",
     "text": [
      "5000 projections of images with dimension (116, 116) pixels\n",
      "5000 sets of 3 ground truth angles of corresponding projection images\n"
     ]
    }
   ],
   "source": [
    "# location of *.h5 files\n",
    "data_dir = \"../data/\"\n",
    "\n",
    "# half coverage (AngCoverage=0.5)\n",
    "projections_filename = f\"{PROTEIN}_ProjectionsAngles_ProjNber5000_AngCoverage0.9,0.4,2.0_AngShift0.0,0.0,0.0.h5\"\n",
    "\n",
    "# load structures\n",
    "data = h5py.File(os.path.join(data_dir, projections_filename), 'r')\n",
    "\n",
    "print(f\"{data['Projections'].shape[0]} projections of images with dimension {data['Projections'].shape[1:]} pixels\")\n",
    "print(f\"{data['Angles'].shape[0]} sets of {data['Angles'].shape[1]} ground truth angles of corresponding projection images\")"
   ]
  },
  {
   "cell_type": "code",
   "execution_count": 7,
   "metadata": {},
   "outputs": [],
   "source": [
    "from cryoem.plots import plot_euclidean_space"
   ]
  },
  {
   "cell_type": "code",
   "execution_count": 8,
   "metadata": {},
   "outputs": [
    {
     "data": {
      "application/vnd.jupyter.widget-view+json": {
       "model_id": "b84a0cd35d864e5592c06fd0168d14d3",
       "version_major": 2,
       "version_minor": 0
      },
      "text/plain": [
       "VBox(children=(Figure(camera=PerspectiveCamera(fov=46.0, position=(0.0, 0.0, 2.0), quaternion=(0.0, 0.0, 0.0, …"
      ]
     },
     "metadata": {},
     "output_type": "display_data"
    }
   ],
   "source": [
    "plot_euclidean_space(data['Angles'])"
   ]
  },
  {
   "cell_type": "code",
   "execution_count": 12,
   "metadata": {},
   "outputs": [
    {
     "name": "stdout",
     "output_type": "stream",
     "text": [
      "5000 projections of images with dimension (116, 116) pixels\n",
      "5000 sets of 3 ground truth angles of corresponding projection images\n"
     ]
    }
   ],
   "source": [
    "# location of *.h5 files\n",
    "data_dir = \"../data/\"\n",
    "\n",
    "# half coverage (AngCoverage=0.5)\n",
    "projections_filename = f\"{PROTEIN}_ProjectionsAngles_ProjNber5000_AngCoverage2.0,0.2,2.0_AngShift0.0,0.0,0.0.h5\"\n",
    "\n",
    "# load structures\n",
    "data = h5py.File(os.path.join(data_dir, projections_filename), 'r')\n",
    "\n",
    "print(f\"{data['Projections'].shape[0]} projections of images with dimension {data['Projections'].shape[1:]} pixels\")\n",
    "print(f\"{data['Angles'].shape[0]} sets of {data['Angles'].shape[1]} ground truth angles of corresponding projection images\")"
   ]
  },
  {
   "cell_type": "code",
   "execution_count": 13,
   "metadata": {},
   "outputs": [],
   "source": [
    "from cryoem.plots import plot_euclidean_space"
   ]
  },
  {
   "cell_type": "code",
   "execution_count": 14,
   "metadata": {},
   "outputs": [
    {
     "data": {
      "application/vnd.jupyter.widget-view+json": {
       "model_id": "efa66fd5501c4eedb69c0b9f4ce3edb7",
       "version_major": 2,
       "version_minor": 0
      },
      "text/plain": [
       "VBox(children=(Figure(camera=PerspectiveCamera(fov=46.0, position=(0.0, 0.0, 2.0), quaternion=(0.0, 0.0, 0.0, …"
      ]
     },
     "metadata": {},
     "output_type": "display_data"
    }
   ],
   "source": [
    "plot_euclidean_space(data['Angles'])"
   ]
  },
  {
   "cell_type": "code",
   "execution_count": 15,
   "metadata": {},
   "outputs": [
    {
     "name": "stdout",
     "output_type": "stream",
     "text": [
      "5000 projections of images with dimension (116, 116) pixels\n",
      "5000 sets of 3 ground truth angles of corresponding projection images\n"
     ]
    }
   ],
   "source": [
    "# location of *.h5 files\n",
    "data_dir = \"../data/\"\n",
    "\n",
    "# half coverage (AngCoverage=0.5)\n",
    "projections_filename = f\"{PROTEIN}_ProjectionsAngles_ProjNber5000_AngCoverage1.0,1.0,2.0_AngShift0.0,0.0,0.0.h5\"\n",
    "\n",
    "# load structures\n",
    "data = h5py.File(os.path.join(data_dir, projections_filename), 'r')\n",
    "\n",
    "print(f\"{data['Projections'].shape[0]} projections of images with dimension {data['Projections'].shape[1:]} pixels\")\n",
    "print(f\"{data['Angles'].shape[0]} sets of {data['Angles'].shape[1]} ground truth angles of corresponding projection images\")"
   ]
  },
  {
   "cell_type": "code",
   "execution_count": 16,
   "metadata": {},
   "outputs": [],
   "source": [
    "from cryoem.plots import plot_euclidean_space"
   ]
  },
  {
   "cell_type": "code",
   "execution_count": 17,
   "metadata": {},
   "outputs": [
    {
     "data": {
      "application/vnd.jupyter.widget-view+json": {
       "model_id": "8df34febdde44a9890595ff59d2aad2e",
       "version_major": 2,
       "version_minor": 0
      },
      "text/plain": [
       "VBox(children=(Figure(camera=PerspectiveCamera(fov=46.0, position=(0.0, 0.0, 2.0), quaternion=(0.0, 0.0, 0.0, …"
      ]
     },
     "metadata": {},
     "output_type": "display_data"
    }
   ],
   "source": [
    "plot_euclidean_space(data['Angles'])"
   ]
  },
  {
   "cell_type": "code",
   "execution_count": 18,
   "metadata": {},
   "outputs": [
    {
     "name": "stdout",
     "output_type": "stream",
     "text": [
      "5000 projections of images with dimension (116, 116) pixels\n",
      "5000 sets of 3 ground truth angles of corresponding projection images\n"
     ]
    }
   ],
   "source": [
    "# location of *.h5 files\n",
    "data_dir = \"../data/\"\n",
    "\n",
    "# half coverage (AngCoverage=0.5)\n",
    "projections_filename = f\"{PROTEIN}_ProjectionsAngles_ProjNber5000_AngCoverage0.4,0.4,2.0_AngShift0.0,0.0,0.0.h5\"\n",
    "\n",
    "# load structures\n",
    "data = h5py.File(os.path.join(data_dir, projections_filename), 'r')\n",
    "\n",
    "print(f\"{data['Projections'].shape[0]} projections of images with dimension {data['Projections'].shape[1:]} pixels\")\n",
    "print(f\"{data['Angles'].shape[0]} sets of {data['Angles'].shape[1]} ground truth angles of corresponding projection images\")"
   ]
  },
  {
   "cell_type": "code",
   "execution_count": 19,
   "metadata": {},
   "outputs": [],
   "source": [
    "from cryoem.plots import plot_euclidean_space"
   ]
  },
  {
   "cell_type": "code",
   "execution_count": 20,
   "metadata": {},
   "outputs": [
    {
     "data": {
      "application/vnd.jupyter.widget-view+json": {
       "model_id": "d741ce388a3647af9f21277123e095c2",
       "version_major": 2,
       "version_minor": 0
      },
      "text/plain": [
       "VBox(children=(Figure(camera=PerspectiveCamera(fov=46.0, position=(0.0, 0.0, 2.0), quaternion=(0.0, 0.0, 0.0, …"
      ]
     },
     "metadata": {},
     "output_type": "display_data"
    }
   ],
   "source": [
    "plot_euclidean_space(data['Angles'])"
   ]
  },
  {
   "cell_type": "code",
   "execution_count": 25,
   "metadata": {},
   "outputs": [
    {
     "name": "stdout",
     "output_type": "stream",
     "text": [
      "5000 projections of images with dimension (116, 116) pixels\n",
      "5000 sets of 3 ground truth angles of corresponding projection images\n"
     ]
    }
   ],
   "source": [
    "# location of *.h5 files\n",
    "data_dir = \"../data/\"\n",
    "\n",
    "# half coverage (AngCoverage=0.5)\n",
    "projections_filename = f\"{PROTEIN}_ProjectionsAngles_ProjNber5000_AngCoverage2.0,1.0,0.5_AngShift0.0,0.0,0.0.h5\"\n",
    "\n",
    "# load structures\n",
    "data = h5py.File(os.path.join(data_dir, projections_filename), 'r')\n",
    "\n",
    "print(f\"{data['Projections'].shape[0]} projections of images with dimension {data['Projections'].shape[1:]} pixels\")\n",
    "print(f\"{data['Angles'].shape[0]} sets of {data['Angles'].shape[1]} ground truth angles of corresponding projection images\")"
   ]
  },
  {
   "cell_type": "code",
   "execution_count": 26,
   "metadata": {},
   "outputs": [],
   "source": [
    "from cryoem.plots import plot_euclidean_space"
   ]
  },
  {
   "cell_type": "code",
   "execution_count": 27,
   "metadata": {},
   "outputs": [
    {
     "data": {
      "application/vnd.jupyter.widget-view+json": {
       "model_id": "4a6e8d96d09f45549839b795f1d3f2d2",
       "version_major": 2,
       "version_minor": 0
      },
      "text/plain": [
       "VBox(children=(Figure(camera=PerspectiveCamera(fov=46.0, position=(0.0, 0.0, 2.0), quaternion=(0.0, 0.0, 0.0, …"
      ]
     },
     "metadata": {},
     "output_type": "display_data"
    }
   ],
   "source": [
    "plot_euclidean_space(data['Angles'])"
   ]
  }
 ],
 "metadata": {
  "kernelspec": {
   "display_name": "Python 3",
   "language": "python",
   "name": "python3"
  },
  "language_info": {
   "codemirror_mode": {
    "name": "ipython",
    "version": 3
   },
   "file_extension": ".py",
   "mimetype": "text/x-python",
   "name": "python",
   "nbconvert_exporter": "python",
   "pygments_lexer": "ipython3",
   "version": "3.6.9"
  }
 },
 "nbformat": 4,
 "nbformat_minor": 2
}
