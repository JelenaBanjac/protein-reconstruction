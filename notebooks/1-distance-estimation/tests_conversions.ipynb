{
 "cells": [
  {
   "cell_type": "markdown",
   "metadata": {},
   "source": [
    "# Test conversions\n",
    "\n",
    "- Quaternion <-> Euler angles\n",
    "- Matrix <-> Euler Angles\n",
    "- Quaternion <-> Matrix"
   ]
  },
  {
   "cell_type": "code",
   "execution_count": 23,
   "metadata": {},
   "outputs": [],
   "source": [
    "from numba import cuda\n",
    "cuda.select_device(0)\n",
    "cuda.close()"
   ]
  },
  {
   "cell_type": "code",
   "execution_count": 1,
   "metadata": {},
   "outputs": [
    {
     "name": "stderr",
     "output_type": "stream",
     "text": [
      "Warning: To use the exr data format, please install the OpenEXR package following the instructions detailed in the README at github.com/tensorflow/graphics.\n",
      "Warning: To use the threejs_vizualization, please install the colabtools package following the instructions detailed in the README at github.com/tensorflow/graphics.\n"
     ]
    }
   ],
   "source": [
    "import sys\n",
    "sys.path.append(\"../..\") \n",
    "from cryoem.conversions import *\n",
    "from scipy.spatial.transform import Rotation as R"
   ]
  },
  {
   "cell_type": "code",
   "execution_count": 2,
   "metadata": {},
   "outputs": [
    {
     "data": {
      "text/plain": [
       "'1.4.0'"
      ]
     },
     "execution_count": 2,
     "metadata": {},
     "output_type": "execute_result"
    }
   ],
   "source": [
    "import scipy\n",
    "scipy.__version__"
   ]
  },
  {
   "cell_type": "code",
   "execution_count": 3,
   "metadata": {},
   "outputs": [
    {
     "data": {
      "text/plain": [
       "array([0., 0., 0., 1.])"
      ]
     },
     "execution_count": 3,
     "metadata": {},
     "output_type": "execute_result"
    }
   ],
   "source": [
    "# Non-tf code for double-check\n",
    "r = R.from_euler('zyz', [0.0, 0.0, 0.0])\n",
    "r.as_quat()"
   ]
  },
  {
   "cell_type": "code",
   "execution_count": 4,
   "metadata": {},
   "outputs": [],
   "source": [
    "# Euler to Quaternions conversion\n",
    "assert np.all(np.isclose(euler2quaternion([[0.0, 0.0, 0.0]]).numpy(), [0.0, 0.0, 0.0, 1.0], atol=1e-5)), euler2quaternion([[0.0, 0.0, 0.0]]).numpy()\n",
    "assert np.all(np.isclose(euler2quaternion([[np.pi, 0.0, 0.0]]).numpy(), [0.0, 0.0, 1.0, 0.0], atol=1e-5)), euler2quaternion([[np.pi, 0.0, 0.0]]).numpy()\n",
    "assert np.all(np.isclose(euler2quaternion([[0.0, np.pi, 0.0]]).numpy(), [0.0, 1.0, 0.0, 0.0], atol=1e-5)), euler2quaternion([[0.0, np.pi, 0.0]]).numpy()\n",
    "assert np.all(np.isclose(euler2quaternion([[0.0, 0.0, np.pi]]).numpy(), [0.0, 0.0, 1.0, 0.0], atol=1e-5)), euler2quaternion([[0.0, 0.0, np.pi]]).numpy()\n",
    "assert np.all(np.isclose(euler2quaternion([[np.pi, 0.0, np.pi]]).numpy(), [0.0, 0.0, 0.0, 1.0], atol=1e-5)), euler2quaternion([[np.pi, 0.0, np.pi]]).numpy()\n",
    "assert np.all(np.isclose(euler2quaternion([[np.pi, np.pi, np.pi]]).numpy(), [0.0, 1.0, 0.0, 0.0], atol=1e-5)), euler2quaternion([[np.pi, np.pi, np.pi]]).numpy()"
   ]
  },
  {
   "cell_type": "code",
   "execution_count": 5,
   "metadata": {},
   "outputs": [
    {
     "name": "stderr",
     "output_type": "stream",
     "text": [
      "/home/jbanjac/anaconda3/envs/protein_reconstruction/lib/python3.6/site-packages/scipy/spatial/transform/rotation.py:135: UserWarning: Gimbal lock detected. Setting third angle to zero since it is not possible to uniquely determine all angles.\n",
      "  warnings.warn(\"Gimbal lock detected. Setting third angle to zero since\"\n"
     ]
    },
    {
     "data": {
      "text/plain": [
       "array([0., 0., 0.])"
      ]
     },
     "execution_count": 5,
     "metadata": {},
     "output_type": "execute_result"
    }
   ],
   "source": [
    "r = R.from_quat([0, 0, 0, 1])\n",
    "r.as_euler('zyz', degrees=True)"
   ]
  },
  {
   "cell_type": "code",
   "execution_count": 6,
   "metadata": {},
   "outputs": [],
   "source": [
    "# print(angles_true[0])\n",
    "# e = angles_true[0]\n",
    "# q = euler2quaternion([e])\n",
    "# e_new = quaternion2euler([q])\n",
    "# e_new.numpy()"
   ]
  },
  {
   "cell_type": "code",
   "execution_count": 7,
   "metadata": {},
   "outputs": [],
   "source": [
    "# d_q(q, euler2quaternion(e_new)).numpy()"
   ]
  },
  {
   "cell_type": "code",
   "execution_count": 8,
   "metadata": {},
   "outputs": [],
   "source": [
    "assert np.all(np.isclose(quaternion2euler([[0.0, 0.0, 0.0, 1.0]]).numpy(), [0.0, 0.0, 0.0], atol=1e-5)), quaternion2euler([[0.0, 0.0, 0.0, 1.0]]).numpy()\n",
    "\n",
    "\n",
    "q = [0.0, 0.0, 1.0, 0.0]\n",
    "a1 = [np.pi, 0.0, 0.0]\n",
    "a2 = [0.0, 0.0, np.pi]\n",
    "assert np.all(np.isclose(quaternion2euler([q]).numpy(), a1, atol=1e-5)) or np.all(np.isclose(quaternion2euler([q]).numpy(), a2, atol=1e-5)), quaternion2euler([q]).numpy()"
   ]
  },
  {
   "cell_type": "code",
   "execution_count": 9,
   "metadata": {},
   "outputs": [],
   "source": [
    "assert np.all(np.isclose(quaternion2euler([[0.0, 1.0, 0.0, 0.0]]).numpy(), [0.0, np.pi, 0.0], atol=1e-5)), quaternion2euler([[0.0, 1.0, 0.0, 0.0]]).numpy()\n",
    "# assert np.all(np.isclose(quaternion2euler([[0.0, 0.0, 1.0, 0.0]]).numpy(), [0.0, 0.0, np.pi], atol=1e-5)), quaternion2euler([[0.0, 0.0, 1.0, 0.0]]).numpy()\n",
    "\n",
    "q = [0.0, 0.0, 0.0, -1.0]\n",
    "a1 = [np.pi, 0.0, np.pi]\n",
    "a2 = [0.0, 0.0, 0.0]\n",
    "assert np.all(np.isclose(quaternion2euler([q]).numpy(),a1, atol=1e-5)) or np.all(np.isclose(quaternion2euler([q]).numpy(), a2, atol=1e-5)), quaternion2euler([q]).numpy()\n",
    "\n",
    "q = [0.0, 1.0, 0.0, 0.0]\n",
    "a1 = [np.pi, np.pi, np.pi]\n",
    "a2 = [0.0, np.pi, 0.0]\n",
    "assert np.all(np.isclose(quaternion2euler([q]).numpy(), a1, atol=1e-5)) or np.all(np.isclose(quaternion2euler([q]).numpy(), a2, atol=1e-5)), quaternion2euler([q]).numpy()"
   ]
  },
  {
   "cell_type": "code",
   "execution_count": 10,
   "metadata": {},
   "outputs": [
    {
     "data": {
      "text/plain": [
       "array([[[ 0.       ,  3.1415927, -0.       ]]], dtype=float32)"
      ]
     },
     "execution_count": 10,
     "metadata": {},
     "output_type": "execute_result"
    }
   ],
   "source": [
    "e = [0.0, np.pi, 0.0]\n",
    "q = euler2quaternion([e])\n",
    "e_new = quaternion2euler([q])\n",
    "e_new.numpy()"
   ]
  },
  {
   "cell_type": "code",
   "execution_count": 11,
   "metadata": {},
   "outputs": [
    {
     "data": {
      "text/plain": [
       "array([7.88495335e-08])"
      ]
     },
     "execution_count": 11,
     "metadata": {},
     "output_type": "execute_result"
    }
   ],
   "source": [
    "d_q(q, q).numpy()"
   ]
  },
  {
   "cell_type": "code",
   "execution_count": 12,
   "metadata": {},
   "outputs": [],
   "source": [
    "def d_quat(quaternion1, quaternion2):\n",
    "    dot_product = tf.reduce_sum(quaternion1 * quaternion2, axis=-1)\n",
    "    # Ensure dot product is in range [-1. 1].\n",
    "    eps = 8 * np.finfo(dot_product.dtype.as_numpy_dtype).eps\n",
    "    dot_product *= (1.0 - eps)\n",
    "    return 2.0 * tf.acos(tf.abs(dot_product))"
   ]
  },
  {
   "cell_type": "code",
   "execution_count": 13,
   "metadata": {},
   "outputs": [
    {
     "data": {
      "text/plain": [
       "array([0.00276214], dtype=float32)"
      ]
     },
     "execution_count": 13,
     "metadata": {},
     "output_type": "execute_result"
    }
   ],
   "source": [
    "d_quat(q, q).numpy()"
   ]
  },
  {
   "cell_type": "markdown",
   "metadata": {},
   "source": [
    "# Additional tests"
   ]
  },
  {
   "cell_type": "code",
   "execution_count": 14,
   "metadata": {},
   "outputs": [],
   "source": [
    "# def euler2quaternion(angles):\n",
    "    \n",
    "#     angles = tf.convert_to_tensor(value=angles)\n",
    "\n",
    "#     shape.check_static(tensor=angles, tensor_name=\"angles\", has_dim_equals=(-1, 3))\n",
    "    \n",
    "#     theta_z1, theta_y, theta_z0 = tf.unstack(angles, axis=-1)\n",
    "\n",
    "#     # create rotation matrix\n",
    "#     c1 = tf.cos(theta_z1)\n",
    "#     c2 = tf.cos(theta_y)\n",
    "#     c3 = tf.cos(theta_z0)\n",
    "\n",
    "#     s1 = tf.sin(theta_z1)\n",
    "#     s2 = tf.sin(theta_y)\n",
    "#     s3 = tf.sin(theta_z0)\n",
    "\n",
    "#     # PROJECTIONS CODE\n",
    "#     r00 = c1*c2*c3-s1*s3\n",
    "#     r01 = -(c1*s3+c2*c3*s1) ##\n",
    "#     r02 = -(-c3*s2)  ##\n",
    "#     r10 = -(-c3*s1-c1*c2*s3) ##\n",
    "#     r11 = c1*c3-c2*s1*s3\n",
    "#     r12 = s2*s3\n",
    "#     r20 = -(c1*s2) ##\n",
    "#     r21 = s1*s2 \n",
    "#     r22 = c2\n",
    "        \n",
    "# #     print(r00.numpy(), r01.numpy(), r02.numpy())\n",
    "# #     print(r10.numpy(), r11.numpy(), r12.numpy())\n",
    "# #     print(r20.numpy(), r21.numpy(), r22.numpy())\n",
    "# #     print(\"---\")\n",
    "\n",
    "#     w2 = 1/4*(1+ r00 + r11 + r22)\n",
    "#     w2_is_pos = tf.greater(w2, 0)\n",
    "    \n",
    "#     x2 = -1/2*(r11+r22)\n",
    "#     x2_is_pos = tf.greater(x2, 0)\n",
    "    \n",
    "#     y2 = 1/2*(1-r22)\n",
    "#     y2_is_pos = tf.greater(y2, 0)\n",
    "    \n",
    "#     w = tf.compat.v1.where(w2_is_pos, tf.sqrt(w2), tf.zeros_like(w2))\n",
    "#     x = tf.compat.v1.where(w2_is_pos, 1/(4*w)*(r21-r12),\n",
    "#                                         tf.compat.v1.where(x2_is_pos, tf.sqrt(x2), tf.zeros_like(x2)))\n",
    "#     y = tf.compat.v1.where(w2_is_pos, 1/(4*w)*(r02-r20),\n",
    "#                                         tf.compat.v1.where(x2_is_pos, r01/(2*x), \n",
    "#                                                                     tf.compat.v1.where(y2_is_pos, tf.sqrt(y2), tf.zeros_like(y2))))\n",
    "    \n",
    "#     z = tf.compat.v1.where(w2_is_pos, 1/(4*w)*(r10-r01), \n",
    "#                                         tf.compat.v1.where(x2_is_pos, r02/(2*x), \n",
    "#                                                                     tf.compat.v1.where(y2_is_pos, r12/(2*y), tf.ones_like(y2))))\n",
    "    \n",
    "#     return tf.stack((x, y, z, w), axis=-1)"
   ]
  },
  {
   "cell_type": "code",
   "execution_count": null,
   "metadata": {},
   "outputs": [],
   "source": []
  },
  {
   "cell_type": "code",
   "execution_count": 15,
   "metadata": {},
   "outputs": [
    {
     "name": "stdout",
     "output_type": "stream",
     "text": [
      "[ 0.7080734  -0.4546487  -0.4912955   0.22484513]\n",
      "[-0.70807342  0.45464871  0.4912955  -0.2248451 ]\n"
     ]
    }
   ],
   "source": [
    "ap = [1.,2.,3.]\n",
    "print(euler2quaternion([ap]).numpy()[0])\n",
    "#print(euler2quaternion([ap], True).numpy()[0])\n",
    "a = R.from_euler('zyz', ap)\n",
    "print(a.as_quat())"
   ]
  },
  {
   "cell_type": "code",
   "execution_count": 16,
   "metadata": {},
   "outputs": [
    {
     "name": "stdout",
     "output_type": "stream",
     "text": [
      "[ 0.76514727  0.35017547 -0.4546487   0.29192662]\n",
      "[ 0.7651474   0.35017549 -0.45464871  0.29192658]\n"
     ]
    }
   ],
   "source": [
    "ap = [-3., -2., 1.]\n",
    "print(euler2quaternion([ap]).numpy()[0])\n",
    "#print(euler2quaternion([ap], True).numpy()[0])\n",
    "a = R.from_euler('zyz', ap)\n",
    "print(a.as_quat())"
   ]
  },
  {
   "cell_type": "code",
   "execution_count": 17,
   "metadata": {},
   "outputs": [
    {
     "name": "stdout",
     "output_type": "stream",
     "text": [
      "[ 0.7651474   0.35017544 -0.4546488   0.29192656]\n",
      "[ 0.7651474   0.35017549 -0.45464871  0.29192658]\n"
     ]
    }
   ],
   "source": [
    "ap = [ 0.14159265 , 2.00000001 ,-2.14159265]\n",
    "print(euler2quaternion([ap]).numpy()[0])\n",
    "#print(euler2quaternion([ap], True).numpy()[0])\n",
    "a = R.from_euler('zyz', ap)\n",
    "print(a.as_quat())"
   ]
  },
  {
   "cell_type": "code",
   "execution_count": 18,
   "metadata": {},
   "outputs": [
    {
     "name": "stdout",
     "output_type": "stream",
     "text": [
      "[0. 0. 0. 1.]\n",
      "[0. 0. 0. 1.]\n"
     ]
    }
   ],
   "source": [
    "ap = [0.,0.,0.]\n",
    "print(euler2quaternion([ap]).numpy()[0])\n",
    "a = R.from_euler('zyz', ap)\n",
    "print(a.as_quat())"
   ]
  },
  {
   "cell_type": "code",
   "execution_count": 19,
   "metadata": {},
   "outputs": [
    {
     "name": "stdout",
     "output_type": "stream",
     "text": [
      "[0. 0. 1. 0.]\n",
      "[0.000000e+00 0.000000e+00 1.000000e+00 6.123234e-17]\n"
     ]
    }
   ],
   "source": [
    "ap = [0.,0.,np.pi]\n",
    "print(euler2quaternion([ap]).numpy()[0])\n",
    "a = R.from_euler('zyz', ap)\n",
    "print(a.as_quat())"
   ]
  },
  {
   "cell_type": "code",
   "execution_count": 20,
   "metadata": {},
   "outputs": [],
   "source": [
    "# def quaternion2euler(quaternions):\n",
    "#     \"\"\"https://github.com/tensorflow/graphics/blob/master/tensorflow_graphics/geometry/transformation/euler.py\"\"\"\n",
    "    \n",
    "#     def general_case(r02, r12, r20, r21, r22, eps_addition):\n",
    "#         \"\"\"Handles the general case.\"\"\"\n",
    "#         theta_y = tf.acos(r22)\n",
    "#         #sign_sin_theta_y = safe_ops.nonzero_sign(tf.sin(theta_y))\n",
    "        \n",
    "#         r02 = safe_ops.nonzero_sign(r02) * eps_addition + r02\n",
    "#         r22 = safe_ops.nonzero_sign(r22) * eps_addition + r22\n",
    "        \n",
    "#         theta_z0 = tf.atan2(r12, r02)\n",
    "#         theta_z1 = tf.atan2(r21, -r20)\n",
    "#         return tf.stack((theta_z1, theta_y, theta_z0), axis=-1)\n",
    "\n",
    "#     def gimbal_lock(r22, r11, r10, eps_addition):\n",
    "#         \"\"\"Handles Gimbal locks.\n",
    "#         It is gimbal when r22 is -1 or 1\"\"\"\n",
    "#         sign_r22 = safe_ops.nonzero_sign(r22)\n",
    "#         r11 = safe_ops.nonzero_sign(r11) * eps_addition + r11\n",
    "        \n",
    "#         theta_z0 = tf.atan2(sign_r22 * r10, r11)\n",
    "        \n",
    "#         theta_y = tf.constant(math.pi/2.0, dtype=r20.dtype) - sign_r22 * tf.constant(math.pi/2.0, dtype=r20.dtype)\n",
    "#         theta_z1 = tf.zeros_like(theta_z0)\n",
    "#         angles = tf.stack((theta_z1, theta_y, theta_z0), axis=-1)\n",
    "#         return angles\n",
    "\n",
    "#     with tf.compat.v1.name_scope(None, \"euler_from_quaternion\", [quaternions]):\n",
    "#         quaternions = tf.convert_to_tensor(value=quaternions)\n",
    "\n",
    "#         shape.check_static(\n",
    "#             tensor=quaternions,\n",
    "#             tensor_name=\"quaternions\",\n",
    "#             has_dim_equals=(-1, 4))\n",
    "\n",
    "#         x, y, z, w = tf.unstack(quaternions, axis=-1)\n",
    "#         tx = safe_ops.safe_shrink(2.0 * x, -2.0, 2.0, True)\n",
    "#         ty = safe_ops.safe_shrink(2.0 * y, -2.0, 2.0, True)\n",
    "#         tz = safe_ops.safe_shrink(2.0 * z, -2.0, 2.0, True)\n",
    "#         twx = tx * w\n",
    "#         twy = ty * w\n",
    "#         twz = tz * w\n",
    "#         txx = tx * x\n",
    "#         txy = ty * x\n",
    "#         txz = tz * x\n",
    "#         tyy = ty * y\n",
    "#         tyz = tz * y\n",
    "#         tzz = tz * z\n",
    "\n",
    "#         # The following is clipped due to numerical instabilities that can take some\n",
    "#         # enties outside the [-1;1] range.\n",
    "        \n",
    "#         r00 = safe_ops.safe_shrink(1.0 - (tyy + tzz), -1.0, 1.0, True)\n",
    "#         r01 = safe_ops.safe_shrink(txy - twz, -1.0, 1.0, True)\n",
    "#         r02 = safe_ops.safe_shrink(txz + twy, -1.0, 1.0, True)\n",
    "\n",
    "#         r10 = safe_ops.safe_shrink(txy + twz, -1.0, 1.0, True)\n",
    "#         r11 = safe_ops.safe_shrink(1.0 - (txx + tzz), -1.0, 1.0, True)\n",
    "#         r12 = safe_ops.safe_shrink(tyz - twx, -1.0, 1.0, True)\n",
    "\n",
    "#         r20 = safe_ops.safe_shrink(txz - twy, -1.0, 1.0, True)\n",
    "#         r21 = safe_ops.safe_shrink(tyz + twx, -1.0, 1.0, True)\n",
    "#         r22 = safe_ops.safe_shrink(1.0 - (txx + tyy), -1.0, 1.0, True)\n",
    "        \n",
    "# #         print(r00.numpy(), r01.numpy(), r02.numpy())\n",
    "# #         print(r10.numpy(), r11.numpy(), r12.numpy())\n",
    "# #         print(r20.numpy(), r21.numpy(), r22.numpy())\n",
    "# #         print(\"---\")\n",
    "        \n",
    "#         eps_addition = asserts.select_eps_for_addition(quaternions.dtype)\n",
    "#         general_solution = general_case(r02, r12, r20, r21, r22, eps_addition)\n",
    "#         gimbal_solution = gimbal_lock(r22, r11, r10, eps_addition)\n",
    "        \n",
    "#         # The general solution is unstable close to the Gimbal lock, and the gimbal\n",
    "#         # solution is not toooff in these cases.\n",
    "#         # Check if r22 is 1 or -1\n",
    "#         is_gimbal = tf.less(tf.abs(tf.abs(r22) - 1.0), 1.0e-6)\n",
    "#         gimbal_mask = tf.stack((is_gimbal, is_gimbal, is_gimbal), axis=-1)\n",
    "        \n",
    "#         return tf.compat.v1.where(gimbal_mask, gimbal_solution, general_solution)    "
   ]
  },
  {
   "cell_type": "code",
   "execution_count": 21,
   "metadata": {},
   "outputs": [
    {
     "name": "stdout",
     "output_type": "stream",
     "text": [
      "[ 0.14159268  1.9999996  -2.141593  ]\n",
      "[[ 0.34134335  0.80131982 -0.49129549]\n",
      " [ 0.27042365 -0.58431199 -0.7651474 ]\n",
      " [-0.90019763  0.12832006 -0.41614684]]\n",
      "[ 0.14159265  2.00000001 -2.14159265]\n"
     ]
    }
   ],
   "source": [
    "# expected: [-3., -2., 1.]\n",
    "qp = [ 0.7651474,   0.35017549 ,-0.45464871 , 0.29192658]\n",
    "print(quaternion2euler([qp]).numpy()[0])\n",
    "#print(euler2quaternion([ap], True).numpy()[0])\n",
    "a = R.from_quat(qp)\n",
    "print(a.as_matrix())\n",
    "print(a.as_euler('zyz'))"
   ]
  },
  {
   "cell_type": "code",
   "execution_count": 22,
   "metadata": {},
   "outputs": [
    {
     "name": "stdout",
     "output_type": "stream",
     "text": [
      "[1.        1.9999995 3.0000002]\n",
      "[[ 0.10384657 -0.42291851 -0.90019766]\n",
      " [-0.86478012 -0.48547844  0.12832001]\n",
      " [-0.49129547  0.76514745 -0.41614679]]\n",
      "[1.00000005 1.99999995 3.00000006]\n"
     ]
    }
   ],
   "source": [
    "#ap = [1.,2.,3.]\n",
    "qp = [ 0.7080734 , -0.4546487 , -0.4912955  , 0.22484513]\n",
    "print(quaternion2euler([qp]).numpy()[0])\n",
    "#print(euler2quaternion([ap], True).numpy()[0])\n",
    "a = R.from_quat(qp)\n",
    "print(a.as_matrix())\n",
    "print(a.as_euler('zyz'))"
   ]
  },
  {
   "cell_type": "code",
   "execution_count": 24,
   "metadata": {},
   "outputs": [
    {
     "name": "stdout",
     "output_type": "stream",
     "text": [
      "tf.Tensor([1.        1.9999995 3.0000002], shape=(3,), dtype=float32)\n"
     ]
    }
   ],
   "source": [
    "ap = [1.,2.,3]\n",
    "print(quaternion2euler(euler2quaternion([ap]).numpy()[0]))"
   ]
  },
  {
   "cell_type": "code",
   "execution_count": null,
   "metadata": {},
   "outputs": [],
   "source": []
  }
 ],
 "metadata": {
  "kernelspec": {
   "display_name": "Python 3",
   "language": "python",
   "name": "python3"
  },
  "language_info": {
   "codemirror_mode": {
    "name": "ipython",
    "version": 3
   },
   "file_extension": ".py",
   "mimetype": "text/x-python",
   "name": "python",
   "nbconvert_exporter": "python",
   "pygments_lexer": "ipython3",
   "version": "3.6.9"
  }
 },
 "nbformat": 4,
 "nbformat_minor": 2
}
