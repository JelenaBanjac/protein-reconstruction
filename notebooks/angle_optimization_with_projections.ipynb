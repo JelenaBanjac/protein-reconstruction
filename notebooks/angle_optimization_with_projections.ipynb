{
 "cells": [
  {
   "cell_type": "markdown",
   "metadata": {},
   "source": [
    "# Finding angles with gradient descent (projections & quaternions)"
   ]
  },
  {
   "cell_type": "markdown",
   "metadata": {},
   "source": [
    "[Michaël Defferrard](https://deff.ch), EPFL LTS2  \n",
    "[Laurène Donati](https://people.epfl.ch/laurene.donati), EPFL BIG  \n",
    "[Jelena Banjac](https://people.epfl.ch/jelena.banjac), EPFL MSc in Data Science"
   ]
  },
  {
   "cell_type": "code",
   "execution_count": 1,
   "metadata": {},
   "outputs": [
    {
     "name": "stderr",
     "output_type": "stream",
     "text": [
      "Warning: To use the exr data format, please install the OpenEXR package following the instructions detailed in the README at github.com/tensorflow/graphics.\n",
      "Warning: To use the threejs_vizualization, please install the colabtools package following the instructions detailed in the README at github.com/tensorflow/graphics.\n"
     ]
    }
   ],
   "source": [
    "from time import time\n",
    "import h5py\n",
    "import os\n",
    "from sklearn.neighbors import NearestNeighbors\n",
    "\n",
    "import numpy as np\n",
    "from matplotlib import pyplot as plt\n",
    "import tensorflow as tf\n",
    "from tensorflow_graphics.geometry.transformation import quaternion"
   ]
  },
  {
   "cell_type": "markdown",
   "metadata": {},
   "source": [
    "---"
   ]
  },
  {
   "cell_type": "markdown",
   "metadata": {},
   "source": [
    "## Data"
   ]
  },
  {
   "cell_type": "code",
   "execution_count": 2,
   "metadata": {},
   "outputs": [],
   "source": [
    "n_samples = 5000"
   ]
  },
  {
   "cell_type": "code",
   "execution_count": 3,
   "metadata": {},
   "outputs": [
    {
     "name": "stdout",
     "output_type": "stream",
     "text": [
      "5000 projections of images with dimension (136, 136) pixels\n",
      "5000 sets of 3 ground truth angles of corresponding projection images\n"
     ]
    }
   ],
   "source": [
    "# location of *.h5 files\n",
    "data_dir = \"../data\"\n",
    "\n",
    "# half coverage (AngCoverage=0.5)\n",
    "projections_filename = \"ProjectionsAngles_ProjNber5000_AngCoverage0.5_AngShift1.57\"\n",
    "\n",
    "# load structures\n",
    "data = h5py.File(os.path.join(data_dir, f\"{projections_filename}.h5\"), 'r')\n",
    "\n",
    "print(f\"{data['Projections'].shape[0]} projections of images with dimension {data['Projections'].shape[1:]} pixels\")\n",
    "print(f\"{data['Angles'].shape[0]} sets of {data['Angles'].shape[1]} ground truth angles of corresponding projection images\")"
   ]
  },
  {
   "cell_type": "markdown",
   "metadata": {},
   "source": [
    "##### Angles / Quaternions"
   ]
  },
  {
   "cell_type": "code",
   "execution_count": 4,
   "metadata": {},
   "outputs": [
    {
     "name": "stdout",
     "output_type": "stream",
     "text": [
      "5000 tensors of shape (4,)\n"
     ]
    },
    {
     "data": {
      "text/plain": [
       "(5000,)"
      ]
     },
     "execution_count": 4,
     "metadata": {},
     "output_type": "execute_result"
    }
   ],
   "source": [
    "low_ang = np.pi/2\n",
    "high_ang = 2*np.pi-np.pi/2\n",
    "\n",
    "euler = np.random.uniform(low=[low_ang, low_ang, low_ang], \n",
    "                          high=[high_ang, high_ang, high_ang],\n",
    "                          size=(n_samples,3))\n",
    "angles_predicted = [tf.Variable(quaternion.from_euler(e)) for e in euler]\n",
    "\n",
    "print(f'{len(angles_predicted)} tensors of shape {angles_predicted[0].shape}')\n",
    "\n",
    "# Sanity check: the quaternions represent rotations, i.e., are normalized.\n",
    "assert abs(tf.reduce_mean(tf.norm(angles_predicted, axis=1) - tf.ones(n_samples, dtype=np.float64))) < 1e-5\n",
    "angles_predicted = np.array(angles_predicted)\n",
    "angles_predicted.shape\n",
    "# angles = np.reshape(angles_predicted, (angles_predicted.shape[0], -1))\n",
    "# angles.shape"
   ]
  },
  {
   "cell_type": "code",
   "execution_count": 5,
   "metadata": {},
   "outputs": [
    {
     "data": {
      "text/plain": [
       "(5000, 4)"
      ]
     },
     "execution_count": 5,
     "metadata": {},
     "output_type": "execute_result"
    }
   ],
   "source": [
    "angles_true_euler = np.reshape(data[\"Angles\"], (data[\"Angles\"].shape[0], -1))\n",
    "angles_true = [quaternion.from_euler(e) for e in angles_true_euler]\n",
    "angles_true = np.array(angles_true)\n",
    "angles_true.shape"
   ]
  },
  {
   "cell_type": "markdown",
   "metadata": {},
   "source": [
    "##### Projections"
   ]
  },
  {
   "cell_type": "code",
   "execution_count": 6,
   "metadata": {},
   "outputs": [
    {
     "data": {
      "text/plain": [
       "(5000, 18496)"
      ]
     },
     "execution_count": 6,
     "metadata": {},
     "output_type": "execute_result"
    }
   ],
   "source": [
    "projections = np.reshape(data[\"Projections\"], (data[\"Projections\"].shape[0], -1))\n",
    "projections.shape"
   ]
  },
  {
   "cell_type": "code",
   "execution_count": 7,
   "metadata": {},
   "outputs": [],
   "source": [
    "n_pixels = projections.shape[1]"
   ]
  },
  {
   "cell_type": "markdown",
   "metadata": {},
   "source": [
    "---"
   ]
  },
  {
   "cell_type": "markdown",
   "metadata": {},
   "source": [
    "## Distances"
   ]
  },
  {
   "cell_type": "markdown",
   "metadata": {},
   "source": [
    "##### Angle Distances"
   ]
  },
  {
   "cell_type": "code",
   "execution_count": 8,
   "metadata": {},
   "outputs": [],
   "source": [
    "from tensorflow_graphics.util import asserts\n",
    "from tensorflow_graphics.math import vector\n",
    "from tensorflow_graphics.util import safe_ops\n",
    "from tensorflow_graphics.util import shape\n",
    "\n",
    "def d_q(q1, q2):\n",
    "     with (tf.compat.v1.name_scope(None, \"quaternion_relative_angle\",\n",
    "                                 [q1, q2])):\n",
    "        q1 = tf.convert_to_tensor(value=q1)\n",
    "        q2 = tf.convert_to_tensor(value=q2)\n",
    "      \n",
    "        shape.check_static(\n",
    "            tensor=q1, tensor_name=\"quaternion1\", has_dim_equals=(-1, 4))\n",
    "        shape.check_static(\n",
    "            tensor=q2, tensor_name=\"quaternion2\", has_dim_equals=(-1, 4))\n",
    "\n",
    "        q1 = quaternion.normalize(q1)\n",
    "        q2 = quaternion.normalize(q2)\n",
    "        \n",
    "        dot_product = vector.dot(q1, q2, keepdims=False)\n",
    "        \n",
    "        # Ensure dot product is in range [-1. 1].\n",
    "        const = 1.8 #4.0 #.63\n",
    "        eps_dot_prod = const * asserts.select_eps_for_addition(dot_product.dtype)\n",
    "        dot_product = safe_ops.safe_shrink(\n",
    "            dot_product, -1, 1, open_bounds=False, eps=eps_dot_prod)\n",
    "\n",
    "        return 2.0 * tf.acos(tf.abs(dot_product))\n",
    "    \n",
    "assert tf.reduce_mean(d_q(angles_true[0:3], angles_true[0:3])) < 1e-7"
   ]
  },
  {
   "cell_type": "code",
   "execution_count": 9,
   "metadata": {},
   "outputs": [
    {
     "name": "stdout",
     "output_type": "stream",
     "text": [
      "tf.Tensor(7.477969526875984e-08, shape=(), dtype=float64)\n",
      "tf.Tensor(1.1905330492946732e-07, shape=(), dtype=float64)\n"
     ]
    }
   ],
   "source": [
    "print(tf.reduce_mean(d_q(angles_true[0:3], angles_true[0:3])))\n",
    "print(tf.reduce_mean(quaternion.relative_angle(angles_true[0:3], angles_true[0:3])))"
   ]
  },
  {
   "cell_type": "markdown",
   "metadata": {},
   "source": [
    "##### Projection Distance"
   ]
  },
  {
   "cell_type": "code",
   "execution_count": 10,
   "metadata": {},
   "outputs": [],
   "source": [
    "def d_p(p1, p2):\n",
    "    # (learned) distance between two images.\n",
    "    # for now, Euclid dist\n",
    "    p1 = tf.convert_to_tensor(value=p1, dtype=np.float64)\n",
    "    p2 = tf.convert_to_tensor(value=p2, dtype=np.float64)\n",
    "\n",
    "    if len(p1.shape) > 1:\n",
    "        dist = tf.norm(p1-p2, ord='euclidean', axis=1, keepdims=True)\n",
    "    else:\n",
    "        dist = tf.norm(p1-p2, ord='euclidean')\n",
    "\n",
    "    return dist\n",
    "\n",
    "assert tf.reduce_mean(d_p(projections[0:3], projections[0:3])) < 1e-7"
   ]
  },
  {
   "cell_type": "code",
   "execution_count": 11,
   "metadata": {},
   "outputs": [
    {
     "name": "stdout",
     "output_type": "stream",
     "text": [
      "tf.Tensor(\n",
      "[[0.]\n",
      " [0.]\n",
      " [0.]], shape=(3, 1), dtype=float64)\n"
     ]
    }
   ],
   "source": [
    "print(d_p(projections[0:3], projections[0:3]))"
   ]
  },
  {
   "cell_type": "markdown",
   "metadata": {},
   "source": [
    "---"
   ]
  },
  {
   "cell_type": "markdown",
   "metadata": {},
   "source": [
    "## Adjacency matrices"
   ]
  },
  {
   "cell_type": "markdown",
   "metadata": {},
   "source": [
    "##### Projections"
   ]
  },
  {
   "cell_type": "code",
   "execution_count": 31,
   "metadata": {},
   "outputs": [
    {
     "name": "stdout",
     "output_type": "stream",
     "text": [
      "--- 10542.376056194305 seconds ---\n"
     ]
    }
   ],
   "source": [
    "start_time = time()\n",
    "projections_filename = \"projections1\"\n",
    "\n",
    "if not os.path.exists(f'data/{projections_filename}_distances.npy'):\n",
    "    nbrs = NearestNeighbors(n_neighbors=5, metric=d_p, algorithm='ball_tree').fit(projections)\n",
    "    distances_p, indices_p = nbrs.kneighbors(projections)\n",
    "    A_p = nbrs.kneighbors_graph(projections).toarray()\n",
    "    \n",
    "    np.save(f'data/{projections_filename}_indices', indices_p)         # Indices of the nearest points in the population matrix\n",
    "    np.save(f'data/{projections_filename}_distances', distances_p)     # Array representing the lengths to points\n",
    "    np.save(f'data/{projections_filename}_A', A_p) # Sparse graph showing the connections between neighboring points\n",
    "    \n",
    "else:\n",
    "    indices_p     = np.load(f'data/{projections_filename}_indices.npy')     # shape: NUM_IMGS, NUM_NEIGHBOURS\n",
    "    distances_p   = np.load(f'data/{projections_filename}_distances.npy')   # shape: NUM_IMGS, NUM_NEIGHBOURS\n",
    "    A_p           = np.load(f'data/{projections_filename}_A.npy') # shape: NUM_IMGS, NUM_IMGS\n",
    "    \n",
    "print(f\"--- {time() - start_time} seconds ---\")"
   ]
  },
  {
   "cell_type": "code",
   "execution_count": 34,
   "metadata": {},
   "outputs": [
    {
     "data": {
      "text/plain": [
       "(5000, 5000)"
      ]
     },
     "execution_count": 34,
     "metadata": {},
     "output_type": "execute_result"
    }
   ],
   "source": [
    "A_p.shape"
   ]
  },
  {
   "cell_type": "markdown",
   "metadata": {},
   "source": [
    "##### Angles"
   ]
  },
  {
   "cell_type": "code",
   "execution_count": 35,
   "metadata": {},
   "outputs": [
    {
     "name": "stdout",
     "output_type": "stream",
     "text": [
      "--- 4102.318271160126 seconds ---\n"
     ]
    }
   ],
   "source": [
    "start_time = time()\n",
    "angles_filename = \"angles1\"\n",
    "\n",
    "if not os.path.exists(f'data/{angles_filename}_distances.npy'):\n",
    "    nbrs = NearestNeighbors(n_neighbors=5, metric=d_q, algorithm='ball_tree').fit(angles)\n",
    "    distances_a, indices_a = nbrs.kneighbors(angles)\n",
    "    A_a = nbrs.kneighbors_graph(angles).toarray()\n",
    "    \n",
    "    np.save(f'data/{angles_filename}_indices', indices_a)         # Indices of the nearest points in the population matrix\n",
    "    np.save(f'data/{angles_filename}_distances', distances_a)     # Array representing the lengths to points\n",
    "    np.save(f'data/{angles_filename}_A', A_a) # Sparse graph showing the connections between neighboring points\n",
    "    \n",
    "else:\n",
    "    indices_a     = np.load(f'data/{angles_filename}_indices.npy')     # shape: NUM_IMGS, NUM_NEIGHBOURS\n",
    "    distances_a   = np.load(f'data/{angles_filename}_distances.npy')   # shape: NUM_IMGS, NUM_NEIGHBOURS\n",
    "    A_a           = np.load(f'data/{angles_filename}_A.npy') # shape: NUM_IMGS, NUM_IMGS\n",
    "    \n",
    "print(f\"--- {time() - start_time} seconds ---\")"
   ]
  },
  {
   "cell_type": "code",
   "execution_count": 40,
   "metadata": {
    "scrolled": true
   },
   "outputs": [
    {
     "data": {
      "text/plain": [
       "(5000, 5000)"
      ]
     },
     "execution_count": 40,
     "metadata": {},
     "output_type": "execute_result"
    }
   ],
   "source": [
    "A_a.shape"
   ]
  },
  {
   "cell_type": "markdown",
   "metadata": {},
   "source": [
    "---"
   ]
  },
  {
   "cell_type": "markdown",
   "metadata": {},
   "source": [
    "## Normalization"
   ]
  },
  {
   "cell_type": "markdown",
   "metadata": {},
   "source": [
    "To normalize our distances, we simply calculate the following:\n",
    "\n",
    "$$ z_{i} = \\frac{d_i - min(d)}{max(d) - min(d)}\n",
    "$$"
   ]
  },
  {
   "cell_type": "code",
   "execution_count": 12,
   "metadata": {},
   "outputs": [],
   "source": [
    "def normalize(min_val, max_val):\n",
    "    def _inner_normalize(dist):\n",
    "        return (dist - min_val)/(max_val - min_val)\n",
    "    return _inner_normalize"
   ]
  },
  {
   "cell_type": "markdown",
   "metadata": {},
   "source": [
    "##### Normalize quaternion distance"
   ]
  },
  {
   "cell_type": "markdown",
   "metadata": {},
   "source": [
    "The quaternion distance is calculated with:\n",
    "    $$ d_{i, j} = 2 \\arccos{|\\langle\\,q_i,q_j\\rangle}| $$\n",
    "\n",
    "Therefore, the min value is $0$ and the max value is $\\pi$."
   ]
  },
  {
   "cell_type": "code",
   "execution_count": 13,
   "metadata": {},
   "outputs": [],
   "source": [
    "# normalizing quaternion distance\n",
    "normalize_quaternion_distance = normalize(min_val=0.0, max_val=np.pi)"
   ]
  },
  {
   "cell_type": "markdown",
   "metadata": {},
   "source": [
    "##### Normalize projection distance"
   ]
  },
  {
   "cell_type": "markdown",
   "metadata": {},
   "source": [
    "The projection distance is calculatd with:\n",
    "    $$ d_{i,j} = \\sqrt{(p_i - p_j)^2}\n",
    "    $$\n",
    "where $p = (p_1, p_2, ..., p_n)$ has the size of $N_{pixels}$ and $p_1, p_2,.., p_n  \\epsilon  [0, 1, .., 255]$.\n",
    "\n",
    "Therefore, the min value is $0$ and max value is $255\\sqrt{N_{pixels}}$. If the projection image size is 136x136, then $N_{pixels} = 136 \\cdot 136 $."
   ]
  },
  {
   "cell_type": "code",
   "execution_count": 14,
   "metadata": {},
   "outputs": [],
   "source": [
    "# normalize projections distance\n",
    "normalize_projection_distance = normalize(min_val=0.0, max_val=255.0 * np.sqrt(n_pixels))"
   ]
  },
  {
   "cell_type": "markdown",
   "metadata": {},
   "source": [
    "---"
   ]
  },
  {
   "cell_type": "markdown",
   "metadata": {},
   "source": [
    "## Loss and gradient"
   ]
  },
  {
   "cell_type": "markdown",
   "metadata": {},
   "source": [
    "Our goal is to then optimize\n",
    "$$ \\operatorname*{arg\\,min}_{\\{\\hat{Q}_i\\}_{i=1}^n} \\sum_{i,j} \\left| d_p(p_i, p_j) - d_Q(\\hat{Q}_i, \\hat{Q}_j) \\right|^2, $$\n",
    "where $p_i$ is a projected image and $d_p$ is a (learned) distance between two images."
   ]
  },
  {
   "cell_type": "code",
   "execution_count": 15,
   "metadata": {},
   "outputs": [],
   "source": [
    "def loss(q1_predicted, q2_predicted, distance_target):\n",
    "    q1 = quaternion.normalize(q1_predicted)\n",
    "    q2 = quaternion.normalize(q2_predicted)\n",
    "    distance = d_q(q1, q2)\n",
    "    \n",
    "    distance        = normalize_quaternion_distance(distance)\n",
    "    distance_target = normalize_projection_distance(distance_target)\n",
    "    \n",
    "    # The mean doesn't depend on the batch size.\n",
    "    return tf.reduce_mean((distance - distance_target)**2)"
   ]
  },
  {
   "cell_type": "code",
   "execution_count": 16,
   "metadata": {},
   "outputs": [],
   "source": [
    "def loss_qq(q1_predicted, q2_predicted, distance_target):\n",
    "    q1 = quaternion.normalize(q1_predicted)\n",
    "    q2 = quaternion.normalize(q2_predicted)\n",
    "    distance = d_q(q1, q2)\n",
    "    \n",
    "    distance        = normalize_quaternion_distance(distance)\n",
    "    distance_target = normalize_quaternion_distance(distance_target)\n",
    "    \n",
    "    # The mean doesn't depend on the batch size.\n",
    "    return tf.reduce_mean((distance - distance_target)**2)"
   ]
  },
  {
   "cell_type": "code",
   "execution_count": 17,
   "metadata": {},
   "outputs": [],
   "source": [
    "def gradient(q1_predicted, q2_predicted, distance_target):\n",
    "    with tf.GradientTape() as tape:\n",
    "        loss_value = loss(q1_predicted, q2_predicted, distance_target)\n",
    "        gradient = tape.gradient(loss_value, q1_predicted + q2_predicted)\n",
    "        \n",
    "    return loss_value, gradient"
   ]
  },
  {
   "cell_type": "markdown",
   "metadata": {},
   "source": [
    "---"
   ]
  },
  {
   "cell_type": "markdown",
   "metadata": {},
   "source": [
    "### Check the Loss before the Optimization loop"
   ]
  },
  {
   "cell_type": "code",
   "execution_count": 18,
   "metadata": {},
   "outputs": [],
   "source": [
    "angles_true = tf.convert_to_tensor(value=angles_true, dtype=np.float64)"
   ]
  },
  {
   "cell_type": "code",
   "execution_count": 19,
   "metadata": {},
   "outputs": [],
   "source": [
    "# n_samples\n",
    "# angles_predicted\n",
    "# angles_true\n",
    "\n",
    "def compare_with_GT(steps, batch_size):\n",
    "    losses = np.empty(steps)\n",
    "    time_start = time()\n",
    "    \n",
    "    for step in range(1, steps+1):\n",
    "\n",
    "        # Sample some pairs.\n",
    "        idx1 = list(np.random.randint(0, n_samples, batch_size))\n",
    "        idx2 = list(np.random.randint(0, n_samples, batch_size))\n",
    "        \n",
    "        q1 = [angles_predicted[i] for i in idx1]\n",
    "        q2 = [angles_predicted[i] for i in idx2]\n",
    "        q1 = quaternion.normalize(q1)\n",
    "        q2 = quaternion.normalize(q2)\n",
    "\n",
    "        # Compute distances between true quaternions\n",
    "        q1_true = [angles_true[i] for i in idx1]\n",
    "        q2_true = [angles_true[i] for i in idx2]\n",
    "        q1_true = quaternion.normalize(q1_true)\n",
    "        q2_true = quaternion.normalize(q2_true)\n",
    "        \n",
    "        distance_target = d_q(q1_true, q2_true)\n",
    "\n",
    "        # Optimize by gradient descent.\n",
    "        losses[step-1] = loss_qq(q1, q2, distance_target)\n",
    "        \n",
    "        # Periodically report progress.\n",
    "        if ((step % (steps//10)) == 0) or (step == steps):\n",
    "            time_elapsed = time() - time_start\n",
    "            print(f'step {step}/{steps} ({time_elapsed:.0f}s): loss = {losses[step-1]:.2e}')\n",
    "\n",
    "    # Plot convergence.\n",
    "    fig, ax = plt.subplots()\n",
    "    ax.plot(np.linspace(0, time()-time_start, steps), losses)\n",
    "    ax.set_xlabel('time [s]')\n",
    "    ax.set_ylabel('loss');\n",
    "    print(f\"Mean loss: {np.mean(losses)}\")"
   ]
  },
  {
   "cell_type": "markdown",
   "metadata": {},
   "source": [
    "## Optimization loop"
   ]
  },
  {
   "cell_type": "code",
   "execution_count": 20,
   "metadata": {},
   "outputs": [
    {
     "name": "stdout",
     "output_type": "stream",
     "text": [
      "step 200/2000 (8s): loss = 8.23e-02\n",
      "step 400/2000 (16s): loss = 9.45e-02\n",
      "step 600/2000 (24s): loss = 9.85e-02\n",
      "step 800/2000 (32s): loss = 9.65e-02\n",
      "step 1000/2000 (40s): loss = 9.96e-02\n",
      "step 1200/2000 (47s): loss = 8.84e-02\n",
      "step 1400/2000 (55s): loss = 1.03e-01\n",
      "step 1600/2000 (63s): loss = 9.79e-02\n",
      "step 1800/2000 (71s): loss = 1.06e-01\n",
      "step 2000/2000 (79s): loss = 9.88e-02\n",
      "Mean loss: 0.09974431781746901\n"
     ]
    },
    {
     "data": {
      "image/png": "[encoded data removed]",
      "text/plain": [
       "<Figure size 432x288 with 1 Axes>"
      ]
     },
     "metadata": {
      "needs_background": "light"
     },
     "output_type": "display_data"
    }
   ],
   "source": [
    "compare_with_GT(steps=2000, batch_size=256)"
   ]
  },
  {
   "cell_type": "code",
   "execution_count": 21,
   "metadata": {},
   "outputs": [
    {
     "data": {
      "text/plain": [
       "<tf.Variable 'Variable:0' shape=(4,) dtype=float64, numpy=array([0.41184277, 0.04738498, 0.33285514, 0.84696378])>"
      ]
     },
     "execution_count": 21,
     "metadata": {},
     "output_type": "execute_result"
    }
   ],
   "source": [
    "angles_predicted[0]"
   ]
  },
  {
   "cell_type": "code",
   "execution_count": 22,
   "metadata": {
    "scrolled": false
   },
   "outputs": [
    {
     "name": "stdout",
     "output_type": "stream",
     "text": [
      "step 200/2000 (166s): loss = 1.41e-01\n",
      "step 400/2000 (323s): loss = 1.01e-02\n",
      "step 600/2000 (484s): loss = 1.58e-03\n",
      "step 800/2000 (643s): loss = 2.14e-04\n",
      "step 1000/2000 (803s): loss = 1.58e-05\n",
      "step 1200/2000 (960s): loss = 8.30e-06\n",
      "step 1400/2000 (1117s): loss = 8.75e-06\n",
      "step 1600/2000 (1275s): loss = 8.79e-06\n",
      "step 1800/2000 (1433s): loss = 7.73e-06\n",
      "step 2000/2000 (1591s): loss = 7.60e-06\n"
     ]
    },
    {
     "data": {
      "image/png": "[encoded data removed]",
      "text/plain": [
       "<Figure size 432x288 with 1 Axes>"
      ]
     },
     "metadata": {
      "needs_background": "light"
     },
     "output_type": "display_data"
    }
   ],
   "source": [
    "steps=2000\n",
    "batch_size=256\n",
    "\n",
    "#optimizer = tf.keras.optimizers.SGD(learning_rate=0.01)\n",
    "optimizer = tf.keras.optimizers.Adam(learning_rate=0.01)\n",
    "\n",
    "losses = np.empty(steps)\n",
    "time_start = time()\n",
    "\n",
    "for step in range(1, steps+1):\n",
    "\n",
    "    # Sample some pairs.\n",
    "    idx1 = list(np.random.randint(0, n_samples, batch_size))\n",
    "    idx2 = list(np.random.randint(0, n_samples, batch_size))\n",
    "    q1 = [angles_predicted[i] for i in idx1]\n",
    "    q2 = [angles_predicted[i] for i in idx2]\n",
    "    \n",
    "    q1 = asserts.assert_normalized(q1)\n",
    "    q2 = asserts.assert_normalized(q2)\n",
    "\n",
    "    # Compute distances between projections\n",
    "    p1 = [projections[i] for i in idx1]\n",
    "    p2 = [projections[i] for i in idx2]\n",
    "    distance_target = d_p(p1, p2)\n",
    "\n",
    "    # Optimize by gradient descent.\n",
    "    losses[step-1], gradients = gradient(q1, q2, distance_target)\n",
    "    optimizer.apply_gradients(zip(gradients, q1 + q2))\n",
    "\n",
    "    q1 = quaternion.normalize(q1)\n",
    "    q2 = quaternion.normalize(q2)\n",
    "\n",
    "    # Periodically report progress.\n",
    "    if ((step % (steps//10)) == 0) or (step == steps):\n",
    "        time_elapsed = time() - time_start\n",
    "        print(f'step {step}/{steps} ({time_elapsed:.0f}s): loss = {losses[step-1]:.2e}')\n",
    "\n",
    "    #if step> 400:break;\n",
    "# Plot convergence.\n",
    "fig, ax = plt.subplots()\n",
    "ax.plot(np.linspace(0, time()-time_start, steps), losses)\n",
    "ax.set_xlabel('time [s]')\n",
    "ax.set_ylabel('loss');"
   ]
  },
  {
   "cell_type": "code",
   "execution_count": 23,
   "metadata": {},
   "outputs": [
    {
     "data": {
      "text/plain": [
       "<tf.Variable 'Variable:0' shape=(4,) dtype=float64, numpy=array([-0.00849807,  0.01268649,  0.00558655,  1.35681015])>"
      ]
     },
     "execution_count": 23,
     "metadata": {},
     "output_type": "execute_result"
    }
   ],
   "source": [
    "angles_predicted[0]"
   ]
  },
  {
   "cell_type": "code",
   "execution_count": 24,
   "metadata": {},
   "outputs": [],
   "source": [
    "for i in range(len(angles_predicted)):\n",
    "    angles_predicted[i] = quaternion.normalize(angles_predicted[i])"
   ]
  },
  {
   "cell_type": "code",
   "execution_count": 25,
   "metadata": {},
   "outputs": [
    {
     "data": {
      "text/plain": [
       "<tf.Tensor: id=9612051, shape=(4,), dtype=float64, numpy=array([-0.00626282,  0.00934956,  0.00411712,  0.9999282 ])>"
      ]
     },
     "execution_count": 25,
     "metadata": {},
     "output_type": "execute_result"
    }
   ],
   "source": [
    "angles_predicted[0]"
   ]
  },
  {
   "cell_type": "code",
   "execution_count": 26,
   "metadata": {
    "scrolled": false
   },
   "outputs": [
    {
     "name": "stdout",
     "output_type": "stream",
     "text": [
      "step 200/2000 (7s): loss = 4.01e-01\n",
      "step 400/2000 (15s): loss = 3.88e-01\n",
      "step 600/2000 (22s): loss = 4.13e-01\n",
      "step 800/2000 (29s): loss = 4.09e-01\n",
      "step 1000/2000 (37s): loss = 4.17e-01\n",
      "step 1200/2000 (44s): loss = 4.05e-01\n",
      "step 1400/2000 (51s): loss = 4.10e-01\n",
      "step 1600/2000 (59s): loss = 4.16e-01\n",
      "step 1800/2000 (66s): loss = 4.31e-01\n",
      "step 2000/2000 (73s): loss = 4.09e-01\n",
      "Mean loss: 0.40091171444124973\n"
     ]
    },
    {
     "data": {
      "image/png": "[encoded data removed]",
      "text/plain": [
       "<Figure size 432x288 with 1 Axes>"
      ]
     },
     "metadata": {
      "needs_background": "light"
     },
     "output_type": "display_data"
    }
   ],
   "source": [
    "compare_with_GT(steps=2000, batch_size=256)"
   ]
  },
  {
   "cell_type": "code",
   "execution_count": null,
   "metadata": {},
   "outputs": [],
   "source": []
  }
 ],
 "metadata": {
  "kernelspec": {
   "display_name": "Python 3",
   "language": "python",
   "name": "python3"
  },
  "language_info": {
   "codemirror_mode": {
    "name": "ipython",
    "version": 3
   },
   "file_extension": ".py",
   "mimetype": "text/x-python",
   "name": "python",
   "nbconvert_exporter": "python",
   "pygments_lexer": "ipython3",
   "version": "3.6.9"
  }
 },
 "nbformat": 4,
 "nbformat_minor": 4
}
