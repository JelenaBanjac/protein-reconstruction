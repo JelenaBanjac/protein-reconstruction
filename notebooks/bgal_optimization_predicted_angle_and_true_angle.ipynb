{
 "cells": [
  {
   "cell_type": "markdown",
   "metadata": {},
   "source": [
    "# Optimization - Predicted Angles vs. True Angles"
   ]
  },
  {
   "cell_type": "markdown",
   "metadata": {},
   "source": [
    "[Michaël Defferrard](https://deff.ch), EPFL LTS2  \n",
    "[Laurène Donati](https://people.epfl.ch/laurene.donati), EPFL BIG  \n",
    "[Jelena Banjac](https://people.epfl.ch/jelena.banjac), EPFL MSc in Data Science"
   ]
  },
  {
   "cell_type": "code",
   "execution_count": 2,
   "metadata": {},
   "outputs": [
    {
     "name": "stderr",
     "output_type": "stream",
     "text": [
      "Warning: To use the exr data format, please install the OpenEXR package following the instructions detailed in the README at github.com/tensorflow/graphics.\n",
      "Warning: To use the threejs_vizualization, please install the colabtools package following the instructions detailed in the README at github.com/tensorflow/graphics.\n"
     ]
    }
   ],
   "source": [
    "from time import time\n",
    "import h5py\n",
    "import os\n",
    "from sklearn.neighbors import NearestNeighbors\n",
    "import seaborn as sns; sns.set(style=\"white\", color_codes=True)\n",
    "import ipyvolume as ipv\n",
    "\n",
    "import sys\n",
    "sys.path.append(\"..\") \n",
    "from cryoem.plots import plot_projection, plot_projections\n",
    "from cryoem.projections import RotationMatrix\n",
    "\n",
    "import numpy as np\n",
    "from matplotlib import pyplot as plt\n",
    "import tensorflow as tf\n",
    "from tensorflow_graphics.util import asserts\n",
    "from tensorflow_graphics.math import vector\n",
    "from tensorflow_graphics.util import safe_ops\n",
    "from tensorflow_graphics.util import shape\n",
    "from tensorflow_graphics.geometry.transformation import quaternion, euler"
   ]
  },
  {
   "cell_type": "code",
   "execution_count": 25,
   "metadata": {},
   "outputs": [
    {
     "name": "stdout",
     "output_type": "stream",
     "text": [
      "[name: \"/device:CPU:0\"\n",
      "device_type: \"CPU\"\n",
      "memory_limit: 268435456\n",
      "locality {\n",
      "}\n",
      "incarnation: 10853442089015613686\n",
      ", name: \"/device:XLA_CPU:0\"\n",
      "device_type: \"XLA_CPU\"\n",
      "memory_limit: 17179869184\n",
      "locality {\n",
      "}\n",
      "incarnation: 3063938582832790606\n",
      "physical_device_desc: \"device: XLA_CPU device\"\n",
      ", name: \"/device:XLA_GPU:0\"\n",
      "device_type: \"XLA_GPU\"\n",
      "memory_limit: 17179869184\n",
      "locality {\n",
      "}\n",
      "incarnation: 12869274228310679607\n",
      "physical_device_desc: \"device: XLA_GPU device\"\n",
      ", name: \"/device:GPU:0\"\n",
      "device_type: \"GPU\"\n",
      "memory_limit: 2978611200\n",
      "locality {\n",
      "  bus_id: 1\n",
      "  links {\n",
      "  }\n",
      "}\n",
      "incarnation: 9743292397834550131\n",
      "physical_device_desc: \"device: 0, name: GeForce GTX 1050 Ti with Max-Q Design, pci bus id: 0000:01:00.0, compute capability: 6.1\"\n",
      "]\n"
     ]
    }
   ],
   "source": [
    "from tensorflow.python.client import device_lib \n",
    "print(device_lib.list_local_devices())"
   ]
  },
  {
   "cell_type": "markdown",
   "metadata": {},
   "source": [
    "---"
   ]
  },
  {
   "cell_type": "markdown",
   "metadata": {},
   "source": [
    "## Data"
   ]
  },
  {
   "cell_type": "code",
   "execution_count": 3,
   "metadata": {},
   "outputs": [],
   "source": [
    "n_samples = 5000"
   ]
  },
  {
   "cell_type": "code",
   "execution_count": 4,
   "metadata": {},
   "outputs": [
    {
     "name": "stdout",
     "output_type": "stream",
     "text": [
      "5000 projections of images with dimension (136, 136) pixels\n",
      "5000 sets of 3 ground truth angles of corresponding projection images\n"
     ]
    }
   ],
   "source": [
    "angle_ranges = \"2.0,0.4,2.0\"\n",
    "angle_shift = \"0.0,0.0,0.0\"\n",
    "projections_filename = f\"../data/bgal/bgal_ProjectionsAngles_ProjNber5000_AngCoverage{angle_ranges}_AngShift{angle_shift}.h5\"\n",
    "# load structures\n",
    "data = h5py.File(projections_filename, 'r')\n",
    "\n",
    "print(f\"{data['Projections'].shape[0]} projections of images with dimension {data['Projections'].shape[1:]} pixels\")\n",
    "print(f\"{data['Angles'].shape[0]} sets of {data['Angles'].shape[1]} ground truth angles of corresponding projection images\")"
   ]
  },
  {
   "cell_type": "code",
   "execution_count": 5,
   "metadata": {},
   "outputs": [
    {
     "data": {
      "application/vnd.jupyter.widget-view+json": {
       "model_id": "164eb6498a1344f69a9bc511497644ba",
       "version_major": 2,
       "version_minor": 0
      },
      "text/plain": [
       "VBox(children=(Figure(camera=PerspectiveCamera(fov=46.0, position=(0.0, 0.0, 2.0), quaternion=(0.0, 0.0, 0.0, …"
      ]
     },
     "metadata": {},
     "output_type": "display_data"
    }
   ],
   "source": [
    "# plot\n",
    "all_vectors = RotationMatrix(data[\"Angles\"])\n",
    "ipv.figure(width=500, height=500)\n",
    "ipv.pylab.xlim(-1, 1)\n",
    "ipv.pylab.ylim(-1, 1)\n",
    "ipv.pylab.zlim(-1, 1)\n",
    "ipv.scatter(all_vectors[:,0], all_vectors[:,2], all_vectors[:,1], marker=\"sphere\", color=\"blue\", size=1)\n",
    "ipv.pylab.save(f\"data/angle_variety/{angle_ranges}.html\")\n",
    "ipv.show()"
   ]
  },
  {
   "cell_type": "markdown",
   "metadata": {},
   "source": [
    "##### Angles"
   ]
  },
  {
   "cell_type": "markdown",
   "metadata": {},
   "source": [
    "###### Predicted Angles "
   ]
  },
  {
   "cell_type": "code",
   "execution_count": 6,
   "metadata": {},
   "outputs": [
    {
     "name": "stdout",
     "output_type": "stream",
     "text": [
      "(5000, 3)\n",
      "Angles predicted: (min, max) = (0.0002, 6.2828)\n"
     ]
    },
    {
     "data": {
      "text/plain": [
       "(5000,)"
      ]
     },
     "execution_count": 6,
     "metadata": {},
     "output_type": "execute_result"
    }
   ],
   "source": [
    "low_ang = [float(x)*np.pi for x in angle_shift.split(\",\")]\n",
    "high_ang = [float(x)*np.pi for x in angle_ranges.split(\",\")]\n",
    "\n",
    "euler = np.random.uniform(low=[low_ang[0], low_ang[1], low_ang[2]], \n",
    "                          high=[high_ang[0], high_ang[1], high_ang[2]],\n",
    "                          size=(n_samples, 3))\n",
    "\n",
    "angles_predicted = [tf.Variable(e) for e in euler]\n",
    "print(f\"Angles predicted: (min, max) = ({tf.reduce_min(angles_predicted):.4f}, {tf.reduce_max(angles_predicted):.4f})\")\n",
    "\n",
    "angles_predicted = np.array(angles_predicted)\n",
    "angles_predicted.shape"
   ]
  },
  {
   "cell_type": "code",
   "execution_count": 7,
   "metadata": {},
   "outputs": [
    {
     "data": {
      "image/png": "[encoded data removed]",
      "text/plain": [
       "<Figure size 1224x504 with 3 Axes>"
      ]
     },
     "metadata": {
      "needs_background": "light"
     },
     "output_type": "display_data"
    }
   ],
   "source": [
    "angles_predicted_plot = np.array([ np.array([(y%(2*np.pi)) for y in x.numpy()]) for x in angles_predicted])\n",
    "\n",
    "fig, axs = plt.subplots(1, 3, figsize=(17,7))\n",
    "axs[0].set_xlim(0,2*np.pi)\n",
    "axs[1].set_xlim(0,2*np.pi)\n",
    "axs[2].set_xlim(0,2*np.pi)\n",
    "plt.suptitle(\"Initialized Predicted Angles Count\")\n",
    "\n",
    "sns.distplot(angles_predicted_plot[:,0], kde=False, bins=40, ax=axs[0], axlabel=\"Z1 axis angle rotation [rad]\", color=\"r\")\n",
    "sns.distplot(angles_predicted_plot[:,1], kde=False, bins=40, ax=axs[1], axlabel=\"Y2 axis angle rotation [rad]\", color=\"g\")\n",
    "sns.distplot(angles_predicted_plot[:,2], kde=False, bins=40, ax=axs[2], axlabel=\"Z3 axis angle rotation [rad]\", color=\"b\");"
   ]
  },
  {
   "cell_type": "markdown",
   "metadata": {},
   "source": [
    "###### True Angles "
   ]
  },
  {
   "cell_type": "code",
   "execution_count": 8,
   "metadata": {
    "scrolled": false
   },
   "outputs": [
    {
     "name": "stdout",
     "output_type": "stream",
     "text": [
      "Angles true: (min, max) = (0.0000, 6.2812)\n"
     ]
    },
    {
     "data": {
      "text/plain": [
       "(5000, 3)"
      ]
     },
     "execution_count": 8,
     "metadata": {},
     "output_type": "execute_result"
    }
   ],
   "source": [
    "angles_true = np.reshape(data[\"Angles\"], (data[\"Angles\"].shape[0], -1))\n",
    "print(f\"Angles true: (min, max) = ({np.min(angles_true):.4f}, {np.max(angles_true):.4f})\")\n",
    "\n",
    "angles_true = np.array(angles_true)\n",
    "angles_true.shape"
   ]
  },
  {
   "cell_type": "code",
   "execution_count": 9,
   "metadata": {},
   "outputs": [
    {
     "data": {
      "image/png": "[encoded data removed]",
      "text/plain": [
       "<Figure size 1224x504 with 3 Axes>"
      ]
     },
     "metadata": {
      "needs_background": "light"
     },
     "output_type": "display_data"
    }
   ],
   "source": [
    "fig, axs = plt.subplots(1, 3, figsize=(17,7))\n",
    "axs[0].set_xlim(0,2*np.pi)\n",
    "axs[1].set_xlim(0,2*np.pi)\n",
    "axs[2].set_xlim(0,2*np.pi)\n",
    "plt.suptitle(\"True Angles Count\")\n",
    "\n",
    "sns.distplot(angles_true[:,0], kde=False, bins=40, ax=axs[0], axlabel=\"Z1 axis angle rotation [rad]\", color=\"r\")\n",
    "sns.distplot(angles_true[:,1], kde=False, bins=40, ax=axs[1], axlabel=\"Y2 axis angle rotation [rad]\", color=\"g\")\n",
    "sns.distplot(angles_true[:,2], kde=False, bins=40, ax=axs[2], axlabel=\"Z3 axis angle rotation [rad]\", color=\"b\");"
   ]
  },
  {
   "cell_type": "markdown",
   "metadata": {},
   "source": [
    "---"
   ]
  },
  {
   "cell_type": "markdown",
   "metadata": {},
   "source": [
    "## Distances"
   ]
  },
  {
   "cell_type": "markdown",
   "metadata": {},
   "source": [
    "##### Angle Distances"
   ]
  },
  {
   "cell_type": "code",
   "execution_count": 12,
   "metadata": {},
   "outputs": [],
   "source": [
    "def euler2quaternion(angles):\n",
    "    \"\"\"\n",
    "    Quaternion implements 3 rotations along x, y, z axis. \n",
    "    We compose them to get the final (single) rotation.\n",
    "    \"\"\"\n",
    "    with tf.compat.v1.name_scope(None, \"quaternion_from_euler\", [angles]):\n",
    "        #print(angles)\n",
    "        a = [angles[i] for i in range(len(angles))]\n",
    "\n",
    "        a = tf.convert_to_tensor(value=a)\n",
    "\n",
    "        shape.check_static(tensor=a, tensor_name=\"angles\", has_dim_equals=(-1, 3))\n",
    "\n",
    "        half_angles = a / 2.0\n",
    "        cos_half_angles = tf.cos(half_angles)\n",
    "        sin_half_angles = tf.sin(half_angles)\n",
    "        c1, c2, c3 = tf.unstack(cos_half_angles, axis=-1)\n",
    "        s1, s2, s3 = tf.unstack(sin_half_angles, axis=-1)\n",
    "        # Tait-Bryan angles\n",
    "        #w = c1 * c2 * c3 + s1 * s2 * s3\n",
    "        #x = -c1 * s2 * s3 + s1 * c2 * c3\n",
    "        #y = c1 * s2 * c3 + s1 * c2 * s3\n",
    "        #z = -s1 * s2 * c3 + c1 * c2 * s3\n",
    "        \n",
    "        # Euler angles\n",
    "        w = c1*c2*c3 - s1*c2*s3\n",
    "        x = c1*s2*s3 - s1*s2*c3\n",
    "        y = c1*s2*c3 + s1*s2*s3\n",
    "        z = c1*c2*s3 + s1*c2*c3\n",
    "        return tf.stack((x, y, z, w), axis=-1)\n",
    "\n",
    "def d_q(q1, q2):\n",
    "     with (tf.compat.v1.name_scope(None, \"quaternion_relative_angle\",[q1, q2])):\n",
    "        q1 = tf.convert_to_tensor(value=q1)\n",
    "        q2 = tf.convert_to_tensor(value=q2)\n",
    "      \n",
    "        shape.check_static(\n",
    "            tensor=q1, tensor_name=\"quaternion1\", has_dim_equals=(-1, 4))\n",
    "        shape.check_static(\n",
    "            tensor=q2, tensor_name=\"quaternion2\", has_dim_equals=(-1, 4))\n",
    "\n",
    "        q1 = quaternion.normalize(q1)\n",
    "        q2 = quaternion.normalize(q2)\n",
    "        \n",
    "        dot_product = vector.dot(q1, q2, keepdims=False)\n",
    "        \n",
    "        # Ensure dot product is in range [-1. 1].\n",
    "        const = 1.8 #4.0 #.63\n",
    "        eps_dot_prod = const * asserts.select_eps_for_addition(dot_product.dtype)\n",
    "        dot_product = safe_ops.safe_shrink(\n",
    "            dot_product, -1, 1, open_bounds=False, eps=eps_dot_prod)\n",
    "\n",
    "        return 2.0 * tf.acos(tf.abs(dot_product)) "
   ]
  },
  {
   "cell_type": "code",
   "execution_count": 13,
   "metadata": {
    "scrolled": false
   },
   "outputs": [],
   "source": [
    "assert tf.reduce_mean(d_q(euler2quaternion(angles_true[:,0:5]), euler2quaternion(angles_true[:,0:5]))) < 1e-7"
   ]
  },
  {
   "cell_type": "code",
   "execution_count": 14,
   "metadata": {},
   "outputs": [],
   "source": [
    "assert tf.reduce_mean(d_q(euler2quaternion(angles_predicted[0:4]), euler2quaternion(angles_predicted[0:4]))) < 1e-7"
   ]
  },
  {
   "cell_type": "code",
   "execution_count": 15,
   "metadata": {},
   "outputs": [],
   "source": [
    "assert (d_q(euler2quaternion([np.pi/2]*3), euler2quaternion([2*np.pi-np.pi/2]*3))-np.pi) < 1e-7"
   ]
  },
  {
   "cell_type": "markdown",
   "metadata": {},
   "source": [
    "---"
   ]
  },
  {
   "cell_type": "markdown",
   "metadata": {},
   "source": [
    "## Loss and gradient"
   ]
  },
  {
   "cell_type": "markdown",
   "metadata": {},
   "source": [
    "Our goal is to then optimize\n",
    "$$ \\operatorname*{arg\\,min}_{\\{\\hat{Q}_i\\}_{i=1}^n} \\sum_{i,j} \\left| d_p(p_i, p_j) - d_Q(\\hat{Q}_i, \\hat{Q}_j) \\right|^2, $$\n",
    "where $p_i$ is a projected image and $d_p$ is a (learned) distance between two images."
   ]
  },
  {
   "cell_type": "code",
   "execution_count": 18,
   "metadata": {},
   "outputs": [],
   "source": [
    "def loss(a1_predicted, a2_predicted, distance_target):\n",
    "    q1_predicted = euler2quaternion(a1_predicted)\n",
    "    q2_predicted = euler2quaternion(a2_predicted)\n",
    "\n",
    "    distance = d_q(q1_predicted, q2_predicted)\n",
    "    \n",
    "    # The mean doesn't depend on the batch size.\n",
    "    error = distance - distance_target\n",
    "    return tf.reduce_mean(tf.square(error))"
   ]
  },
  {
   "cell_type": "code",
   "execution_count": 19,
   "metadata": {},
   "outputs": [],
   "source": [
    "def gradient(a1_predicted, a2_predicted, distance_target):\n",
    "    with tf.GradientTape() as tape:\n",
    "        loss_value = loss(a1_predicted, a2_predicted, distance_target)\n",
    "        gradient = tape.gradient(loss_value, a1_predicted + a2_predicted)\n",
    "        \n",
    "    return loss_value, gradient"
   ]
  },
  {
   "cell_type": "markdown",
   "metadata": {},
   "source": [
    "---"
   ]
  },
  {
   "cell_type": "markdown",
   "metadata": {},
   "source": [
    "## Optimization loop (angles-true & angles-predict)"
   ]
  },
  {
   "cell_type": "code",
   "execution_count": 20,
   "metadata": {},
   "outputs": [
    {
     "data": {
      "image/png": "[encoded data removed]",
      "text/plain": [
       "<Figure size 1224x504 with 3 Axes>"
      ]
     },
     "metadata": {
      "needs_background": "light"
     },
     "output_type": "display_data"
    }
   ],
   "source": [
    "angles_predicted_plot = np.array([ np.array([(y%(2*np.pi)) for y in x.numpy()]) for x in angles_predicted])\n",
    "\n",
    "\n",
    "fig, axs = plt.subplots(1, 3, figsize=(17,7))\n",
    "axs[0].set_xlim(0,2*np.pi)\n",
    "axs[1].set_xlim(0,2*np.pi)\n",
    "axs[2].set_xlim(0,2*np.pi)\n",
    "plt.suptitle(\"Predicted Angles Count\")\n",
    "\n",
    "sns.distplot(angles_predicted_plot[:,0], kde=False, bins=20, ax=axs[0], axlabel=\"Z1 axis angle rotation [rad]\", color=\"r\")\n",
    "sns.distplot(angles_predicted_plot[:,1], kde=False, bins=20, ax=axs[1], axlabel=\"Y2 axis angle rotation [rad]\", color=\"g\")\n",
    "sns.distplot(angles_predicted_plot[:,2], kde=False, bins=80, ax=axs[2], axlabel=\"Z3 axis angle rotation [rad]\", color=\"b\");"
   ]
  },
  {
   "cell_type": "code",
   "execution_count": 21,
   "metadata": {
    "scrolled": false
   },
   "outputs": [
    {
     "name": "stdout",
     "output_type": "stream",
     "text": [
      "step 10000/100000 (1022s): loss = 8.52e-02\n",
      "step 20000/100000 (2006s): loss = 6.63e-02\n",
      "step 30000/100000 (2992s): loss = 6.58e-02\n",
      "step 40000/100000 (3976s): loss = 5.48e-02\n",
      "step 50000/100000 (4944s): loss = 2.10e-02\n",
      "step 60000/100000 (5872s): loss = 2.32e-03\n",
      "step 70000/100000 (6790s): loss = 1.05e-03\n",
      "step 80000/100000 (7705s): loss = 5.34e-04\n",
      "step 90000/100000 (8620s): loss = 4.14e-04\n",
      "step 100000/100000 (9536s): loss = 5.23e-04\n"
     ]
    },
    {
     "data": {
      "image/png": "[encoded data removed]",
      "text/plain": [
       "<Figure size 1080x720 with 1 Axes>"
      ]
     },
     "metadata": {
      "needs_background": "light"
     },
     "output_type": "display_data"
    }
   ],
   "source": [
    "steps=100000\n",
    "batch_size=256\n",
    "\n",
    "#optimizer = tf.keras.optimizers.SGD(learning_rate=0.01)\n",
    "optimizer = tf.keras.optimizers.Adam(learning_rate=0.01)\n",
    "\n",
    "losses = np.empty(steps)\n",
    "time_start = time()\n",
    "\n",
    "for step in range(1, steps+1):\n",
    "\n",
    "    # Sample some pairs.\n",
    "    idx1 = list(np.random.randint(0, n_samples, batch_size))\n",
    "    idx2 = list(np.random.randint(0, n_samples, batch_size))\n",
    "    a1 = [angles_predicted[i] for i in idx1]\n",
    "    a2 = [angles_predicted[i] for i in idx2]\n",
    "\n",
    "    # Compute distances between projections\n",
    "    a1_true = [angles_true[i] for i in idx1]\n",
    "    a2_true = [angles_true[i] for i in idx2]\n",
    "    q1_true = euler2quaternion(a1_true)\n",
    "    q2_true = euler2quaternion(a2_true)\n",
    "    \n",
    "    distance_target = d_q(q1_true,q2_true)   \n",
    "\n",
    "    # Optimize by gradient descent.\n",
    "    losses[step-1], gradients = gradient(a1, a2, distance_target)\n",
    "    optimizer.apply_gradients(zip(gradients, a1 + a2))\n",
    "\n",
    "    # Periodically report progress.\n",
    "    if ((step % (steps//10)) == 0) or (step == steps):\n",
    "        time_elapsed = time() - time_start\n",
    "        print(f'step {step}/{steps} ({time_elapsed:.0f}s): loss = {losses[step-1]:.2e}')\n",
    "\n",
    "# Plot convergence.\n",
    "plt.figure(figsize=(15,10))\n",
    "plt.plot(np.linspace(0, time()-time_start, steps), losses)\n",
    "plt.xlabel('time [s]')\n",
    "plt.ylabel('loss');"
   ]
  },
  {
   "cell_type": "code",
   "execution_count": 24,
   "metadata": {},
   "outputs": [
    {
     "data": {
      "image/png": "[encoded data removed]",
      "text/plain": [
       "<Figure size 1224x504 with 3 Axes>"
      ]
     },
     "metadata": {
      "needs_background": "light"
     },
     "output_type": "display_data"
    }
   ],
   "source": [
    "angles_predicted_plot = np.array([ np.array([(y%(2*np.pi)) for y in x.numpy()]) for x in angles_predicted])\n",
    "\n",
    "fig, axs = plt.subplots(1, 3, figsize=(17,7))\n",
    "axs[0].set_xlim(0,2*np.pi)\n",
    "axs[1].set_xlim(0,2*np.pi)\n",
    "axs[2].set_xlim(0,2*np.pi)\n",
    "plt.suptitle(\"Predicted Angles Count\")\n",
    "\n",
    "sns.distplot(angles_predicted_plot[:,0], kde=False, bins=60, ax=axs[0], axlabel=\"Z1 axis angle rotation [rad]\", color=\"r\")\n",
    "sns.distplot(angles_predicted_plot[:,1], kde=False, bins=40, ax=axs[1], axlabel=\"Y2 axis angle rotation [rad]\", color=\"g\")\n",
    "sns.distplot(angles_predicted_plot[:,2], kde=False, bins=60, ax=axs[2], axlabel=\"Z3 axis angle rotation [rad]\", color=\"b\");"
   ]
  },
  {
   "cell_type": "code",
   "execution_count": 23,
   "metadata": {},
   "outputs": [
    {
     "data": {
      "application/vnd.jupyter.widget-view+json": {
       "model_id": "34e4662c21134d51b478666b7f49eb4c",
       "version_major": 2,
       "version_minor": 0
      },
      "text/plain": [
       "VBox(children=(Figure(camera=PerspectiveCamera(fov=46.0, position=(0.0, 0.0, 2.0), quaternion=(0.0, 0.0, 0.0, …"
      ]
     },
     "metadata": {},
     "output_type": "display_data"
    }
   ],
   "source": [
    "# plot\n",
    "all_vectors = RotationMatrix(angles_predicted_plot)\n",
    "ipv.figure(width=500, height=500)\n",
    "ipv.pylab.xlim(-1, 1)\n",
    "ipv.pylab.ylim(-1, 1)\n",
    "ipv.pylab.zlim(-1, 1)\n",
    "ipv.scatter(all_vectors[:,0], all_vectors[:,2], all_vectors[:,1], marker=\"sphere\", color=\"blue\", size=1)\n",
    "ipv.pylab.save(f\"data/angle_variety/{angle_ranges}.html\")\n",
    "ipv.show()"
   ]
  }
 ],
 "metadata": {
  "kernelspec": {
   "display_name": "Python 3",
   "language": "python",
   "name": "python3"
  },
  "language_info": {
   "codemirror_mode": {
    "name": "ipython",
    "version": 3
   },
   "file_extension": ".py",
   "mimetype": "text/x-python",
   "name": "python",
   "nbconvert_exporter": "python",
   "pygments_lexer": "ipython3",
   "version": "3.6.9"
  }
 },
 "nbformat": 4,
 "nbformat_minor": 4
}
